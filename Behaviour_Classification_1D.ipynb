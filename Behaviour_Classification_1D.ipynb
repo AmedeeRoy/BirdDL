{
  "nbformat": 4,
  "nbformat_minor": 0,
  "metadata": {
    "kernelspec": {
      "display_name": "Python 3",
      "language": "python",
      "name": "python3"
    },
    "language_info": {
      "codemirror_mode": {
        "name": "ipython",
        "version": 3
      },
      "file_extension": ".py",
      "mimetype": "text/x-python",
      "name": "python",
      "nbconvert_exporter": "python",
      "pygments_lexer": "ipython3",
      "version": "3.7.4"
    },
    "colab": {
      "name": "Behaviour Classification - 1D.ipynb",
      "provenance": [],
      "collapsed_sections": [],
      "include_colab_link": true
    }
  },
  "cells": [
    {
      "cell_type": "markdown",
      "metadata": {
        "id": "view-in-github",
        "colab_type": "text"
      },
      "source": [
        "<a href=\"https://colab.research.google.com/github/AmedeeRoy/BirdDL/blob/main/Behaviour_Classification_1D.ipynb\" target=\"_parent\"><img src=\"https://colab.research.google.com/assets/colab-badge.svg\" alt=\"Open In Colab\"/></a>"
      ]
    },
    {
      "cell_type": "markdown",
      "metadata": {
        "id": "ytOfuyEx_wGE"
      },
      "source": [
        "# Predicting Seabird Diving Behaviour with GPS data\n",
        "\n",
        "\n",
        "Auto Encoder with Deep Networks\n"
      ]
    },
    {
      "cell_type": "markdown",
      "metadata": {
        "id": "dP71C_cI_wGG"
      },
      "source": [
        "## Data Formatting"
      ]
    },
    {
      "cell_type": "code",
      "metadata": {
        "id": "ytRSa0MP_wGI"
      },
      "source": [
        "import sqlite3\n",
        "import pandas as pd\n",
        "import numpy as np\n",
        "import matplotlib.pyplot as plt\n",
        "import IPython\n",
        "import random\n",
        "import pickle\n",
        "import datetime"
      ],
      "execution_count": 1,
      "outputs": []
    },
    {
      "cell_type": "code",
      "metadata": {
        "id": "1zZZlE-z_0o2",
        "outputId": "d5ad6859-6f81-4423-9035-6727aa4049b6",
        "colab": {
          "base_uri": "https://localhost:8080/",
          "height": 35
        }
      },
      "source": [
        "# mount google drive\n",
        "from google.colab import drive\n",
        "drive.mount(\"/content/drive/\")"
      ],
      "execution_count": 2,
      "outputs": [
        {
          "output_type": "stream",
          "text": [
            "Drive already mounted at /content/drive/; to attempt to forcibly remount, call drive.mount(\"/content/drive/\", force_remount=True).\n"
          ],
          "name": "stdout"
        }
      ]
    },
    {
      "cell_type": "code",
      "metadata": {
        "id": "uyq0A782_wGj"
      },
      "source": [
        "# connect to database\n",
        "conn = sqlite3.connect('/content/drive/My Drive/data/seabirdbank.db')"
      ],
      "execution_count": 3,
      "outputs": []
    },
    {
      "cell_type": "code",
      "metadata": {
        "id": "SqKVMybI_wGx",
        "outputId": "63ca706b-6649-4668-b498-f6bf807922d0",
        "colab": {
          "base_uri": "https://localhost:8080/",
          "height": 35
        }
      },
      "source": [
        "request = \"SELECT DISTINCT lon, lat FROM fieldwork WHERE place='Pescadores'\"\n",
        "colony = pd.read_sql_query(request, conn)\n",
        "colony = colony.values\n",
        "colony"
      ],
      "execution_count": 4,
      "outputs": [
        {
          "output_type": "execute_result",
          "data": {
            "text/plain": [
              "array([[-77.264, -11.773]])"
            ]
          },
          "metadata": {
            "tags": []
          },
          "execution_count": 4
        }
      ]
    },
    {
      "cell_type": "code",
      "metadata": {
        "id": "JoTLiQQw_wG6",
        "outputId": "1f8499c5-1905-47ea-81c7-88c13c0fbade",
        "colab": {
          "base_uri": "https://localhost:8080/",
          "height": 424
        }
      },
      "source": [
        "request = \"SELECT \\\n",
        "            trip.id as trip, gps.datetime, gps.lon, gps.lat\\\n",
        "            FROM gps \\\n",
        "            INNER JOIN trip ON gps.trip = trip.id \\\n",
        "            INNER JOIN bird ON trip.bird = bird.id \\\n",
        "            WHERE trip.file_gps IS NOT NULL \\\n",
        "            AND substr(bird.fieldwork,1,1) = 'P' \\\n",
        "            AND bird.species = 'SV'\"\n",
        "\n",
        "# substr(bird.fieldwork,1,1) = 'P'\n",
        "\n",
        "gps = pd.read_sql_query(request, conn)\n",
        "gps"
      ],
      "execution_count": 5,
      "outputs": [
        {
          "output_type": "execute_result",
          "data": {
            "text/html": [
              "<div>\n",
              "<style scoped>\n",
              "    .dataframe tbody tr th:only-of-type {\n",
              "        vertical-align: middle;\n",
              "    }\n",
              "\n",
              "    .dataframe tbody tr th {\n",
              "        vertical-align: top;\n",
              "    }\n",
              "\n",
              "    .dataframe thead th {\n",
              "        text-align: right;\n",
              "    }\n",
              "</style>\n",
              "<table border=\"1\" class=\"dataframe\">\n",
              "  <thead>\n",
              "    <tr style=\"text-align: right;\">\n",
              "      <th></th>\n",
              "      <th>trip</th>\n",
              "      <th>datetime</th>\n",
              "      <th>lon</th>\n",
              "      <th>lat</th>\n",
              "    </tr>\n",
              "  </thead>\n",
              "  <tbody>\n",
              "    <tr>\n",
              "      <th>0</th>\n",
              "      <td>P1108_1_SV_T1</td>\n",
              "      <td>2008-11-23 12:53:38</td>\n",
              "      <td>-77.265178</td>\n",
              "      <td>-11.775134</td>\n",
              "    </tr>\n",
              "    <tr>\n",
              "      <th>1</th>\n",
              "      <td>P1108_1_SV_T1</td>\n",
              "      <td>2008-11-23 12:53:39</td>\n",
              "      <td>-77.265222</td>\n",
              "      <td>-11.775064</td>\n",
              "    </tr>\n",
              "    <tr>\n",
              "      <th>2</th>\n",
              "      <td>P1108_1_SV_T1</td>\n",
              "      <td>2008-11-23 12:53:40</td>\n",
              "      <td>-77.265312</td>\n",
              "      <td>-11.774998</td>\n",
              "    </tr>\n",
              "    <tr>\n",
              "      <th>3</th>\n",
              "      <td>P1108_1_SV_T1</td>\n",
              "      <td>2008-11-23 12:53:41</td>\n",
              "      <td>-77.265384</td>\n",
              "      <td>-11.774966</td>\n",
              "    </tr>\n",
              "    <tr>\n",
              "      <th>4</th>\n",
              "      <td>P1108_1_SV_T1</td>\n",
              "      <td>2008-11-23 12:53:42</td>\n",
              "      <td>-77.265506</td>\n",
              "      <td>-11.774930</td>\n",
              "    </tr>\n",
              "    <tr>\n",
              "      <th>...</th>\n",
              "      <td>...</td>\n",
              "      <td>...</td>\n",
              "      <td>...</td>\n",
              "      <td>...</td>\n",
              "    </tr>\n",
              "    <tr>\n",
              "      <th>2130760</th>\n",
              "      <td>P1115_25_SV_T1</td>\n",
              "      <td>2015-11-28 20:26:40</td>\n",
              "      <td>-77.258705</td>\n",
              "      <td>-11.770595</td>\n",
              "    </tr>\n",
              "    <tr>\n",
              "      <th>2130761</th>\n",
              "      <td>P1115_25_SV_T1</td>\n",
              "      <td>2015-11-28 20:26:41</td>\n",
              "      <td>-77.258766</td>\n",
              "      <td>-11.770683</td>\n",
              "    </tr>\n",
              "    <tr>\n",
              "      <th>2130762</th>\n",
              "      <td>P1115_25_SV_T1</td>\n",
              "      <td>2015-11-28 20:26:42</td>\n",
              "      <td>-77.258850</td>\n",
              "      <td>-11.770755</td>\n",
              "    </tr>\n",
              "    <tr>\n",
              "      <th>2130763</th>\n",
              "      <td>P1115_25_SV_T1</td>\n",
              "      <td>2015-11-28 20:26:43</td>\n",
              "      <td>-77.258934</td>\n",
              "      <td>-11.770796</td>\n",
              "    </tr>\n",
              "    <tr>\n",
              "      <th>2130764</th>\n",
              "      <td>P1115_25_SV_T1</td>\n",
              "      <td>2015-11-28 20:26:44</td>\n",
              "      <td>-77.258995</td>\n",
              "      <td>-11.770815</td>\n",
              "    </tr>\n",
              "  </tbody>\n",
              "</table>\n",
              "<p>2130765 rows × 4 columns</p>\n",
              "</div>"
            ],
            "text/plain": [
              "                   trip             datetime        lon        lat\n",
              "0         P1108_1_SV_T1  2008-11-23 12:53:38 -77.265178 -11.775134\n",
              "1         P1108_1_SV_T1  2008-11-23 12:53:39 -77.265222 -11.775064\n",
              "2         P1108_1_SV_T1  2008-11-23 12:53:40 -77.265312 -11.774998\n",
              "3         P1108_1_SV_T1  2008-11-23 12:53:41 -77.265384 -11.774966\n",
              "4         P1108_1_SV_T1  2008-11-23 12:53:42 -77.265506 -11.774930\n",
              "...                 ...                  ...        ...        ...\n",
              "2130760  P1115_25_SV_T1  2015-11-28 20:26:40 -77.258705 -11.770595\n",
              "2130761  P1115_25_SV_T1  2015-11-28 20:26:41 -77.258766 -11.770683\n",
              "2130762  P1115_25_SV_T1  2015-11-28 20:26:42 -77.258850 -11.770755\n",
              "2130763  P1115_25_SV_T1  2015-11-28 20:26:43 -77.258934 -11.770796\n",
              "2130764  P1115_25_SV_T1  2015-11-28 20:26:44 -77.258995 -11.770815\n",
              "\n",
              "[2130765 rows x 4 columns]"
            ]
          },
          "metadata": {
            "tags": []
          },
          "execution_count": 5
        }
      ]
    },
    {
      "cell_type": "code",
      "metadata": {
        "id": "ltOP5kmO_wHF"
      },
      "source": [
        "# check duplicated datetime in GPS trip\n",
        "idx = gps.index[gps.loc[:, 'trip':'datetime'].duplicated(keep=False)]\n",
        "idx_drop = [idx[i] for i in range(0, len(idx), 2)]\n",
        "gps = gps.drop(idx_drop)"
      ],
      "execution_count": 6,
      "outputs": []
    },
    {
      "cell_type": "code",
      "metadata": {
        "scrolled": true,
        "id": "2NzlEoEu_wHV",
        "outputId": "f30a287c-c70a-445f-b84a-6aee492dc7a2",
        "colab": {
          "base_uri": "https://localhost:8080/",
          "height": 112
        }
      },
      "source": [
        "gps[gps.loc[:, 'trip':'datetime'].duplicated(keep=False)]"
      ],
      "execution_count": 7,
      "outputs": [
        {
          "output_type": "execute_result",
          "data": {
            "text/html": [
              "<div>\n",
              "<style scoped>\n",
              "    .dataframe tbody tr th:only-of-type {\n",
              "        vertical-align: middle;\n",
              "    }\n",
              "\n",
              "    .dataframe tbody tr th {\n",
              "        vertical-align: top;\n",
              "    }\n",
              "\n",
              "    .dataframe thead th {\n",
              "        text-align: right;\n",
              "    }\n",
              "</style>\n",
              "<table border=\"1\" class=\"dataframe\">\n",
              "  <thead>\n",
              "    <tr style=\"text-align: right;\">\n",
              "      <th></th>\n",
              "      <th>trip</th>\n",
              "      <th>datetime</th>\n",
              "      <th>lon</th>\n",
              "      <th>lat</th>\n",
              "    </tr>\n",
              "  </thead>\n",
              "  <tbody>\n",
              "    <tr>\n",
              "      <th>717806</th>\n",
              "      <td>P1110_54_SV_T5</td>\n",
              "      <td>2010-12-05 17:24:55</td>\n",
              "      <td>-77.387550</td>\n",
              "      <td>-11.448993</td>\n",
              "    </tr>\n",
              "    <tr>\n",
              "      <th>717808</th>\n",
              "      <td>P1110_54_SV_T5</td>\n",
              "      <td>2010-12-05 17:24:55</td>\n",
              "      <td>-77.387503</td>\n",
              "      <td>-11.448995</td>\n",
              "    </tr>\n",
              "  </tbody>\n",
              "</table>\n",
              "</div>"
            ],
            "text/plain": [
              "                  trip             datetime        lon        lat\n",
              "717806  P1110_54_SV_T5  2010-12-05 17:24:55 -77.387550 -11.448993\n",
              "717808  P1110_54_SV_T5  2010-12-05 17:24:55 -77.387503 -11.448995"
            ]
          },
          "metadata": {
            "tags": []
          },
          "execution_count": 7
        }
      ]
    },
    {
      "cell_type": "code",
      "metadata": {
        "id": "svEUbcCw_wHd"
      },
      "source": [
        "# check duplicated datetime in GPS trip\n",
        "idx = gps.index[gps.loc[:, 'trip':'datetime'].duplicated(keep=False)]\n",
        "idx_drop = [idx[i] for i in range(0, len(idx), 2)]\n",
        "gps = gps.drop(idx_drop)"
      ],
      "execution_count": 8,
      "outputs": []
    },
    {
      "cell_type": "code",
      "metadata": {
        "id": "KElOEu1t_wHi",
        "outputId": "10b04003-2b9f-401d-dcf4-1695a4672dcf",
        "colab": {
          "base_uri": "https://localhost:8080/",
          "height": 49
        }
      },
      "source": [
        "gps[gps.loc[:, 'trip':'datetime'].duplicated(keep=False)]"
      ],
      "execution_count": 9,
      "outputs": [
        {
          "output_type": "execute_result",
          "data": {
            "text/html": [
              "<div>\n",
              "<style scoped>\n",
              "    .dataframe tbody tr th:only-of-type {\n",
              "        vertical-align: middle;\n",
              "    }\n",
              "\n",
              "    .dataframe tbody tr th {\n",
              "        vertical-align: top;\n",
              "    }\n",
              "\n",
              "    .dataframe thead th {\n",
              "        text-align: right;\n",
              "    }\n",
              "</style>\n",
              "<table border=\"1\" class=\"dataframe\">\n",
              "  <thead>\n",
              "    <tr style=\"text-align: right;\">\n",
              "      <th></th>\n",
              "      <th>trip</th>\n",
              "      <th>datetime</th>\n",
              "      <th>lon</th>\n",
              "      <th>lat</th>\n",
              "    </tr>\n",
              "  </thead>\n",
              "  <tbody>\n",
              "  </tbody>\n",
              "</table>\n",
              "</div>"
            ],
            "text/plain": [
              "Empty DataFrame\n",
              "Columns: [trip, datetime, lon, lat]\n",
              "Index: []"
            ]
          },
          "metadata": {
            "tags": []
          },
          "execution_count": 9
        }
      ]
    },
    {
      "cell_type": "code",
      "metadata": {
        "id": "L_WQL7Mb_wHn"
      },
      "source": [
        "gps['datetime'] = pd.to_datetime(gps['datetime'], format='%Y-%m-%d %H:%M:%S')"
      ],
      "execution_count": 10,
      "outputs": []
    },
    {
      "cell_type": "code",
      "metadata": {
        "id": "WPqXkjwq_wHs"
      },
      "source": [
        "# check NaN and fill with interpolations\n",
        "[i for i, x in enumerate(gps['lon'].isna()) if x]\n",
        "\n",
        "\n",
        "gps['lon'] = gps['lon'].interpolate(method='polynomial', order=2)\n",
        "gps['lat'] = gps['lat'].interpolate(method='polynomial', order=2)"
      ],
      "execution_count": 11,
      "outputs": []
    },
    {
      "cell_type": "code",
      "metadata": {
        "id": "cuzJHYBh_wH5",
        "outputId": "a09f7861-0fdc-4e2f-fb65-606f093b7d27",
        "colab": {
          "base_uri": "https://localhost:8080/",
          "height": 35
        }
      },
      "source": [
        "len(gps.trip.unique())"
      ],
      "execution_count": 12,
      "outputs": [
        {
          "output_type": "execute_result",
          "data": {
            "text/plain": [
              "560"
            ]
          },
          "metadata": {
            "tags": []
          },
          "execution_count": 12
        }
      ]
    },
    {
      "cell_type": "code",
      "metadata": {
        "id": "xu3i6Ejj_wIG"
      },
      "source": [
        "def dist_ortho(lon1, lat1, lon2, lat2):\n",
        "    R = 6377726\n",
        "    pi = np.pi\n",
        "    a = np.sin((lat1 - lat2)/2*pi/180)**2\n",
        "    b = np.cos(lat1*pi/180)*np.cos(lat2*pi/180)\n",
        "    c = np.sin((lon1- lon2)/2* pi/180)**2\n",
        "    \n",
        "    dist = R * 2* np.arcsin( np.sqrt(a + b*c))\n",
        "    return dist\n",
        "\n",
        "def cap(lon1, lat1, lon2, lat2):\n",
        "    pi = np.pi\n",
        "    \n",
        "    # to radians\n",
        "    lat1 = lat1*pi/180\n",
        "    lat2 = lat2*pi/180\n",
        "    lon1 = lon1*pi/180\n",
        "    lon2 = lon2*pi/180\n",
        "    \n",
        "    delta_lon = lon2-lon1\n",
        "    \n",
        "    a = np.cos(lat1) * np.sin(lat2) - np.sin(lat1)*np.cos(lat2)*np.cos(delta_lon)\n",
        "    b = np.sin(delta_lon) * np.cos(lat2)\n",
        "    \n",
        "    cap = np.arctan2(b , a)\n",
        "    cap = cap%(2*pi)\n",
        "    \n",
        "    return cap*180/pi\n",
        "\n",
        "class Trip:\n",
        "    def __init__(self, df):\n",
        "        \n",
        "        self.df = df.set_index(np.arange(len(df)))  \n",
        "        \n",
        "        # matrix of distance\n",
        "#         self.dist_matrix = np.zeros((len(self.df), len(self.df)))\n",
        "    \n",
        "    ### GENERAL STATISTICS ### -----------------------------------------------\n",
        "    \n",
        "    def get_duration(self):\n",
        "        return max(self.df.datetime) - min(self.df.datetime)\n",
        "    \n",
        "    def get_distance(self):\n",
        "        return sum(self.get_step())/1e3\n",
        "    \n",
        "    ### STEP-ANGLE PAIRS ### -----------------------------------------------\n",
        "    \n",
        "    def get_step(self):\n",
        "        n = len(self.df)\n",
        "        step = dist_ortho( self.df.lon.values[0:(n-1)], self.df.lat.values[0:(n-1)], self.df.lon.values[1:n], self.df.lat.values[1:n])\n",
        "        return step\n",
        "    \n",
        "    def add_step(self):\n",
        "        self.df['step'] = np.append(np.nan, self.get_step())\n",
        "        \n",
        "    def get_cap(self):\n",
        "        n = len(self.df)\n",
        "        c = cap( self.df.lon.values[0:(n-1)], self.df.lat.values[0:(n-1)], self.df.lon.values[1:n], self.df.lat.values[1:n])\n",
        "        return c\n",
        "    \n",
        "    def add_cap(self):\n",
        "        self.df['cap'] = np.append(np.nan, self.get_cap())\n",
        " \n",
        "    def get_direction(self):\n",
        "        direction = [d%360 - 360 if d%360 > 180 else d%360 for d in np.diff(self.get_cap())]\n",
        "        return np.array(direction)\n",
        "    \n",
        "    def add_direction(self):\n",
        "        a = np.empty(2)\n",
        "        a.fill(np.nan)\n",
        "        self.df['direction'] = np.append(a, self.get_direction())\n",
        "      \n",
        "    def plot(self):\n",
        "                \n",
        "        plt.figure(figsize=(12, 3))\n",
        "\n",
        "        plt.subplot(1, 2, 1)\n",
        "        plt.plot(self.df.lon.values, self.df.lat.values)\n",
        "        \n",
        "        plt.subplot(1, 2, 2)\n",
        "        plt.scatter(self.df.direction, self.df.step, alpha = 0.3)\n",
        "        \n",
        "    \n",
        "    ### AREA RESTRICTED RESEARCH ### -----------------------------------------------\n",
        "    \n",
        "    def compute_dist_matrix(self, verbose=True):\n",
        "        for i in range(len(self.df)):\n",
        "            lon1 = self.df.lon[[i for j in range(len(self.df))]]\n",
        "            lat1 = self.df.lat[[i for j in range(len(self.df))]]\n",
        "            lon2 = self.df.lon[[j for j in range(len(self.df))]]\n",
        "            lat2 = self.df.lat[[j for j in range(len(self.df))]]\n",
        "\n",
        "            self.dist_matrix[i, :] = dist_ortho(lon1.values, lat1.values, lon2.values, lat2.values)\n",
        "            \n",
        "            if verbose:\n",
        "                IPython.display.clear_output(wait=True)\n",
        "                print('Distance [{}/{}]'.format(i, len(self.df)))\n",
        "                \n",
        "    \n",
        "    def residence_time(self, radius):\n",
        "        residence_matrix = self.dist_matrix < radius\n",
        "        residence = [sum(residence_matrix[:,i]) for i in range(len(self.df))]\n",
        "        \n",
        "        return residence\n",
        "    \n",
        "    def first_time_passage(self, radius):\n",
        "        first_passage = np.zeros(len(t.df))\n",
        "        residence_matrix = self.dist_matrix < radius\n",
        "        \n",
        "        for i in range(len(self.df)):\n",
        "\n",
        "            idx = np.where(residence_matrix[:,i])[0]\n",
        "            delta = np.diff(idx)\n",
        "            \n",
        "            # get index start\n",
        "            i_start = i\n",
        "            while i_start in idx:\n",
        "                i_start -=1\n",
        "            \n",
        "            # get index end\n",
        "            i_end = i\n",
        "            while i_end in idx:\n",
        "                i_end +=1\n",
        "                \n",
        "            # get number of point\n",
        "            first_passage[i] = i_end-i_start+1\n",
        "            \n",
        "        return first_passage\n",
        "    ### -----------------------------------------------"
      ],
      "execution_count": 13,
      "outputs": []
    },
    {
      "cell_type": "code",
      "metadata": {
        "id": "XqBKMUFK_wIO"
      },
      "source": [
        "# path_folder = \"./trajectory_all/\"\n",
        "\n",
        "# for t in gps.trip.unique():\n",
        "    \n",
        "#     path_file = path_folder + t\n",
        "#     df_trip = gps[gps.trip == t]\n",
        "    \n",
        "#     t = Trip(df_trip)\n",
        "#     t.add_step()\n",
        "#     t.add_direction()\n",
        "    \n",
        "#     t.plot()\n",
        "#     plt.savefig(path_file)\n",
        "#     plt.close()"
      ],
      "execution_count": 14,
      "outputs": []
    },
    {
      "cell_type": "code",
      "metadata": {
        "id": "PMCPPjd0_wIT"
      },
      "source": [
        "bad_trip = ['P1108_2_SV_T3', 'P1108_14_SV_T1', 'P1108_14_SV_T3',\n",
        "            'P1108_19_SV_T1', 'P1108_19_SV_T2', 'P1108_24_SV_T2',\n",
        "            'P1108_24_SV_T4', 'P1108_33_SV_T3', 'P1108_38_SV_T5',\n",
        "            'P1108_39_SV_T2', 'P1108_41_SV_T3', 'P1108_41_SV_T4',\n",
        "            'P1109_9_SV_T2', 'P1109_16_SV_T5', 'P1110_24_SV_T1',\n",
        "            'P1110_24_SV_T2', 'P1110_43_SV_T6', 'P1110_47_SV_T2',\n",
        "            'P1110_47_SV_T4', 'P1110_51_SV_T6', 'P1110_52_SV_T6',\n",
        "            'P1110_59_SV_T4', 'P1110_59_SV_T6', 'P1110_59_SV_T7',\n",
        "            'P1110_62_SV_T3', 'P1110_62_SV_T4', 'P1110_64_SV_T1',\n",
        "            'P1110_64_SV_T2', 'P1110_64_SV_T5', 'P1110_64_SV_T8',\n",
        "            'P1110_67_SV_T2', 'P1111_41_SV_T5', 'P1111_46_SV_T5',\n",
        "            'P1112_36_SV_T2', 'P1113_50_SV_T2', 'P1115_SV_T1'          \n",
        "           ]"
      ],
      "execution_count": 15,
      "outputs": []
    },
    {
      "cell_type": "code",
      "metadata": {
        "id": "q-RRRx45_wIX"
      },
      "source": [
        "### remove bad data\n",
        "idx = gps.index[[(t in bad_trip) for t in gps.trip]]\n",
        "df = gps.drop(idx)"
      ],
      "execution_count": 16,
      "outputs": []
    },
    {
      "cell_type": "code",
      "metadata": {
        "scrolled": true,
        "id": "K2j3yqGo_wIm",
        "outputId": "288733cb-6a88-4fac-dc2c-2d96ac864ccd",
        "colab": {
          "base_uri": "https://localhost:8080/",
          "height": 35
        }
      },
      "source": [
        "len(df.trip.unique())"
      ],
      "execution_count": 17,
      "outputs": [
        {
          "output_type": "execute_result",
          "data": {
            "text/plain": [
              "525"
            ]
          },
          "metadata": {
            "tags": []
          },
          "execution_count": 17
        }
      ]
    },
    {
      "cell_type": "markdown",
      "metadata": {
        "id": "Nj5sgLWf_wIu"
      },
      "source": [
        "## Dive Prediction"
      ]
    },
    {
      "cell_type": "code",
      "metadata": {
        "id": "MNn5Yjdq_wIw",
        "outputId": "cf9fc27a-dd4e-49ea-bb70-cf6add15c1b6",
        "colab": {
          "base_uri": "https://localhost:8080/",
          "height": 424
        }
      },
      "source": [
        "# standardized trajectories\n",
        "gps['lon_std'] = (gps['lon'] - np.mean(gps['lon']))/np.std(gps['lon'])\n",
        "gps['lat_std'] = (gps['lat'] - np.mean(gps['lat']))/np.std(gps['lat'])\n",
        "gps"
      ],
      "execution_count": 18,
      "outputs": [
        {
          "output_type": "execute_result",
          "data": {
            "text/html": [
              "<div>\n",
              "<style scoped>\n",
              "    .dataframe tbody tr th:only-of-type {\n",
              "        vertical-align: middle;\n",
              "    }\n",
              "\n",
              "    .dataframe tbody tr th {\n",
              "        vertical-align: top;\n",
              "    }\n",
              "\n",
              "    .dataframe thead th {\n",
              "        text-align: right;\n",
              "    }\n",
              "</style>\n",
              "<table border=\"1\" class=\"dataframe\">\n",
              "  <thead>\n",
              "    <tr style=\"text-align: right;\">\n",
              "      <th></th>\n",
              "      <th>trip</th>\n",
              "      <th>datetime</th>\n",
              "      <th>lon</th>\n",
              "      <th>lat</th>\n",
              "      <th>lon_std</th>\n",
              "      <th>lat_std</th>\n",
              "    </tr>\n",
              "  </thead>\n",
              "  <tbody>\n",
              "    <tr>\n",
              "      <th>0</th>\n",
              "      <td>P1108_1_SV_T1</td>\n",
              "      <td>2008-11-23 12:53:38</td>\n",
              "      <td>-77.265178</td>\n",
              "      <td>-11.775134</td>\n",
              "      <td>0.756738</td>\n",
              "      <td>-0.263899</td>\n",
              "    </tr>\n",
              "    <tr>\n",
              "      <th>1</th>\n",
              "      <td>P1108_1_SV_T1</td>\n",
              "      <td>2008-11-23 12:53:39</td>\n",
              "      <td>-77.265222</td>\n",
              "      <td>-11.775064</td>\n",
              "      <td>0.756414</td>\n",
              "      <td>-0.263396</td>\n",
              "    </tr>\n",
              "    <tr>\n",
              "      <th>2</th>\n",
              "      <td>P1108_1_SV_T1</td>\n",
              "      <td>2008-11-23 12:53:40</td>\n",
              "      <td>-77.265312</td>\n",
              "      <td>-11.774998</td>\n",
              "      <td>0.755752</td>\n",
              "      <td>-0.262921</td>\n",
              "    </tr>\n",
              "    <tr>\n",
              "      <th>3</th>\n",
              "      <td>P1108_1_SV_T1</td>\n",
              "      <td>2008-11-23 12:53:41</td>\n",
              "      <td>-77.265384</td>\n",
              "      <td>-11.774966</td>\n",
              "      <td>0.755223</td>\n",
              "      <td>-0.262690</td>\n",
              "    </tr>\n",
              "    <tr>\n",
              "      <th>4</th>\n",
              "      <td>P1108_1_SV_T1</td>\n",
              "      <td>2008-11-23 12:53:42</td>\n",
              "      <td>-77.265506</td>\n",
              "      <td>-11.774930</td>\n",
              "      <td>0.754326</td>\n",
              "      <td>-0.262431</td>\n",
              "    </tr>\n",
              "    <tr>\n",
              "      <th>...</th>\n",
              "      <td>...</td>\n",
              "      <td>...</td>\n",
              "      <td>...</td>\n",
              "      <td>...</td>\n",
              "      <td>...</td>\n",
              "      <td>...</td>\n",
              "    </tr>\n",
              "    <tr>\n",
              "      <th>2130760</th>\n",
              "      <td>P1115_25_SV_T1</td>\n",
              "      <td>2015-11-28 20:26:40</td>\n",
              "      <td>-77.258705</td>\n",
              "      <td>-11.770595</td>\n",
              "      <td>0.804336</td>\n",
              "      <td>-0.231238</td>\n",
              "    </tr>\n",
              "    <tr>\n",
              "      <th>2130761</th>\n",
              "      <td>P1115_25_SV_T1</td>\n",
              "      <td>2015-11-28 20:26:41</td>\n",
              "      <td>-77.258766</td>\n",
              "      <td>-11.770683</td>\n",
              "      <td>0.803887</td>\n",
              "      <td>-0.231871</td>\n",
              "    </tr>\n",
              "    <tr>\n",
              "      <th>2130762</th>\n",
              "      <td>P1115_25_SV_T1</td>\n",
              "      <td>2015-11-28 20:26:42</td>\n",
              "      <td>-77.258850</td>\n",
              "      <td>-11.770755</td>\n",
              "      <td>0.803269</td>\n",
              "      <td>-0.232389</td>\n",
              "    </tr>\n",
              "    <tr>\n",
              "      <th>2130763</th>\n",
              "      <td>P1115_25_SV_T1</td>\n",
              "      <td>2015-11-28 20:26:43</td>\n",
              "      <td>-77.258934</td>\n",
              "      <td>-11.770796</td>\n",
              "      <td>0.802652</td>\n",
              "      <td>-0.232684</td>\n",
              "    </tr>\n",
              "    <tr>\n",
              "      <th>2130764</th>\n",
              "      <td>P1115_25_SV_T1</td>\n",
              "      <td>2015-11-28 20:26:44</td>\n",
              "      <td>-77.258995</td>\n",
              "      <td>-11.770815</td>\n",
              "      <td>0.802203</td>\n",
              "      <td>-0.232821</td>\n",
              "    </tr>\n",
              "  </tbody>\n",
              "</table>\n",
              "<p>2111818 rows × 6 columns</p>\n",
              "</div>"
            ],
            "text/plain": [
              "                   trip            datetime  ...   lon_std   lat_std\n",
              "0         P1108_1_SV_T1 2008-11-23 12:53:38  ...  0.756738 -0.263899\n",
              "1         P1108_1_SV_T1 2008-11-23 12:53:39  ...  0.756414 -0.263396\n",
              "2         P1108_1_SV_T1 2008-11-23 12:53:40  ...  0.755752 -0.262921\n",
              "3         P1108_1_SV_T1 2008-11-23 12:53:41  ...  0.755223 -0.262690\n",
              "4         P1108_1_SV_T1 2008-11-23 12:53:42  ...  0.754326 -0.262431\n",
              "...                 ...                 ...  ...       ...       ...\n",
              "2130760  P1115_25_SV_T1 2015-11-28 20:26:40  ...  0.804336 -0.231238\n",
              "2130761  P1115_25_SV_T1 2015-11-28 20:26:41  ...  0.803887 -0.231871\n",
              "2130762  P1115_25_SV_T1 2015-11-28 20:26:42  ...  0.803269 -0.232389\n",
              "2130763  P1115_25_SV_T1 2015-11-28 20:26:43  ...  0.802652 -0.232684\n",
              "2130764  P1115_25_SV_T1 2015-11-28 20:26:44  ...  0.802203 -0.232821\n",
              "\n",
              "[2111818 rows x 6 columns]"
            ]
          },
          "metadata": {
            "tags": []
          },
          "execution_count": 18
        }
      ]
    },
    {
      "cell_type": "code",
      "metadata": {
        "id": "BSPLoLLd_wI1",
        "outputId": "ff5eccf9-4084-43e0-cf6b-6dff54ef2b77",
        "colab": {
          "base_uri": "https://localhost:8080/",
          "height": 35
        }
      },
      "source": [
        "trajs = []\n",
        "n = 0\n",
        "for trip in gps.trip.unique():\n",
        "    df_trip = gps[gps.trip == trip]\n",
        "    trajs.append(df_trip)\n",
        "    n +=1\n",
        "    \n",
        "    IPython.display.clear_output(wait=True)\n",
        "    print('Trip [{}/{}]'.format(n, len(gps.trip.unique())))"
      ],
      "execution_count": 19,
      "outputs": [
        {
          "output_type": "stream",
          "text": [
            "Trip [560/560]\n"
          ],
          "name": "stdout"
        }
      ]
    },
    {
      "cell_type": "markdown",
      "metadata": {
        "id": "24XaMMclN_Kn"
      },
      "source": [
        "## Neural Network"
      ]
    },
    {
      "cell_type": "code",
      "metadata": {
        "id": "Mry-NyEyALsX"
      },
      "source": [
        "# general material\n",
        "import numpy as np\n",
        "import matplotlib.pyplot as plt\n",
        "import pickle\n",
        "\n",
        "# pytorch materials\n",
        "import torch\n",
        "from torch import nn\n",
        "from torch import optim\n",
        "import torchvision as tv\n",
        "from torchvision.datasets import ImageFolder\n",
        "from torch.utils.data import DataLoader"
      ],
      "execution_count": 20,
      "outputs": []
    },
    {
      "cell_type": "code",
      "metadata": {
        "id": "K9-PFhxGijwv"
      },
      "source": [
        "class Sampler:\n",
        "  def __init__(self, trajs, epoch, batch_size):\n",
        "    # raw trajectories\n",
        "    self.trajs = trajs\n",
        "    self.n = len(trajs)\n",
        "    # sample input specificities\n",
        "    self.epoch = epoch\n",
        "    self.batch_size = batch_size\n",
        "\n",
        "  def sample(self):\n",
        "    batch = []\n",
        "    for i in range(self.batch_size):\n",
        "      # look for a long trip\n",
        "      dt = []\n",
        "      while len(dt) < epoch:\n",
        "        traj_idx = np.random.randint(self.n)\n",
        "        dt = self.trajs[traj_idx]\n",
        "\n",
        "      # select part of this trip\n",
        "      epoch_idx = np.random.randint(len(dt)-epoch)\n",
        "      extracted_trajs = dt.iloc[epoch_idx:epoch_idx+100, 4:6]\n",
        "\n",
        "      # add it to batch\n",
        "      batch.append(extracted_trajs.to_numpy().T)\n",
        "\n",
        "    return torch.FloatTensor(batch)\n"
      ],
      "execution_count": 21,
      "outputs": []
    },
    {
      "cell_type": "code",
      "metadata": {
        "id": "CN4mhTK3mDGA",
        "outputId": "f91a18a9-4b3a-4281-ca86-d55534039ec6",
        "colab": {
          "base_uri": "https://localhost:8080/",
          "height": 35
        }
      },
      "source": [
        "# Hyperparameters\n",
        "epoch = 100\n",
        "batch_size = 8\n",
        "learning_rate = 0.001\n",
        "\n",
        "extracted_traj = Sampler(trajs, epoch, batch_size)\n",
        "input = extracted_traj.sample()\n",
        "input.size()"
      ],
      "execution_count": 22,
      "outputs": [
        {
          "output_type": "execute_result",
          "data": {
            "text/plain": [
              "torch.Size([8, 2, 100])"
            ]
          },
          "metadata": {
            "tags": []
          },
          "execution_count": 22
        }
      ]
    },
    {
      "cell_type": "code",
      "metadata": {
        "id": "FgKunXu3Y0k0"
      },
      "source": [
        "device = torch.device(\"cuda\" if torch.cuda.is_available() else \"cpu\")"
      ],
      "execution_count": 23,
      "outputs": []
    },
    {
      "cell_type": "code",
      "metadata": {
        "id": "6Ez8TRwfOR0O"
      },
      "source": [
        "class ConvNet(nn.Module):\n",
        "    def __init__(self):\n",
        "        super(ConvNet, self).__init__()\n",
        "        \n",
        "        self.encoder = nn.Sequential(\n",
        "            nn.Conv1d(2, 10, kernel_size = 26, stride = 1, padding = 25, dilation = 2),\n",
        "            nn.Linear(100, 100),\n",
        "            nn.Conv1d(10, 10, kernel_size = 11, stride = 1, padding = 10, dilation = 2),\n",
        "            nn.Linear(100, 100),\n",
        "            nn.Conv1d(10, 5, kernel_size = 6, stride = 1, padding = 5, dilation = 2),\n",
        "            nn.Linear(100, 100),\n",
        "            nn.Softmax(dim = 1)\n",
        "        )\n",
        "        \n",
        "        self.decoder = nn.Sequential(\n",
        "            nn.Linear(100, 100),\n",
        "            nn.Conv1d(5, 10, kernel_size = 6, stride = 1, padding = 5, dilation = 2),\n",
        "            nn.Linear(100, 100),\n",
        "            nn.Conv1d(10, 10, kernel_size = 11, stride = 1, padding = 10, dilation = 2),\n",
        "            nn.Linear(100, 100),\n",
        "            nn.Conv1d(10, 2, kernel_size = 26, stride = 1, padding = 25, dilation = 2),\n",
        "        )\n",
        "\n",
        "        \n",
        "    def forward(self, x):\n",
        "        out = self.encoder(x)\n",
        "        out = self.decoder(out)\n",
        "        return out"
      ],
      "execution_count": 24,
      "outputs": []
    },
    {
      "cell_type": "code",
      "metadata": {
        "id": "n5NghQs8OTyK",
        "outputId": "001b893d-c68f-4e86-ac72-d40dfc2ac63d",
        "colab": {
          "base_uri": "https://localhost:8080/",
          "height": 35
        }
      },
      "source": [
        "model = ConvNet()\n",
        "out = model(input)\n",
        "out.size()"
      ],
      "execution_count": 25,
      "outputs": [
        {
          "output_type": "execute_result",
          "data": {
            "text/plain": [
              "torch.Size([8, 2, 100])"
            ]
          },
          "metadata": {
            "tags": []
          },
          "execution_count": 25
        }
      ]
    },
    {
      "cell_type": "code",
      "metadata": {
        "id": "xTi3qupGOVnW"
      },
      "source": [
        "# Loss and optimizer\n",
        "criterion = nn.MSELoss()\n",
        "optimizer = torch.optim.Adam(model.parameters(), lr=learning_rate)"
      ],
      "execution_count": 26,
      "outputs": []
    },
    {
      "cell_type": "code",
      "metadata": {
        "id": "UXbYw7LuOXLC",
        "outputId": "ec2b3527-bb5f-402c-dc16-3e81985a7aca",
        "colab": {
          "base_uri": "https://localhost:8080/",
          "height": 35
        }
      },
      "source": [
        "criterion(out, input)"
      ],
      "execution_count": 27,
      "outputs": [
        {
          "output_type": "execute_result",
          "data": {
            "text/plain": [
              "tensor(0.8077, grad_fn=<MseLossBackward>)"
            ]
          },
          "metadata": {
            "tags": []
          },
          "execution_count": 27
        }
      ]
    },
    {
      "cell_type": "code",
      "metadata": {
        "id": "il8ezTeSrZKg",
        "outputId": "5c4882d6-e02b-4745-9cec-e959a83f8840",
        "colab": {
          "base_uri": "https://localhost:8080/",
          "height": 35
        }
      },
      "source": [
        "## estimate a relevant nb of total step\n",
        "total_step = round(0.7 * (len(gps) - len(gps.trip.unique()) * epoch)/batch_size)\n",
        "total_step"
      ],
      "execution_count": 31,
      "outputs": [
        {
          "output_type": "execute_result",
          "data": {
            "text/plain": [
              "179884"
            ]
          },
          "metadata": {
            "tags": []
          },
          "execution_count": 31
        }
      ]
    },
    {
      "cell_type": "code",
      "metadata": {
        "id": "X611p7QEOYkj",
        "outputId": "58ac6608-3740-4a26-c668-cfdc976fdd12",
        "colab": {
          "base_uri": "https://localhost:8080/",
          "height": 1000
        }
      },
      "source": [
        "# Train the model\n",
        "loss_list = []\n",
        "acc_list = []\n",
        "\n",
        "for i in range(total_step):\n",
        "    \n",
        "    # Train the model\n",
        "    model.train()\n",
        "    \n",
        "    # Run the forward pass\n",
        "    x = extracted_traj.sample() \n",
        "    output = model(x)\n",
        "    loss = criterion(output, x)\n",
        "\n",
        "    # Backprop and perform optimisation\n",
        "    optimizer.zero_grad()\n",
        "    loss.backward()\n",
        "    optimizer.step()\n",
        "    \n",
        "       \n",
        "    if i%1000 ==0:\n",
        "        print('Step [{}/{}], Loss: {:.4f}'\n",
        "              .format(i + 1, total_step, loss.item()))"
      ],
      "execution_count": 32,
      "outputs": [
        {
          "output_type": "stream",
          "text": [
            "Step [1/179884], Loss: 0.0061\n",
            "Step [1001/179884], Loss: 0.0006\n",
            "Step [2001/179884], Loss: 0.0122\n",
            "Step [3001/179884], Loss: 0.0001\n",
            "Step [4001/179884], Loss: 0.0011\n",
            "Step [5001/179884], Loss: 0.0191\n",
            "Step [6001/179884], Loss: 0.0008\n",
            "Step [7001/179884], Loss: 0.0041\n",
            "Step [8001/179884], Loss: 0.0011\n",
            "Step [9001/179884], Loss: 0.0013\n",
            "Step [10001/179884], Loss: 0.0029\n",
            "Step [11001/179884], Loss: 0.0010\n",
            "Step [12001/179884], Loss: 0.0046\n",
            "Step [13001/179884], Loss: 0.0035\n",
            "Step [14001/179884], Loss: 0.0018\n",
            "Step [15001/179884], Loss: 0.0004\n",
            "Step [16001/179884], Loss: 0.0033\n",
            "Step [17001/179884], Loss: 0.0001\n",
            "Step [18001/179884], Loss: 0.0005\n",
            "Step [19001/179884], Loss: 0.0009\n",
            "Step [20001/179884], Loss: 0.0002\n",
            "Step [21001/179884], Loss: 0.0103\n",
            "Step [22001/179884], Loss: 0.0069\n",
            "Step [23001/179884], Loss: 0.0001\n",
            "Step [24001/179884], Loss: 0.0001\n",
            "Step [25001/179884], Loss: 0.0082\n",
            "Step [26001/179884], Loss: 0.0034\n",
            "Step [27001/179884], Loss: 0.0002\n",
            "Step [28001/179884], Loss: 0.0004\n",
            "Step [29001/179884], Loss: 0.0004\n",
            "Step [30001/179884], Loss: 0.0002\n",
            "Step [31001/179884], Loss: 0.0009\n",
            "Step [32001/179884], Loss: 0.0006\n",
            "Step [33001/179884], Loss: 0.0004\n",
            "Step [34001/179884], Loss: 0.0011\n",
            "Step [35001/179884], Loss: 0.0009\n",
            "Step [36001/179884], Loss: 0.0000\n",
            "Step [37001/179884], Loss: 0.0007\n",
            "Step [38001/179884], Loss: 0.0001\n",
            "Step [39001/179884], Loss: 0.0015\n",
            "Step [40001/179884], Loss: 0.0006\n",
            "Step [41001/179884], Loss: 0.0063\n",
            "Step [42001/179884], Loss: 0.0011\n",
            "Step [43001/179884], Loss: 0.0002\n",
            "Step [44001/179884], Loss: 0.0002\n",
            "Step [45001/179884], Loss: 0.0005\n",
            "Step [46001/179884], Loss: 0.0007\n",
            "Step [47001/179884], Loss: 0.0000\n",
            "Step [48001/179884], Loss: 0.0001\n",
            "Step [49001/179884], Loss: 0.0011\n",
            "Step [50001/179884], Loss: 0.0003\n",
            "Step [51001/179884], Loss: 0.0005\n",
            "Step [52001/179884], Loss: 0.0017\n",
            "Step [53001/179884], Loss: 0.0007\n",
            "Step [54001/179884], Loss: 0.0001\n",
            "Step [55001/179884], Loss: 0.0002\n",
            "Step [56001/179884], Loss: 0.0011\n",
            "Step [57001/179884], Loss: 0.0001\n",
            "Step [58001/179884], Loss: 0.0008\n",
            "Step [59001/179884], Loss: 0.0002\n",
            "Step [60001/179884], Loss: 0.0006\n",
            "Step [61001/179884], Loss: 0.0002\n",
            "Step [62001/179884], Loss: 0.0001\n",
            "Step [63001/179884], Loss: 0.0030\n",
            "Step [64001/179884], Loss: 0.0005\n",
            "Step [65001/179884], Loss: 0.0019\n",
            "Step [66001/179884], Loss: 0.0001\n",
            "Step [67001/179884], Loss: 0.0001\n",
            "Step [68001/179884], Loss: 0.0001\n",
            "Step [69001/179884], Loss: 0.0002\n",
            "Step [70001/179884], Loss: 0.0009\n",
            "Step [71001/179884], Loss: 0.0005\n",
            "Step [72001/179884], Loss: 0.0006\n",
            "Step [73001/179884], Loss: 0.0002\n",
            "Step [74001/179884], Loss: 0.0003\n",
            "Step [75001/179884], Loss: 0.0001\n",
            "Step [76001/179884], Loss: 0.0001\n",
            "Step [77001/179884], Loss: 0.0000\n",
            "Step [78001/179884], Loss: 0.0001\n",
            "Step [79001/179884], Loss: 0.0009\n",
            "Step [80001/179884], Loss: 0.0002\n",
            "Step [81001/179884], Loss: 0.0349\n",
            "Step [82001/179884], Loss: 0.0003\n",
            "Step [83001/179884], Loss: 0.0013\n",
            "Step [84001/179884], Loss: 0.0008\n",
            "Step [85001/179884], Loss: 0.0072\n",
            "Step [86001/179884], Loss: 0.0009\n",
            "Step [87001/179884], Loss: 0.0002\n",
            "Step [88001/179884], Loss: 0.0001\n",
            "Step [89001/179884], Loss: 0.0003\n",
            "Step [90001/179884], Loss: 0.0002\n",
            "Step [91001/179884], Loss: 0.0000\n",
            "Step [92001/179884], Loss: 0.0011\n",
            "Step [93001/179884], Loss: 0.0002\n",
            "Step [94001/179884], Loss: 0.0005\n",
            "Step [95001/179884], Loss: 0.0003\n",
            "Step [96001/179884], Loss: 0.0008\n",
            "Step [97001/179884], Loss: 0.0037\n",
            "Step [98001/179884], Loss: 0.0006\n",
            "Step [99001/179884], Loss: 0.0059\n",
            "Step [100001/179884], Loss: 0.0020\n",
            "Step [101001/179884], Loss: 0.0000\n",
            "Step [102001/179884], Loss: 0.0006\n",
            "Step [103001/179884], Loss: 0.0001\n",
            "Step [104001/179884], Loss: 0.0013\n",
            "Step [105001/179884], Loss: 0.0002\n",
            "Step [106001/179884], Loss: 0.0004\n",
            "Step [107001/179884], Loss: 0.0028\n",
            "Step [108001/179884], Loss: 0.0008\n",
            "Step [109001/179884], Loss: 0.0000\n",
            "Step [110001/179884], Loss: 0.0005\n",
            "Step [111001/179884], Loss: 0.0000\n",
            "Step [112001/179884], Loss: 0.0028\n",
            "Step [113001/179884], Loss: 0.0003\n",
            "Step [114001/179884], Loss: 0.0002\n",
            "Step [115001/179884], Loss: 0.0002\n",
            "Step [116001/179884], Loss: 0.0012\n",
            "Step [117001/179884], Loss: 0.0001\n",
            "Step [118001/179884], Loss: 0.0003\n",
            "Step [119001/179884], Loss: 0.0001\n",
            "Step [120001/179884], Loss: 0.0001\n",
            "Step [121001/179884], Loss: 0.0043\n",
            "Step [122001/179884], Loss: 0.0002\n",
            "Step [123001/179884], Loss: 0.0000\n",
            "Step [124001/179884], Loss: 0.0001\n",
            "Step [125001/179884], Loss: 0.0002\n",
            "Step [126001/179884], Loss: 0.0024\n",
            "Step [127001/179884], Loss: 0.0003\n",
            "Step [128001/179884], Loss: 0.0002\n",
            "Step [129001/179884], Loss: 0.0002\n",
            "Step [130001/179884], Loss: 0.0034\n",
            "Step [131001/179884], Loss: 0.0012\n",
            "Step [132001/179884], Loss: 0.0002\n",
            "Step [133001/179884], Loss: 0.0001\n",
            "Step [134001/179884], Loss: 0.0001\n",
            "Step [135001/179884], Loss: 0.0000\n",
            "Step [136001/179884], Loss: 0.0004\n",
            "Step [137001/179884], Loss: 0.0001\n",
            "Step [138001/179884], Loss: 0.0006\n",
            "Step [139001/179884], Loss: 0.0001\n",
            "Step [140001/179884], Loss: 0.0004\n",
            "Step [141001/179884], Loss: 0.0000\n",
            "Step [142001/179884], Loss: 0.0002\n",
            "Step [143001/179884], Loss: 0.0001\n",
            "Step [144001/179884], Loss: 0.0003\n",
            "Step [145001/179884], Loss: 0.0001\n",
            "Step [146001/179884], Loss: 0.0015\n",
            "Step [147001/179884], Loss: 0.0094\n",
            "Step [148001/179884], Loss: 0.0001\n",
            "Step [149001/179884], Loss: 0.0001\n",
            "Step [150001/179884], Loss: 0.0059\n",
            "Step [151001/179884], Loss: 0.0002\n",
            "Step [152001/179884], Loss: 0.0000\n",
            "Step [153001/179884], Loss: 0.0001\n",
            "Step [154001/179884], Loss: 0.0009\n",
            "Step [155001/179884], Loss: 0.0000\n",
            "Step [156001/179884], Loss: 0.0003\n",
            "Step [157001/179884], Loss: 0.0001\n",
            "Step [158001/179884], Loss: 0.0000\n",
            "Step [159001/179884], Loss: 0.0000\n",
            "Step [160001/179884], Loss: 0.0007\n",
            "Step [161001/179884], Loss: 0.0008\n",
            "Step [162001/179884], Loss: 0.0006\n",
            "Step [163001/179884], Loss: 0.0001\n",
            "Step [164001/179884], Loss: 0.0003\n",
            "Step [165001/179884], Loss: 0.0001\n",
            "Step [166001/179884], Loss: 0.0016\n",
            "Step [167001/179884], Loss: 0.0001\n",
            "Step [168001/179884], Loss: 0.0009\n",
            "Step [169001/179884], Loss: 0.0003\n",
            "Step [170001/179884], Loss: 0.0001\n",
            "Step [171001/179884], Loss: 0.0000\n",
            "Step [172001/179884], Loss: 0.0001\n",
            "Step [173001/179884], Loss: 0.0000\n",
            "Step [174001/179884], Loss: 0.0124\n",
            "Step [175001/179884], Loss: 0.0002\n",
            "Step [176001/179884], Loss: 0.0001\n",
            "Step [177001/179884], Loss: 0.0000\n",
            "Step [178001/179884], Loss: 0.0002\n",
            "Step [179001/179884], Loss: 0.0001\n"
          ],
          "name": "stdout"
        }
      ]
    },
    {
      "cell_type": "code",
      "metadata": {
        "id": "knjJJc2FOc7i"
      },
      "source": [
        "true = extracted_traj.sample()\n",
        "estim = model(true).detach()"
      ],
      "execution_count": 33,
      "outputs": []
    },
    {
      "cell_type": "code",
      "metadata": {
        "id": "S1JfF2OpOec3",
        "outputId": "cbd0d5fa-69c0-469d-cc51-8e6181add298",
        "colab": {
          "base_uri": "https://localhost:8080/",
          "height": 485
        }
      },
      "source": [
        "plt.figure(figsize=(16, 8))\n",
        "\n",
        "for i in range(8):\n",
        "    \n",
        "    pos_true = true[i]\n",
        "    pos_estim = estim[i]\n",
        "    \n",
        "    \n",
        "    plt.subplot(2, 4, i+1)\n",
        "    plt.plot(pos_true[0].numpy(), pos_true[1].numpy())\n",
        "    plt.scatter(pos_estim[0].numpy(), pos_estim[1].numpy(), c = 'orange')\n",
        "    \n",
        "        #selecting the current axis\n",
        "    ax = plt.gca()\n",
        "    ax.set_aspect(1)"
      ],
      "execution_count": 34,
      "outputs": [
        {
          "output_type": "display_data",
          "data": {
            "image/png": "[encoded data removed]",
            "text/plain": [
              "<Figure size 1152x576 with 8 Axes>"
            ]
          },
          "metadata": {
            "tags": [],
            "needs_background": "light"
          }
        }
      ]
    },
    {
      "cell_type": "code",
      "metadata": {
        "id": "Rqrx65OxV_rS"
      },
      "source": [
        ""
      ],
      "execution_count": null,
      "outputs": []
    }
  ]
}