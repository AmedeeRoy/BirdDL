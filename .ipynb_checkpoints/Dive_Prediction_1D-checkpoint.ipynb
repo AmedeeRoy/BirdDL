{
 "cells": [
  {
   "cell_type": "markdown",
   "metadata": {
    "colab_type": "text",
    "id": "view-in-github"
   },
   "source": [
    "<a href=\"https://colab.research.google.com/github/AmedeeRoy/BirdDL/blob/main/Dive_Prediction_1D.ipynb\" target=\"_parent\"><img src=\"https://colab.research.google.com/assets/colab-badge.svg\" alt=\"Open In Colab\"/></a>"
   ]
  },
  {
   "cell_type": "markdown",
   "metadata": {
    "id": "AoTO8FyrlBU_"
   },
   "source": [
    "# Predicting Seabird Diving Behaviour with GPS data\n",
    "\n",
    "Supervized Learning with Deep Networks\n"
   ]
  },
  {
   "cell_type": "markdown",
   "metadata": {
    "id": "XpzHadDDlBVA"
   },
   "source": [
    "## Data Formatting"
   ]
  },
  {
   "cell_type": "code",
   "execution_count": 53,
   "metadata": {
    "id": "7twgCfSglBVC"
   },
   "outputs": [],
   "source": [
    "import sqlite3\n",
    "import pandas as pd\n",
    "import numpy as np\n",
    "import matplotlib.pyplot as plt\n",
    "import IPython\n",
    "import datetime\n",
    "import random\n",
    "import pickle"
   ]
  },
  {
   "cell_type": "code",
   "execution_count": 54,
   "metadata": {
    "colab": {
     "base_uri": "https://localhost:8080/",
     "height": 35
    },
    "id": "xzqhNXXnlMnI",
    "outputId": "3ffef7de-c6ee-4991-f820-b4614167805b"
   },
   "outputs": [
    {
     "name": "stdout",
     "output_type": "stream",
     "text": [
      "Drive already mounted at /content/drive/; to attempt to forcibly remount, call drive.mount(\"/content/drive/\", force_remount=True).\n"
     ]
    }
   ],
   "source": [
    "# mount google drive\n",
    "from google.colab import drive\n",
    "drive.mount(\"/content/drive/\")"
   ]
  },
  {
   "cell_type": "code",
   "execution_count": 55,
   "metadata": {
    "id": "SrinVr1QlBVN"
   },
   "outputs": [],
   "source": [
    "# connect to database\n",
    "conn = sqlite3.connect('/content/drive/My Drive/data/seabirdbank.db')"
   ]
  },
  {
   "cell_type": "code",
   "execution_count": 56,
   "metadata": {
    "colab": {
     "base_uri": "https://localhost:8080/",
     "height": 35
    },
    "id": "MoUPeOCtlBVS",
    "outputId": "5cbc02c6-cb5f-4a68-dbc4-e2764139d1cc"
   },
   "outputs": [
    {
     "data": {
      "text/plain": [
       "array([[-77.264, -11.773]])"
      ]
     },
     "execution_count": 56,
     "metadata": {
      "tags": []
     },
     "output_type": "execute_result"
    }
   ],
   "source": [
    "request = \"SELECT DISTINCT lon, lat FROM fieldwork WHERE place='Pescadores'\"\n",
    "colony = pd.read_sql_query(request, conn)\n",
    "colony = colony.values\n",
    "colony"
   ]
  },
  {
   "cell_type": "code",
   "execution_count": 57,
   "metadata": {
    "colab": {
     "base_uri": "https://localhost:8080/",
     "height": 424
    },
    "id": "W_twQSv0lBVZ",
    "outputId": "db11616f-fd95-4211-db48-b680c4e591e1"
   },
   "outputs": [
    {
     "data": {
      "text/html": [
       "<div>\n",
       "<style scoped>\n",
       "    .dataframe tbody tr th:only-of-type {\n",
       "        vertical-align: middle;\n",
       "    }\n",
       "\n",
       "    .dataframe tbody tr th {\n",
       "        vertical-align: top;\n",
       "    }\n",
       "\n",
       "    .dataframe thead th {\n",
       "        text-align: right;\n",
       "    }\n",
       "</style>\n",
       "<table border=\"1\" class=\"dataframe\">\n",
       "  <thead>\n",
       "    <tr style=\"text-align: right;\">\n",
       "      <th></th>\n",
       "      <th>trip</th>\n",
       "      <th>datetime</th>\n",
       "      <th>lon</th>\n",
       "      <th>lat</th>\n",
       "    </tr>\n",
       "  </thead>\n",
       "  <tbody>\n",
       "    <tr>\n",
       "      <th>0</th>\n",
       "      <td>P1108_4_SV_T1</td>\n",
       "      <td>2008-11-25 13:00:35</td>\n",
       "      <td>-77.264128</td>\n",
       "      <td>-11.773317</td>\n",
       "    </tr>\n",
       "    <tr>\n",
       "      <th>1</th>\n",
       "      <td>P1108_4_SV_T1</td>\n",
       "      <td>2008-11-25 13:00:36</td>\n",
       "      <td>-77.264118</td>\n",
       "      <td>-11.773235</td>\n",
       "    </tr>\n",
       "    <tr>\n",
       "      <th>2</th>\n",
       "      <td>P1108_4_SV_T1</td>\n",
       "      <td>2008-11-25 13:00:37</td>\n",
       "      <td>-77.264098</td>\n",
       "      <td>-11.773152</td>\n",
       "    </tr>\n",
       "    <tr>\n",
       "      <th>3</th>\n",
       "      <td>P1108_4_SV_T1</td>\n",
       "      <td>2008-11-25 13:00:38</td>\n",
       "      <td>-77.264113</td>\n",
       "      <td>-11.773060</td>\n",
       "    </tr>\n",
       "    <tr>\n",
       "      <th>4</th>\n",
       "      <td>P1108_4_SV_T1</td>\n",
       "      <td>2008-11-25 13:00:39</td>\n",
       "      <td>-77.264142</td>\n",
       "      <td>-11.772955</td>\n",
       "    </tr>\n",
       "    <tr>\n",
       "      <th>...</th>\n",
       "      <td>...</td>\n",
       "      <td>...</td>\n",
       "      <td>...</td>\n",
       "      <td>...</td>\n",
       "    </tr>\n",
       "    <tr>\n",
       "      <th>839803</th>\n",
       "      <td>P1113_50_SV_T2</td>\n",
       "      <td>2013-11-25 05:23:26</td>\n",
       "      <td>-77.264832</td>\n",
       "      <td>-11.773701</td>\n",
       "    </tr>\n",
       "    <tr>\n",
       "      <th>839804</th>\n",
       "      <td>P1113_50_SV_T2</td>\n",
       "      <td>2013-11-25 05:23:27</td>\n",
       "      <td>-77.264862</td>\n",
       "      <td>-11.773664</td>\n",
       "    </tr>\n",
       "    <tr>\n",
       "      <th>839805</th>\n",
       "      <td>P1113_50_SV_T2</td>\n",
       "      <td>2013-11-25 05:23:28</td>\n",
       "      <td>-77.264900</td>\n",
       "      <td>-11.773705</td>\n",
       "    </tr>\n",
       "    <tr>\n",
       "      <th>839806</th>\n",
       "      <td>P1113_50_SV_T2</td>\n",
       "      <td>2013-11-25 05:23:29</td>\n",
       "      <td>-77.264931</td>\n",
       "      <td>-11.773739</td>\n",
       "    </tr>\n",
       "    <tr>\n",
       "      <th>839807</th>\n",
       "      <td>P1113_50_SV_T2</td>\n",
       "      <td>2013-11-25 05:23:30</td>\n",
       "      <td>-77.264954</td>\n",
       "      <td>-11.773770</td>\n",
       "    </tr>\n",
       "  </tbody>\n",
       "</table>\n",
       "<p>839808 rows × 4 columns</p>\n",
       "</div>"
      ],
      "text/plain": [
       "                  trip             datetime        lon        lat\n",
       "0        P1108_4_SV_T1  2008-11-25 13:00:35 -77.264128 -11.773317\n",
       "1        P1108_4_SV_T1  2008-11-25 13:00:36 -77.264118 -11.773235\n",
       "2        P1108_4_SV_T1  2008-11-25 13:00:37 -77.264098 -11.773152\n",
       "3        P1108_4_SV_T1  2008-11-25 13:00:38 -77.264113 -11.773060\n",
       "4        P1108_4_SV_T1  2008-11-25 13:00:39 -77.264142 -11.772955\n",
       "...                ...                  ...        ...        ...\n",
       "839803  P1113_50_SV_T2  2013-11-25 05:23:26 -77.264832 -11.773701\n",
       "839804  P1113_50_SV_T2  2013-11-25 05:23:27 -77.264862 -11.773664\n",
       "839805  P1113_50_SV_T2  2013-11-25 05:23:28 -77.264900 -11.773705\n",
       "839806  P1113_50_SV_T2  2013-11-25 05:23:29 -77.264931 -11.773739\n",
       "839807  P1113_50_SV_T2  2013-11-25 05:23:30 -77.264954 -11.773770\n",
       "\n",
       "[839808 rows x 4 columns]"
      ]
     },
     "execution_count": 57,
     "metadata": {
      "tags": []
     },
     "output_type": "execute_result"
    }
   ],
   "source": [
    "request = \"SELECT \\\n",
    "            trip.id as trip, gps.datetime, gps.lon, gps.lat\\\n",
    "            FROM gps \\\n",
    "            INNER JOIN trip ON gps.trip = trip.id \\\n",
    "            INNER JOIN bird ON trip.bird = bird.id \\\n",
    "            WHERE trip.file_gps IS NOT NULL \\\n",
    "            AND trip.file_tdr IS NOT NULL \\\n",
    "            AND (bird.fieldwork = 'P1108' OR bird.fieldwork = 'P1111' \\\n",
    "                OR bird.fieldwork = 'P1112' OR bird.fieldwork = 'P1113') \\\n",
    "            AND bird.species = 'SV'\"\n",
    "\n",
    "# substr(bird.fieldwork,1,1) = 'P'\n",
    "\n",
    "gps = pd.read_sql_query(request, conn)\n",
    "gps"
   ]
  },
  {
   "cell_type": "code",
   "execution_count": 58,
   "metadata": {
    "id": "_XhzjeSBlBVf"
   },
   "outputs": [],
   "source": [
    "# check duplicated datetime in GPS trip\n",
    "idx = gps.index[gps.loc[:, 'trip':'datetime'].duplicated(keep=False)]\n",
    "idx_drop = [idx[i] for i in range(0, len(idx), 2)]\n",
    "gps = gps.drop(idx_drop)"
   ]
  },
  {
   "cell_type": "code",
   "execution_count": 59,
   "metadata": {
    "colab": {
     "base_uri": "https://localhost:8080/",
     "height": 49
    },
    "id": "R8KuhNs3lBVj",
    "outputId": "2317ed55-fbe9-46a3-dc6d-5b78e3bf81a5",
    "scrolled": true
   },
   "outputs": [
    {
     "data": {
      "text/html": [
       "<div>\n",
       "<style scoped>\n",
       "    .dataframe tbody tr th:only-of-type {\n",
       "        vertical-align: middle;\n",
       "    }\n",
       "\n",
       "    .dataframe tbody tr th {\n",
       "        vertical-align: top;\n",
       "    }\n",
       "\n",
       "    .dataframe thead th {\n",
       "        text-align: right;\n",
       "    }\n",
       "</style>\n",
       "<table border=\"1\" class=\"dataframe\">\n",
       "  <thead>\n",
       "    <tr style=\"text-align: right;\">\n",
       "      <th></th>\n",
       "      <th>trip</th>\n",
       "      <th>datetime</th>\n",
       "      <th>lon</th>\n",
       "      <th>lat</th>\n",
       "    </tr>\n",
       "  </thead>\n",
       "  <tbody>\n",
       "  </tbody>\n",
       "</table>\n",
       "</div>"
      ],
      "text/plain": [
       "Empty DataFrame\n",
       "Columns: [trip, datetime, lon, lat]\n",
       "Index: []"
      ]
     },
     "execution_count": 59,
     "metadata": {
      "tags": []
     },
     "output_type": "execute_result"
    }
   ],
   "source": [
    "gps[gps.loc[:, 'trip':'datetime'].duplicated(keep=False)]"
   ]
  },
  {
   "cell_type": "code",
   "execution_count": 60,
   "metadata": {
    "colab": {
     "base_uri": "https://localhost:8080/",
     "height": 424
    },
    "id": "Sw-ExcWzlBVq",
    "outputId": "f5c94c6d-ded8-463a-d068-7e54c2bd32a2"
   },
   "outputs": [
    {
     "data": {
      "text/html": [
       "<div>\n",
       "<style scoped>\n",
       "    .dataframe tbody tr th:only-of-type {\n",
       "        vertical-align: middle;\n",
       "    }\n",
       "\n",
       "    .dataframe tbody tr th {\n",
       "        vertical-align: top;\n",
       "    }\n",
       "\n",
       "    .dataframe thead th {\n",
       "        text-align: right;\n",
       "    }\n",
       "</style>\n",
       "<table border=\"1\" class=\"dataframe\">\n",
       "  <thead>\n",
       "    <tr style=\"text-align: right;\">\n",
       "      <th></th>\n",
       "      <th>trip</th>\n",
       "      <th>datetime</th>\n",
       "      <th>pressure</th>\n",
       "    </tr>\n",
       "  </thead>\n",
       "  <tbody>\n",
       "    <tr>\n",
       "      <th>0</th>\n",
       "      <td>P1108_4_SV_T1</td>\n",
       "      <td>2008-11-25 13:00:35</td>\n",
       "      <td>-0.35</td>\n",
       "    </tr>\n",
       "    <tr>\n",
       "      <th>1</th>\n",
       "      <td>P1108_4_SV_T1</td>\n",
       "      <td>2008-11-25 13:00:36</td>\n",
       "      <td>-0.38</td>\n",
       "    </tr>\n",
       "    <tr>\n",
       "      <th>2</th>\n",
       "      <td>P1108_4_SV_T1</td>\n",
       "      <td>2008-11-25 13:00:37</td>\n",
       "      <td>-0.35</td>\n",
       "    </tr>\n",
       "    <tr>\n",
       "      <th>3</th>\n",
       "      <td>P1108_4_SV_T1</td>\n",
       "      <td>2008-11-25 13:00:38</td>\n",
       "      <td>-0.29</td>\n",
       "    </tr>\n",
       "    <tr>\n",
       "      <th>4</th>\n",
       "      <td>P1108_4_SV_T1</td>\n",
       "      <td>2008-11-25 13:00:39</td>\n",
       "      <td>-0.29</td>\n",
       "    </tr>\n",
       "    <tr>\n",
       "      <th>...</th>\n",
       "      <td>...</td>\n",
       "      <td>...</td>\n",
       "      <td>...</td>\n",
       "    </tr>\n",
       "    <tr>\n",
       "      <th>1086337</th>\n",
       "      <td>P1113_50_SV_T2</td>\n",
       "      <td>2013-11-25 05:23:26</td>\n",
       "      <td>-0.94</td>\n",
       "    </tr>\n",
       "    <tr>\n",
       "      <th>1086338</th>\n",
       "      <td>P1113_50_SV_T2</td>\n",
       "      <td>2013-11-25 05:23:27</td>\n",
       "      <td>-0.94</td>\n",
       "    </tr>\n",
       "    <tr>\n",
       "      <th>1086339</th>\n",
       "      <td>P1113_50_SV_T2</td>\n",
       "      <td>2013-11-25 05:23:28</td>\n",
       "      <td>-0.94</td>\n",
       "    </tr>\n",
       "    <tr>\n",
       "      <th>1086340</th>\n",
       "      <td>P1113_50_SV_T2</td>\n",
       "      <td>2013-11-25 05:23:29</td>\n",
       "      <td>-0.94</td>\n",
       "    </tr>\n",
       "    <tr>\n",
       "      <th>1086341</th>\n",
       "      <td>P1113_50_SV_T2</td>\n",
       "      <td>2013-11-25 05:23:30</td>\n",
       "      <td>-0.94</td>\n",
       "    </tr>\n",
       "  </tbody>\n",
       "</table>\n",
       "<p>1086342 rows × 3 columns</p>\n",
       "</div>"
      ],
      "text/plain": [
       "                   trip             datetime  pressure\n",
       "0         P1108_4_SV_T1  2008-11-25 13:00:35     -0.35\n",
       "1         P1108_4_SV_T1  2008-11-25 13:00:36     -0.38\n",
       "2         P1108_4_SV_T1  2008-11-25 13:00:37     -0.35\n",
       "3         P1108_4_SV_T1  2008-11-25 13:00:38     -0.29\n",
       "4         P1108_4_SV_T1  2008-11-25 13:00:39     -0.29\n",
       "...                 ...                  ...       ...\n",
       "1086337  P1113_50_SV_T2  2013-11-25 05:23:26     -0.94\n",
       "1086338  P1113_50_SV_T2  2013-11-25 05:23:27     -0.94\n",
       "1086339  P1113_50_SV_T2  2013-11-25 05:23:28     -0.94\n",
       "1086340  P1113_50_SV_T2  2013-11-25 05:23:29     -0.94\n",
       "1086341  P1113_50_SV_T2  2013-11-25 05:23:30     -0.94\n",
       "\n",
       "[1086342 rows x 3 columns]"
      ]
     },
     "execution_count": 60,
     "metadata": {
      "tags": []
     },
     "output_type": "execute_result"
    }
   ],
   "source": [
    "request = \"SELECT \\\n",
    "            trip.id as trip, tdr.datetime, tdr.pressure \\\n",
    "            FROM tdr \\\n",
    "            INNER JOIN trip ON tdr.trip = trip.id \\\n",
    "            INNER JOIN bird ON trip.bird = bird.id \\\n",
    "            WHERE trip.file_gps IS NOT NULL \\\n",
    "            AND trip.file_tdr IS NOT NULL \\\n",
    "            AND (bird.fieldwork = 'P1108' OR bird.fieldwork = 'P1111' \\\n",
    "                OR bird.fieldwork = 'P1112' OR bird.fieldwork = 'P1113') \\\n",
    "            AND bird.species = 'SV'\"\n",
    "\n",
    "# WHERE substr(bird.fieldwork,1,1) = 'P' \n",
    "\n",
    "tdr = pd.read_sql_query(request, conn)\n",
    "tdr"
   ]
  },
  {
   "cell_type": "code",
   "execution_count": 61,
   "metadata": {
    "id": "FsLfaOzHlBVu"
   },
   "outputs": [],
   "source": [
    "tdr['datetime'] = pd.to_datetime(tdr['datetime'], format='%Y-%m-%d %H:%M:%S')\n",
    "gps['datetime'] = pd.to_datetime(gps['datetime'], format='%Y-%m-%d %H:%M:%S')"
   ]
  },
  {
   "cell_type": "code",
   "execution_count": 62,
   "metadata": {
    "colab": {
     "base_uri": "https://localhost:8080/",
     "height": 424
    },
    "id": "3y-dQs7DlBVy",
    "outputId": "0288f270-99c7-4924-ba25-0141d65b17c5"
   },
   "outputs": [
    {
     "data": {
      "text/html": [
       "<div>\n",
       "<style scoped>\n",
       "    .dataframe tbody tr th:only-of-type {\n",
       "        vertical-align: middle;\n",
       "    }\n",
       "\n",
       "    .dataframe tbody tr th {\n",
       "        vertical-align: top;\n",
       "    }\n",
       "\n",
       "    .dataframe thead th {\n",
       "        text-align: right;\n",
       "    }\n",
       "</style>\n",
       "<table border=\"1\" class=\"dataframe\">\n",
       "  <thead>\n",
       "    <tr style=\"text-align: right;\">\n",
       "      <th></th>\n",
       "      <th>trip</th>\n",
       "      <th>datetime</th>\n",
       "      <th>pressure</th>\n",
       "      <th>lon</th>\n",
       "      <th>lat</th>\n",
       "    </tr>\n",
       "  </thead>\n",
       "  <tbody>\n",
       "    <tr>\n",
       "      <th>0</th>\n",
       "      <td>P1108_4_SV_T1</td>\n",
       "      <td>2008-11-25 13:00:35</td>\n",
       "      <td>-0.35</td>\n",
       "      <td>-77.264128</td>\n",
       "      <td>-11.773317</td>\n",
       "    </tr>\n",
       "    <tr>\n",
       "      <th>1</th>\n",
       "      <td>P1108_4_SV_T1</td>\n",
       "      <td>2008-11-25 13:00:36</td>\n",
       "      <td>-0.38</td>\n",
       "      <td>-77.264118</td>\n",
       "      <td>-11.773235</td>\n",
       "    </tr>\n",
       "    <tr>\n",
       "      <th>2</th>\n",
       "      <td>P1108_4_SV_T1</td>\n",
       "      <td>2008-11-25 13:00:37</td>\n",
       "      <td>-0.35</td>\n",
       "      <td>-77.264098</td>\n",
       "      <td>-11.773152</td>\n",
       "    </tr>\n",
       "    <tr>\n",
       "      <th>3</th>\n",
       "      <td>P1108_4_SV_T1</td>\n",
       "      <td>2008-11-25 13:00:38</td>\n",
       "      <td>-0.29</td>\n",
       "      <td>-77.264113</td>\n",
       "      <td>-11.773060</td>\n",
       "    </tr>\n",
       "    <tr>\n",
       "      <th>4</th>\n",
       "      <td>P1108_4_SV_T1</td>\n",
       "      <td>2008-11-25 13:00:39</td>\n",
       "      <td>-0.29</td>\n",
       "      <td>-77.264142</td>\n",
       "      <td>-11.772955</td>\n",
       "    </tr>\n",
       "    <tr>\n",
       "      <th>...</th>\n",
       "      <td>...</td>\n",
       "      <td>...</td>\n",
       "      <td>...</td>\n",
       "      <td>...</td>\n",
       "      <td>...</td>\n",
       "    </tr>\n",
       "    <tr>\n",
       "      <th>1086337</th>\n",
       "      <td>P1113_50_SV_T2</td>\n",
       "      <td>2013-11-25 05:23:26</td>\n",
       "      <td>-0.94</td>\n",
       "      <td>-77.264832</td>\n",
       "      <td>-11.773701</td>\n",
       "    </tr>\n",
       "    <tr>\n",
       "      <th>1086338</th>\n",
       "      <td>P1113_50_SV_T2</td>\n",
       "      <td>2013-11-25 05:23:27</td>\n",
       "      <td>-0.94</td>\n",
       "      <td>-77.264862</td>\n",
       "      <td>-11.773664</td>\n",
       "    </tr>\n",
       "    <tr>\n",
       "      <th>1086339</th>\n",
       "      <td>P1113_50_SV_T2</td>\n",
       "      <td>2013-11-25 05:23:28</td>\n",
       "      <td>-0.94</td>\n",
       "      <td>-77.264900</td>\n",
       "      <td>-11.773705</td>\n",
       "    </tr>\n",
       "    <tr>\n",
       "      <th>1086340</th>\n",
       "      <td>P1113_50_SV_T2</td>\n",
       "      <td>2013-11-25 05:23:29</td>\n",
       "      <td>-0.94</td>\n",
       "      <td>-77.264931</td>\n",
       "      <td>-11.773739</td>\n",
       "    </tr>\n",
       "    <tr>\n",
       "      <th>1086341</th>\n",
       "      <td>P1113_50_SV_T2</td>\n",
       "      <td>2013-11-25 05:23:30</td>\n",
       "      <td>-0.94</td>\n",
       "      <td>-77.264954</td>\n",
       "      <td>-11.773770</td>\n",
       "    </tr>\n",
       "  </tbody>\n",
       "</table>\n",
       "<p>1086342 rows × 5 columns</p>\n",
       "</div>"
      ],
      "text/plain": [
       "                   trip            datetime  pressure        lon        lat\n",
       "0         P1108_4_SV_T1 2008-11-25 13:00:35     -0.35 -77.264128 -11.773317\n",
       "1         P1108_4_SV_T1 2008-11-25 13:00:36     -0.38 -77.264118 -11.773235\n",
       "2         P1108_4_SV_T1 2008-11-25 13:00:37     -0.35 -77.264098 -11.773152\n",
       "3         P1108_4_SV_T1 2008-11-25 13:00:38     -0.29 -77.264113 -11.773060\n",
       "4         P1108_4_SV_T1 2008-11-25 13:00:39     -0.29 -77.264142 -11.772955\n",
       "...                 ...                 ...       ...        ...        ...\n",
       "1086337  P1113_50_SV_T2 2013-11-25 05:23:26     -0.94 -77.264832 -11.773701\n",
       "1086338  P1113_50_SV_T2 2013-11-25 05:23:27     -0.94 -77.264862 -11.773664\n",
       "1086339  P1113_50_SV_T2 2013-11-25 05:23:28     -0.94 -77.264900 -11.773705\n",
       "1086340  P1113_50_SV_T2 2013-11-25 05:23:29     -0.94 -77.264931 -11.773739\n",
       "1086341  P1113_50_SV_T2 2013-11-25 05:23:30     -0.94 -77.264954 -11.773770\n",
       "\n",
       "[1086342 rows x 5 columns]"
      ]
     },
     "execution_count": 62,
     "metadata": {
      "tags": []
     },
     "output_type": "execute_result"
    }
   ],
   "source": [
    "df = pd.merge(tdr, gps, on=['trip', 'datetime'], how='left')\n",
    "df"
   ]
  },
  {
   "cell_type": "code",
   "execution_count": 63,
   "metadata": {
    "id": "ezQ3WSrMlBV2"
   },
   "outputs": [],
   "source": [
    "# check NaN and fill with interpolations\n",
    "[i for i, x in enumerate(df['lon'].isna()) if x]\n",
    "\n",
    "\n",
    "df['lon'] = df['lon'].interpolate(method='polynomial', order=2)\n",
    "df['lat'] = df['lat'].interpolate(method='polynomial', order=2)"
   ]
  },
  {
   "cell_type": "code",
   "execution_count": 64,
   "metadata": {
    "colab": {
     "base_uri": "https://localhost:8080/",
     "height": 35
    },
    "id": "-rMJhCx4lBV7",
    "outputId": "fec17b68-897e-4f30-89d3-a2900cf76da4"
   },
   "outputs": [
    {
     "data": {
      "text/plain": [
       "185"
      ]
     },
     "execution_count": 64,
     "metadata": {
      "tags": []
     },
     "output_type": "execute_result"
    }
   ],
   "source": [
    "len(df.trip.unique())"
   ]
  },
  {
   "cell_type": "code",
   "execution_count": 65,
   "metadata": {
    "id": "yPftDapClBV_"
   },
   "outputs": [],
   "source": [
    "# threshold = 1\n",
    "# path_folder = \"./trajectory/\"\n",
    "\n",
    "# for t in df.trip.unique():\n",
    "    \n",
    "#     path_file = path_folder + t\n",
    "#     df_trip = df[df.trip == t]\n",
    "    \n",
    "#     bias = np.median(df_trip.pressure.values)\n",
    "  \n",
    "#     plt.figure(figsize=(9, 3))\n",
    "\n",
    "#     plt.subplot(1, 2, 1)\n",
    "#     plt.plot(df_trip.datetime.values, df_trip.pressure.values)\n",
    "#     plt.plot(df_trip.datetime.values, [threshold+bias for i in range(len(df_trip))], color = 'orange')\n",
    "\n",
    "#     plt.subplot(1, 2, 2)\n",
    "#     plt.plot(df_trip.lon.values, df_trip.lat.values)\n",
    "#     plt.scatter(df_trip.lon.values[df_trip.pressure-bias > threshold], \\\n",
    "#                 df_trip.lat.values[df_trip.pressure-bias > threshold], c = 'orange')\n",
    "    \n",
    "#     plt.savefig(path_file)\n",
    "#     plt.close()"
   ]
  },
  {
   "cell_type": "code",
   "execution_count": 66,
   "metadata": {
    "id": "VUrhk1xslBWE"
   },
   "outputs": [],
   "source": [
    "bad_trip = ['P1111_9_SV_T1', 'P1111_13_SV_T6', 'P1111_41_SV_T2', 'P1111_46_SV_T5', 'P1111_52_SV_T1',\n",
    "            'P1112_4_SV_T2', 'P1112_26_SV_T5', 'P1112_36_SV_T1', 'P1112_36_SV_T2', 'P1113_41_SV_T3',\n",
    "           'P1113_50_SV_T2']\n",
    "\n",
    "no_loop = ['P1112_26_SV_T1', 'P1112_26_SV_T2', 'P1112_26_SV_T3', 'P1112_26_SV_T4']"
   ]
  },
  {
   "cell_type": "code",
   "execution_count": 67,
   "metadata": {
    "id": "gbmPfofrlBWI"
   },
   "outputs": [],
   "source": [
    "### remove bad data\n",
    "idx = df.index[[(t in bad_trip or t in no_loop) for t in df.trip]]\n",
    "df = df.drop(idx)"
   ]
  },
  {
   "cell_type": "code",
   "execution_count": 68,
   "metadata": {
    "colab": {
     "base_uri": "https://localhost:8080/",
     "height": 35
    },
    "id": "BMlPJEqSlBWL",
    "outputId": "0017b40f-3177-4d52-ad76-dd4ebd645f3d",
    "scrolled": true
   },
   "outputs": [
    {
     "data": {
      "text/plain": [
       "170"
      ]
     },
     "execution_count": 68,
     "metadata": {
      "tags": []
     },
     "output_type": "execute_result"
    }
   ],
   "source": [
    "len(df.trip.unique())"
   ]
  },
  {
   "cell_type": "markdown",
   "metadata": {
    "id": "FQs8vxWMlBWP"
   },
   "source": [
    "## Trip Statistics"
   ]
  },
  {
   "cell_type": "code",
   "execution_count": 95,
   "metadata": {
    "colab": {
     "base_uri": "https://localhost:8080/",
     "height": 424
    },
    "id": "USFIntlilBWQ",
    "outputId": "4e1af147-f46f-4b81-a0d1-7a8771c86afd"
   },
   "outputs": [
    {
     "data": {
      "text/html": [
       "<div>\n",
       "<style scoped>\n",
       "    .dataframe tbody tr th:only-of-type {\n",
       "        vertical-align: middle;\n",
       "    }\n",
       "\n",
       "    .dataframe tbody tr th {\n",
       "        vertical-align: top;\n",
       "    }\n",
       "\n",
       "    .dataframe thead th {\n",
       "        text-align: right;\n",
       "    }\n",
       "</style>\n",
       "<table border=\"1\" class=\"dataframe\">\n",
       "  <thead>\n",
       "    <tr style=\"text-align: right;\">\n",
       "      <th></th>\n",
       "      <th>trip</th>\n",
       "      <th>datetime</th>\n",
       "      <th>pressure</th>\n",
       "      <th>lon</th>\n",
       "      <th>lat</th>\n",
       "    </tr>\n",
       "  </thead>\n",
       "  <tbody>\n",
       "    <tr>\n",
       "      <th>0</th>\n",
       "      <td>P1108_4_SV_T1</td>\n",
       "      <td>2008-11-25 13:00:35</td>\n",
       "      <td>-0.35</td>\n",
       "      <td>-77.264128</td>\n",
       "      <td>-11.773317</td>\n",
       "    </tr>\n",
       "    <tr>\n",
       "      <th>1</th>\n",
       "      <td>P1108_4_SV_T1</td>\n",
       "      <td>2008-11-25 13:00:36</td>\n",
       "      <td>-0.38</td>\n",
       "      <td>-77.264118</td>\n",
       "      <td>-11.773235</td>\n",
       "    </tr>\n",
       "    <tr>\n",
       "      <th>2</th>\n",
       "      <td>P1108_4_SV_T1</td>\n",
       "      <td>2008-11-25 13:00:37</td>\n",
       "      <td>-0.35</td>\n",
       "      <td>-77.264098</td>\n",
       "      <td>-11.773152</td>\n",
       "    </tr>\n",
       "    <tr>\n",
       "      <th>3</th>\n",
       "      <td>P1108_4_SV_T1</td>\n",
       "      <td>2008-11-25 13:00:38</td>\n",
       "      <td>-0.29</td>\n",
       "      <td>-77.264113</td>\n",
       "      <td>-11.773060</td>\n",
       "    </tr>\n",
       "    <tr>\n",
       "      <th>4</th>\n",
       "      <td>P1108_4_SV_T1</td>\n",
       "      <td>2008-11-25 13:00:39</td>\n",
       "      <td>-0.29</td>\n",
       "      <td>-77.264142</td>\n",
       "      <td>-11.772955</td>\n",
       "    </tr>\n",
       "    <tr>\n",
       "      <th>...</th>\n",
       "      <td>...</td>\n",
       "      <td>...</td>\n",
       "      <td>...</td>\n",
       "      <td>...</td>\n",
       "      <td>...</td>\n",
       "    </tr>\n",
       "    <tr>\n",
       "      <th>6622</th>\n",
       "      <td>P1108_4_SV_T1</td>\n",
       "      <td>2008-11-25 14:50:57</td>\n",
       "      <td>-0.29</td>\n",
       "      <td>-77.264097</td>\n",
       "      <td>-11.773710</td>\n",
       "    </tr>\n",
       "    <tr>\n",
       "      <th>6623</th>\n",
       "      <td>P1108_4_SV_T1</td>\n",
       "      <td>2008-11-25 14:50:58</td>\n",
       "      <td>-0.29</td>\n",
       "      <td>-77.264223</td>\n",
       "      <td>-11.773817</td>\n",
       "    </tr>\n",
       "    <tr>\n",
       "      <th>6624</th>\n",
       "      <td>P1108_4_SV_T1</td>\n",
       "      <td>2008-11-25 14:50:59</td>\n",
       "      <td>-0.26</td>\n",
       "      <td>-77.264307</td>\n",
       "      <td>-11.773860</td>\n",
       "    </tr>\n",
       "    <tr>\n",
       "      <th>6625</th>\n",
       "      <td>P1108_4_SV_T1</td>\n",
       "      <td>2008-11-25 14:51:00</td>\n",
       "      <td>-0.22</td>\n",
       "      <td>-77.264363</td>\n",
       "      <td>-11.773875</td>\n",
       "    </tr>\n",
       "    <tr>\n",
       "      <th>6626</th>\n",
       "      <td>P1108_4_SV_T1</td>\n",
       "      <td>2008-11-25 14:51:01</td>\n",
       "      <td>-0.22</td>\n",
       "      <td>-77.264395</td>\n",
       "      <td>-11.773895</td>\n",
       "    </tr>\n",
       "  </tbody>\n",
       "</table>\n",
       "<p>6627 rows × 5 columns</p>\n",
       "</div>"
      ],
      "text/plain": [
       "               trip            datetime  pressure        lon        lat\n",
       "0     P1108_4_SV_T1 2008-11-25 13:00:35     -0.35 -77.264128 -11.773317\n",
       "1     P1108_4_SV_T1 2008-11-25 13:00:36     -0.38 -77.264118 -11.773235\n",
       "2     P1108_4_SV_T1 2008-11-25 13:00:37     -0.35 -77.264098 -11.773152\n",
       "3     P1108_4_SV_T1 2008-11-25 13:00:38     -0.29 -77.264113 -11.773060\n",
       "4     P1108_4_SV_T1 2008-11-25 13:00:39     -0.29 -77.264142 -11.772955\n",
       "...             ...                 ...       ...        ...        ...\n",
       "6622  P1108_4_SV_T1 2008-11-25 14:50:57     -0.29 -77.264097 -11.773710\n",
       "6623  P1108_4_SV_T1 2008-11-25 14:50:58     -0.29 -77.264223 -11.773817\n",
       "6624  P1108_4_SV_T1 2008-11-25 14:50:59     -0.26 -77.264307 -11.773860\n",
       "6625  P1108_4_SV_T1 2008-11-25 14:51:00     -0.22 -77.264363 -11.773875\n",
       "6626  P1108_4_SV_T1 2008-11-25 14:51:01     -0.22 -77.264395 -11.773895\n",
       "\n",
       "[6627 rows x 5 columns]"
      ]
     },
     "execution_count": 95,
     "metadata": {
      "tags": []
     },
     "output_type": "execute_result"
    }
   ],
   "source": [
    "df_trip = df[df.trip == 'P1108_4_SV_T1']\n",
    "df_trip"
   ]
  },
  {
   "cell_type": "code",
   "execution_count": 96,
   "metadata": {
    "id": "S8VkUQ8VlBWT"
   },
   "outputs": [],
   "source": [
    "def dist_ortho(lon1, lat1, lon2, lat2):\n",
    "    R = 6377726\n",
    "    pi = np.pi\n",
    "    a = np.sin((lat1 - lat2)/2*pi/180)**2\n",
    "    b = np.cos(lat1*pi/180)*np.cos(lat2*pi/180)\n",
    "    c = np.sin((lon1- lon2)/2* pi/180)**2\n",
    "    \n",
    "    dist = R * 2* np.arcsin( np.sqrt(a + b*c))\n",
    "    return dist\n",
    "\n",
    "def cap(lon1, lat1, lon2, lat2):\n",
    "    pi = np.pi\n",
    "    \n",
    "    # to radians\n",
    "    lat1 = lat1*pi/180\n",
    "    lat2 = lat2*pi/180\n",
    "    lon1 = lon1*pi/180\n",
    "    lon2 = lon2*pi/180\n",
    "    \n",
    "    delta_lon = lon2-lon1\n",
    "    \n",
    "    a = np.cos(lat1) * np.sin(lat2) - np.sin(lat1)*np.cos(lat2)*np.cos(delta_lon)\n",
    "    b = np.sin(delta_lon) * np.cos(lat2)\n",
    "    \n",
    "    cap = np.arctan2(b , a)\n",
    "    cap = cap%(2*pi)\n",
    "    \n",
    "    return cap*180/pi\n",
    "\n",
    "class Trip:\n",
    "    def __init__(self, df):\n",
    "        \n",
    "        self.df = df.set_index(np.arange(len(df)))  \n",
    "           \n",
    "    ### GENERAL STATISTICS ### -----------------------------------------------\n",
    "    \n",
    "    def get_duration(self):\n",
    "        return max(self.df.datetime) - min(self.df.datetime)\n",
    "    \n",
    "    def get_distance(self):\n",
    "        return sum(self.get_step())/1e3\n",
    "\n",
    "    def standardize(self, vars):\n",
    "        for var in vars:\n",
    "            var_std = var + '_std'\n",
    "\n",
    "            df_var = self.df[var].values\n",
    "            self.df[var_std] = (df_var - np.nanmean(df_var))/np.nanstd(df_var)\n",
    "\n",
    "    def standardize_minmax(self, vars):\n",
    "        for var in vars:\n",
    "            var_std = var + '_std_mm'\n",
    "\n",
    "            df_var = self.df[var].values\n",
    "            self.df[var_std] = (df_var - np.nanmin(df_var))/ (np.nanmax(df_var) - np.nanmin(df_var)) \n",
    "\n",
    "    ### DIVE DETECTION ### -----------------------------------------------\n",
    "\n",
    "    def get_dive(self, threshold):\n",
    "        pressure = self.df.pressure.values\n",
    "        bias = np.median(pressure)\n",
    "        return 1*(pressure - bias > threshold)\n",
    "    \n",
    "    def add_dive(self, threshold):\n",
    "        self.df['dive'] = self.get_dive(threshold)\n",
    "\n",
    "    ### STEP-ANGLE PAIRS ### -----------------------------------------------\n",
    "    \n",
    "    def get_step(self):\n",
    "        n = len(self.df)\n",
    "        step = dist_ortho( self.df.lon.values[0:(n-1)], self.df.lat.values[0:(n-1)], self.df.lon.values[1:n], self.df.lat.values[1:n])\n",
    "        return step\n",
    "    \n",
    "    def add_step(self):\n",
    "        self.df['step'] = np.append(np.nan, self.get_step())\n",
    "        \n",
    "    def get_cap(self):\n",
    "        n = len(self.df)\n",
    "        c = cap( self.df.lon.values[0:(n-1)], self.df.lat.values[0:(n-1)], self.df.lon.values[1:n], self.df.lat.values[1:n])\n",
    "        return c\n",
    "    \n",
    "    def add_cap(self):\n",
    "        self.df['cap'] = np.append(np.nan, self.get_cap())\n",
    " \n",
    "    def get_direction(self):\n",
    "        direction = [d%360 - 360 if d%360 > 180 else d%360 for d in np.diff(self.get_cap())]\n",
    "        return np.array(direction)\n",
    "    \n",
    "    def add_direction(self):\n",
    "        a = np.empty(2)\n",
    "        a.fill(np.nan)\n",
    "        self.df['direction'] = np.append(a, self.get_direction())\n",
    "      \n",
    "    def plot(self):\n",
    "        \n",
    "        threshold = 1\n",
    "        bias = np.median(df_trip.pressure.values)\n",
    "        \n",
    "        plt.figure(figsize=(15, 3))\n",
    "\n",
    "        plt.subplot(1, 3, 1)\n",
    "        plt.plot(self.df.datetime.values, self.df.pressure.values)\n",
    "        plt.plot(self.df.datetime.values, [threshold+bias for i in range(len(self.df))], color = 'orange')\n",
    "\n",
    "        plt.subplot(1, 3, 2)\n",
    "        plt.plot(self.df.lon.values, self.df.lat.values)\n",
    "        plt.scatter(self.df.lon.values[self.df.pressure-bias > threshold], \\\n",
    "                    self.df.lat.values[self.df.pressure-bias > threshold], c = 'orange')\n",
    "        \n",
    "        plt.subplot(1, 3, 3)\n",
    "        plt.scatter(self.df.direction, self.df.step, alpha = 0.3)\n",
    "        plt.scatter(self.df.direction.values[self.df.pressure-bias > threshold],\n",
    "                    self.df.step.values[self.df.pressure-bias > threshold], c = 'orange')\n",
    "        \n",
    "    \n",
    "    ### AREA RESTRICTED RESEARCH ### -----------------------------------------------\n",
    "    \n",
    "    def compute_dist_matrix(self, verbose=True):\n",
    "        # matrix of distance\n",
    "        self.dist_matrix = np.zeros((len(self.df), len(self.df)))\n",
    "        \n",
    "        for i in range(len(self.df)):\n",
    "            lon1 = self.df.lon[[i for j in range(len(self.df))]]\n",
    "            lat1 = self.df.lat[[i for j in range(len(self.df))]]\n",
    "            lon2 = self.df.lon[[j for j in range(len(self.df))]]\n",
    "            lat2 = self.df.lat[[j for j in range(len(self.df))]]\n",
    "\n",
    "            self.dist_matrix[i, :] = dist_ortho(lon1.values, lat1.values, lon2.values, lat2.values)\n",
    "            \n",
    "            if verbose:\n",
    "                IPython.display.clear_output(wait=True)\n",
    "                print('Distance [{}/{}]'.format(i, len(self.df)))\n",
    "                \n",
    "    \n",
    "    def residence_time(self, radius):\n",
    "        residence_matrix = self.dist_matrix < radius\n",
    "        residence = [sum(residence_matrix[:,i]) for i in range(len(self.df))]\n",
    "        \n",
    "        return residence\n",
    "    \n",
    "    def first_time_passage(self, radius):\n",
    "        first_passage = np.zeros(len(t.df))\n",
    "        residence_matrix = self.dist_matrix < radius\n",
    "        \n",
    "        for i in range(len(self.df)):\n",
    "\n",
    "            idx = np.where(residence_matrix[:,i])[0]\n",
    "            delta = np.diff(idx)\n",
    "            \n",
    "            # get index start\n",
    "            i_start = i\n",
    "            while i_start in idx:\n",
    "                i_start -=1\n",
    "            \n",
    "            # get index end\n",
    "            i_end = i\n",
    "            while i_end in idx:\n",
    "                i_end +=1\n",
    "                \n",
    "            # get number of point\n",
    "            first_passage[i] = i_end-i_start+1\n",
    "            \n",
    "        return first_passage\n",
    "    ### -----------------------------------------------"
   ]
  },
  {
   "cell_type": "code",
   "execution_count": 97,
   "metadata": {
    "id": "BRh2PMltlBWX"
   },
   "outputs": [],
   "source": [
    "# create trip\n",
    "t = Trip(df_trip)\n",
    "threshold = 1\n",
    "\n",
    "# add variable\n",
    "t.add_step()\n",
    "t.add_cap()\n",
    "t.add_direction()\n",
    "t.add_dive(threshold)\n",
    "t.df['cos_cap'] = np.cos(t.df.cap)\n",
    "t.df['sin_cap'] = np.sin(t.df.cap)\n",
    "\n",
    "# standardize variable\n",
    "t.standardize(('step', 'direction'))\n",
    "t.standardize_minmax(('lon', 'lat'))"
   ]
  },
  {
   "cell_type": "code",
   "execution_count": 98,
   "metadata": {
    "colab": {
     "base_uri": "https://localhost:8080/",
     "height": 211
    },
    "id": "ALhefV1YlBWa",
    "outputId": "2e0fab6e-3b61-4fc9-f1f8-086ccb7078ee"
   },
   "outputs": [
    {
     "data": {
      "image/png": "[encoded data removed]",
      "text/plain": [
       "<Figure size 1080x216 with 3 Axes>"
      ]
     },
     "metadata": {
      "needs_background": "light",
      "tags": []
     },
     "output_type": "display_data"
    }
   ],
   "source": [
    "t.plot()"
   ]
  },
  {
   "cell_type": "code",
   "execution_count": 99,
   "metadata": {
    "colab": {
     "base_uri": "https://localhost:8080/",
     "height": 35
    },
    "id": "elWsE3tYlBWd",
    "outputId": "94dee64c-be6f-4d7a-dfb4-094f9d9b7583",
    "scrolled": true
   },
   "outputs": [
    {
     "data": {
      "text/plain": [
       "Timedelta('0 days 01:50:26')"
      ]
     },
     "execution_count": 99,
     "metadata": {
      "tags": []
     },
     "output_type": "execute_result"
    }
   ],
   "source": [
    "t.get_duration()"
   ]
  },
  {
   "cell_type": "code",
   "execution_count": 100,
   "metadata": {
    "colab": {
     "base_uri": "https://localhost:8080/",
     "height": 35
    },
    "id": "61lUiLy0lBWh",
    "outputId": "7a7a4dc2-2512-4310-ff9a-05e876ff713d",
    "scrolled": true
   },
   "outputs": [
    {
     "data": {
      "text/plain": [
       "88.1484595608965"
      ]
     },
     "execution_count": 100,
     "metadata": {
      "tags": []
     },
     "output_type": "execute_result"
    }
   ],
   "source": [
    "t.get_distance()"
   ]
  },
  {
   "cell_type": "code",
   "execution_count": 101,
   "metadata": {
    "colab": {
     "base_uri": "https://localhost:8080/",
     "height": 206
    },
    "id": "_fPGn8y2nIBV",
    "outputId": "105fe2dd-b952-4737-af7c-f0330e8730d9"
   },
   "outputs": [
    {
     "data": {
      "text/html": [
       "<div>\n",
       "<style scoped>\n",
       "    .dataframe tbody tr th:only-of-type {\n",
       "        vertical-align: middle;\n",
       "    }\n",
       "\n",
       "    .dataframe tbody tr th {\n",
       "        vertical-align: top;\n",
       "    }\n",
       "\n",
       "    .dataframe thead th {\n",
       "        text-align: right;\n",
       "    }\n",
       "</style>\n",
       "<table border=\"1\" class=\"dataframe\">\n",
       "  <thead>\n",
       "    <tr style=\"text-align: right;\">\n",
       "      <th></th>\n",
       "      <th>trip</th>\n",
       "      <th>datetime</th>\n",
       "      <th>pressure</th>\n",
       "      <th>lon</th>\n",
       "      <th>lat</th>\n",
       "      <th>step</th>\n",
       "      <th>cap</th>\n",
       "      <th>direction</th>\n",
       "      <th>dive</th>\n",
       "      <th>cos_cap</th>\n",
       "      <th>sin_cap</th>\n",
       "      <th>step_std</th>\n",
       "      <th>direction_std</th>\n",
       "      <th>lon_std_mm</th>\n",
       "      <th>lat_std_mm</th>\n",
       "    </tr>\n",
       "  </thead>\n",
       "  <tbody>\n",
       "    <tr>\n",
       "      <th>0</th>\n",
       "      <td>P1108_4_SV_T1</td>\n",
       "      <td>2008-11-25 13:00:35</td>\n",
       "      <td>-0.35</td>\n",
       "      <td>-77.264128</td>\n",
       "      <td>-11.773317</td>\n",
       "      <td>NaN</td>\n",
       "      <td>NaN</td>\n",
       "      <td>NaN</td>\n",
       "      <td>0</td>\n",
       "      <td>NaN</td>\n",
       "      <td>NaN</td>\n",
       "      <td>NaN</td>\n",
       "      <td>NaN</td>\n",
       "      <td>0.999801</td>\n",
       "      <td>0.143444</td>\n",
       "    </tr>\n",
       "    <tr>\n",
       "      <th>1</th>\n",
       "      <td>P1108_4_SV_T1</td>\n",
       "      <td>2008-11-25 13:00:36</td>\n",
       "      <td>-0.38</td>\n",
       "      <td>-77.264118</td>\n",
       "      <td>-11.773235</td>\n",
       "      <td>9.192428</td>\n",
       "      <td>6.808074</td>\n",
       "      <td>NaN</td>\n",
       "      <td>0</td>\n",
       "      <td>0.865380</td>\n",
       "      <td>0.501117</td>\n",
       "      <td>-1.114452</td>\n",
       "      <td>NaN</td>\n",
       "      <td>0.999830</td>\n",
       "      <td>0.144644</td>\n",
       "    </tr>\n",
       "    <tr>\n",
       "      <th>2</th>\n",
       "      <td>P1108_4_SV_T1</td>\n",
       "      <td>2008-11-25 13:00:37</td>\n",
       "      <td>-0.35</td>\n",
       "      <td>-77.264098</td>\n",
       "      <td>-11.773152</td>\n",
       "      <td>9.492498</td>\n",
       "      <td>13.273123</td>\n",
       "      <td>6.465048</td>\n",
       "      <td>0</td>\n",
       "      <td>0.760475</td>\n",
       "      <td>0.649367</td>\n",
       "      <td>-1.033105</td>\n",
       "      <td>0.316087</td>\n",
       "      <td>0.999889</td>\n",
       "      <td>0.145858</td>\n",
       "    </tr>\n",
       "    <tr>\n",
       "      <th>3</th>\n",
       "      <td>P1108_4_SV_T1</td>\n",
       "      <td>2008-11-25 13:00:38</td>\n",
       "      <td>-0.29</td>\n",
       "      <td>-77.264113</td>\n",
       "      <td>-11.773060</td>\n",
       "      <td>10.370362</td>\n",
       "      <td>350.931311</td>\n",
       "      <td>-22.341812</td>\n",
       "      <td>0</td>\n",
       "      <td>0.600183</td>\n",
       "      <td>-0.799863</td>\n",
       "      <td>-0.795125</td>\n",
       "      <td>-1.099954</td>\n",
       "      <td>0.999845</td>\n",
       "      <td>0.147204</td>\n",
       "    </tr>\n",
       "    <tr>\n",
       "      <th>4</th>\n",
       "      <td>P1108_4_SV_T1</td>\n",
       "      <td>2008-11-25 13:00:39</td>\n",
       "      <td>-0.29</td>\n",
       "      <td>-77.264142</td>\n",
       "      <td>-11.772955</td>\n",
       "      <td>12.107480</td>\n",
       "      <td>344.870108</td>\n",
       "      <td>-6.061203</td>\n",
       "      <td>0</td>\n",
       "      <td>0.761557</td>\n",
       "      <td>-0.648098</td>\n",
       "      <td>-0.324208</td>\n",
       "      <td>-0.299658</td>\n",
       "      <td>0.999760</td>\n",
       "      <td>0.148740</td>\n",
       "    </tr>\n",
       "  </tbody>\n",
       "</table>\n",
       "</div>"
      ],
      "text/plain": [
       "            trip            datetime  ...  lon_std_mm  lat_std_mm\n",
       "0  P1108_4_SV_T1 2008-11-25 13:00:35  ...    0.999801    0.143444\n",
       "1  P1108_4_SV_T1 2008-11-25 13:00:36  ...    0.999830    0.144644\n",
       "2  P1108_4_SV_T1 2008-11-25 13:00:37  ...    0.999889    0.145858\n",
       "3  P1108_4_SV_T1 2008-11-25 13:00:38  ...    0.999845    0.147204\n",
       "4  P1108_4_SV_T1 2008-11-25 13:00:39  ...    0.999760    0.148740\n",
       "\n",
       "[5 rows x 15 columns]"
      ]
     },
     "execution_count": 101,
     "metadata": {
      "tags": []
     },
     "output_type": "execute_result"
    }
   ],
   "source": [
    "t.df.head()"
   ]
  },
  {
   "cell_type": "markdown",
   "metadata": {
    "id": "ZSqMbo6zlBWw"
   },
   "source": [
    "## Dive Prediction"
   ]
  },
  {
   "cell_type": "code",
   "execution_count": 102,
   "metadata": {
    "colab": {
     "base_uri": "https://localhost:8080/",
     "height": 72
    },
    "id": "fLC0RAsXlBW0",
    "outputId": "8d3d762d-5b89-49f4-df47-4e90daaaa971"
   },
   "outputs": [
    {
     "name": "stdout",
     "output_type": "stream",
     "text": [
      "Trip [170/170]\n",
      "CPU times: user 20.4 s, sys: 271 ms, total: 20.7 s\n",
      "Wall time: 20.6 s\n"
     ]
    }
   ],
   "source": [
    "%%time\n",
    "\n",
    "trajs = []\n",
    "radius = 500\n",
    "n = 1\n",
    "for trip in df.trip.unique():\n",
    "    df_trip = df[df.trip == trip]\n",
    "    \n",
    "    t = Trip(df_trip)\n",
    "    # add variables\n",
    "    t.add_dive(threshold)\n",
    "    t.add_step()\n",
    "    t.add_cap()\n",
    "    t.add_direction()\n",
    "    t.df['cos_cap'] = np.cos(t.df.cap)\n",
    "    t.df['sin_cap'] = np.sin(t.df.cap)\n",
    "\n",
    "    # standardized trajectories\n",
    "    t.standardize(('step', 'direction'))\n",
    "    t.standardize_minmax(('lon', 'lat'))\n",
    "\n",
    "    trajs.append(t.df)\n",
    "    \n",
    "    IPython.display.clear_output(wait=True)\n",
    "    print('Trip [{}/{}]'.format(n, len(df.trip.unique())))\n",
    "    n+=1"
   ]
  },
  {
   "cell_type": "code",
   "execution_count": 103,
   "metadata": {
    "colab": {
     "base_uri": "https://localhost:8080/",
     "height": 424
    },
    "id": "ictIDcImlBW2",
    "outputId": "07b31084-5ae0-46d3-e585-2f682573b7fd"
   },
   "outputs": [
    {
     "data": {
      "text/html": [
       "<div>\n",
       "<style scoped>\n",
       "    .dataframe tbody tr th:only-of-type {\n",
       "        vertical-align: middle;\n",
       "    }\n",
       "\n",
       "    .dataframe tbody tr th {\n",
       "        vertical-align: top;\n",
       "    }\n",
       "\n",
       "    .dataframe thead th {\n",
       "        text-align: right;\n",
       "    }\n",
       "</style>\n",
       "<table border=\"1\" class=\"dataframe\">\n",
       "  <thead>\n",
       "    <tr style=\"text-align: right;\">\n",
       "      <th></th>\n",
       "      <th>trip</th>\n",
       "      <th>datetime</th>\n",
       "      <th>pressure</th>\n",
       "      <th>lon</th>\n",
       "      <th>lat</th>\n",
       "      <th>dive</th>\n",
       "      <th>step</th>\n",
       "      <th>cap</th>\n",
       "      <th>direction</th>\n",
       "      <th>cos_cap</th>\n",
       "      <th>sin_cap</th>\n",
       "      <th>step_std</th>\n",
       "      <th>direction_std</th>\n",
       "      <th>lon_std_mm</th>\n",
       "      <th>lat_std_mm</th>\n",
       "    </tr>\n",
       "  </thead>\n",
       "  <tbody>\n",
       "    <tr>\n",
       "      <th>0</th>\n",
       "      <td>P1108_4_SV_T1</td>\n",
       "      <td>2008-11-25 13:00:35</td>\n",
       "      <td>-0.35</td>\n",
       "      <td>-77.264128</td>\n",
       "      <td>-11.773317</td>\n",
       "      <td>0</td>\n",
       "      <td>NaN</td>\n",
       "      <td>NaN</td>\n",
       "      <td>NaN</td>\n",
       "      <td>NaN</td>\n",
       "      <td>NaN</td>\n",
       "      <td>NaN</td>\n",
       "      <td>NaN</td>\n",
       "      <td>0.999801</td>\n",
       "      <td>0.143444</td>\n",
       "    </tr>\n",
       "    <tr>\n",
       "      <th>1</th>\n",
       "      <td>P1108_4_SV_T1</td>\n",
       "      <td>2008-11-25 13:00:36</td>\n",
       "      <td>-0.38</td>\n",
       "      <td>-77.264118</td>\n",
       "      <td>-11.773235</td>\n",
       "      <td>0</td>\n",
       "      <td>9.192428</td>\n",
       "      <td>6.808074</td>\n",
       "      <td>NaN</td>\n",
       "      <td>0.865380</td>\n",
       "      <td>0.501117</td>\n",
       "      <td>-1.114452</td>\n",
       "      <td>NaN</td>\n",
       "      <td>0.999830</td>\n",
       "      <td>0.144644</td>\n",
       "    </tr>\n",
       "    <tr>\n",
       "      <th>2</th>\n",
       "      <td>P1108_4_SV_T1</td>\n",
       "      <td>2008-11-25 13:00:37</td>\n",
       "      <td>-0.35</td>\n",
       "      <td>-77.264098</td>\n",
       "      <td>-11.773152</td>\n",
       "      <td>0</td>\n",
       "      <td>9.492498</td>\n",
       "      <td>13.273123</td>\n",
       "      <td>6.465048</td>\n",
       "      <td>0.760475</td>\n",
       "      <td>0.649367</td>\n",
       "      <td>-1.033105</td>\n",
       "      <td>0.316087</td>\n",
       "      <td>0.999889</td>\n",
       "      <td>0.145858</td>\n",
       "    </tr>\n",
       "    <tr>\n",
       "      <th>3</th>\n",
       "      <td>P1108_4_SV_T1</td>\n",
       "      <td>2008-11-25 13:00:38</td>\n",
       "      <td>-0.29</td>\n",
       "      <td>-77.264113</td>\n",
       "      <td>-11.773060</td>\n",
       "      <td>0</td>\n",
       "      <td>10.370362</td>\n",
       "      <td>350.931311</td>\n",
       "      <td>-22.341812</td>\n",
       "      <td>0.600183</td>\n",
       "      <td>-0.799863</td>\n",
       "      <td>-0.795125</td>\n",
       "      <td>-1.099954</td>\n",
       "      <td>0.999845</td>\n",
       "      <td>0.147204</td>\n",
       "    </tr>\n",
       "    <tr>\n",
       "      <th>4</th>\n",
       "      <td>P1108_4_SV_T1</td>\n",
       "      <td>2008-11-25 13:00:39</td>\n",
       "      <td>-0.29</td>\n",
       "      <td>-77.264142</td>\n",
       "      <td>-11.772955</td>\n",
       "      <td>0</td>\n",
       "      <td>12.107480</td>\n",
       "      <td>344.870108</td>\n",
       "      <td>-6.061203</td>\n",
       "      <td>0.761557</td>\n",
       "      <td>-0.648098</td>\n",
       "      <td>-0.324208</td>\n",
       "      <td>-0.299658</td>\n",
       "      <td>0.999760</td>\n",
       "      <td>0.148740</td>\n",
       "    </tr>\n",
       "    <tr>\n",
       "      <th>...</th>\n",
       "      <td>...</td>\n",
       "      <td>...</td>\n",
       "      <td>...</td>\n",
       "      <td>...</td>\n",
       "      <td>...</td>\n",
       "      <td>...</td>\n",
       "      <td>...</td>\n",
       "      <td>...</td>\n",
       "      <td>...</td>\n",
       "      <td>...</td>\n",
       "      <td>...</td>\n",
       "      <td>...</td>\n",
       "      <td>...</td>\n",
       "      <td>...</td>\n",
       "      <td>...</td>\n",
       "    </tr>\n",
       "    <tr>\n",
       "      <th>6622</th>\n",
       "      <td>P1108_4_SV_T1</td>\n",
       "      <td>2008-11-25 14:50:57</td>\n",
       "      <td>-0.29</td>\n",
       "      <td>-77.264097</td>\n",
       "      <td>-11.773710</td>\n",
       "      <td>0</td>\n",
       "      <td>15.773785</td>\n",
       "      <td>194.809616</td>\n",
       "      <td>17.804082</td>\n",
       "      <td>0.999524</td>\n",
       "      <td>0.030867</td>\n",
       "      <td>0.669693</td>\n",
       "      <td>0.873473</td>\n",
       "      <td>0.999892</td>\n",
       "      <td>0.137695</td>\n",
       "    </tr>\n",
       "    <tr>\n",
       "      <th>6623</th>\n",
       "      <td>P1108_4_SV_T1</td>\n",
       "      <td>2008-11-25 14:50:58</td>\n",
       "      <td>-0.29</td>\n",
       "      <td>-77.264223</td>\n",
       "      <td>-11.773817</td>\n",
       "      <td>0</td>\n",
       "      <td>18.176315</td>\n",
       "      <td>229.059760</td>\n",
       "      <td>34.250144</td>\n",
       "      <td>-0.962016</td>\n",
       "      <td>0.272994</td>\n",
       "      <td>1.320996</td>\n",
       "      <td>1.681902</td>\n",
       "      <td>0.999523</td>\n",
       "      <td>0.136130</td>\n",
       "    </tr>\n",
       "    <tr>\n",
       "      <th>6624</th>\n",
       "      <td>P1108_4_SV_T1</td>\n",
       "      <td>2008-11-25 14:50:59</td>\n",
       "      <td>-0.26</td>\n",
       "      <td>-77.264307</td>\n",
       "      <td>-11.773860</td>\n",
       "      <td>0</td>\n",
       "      <td>10.329409</td>\n",
       "      <td>242.394637</td>\n",
       "      <td>13.334877</td>\n",
       "      <td>-0.881389</td>\n",
       "      <td>-0.472392</td>\n",
       "      <td>-0.806227</td>\n",
       "      <td>0.653783</td>\n",
       "      <td>0.999277</td>\n",
       "      <td>0.135500</td>\n",
       "    </tr>\n",
       "    <tr>\n",
       "      <th>6625</th>\n",
       "      <td>P1108_4_SV_T1</td>\n",
       "      <td>2008-11-25 14:51:00</td>\n",
       "      <td>-0.22</td>\n",
       "      <td>-77.264363</td>\n",
       "      <td>-11.773875</td>\n",
       "      <td>0</td>\n",
       "      <td>6.326643</td>\n",
       "      <td>254.697607</td>\n",
       "      <td>12.302970</td>\n",
       "      <td>-0.973984</td>\n",
       "      <td>-0.226616</td>\n",
       "      <td>-1.891339</td>\n",
       "      <td>0.603058</td>\n",
       "      <td>0.999113</td>\n",
       "      <td>0.135281</td>\n",
       "    </tr>\n",
       "    <tr>\n",
       "      <th>6626</th>\n",
       "      <td>P1108_4_SV_T1</td>\n",
       "      <td>2008-11-25 14:51:01</td>\n",
       "      <td>-0.22</td>\n",
       "      <td>-77.264395</td>\n",
       "      <td>-11.773895</td>\n",
       "      <td>0</td>\n",
       "      <td>4.137113</td>\n",
       "      <td>237.444521</td>\n",
       "      <td>-17.253086</td>\n",
       "      <td>0.251544</td>\n",
       "      <td>-0.967846</td>\n",
       "      <td>-2.484900</td>\n",
       "      <td>-0.849811</td>\n",
       "      <td>0.999019</td>\n",
       "      <td>0.134988</td>\n",
       "    </tr>\n",
       "  </tbody>\n",
       "</table>\n",
       "<p>6627 rows × 15 columns</p>\n",
       "</div>"
      ],
      "text/plain": [
       "               trip            datetime  ...  lon_std_mm  lat_std_mm\n",
       "0     P1108_4_SV_T1 2008-11-25 13:00:35  ...    0.999801    0.143444\n",
       "1     P1108_4_SV_T1 2008-11-25 13:00:36  ...    0.999830    0.144644\n",
       "2     P1108_4_SV_T1 2008-11-25 13:00:37  ...    0.999889    0.145858\n",
       "3     P1108_4_SV_T1 2008-11-25 13:00:38  ...    0.999845    0.147204\n",
       "4     P1108_4_SV_T1 2008-11-25 13:00:39  ...    0.999760    0.148740\n",
       "...             ...                 ...  ...         ...         ...\n",
       "6622  P1108_4_SV_T1 2008-11-25 14:50:57  ...    0.999892    0.137695\n",
       "6623  P1108_4_SV_T1 2008-11-25 14:50:58  ...    0.999523    0.136130\n",
       "6624  P1108_4_SV_T1 2008-11-25 14:50:59  ...    0.999277    0.135500\n",
       "6625  P1108_4_SV_T1 2008-11-25 14:51:00  ...    0.999113    0.135281\n",
       "6626  P1108_4_SV_T1 2008-11-25 14:51:01  ...    0.999019    0.134988\n",
       "\n",
       "[6627 rows x 15 columns]"
      ]
     },
     "execution_count": 103,
     "metadata": {
      "tags": []
     },
     "output_type": "execute_result"
    }
   ],
   "source": [
    "trajs[0]"
   ]
  },
  {
   "cell_type": "code",
   "execution_count": 166,
   "metadata": {
    "id": "3QamIv7s9mzK"
   },
   "outputs": [],
   "source": [
    "test_trajs_idx = np.random.randint(0, len(df.trip.unique()), 30)\n",
    "\n",
    "test_trajs = [trajs[i] for i in test_trajs_idx]\n",
    "train_trajs = [trajs[i] for i in range(len(df.trip.unique())) if i not in test_trajs_idx]"
   ]
  },
  {
   "cell_type": "markdown",
   "metadata": {
    "id": "4QxYlxWFlBWl"
   },
   "source": [
    "## Area Restricted Research\n"
   ]
  },
  {
   "cell_type": "code",
   "execution_count": null,
   "metadata": {
    "id": "tpLJWapfBZp3"
   },
   "outputs": [],
   "source": [
    "# %%time\n",
    "# radius=500\n",
    "# test_trajs_ars = []\n",
    "\n",
    "# for dt in test_trajs:\n",
    "#   t = Trip(dt)\n",
    "#   t.compute_dist_matrix()\n",
    "#   first_passage = t.first_time_passage(radius)\n",
    "#   t.df['first_passage'] = first_passage\n",
    "\n",
    "#   print(dt.trip.unique())\n",
    "#   test_trajs_ars.append(t.df)"
   ]
  },
  {
   "cell_type": "code",
   "execution_count": null,
   "metadata": {
    "id": "Tq6J4pQJlBWs",
    "scrolled": false
   },
   "outputs": [],
   "source": [
    "# tt = 170\n",
    "\n",
    "# plt.figure(figsize=(9, 9))\n",
    "\n",
    "# plt.subplot(2, 2, 1)\n",
    "# plt.plot(residence)\n",
    "# plt.plot(tt*np.ones(len(residence)), c = 'orange')\n",
    "\n",
    "# plt.subplot(2, 2, 2)\n",
    "# plt.plot(first_passage)\n",
    "# plt.plot(tt*np.ones(len(residence)), c = 'orange')\n",
    "\n",
    "# plt.subplot(2, 2, 3)\n",
    "# plt.plot(t.df.lon.values, t.df.lat.values)\n",
    "# plt.scatter(t.df.lon.values[np.array(residence)>tt], \\\n",
    "#             t.df.lat.values[np.array(residence)>tt], c = 'orange')\n",
    "\n",
    "# plt.subplot(2, 2, 4)\n",
    "# plt.plot(t.df.lon.values, t.df.lat.values)\n",
    "# plt.scatter(t.df.lon.values[np.array(first_passage)>tt], \\\n",
    "#             t.df.lat.values[np.array(first_passage)>tt], c = 'orange')"
   ]
  },
  {
   "cell_type": "markdown",
   "metadata": {
    "id": "gaKHd3YUlBWv"
   },
   "source": [
    "Area Restricted Approach seems to be ok, but it can not distinguish resting from foraging.."
   ]
  },
  {
   "cell_type": "markdown",
   "metadata": {
    "id": "biCtWhQDM8Gg"
   },
   "source": [
    "## Neural Networks"
   ]
  },
  {
   "cell_type": "code",
   "execution_count": 167,
   "metadata": {
    "id": "MaOTUwij9uRq"
   },
   "outputs": [],
   "source": [
    "# pytorch materials\n",
    "import torch\n",
    "from torch import nn\n",
    "from torch import optim\n",
    "import torchvision as tv\n",
    "from torchvision.datasets import ImageFolder\n",
    "from torch.utils.data import DataLoader"
   ]
  },
  {
   "cell_type": "code",
   "execution_count": 168,
   "metadata": {
    "id": "S2kxbquAwwA4"
   },
   "outputs": [],
   "source": [
    "class Sampler:\n",
    "    def __init__(self, trajs, epoch, batch_size, input_var, output_var):\n",
    "    # raw trajectories\n",
    "    self.trajs = trajs\n",
    "    self.n = len(trajs)\n",
    "    # sample input specificities\n",
    "    self.epoch = epoch\n",
    "    self.batch_size = batch_size\n",
    "    self.input_var = input_var\n",
    "    self.output_var = output_var\n",
    "\n",
    "\n",
    "    def sample(self):\n",
    "    input_batch = []\n",
    "    output_batch = []\n",
    "    for i in range(self.batch_size):\n",
    "      # look for a long trip\n",
    "      dt = []\n",
    "        while len(dt) < epoch:\n",
    "            traj_idx = np.random.randint(self.n)\n",
    "            dt = self.trajs[traj_idx]\n",
    "\n",
    "      # select part of this trip\n",
    "      epoch_idx = np.random.randint(len(dt)-epoch)\n",
    "\n",
    "      input_trajs = dt.loc[epoch_idx:epoch_idx+epoch-1, self.input_var]\n",
    "      output_trajs = dt.loc[epoch_idx:epoch_idx+epoch-1, self.output_var]\n",
    "\n",
    "      # add it to batch\n",
    "      input_batch.append(input_trajs.to_numpy().T)\n",
    "      output_batch.append(output_trajs.to_numpy().T)\n",
    "\n",
    "    # convert to tensor\n",
    "    input_batch = torch.FloatTensor(input_batch)\n",
    "    output_batch = torch.FloatTensor(output_batch)\n",
    "\n",
    "    return (input_batch, output_batch)"
   ]
  },
  {
   "cell_type": "code",
   "execution_count": 169,
   "metadata": {
    "colab": {
     "base_uri": "https://localhost:8080/",
     "height": 35
    },
    "id": "U8ILuuNNzZgj",
    "outputId": "ae00955e-3a4a-4871-ab32-692ff24d1a09"
   },
   "outputs": [
    {
     "data": {
      "text/plain": [
       "torch.Size([8, 100])"
      ]
     },
     "execution_count": 169,
     "metadata": {
      "tags": []
     },
     "output_type": "execute_result"
    }
   ],
   "source": [
    "# Hyperparameters\n",
    "epoch = 100\n",
    "batch_size = 8\n",
    "learning_rate = 0.001\n",
    "input_var = ('lon_std_mm', 'lat_std_mm', 'step_std', 'direction_std', 'cos_cap', 'sin_cap')\n",
    "output_var = ('dive')\n",
    "\n",
    "train = Sampler(train_trajs, epoch, batch_size, input_var, output_var)\n",
    "test = Sampler(test_trajs, epoch, batch_size, input_var, output_var)\n",
    "\n",
    "(x, y) = train.sample()\n",
    "\n",
    "y.size()"
   ]
  },
  {
   "cell_type": "code",
   "execution_count": null,
   "metadata": {
    "id": "J9gckKCMNIXd"
   },
   "outputs": [],
   "source": [
    "class ConvNet(nn.Module):\n",
    "    def __init__(self):\n",
    "        super(ConvNet, self).__init__()\n",
    "        self.layer1 = nn.Sequential(\n",
    "            nn.Conv1d(2, 2, kernel_size = 26, stride = 1, padding = 25, dilation = 2),\n",
    "            nn.Conv1d(2, 1, kernel_size = 26, stride = 1, padding = 25, dilation = 2),\n",
    "            nn.Sigmoid(),\n",
    "            nn.MaxPool1d(kernel_size = 26, stride = 1, padding = 10, dilation = 2),\n",
    "            nn.Linear(70, 50))\n",
    "        \n",
    "        self.layer2 = nn.Sequential(\n",
    "            nn.Conv1d(1, 1, kernel_size = 11, stride = 1, padding = 10, dilation = 2),\n",
    "            nn.Conv1d(1, 1, kernel_size = 11, stride = 1, padding = 10, dilation = 2),\n",
    "            nn.Sigmoid(),\n",
    "            nn.MaxPool1d(kernel_size = 5, padding = 2, dilation = 2),\n",
    "            nn.Linear(10, 1))\n",
    "               \n",
    "        self.sigmoid = nn.Sigmoid()\n",
    "        \n",
    "        self.layer = nn.Sequential(\n",
    "            nn.Conv1d(1, 1, kernel_size = 11, stride = 1, padding = 10, dilation = 2),\n",
    "            nn.Conv1d(1, 1, kernel_size = 11, stride = 1, padding = 10, dilation = 2),\n",
    "            nn.Sigmoid(),\n",
    "            nn.MaxPool1d(kernel_size = 5, padding = 2, dilation = 2)\n",
    "        )\n",
    "        \n",
    "    def forward(self, x):\n",
    "        out = self.layer1(x)\n",
    "        out = self.layer2(out)\n",
    "        out = self.sigmoid(out)\n",
    "        out = out.reshape((batch_size, 1))\n",
    "        return out"
   ]
  },
  {
   "cell_type": "code",
   "execution_count": null,
   "metadata": {
    "colab": {
     "base_uri": "https://localhost:8080/",
     "height": 35
    },
    "id": "f67eVqDINKRx",
    "outputId": "a14b3ea4-4823-498d-8ba7-a31b14322d02"
   },
   "outputs": [
    {
     "data": {
      "text/plain": [
       "torch.Size([8, 1])"
      ]
     },
     "execution_count": 40,
     "metadata": {
      "tags": []
     },
     "output_type": "execute_result"
    }
   ],
   "source": [
    "inputs = [x for batch, (x,y) in enumerate(train_loader)]\n",
    "outputs = [y for batch, (x,y) in enumerate(train_loader)]\n",
    "outputs[0].size()"
   ]
  },
  {
   "cell_type": "code",
   "execution_count": null,
   "metadata": {
    "colab": {
     "base_uri": "https://localhost:8080/",
     "height": 35
    },
    "id": "QTw3ks1GNMEG",
    "outputId": "f0547d75-fd50-4ca2-eb47-1e01228d9569"
   },
   "outputs": [
    {
     "data": {
      "text/plain": [
       "torch.Size([8, 1])"
      ]
     },
     "execution_count": 41,
     "metadata": {
      "tags": []
     },
     "output_type": "execute_result"
    }
   ],
   "source": [
    "model = ConvNet()\n",
    "out = model(inputs[0])\n",
    "out.size()"
   ]
  },
  {
   "cell_type": "code",
   "execution_count": null,
   "metadata": {
    "colab": {
     "base_uri": "https://localhost:8080/",
     "height": 164
    },
    "id": "H-44XPO1NN4W",
    "outputId": "fee8cfcc-8fc1-45ab-8777-02849a211308"
   },
   "outputs": [
    {
     "data": {
      "text/plain": [
       "tensor([[0.4963],\n",
       "        [0.4963],\n",
       "        [0.4965],\n",
       "        [0.4965],\n",
       "        [0.4966],\n",
       "        [0.4966],\n",
       "        [0.4965],\n",
       "        [0.4966]], grad_fn=<ViewBackward>)"
      ]
     },
     "execution_count": 42,
     "metadata": {
      "tags": []
     },
     "output_type": "execute_result"
    }
   ],
   "source": [
    "model(inputs[0])"
   ]
  },
  {
   "cell_type": "code",
   "execution_count": null,
   "metadata": {
    "id": "ELWzpTeiNPct"
   },
   "outputs": [],
   "source": [
    "# Loss and optimizer\n",
    "criterion = nn.BCELoss()\n",
    "optimizer = torch.optim.SGD(model.parameters(), lr=learning_rate)"
   ]
  },
  {
   "cell_type": "code",
   "execution_count": null,
   "metadata": {
    "colab": {
     "base_uri": "https://localhost:8080/",
     "height": 35
    },
    "id": "IBeASnGsNSuL",
    "outputId": "7edbcd85-eb44-44f9-8e35-68541493f909"
   },
   "outputs": [
    {
     "data": {
      "text/plain": [
       "tensor(50.0916)"
      ]
     },
     "execution_count": 44,
     "metadata": {
      "tags": []
     },
     "output_type": "execute_result"
    }
   ],
   "source": [
    "criterion(outputs[0], torch.autograd.Variable(model(inputs[0])))"
   ]
  },
  {
   "cell_type": "code",
   "execution_count": null,
   "metadata": {
    "id": "z_0oOEOlNUbm"
   },
   "outputs": [],
   "source": [
    "# Train the model\n",
    "total_step = len(train_loader)\n",
    "loss_list = []\n",
    "acc_list = []\n",
    "\n",
    "for i in range(total_step):\n",
    "    \n",
    "    # Train the model\n",
    "    model.train()\n",
    "    \n",
    "    (x,y) = train.sample() \n",
    "\n",
    "\n",
    "    # Run the forward pass\n",
    "    outputs = model(x)\n",
    "    loss = criterion(outputs, torch.autograd.Variable(y))\n",
    "\n",
    "    # Backprop and perform optimisation\n",
    "    optimizer.zero_grad()\n",
    "    loss.backward()\n",
    "    optimizer.step()\n",
    "    \n",
    "\n",
    "    if (i + 1) % 1000 == 0:  \n",
    "        # Test the model\n",
    "        model.eval()\n",
    "        with torch.no_grad():\n",
    "            correct = 0\n",
    "            total = 0\n",
    "            for x, y in test_loader:\n",
    "                outputs = model(x)\n",
    "                \n",
    "                # dive prediction\n",
    "                correct += torch.sum(1*(outputs>0.5) == y).item()\n",
    "                total += batch_size\n",
    "        \n",
    "#         # Plot weight\n",
    "#         IPython.display.clear_output(wait=True)\n",
    "\n",
    "#         plt.figure(figsize=(16, 4))\n",
    "#         jj = 0    \n",
    "#         for name, param in model.named_parameters():\n",
    "#             if param.requires_grad:\n",
    "#                 jj+=1\n",
    "#                 plt.subplot(4, 4, jj)\n",
    "#                 plt.hist(param.data.numpy().reshape(np.prod(param.data.numpy().shape)))\n",
    "#                 plt.title(name)\n",
    "        \n",
    "#         plt.show()\n",
    "        print('Step [{}/{}], Loss: {:.4f}, Accuracy: {} %'\n",
    "              .format(i + 1, total_step, loss.item(), (correct / total) * 100))"
   ]
  },
  {
   "cell_type": "code",
   "execution_count": null,
   "metadata": {
    "id": "xFWax35-NW2o"
   },
   "outputs": [],
   "source": [
    "i = 0\n",
    "for x, y in test_loader:\n",
    "    i += 1\n",
    "    outputs = model(x)\n",
    "    \n",
    "    if i == 10:\n",
    "        break\n",
    "    # dive prediction\n",
    "    correct += torch.sum(1*(outputs>0.5) == y).item()\n",
    "    total += batch_size"
   ]
  },
  {
   "cell_type": "code",
   "execution_count": null,
   "metadata": {
    "colab": {
     "base_uri": "https://localhost:8080/",
     "height": 496
    },
    "id": "nD-_cX0kNYTi",
    "outputId": "ff4b9bf0-c3f9-4ecd-e37c-e7e99a2be2e7"
   },
   "outputs": [
    {
     "data": {
      "image/png": "[encoded data removed]",
      "text/plain": [
       "<Figure size 1152x576 with 8 Axes>"
      ]
     },
     "metadata": {
      "needs_background": "light",
      "tags": []
     },
     "output_type": "display_data"
    }
   ],
   "source": [
    "plt.figure(figsize=(16, 8))\n",
    "\n",
    "for i in range(8):\n",
    "# i = 0\n",
    "    plt.subplot(2, 4, i+1)\n",
    "    plt.plot(x.numpy()[i][0], x.numpy()[i][1])\n",
    "    plt.title(str(y.numpy()[i]))\n",
    "    \n",
    "        #selecting the current axis\n",
    "    ax = plt.gca()\n",
    "    ax.set_aspect(1)"
   ]
  },
  {
   "cell_type": "code",
   "execution_count": null,
   "metadata": {
    "colab": {
     "base_uri": "https://localhost:8080/",
     "height": 164
    },
    "id": "nRrfrtcENaTA",
    "outputId": "5bde5cf1-8461-43f1-846a-e1ff554d22dd"
   },
   "outputs": [
    {
     "data": {
      "text/plain": [
       "tensor([[0.4981],\n",
       "        [0.4966],\n",
       "        [0.4941],\n",
       "        [0.4968],\n",
       "        [0.4990],\n",
       "        [0.4982],\n",
       "        [0.4972],\n",
       "        [0.4941]], grad_fn=<ViewBackward>)"
      ]
     },
     "execution_count": 48,
     "metadata": {
      "tags": []
     },
     "output_type": "execute_result"
    }
   ],
   "source": [
    "outputs"
   ]
  },
  {
   "cell_type": "code",
   "execution_count": null,
   "metadata": {
    "colab": {
     "base_uri": "https://localhost:8080/",
     "height": 164
    },
    "id": "TXSBWEGHNciw",
    "outputId": "20adb137-305a-46a3-cf07-0152079cb74b"
   },
   "outputs": [
    {
     "data": {
      "text/plain": [
       "tensor([[0.],\n",
       "        [0.],\n",
       "        [0.],\n",
       "        [1.],\n",
       "        [0.],\n",
       "        [1.],\n",
       "        [1.],\n",
       "        [0.]])"
      ]
     },
     "execution_count": 49,
     "metadata": {
      "tags": []
     },
     "output_type": "execute_result"
    }
   ],
   "source": [
    "y"
   ]
  }
 ],
 "metadata": {
  "colab": {
   "collapsed_sections": [],
   "include_colab_link": true,
   "name": "Dive Prediction - 1D.ipynb",
   "provenance": []
  },
  "kernelspec": {
   "display_name": "Python 3",
   "language": "python",
   "name": "python3"
  },
  "language_info": {
   "codemirror_mode": {
    "name": "ipython",
    "version": 3
   },
   "file_extension": ".py",
   "mimetype": "text/x-python",
   "name": "python",
   "nbconvert_exporter": "python",
   "pygments_lexer": "ipython3",
   "version": "3.7.4"
  }
 },
 "nbformat": 4,
 "nbformat_minor": 1
}
