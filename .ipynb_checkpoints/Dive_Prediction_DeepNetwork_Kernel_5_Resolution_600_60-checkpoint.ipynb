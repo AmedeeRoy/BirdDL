{
 "cells": [
  {
   "cell_type": "markdown",
   "metadata": {
    "colab_type": "text",
    "id": "view-in-github"
   },
   "source": [
    "<a href=\"https://colab.research.google.com/github/AmedeeRoy/BirdDL/blob/main/Dive_Prediction_DeepNetwork_Kernel_5_Resolution_600_60.ipynb\" target=\"_parent\"><img src=\"https://colab.research.google.com/assets/colab-badge.svg\" alt=\"Open In Colab\"/></a>"
   ]
  },
  {
   "cell_type": "markdown",
   "metadata": {
    "id": "AoTO8FyrlBU_"
   },
   "source": [
    "# Predicting Seabird Diving Behaviour with GPS data\n",
    "\n",
    "Supervized Learning with Deep Networks\n"
   ]
  },
  {
   "cell_type": "markdown",
   "metadata": {
    "id": "ivSzc6HKxU5o"
   },
   "source": [
    "## Connecting Drive and Github"
   ]
  },
  {
   "cell_type": "code",
   "execution_count": 1,
   "metadata": {
    "colab": {
     "base_uri": "https://localhost:8080/",
     "height": 35
    },
    "id": "WCJnT2RRxN_B",
    "outputId": "27071b13-2ed3-4519-db25-e09bf34f0063"
   },
   "outputs": [
    {
     "name": "stdout",
     "output_type": "stream",
     "text": [
      "Mounted at /content/drive/\n"
     ]
    }
   ],
   "source": [
    "# mount google drive\n",
    "from google.colab import drive\n",
    "drive.mount(\"/content/drive/\")"
   ]
  },
  {
   "cell_type": "code",
   "execution_count": 2,
   "metadata": {
    "colab": {
     "base_uri": "https://localhost:8080/",
     "height": 35
    },
    "id": "ia--z8OA4nEg",
    "outputId": "c415e4a1-085c-43df-88e9-1a688840a22c"
   },
   "outputs": [
    {
     "name": "stdout",
     "output_type": "stream",
     "text": [
      "/content/drive/My Drive/BirdDL\n"
     ]
    }
   ],
   "source": [
    "%cd drive/My\\ Drive/BirdDL"
   ]
  },
  {
   "cell_type": "markdown",
   "metadata": {
    "id": "XpzHadDDlBVA"
   },
   "source": [
    "## Data Formatting"
   ]
  },
  {
   "cell_type": "code",
   "execution_count": 3,
   "metadata": {
    "id": "7twgCfSglBVC"
   },
   "outputs": [],
   "source": [
    "import sqlite3\n",
    "import pandas as pd\n",
    "import numpy as np\n",
    "import matplotlib.pyplot as plt\n",
    "import IPython\n",
    "import datetime\n",
    "import random\n",
    "import pickle\n",
    "\n",
    "import trip"
   ]
  },
  {
   "cell_type": "code",
   "execution_count": 4,
   "metadata": {
    "id": "SrinVr1QlBVN"
   },
   "outputs": [],
   "source": [
    "# connect to database\n",
    "conn = sqlite3.connect('/content/drive/My Drive/data/seabirdbank.db')"
   ]
  },
  {
   "cell_type": "code",
   "execution_count": 5,
   "metadata": {
    "colab": {
     "base_uri": "https://localhost:8080/",
     "height": 35
    },
    "id": "MoUPeOCtlBVS",
    "outputId": "73dd8d0d-98e7-40ef-f43f-87b62ca0a7f2"
   },
   "outputs": [
    {
     "data": {
      "text/plain": [
       "array([[-77.264, -11.773]])"
      ]
     },
     "execution_count": 5,
     "metadata": {
      "tags": []
     },
     "output_type": "execute_result"
    }
   ],
   "source": [
    "request = \"SELECT DISTINCT lon, lat FROM fieldwork WHERE place='Pescadores'\"\n",
    "colony = pd.read_sql_query(request, conn)\n",
    "colony = colony.values\n",
    "colony"
   ]
  },
  {
   "cell_type": "code",
   "execution_count": 6,
   "metadata": {
    "colab": {
     "base_uri": "https://localhost:8080/",
     "height": 424
    },
    "id": "W_twQSv0lBVZ",
    "outputId": "5882e8d4-e1c9-4549-fa1e-8540083342fb"
   },
   "outputs": [
    {
     "data": {
      "text/html": [
       "<div>\n",
       "<style scoped>\n",
       "    .dataframe tbody tr th:only-of-type {\n",
       "        vertical-align: middle;\n",
       "    }\n",
       "\n",
       "    .dataframe tbody tr th {\n",
       "        vertical-align: top;\n",
       "    }\n",
       "\n",
       "    .dataframe thead th {\n",
       "        text-align: right;\n",
       "    }\n",
       "</style>\n",
       "<table border=\"1\" class=\"dataframe\">\n",
       "  <thead>\n",
       "    <tr style=\"text-align: right;\">\n",
       "      <th></th>\n",
       "      <th>trip</th>\n",
       "      <th>datetime</th>\n",
       "      <th>lon</th>\n",
       "      <th>lat</th>\n",
       "    </tr>\n",
       "  </thead>\n",
       "  <tbody>\n",
       "    <tr>\n",
       "      <th>0</th>\n",
       "      <td>P1108_4_SV_T1</td>\n",
       "      <td>2008-11-25 13:00:35</td>\n",
       "      <td>-77.264128</td>\n",
       "      <td>-11.773317</td>\n",
       "    </tr>\n",
       "    <tr>\n",
       "      <th>1</th>\n",
       "      <td>P1108_4_SV_T1</td>\n",
       "      <td>2008-11-25 13:00:36</td>\n",
       "      <td>-77.264118</td>\n",
       "      <td>-11.773235</td>\n",
       "    </tr>\n",
       "    <tr>\n",
       "      <th>2</th>\n",
       "      <td>P1108_4_SV_T1</td>\n",
       "      <td>2008-11-25 13:00:37</td>\n",
       "      <td>-77.264098</td>\n",
       "      <td>-11.773152</td>\n",
       "    </tr>\n",
       "    <tr>\n",
       "      <th>3</th>\n",
       "      <td>P1108_4_SV_T1</td>\n",
       "      <td>2008-11-25 13:00:38</td>\n",
       "      <td>-77.264113</td>\n",
       "      <td>-11.773060</td>\n",
       "    </tr>\n",
       "    <tr>\n",
       "      <th>4</th>\n",
       "      <td>P1108_4_SV_T1</td>\n",
       "      <td>2008-11-25 13:00:39</td>\n",
       "      <td>-77.264142</td>\n",
       "      <td>-11.772955</td>\n",
       "    </tr>\n",
       "    <tr>\n",
       "      <th>...</th>\n",
       "      <td>...</td>\n",
       "      <td>...</td>\n",
       "      <td>...</td>\n",
       "      <td>...</td>\n",
       "    </tr>\n",
       "    <tr>\n",
       "      <th>839803</th>\n",
       "      <td>P1113_50_SV_T2</td>\n",
       "      <td>2013-11-25 05:23:26</td>\n",
       "      <td>-77.264832</td>\n",
       "      <td>-11.773701</td>\n",
       "    </tr>\n",
       "    <tr>\n",
       "      <th>839804</th>\n",
       "      <td>P1113_50_SV_T2</td>\n",
       "      <td>2013-11-25 05:23:27</td>\n",
       "      <td>-77.264862</td>\n",
       "      <td>-11.773664</td>\n",
       "    </tr>\n",
       "    <tr>\n",
       "      <th>839805</th>\n",
       "      <td>P1113_50_SV_T2</td>\n",
       "      <td>2013-11-25 05:23:28</td>\n",
       "      <td>-77.264900</td>\n",
       "      <td>-11.773705</td>\n",
       "    </tr>\n",
       "    <tr>\n",
       "      <th>839806</th>\n",
       "      <td>P1113_50_SV_T2</td>\n",
       "      <td>2013-11-25 05:23:29</td>\n",
       "      <td>-77.264931</td>\n",
       "      <td>-11.773739</td>\n",
       "    </tr>\n",
       "    <tr>\n",
       "      <th>839807</th>\n",
       "      <td>P1113_50_SV_T2</td>\n",
       "      <td>2013-11-25 05:23:30</td>\n",
       "      <td>-77.264954</td>\n",
       "      <td>-11.773770</td>\n",
       "    </tr>\n",
       "  </tbody>\n",
       "</table>\n",
       "<p>839808 rows × 4 columns</p>\n",
       "</div>"
      ],
      "text/plain": [
       "                  trip             datetime        lon        lat\n",
       "0        P1108_4_SV_T1  2008-11-25 13:00:35 -77.264128 -11.773317\n",
       "1        P1108_4_SV_T1  2008-11-25 13:00:36 -77.264118 -11.773235\n",
       "2        P1108_4_SV_T1  2008-11-25 13:00:37 -77.264098 -11.773152\n",
       "3        P1108_4_SV_T1  2008-11-25 13:00:38 -77.264113 -11.773060\n",
       "4        P1108_4_SV_T1  2008-11-25 13:00:39 -77.264142 -11.772955\n",
       "...                ...                  ...        ...        ...\n",
       "839803  P1113_50_SV_T2  2013-11-25 05:23:26 -77.264832 -11.773701\n",
       "839804  P1113_50_SV_T2  2013-11-25 05:23:27 -77.264862 -11.773664\n",
       "839805  P1113_50_SV_T2  2013-11-25 05:23:28 -77.264900 -11.773705\n",
       "839806  P1113_50_SV_T2  2013-11-25 05:23:29 -77.264931 -11.773739\n",
       "839807  P1113_50_SV_T2  2013-11-25 05:23:30 -77.264954 -11.773770\n",
       "\n",
       "[839808 rows x 4 columns]"
      ]
     },
     "execution_count": 6,
     "metadata": {
      "tags": []
     },
     "output_type": "execute_result"
    }
   ],
   "source": [
    "request = \"SELECT \\\n",
    "            trip.id as trip, gps.datetime, gps.lon, gps.lat\\\n",
    "            FROM gps \\\n",
    "            INNER JOIN trip ON gps.trip = trip.id \\\n",
    "            INNER JOIN bird ON trip.bird = bird.id \\\n",
    "            WHERE trip.file_gps IS NOT NULL \\\n",
    "            AND trip.file_tdr IS NOT NULL \\\n",
    "            AND (bird.fieldwork = 'P1108' OR bird.fieldwork = 'P1111' \\\n",
    "                OR bird.fieldwork = 'P1112' OR bird.fieldwork = 'P1113') \\\n",
    "            AND bird.species = 'SV'\"\n",
    "\n",
    "# substr(bird.fieldwork,1,1) = 'P'\n",
    "\n",
    "gps = pd.read_sql_query(request, conn)\n",
    "gps"
   ]
  },
  {
   "cell_type": "code",
   "execution_count": 7,
   "metadata": {
    "id": "_XhzjeSBlBVf"
   },
   "outputs": [],
   "source": [
    "# check duplicated datetime in GPS trip\n",
    "idx = gps.index[gps.loc[:, 'trip':'datetime'].duplicated(keep=False)]\n",
    "idx_drop = [idx[i] for i in range(0, len(idx), 2)]\n",
    "gps = gps.drop(idx_drop)"
   ]
  },
  {
   "cell_type": "code",
   "execution_count": 8,
   "metadata": {
    "colab": {
     "base_uri": "https://localhost:8080/",
     "height": 49
    },
    "id": "R8KuhNs3lBVj",
    "outputId": "fdf2985a-eca5-46e5-cf55-ac910e500dfb",
    "scrolled": true
   },
   "outputs": [
    {
     "data": {
      "text/html": [
       "<div>\n",
       "<style scoped>\n",
       "    .dataframe tbody tr th:only-of-type {\n",
       "        vertical-align: middle;\n",
       "    }\n",
       "\n",
       "    .dataframe tbody tr th {\n",
       "        vertical-align: top;\n",
       "    }\n",
       "\n",
       "    .dataframe thead th {\n",
       "        text-align: right;\n",
       "    }\n",
       "</style>\n",
       "<table border=\"1\" class=\"dataframe\">\n",
       "  <thead>\n",
       "    <tr style=\"text-align: right;\">\n",
       "      <th></th>\n",
       "      <th>trip</th>\n",
       "      <th>datetime</th>\n",
       "      <th>lon</th>\n",
       "      <th>lat</th>\n",
       "    </tr>\n",
       "  </thead>\n",
       "  <tbody>\n",
       "  </tbody>\n",
       "</table>\n",
       "</div>"
      ],
      "text/plain": [
       "Empty DataFrame\n",
       "Columns: [trip, datetime, lon, lat]\n",
       "Index: []"
      ]
     },
     "execution_count": 8,
     "metadata": {
      "tags": []
     },
     "output_type": "execute_result"
    }
   ],
   "source": [
    "gps[gps.loc[:, 'trip':'datetime'].duplicated(keep=False)]"
   ]
  },
  {
   "cell_type": "code",
   "execution_count": 9,
   "metadata": {
    "colab": {
     "base_uri": "https://localhost:8080/",
     "height": 424
    },
    "id": "Sw-ExcWzlBVq",
    "outputId": "5b95fc21-b22d-4676-cc24-3a9e6171dbe9"
   },
   "outputs": [
    {
     "data": {
      "text/html": [
       "<div>\n",
       "<style scoped>\n",
       "    .dataframe tbody tr th:only-of-type {\n",
       "        vertical-align: middle;\n",
       "    }\n",
       "\n",
       "    .dataframe tbody tr th {\n",
       "        vertical-align: top;\n",
       "    }\n",
       "\n",
       "    .dataframe thead th {\n",
       "        text-align: right;\n",
       "    }\n",
       "</style>\n",
       "<table border=\"1\" class=\"dataframe\">\n",
       "  <thead>\n",
       "    <tr style=\"text-align: right;\">\n",
       "      <th></th>\n",
       "      <th>trip</th>\n",
       "      <th>datetime</th>\n",
       "      <th>pressure</th>\n",
       "    </tr>\n",
       "  </thead>\n",
       "  <tbody>\n",
       "    <tr>\n",
       "      <th>0</th>\n",
       "      <td>P1108_4_SV_T1</td>\n",
       "      <td>2008-11-25 13:00:35</td>\n",
       "      <td>-0.35</td>\n",
       "    </tr>\n",
       "    <tr>\n",
       "      <th>1</th>\n",
       "      <td>P1108_4_SV_T1</td>\n",
       "      <td>2008-11-25 13:00:36</td>\n",
       "      <td>-0.38</td>\n",
       "    </tr>\n",
       "    <tr>\n",
       "      <th>2</th>\n",
       "      <td>P1108_4_SV_T1</td>\n",
       "      <td>2008-11-25 13:00:37</td>\n",
       "      <td>-0.35</td>\n",
       "    </tr>\n",
       "    <tr>\n",
       "      <th>3</th>\n",
       "      <td>P1108_4_SV_T1</td>\n",
       "      <td>2008-11-25 13:00:38</td>\n",
       "      <td>-0.29</td>\n",
       "    </tr>\n",
       "    <tr>\n",
       "      <th>4</th>\n",
       "      <td>P1108_4_SV_T1</td>\n",
       "      <td>2008-11-25 13:00:39</td>\n",
       "      <td>-0.29</td>\n",
       "    </tr>\n",
       "    <tr>\n",
       "      <th>...</th>\n",
       "      <td>...</td>\n",
       "      <td>...</td>\n",
       "      <td>...</td>\n",
       "    </tr>\n",
       "    <tr>\n",
       "      <th>1086337</th>\n",
       "      <td>P1113_50_SV_T2</td>\n",
       "      <td>2013-11-25 05:23:26</td>\n",
       "      <td>-0.94</td>\n",
       "    </tr>\n",
       "    <tr>\n",
       "      <th>1086338</th>\n",
       "      <td>P1113_50_SV_T2</td>\n",
       "      <td>2013-11-25 05:23:27</td>\n",
       "      <td>-0.94</td>\n",
       "    </tr>\n",
       "    <tr>\n",
       "      <th>1086339</th>\n",
       "      <td>P1113_50_SV_T2</td>\n",
       "      <td>2013-11-25 05:23:28</td>\n",
       "      <td>-0.94</td>\n",
       "    </tr>\n",
       "    <tr>\n",
       "      <th>1086340</th>\n",
       "      <td>P1113_50_SV_T2</td>\n",
       "      <td>2013-11-25 05:23:29</td>\n",
       "      <td>-0.94</td>\n",
       "    </tr>\n",
       "    <tr>\n",
       "      <th>1086341</th>\n",
       "      <td>P1113_50_SV_T2</td>\n",
       "      <td>2013-11-25 05:23:30</td>\n",
       "      <td>-0.94</td>\n",
       "    </tr>\n",
       "  </tbody>\n",
       "</table>\n",
       "<p>1086342 rows × 3 columns</p>\n",
       "</div>"
      ],
      "text/plain": [
       "                   trip             datetime  pressure\n",
       "0         P1108_4_SV_T1  2008-11-25 13:00:35     -0.35\n",
       "1         P1108_4_SV_T1  2008-11-25 13:00:36     -0.38\n",
       "2         P1108_4_SV_T1  2008-11-25 13:00:37     -0.35\n",
       "3         P1108_4_SV_T1  2008-11-25 13:00:38     -0.29\n",
       "4         P1108_4_SV_T1  2008-11-25 13:00:39     -0.29\n",
       "...                 ...                  ...       ...\n",
       "1086337  P1113_50_SV_T2  2013-11-25 05:23:26     -0.94\n",
       "1086338  P1113_50_SV_T2  2013-11-25 05:23:27     -0.94\n",
       "1086339  P1113_50_SV_T2  2013-11-25 05:23:28     -0.94\n",
       "1086340  P1113_50_SV_T2  2013-11-25 05:23:29     -0.94\n",
       "1086341  P1113_50_SV_T2  2013-11-25 05:23:30     -0.94\n",
       "\n",
       "[1086342 rows x 3 columns]"
      ]
     },
     "execution_count": 9,
     "metadata": {
      "tags": []
     },
     "output_type": "execute_result"
    }
   ],
   "source": [
    "request = \"SELECT \\\n",
    "            trip.id as trip, tdr.datetime, tdr.pressure \\\n",
    "            FROM tdr \\\n",
    "            INNER JOIN trip ON tdr.trip = trip.id \\\n",
    "            INNER JOIN bird ON trip.bird = bird.id \\\n",
    "            WHERE trip.file_gps IS NOT NULL \\\n",
    "            AND trip.file_tdr IS NOT NULL \\\n",
    "            AND (bird.fieldwork = 'P1108' OR bird.fieldwork = 'P1111' \\\n",
    "                OR bird.fieldwork = 'P1112' OR bird.fieldwork = 'P1113') \\\n",
    "            AND bird.species = 'SV'\"\n",
    "\n",
    "# WHERE substr(bird.fieldwork,1,1) = 'P' \n",
    "\n",
    "tdr = pd.read_sql_query(request, conn)\n",
    "tdr"
   ]
  },
  {
   "cell_type": "code",
   "execution_count": 10,
   "metadata": {
    "id": "FsLfaOzHlBVu"
   },
   "outputs": [],
   "source": [
    "tdr['datetime'] = pd.to_datetime(tdr['datetime'], format='%Y-%m-%d %H:%M:%S')\n",
    "gps['datetime'] = pd.to_datetime(gps['datetime'], format='%Y-%m-%d %H:%M:%S')"
   ]
  },
  {
   "cell_type": "code",
   "execution_count": 11,
   "metadata": {
    "colab": {
     "base_uri": "https://localhost:8080/",
     "height": 424
    },
    "id": "3y-dQs7DlBVy",
    "outputId": "7bd4cdd2-8596-455e-f4e8-0a54409cfc10"
   },
   "outputs": [
    {
     "data": {
      "text/html": [
       "<div>\n",
       "<style scoped>\n",
       "    .dataframe tbody tr th:only-of-type {\n",
       "        vertical-align: middle;\n",
       "    }\n",
       "\n",
       "    .dataframe tbody tr th {\n",
       "        vertical-align: top;\n",
       "    }\n",
       "\n",
       "    .dataframe thead th {\n",
       "        text-align: right;\n",
       "    }\n",
       "</style>\n",
       "<table border=\"1\" class=\"dataframe\">\n",
       "  <thead>\n",
       "    <tr style=\"text-align: right;\">\n",
       "      <th></th>\n",
       "      <th>trip</th>\n",
       "      <th>datetime</th>\n",
       "      <th>pressure</th>\n",
       "      <th>lon</th>\n",
       "      <th>lat</th>\n",
       "    </tr>\n",
       "  </thead>\n",
       "  <tbody>\n",
       "    <tr>\n",
       "      <th>0</th>\n",
       "      <td>P1108_4_SV_T1</td>\n",
       "      <td>2008-11-25 13:00:35</td>\n",
       "      <td>-0.35</td>\n",
       "      <td>-77.264128</td>\n",
       "      <td>-11.773317</td>\n",
       "    </tr>\n",
       "    <tr>\n",
       "      <th>1</th>\n",
       "      <td>P1108_4_SV_T1</td>\n",
       "      <td>2008-11-25 13:00:36</td>\n",
       "      <td>-0.38</td>\n",
       "      <td>-77.264118</td>\n",
       "      <td>-11.773235</td>\n",
       "    </tr>\n",
       "    <tr>\n",
       "      <th>2</th>\n",
       "      <td>P1108_4_SV_T1</td>\n",
       "      <td>2008-11-25 13:00:37</td>\n",
       "      <td>-0.35</td>\n",
       "      <td>-77.264098</td>\n",
       "      <td>-11.773152</td>\n",
       "    </tr>\n",
       "    <tr>\n",
       "      <th>3</th>\n",
       "      <td>P1108_4_SV_T1</td>\n",
       "      <td>2008-11-25 13:00:38</td>\n",
       "      <td>-0.29</td>\n",
       "      <td>-77.264113</td>\n",
       "      <td>-11.773060</td>\n",
       "    </tr>\n",
       "    <tr>\n",
       "      <th>4</th>\n",
       "      <td>P1108_4_SV_T1</td>\n",
       "      <td>2008-11-25 13:00:39</td>\n",
       "      <td>-0.29</td>\n",
       "      <td>-77.264142</td>\n",
       "      <td>-11.772955</td>\n",
       "    </tr>\n",
       "    <tr>\n",
       "      <th>...</th>\n",
       "      <td>...</td>\n",
       "      <td>...</td>\n",
       "      <td>...</td>\n",
       "      <td>...</td>\n",
       "      <td>...</td>\n",
       "    </tr>\n",
       "    <tr>\n",
       "      <th>1086337</th>\n",
       "      <td>P1113_50_SV_T2</td>\n",
       "      <td>2013-11-25 05:23:26</td>\n",
       "      <td>-0.94</td>\n",
       "      <td>-77.264832</td>\n",
       "      <td>-11.773701</td>\n",
       "    </tr>\n",
       "    <tr>\n",
       "      <th>1086338</th>\n",
       "      <td>P1113_50_SV_T2</td>\n",
       "      <td>2013-11-25 05:23:27</td>\n",
       "      <td>-0.94</td>\n",
       "      <td>-77.264862</td>\n",
       "      <td>-11.773664</td>\n",
       "    </tr>\n",
       "    <tr>\n",
       "      <th>1086339</th>\n",
       "      <td>P1113_50_SV_T2</td>\n",
       "      <td>2013-11-25 05:23:28</td>\n",
       "      <td>-0.94</td>\n",
       "      <td>-77.264900</td>\n",
       "      <td>-11.773705</td>\n",
       "    </tr>\n",
       "    <tr>\n",
       "      <th>1086340</th>\n",
       "      <td>P1113_50_SV_T2</td>\n",
       "      <td>2013-11-25 05:23:29</td>\n",
       "      <td>-0.94</td>\n",
       "      <td>-77.264931</td>\n",
       "      <td>-11.773739</td>\n",
       "    </tr>\n",
       "    <tr>\n",
       "      <th>1086341</th>\n",
       "      <td>P1113_50_SV_T2</td>\n",
       "      <td>2013-11-25 05:23:30</td>\n",
       "      <td>-0.94</td>\n",
       "      <td>-77.264954</td>\n",
       "      <td>-11.773770</td>\n",
       "    </tr>\n",
       "  </tbody>\n",
       "</table>\n",
       "<p>1086342 rows × 5 columns</p>\n",
       "</div>"
      ],
      "text/plain": [
       "                   trip            datetime  pressure        lon        lat\n",
       "0         P1108_4_SV_T1 2008-11-25 13:00:35     -0.35 -77.264128 -11.773317\n",
       "1         P1108_4_SV_T1 2008-11-25 13:00:36     -0.38 -77.264118 -11.773235\n",
       "2         P1108_4_SV_T1 2008-11-25 13:00:37     -0.35 -77.264098 -11.773152\n",
       "3         P1108_4_SV_T1 2008-11-25 13:00:38     -0.29 -77.264113 -11.773060\n",
       "4         P1108_4_SV_T1 2008-11-25 13:00:39     -0.29 -77.264142 -11.772955\n",
       "...                 ...                 ...       ...        ...        ...\n",
       "1086337  P1113_50_SV_T2 2013-11-25 05:23:26     -0.94 -77.264832 -11.773701\n",
       "1086338  P1113_50_SV_T2 2013-11-25 05:23:27     -0.94 -77.264862 -11.773664\n",
       "1086339  P1113_50_SV_T2 2013-11-25 05:23:28     -0.94 -77.264900 -11.773705\n",
       "1086340  P1113_50_SV_T2 2013-11-25 05:23:29     -0.94 -77.264931 -11.773739\n",
       "1086341  P1113_50_SV_T2 2013-11-25 05:23:30     -0.94 -77.264954 -11.773770\n",
       "\n",
       "[1086342 rows x 5 columns]"
      ]
     },
     "execution_count": 11,
     "metadata": {
      "tags": []
     },
     "output_type": "execute_result"
    }
   ],
   "source": [
    "df = pd.merge(tdr, gps, on=['trip', 'datetime'], how='left')\n",
    "df"
   ]
  },
  {
   "cell_type": "code",
   "execution_count": 12,
   "metadata": {
    "id": "ezQ3WSrMlBV2"
   },
   "outputs": [],
   "source": [
    "# check NaN and fill with interpolations\n",
    "[i for i, x in enumerate(df['lon'].isna()) if x]\n",
    "\n",
    "\n",
    "df['lon'] = df['lon'].interpolate(method='polynomial', order=2)\n",
    "df['lat'] = df['lat'].interpolate(method='polynomial', order=2)"
   ]
  },
  {
   "cell_type": "code",
   "execution_count": 13,
   "metadata": {
    "colab": {
     "base_uri": "https://localhost:8080/",
     "height": 35
    },
    "id": "-rMJhCx4lBV7",
    "outputId": "572e8ec4-9abb-4097-b396-01717eb82264"
   },
   "outputs": [
    {
     "data": {
      "text/plain": [
       "185"
      ]
     },
     "execution_count": 13,
     "metadata": {
      "tags": []
     },
     "output_type": "execute_result"
    }
   ],
   "source": [
    "len(df.trip.unique())"
   ]
  },
  {
   "cell_type": "code",
   "execution_count": 14,
   "metadata": {
    "id": "yPftDapClBV_"
   },
   "outputs": [],
   "source": [
    "# threshold = 1\n",
    "# path_folder = \"./trajectory/\"\n",
    "\n",
    "# for t in df.trip.unique():\n",
    "    \n",
    "#     path_file = path_folder + t\n",
    "#     df_trip = df[df.trip == t]\n",
    "    \n",
    "#     bias = np.median(df_trip.pressure.values)\n",
    "  \n",
    "#     plt.figure(figsize=(9, 3))\n",
    "\n",
    "#     plt.subplot(1, 2, 1)\n",
    "#     plt.plot(df_trip.datetime.values, df_trip.pressure.values)\n",
    "#     plt.plot(df_trip.datetime.values, [threshold+bias for i in range(len(df_trip))], color = 'orange')\n",
    "\n",
    "#     plt.subplot(1, 2, 2)\n",
    "#     plt.plot(df_trip.lon.values, df_trip.lat.values)\n",
    "#     plt.scatter(df_trip.lon.values[df_trip.pressure-bias > threshold], \\\n",
    "#                 df_trip.lat.values[df_trip.pressure-bias > threshold], c = 'orange')\n",
    "    \n",
    "#     plt.savefig(path_file)\n",
    "#     plt.close()"
   ]
  },
  {
   "cell_type": "code",
   "execution_count": 15,
   "metadata": {
    "id": "VUrhk1xslBWE"
   },
   "outputs": [],
   "source": [
    "bad_trip = ['P1111_9_SV_T1', 'P1111_13_SV_T6', 'P1111_41_SV_T2', 'P1111_46_SV_T5', 'P1111_52_SV_T1',\n",
    "            'P1112_4_SV_T2', 'P1112_26_SV_T5', 'P1112_36_SV_T1', 'P1112_36_SV_T2', 'P1113_41_SV_T3',\n",
    "           'P1113_50_SV_T2']\n",
    "\n",
    "no_loop = ['P1112_26_SV_T1', 'P1112_26_SV_T2', 'P1112_26_SV_T3', 'P1112_26_SV_T4']"
   ]
  },
  {
   "cell_type": "code",
   "execution_count": 16,
   "metadata": {
    "id": "gbmPfofrlBWI"
   },
   "outputs": [],
   "source": [
    "### remove bad data\n",
    "idx = df.index[[(t in bad_trip or t in no_loop) for t in df.trip]]\n",
    "df = df.drop(idx)"
   ]
  },
  {
   "cell_type": "code",
   "execution_count": 17,
   "metadata": {
    "colab": {
     "base_uri": "https://localhost:8080/",
     "height": 35
    },
    "id": "BMlPJEqSlBWL",
    "outputId": "db3e65e8-f2a3-4515-f555-9d316c7551ea",
    "scrolled": true
   },
   "outputs": [
    {
     "data": {
      "text/plain": [
       "170"
      ]
     },
     "execution_count": 17,
     "metadata": {
      "tags": []
     },
     "output_type": "execute_result"
    }
   ],
   "source": [
    "len(df.trip.unique())"
   ]
  },
  {
   "cell_type": "markdown",
   "metadata": {
    "id": "FQs8vxWMlBWP"
   },
   "source": [
    "## Trip Statistics"
   ]
  },
  {
   "cell_type": "code",
   "execution_count": 18,
   "metadata": {
    "colab": {
     "base_uri": "https://localhost:8080/",
     "height": 424
    },
    "id": "USFIntlilBWQ",
    "outputId": "80ab49e8-139f-40ea-af3c-356bf3f96e97"
   },
   "outputs": [
    {
     "data": {
      "text/html": [
       "<div>\n",
       "<style scoped>\n",
       "    .dataframe tbody tr th:only-of-type {\n",
       "        vertical-align: middle;\n",
       "    }\n",
       "\n",
       "    .dataframe tbody tr th {\n",
       "        vertical-align: top;\n",
       "    }\n",
       "\n",
       "    .dataframe thead th {\n",
       "        text-align: right;\n",
       "    }\n",
       "</style>\n",
       "<table border=\"1\" class=\"dataframe\">\n",
       "  <thead>\n",
       "    <tr style=\"text-align: right;\">\n",
       "      <th></th>\n",
       "      <th>trip</th>\n",
       "      <th>datetime</th>\n",
       "      <th>pressure</th>\n",
       "      <th>lon</th>\n",
       "      <th>lat</th>\n",
       "    </tr>\n",
       "  </thead>\n",
       "  <tbody>\n",
       "    <tr>\n",
       "      <th>0</th>\n",
       "      <td>P1108_4_SV_T1</td>\n",
       "      <td>2008-11-25 13:00:35</td>\n",
       "      <td>-0.35</td>\n",
       "      <td>-77.264128</td>\n",
       "      <td>-11.773317</td>\n",
       "    </tr>\n",
       "    <tr>\n",
       "      <th>1</th>\n",
       "      <td>P1108_4_SV_T1</td>\n",
       "      <td>2008-11-25 13:00:36</td>\n",
       "      <td>-0.38</td>\n",
       "      <td>-77.264118</td>\n",
       "      <td>-11.773235</td>\n",
       "    </tr>\n",
       "    <tr>\n",
       "      <th>2</th>\n",
       "      <td>P1108_4_SV_T1</td>\n",
       "      <td>2008-11-25 13:00:37</td>\n",
       "      <td>-0.35</td>\n",
       "      <td>-77.264098</td>\n",
       "      <td>-11.773152</td>\n",
       "    </tr>\n",
       "    <tr>\n",
       "      <th>3</th>\n",
       "      <td>P1108_4_SV_T1</td>\n",
       "      <td>2008-11-25 13:00:38</td>\n",
       "      <td>-0.29</td>\n",
       "      <td>-77.264113</td>\n",
       "      <td>-11.773060</td>\n",
       "    </tr>\n",
       "    <tr>\n",
       "      <th>4</th>\n",
       "      <td>P1108_4_SV_T1</td>\n",
       "      <td>2008-11-25 13:00:39</td>\n",
       "      <td>-0.29</td>\n",
       "      <td>-77.264142</td>\n",
       "      <td>-11.772955</td>\n",
       "    </tr>\n",
       "    <tr>\n",
       "      <th>...</th>\n",
       "      <td>...</td>\n",
       "      <td>...</td>\n",
       "      <td>...</td>\n",
       "      <td>...</td>\n",
       "      <td>...</td>\n",
       "    </tr>\n",
       "    <tr>\n",
       "      <th>6622</th>\n",
       "      <td>P1108_4_SV_T1</td>\n",
       "      <td>2008-11-25 14:50:57</td>\n",
       "      <td>-0.29</td>\n",
       "      <td>-77.264097</td>\n",
       "      <td>-11.773710</td>\n",
       "    </tr>\n",
       "    <tr>\n",
       "      <th>6623</th>\n",
       "      <td>P1108_4_SV_T1</td>\n",
       "      <td>2008-11-25 14:50:58</td>\n",
       "      <td>-0.29</td>\n",
       "      <td>-77.264223</td>\n",
       "      <td>-11.773817</td>\n",
       "    </tr>\n",
       "    <tr>\n",
       "      <th>6624</th>\n",
       "      <td>P1108_4_SV_T1</td>\n",
       "      <td>2008-11-25 14:50:59</td>\n",
       "      <td>-0.26</td>\n",
       "      <td>-77.264307</td>\n",
       "      <td>-11.773860</td>\n",
       "    </tr>\n",
       "    <tr>\n",
       "      <th>6625</th>\n",
       "      <td>P1108_4_SV_T1</td>\n",
       "      <td>2008-11-25 14:51:00</td>\n",
       "      <td>-0.22</td>\n",
       "      <td>-77.264363</td>\n",
       "      <td>-11.773875</td>\n",
       "    </tr>\n",
       "    <tr>\n",
       "      <th>6626</th>\n",
       "      <td>P1108_4_SV_T1</td>\n",
       "      <td>2008-11-25 14:51:01</td>\n",
       "      <td>-0.22</td>\n",
       "      <td>-77.264395</td>\n",
       "      <td>-11.773895</td>\n",
       "    </tr>\n",
       "  </tbody>\n",
       "</table>\n",
       "<p>6627 rows × 5 columns</p>\n",
       "</div>"
      ],
      "text/plain": [
       "               trip            datetime  pressure        lon        lat\n",
       "0     P1108_4_SV_T1 2008-11-25 13:00:35     -0.35 -77.264128 -11.773317\n",
       "1     P1108_4_SV_T1 2008-11-25 13:00:36     -0.38 -77.264118 -11.773235\n",
       "2     P1108_4_SV_T1 2008-11-25 13:00:37     -0.35 -77.264098 -11.773152\n",
       "3     P1108_4_SV_T1 2008-11-25 13:00:38     -0.29 -77.264113 -11.773060\n",
       "4     P1108_4_SV_T1 2008-11-25 13:00:39     -0.29 -77.264142 -11.772955\n",
       "...             ...                 ...       ...        ...        ...\n",
       "6622  P1108_4_SV_T1 2008-11-25 14:50:57     -0.29 -77.264097 -11.773710\n",
       "6623  P1108_4_SV_T1 2008-11-25 14:50:58     -0.29 -77.264223 -11.773817\n",
       "6624  P1108_4_SV_T1 2008-11-25 14:50:59     -0.26 -77.264307 -11.773860\n",
       "6625  P1108_4_SV_T1 2008-11-25 14:51:00     -0.22 -77.264363 -11.773875\n",
       "6626  P1108_4_SV_T1 2008-11-25 14:51:01     -0.22 -77.264395 -11.773895\n",
       "\n",
       "[6627 rows x 5 columns]"
      ]
     },
     "execution_count": 18,
     "metadata": {
      "tags": []
     },
     "output_type": "execute_result"
    }
   ],
   "source": [
    "df_trip = df[df.trip == 'P1108_4_SV_T1']\n",
    "df_trip"
   ]
  },
  {
   "cell_type": "code",
   "execution_count": 19,
   "metadata": {
    "id": "BRh2PMltlBWX"
   },
   "outputs": [],
   "source": [
    "# create trip\n",
    "t = trip.Trip(df_trip)\n",
    "threshold = 1\n",
    "\n",
    "# add variable\n",
    "t.add_step()\n",
    "t.add_cap()\n",
    "t.add_direction()\n",
    "t.add_dive(threshold)\n",
    "t.df['cos_cap'] = np.cos(t.df.cap)\n",
    "t.df['sin_cap'] = np.sin(t.df.cap)\n",
    "\n",
    "# standardize variable\n",
    "t.standardize(('step', 'direction'))\n",
    "t.standardize_minmax(('lon', 'lat'))"
   ]
  },
  {
   "cell_type": "code",
   "execution_count": 20,
   "metadata": {
    "colab": {
     "base_uri": "https://localhost:8080/",
     "height": 211
    },
    "id": "ALhefV1YlBWa",
    "outputId": "1f54d915-1795-4d48-ebef-152d8ed6aa3d"
   },
   "outputs": [
    {
     "data": {
      "image/png": "[encoded data removed]",
      "text/plain": [
       "<Figure size 1080x216 with 3 Axes>"
      ]
     },
     "metadata": {
      "needs_background": "light",
      "tags": []
     },
     "output_type": "display_data"
    }
   ],
   "source": [
    "t.plot()"
   ]
  },
  {
   "cell_type": "code",
   "execution_count": 21,
   "metadata": {
    "colab": {
     "base_uri": "https://localhost:8080/",
     "height": 35
    },
    "id": "elWsE3tYlBWd",
    "outputId": "54aad591-3231-43a9-8021-1260f6005136",
    "scrolled": true
   },
   "outputs": [
    {
     "data": {
      "text/plain": [
       "Timedelta('0 days 01:50:26')"
      ]
     },
     "execution_count": 21,
     "metadata": {
      "tags": []
     },
     "output_type": "execute_result"
    }
   ],
   "source": [
    "t.get_duration()"
   ]
  },
  {
   "cell_type": "code",
   "execution_count": 22,
   "metadata": {
    "colab": {
     "base_uri": "https://localhost:8080/",
     "height": 35
    },
    "id": "61lUiLy0lBWh",
    "outputId": "a1646156-ae4e-46d7-db85-aa6094dbaade",
    "scrolled": true
   },
   "outputs": [
    {
     "data": {
      "text/plain": [
       "88.1484595608965"
      ]
     },
     "execution_count": 22,
     "metadata": {
      "tags": []
     },
     "output_type": "execute_result"
    }
   ],
   "source": [
    "t.get_distance()"
   ]
  },
  {
   "cell_type": "code",
   "execution_count": 23,
   "metadata": {
    "colab": {
     "base_uri": "https://localhost:8080/",
     "height": 206
    },
    "id": "_fPGn8y2nIBV",
    "outputId": "25724550-b03e-42f6-dcee-8980581b53e9"
   },
   "outputs": [
    {
     "data": {
      "text/html": [
       "<div>\n",
       "<style scoped>\n",
       "    .dataframe tbody tr th:only-of-type {\n",
       "        vertical-align: middle;\n",
       "    }\n",
       "\n",
       "    .dataframe tbody tr th {\n",
       "        vertical-align: top;\n",
       "    }\n",
       "\n",
       "    .dataframe thead th {\n",
       "        text-align: right;\n",
       "    }\n",
       "</style>\n",
       "<table border=\"1\" class=\"dataframe\">\n",
       "  <thead>\n",
       "    <tr style=\"text-align: right;\">\n",
       "      <th></th>\n",
       "      <th>trip</th>\n",
       "      <th>datetime</th>\n",
       "      <th>pressure</th>\n",
       "      <th>lon</th>\n",
       "      <th>lat</th>\n",
       "      <th>step</th>\n",
       "      <th>cap</th>\n",
       "      <th>direction</th>\n",
       "      <th>dive</th>\n",
       "      <th>cos_cap</th>\n",
       "      <th>sin_cap</th>\n",
       "      <th>step_std</th>\n",
       "      <th>direction_std</th>\n",
       "      <th>lon_std_mm</th>\n",
       "      <th>lat_std_mm</th>\n",
       "    </tr>\n",
       "  </thead>\n",
       "  <tbody>\n",
       "    <tr>\n",
       "      <th>0</th>\n",
       "      <td>P1108_4_SV_T1</td>\n",
       "      <td>2008-11-25 13:00:35</td>\n",
       "      <td>-0.35</td>\n",
       "      <td>-77.264128</td>\n",
       "      <td>-11.773317</td>\n",
       "      <td>NaN</td>\n",
       "      <td>NaN</td>\n",
       "      <td>NaN</td>\n",
       "      <td>0</td>\n",
       "      <td>NaN</td>\n",
       "      <td>NaN</td>\n",
       "      <td>NaN</td>\n",
       "      <td>NaN</td>\n",
       "      <td>0.999801</td>\n",
       "      <td>0.143444</td>\n",
       "    </tr>\n",
       "    <tr>\n",
       "      <th>1</th>\n",
       "      <td>P1108_4_SV_T1</td>\n",
       "      <td>2008-11-25 13:00:36</td>\n",
       "      <td>-0.38</td>\n",
       "      <td>-77.264118</td>\n",
       "      <td>-11.773235</td>\n",
       "      <td>9.192428</td>\n",
       "      <td>6.808074</td>\n",
       "      <td>NaN</td>\n",
       "      <td>0</td>\n",
       "      <td>0.865380</td>\n",
       "      <td>0.501117</td>\n",
       "      <td>-1.114452</td>\n",
       "      <td>NaN</td>\n",
       "      <td>0.999830</td>\n",
       "      <td>0.144644</td>\n",
       "    </tr>\n",
       "    <tr>\n",
       "      <th>2</th>\n",
       "      <td>P1108_4_SV_T1</td>\n",
       "      <td>2008-11-25 13:00:37</td>\n",
       "      <td>-0.35</td>\n",
       "      <td>-77.264098</td>\n",
       "      <td>-11.773152</td>\n",
       "      <td>9.492498</td>\n",
       "      <td>13.273123</td>\n",
       "      <td>6.465048</td>\n",
       "      <td>0</td>\n",
       "      <td>0.760475</td>\n",
       "      <td>0.649367</td>\n",
       "      <td>-1.033105</td>\n",
       "      <td>0.316087</td>\n",
       "      <td>0.999889</td>\n",
       "      <td>0.145858</td>\n",
       "    </tr>\n",
       "    <tr>\n",
       "      <th>3</th>\n",
       "      <td>P1108_4_SV_T1</td>\n",
       "      <td>2008-11-25 13:00:38</td>\n",
       "      <td>-0.29</td>\n",
       "      <td>-77.264113</td>\n",
       "      <td>-11.773060</td>\n",
       "      <td>10.370362</td>\n",
       "      <td>350.931311</td>\n",
       "      <td>-22.341812</td>\n",
       "      <td>0</td>\n",
       "      <td>0.600183</td>\n",
       "      <td>-0.799863</td>\n",
       "      <td>-0.795125</td>\n",
       "      <td>-1.099954</td>\n",
       "      <td>0.999845</td>\n",
       "      <td>0.147204</td>\n",
       "    </tr>\n",
       "    <tr>\n",
       "      <th>4</th>\n",
       "      <td>P1108_4_SV_T1</td>\n",
       "      <td>2008-11-25 13:00:39</td>\n",
       "      <td>-0.29</td>\n",
       "      <td>-77.264142</td>\n",
       "      <td>-11.772955</td>\n",
       "      <td>12.107480</td>\n",
       "      <td>344.870108</td>\n",
       "      <td>-6.061203</td>\n",
       "      <td>0</td>\n",
       "      <td>0.761557</td>\n",
       "      <td>-0.648098</td>\n",
       "      <td>-0.324208</td>\n",
       "      <td>-0.299658</td>\n",
       "      <td>0.999760</td>\n",
       "      <td>0.148740</td>\n",
       "    </tr>\n",
       "  </tbody>\n",
       "</table>\n",
       "</div>"
      ],
      "text/plain": [
       "            trip            datetime  ...  lon_std_mm  lat_std_mm\n",
       "0  P1108_4_SV_T1 2008-11-25 13:00:35  ...    0.999801    0.143444\n",
       "1  P1108_4_SV_T1 2008-11-25 13:00:36  ...    0.999830    0.144644\n",
       "2  P1108_4_SV_T1 2008-11-25 13:00:37  ...    0.999889    0.145858\n",
       "3  P1108_4_SV_T1 2008-11-25 13:00:38  ...    0.999845    0.147204\n",
       "4  P1108_4_SV_T1 2008-11-25 13:00:39  ...    0.999760    0.148740\n",
       "\n",
       "[5 rows x 15 columns]"
      ]
     },
     "execution_count": 23,
     "metadata": {
      "tags": []
     },
     "output_type": "execute_result"
    }
   ],
   "source": [
    "t.df.head()"
   ]
  },
  {
   "cell_type": "markdown",
   "metadata": {
    "id": "ZSqMbo6zlBWw"
   },
   "source": [
    "## Dive Prediction"
   ]
  },
  {
   "cell_type": "code",
   "execution_count": 24,
   "metadata": {
    "colab": {
     "base_uri": "https://localhost:8080/",
     "height": 72
    },
    "id": "fLC0RAsXlBW0",
    "outputId": "891c1161-08b3-40bd-d664-511a119c1941"
   },
   "outputs": [
    {
     "name": "stdout",
     "output_type": "stream",
     "text": [
      "Trip [170/170]\n",
      "CPU times: user 21 s, sys: 307 ms, total: 21.3 s\n",
      "Wall time: 21.2 s\n"
     ]
    }
   ],
   "source": [
    "%%time\n",
    "\n",
    "trajs = []\n",
    "radius = 500\n",
    "n = 1\n",
    "for k in df.trip.unique():\n",
    "    df_trip = df[df.trip == k]\n",
    "    \n",
    "    t = trip.Trip(df_trip)\n",
    "    # add variables\n",
    "    t.add_dive(threshold)\n",
    "    t.add_step()\n",
    "    t.add_cap()\n",
    "    t.add_direction()\n",
    "    t.df['cos_cap'] = np.cos(t.df.cap)\n",
    "    t.df['sin_cap'] = np.sin(t.df.cap)\n",
    "\n",
    "    # standardized trajectories\n",
    "    t.standardize(('step', 'direction'))\n",
    "    t.standardize_minmax(('lon', 'lat'))\n",
    "\n",
    "    trajs.append(t.df)\n",
    "    \n",
    "    IPython.display.clear_output(wait=True)\n",
    "    print('Trip [{}/{}]'.format(n, len(df.trip.unique())))\n",
    "    n+=1"
   ]
  },
  {
   "cell_type": "code",
   "execution_count": 25,
   "metadata": {
    "colab": {
     "base_uri": "https://localhost:8080/",
     "height": 424
    },
    "id": "ictIDcImlBW2",
    "outputId": "c1b4d6ee-0d1b-4a38-e6ed-f45ba9c2202f"
   },
   "outputs": [
    {
     "data": {
      "text/html": [
       "<div>\n",
       "<style scoped>\n",
       "    .dataframe tbody tr th:only-of-type {\n",
       "        vertical-align: middle;\n",
       "    }\n",
       "\n",
       "    .dataframe tbody tr th {\n",
       "        vertical-align: top;\n",
       "    }\n",
       "\n",
       "    .dataframe thead th {\n",
       "        text-align: right;\n",
       "    }\n",
       "</style>\n",
       "<table border=\"1\" class=\"dataframe\">\n",
       "  <thead>\n",
       "    <tr style=\"text-align: right;\">\n",
       "      <th></th>\n",
       "      <th>trip</th>\n",
       "      <th>datetime</th>\n",
       "      <th>pressure</th>\n",
       "      <th>lon</th>\n",
       "      <th>lat</th>\n",
       "      <th>dive</th>\n",
       "      <th>step</th>\n",
       "      <th>cap</th>\n",
       "      <th>direction</th>\n",
       "      <th>cos_cap</th>\n",
       "      <th>sin_cap</th>\n",
       "      <th>step_std</th>\n",
       "      <th>direction_std</th>\n",
       "      <th>lon_std_mm</th>\n",
       "      <th>lat_std_mm</th>\n",
       "    </tr>\n",
       "  </thead>\n",
       "  <tbody>\n",
       "    <tr>\n",
       "      <th>0</th>\n",
       "      <td>P1108_4_SV_T1</td>\n",
       "      <td>2008-11-25 13:00:35</td>\n",
       "      <td>-0.35</td>\n",
       "      <td>-77.264128</td>\n",
       "      <td>-11.773317</td>\n",
       "      <td>0</td>\n",
       "      <td>NaN</td>\n",
       "      <td>NaN</td>\n",
       "      <td>NaN</td>\n",
       "      <td>NaN</td>\n",
       "      <td>NaN</td>\n",
       "      <td>NaN</td>\n",
       "      <td>NaN</td>\n",
       "      <td>0.999801</td>\n",
       "      <td>0.143444</td>\n",
       "    </tr>\n",
       "    <tr>\n",
       "      <th>1</th>\n",
       "      <td>P1108_4_SV_T1</td>\n",
       "      <td>2008-11-25 13:00:36</td>\n",
       "      <td>-0.38</td>\n",
       "      <td>-77.264118</td>\n",
       "      <td>-11.773235</td>\n",
       "      <td>0</td>\n",
       "      <td>9.192428</td>\n",
       "      <td>6.808074</td>\n",
       "      <td>NaN</td>\n",
       "      <td>0.865380</td>\n",
       "      <td>0.501117</td>\n",
       "      <td>-1.114452</td>\n",
       "      <td>NaN</td>\n",
       "      <td>0.999830</td>\n",
       "      <td>0.144644</td>\n",
       "    </tr>\n",
       "    <tr>\n",
       "      <th>2</th>\n",
       "      <td>P1108_4_SV_T1</td>\n",
       "      <td>2008-11-25 13:00:37</td>\n",
       "      <td>-0.35</td>\n",
       "      <td>-77.264098</td>\n",
       "      <td>-11.773152</td>\n",
       "      <td>0</td>\n",
       "      <td>9.492498</td>\n",
       "      <td>13.273123</td>\n",
       "      <td>6.465048</td>\n",
       "      <td>0.760475</td>\n",
       "      <td>0.649367</td>\n",
       "      <td>-1.033105</td>\n",
       "      <td>0.316087</td>\n",
       "      <td>0.999889</td>\n",
       "      <td>0.145858</td>\n",
       "    </tr>\n",
       "    <tr>\n",
       "      <th>3</th>\n",
       "      <td>P1108_4_SV_T1</td>\n",
       "      <td>2008-11-25 13:00:38</td>\n",
       "      <td>-0.29</td>\n",
       "      <td>-77.264113</td>\n",
       "      <td>-11.773060</td>\n",
       "      <td>0</td>\n",
       "      <td>10.370362</td>\n",
       "      <td>350.931311</td>\n",
       "      <td>-22.341812</td>\n",
       "      <td>0.600183</td>\n",
       "      <td>-0.799863</td>\n",
       "      <td>-0.795125</td>\n",
       "      <td>-1.099954</td>\n",
       "      <td>0.999845</td>\n",
       "      <td>0.147204</td>\n",
       "    </tr>\n",
       "    <tr>\n",
       "      <th>4</th>\n",
       "      <td>P1108_4_SV_T1</td>\n",
       "      <td>2008-11-25 13:00:39</td>\n",
       "      <td>-0.29</td>\n",
       "      <td>-77.264142</td>\n",
       "      <td>-11.772955</td>\n",
       "      <td>0</td>\n",
       "      <td>12.107480</td>\n",
       "      <td>344.870108</td>\n",
       "      <td>-6.061203</td>\n",
       "      <td>0.761557</td>\n",
       "      <td>-0.648098</td>\n",
       "      <td>-0.324208</td>\n",
       "      <td>-0.299658</td>\n",
       "      <td>0.999760</td>\n",
       "      <td>0.148740</td>\n",
       "    </tr>\n",
       "    <tr>\n",
       "      <th>...</th>\n",
       "      <td>...</td>\n",
       "      <td>...</td>\n",
       "      <td>...</td>\n",
       "      <td>...</td>\n",
       "      <td>...</td>\n",
       "      <td>...</td>\n",
       "      <td>...</td>\n",
       "      <td>...</td>\n",
       "      <td>...</td>\n",
       "      <td>...</td>\n",
       "      <td>...</td>\n",
       "      <td>...</td>\n",
       "      <td>...</td>\n",
       "      <td>...</td>\n",
       "      <td>...</td>\n",
       "    </tr>\n",
       "    <tr>\n",
       "      <th>6622</th>\n",
       "      <td>P1108_4_SV_T1</td>\n",
       "      <td>2008-11-25 14:50:57</td>\n",
       "      <td>-0.29</td>\n",
       "      <td>-77.264097</td>\n",
       "      <td>-11.773710</td>\n",
       "      <td>0</td>\n",
       "      <td>15.773785</td>\n",
       "      <td>194.809616</td>\n",
       "      <td>17.804082</td>\n",
       "      <td>0.999524</td>\n",
       "      <td>0.030867</td>\n",
       "      <td>0.669693</td>\n",
       "      <td>0.873473</td>\n",
       "      <td>0.999892</td>\n",
       "      <td>0.137695</td>\n",
       "    </tr>\n",
       "    <tr>\n",
       "      <th>6623</th>\n",
       "      <td>P1108_4_SV_T1</td>\n",
       "      <td>2008-11-25 14:50:58</td>\n",
       "      <td>-0.29</td>\n",
       "      <td>-77.264223</td>\n",
       "      <td>-11.773817</td>\n",
       "      <td>0</td>\n",
       "      <td>18.176315</td>\n",
       "      <td>229.059760</td>\n",
       "      <td>34.250144</td>\n",
       "      <td>-0.962016</td>\n",
       "      <td>0.272994</td>\n",
       "      <td>1.320996</td>\n",
       "      <td>1.681902</td>\n",
       "      <td>0.999523</td>\n",
       "      <td>0.136130</td>\n",
       "    </tr>\n",
       "    <tr>\n",
       "      <th>6624</th>\n",
       "      <td>P1108_4_SV_T1</td>\n",
       "      <td>2008-11-25 14:50:59</td>\n",
       "      <td>-0.26</td>\n",
       "      <td>-77.264307</td>\n",
       "      <td>-11.773860</td>\n",
       "      <td>0</td>\n",
       "      <td>10.329409</td>\n",
       "      <td>242.394637</td>\n",
       "      <td>13.334877</td>\n",
       "      <td>-0.881389</td>\n",
       "      <td>-0.472392</td>\n",
       "      <td>-0.806227</td>\n",
       "      <td>0.653783</td>\n",
       "      <td>0.999277</td>\n",
       "      <td>0.135500</td>\n",
       "    </tr>\n",
       "    <tr>\n",
       "      <th>6625</th>\n",
       "      <td>P1108_4_SV_T1</td>\n",
       "      <td>2008-11-25 14:51:00</td>\n",
       "      <td>-0.22</td>\n",
       "      <td>-77.264363</td>\n",
       "      <td>-11.773875</td>\n",
       "      <td>0</td>\n",
       "      <td>6.326643</td>\n",
       "      <td>254.697607</td>\n",
       "      <td>12.302970</td>\n",
       "      <td>-0.973984</td>\n",
       "      <td>-0.226616</td>\n",
       "      <td>-1.891339</td>\n",
       "      <td>0.603058</td>\n",
       "      <td>0.999113</td>\n",
       "      <td>0.135281</td>\n",
       "    </tr>\n",
       "    <tr>\n",
       "      <th>6626</th>\n",
       "      <td>P1108_4_SV_T1</td>\n",
       "      <td>2008-11-25 14:51:01</td>\n",
       "      <td>-0.22</td>\n",
       "      <td>-77.264395</td>\n",
       "      <td>-11.773895</td>\n",
       "      <td>0</td>\n",
       "      <td>4.137113</td>\n",
       "      <td>237.444521</td>\n",
       "      <td>-17.253086</td>\n",
       "      <td>0.251544</td>\n",
       "      <td>-0.967846</td>\n",
       "      <td>-2.484900</td>\n",
       "      <td>-0.849811</td>\n",
       "      <td>0.999019</td>\n",
       "      <td>0.134988</td>\n",
       "    </tr>\n",
       "  </tbody>\n",
       "</table>\n",
       "<p>6627 rows × 15 columns</p>\n",
       "</div>"
      ],
      "text/plain": [
       "               trip            datetime  ...  lon_std_mm  lat_std_mm\n",
       "0     P1108_4_SV_T1 2008-11-25 13:00:35  ...    0.999801    0.143444\n",
       "1     P1108_4_SV_T1 2008-11-25 13:00:36  ...    0.999830    0.144644\n",
       "2     P1108_4_SV_T1 2008-11-25 13:00:37  ...    0.999889    0.145858\n",
       "3     P1108_4_SV_T1 2008-11-25 13:00:38  ...    0.999845    0.147204\n",
       "4     P1108_4_SV_T1 2008-11-25 13:00:39  ...    0.999760    0.148740\n",
       "...             ...                 ...  ...         ...         ...\n",
       "6622  P1108_4_SV_T1 2008-11-25 14:50:57  ...    0.999892    0.137695\n",
       "6623  P1108_4_SV_T1 2008-11-25 14:50:58  ...    0.999523    0.136130\n",
       "6624  P1108_4_SV_T1 2008-11-25 14:50:59  ...    0.999277    0.135500\n",
       "6625  P1108_4_SV_T1 2008-11-25 14:51:00  ...    0.999113    0.135281\n",
       "6626  P1108_4_SV_T1 2008-11-25 14:51:01  ...    0.999019    0.134988\n",
       "\n",
       "[6627 rows x 15 columns]"
      ]
     },
     "execution_count": 25,
     "metadata": {
      "tags": []
     },
     "output_type": "execute_result"
    }
   ],
   "source": [
    "trajs[0]"
   ]
  },
  {
   "cell_type": "code",
   "execution_count": 26,
   "metadata": {
    "id": "3QamIv7s9mzK"
   },
   "outputs": [],
   "source": [
    "test_trajs_idx = np.random.randint(0, len(df.trip.unique()), 30)\n",
    "\n",
    "test_trajs = [trajs[i] for i in test_trajs_idx]\n",
    "train_trajs = [trajs[i] for i in range(len(df.trip.unique())) if i not in test_trajs_idx]"
   ]
  },
  {
   "cell_type": "markdown",
   "metadata": {
    "id": "biCtWhQDM8Gg"
   },
   "source": [
    "## Neural Networks"
   ]
  },
  {
   "cell_type": "code",
   "execution_count": 27,
   "metadata": {
    "id": "MaOTUwij9uRq"
   },
   "outputs": [],
   "source": [
    "# pytorch materials\n",
    "import torch\n",
    "from torch import nn\n",
    "from torch import optim\n",
    "import torchvision as tv\n",
    "from torchvision.datasets import ImageFolder\n",
    "from torch.utils.data import DataLoader"
   ]
  },
  {
   "cell_type": "code",
   "execution_count": 28,
   "metadata": {
    "id": "S2kxbquAwwA4"
   },
   "outputs": [],
   "source": [
    "class Sampler:\n",
    "    def __init__(self, trajs, epoch, batch_size, input_var):\n",
    "      # raw trajectories\n",
    "      self.trajs = trajs\n",
    "      self.n = len(trajs)\n",
    "      # sample input specificities\n",
    "      self.epoch = epoch\n",
    "      self.batch_size = batch_size\n",
    "      self.input_var = input_var\n",
    "\n",
    "\n",
    "    def sample(self):\n",
    "      input_batch = []\n",
    "      output_batch = []\n",
    "      for i in range(self.batch_size):\n",
    "        # look for a long trip\n",
    "        dt = []\n",
    "        while len(dt) < epoch:\n",
    "            traj_idx = np.random.randint(self.n)\n",
    "            dt = self.trajs[traj_idx]\n",
    "\n",
    "        # select part of this trip\n",
    "        epoch_idx = np.random.randint(2, len(dt)-epoch)\n",
    "\n",
    "        input_trajs = dt.loc[epoch_idx:epoch_idx+epoch-1, self.input_var]\n",
    "        output_trajs = dt.loc[epoch_idx:epoch_idx+epoch-1, 'dive']\n",
    "\n",
    "        # change resolution\n",
    "        output = [np.max(output_trajs[i:i+11]) for i in range(len(output_trajs)) if i%10==0]\n",
    "\n",
    "        # add it to batch\n",
    "        input_batch.append(input_trajs.to_numpy().T)\n",
    "        output_batch.append(np.array(output))\n",
    "\n",
    "      # convert to tensor\n",
    "      input_batch = torch.FloatTensor(input_batch)\n",
    "      output_batch = torch.FloatTensor(output_batch)\n",
    "\n",
    "      return (input_batch, output_batch)"
   ]
  },
  {
   "cell_type": "code",
   "execution_count": 29,
   "metadata": {
    "colab": {
     "base_uri": "https://localhost:8080/",
     "height": 35
    },
    "id": "U8ILuuNNzZgj",
    "outputId": "85383c2f-524b-4ca2-eaac-730ac1769177"
   },
   "outputs": [
    {
     "data": {
      "text/plain": [
       "torch.Size([8, 6, 600])"
      ]
     },
     "execution_count": 29,
     "metadata": {
      "tags": []
     },
     "output_type": "execute_result"
    }
   ],
   "source": [
    "# Hyperparameters\n",
    "epoch = 600\n",
    "batch_size = 8\n",
    "learning_rate = 0.01\n",
    "input_var = ('lon_std_mm', 'lat_std_mm', 'step_std', 'direction_std', 'cos_cap', 'sin_cap')\n",
    "\n",
    "train = Sampler(train_trajs, epoch, batch_size, input_var)\n",
    "test = Sampler(test_trajs, epoch, batch_size, input_var)\n",
    "\n",
    "(x, y) = train.sample()\n",
    "\n",
    "x.size()"
   ]
  },
  {
   "cell_type": "code",
   "execution_count": 30,
   "metadata": {
    "colab": {
     "base_uri": "https://localhost:8080/",
     "height": 485
    },
    "id": "_fVKBJHAhZj6",
    "outputId": "ab2ceaf6-1763-4d05-9952-790e11bdd47b"
   },
   "outputs": [
    {
     "data": {
      "image/png": "[encoded data removed]",
      "text/plain": [
       "<Figure size 1152x576 with 8 Axes>"
      ]
     },
     "metadata": {
      "needs_background": "light",
      "tags": []
     },
     "output_type": "display_data"
    }
   ],
   "source": [
    "plt.figure(figsize=(16, 8))\n",
    "\n",
    "for i in range(8):\n",
    "    lon = x.numpy()[i][0]\n",
    "    lat = x.numpy()[i][1]\n",
    "\n",
    "    real = y.numpy()[i]\n",
    "    real = [real[i] for i in range(len(real)) for k in range(10) ]\n",
    "\n",
    "    plt.subplot(2, 4, i+1)\n",
    "    plt.plot(lon, lat)\n",
    "    plt.scatter(lon[np.where(real)], lat[np.where(real)], c='orange')"
   ]
  },
  {
   "cell_type": "code",
   "execution_count": 58,
   "metadata": {
    "id": "J9gckKCMNIXd"
   },
   "outputs": [],
   "source": [
    "class ConvNet(nn.Module):\n",
    "    def __init__(self):\n",
    "        super(ConvNet, self).__init__()\n",
    "        \n",
    "        self.cnn_input_1 = nn.Sequential(\n",
    "            nn.Conv1d(6, 8, kernel_size = 11, stride = 1, padding = 5, dilation = 1),\n",
    "            nn.ReLU(),\n",
    "            nn.Conv1d(8, 8, kernel_size = 11, stride = 1, padding = 5, dilation = 1),\n",
    "            nn.ReLU()\n",
    "        )\n",
    "\n",
    "        self.pooling_1 = nn.Sequential(\n",
    "            nn.MaxPool1d(kernel_size = 11, stride = 2, padding = 5, dilation = 1)\n",
    "        )\n",
    "\n",
    "        self.cnn_input_2 = nn.Sequential(\n",
    "            nn.Conv1d(8, 16, kernel_size = 11, stride = 1, padding = 5, dilation = 1),\n",
    "            nn.ReLU(),\n",
    "            nn.Conv1d(16, 16, kernel_size = 11, stride = 1, padding = 5, dilation = 1),\n",
    "            nn.ReLU()\n",
    "        )\n",
    "\n",
    "        self.pooling_2 = nn.Sequential(\n",
    "            nn.MaxPool1d(kernel_size = 11, stride = 2, padding = 5, dilation = 1)\n",
    "        )\n",
    "\n",
    "        self.cnn_input_3 = nn.Sequential(\n",
    "            nn.Conv1d(16, 32, kernel_size = 11, stride = 1, padding = 5, dilation = 1),\n",
    "            nn.ReLU(),\n",
    "            nn.Conv1d(32, 32, kernel_size = 11, stride = 1, padding = 5, dilation = 1),\n",
    "            nn.ReLU()\n",
    "        )\n",
    "\n",
    "        self.pooling_3 = nn.Sequential(\n",
    "            nn.MaxPool1d(kernel_size = 11, stride = 2, padding = 5, dilation = 4)\n",
    "        )\n",
    "\n",
    "        self.cnn_4 = nn.Sequential(\n",
    "            nn.Conv1d(32, 16, kernel_size = 11, stride = 1, padding = 5, dilation = 1),\n",
    "            nn.ReLU(),\n",
    "            nn.Conv1d(16, 8, kernel_size = 11, stride = 1, padding = 5, dilation = 1),\n",
    "            nn.ReLU(),\n",
    "            nn.Conv1d(8, 1, kernel_size = 11, stride = 1, padding = 5, dilation = 1),\n",
    "            nn.Sigmoid()\n",
    "        )\n",
    "        \n",
    "        # self.upconv_3 = nn.Sequential(\n",
    "        #     nn.ConvTranspose1d(64, 32, kernel_size = 12, stride = 2, padding = 5, dilation = 1)\n",
    "        # )\n",
    "\n",
    "        # self.cnn_output_3 = nn.Sequential(\n",
    "        #     nn.Conv1d(64, 32, kernel_size = 6, stride = 1, padding = 5, dilation = 2),\n",
    "        #     nn.ReLU(),\n",
    "        #     nn.Conv1d(32, 32, kernel_size = 6, stride = 1, padding = 5, dilation = 2),\n",
    "        #     nn.ReLU()\n",
    "        # )\n",
    "\n",
    "        # self.upconv_2 = nn.Sequential(\n",
    "        #     nn.ConvTranspose1d(32, 16, kernel_size = 22, stride = 2, padding = 10, dilation = 1)\n",
    "        # )\n",
    "\n",
    "        # self.cnn_output_2 = nn.Sequential(\n",
    "        #     nn.Conv1d(32, 16, kernel_size = 11, stride = 1, padding = 10, dilation = 2),\n",
    "        #     nn.ReLU(),\n",
    "        #     nn.Conv1d(16, 16, kernel_size = 11, stride = 1, padding = 10, dilation = 2),\n",
    "        #     nn.ReLU()\n",
    "        # )\n",
    "\n",
    "        # self.upconv_1 = nn.Sequential(\n",
    "        #     nn.ConvTranspose1d(16, 8, kernel_size = 20, stride = 2, padding = 23, dilation = 1)\n",
    "        # )\n",
    "         \n",
    "        # self.cnn_output_1 = nn.Sequential(\n",
    "        #     nn.Conv1d(16, 2, kernel_size = 26, stride = 1, padding = 25, dilation = 2),\n",
    "        #     nn.ReLU(),\n",
    "        #     nn.Conv1d(2, 1, kernel_size = 26, stride = 1, padding = 25, dilation = 2),\n",
    "        #     nn.Sigmoid()\n",
    "        # )\n",
    "\n",
    "                \n",
    "    def forward(self, x):\n",
    "        out_1 = self.cnn_input_1(x)\n",
    "        out = self.pooling_1(out_1)\n",
    "        out_2 = self.cnn_input_2(out)\n",
    "        out = self.pooling_2(out_2)\n",
    "        out_3 = self.cnn_input_3(out)\n",
    "        out = self.pooling_3(out_3)\n",
    "        out = self.cnn_4(out)\n",
    "        # out = self.upconv_3(out)\n",
    "        # out = torch.cat((out, out_3), 1)\n",
    "        # out = self.cnn_output_3(out)\n",
    "        # out = self.upconv_2(out)\n",
    "        # out = torch.cat((out, out_2), 1)\n",
    "        # out = self.cnn_output_2(out)\n",
    "        # out = self.upconv_1(out)\n",
    "        # out = torch.cat((out, out_1), 1)\n",
    "        # out = self.cnn_output_1(out)\n",
    "\n",
    "        return out.reshape((8, 60))"
   ]
  },
  {
   "cell_type": "code",
   "execution_count": 59,
   "metadata": {
    "colab": {
     "base_uri": "https://localhost:8080/",
     "height": 35
    },
    "id": "raZoL_8mjDDw",
    "outputId": "5db367d1-3525-447c-a538-0f73703a4a15"
   },
   "outputs": [
    {
     "data": {
      "text/plain": [
       "torch.Size([8, 1, 60])"
      ]
     },
     "execution_count": 59,
     "metadata": {
      "tags": []
     },
     "output_type": "execute_result"
    }
   ],
   "source": [
    "model = ConvNet()\n",
    "\n",
    "out_1 = model.cnn_input_1(x)\n",
    "out = model.pooling_1(out_1)\n",
    "out_2 = model.cnn_input_2(out)\n",
    "out = model.pooling_2(out_2)\n",
    "out_3 = model.cnn_input_3(out)\n",
    "out = model.pooling_3(out_3)\n",
    "out = model.cnn_4(out)\n",
    "# out = model.upconv_3(out)\n",
    "# out = torch.cat((out, out_3), 1)\n",
    "# out = model.cnn_output_3(out)\n",
    "# out = model.upconv_2(out)\n",
    "# out = torch.cat((out, out_2), 1)\n",
    "# out = model.cnn_output_2(out)\n",
    "# out = model.upconv_1(out)\n",
    "# out = torch.cat((out, out_1), 1)\n",
    "# out = model.cnn_output_1(out)\n",
    "\n",
    "\n",
    "out.size()"
   ]
  },
  {
   "cell_type": "code",
   "execution_count": 60,
   "metadata": {
    "colab": {
     "base_uri": "https://localhost:8080/",
     "height": 35
    },
    "id": "f67eVqDINKRx",
    "outputId": "f4720730-641d-4e7d-9c8d-d6845b666955"
   },
   "outputs": [
    {
     "data": {
      "text/plain": [
       "torch.Size([8, 60])"
      ]
     },
     "execution_count": 60,
     "metadata": {
      "tags": []
     },
     "output_type": "execute_result"
    }
   ],
   "source": [
    "model = ConvNet()\n",
    "out = model(x)\n",
    "out.size()"
   ]
  },
  {
   "cell_type": "code",
   "execution_count": 61,
   "metadata": {
    "id": "ELWzpTeiNPct"
   },
   "outputs": [],
   "source": [
    "# Loss and optimizer\n",
    "criterion = nn.BCELoss()\n",
    "optimizer = torch.optim.SGD(model.parameters(), lr=learning_rate)"
   ]
  },
  {
   "cell_type": "code",
   "execution_count": null,
   "metadata": {
    "colab": {
     "base_uri": "https://localhost:8080/",
     "height": 35
    },
    "id": "IBeASnGsNSuL",
    "outputId": "499d6627-4478-44a1-c7e0-a88acc4a30f5"
   },
   "outputs": [
    {
     "data": {
      "text/plain": [
       "tensor(0.5974, grad_fn=<BinaryCrossEntropyBackward>)"
      ]
     },
     "execution_count": 200,
     "metadata": {
      "tags": []
     },
     "output_type": "execute_result"
    }
   ],
   "source": [
    "criterion(out, y)"
   ]
  },
  {
   "cell_type": "code",
   "execution_count": 62,
   "metadata": {
    "colab": {
     "base_uri": "https://localhost:8080/",
     "height": 35
    },
    "id": "ibJb2FZqPkZH",
    "outputId": "85e909fe-1fd1-411b-f0a9-8a1742f9698e"
   },
   "outputs": [
    {
     "data": {
      "text/plain": [
       "75453"
      ]
     },
     "execution_count": 62,
     "metadata": {
      "tags": []
     },
     "output_type": "execute_result"
    }
   ],
   "source": [
    "## estimate a relevant nb of total step\n",
    "test_step = 100\n",
    "\n",
    "total_step = round(0.7 * (len(df) - len(df_trip.trip.unique()) * epoch)/batch_size)\n",
    "total_step"
   ]
  },
  {
   "cell_type": "code",
   "execution_count": 63,
   "metadata": {
    "id": "f4Pli5CetwPA"
   },
   "outputs": [],
   "source": [
    "# # switch to GPU\n",
    "# device = torch.device('cuda' if torch.cuda.is_available() else 'cpu')\n",
    "# device"
   ]
  },
  {
   "cell_type": "code",
   "execution_count": 64,
   "metadata": {
    "id": "kkacJC-Bt7fR"
   },
   "outputs": [],
   "source": [
    "# model.to(device)"
   ]
  },
  {
   "cell_type": "code",
   "execution_count": 65,
   "metadata": {
    "colab": {
     "base_uri": "https://localhost:8080/",
     "height": 1000
    },
    "id": "z_0oOEOlNUbm",
    "outputId": "540963ce-9834-4c5d-f48e-6a4d4caa4977"
   },
   "outputs": [
    {
     "name": "stdout",
     "output_type": "stream",
     "text": [
      "Step [1000/75453], Loss: 0.4867, Accuracy: 49.975581672767404 %\n",
      "Step [2000/75453], Loss: 0.1570, Accuracy: 52.515237143446434 %\n",
      "Step [3000/75453], Loss: 0.2244, Accuracy: 53.64804152732402 %\n",
      "Step [4000/75453], Loss: 0.3230, Accuracy: 54.433991845989915 %\n",
      "Step [5000/75453], Loss: 0.2281, Accuracy: 54.01433561748094 %\n",
      "Step [6000/75453], Loss: 0.1572, Accuracy: 54.746400271131776 %\n",
      "Step [7000/75453], Loss: 0.2773, Accuracy: 54.76291902605207 %\n",
      "Step [8000/75453], Loss: 0.1802, Accuracy: 55.699101310110535 %\n",
      "Step [9000/75453], Loss: 0.2401, Accuracy: 56.55932037282347 %\n",
      "Step [10000/75453], Loss: 0.2570, Accuracy: 55.3925531099943 %\n",
      "Step [11000/75453], Loss: 0.1881, Accuracy: 55.509892409465934 %\n",
      "Step [12000/75453], Loss: 0.1904, Accuracy: 55.47918671403592 %\n",
      "Step [13000/75453], Loss: 0.1917, Accuracy: 55.26997746030884 %\n",
      "Step [14000/75453], Loss: 0.1870, Accuracy: 55.30784733746928 %\n",
      "Step [15000/75453], Loss: 0.3156, Accuracy: 56.00519214668543 %\n",
      "Step [16000/75453], Loss: 0.3083, Accuracy: 55.04327540299013 %\n",
      "Step [17000/75453], Loss: 0.2873, Accuracy: 56.054949696647085 %\n",
      "Step [18000/75453], Loss: 0.2074, Accuracy: 55.349757068979066 %\n",
      "Step [19000/75453], Loss: 0.1994, Accuracy: 55.38067031625316 %\n",
      "Step [20000/75453], Loss: 0.2316, Accuracy: 55.795286313328475 %\n",
      "Step [21000/75453], Loss: 0.1560, Accuracy: 55.1372872656 %\n",
      "Step [22000/75453], Loss: 0.2529, Accuracy: 55.8097897011602 %\n",
      "Step [23000/75453], Loss: 0.1996, Accuracy: 55.535934897120875 %\n",
      "Step [24000/75453], Loss: 0.1586, Accuracy: 55.079669066013004 %\n",
      "Step [25000/75453], Loss: 0.2249, Accuracy: 55.5344151252025 %\n",
      "Step [26000/75453], Loss: 0.3656, Accuracy: 57.00786940889368 %\n",
      "Step [27000/75453], Loss: 0.1880, Accuracy: 56.20751633321143 %\n",
      "Step [28000/75453], Loss: 0.2262, Accuracy: 56.23236962516373 %\n",
      "Step [29000/75453], Loss: 0.2862, Accuracy: 55.606558616576464 %\n",
      "Step [30000/75453], Loss: 0.1832, Accuracy: 55.32763928524065 %\n",
      "Step [31000/75453], Loss: 0.0765, Accuracy: 56.33901898672883 %\n",
      "Step [32000/75453], Loss: 0.2295, Accuracy: 56.787468083681404 %\n",
      "Step [33000/75453], Loss: 0.1790, Accuracy: 56.5299491445692 %\n",
      "Step [34000/75453], Loss: 0.1839, Accuracy: 56.38607546741464 %\n",
      "Step [35000/75453], Loss: 0.1716, Accuracy: 56.23389540081598 %\n",
      "Step [36000/75453], Loss: 0.1838, Accuracy: 56.081269888575825 %\n",
      "Step [37000/75453], Loss: 0.1638, Accuracy: 55.237569021301944 %\n",
      "Step [38000/75453], Loss: 0.2633, Accuracy: 56.54550895656389 %\n",
      "Step [39000/75453], Loss: 0.1514, Accuracy: 56.42800581510493 %\n",
      "Step [40000/75453], Loss: 0.3081, Accuracy: 56.434475812380484 %\n",
      "Step [41000/75453], Loss: 0.0899, Accuracy: 56.260786822082885 %\n",
      "Step [42000/75453], Loss: 0.1017, Accuracy: 56.90200144560962 %\n",
      "Step [43000/75453], Loss: 0.2504, Accuracy: 56.61948083196289 %\n",
      "Step [44000/75453], Loss: 0.1855, Accuracy: 56.23099584925902 %\n",
      "Step [45000/75453], Loss: 0.2004, Accuracy: 56.627075945281504 %\n",
      "Step [46000/75453], Loss: 0.1831, Accuracy: 56.87294084639942 %\n",
      "Step [47000/75453], Loss: 0.1329, Accuracy: 56.238602345708564 %\n",
      "Step [48000/75453], Loss: 0.2366, Accuracy: 55.98133085372963 %\n",
      "Step [49000/75453], Loss: 0.1486, Accuracy: 56.57114399340948 %\n",
      "Step [50000/75453], Loss: 0.0831, Accuracy: 56.213160649942985 %\n",
      "Step [51000/75453], Loss: 0.2587, Accuracy: 56.235486680543346 %\n",
      "Step [52000/75453], Loss: 0.1779, Accuracy: 57.000430508645785 %\n",
      "Step [53000/75453], Loss: 0.1829, Accuracy: 56.313030698283754 %\n",
      "Step [54000/75453], Loss: 0.2820, Accuracy: 56.039660813557425 %\n",
      "Step [55000/75453], Loss: 0.1991, Accuracy: 55.78988472593218 %\n",
      "Step [56000/75453], Loss: 0.2022, Accuracy: 56.50028007054676 %\n",
      "Step [57000/75453], Loss: 0.0999, Accuracy: 56.782966894558975 %\n",
      "Step [58000/75453], Loss: 0.1602, Accuracy: 56.65020752023455 %\n",
      "Step [59000/75453], Loss: 0.1559, Accuracy: 56.00470261561286 %\n",
      "Step [60000/75453], Loss: 0.2779, Accuracy: 56.32014050100014 %\n",
      "Step [61000/75453], Loss: 0.2904, Accuracy: 56.95387225698722 %\n",
      "Step [62000/75453], Loss: 0.2022, Accuracy: 56.1579766338683 %\n",
      "Step [63000/75453], Loss: 0.2647, Accuracy: 56.67138169375038 %\n",
      "Step [64000/75453], Loss: 0.2292, Accuracy: 56.12978753840318 %\n",
      "Step [65000/75453], Loss: 0.3020, Accuracy: 56.97476424278995 %\n"
     ]
    },
    {
     "ename": "KeyboardInterrupt",
     "evalue": "ignored",
     "output_type": "error",
     "traceback": [
      "\u001b[0;31m---------------------------------------------------------------------------\u001b[0m",
      "\u001b[0;31mKeyboardInterrupt\u001b[0m                         Traceback (most recent call last)",
      "\u001b[0;32m<ipython-input-65-1a2591413fea>\u001b[0m in \u001b[0;36m<module>\u001b[0;34m()\u001b[0m\n\u001b[1;32m      6\u001b[0m     \u001b[0;31m# Train the model\u001b[0m\u001b[0;34m\u001b[0m\u001b[0;34m\u001b[0m\u001b[0;34m\u001b[0m\u001b[0m\n\u001b[1;32m      7\u001b[0m     \u001b[0mmodel\u001b[0m\u001b[0;34m.\u001b[0m\u001b[0mtrain\u001b[0m\u001b[0;34m(\u001b[0m\u001b[0;34m)\u001b[0m\u001b[0;34m\u001b[0m\u001b[0;34m\u001b[0m\u001b[0m\n\u001b[0;32m----> 8\u001b[0;31m     \u001b[0;34m(\u001b[0m\u001b[0mx\u001b[0m\u001b[0;34m,\u001b[0m\u001b[0my\u001b[0m\u001b[0;34m)\u001b[0m \u001b[0;34m=\u001b[0m \u001b[0mtrain\u001b[0m\u001b[0;34m.\u001b[0m\u001b[0msample\u001b[0m\u001b[0;34m(\u001b[0m\u001b[0;34m)\u001b[0m\u001b[0;34m\u001b[0m\u001b[0;34m\u001b[0m\u001b[0m\n\u001b[0m\u001b[1;32m      9\u001b[0m     \u001b[0;31m# x, y = x.to(device), y.to(device)\u001b[0m\u001b[0;34m\u001b[0m\u001b[0;34m\u001b[0m\u001b[0;34m\u001b[0m\u001b[0m\n\u001b[1;32m     10\u001b[0m \u001b[0;34m\u001b[0m\u001b[0m\n",
      "\u001b[0;32m<ipython-input-28-48b07add8f12>\u001b[0m in \u001b[0;36msample\u001b[0;34m(self)\u001b[0m\n\u001b[1;32m     27\u001b[0m \u001b[0;34m\u001b[0m\u001b[0m\n\u001b[1;32m     28\u001b[0m         \u001b[0;31m# change resolution\u001b[0m\u001b[0;34m\u001b[0m\u001b[0;34m\u001b[0m\u001b[0;34m\u001b[0m\u001b[0m\n\u001b[0;32m---> 29\u001b[0;31m         \u001b[0moutput\u001b[0m \u001b[0;34m=\u001b[0m \u001b[0;34m[\u001b[0m\u001b[0mnp\u001b[0m\u001b[0;34m.\u001b[0m\u001b[0mmax\u001b[0m\u001b[0;34m(\u001b[0m\u001b[0moutput_trajs\u001b[0m\u001b[0;34m[\u001b[0m\u001b[0mi\u001b[0m\u001b[0;34m:\u001b[0m\u001b[0mi\u001b[0m\u001b[0;34m+\u001b[0m\u001b[0;36m11\u001b[0m\u001b[0;34m]\u001b[0m\u001b[0;34m)\u001b[0m \u001b[0;32mfor\u001b[0m \u001b[0mi\u001b[0m \u001b[0;32min\u001b[0m \u001b[0mrange\u001b[0m\u001b[0;34m(\u001b[0m\u001b[0mlen\u001b[0m\u001b[0;34m(\u001b[0m\u001b[0moutput_trajs\u001b[0m\u001b[0;34m)\u001b[0m\u001b[0;34m)\u001b[0m \u001b[0;32mif\u001b[0m \u001b[0mi\u001b[0m\u001b[0;34m%\u001b[0m\u001b[0;36m10\u001b[0m\u001b[0;34m==\u001b[0m\u001b[0;36m0\u001b[0m\u001b[0;34m]\u001b[0m\u001b[0;34m\u001b[0m\u001b[0;34m\u001b[0m\u001b[0m\n\u001b[0m\u001b[1;32m     30\u001b[0m \u001b[0;34m\u001b[0m\u001b[0m\n\u001b[1;32m     31\u001b[0m         \u001b[0;31m# add it to batch\u001b[0m\u001b[0;34m\u001b[0m\u001b[0;34m\u001b[0m\u001b[0;34m\u001b[0m\u001b[0m\n",
      "\u001b[0;32m<ipython-input-28-48b07add8f12>\u001b[0m in \u001b[0;36m<listcomp>\u001b[0;34m(.0)\u001b[0m\n\u001b[1;32m     27\u001b[0m \u001b[0;34m\u001b[0m\u001b[0m\n\u001b[1;32m     28\u001b[0m         \u001b[0;31m# change resolution\u001b[0m\u001b[0;34m\u001b[0m\u001b[0;34m\u001b[0m\u001b[0;34m\u001b[0m\u001b[0m\n\u001b[0;32m---> 29\u001b[0;31m         \u001b[0moutput\u001b[0m \u001b[0;34m=\u001b[0m \u001b[0;34m[\u001b[0m\u001b[0mnp\u001b[0m\u001b[0;34m.\u001b[0m\u001b[0mmax\u001b[0m\u001b[0;34m(\u001b[0m\u001b[0moutput_trajs\u001b[0m\u001b[0;34m[\u001b[0m\u001b[0mi\u001b[0m\u001b[0;34m:\u001b[0m\u001b[0mi\u001b[0m\u001b[0;34m+\u001b[0m\u001b[0;36m11\u001b[0m\u001b[0;34m]\u001b[0m\u001b[0;34m)\u001b[0m \u001b[0;32mfor\u001b[0m \u001b[0mi\u001b[0m \u001b[0;32min\u001b[0m \u001b[0mrange\u001b[0m\u001b[0;34m(\u001b[0m\u001b[0mlen\u001b[0m\u001b[0;34m(\u001b[0m\u001b[0moutput_trajs\u001b[0m\u001b[0;34m)\u001b[0m\u001b[0;34m)\u001b[0m \u001b[0;32mif\u001b[0m \u001b[0mi\u001b[0m\u001b[0;34m%\u001b[0m\u001b[0;36m10\u001b[0m\u001b[0;34m==\u001b[0m\u001b[0;36m0\u001b[0m\u001b[0;34m]\u001b[0m\u001b[0;34m\u001b[0m\u001b[0;34m\u001b[0m\u001b[0m\n\u001b[0m\u001b[1;32m     30\u001b[0m \u001b[0;34m\u001b[0m\u001b[0m\n\u001b[1;32m     31\u001b[0m         \u001b[0;31m# add it to batch\u001b[0m\u001b[0;34m\u001b[0m\u001b[0;34m\u001b[0m\u001b[0;34m\u001b[0m\u001b[0m\n",
      "\u001b[0;32m<__array_function__ internals>\u001b[0m in \u001b[0;36mamax\u001b[0;34m(*args, **kwargs)\u001b[0m\n",
      "\u001b[0;32m/usr/local/lib/python3.6/dist-packages/numpy/core/fromnumeric.py\u001b[0m in \u001b[0;36mamax\u001b[0;34m(a, axis, out, keepdims, initial, where)\u001b[0m\n\u001b[1;32m   2666\u001b[0m     \"\"\"\n\u001b[1;32m   2667\u001b[0m     return _wrapreduction(a, np.maximum, 'max', axis, None, out,\n\u001b[0;32m-> 2668\u001b[0;31m                           keepdims=keepdims, initial=initial, where=where)\n\u001b[0m\u001b[1;32m   2669\u001b[0m \u001b[0;34m\u001b[0m\u001b[0m\n\u001b[1;32m   2670\u001b[0m \u001b[0;34m\u001b[0m\u001b[0m\n",
      "\u001b[0;32m/usr/local/lib/python3.6/dist-packages/numpy/core/fromnumeric.py\u001b[0m in \u001b[0;36m_wrapreduction\u001b[0;34m(obj, ufunc, method, axis, dtype, out, **kwargs)\u001b[0m\n\u001b[1;32m     86\u001b[0m                 \u001b[0;32mreturn\u001b[0m \u001b[0mreduction\u001b[0m\u001b[0;34m(\u001b[0m\u001b[0maxis\u001b[0m\u001b[0;34m=\u001b[0m\u001b[0maxis\u001b[0m\u001b[0;34m,\u001b[0m \u001b[0mdtype\u001b[0m\u001b[0;34m=\u001b[0m\u001b[0mdtype\u001b[0m\u001b[0;34m,\u001b[0m \u001b[0mout\u001b[0m\u001b[0;34m=\u001b[0m\u001b[0mout\u001b[0m\u001b[0;34m,\u001b[0m \u001b[0;34m**\u001b[0m\u001b[0mpasskwargs\u001b[0m\u001b[0;34m)\u001b[0m\u001b[0;34m\u001b[0m\u001b[0;34m\u001b[0m\u001b[0m\n\u001b[1;32m     87\u001b[0m             \u001b[0;32melse\u001b[0m\u001b[0;34m:\u001b[0m\u001b[0;34m\u001b[0m\u001b[0;34m\u001b[0m\u001b[0m\n\u001b[0;32m---> 88\u001b[0;31m                 \u001b[0;32mreturn\u001b[0m \u001b[0mreduction\u001b[0m\u001b[0;34m(\u001b[0m\u001b[0maxis\u001b[0m\u001b[0;34m=\u001b[0m\u001b[0maxis\u001b[0m\u001b[0;34m,\u001b[0m \u001b[0mout\u001b[0m\u001b[0;34m=\u001b[0m\u001b[0mout\u001b[0m\u001b[0;34m,\u001b[0m \u001b[0;34m**\u001b[0m\u001b[0mpasskwargs\u001b[0m\u001b[0;34m)\u001b[0m\u001b[0;34m\u001b[0m\u001b[0;34m\u001b[0m\u001b[0m\n\u001b[0m\u001b[1;32m     89\u001b[0m \u001b[0;34m\u001b[0m\u001b[0m\n\u001b[1;32m     90\u001b[0m     \u001b[0;32mreturn\u001b[0m \u001b[0mufunc\u001b[0m\u001b[0;34m.\u001b[0m\u001b[0mreduce\u001b[0m\u001b[0;34m(\u001b[0m\u001b[0mobj\u001b[0m\u001b[0;34m,\u001b[0m \u001b[0maxis\u001b[0m\u001b[0;34m,\u001b[0m \u001b[0mdtype\u001b[0m\u001b[0;34m,\u001b[0m \u001b[0mout\u001b[0m\u001b[0;34m,\u001b[0m \u001b[0;34m**\u001b[0m\u001b[0mpasskwargs\u001b[0m\u001b[0;34m)\u001b[0m\u001b[0;34m\u001b[0m\u001b[0;34m\u001b[0m\u001b[0m\n",
      "\u001b[0;32m/usr/local/lib/python3.6/dist-packages/pandas/core/generic.py\u001b[0m in \u001b[0;36mstat_func\u001b[0;34m(self, axis, skipna, level, numeric_only, **kwargs)\u001b[0m\n\u001b[1;32m  11464\u001b[0m             \u001b[0;32mreturn\u001b[0m \u001b[0mself\u001b[0m\u001b[0;34m.\u001b[0m\u001b[0m_agg_by_level\u001b[0m\u001b[0;34m(\u001b[0m\u001b[0mname\u001b[0m\u001b[0;34m,\u001b[0m \u001b[0maxis\u001b[0m\u001b[0;34m=\u001b[0m\u001b[0maxis\u001b[0m\u001b[0;34m,\u001b[0m \u001b[0mlevel\u001b[0m\u001b[0;34m=\u001b[0m\u001b[0mlevel\u001b[0m\u001b[0;34m,\u001b[0m \u001b[0mskipna\u001b[0m\u001b[0;34m=\u001b[0m\u001b[0mskipna\u001b[0m\u001b[0;34m)\u001b[0m\u001b[0;34m\u001b[0m\u001b[0;34m\u001b[0m\u001b[0m\n\u001b[1;32m  11465\u001b[0m         return self._reduce(\n\u001b[0;32m> 11466\u001b[0;31m             \u001b[0mfunc\u001b[0m\u001b[0;34m,\u001b[0m \u001b[0mname\u001b[0m\u001b[0;34m=\u001b[0m\u001b[0mname\u001b[0m\u001b[0;34m,\u001b[0m \u001b[0maxis\u001b[0m\u001b[0;34m=\u001b[0m\u001b[0maxis\u001b[0m\u001b[0;34m,\u001b[0m \u001b[0mskipna\u001b[0m\u001b[0;34m=\u001b[0m\u001b[0mskipna\u001b[0m\u001b[0;34m,\u001b[0m \u001b[0mnumeric_only\u001b[0m\u001b[0;34m=\u001b[0m\u001b[0mnumeric_only\u001b[0m\u001b[0;34m\u001b[0m\u001b[0;34m\u001b[0m\u001b[0m\n\u001b[0m\u001b[1;32m  11467\u001b[0m         )\n\u001b[1;32m  11468\u001b[0m \u001b[0;34m\u001b[0m\u001b[0m\n",
      "\u001b[0;32m/usr/local/lib/python3.6/dist-packages/pandas/core/series.py\u001b[0m in \u001b[0;36m_reduce\u001b[0;34m(self, op, name, axis, skipna, numeric_only, filter_type, **kwds)\u001b[0m\n\u001b[1;32m   4234\u001b[0m                 )\n\u001b[1;32m   4235\u001b[0m             \u001b[0;32mwith\u001b[0m \u001b[0mnp\u001b[0m\u001b[0;34m.\u001b[0m\u001b[0merrstate\u001b[0m\u001b[0;34m(\u001b[0m\u001b[0mall\u001b[0m\u001b[0;34m=\u001b[0m\u001b[0;34m\"ignore\"\u001b[0m\u001b[0;34m)\u001b[0m\u001b[0;34m:\u001b[0m\u001b[0;34m\u001b[0m\u001b[0;34m\u001b[0m\u001b[0m\n\u001b[0;32m-> 4236\u001b[0;31m                 \u001b[0;32mreturn\u001b[0m \u001b[0mop\u001b[0m\u001b[0;34m(\u001b[0m\u001b[0mdelegate\u001b[0m\u001b[0;34m,\u001b[0m \u001b[0mskipna\u001b[0m\u001b[0;34m=\u001b[0m\u001b[0mskipna\u001b[0m\u001b[0;34m,\u001b[0m \u001b[0;34m**\u001b[0m\u001b[0mkwds\u001b[0m\u001b[0;34m)\u001b[0m\u001b[0;34m\u001b[0m\u001b[0;34m\u001b[0m\u001b[0m\n\u001b[0m\u001b[1;32m   4237\u001b[0m \u001b[0;34m\u001b[0m\u001b[0m\n\u001b[1;32m   4238\u001b[0m     \u001b[0;32mdef\u001b[0m \u001b[0m_reindex_indexer\u001b[0m\u001b[0;34m(\u001b[0m\u001b[0mself\u001b[0m\u001b[0;34m,\u001b[0m \u001b[0mnew_index\u001b[0m\u001b[0;34m,\u001b[0m \u001b[0mindexer\u001b[0m\u001b[0;34m,\u001b[0m \u001b[0mcopy\u001b[0m\u001b[0;34m)\u001b[0m\u001b[0;34m:\u001b[0m\u001b[0;34m\u001b[0m\u001b[0;34m\u001b[0m\u001b[0m\n",
      "\u001b[0;32m/usr/local/lib/python3.6/dist-packages/pandas/core/nanops.py\u001b[0m in \u001b[0;36mf\u001b[0;34m(values, axis, skipna, **kwds)\u001b[0m\n\u001b[1;32m    113\u001b[0m                 \u001b[0;32mreturn\u001b[0m \u001b[0m_na_for_min_count\u001b[0m\u001b[0;34m(\u001b[0m\u001b[0mvalues\u001b[0m\u001b[0;34m,\u001b[0m \u001b[0maxis\u001b[0m\u001b[0;34m)\u001b[0m\u001b[0;34m\u001b[0m\u001b[0;34m\u001b[0m\u001b[0m\n\u001b[1;32m    114\u001b[0m \u001b[0;34m\u001b[0m\u001b[0m\n\u001b[0;32m--> 115\u001b[0;31m             \u001b[0;32mif\u001b[0m \u001b[0m_USE_BOTTLENECK\u001b[0m \u001b[0;32mand\u001b[0m \u001b[0mskipna\u001b[0m \u001b[0;32mand\u001b[0m \u001b[0m_bn_ok_dtype\u001b[0m\u001b[0;34m(\u001b[0m\u001b[0mvalues\u001b[0m\u001b[0;34m.\u001b[0m\u001b[0mdtype\u001b[0m\u001b[0;34m,\u001b[0m \u001b[0mbn_name\u001b[0m\u001b[0;34m)\u001b[0m\u001b[0;34m:\u001b[0m\u001b[0;34m\u001b[0m\u001b[0;34m\u001b[0m\u001b[0m\n\u001b[0m\u001b[1;32m    116\u001b[0m                 \u001b[0;32mif\u001b[0m \u001b[0mkwds\u001b[0m\u001b[0;34m.\u001b[0m\u001b[0mget\u001b[0m\u001b[0;34m(\u001b[0m\u001b[0;34m\"mask\"\u001b[0m\u001b[0;34m,\u001b[0m \u001b[0;32mNone\u001b[0m\u001b[0;34m)\u001b[0m \u001b[0;32mis\u001b[0m \u001b[0;32mNone\u001b[0m\u001b[0;34m:\u001b[0m\u001b[0;34m\u001b[0m\u001b[0;34m\u001b[0m\u001b[0m\n\u001b[1;32m    117\u001b[0m                     \u001b[0;31m# `mask` is not recognised by bottleneck, would raise\u001b[0m\u001b[0;34m\u001b[0m\u001b[0;34m\u001b[0m\u001b[0;34m\u001b[0m\u001b[0m\n",
      "\u001b[0;32m/usr/local/lib/python3.6/dist-packages/pandas/core/nanops.py\u001b[0m in \u001b[0;36m_bn_ok_dtype\u001b[0;34m(dtype, name)\u001b[0m\n\u001b[1;32m    136\u001b[0m \u001b[0;32mdef\u001b[0m \u001b[0m_bn_ok_dtype\u001b[0m\u001b[0;34m(\u001b[0m\u001b[0mdtype\u001b[0m\u001b[0;34m:\u001b[0m \u001b[0mDtypeObj\u001b[0m\u001b[0;34m,\u001b[0m \u001b[0mname\u001b[0m\u001b[0;34m:\u001b[0m \u001b[0mstr\u001b[0m\u001b[0;34m)\u001b[0m \u001b[0;34m->\u001b[0m \u001b[0mbool\u001b[0m\u001b[0;34m:\u001b[0m\u001b[0;34m\u001b[0m\u001b[0;34m\u001b[0m\u001b[0m\n\u001b[1;32m    137\u001b[0m     \u001b[0;31m# Bottleneck chokes on datetime64, PeriodDtype (or and EA)\u001b[0m\u001b[0;34m\u001b[0m\u001b[0;34m\u001b[0m\u001b[0;34m\u001b[0m\u001b[0m\n\u001b[0;32m--> 138\u001b[0;31m     \u001b[0;32mif\u001b[0m \u001b[0;32mnot\u001b[0m \u001b[0mis_object_dtype\u001b[0m\u001b[0;34m(\u001b[0m\u001b[0mdtype\u001b[0m\u001b[0;34m)\u001b[0m \u001b[0;32mand\u001b[0m \u001b[0;32mnot\u001b[0m \u001b[0mneeds_i8_conversion\u001b[0m\u001b[0;34m(\u001b[0m\u001b[0mdtype\u001b[0m\u001b[0;34m)\u001b[0m\u001b[0;34m:\u001b[0m\u001b[0;34m\u001b[0m\u001b[0;34m\u001b[0m\u001b[0m\n\u001b[0m\u001b[1;32m    139\u001b[0m \u001b[0;34m\u001b[0m\u001b[0m\n\u001b[1;32m    140\u001b[0m         \u001b[0;31m# GH 15507\u001b[0m\u001b[0;34m\u001b[0m\u001b[0;34m\u001b[0m\u001b[0;34m\u001b[0m\u001b[0m\n",
      "\u001b[0;32m/usr/local/lib/python3.6/dist-packages/pandas/core/dtypes/common.py\u001b[0m in \u001b[0;36mneeds_i8_conversion\u001b[0;34m(arr_or_dtype)\u001b[0m\n\u001b[1;32m   1216\u001b[0m     return (\n\u001b[1;32m   1217\u001b[0m         \u001b[0mis_datetime_or_timedelta_dtype\u001b[0m\u001b[0;34m(\u001b[0m\u001b[0marr_or_dtype\u001b[0m\u001b[0;34m)\u001b[0m\u001b[0;34m\u001b[0m\u001b[0;34m\u001b[0m\u001b[0m\n\u001b[0;32m-> 1218\u001b[0;31m         \u001b[0;32mor\u001b[0m \u001b[0mis_datetime64tz_dtype\u001b[0m\u001b[0;34m(\u001b[0m\u001b[0marr_or_dtype\u001b[0m\u001b[0;34m)\u001b[0m\u001b[0;34m\u001b[0m\u001b[0;34m\u001b[0m\u001b[0m\n\u001b[0m\u001b[1;32m   1219\u001b[0m         \u001b[0;32mor\u001b[0m \u001b[0mis_period_dtype\u001b[0m\u001b[0;34m(\u001b[0m\u001b[0marr_or_dtype\u001b[0m\u001b[0;34m)\u001b[0m\u001b[0;34m\u001b[0m\u001b[0;34m\u001b[0m\u001b[0m\n\u001b[1;32m   1220\u001b[0m     )\n",
      "\u001b[0;32m/usr/local/lib/python3.6/dist-packages/pandas/core/dtypes/common.py\u001b[0m in \u001b[0;36mis_datetime64tz_dtype\u001b[0;34m(arr_or_dtype)\u001b[0m\n\u001b[1;32m    417\u001b[0m     \u001b[0;32mif\u001b[0m \u001b[0marr_or_dtype\u001b[0m \u001b[0;32mis\u001b[0m \u001b[0;32mNone\u001b[0m\u001b[0;34m:\u001b[0m\u001b[0;34m\u001b[0m\u001b[0;34m\u001b[0m\u001b[0m\n\u001b[1;32m    418\u001b[0m         \u001b[0;32mreturn\u001b[0m \u001b[0;32mFalse\u001b[0m\u001b[0;34m\u001b[0m\u001b[0;34m\u001b[0m\u001b[0m\n\u001b[0;32m--> 419\u001b[0;31m     \u001b[0;32mreturn\u001b[0m \u001b[0mDatetimeTZDtype\u001b[0m\u001b[0;34m.\u001b[0m\u001b[0mis_dtype\u001b[0m\u001b[0;34m(\u001b[0m\u001b[0marr_or_dtype\u001b[0m\u001b[0;34m)\u001b[0m\u001b[0;34m\u001b[0m\u001b[0;34m\u001b[0m\u001b[0m\n\u001b[0m\u001b[1;32m    420\u001b[0m \u001b[0;34m\u001b[0m\u001b[0m\n\u001b[1;32m    421\u001b[0m \u001b[0;34m\u001b[0m\u001b[0m\n",
      "\u001b[0;32m/usr/local/lib/python3.6/dist-packages/pandas/core/dtypes/base.py\u001b[0m in \u001b[0;36mis_dtype\u001b[0;34m(cls, dtype)\u001b[0m\n\u001b[1;32m    280\u001b[0m         \u001b[0mdtype\u001b[0m \u001b[0;34m=\u001b[0m \u001b[0mgetattr\u001b[0m\u001b[0;34m(\u001b[0m\u001b[0mdtype\u001b[0m\u001b[0;34m,\u001b[0m \u001b[0;34m\"dtype\"\u001b[0m\u001b[0;34m,\u001b[0m \u001b[0mdtype\u001b[0m\u001b[0;34m)\u001b[0m\u001b[0;34m\u001b[0m\u001b[0;34m\u001b[0m\u001b[0m\n\u001b[1;32m    281\u001b[0m \u001b[0;34m\u001b[0m\u001b[0m\n\u001b[0;32m--> 282\u001b[0;31m         \u001b[0;32mif\u001b[0m \u001b[0misinstance\u001b[0m\u001b[0;34m(\u001b[0m\u001b[0mdtype\u001b[0m\u001b[0;34m,\u001b[0m \u001b[0;34m(\u001b[0m\u001b[0mABCSeries\u001b[0m\u001b[0;34m,\u001b[0m \u001b[0mABCIndexClass\u001b[0m\u001b[0;34m,\u001b[0m \u001b[0mABCDataFrame\u001b[0m\u001b[0;34m,\u001b[0m \u001b[0mnp\u001b[0m\u001b[0;34m.\u001b[0m\u001b[0mdtype\u001b[0m\u001b[0;34m)\u001b[0m\u001b[0;34m)\u001b[0m\u001b[0;34m:\u001b[0m\u001b[0;34m\u001b[0m\u001b[0;34m\u001b[0m\u001b[0m\n\u001b[0m\u001b[1;32m    283\u001b[0m             \u001b[0;31m# https://github.com/pandas-dev/pandas/issues/22960\u001b[0m\u001b[0;34m\u001b[0m\u001b[0;34m\u001b[0m\u001b[0;34m\u001b[0m\u001b[0m\n\u001b[1;32m    284\u001b[0m             \u001b[0;31m# avoid passing data to `construct_from_string`. This could\u001b[0m\u001b[0;34m\u001b[0m\u001b[0;34m\u001b[0m\u001b[0;34m\u001b[0m\u001b[0m\n",
      "\u001b[0;32m/usr/local/lib/python3.6/dist-packages/pandas/core/dtypes/generic.py\u001b[0m in \u001b[0;36m_check\u001b[0;34m(cls, inst)\u001b[0m\n\u001b[1;32m      8\u001b[0m     \u001b[0;31m# https://github.com/python/mypy/issues/1006\u001b[0m\u001b[0;34m\u001b[0m\u001b[0;34m\u001b[0m\u001b[0;34m\u001b[0m\u001b[0m\n\u001b[1;32m      9\u001b[0m     \u001b[0;31m# error: 'classmethod' used with a non-method\u001b[0m\u001b[0;34m\u001b[0m\u001b[0;34m\u001b[0m\u001b[0;34m\u001b[0m\u001b[0m\n\u001b[0;32m---> 10\u001b[0;31m     \u001b[0;34m@\u001b[0m\u001b[0mclassmethod\u001b[0m  \u001b[0;31m# type: ignore\u001b[0m\u001b[0;34m\u001b[0m\u001b[0;34m\u001b[0m\u001b[0m\n\u001b[0m\u001b[1;32m     11\u001b[0m     \u001b[0;32mdef\u001b[0m \u001b[0m_check\u001b[0m\u001b[0;34m(\u001b[0m\u001b[0mcls\u001b[0m\u001b[0;34m,\u001b[0m \u001b[0minst\u001b[0m\u001b[0;34m)\u001b[0m \u001b[0;34m->\u001b[0m \u001b[0mbool\u001b[0m\u001b[0;34m:\u001b[0m\u001b[0;34m\u001b[0m\u001b[0;34m\u001b[0m\u001b[0m\n\u001b[1;32m     12\u001b[0m         \u001b[0;32mreturn\u001b[0m \u001b[0mgetattr\u001b[0m\u001b[0;34m(\u001b[0m\u001b[0minst\u001b[0m\u001b[0;34m,\u001b[0m \u001b[0mattr\u001b[0m\u001b[0;34m,\u001b[0m \u001b[0;34m\"_typ\"\u001b[0m\u001b[0;34m)\u001b[0m \u001b[0;32min\u001b[0m \u001b[0mcomp\u001b[0m\u001b[0;34m\u001b[0m\u001b[0;34m\u001b[0m\u001b[0m\n",
      "\u001b[0;31mKeyboardInterrupt\u001b[0m: "
     ]
    }
   ],
   "source": [
    "# Train the model\n",
    "list_score =[]\n",
    "list_loss = []\n",
    "for i in range(total_step):\n",
    "    \n",
    "    # Train the model\n",
    "    model.train()\n",
    "    (x,y) = train.sample() \n",
    "    # x, y = x.to(device), y.to(device)\n",
    "\n",
    "    # Run the forward pass\n",
    "    out = model(x)\n",
    "    loss = criterion(out, y)\n",
    "\n",
    "    # Backprop and perform optimisation\n",
    "    optimizer.zero_grad()\n",
    "    loss.backward()\n",
    "    optimizer.step()\n",
    "    \n",
    "\n",
    "    if (i + 1) % 1000 == 0:  \n",
    "        # Test the model\n",
    "        model.eval()\n",
    "        with torch.no_grad():\n",
    "            real = []\n",
    "            estim = []\n",
    "            for k in range(test_step):\n",
    "                (x,y) = test.sample()\n",
    "                # x, y = x.to(device), y.to(device)\n",
    "                out = model(x)\n",
    "                \n",
    "                # dive prediction\n",
    "                real.append( y.cpu().reshape(8*60).detach().numpy() )\n",
    "                estim.append( out.cpu().reshape(8*60).detach().numpy() )\n",
    "\n",
    "            real = np.hstack(real)\n",
    "            estim = np.hstack(estim)\n",
    "\n",
    "            # no dive prediction performance\n",
    "            no_dive_prediction = [estim[i] for i in range(estim.shape[0]) if not real[i]]\n",
    "            true_no_dive = 1-np.sum(no_dive_prediction)/len(no_dive_prediction)\n",
    "\n",
    "            # dive prediction performance\n",
    "            dive_prediction = [estim[i] for i in range(estim.shape[0]) if real[i]]\n",
    "            true_dive = np.sum(dive_prediction)/len(dive_prediction)\n",
    "        \n",
    "            score = (true_no_dive + true_dive)/2\n",
    "\n",
    "            list_loss.append(loss.item())\n",
    "            list_score.append(score)\n",
    "\n",
    "\n",
    "        print('Step [{}/{}], Loss: {:.4f}, Accuracy: {} %'\n",
    "              .format(i + 1, total_step, loss.item(), score*100))"
   ]
  },
  {
   "cell_type": "code",
   "execution_count": 74,
   "metadata": {
    "colab": {
     "base_uri": "https://localhost:8080/",
     "height": 483
    },
    "id": "nD-_cX0kNYTi",
    "outputId": "1d7e8b6b-c43a-40db-be62-ba5c78a219f1"
   },
   "outputs": [
    {
     "data": {
      "image/png": "[encoded data removed]",
      "text/plain": [
       "<Figure size 1152x576 with 8 Axes>"
      ]
     },
     "metadata": {
      "needs_background": "light",
      "tags": []
     },
     "output_type": "display_data"
    }
   ],
   "source": [
    "(x,y) = test.sample()\n",
    "out = model(x)\n",
    "\n",
    "plt.figure(figsize=(16, 8))\n",
    "\n",
    "for i in range(4):\n",
    "# i = 0\n",
    "    lon = x.cpu().numpy()[i][0]\n",
    "    lat = x.cpu().numpy()[i][1]\n",
    "\n",
    "    real = y.cpu().numpy()[i]\n",
    "    estim = out.cpu().detach().numpy()[i] > 0.2\n",
    "\n",
    "    plt.subplot(2, 4, i+1)\n",
    "    plt.plot(lon, lat)\n",
    "    plt.scatter(lon[np.where(real)], lat[np.where(real)], c='orange')\n",
    "    \n",
    "    plt.subplot(2, 4, i+5)\n",
    "    plt.plot(lon, lat)\n",
    "    plt.scatter(lon[np.where(estim)], lat[np.where(estim)], c='red')\n"
   ]
  },
  {
   "cell_type": "code",
   "execution_count": 67,
   "metadata": {
    "colab": {
     "base_uri": "https://localhost:8080/",
     "height": 35
    },
    "id": "yIjn1kMhXWc4",
    "outputId": "543f7b82-b140-4e8b-dda2-863db0ca812d"
   },
   "outputs": [
    {
     "data": {
      "text/plain": [
       "0.2048782815515978"
      ]
     },
     "execution_count": 67,
     "metadata": {
      "tags": []
     },
     "output_type": "execute_result"
    }
   ],
   "source": [
    "true_dive"
   ]
  }
 ],
 "metadata": {
  "colab": {
   "collapsed_sections": [],
   "include_colab_link": true,
   "name": "Dive_Prediction_DeepNetwork_Kernel_5_Resolution_600_60.ipynb",
   "provenance": []
  },
  "kernelspec": {
   "display_name": "Python 3",
   "language": "python",
   "name": "python3"
  },
  "language_info": {
   "codemirror_mode": {
    "name": "ipython",
    "version": 3
   },
   "file_extension": ".py",
   "mimetype": "text/x-python",
   "name": "python",
   "nbconvert_exporter": "python",
   "pygments_lexer": "ipython3",
   "version": "3.7.4"
  }
 },
 "nbformat": 4,
 "nbformat_minor": 1
}
