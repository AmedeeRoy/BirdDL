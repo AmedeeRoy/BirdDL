{
 "cells": [
  {
   "cell_type": "markdown",
   "metadata": {
    "colab_type": "text",
    "id": "view-in-github"
   },
   "source": [
    "<a href=\"https://colab.research.google.com/github/AmedeeRoy/BirdDL/blob/main/Area_Restricted_Research.ipynb\" target=\"_parent\"><img src=\"https://colab.research.google.com/assets/colab-badge.svg\" alt=\"Open In Colab\"/></a>"
   ]
  },
  {
   "cell_type": "markdown",
   "metadata": {},
   "source": [
    "# Predicting Seabird Diving Behaviour with GPS data\n",
    "\n",
    "First Time Passage\n",
    "\n",
    "## Data Formatting"
   ]
  },
  {
   "cell_type": "code",
   "execution_count": 1,
   "metadata": {
    "id": "bmtziIfGD-HJ"
   },
   "outputs": [],
   "source": [
    "import sqlite3\n",
    "import pandas as pd\n",
    "import numpy as np\n",
    "import matplotlib.pyplot as plt\n",
    "import IPython\n",
    "import datetime\n",
    "import random\n",
    "import pickle"
   ]
  },
  {
   "cell_type": "code",
   "execution_count": 2,
   "metadata": {},
   "outputs": [],
   "source": [
    "# # mount google drive\n",
    "# from google.colab import drive\n",
    "# drive.mount(\"/content/drive/\")"
   ]
  },
  {
   "cell_type": "code",
   "execution_count": 3,
   "metadata": {},
   "outputs": [],
   "source": [
    "# connect to database\n",
    "# conn = sqlite3.connect('/content/drive/My Drive/data/seabirdbank.db')\n",
    "conn = sqlite3.connect('/home/amdroy/MEGA/DATA/seabirdbank.db')"
   ]
  },
  {
   "cell_type": "code",
   "execution_count": 4,
   "metadata": {},
   "outputs": [
    {
     "data": {
      "text/plain": [
       "array([[-77.264, -11.773]])"
      ]
     },
     "execution_count": 4,
     "metadata": {},
     "output_type": "execute_result"
    }
   ],
   "source": [
    "request = \"SELECT DISTINCT lon, lat FROM fieldwork WHERE place='Pescadores'\"\n",
    "colony = pd.read_sql_query(request, conn)\n",
    "colony = colony.values\n",
    "colony"
   ]
  },
  {
   "cell_type": "code",
   "execution_count": 5,
   "metadata": {},
   "outputs": [
    {
     "data": {
      "text/html": [
       "<div>\n",
       "<style scoped>\n",
       "    .dataframe tbody tr th:only-of-type {\n",
       "        vertical-align: middle;\n",
       "    }\n",
       "\n",
       "    .dataframe tbody tr th {\n",
       "        vertical-align: top;\n",
       "    }\n",
       "\n",
       "    .dataframe thead th {\n",
       "        text-align: right;\n",
       "    }\n",
       "</style>\n",
       "<table border=\"1\" class=\"dataframe\">\n",
       "  <thead>\n",
       "    <tr style=\"text-align: right;\">\n",
       "      <th></th>\n",
       "      <th>trip</th>\n",
       "      <th>datetime</th>\n",
       "      <th>lon</th>\n",
       "      <th>lat</th>\n",
       "    </tr>\n",
       "  </thead>\n",
       "  <tbody>\n",
       "    <tr>\n",
       "      <th>0</th>\n",
       "      <td>P1108_4_SV_T1</td>\n",
       "      <td>2008-11-25 13:00:35</td>\n",
       "      <td>-77.264128</td>\n",
       "      <td>-11.773317</td>\n",
       "    </tr>\n",
       "    <tr>\n",
       "      <th>1</th>\n",
       "      <td>P1108_4_SV_T1</td>\n",
       "      <td>2008-11-25 13:00:36</td>\n",
       "      <td>-77.264118</td>\n",
       "      <td>-11.773235</td>\n",
       "    </tr>\n",
       "    <tr>\n",
       "      <th>2</th>\n",
       "      <td>P1108_4_SV_T1</td>\n",
       "      <td>2008-11-25 13:00:37</td>\n",
       "      <td>-77.264098</td>\n",
       "      <td>-11.773152</td>\n",
       "    </tr>\n",
       "    <tr>\n",
       "      <th>3</th>\n",
       "      <td>P1108_4_SV_T1</td>\n",
       "      <td>2008-11-25 13:00:38</td>\n",
       "      <td>-77.264113</td>\n",
       "      <td>-11.773060</td>\n",
       "    </tr>\n",
       "    <tr>\n",
       "      <th>4</th>\n",
       "      <td>P1108_4_SV_T1</td>\n",
       "      <td>2008-11-25 13:00:39</td>\n",
       "      <td>-77.264142</td>\n",
       "      <td>-11.772955</td>\n",
       "    </tr>\n",
       "    <tr>\n",
       "      <th>...</th>\n",
       "      <td>...</td>\n",
       "      <td>...</td>\n",
       "      <td>...</td>\n",
       "      <td>...</td>\n",
       "    </tr>\n",
       "    <tr>\n",
       "      <th>839803</th>\n",
       "      <td>P1113_50_SV_T2</td>\n",
       "      <td>2013-11-25 05:23:26</td>\n",
       "      <td>-77.264832</td>\n",
       "      <td>-11.773701</td>\n",
       "    </tr>\n",
       "    <tr>\n",
       "      <th>839804</th>\n",
       "      <td>P1113_50_SV_T2</td>\n",
       "      <td>2013-11-25 05:23:27</td>\n",
       "      <td>-77.264862</td>\n",
       "      <td>-11.773664</td>\n",
       "    </tr>\n",
       "    <tr>\n",
       "      <th>839805</th>\n",
       "      <td>P1113_50_SV_T2</td>\n",
       "      <td>2013-11-25 05:23:28</td>\n",
       "      <td>-77.264900</td>\n",
       "      <td>-11.773705</td>\n",
       "    </tr>\n",
       "    <tr>\n",
       "      <th>839806</th>\n",
       "      <td>P1113_50_SV_T2</td>\n",
       "      <td>2013-11-25 05:23:29</td>\n",
       "      <td>-77.264931</td>\n",
       "      <td>-11.773739</td>\n",
       "    </tr>\n",
       "    <tr>\n",
       "      <th>839807</th>\n",
       "      <td>P1113_50_SV_T2</td>\n",
       "      <td>2013-11-25 05:23:30</td>\n",
       "      <td>-77.264954</td>\n",
       "      <td>-11.773770</td>\n",
       "    </tr>\n",
       "  </tbody>\n",
       "</table>\n",
       "<p>839808 rows × 4 columns</p>\n",
       "</div>"
      ],
      "text/plain": [
       "                  trip             datetime        lon        lat\n",
       "0        P1108_4_SV_T1  2008-11-25 13:00:35 -77.264128 -11.773317\n",
       "1        P1108_4_SV_T1  2008-11-25 13:00:36 -77.264118 -11.773235\n",
       "2        P1108_4_SV_T1  2008-11-25 13:00:37 -77.264098 -11.773152\n",
       "3        P1108_4_SV_T1  2008-11-25 13:00:38 -77.264113 -11.773060\n",
       "4        P1108_4_SV_T1  2008-11-25 13:00:39 -77.264142 -11.772955\n",
       "...                ...                  ...        ...        ...\n",
       "839803  P1113_50_SV_T2  2013-11-25 05:23:26 -77.264832 -11.773701\n",
       "839804  P1113_50_SV_T2  2013-11-25 05:23:27 -77.264862 -11.773664\n",
       "839805  P1113_50_SV_T2  2013-11-25 05:23:28 -77.264900 -11.773705\n",
       "839806  P1113_50_SV_T2  2013-11-25 05:23:29 -77.264931 -11.773739\n",
       "839807  P1113_50_SV_T2  2013-11-25 05:23:30 -77.264954 -11.773770\n",
       "\n",
       "[839808 rows x 4 columns]"
      ]
     },
     "execution_count": 5,
     "metadata": {},
     "output_type": "execute_result"
    }
   ],
   "source": [
    "request = \"SELECT \\\n",
    "            trip.id as trip, gps.datetime, gps.lon, gps.lat\\\n",
    "            FROM gps \\\n",
    "            INNER JOIN trip ON gps.trip = trip.id \\\n",
    "            INNER JOIN bird ON trip.bird = bird.id \\\n",
    "            WHERE trip.file_gps IS NOT NULL \\\n",
    "            AND trip.file_tdr IS NOT NULL \\\n",
    "            AND (bird.fieldwork = 'P1108' OR bird.fieldwork = 'P1111' \\\n",
    "                OR bird.fieldwork = 'P1112' OR bird.fieldwork = 'P1113') \\\n",
    "            AND bird.species = 'SV'\"\n",
    "\n",
    "# substr(bird.fieldwork,1,1) = 'P'\n",
    "\n",
    "gps = pd.read_sql_query(request, conn)\n",
    "gps"
   ]
  },
  {
   "cell_type": "code",
   "execution_count": 6,
   "metadata": {},
   "outputs": [],
   "source": [
    "# check duplicated datetime in GPS trip\n",
    "idx = gps.index[gps.loc[:, 'trip':'datetime'].duplicated(keep=False)]\n",
    "idx_drop = [idx[i] for i in range(0, len(idx), 2)]\n",
    "gps = gps.drop(idx_drop)"
   ]
  },
  {
   "cell_type": "code",
   "execution_count": 7,
   "metadata": {},
   "outputs": [
    {
     "data": {
      "text/html": [
       "<div>\n",
       "<style scoped>\n",
       "    .dataframe tbody tr th:only-of-type {\n",
       "        vertical-align: middle;\n",
       "    }\n",
       "\n",
       "    .dataframe tbody tr th {\n",
       "        vertical-align: top;\n",
       "    }\n",
       "\n",
       "    .dataframe thead th {\n",
       "        text-align: right;\n",
       "    }\n",
       "</style>\n",
       "<table border=\"1\" class=\"dataframe\">\n",
       "  <thead>\n",
       "    <tr style=\"text-align: right;\">\n",
       "      <th></th>\n",
       "      <th>trip</th>\n",
       "      <th>datetime</th>\n",
       "      <th>lon</th>\n",
       "      <th>lat</th>\n",
       "    </tr>\n",
       "  </thead>\n",
       "  <tbody>\n",
       "  </tbody>\n",
       "</table>\n",
       "</div>"
      ],
      "text/plain": [
       "Empty DataFrame\n",
       "Columns: [trip, datetime, lon, lat]\n",
       "Index: []"
      ]
     },
     "execution_count": 7,
     "metadata": {},
     "output_type": "execute_result"
    }
   ],
   "source": [
    "gps[gps.loc[:, 'trip':'datetime'].duplicated(keep=False)]"
   ]
  },
  {
   "cell_type": "code",
   "execution_count": 8,
   "metadata": {},
   "outputs": [
    {
     "data": {
      "text/html": [
       "<div>\n",
       "<style scoped>\n",
       "    .dataframe tbody tr th:only-of-type {\n",
       "        vertical-align: middle;\n",
       "    }\n",
       "\n",
       "    .dataframe tbody tr th {\n",
       "        vertical-align: top;\n",
       "    }\n",
       "\n",
       "    .dataframe thead th {\n",
       "        text-align: right;\n",
       "    }\n",
       "</style>\n",
       "<table border=\"1\" class=\"dataframe\">\n",
       "  <thead>\n",
       "    <tr style=\"text-align: right;\">\n",
       "      <th></th>\n",
       "      <th>trip</th>\n",
       "      <th>datetime</th>\n",
       "      <th>pressure</th>\n",
       "    </tr>\n",
       "  </thead>\n",
       "  <tbody>\n",
       "    <tr>\n",
       "      <th>0</th>\n",
       "      <td>P1108_4_SV_T1</td>\n",
       "      <td>2008-11-25 13:00:35</td>\n",
       "      <td>-0.35</td>\n",
       "    </tr>\n",
       "    <tr>\n",
       "      <th>1</th>\n",
       "      <td>P1108_4_SV_T1</td>\n",
       "      <td>2008-11-25 13:00:36</td>\n",
       "      <td>-0.38</td>\n",
       "    </tr>\n",
       "    <tr>\n",
       "      <th>2</th>\n",
       "      <td>P1108_4_SV_T1</td>\n",
       "      <td>2008-11-25 13:00:37</td>\n",
       "      <td>-0.35</td>\n",
       "    </tr>\n",
       "    <tr>\n",
       "      <th>3</th>\n",
       "      <td>P1108_4_SV_T1</td>\n",
       "      <td>2008-11-25 13:00:38</td>\n",
       "      <td>-0.29</td>\n",
       "    </tr>\n",
       "    <tr>\n",
       "      <th>4</th>\n",
       "      <td>P1108_4_SV_T1</td>\n",
       "      <td>2008-11-25 13:00:39</td>\n",
       "      <td>-0.29</td>\n",
       "    </tr>\n",
       "    <tr>\n",
       "      <th>...</th>\n",
       "      <td>...</td>\n",
       "      <td>...</td>\n",
       "      <td>...</td>\n",
       "    </tr>\n",
       "    <tr>\n",
       "      <th>1086337</th>\n",
       "      <td>P1113_50_SV_T2</td>\n",
       "      <td>2013-11-25 05:23:26</td>\n",
       "      <td>-0.94</td>\n",
       "    </tr>\n",
       "    <tr>\n",
       "      <th>1086338</th>\n",
       "      <td>P1113_50_SV_T2</td>\n",
       "      <td>2013-11-25 05:23:27</td>\n",
       "      <td>-0.94</td>\n",
       "    </tr>\n",
       "    <tr>\n",
       "      <th>1086339</th>\n",
       "      <td>P1113_50_SV_T2</td>\n",
       "      <td>2013-11-25 05:23:28</td>\n",
       "      <td>-0.94</td>\n",
       "    </tr>\n",
       "    <tr>\n",
       "      <th>1086340</th>\n",
       "      <td>P1113_50_SV_T2</td>\n",
       "      <td>2013-11-25 05:23:29</td>\n",
       "      <td>-0.94</td>\n",
       "    </tr>\n",
       "    <tr>\n",
       "      <th>1086341</th>\n",
       "      <td>P1113_50_SV_T2</td>\n",
       "      <td>2013-11-25 05:23:30</td>\n",
       "      <td>-0.94</td>\n",
       "    </tr>\n",
       "  </tbody>\n",
       "</table>\n",
       "<p>1086342 rows × 3 columns</p>\n",
       "</div>"
      ],
      "text/plain": [
       "                   trip             datetime  pressure\n",
       "0         P1108_4_SV_T1  2008-11-25 13:00:35     -0.35\n",
       "1         P1108_4_SV_T1  2008-11-25 13:00:36     -0.38\n",
       "2         P1108_4_SV_T1  2008-11-25 13:00:37     -0.35\n",
       "3         P1108_4_SV_T1  2008-11-25 13:00:38     -0.29\n",
       "4         P1108_4_SV_T1  2008-11-25 13:00:39     -0.29\n",
       "...                 ...                  ...       ...\n",
       "1086337  P1113_50_SV_T2  2013-11-25 05:23:26     -0.94\n",
       "1086338  P1113_50_SV_T2  2013-11-25 05:23:27     -0.94\n",
       "1086339  P1113_50_SV_T2  2013-11-25 05:23:28     -0.94\n",
       "1086340  P1113_50_SV_T2  2013-11-25 05:23:29     -0.94\n",
       "1086341  P1113_50_SV_T2  2013-11-25 05:23:30     -0.94\n",
       "\n",
       "[1086342 rows x 3 columns]"
      ]
     },
     "execution_count": 8,
     "metadata": {},
     "output_type": "execute_result"
    }
   ],
   "source": [
    "request = \"SELECT \\\n",
    "            trip.id as trip, tdr.datetime, tdr.pressure \\\n",
    "            FROM tdr \\\n",
    "            INNER JOIN trip ON tdr.trip = trip.id \\\n",
    "            INNER JOIN bird ON trip.bird = bird.id \\\n",
    "            WHERE trip.file_gps IS NOT NULL \\\n",
    "            AND trip.file_tdr IS NOT NULL \\\n",
    "            AND (bird.fieldwork = 'P1108' OR bird.fieldwork = 'P1111' \\\n",
    "                OR bird.fieldwork = 'P1112' OR bird.fieldwork = 'P1113') \\\n",
    "            AND bird.species = 'SV'\"\n",
    "\n",
    "# WHERE substr(bird.fieldwork,1,1) = 'P' \n",
    "\n",
    "tdr = pd.read_sql_query(request, conn)\n",
    "tdr"
   ]
  },
  {
   "cell_type": "code",
   "execution_count": 9,
   "metadata": {},
   "outputs": [],
   "source": [
    "tdr['datetime'] = pd.to_datetime(tdr['datetime'], format='%Y-%m-%d %H:%M:%S')\n",
    "gps['datetime'] = pd.to_datetime(gps['datetime'], format='%Y-%m-%d %H:%M:%S')"
   ]
  },
  {
   "cell_type": "code",
   "execution_count": 10,
   "metadata": {},
   "outputs": [
    {
     "data": {
      "text/html": [
       "<div>\n",
       "<style scoped>\n",
       "    .dataframe tbody tr th:only-of-type {\n",
       "        vertical-align: middle;\n",
       "    }\n",
       "\n",
       "    .dataframe tbody tr th {\n",
       "        vertical-align: top;\n",
       "    }\n",
       "\n",
       "    .dataframe thead th {\n",
       "        text-align: right;\n",
       "    }\n",
       "</style>\n",
       "<table border=\"1\" class=\"dataframe\">\n",
       "  <thead>\n",
       "    <tr style=\"text-align: right;\">\n",
       "      <th></th>\n",
       "      <th>trip</th>\n",
       "      <th>datetime</th>\n",
       "      <th>pressure</th>\n",
       "      <th>lon</th>\n",
       "      <th>lat</th>\n",
       "    </tr>\n",
       "  </thead>\n",
       "  <tbody>\n",
       "    <tr>\n",
       "      <th>0</th>\n",
       "      <td>P1108_4_SV_T1</td>\n",
       "      <td>2008-11-25 13:00:35</td>\n",
       "      <td>-0.35</td>\n",
       "      <td>-77.264128</td>\n",
       "      <td>-11.773317</td>\n",
       "    </tr>\n",
       "    <tr>\n",
       "      <th>1</th>\n",
       "      <td>P1108_4_SV_T1</td>\n",
       "      <td>2008-11-25 13:00:36</td>\n",
       "      <td>-0.38</td>\n",
       "      <td>-77.264118</td>\n",
       "      <td>-11.773235</td>\n",
       "    </tr>\n",
       "    <tr>\n",
       "      <th>2</th>\n",
       "      <td>P1108_4_SV_T1</td>\n",
       "      <td>2008-11-25 13:00:37</td>\n",
       "      <td>-0.35</td>\n",
       "      <td>-77.264098</td>\n",
       "      <td>-11.773152</td>\n",
       "    </tr>\n",
       "    <tr>\n",
       "      <th>3</th>\n",
       "      <td>P1108_4_SV_T1</td>\n",
       "      <td>2008-11-25 13:00:38</td>\n",
       "      <td>-0.29</td>\n",
       "      <td>-77.264113</td>\n",
       "      <td>-11.773060</td>\n",
       "    </tr>\n",
       "    <tr>\n",
       "      <th>4</th>\n",
       "      <td>P1108_4_SV_T1</td>\n",
       "      <td>2008-11-25 13:00:39</td>\n",
       "      <td>-0.29</td>\n",
       "      <td>-77.264142</td>\n",
       "      <td>-11.772955</td>\n",
       "    </tr>\n",
       "    <tr>\n",
       "      <th>...</th>\n",
       "      <td>...</td>\n",
       "      <td>...</td>\n",
       "      <td>...</td>\n",
       "      <td>...</td>\n",
       "      <td>...</td>\n",
       "    </tr>\n",
       "    <tr>\n",
       "      <th>1086337</th>\n",
       "      <td>P1113_50_SV_T2</td>\n",
       "      <td>2013-11-25 05:23:26</td>\n",
       "      <td>-0.94</td>\n",
       "      <td>-77.264832</td>\n",
       "      <td>-11.773701</td>\n",
       "    </tr>\n",
       "    <tr>\n",
       "      <th>1086338</th>\n",
       "      <td>P1113_50_SV_T2</td>\n",
       "      <td>2013-11-25 05:23:27</td>\n",
       "      <td>-0.94</td>\n",
       "      <td>-77.264862</td>\n",
       "      <td>-11.773664</td>\n",
       "    </tr>\n",
       "    <tr>\n",
       "      <th>1086339</th>\n",
       "      <td>P1113_50_SV_T2</td>\n",
       "      <td>2013-11-25 05:23:28</td>\n",
       "      <td>-0.94</td>\n",
       "      <td>-77.264900</td>\n",
       "      <td>-11.773705</td>\n",
       "    </tr>\n",
       "    <tr>\n",
       "      <th>1086340</th>\n",
       "      <td>P1113_50_SV_T2</td>\n",
       "      <td>2013-11-25 05:23:29</td>\n",
       "      <td>-0.94</td>\n",
       "      <td>-77.264931</td>\n",
       "      <td>-11.773739</td>\n",
       "    </tr>\n",
       "    <tr>\n",
       "      <th>1086341</th>\n",
       "      <td>P1113_50_SV_T2</td>\n",
       "      <td>2013-11-25 05:23:30</td>\n",
       "      <td>-0.94</td>\n",
       "      <td>-77.264954</td>\n",
       "      <td>-11.773770</td>\n",
       "    </tr>\n",
       "  </tbody>\n",
       "</table>\n",
       "<p>1086342 rows × 5 columns</p>\n",
       "</div>"
      ],
      "text/plain": [
       "                   trip            datetime  pressure        lon        lat\n",
       "0         P1108_4_SV_T1 2008-11-25 13:00:35     -0.35 -77.264128 -11.773317\n",
       "1         P1108_4_SV_T1 2008-11-25 13:00:36     -0.38 -77.264118 -11.773235\n",
       "2         P1108_4_SV_T1 2008-11-25 13:00:37     -0.35 -77.264098 -11.773152\n",
       "3         P1108_4_SV_T1 2008-11-25 13:00:38     -0.29 -77.264113 -11.773060\n",
       "4         P1108_4_SV_T1 2008-11-25 13:00:39     -0.29 -77.264142 -11.772955\n",
       "...                 ...                 ...       ...        ...        ...\n",
       "1086337  P1113_50_SV_T2 2013-11-25 05:23:26     -0.94 -77.264832 -11.773701\n",
       "1086338  P1113_50_SV_T2 2013-11-25 05:23:27     -0.94 -77.264862 -11.773664\n",
       "1086339  P1113_50_SV_T2 2013-11-25 05:23:28     -0.94 -77.264900 -11.773705\n",
       "1086340  P1113_50_SV_T2 2013-11-25 05:23:29     -0.94 -77.264931 -11.773739\n",
       "1086341  P1113_50_SV_T2 2013-11-25 05:23:30     -0.94 -77.264954 -11.773770\n",
       "\n",
       "[1086342 rows x 5 columns]"
      ]
     },
     "execution_count": 10,
     "metadata": {},
     "output_type": "execute_result"
    }
   ],
   "source": [
    "df = pd.merge(tdr, gps, on=['trip', 'datetime'], how='left')\n",
    "df"
   ]
  },
  {
   "cell_type": "code",
   "execution_count": 11,
   "metadata": {},
   "outputs": [],
   "source": [
    "# check NaN and fill with interpolations\n",
    "[i for i, x in enumerate(df['lon'].isna()) if x]\n",
    "\n",
    "\n",
    "df['lon'] = df['lon'].interpolate(method='polynomial', order=2)\n",
    "df['lat'] = df['lat'].interpolate(method='polynomial', order=2)"
   ]
  },
  {
   "cell_type": "code",
   "execution_count": 12,
   "metadata": {},
   "outputs": [
    {
     "data": {
      "text/plain": [
       "185"
      ]
     },
     "execution_count": 12,
     "metadata": {},
     "output_type": "execute_result"
    }
   ],
   "source": [
    "len(df.trip.unique())"
   ]
  },
  {
   "cell_type": "code",
   "execution_count": 13,
   "metadata": {},
   "outputs": [],
   "source": [
    "bad_trip = ['P1111_9_SV_T1', 'P1111_13_SV_T6', 'P1111_41_SV_T2', 'P1111_46_SV_T5', 'P1111_52_SV_T1',\n",
    "            'P1112_4_SV_T2', 'P1112_26_SV_T5', 'P1112_36_SV_T1', 'P1112_36_SV_T2', 'P1113_41_SV_T3',\n",
    "           'P1113_50_SV_T2']\n",
    "\n",
    "no_loop = ['P1112_26_SV_T1', 'P1112_26_SV_T2', 'P1112_26_SV_T3', 'P1112_26_SV_T4']"
   ]
  },
  {
   "cell_type": "code",
   "execution_count": 14,
   "metadata": {},
   "outputs": [],
   "source": [
    "### remove bad data\n",
    "idx = df.index[[(t in bad_trip or t in no_loop) for t in df.trip]]\n",
    "df = df.drop(idx)"
   ]
  },
  {
   "cell_type": "code",
   "execution_count": 15,
   "metadata": {},
   "outputs": [
    {
     "data": {
      "text/plain": [
       "170"
      ]
     },
     "execution_count": 15,
     "metadata": {},
     "output_type": "execute_result"
    }
   ],
   "source": [
    "len(df.trip.unique())"
   ]
  },
  {
   "cell_type": "markdown",
   "metadata": {},
   "source": [
    "## Area Restricted Search\n",
    "\n",
    "### Example"
   ]
  },
  {
   "cell_type": "code",
   "execution_count": 16,
   "metadata": {},
   "outputs": [],
   "source": [
    "import trip"
   ]
  },
  {
   "cell_type": "code",
   "execution_count": 17,
   "metadata": {},
   "outputs": [
    {
     "name": "stdout",
     "output_type": "stream",
     "text": [
      "Distance [6626/6627]\n",
      "CPU times: user 1min, sys: 1.9 s, total: 1min 2s\n",
      "Wall time: 56.8 s\n"
     ]
    }
   ],
   "source": [
    "%%time\n",
    "\n",
    "df_trip = df[df.trip == 'P1108_4_SV_T1']\n",
    "\n",
    "t = trip.Trip(df_trip)\n",
    "t.compute_dist_matrix()"
   ]
  },
  {
   "cell_type": "code",
   "execution_count": 21,
   "metadata": {},
   "outputs": [],
   "source": [
    "radius=250\n",
    "residence = t.residence_time(radius)\n",
    "first_passage = t.first_time_passage(radius)"
   ]
  },
  {
   "cell_type": "code",
   "execution_count": 31,
   "metadata": {},
   "outputs": [
    {
     "data": {
      "text/plain": [
       "<matplotlib.collections.PathCollection at 0x7fc082a2ffd0>"
      ]
     },
     "execution_count": 31,
     "metadata": {},
     "output_type": "execute_result"
    },
    {
     "data": {
      "image/png": "[encoded data removed]",
      "text/plain": [
       "<Figure size 648x648 with 4 Axes>"
      ]
     },
     "metadata": {
      "needs_background": "light"
     },
     "output_type": "display_data"
    }
   ],
   "source": [
    "tt = 125\n",
    "dive_ars = np.array(first_passage)>tt\n",
    "\n",
    "plt.figure(figsize=(9, 9))\n",
    "\n",
    "plt.subplot(2, 2, 1)\n",
    "plt.plot(residence)\n",
    "plt.plot(tt*np.ones(len(residence)), c = 'orange')\n",
    "\n",
    "plt.subplot(2, 2, 2)\n",
    "plt.plot(first_passage)\n",
    "plt.plot(tt*np.ones(len(residence)), c = 'orange')\n",
    "\n",
    "plt.subplot(2, 2, 3)\n",
    "plt.plot(t.df.lon.values, t.df.lat.values)\n",
    "plt.scatter(t.df.lon.values[dive_ars], \\\n",
    "            t.df.lat.values[dive_ars], c = 'orange')\n",
    "\n",
    "plt.subplot(2, 2, 4)\n",
    "plt.plot(t.df.lon.values, t.df.lat.values)\n",
    "plt.scatter(t.df.lon.values[dive_ars], \\\n",
    "            t.df.lat.values[dive_ars], c = 'orange')"
   ]
  },
  {
   "cell_type": "code",
   "execution_count": 56,
   "metadata": {},
   "outputs": [],
   "source": [
    "# compute prediction\n",
    "threshold = 1\n",
    "t.add_dive(threshold)\n",
    "\n",
    "# overall performance\n",
    "true = np.sum(t.df.dive == dive_ars)/len(t.df)\n",
    "\n",
    "# no dive prediction performance\n",
    "no_dive_prediction = [dive_ars[i] for i in range(len(t.df)) if not t.df.dive[i]]\n",
    "true_no_dive = 1-np.sum(no_dive_prediction)/len(no_dive_prediction)\n",
    "\n",
    "# dive prediction performance\n",
    "dive_prediction = [dive_ars[i] for i in range(len(t.df)) if t.df.dive[i]]\n",
    "true_dive = np.sum(dive_prediction)/len(dive_prediction)"
   ]
  },
  {
   "cell_type": "code",
   "execution_count": 58,
   "metadata": {},
   "outputs": [
    {
     "data": {
      "text/plain": [
       "0.8877320054323223"
      ]
     },
     "execution_count": 58,
     "metadata": {},
     "output_type": "execute_result"
    }
   ],
   "source": [
    "true"
   ]
  },
  {
   "cell_type": "code",
   "execution_count": 57,
   "metadata": {
    "scrolled": true
   },
   "outputs": [
    {
     "data": {
      "text/plain": [
       "0.5779038112522686"
      ]
     },
     "execution_count": 57,
     "metadata": {},
     "output_type": "execute_result"
    }
   ],
   "source": [
    "(true_no_dive + true_dive)/2"
   ]
  },
  {
   "cell_type": "markdown",
   "metadata": {},
   "source": [
    "### All trajectories"
   ]
  },
  {
   "cell_type": "code",
   "execution_count": 20,
   "metadata": {},
   "outputs": [],
   "source": [
    "trajs = []\n",
    "for trip in df.trip.unique():\n",
    "    df_trip = df[df.trip == trip]\n",
    "\n",
    "    t = Trip(df_trip)\n",
    "    t.compute_dist_matrix()\n",
    "    \n",
    "    residence = t.residence_time(radius)\n",
    "    first_passage = t.first_time_passage(radius)\n",
    "    t.df['first_passage'] = 1*(np.array(first_passage)>tt)\n",
    "    \n",
    "    trajs.append(t.df)"
   ]
  }
 ],
 "metadata": {
  "colab": {
   "authorship_tag": "ABX9TyOfRNFXa7EIW2354ErTPs3S",
   "include_colab_link": true,
   "name": "Area Restricted Research.ipynb",
   "provenance": []
  },
  "kernelspec": {
   "display_name": "Python 3",
   "language": "python",
   "name": "python3"
  },
  "language_info": {
   "codemirror_mode": {
    "name": "ipython",
    "version": 3
   },
   "file_extension": ".py",
   "mimetype": "text/x-python",
   "name": "python",
   "nbconvert_exporter": "python",
   "pygments_lexer": "ipython3",
   "version": "3.7.4"
  }
 },
 "nbformat": 4,
 "nbformat_minor": 1
}
