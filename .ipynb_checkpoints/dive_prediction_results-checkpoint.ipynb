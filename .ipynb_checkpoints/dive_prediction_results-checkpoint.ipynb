{
 "cells": [
  {
   "cell_type": "markdown",
   "metadata": {},
   "source": [
    "# Dive Prediction - Results\n",
    "\n",
    "*Predicting Seabird Diving Behaviour from GPS data*\n",
    "\n",
    "This notebook presents results of different algorithms for dive prediction based on a dataset of **74 foraging trips of seabirds** (*Sula Variegata*) with both GPS and Time Depth Recorder (TDR) tracking data. Data has been collected on **Ilha Pescadores, Peru** between 2009 and 2013.\n"
   ]
  },
  {
   "cell_type": "code",
   "execution_count": 1,
   "metadata": {},
   "outputs": [],
   "source": [
    "import pandas as pd\n",
    "import numpy as np\n",
    "import matplotlib.pyplot as plt"
   ]
  },
  {
   "cell_type": "markdown",
   "metadata": {},
   "source": [
    "# roc results"
   ]
  },
  {
   "cell_type": "code",
   "execution_count": 2,
   "metadata": {},
   "outputs": [],
   "source": [
    "unet_mp = pd.read_csv('./results/mp_unet_prediction_5s.csv')\n",
    "unet_all = pd.read_csv('./results/all_unet_prediction_5s.csv')\n",
    "\n",
    "\n",
    "hmm = pd.read_csv('./results/hmm_prediction_5s.csv')\n",
    "ftp = pd.read_csv('./results/ftp_prediction_5s.csv')"
   ]
  },
  {
   "cell_type": "code",
   "execution_count": 3,
   "metadata": {},
   "outputs": [],
   "source": [
    "def roc(data):\n",
    "    # globally\n",
    "    TP = []\n",
    "    FP = []\n",
    "\n",
    "    for tt in data.prediction.sort_values().unique():\n",
    "        all_estim = 1* (data.prediction > tt)\n",
    "        true_positive = np.mean(all_estim[data.dive == 1])\n",
    "        true_negative = 1-np.mean(all_estim[data.dive == 0])\n",
    "        TP.append(true_positive)\n",
    "        FP.append(1-true_negative)\n",
    "        \n",
    "    return (np.array(FP), np.array(TP))"
   ]
  },
  {
   "cell_type": "code",
   "execution_count": 4,
   "metadata": {},
   "outputs": [],
   "source": [
    "def outsampling(data, resolution):\n",
    "\n",
    "    data_output = pd.DataFrame()\n",
    "    for i in data.trip.unique():\n",
    "        t = data[data.trip == i].copy()\n",
    "\n",
    "        idx = [i%resolution == 0 for i in range(len(t))]\n",
    "\n",
    "        traj = t.loc[idx, ('trip', 'datetime', 'lon', 'lat')]\n",
    "\n",
    "        traj['dive'] = [np.max(t.dive[i:i+resolution]) for i in range(len(t)) if i%resolution==0]\n",
    "        traj['prediction'] = [np.max(t.prediction[i:i+resolution]) for i in range(len(t)) if i%resolution==0]\n",
    "\n",
    "        data_output = data_output.append(traj, ignore_index=True)\n",
    "\n",
    "    return data_output"
   ]
  },
  {
   "cell_type": "code",
   "execution_count": 6,
   "metadata": {},
   "outputs": [
    {
     "data": {
      "text/plain": [
       "<matplotlib.legend.Legend at 0x7f22f7a4e610>"
      ]
     },
     "execution_count": 6,
     "metadata": {},
     "output_type": "execute_result"
    },
    {
     "data": {
      "image/png": "[encoded data removed]",
      "text/plain": [
       "<Figure size 432x288 with 1 Axes>"
      ]
     },
     "metadata": {
      "needs_background": "light"
     },
     "output_type": "display_data"
    }
   ],
   "source": [
    "fig, ax = plt.subplots()\n",
    "ax.set_aspect('equal')\n",
    "ax.set_xlabel('False Positive Rate')\n",
    "ax.set_ylabel('True Positive Rate')\n",
    "\n",
    "# FTP\n",
    "d = roc(ftp)\n",
    "plt.plot(d[0], d[1], label = 'ftp')\n",
    "\n",
    "ftp_ = outsampling(ftp, 3)\n",
    "d = roc(ftp_)\n",
    "plt.plot(d[0], d[1], label = 'ftp 15s')\n",
    "\n",
    "\n",
    "# HMM\n",
    "d = roc(hmm)\n",
    "plt.plot(d[0], d[1], label = 'hmm')\n",
    "\n",
    "# UNET - matrix\n",
    "d = roc(unet_mp)\n",
    "plt.plot(d[0], d[1], label = 'unet - matrix')\n",
    "\n",
    "# UNET -all\n",
    "d = roc(unet_all)\n",
    "plt.plot(d[0], d[1], label = 'unet - all')\n",
    "\n",
    "    \n",
    "plt.legend()"
   ]
  },
  {
   "cell_type": "code",
   "execution_count": null,
   "metadata": {},
   "outputs": [],
   "source": []
  }
 ],
 "metadata": {
  "kernelspec": {
   "display_name": "Python 3",
   "language": "python",
   "name": "python3"
  },
  "language_info": {
   "codemirror_mode": {
    "name": "ipython",
    "version": 3
   },
   "file_extension": ".py",
   "mimetype": "text/x-python",
   "name": "python",
   "nbconvert_exporter": "python",
   "pygments_lexer": "ipython3",
   "version": "3.7.4"
  }
 },
 "nbformat": 4,
 "nbformat_minor": 2
}
