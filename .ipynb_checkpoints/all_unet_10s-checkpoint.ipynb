{
 "cells": [
  {
   "cell_type": "markdown",
   "metadata": {
    "colab_type": "text",
    "id": "view-in-github"
   },
   "source": [
    "<a href=\"https://colab.research.google.com/github/AmedeeRoy/BirdDL/blob/main/all_unet_10s.ipynb\" target=\"_parent\"><img src=\"https://colab.research.google.com/assets/colab-badge.svg\" alt=\"Open In Colab\"/></a>"
   ]
  },
  {
   "cell_type": "markdown",
   "metadata": {
    "id": "wk6zB5N3GZO9"
   },
   "source": [
    "# Dive Prediction - Deep Network\n",
    "\n",
    "*Predicting Seabird Diving Behaviour from GPS data*\n",
    "\n",
    "This notebook trains a neural network to predict seabirds' dives.\n",
    "\n",
    "Networks' characteristics:\n",
    "\n",
    "* *Trajectory window* : 100 x 5s\n",
    "* *Output resolution*: 5s\n",
    "* *Representation of trajectories* : Matrix Distance and Time series\n",
    "* *Layers* : convolutions"
   ]
  },
  {
   "cell_type": "markdown",
   "metadata": {
    "id": "kjVXwurrGghM"
   },
   "source": [
    "## connect to drive"
   ]
  },
  {
   "cell_type": "code",
   "execution_count": null,
   "metadata": {
    "colab": {
     "base_uri": "https://localhost:8080/"
    },
    "id": "cPOjT66sGf3Y",
    "outputId": "67eb727b-320e-4d74-c0db-378312e424c9"
   },
   "outputs": [
    {
     "name": "stdout",
     "output_type": "stream",
     "text": [
      "Drive already mounted at /content/drive/; to attempt to forcibly remount, call drive.mount(\"/content/drive/\", force_remount=True).\n"
     ]
    }
   ],
   "source": [
    "# mount google drive\n",
    "from google.colab import drive\n",
    "drive.mount(\"/content/drive/\")"
   ]
  },
  {
   "cell_type": "code",
   "execution_count": null,
   "metadata": {
    "colab": {
     "base_uri": "https://localhost:8080/"
    },
    "id": "u2R6nZsEGp2v",
    "outputId": "5ec45c1a-2729-4efe-e693-466ae0328249"
   },
   "outputs": [
    {
     "name": "stdout",
     "output_type": "stream",
     "text": [
      "/content/drive/My Drive\n"
     ]
    }
   ],
   "source": [
    "%cd drive/My\\ Drive/"
   ]
  },
  {
   "cell_type": "markdown",
   "metadata": {
    "id": "Engz1noUG1yL"
   },
   "source": [
    "## load data"
   ]
  },
  {
   "cell_type": "code",
   "execution_count": 1,
   "metadata": {
    "id": "vP2XmHbeGZO-"
   },
   "outputs": [],
   "source": [
    "import pandas as pd\n",
    "import numpy as np\n",
    "import matplotlib.pyplot as plt\n",
    "\n",
    "import torch\n",
    "from torch import nn\n",
    "from torch.utils.data import DataLoader, Dataset\n",
    "from torchvision import transforms\n",
    "\n",
    "from utils.trip import * "
   ]
  },
  {
   "cell_type": "code",
   "execution_count": 2,
   "metadata": {
    "id": "XroT0Q5mGZO_"
   },
   "outputs": [],
   "source": [
    "data_train = pd.read_csv('./data/data_train.csv')\n",
    "data_validation = pd.read_csv('./data/data_validation.csv')\n",
    "data_test = pd.read_csv('./data/data_test.csv')"
   ]
  },
  {
   "cell_type": "markdown",
   "metadata": {
    "id": "2pnURReGyLju"
   },
   "source": [
    "## choose resolution"
   ]
  },
  {
   "cell_type": "code",
   "execution_count": 3,
   "metadata": {
    "id": "91vOylAmyLju"
   },
   "outputs": [
    {
     "data": {
      "text/html": [
       "<div>\n",
       "<style scoped>\n",
       "    .dataframe tbody tr th:only-of-type {\n",
       "        vertical-align: middle;\n",
       "    }\n",
       "\n",
       "    .dataframe tbody tr th {\n",
       "        vertical-align: top;\n",
       "    }\n",
       "\n",
       "    .dataframe thead th {\n",
       "        text-align: right;\n",
       "    }\n",
       "</style>\n",
       "<table border=\"1\" class=\"dataframe\">\n",
       "  <thead>\n",
       "    <tr style=\"text-align: right;\">\n",
       "      <th></th>\n",
       "      <th>trip</th>\n",
       "      <th>datetime</th>\n",
       "      <th>lon</th>\n",
       "      <th>lat</th>\n",
       "      <th>dive</th>\n",
       "      <th>step_speed</th>\n",
       "      <th>step_direction</th>\n",
       "      <th>lon_std</th>\n",
       "      <th>lat_std</th>\n",
       "      <th>step_speed_std</th>\n",
       "      <th>step_direction_cos</th>\n",
       "      <th>step_direction_sin</th>\n",
       "    </tr>\n",
       "  </thead>\n",
       "  <tbody>\n",
       "    <tr>\n",
       "      <th>2</th>\n",
       "      <td>P1108_46_SV_T1</td>\n",
       "      <td>2008-12-05 15:12:49</td>\n",
       "      <td>-77.262463</td>\n",
       "      <td>-11.773780</td>\n",
       "      <td>0</td>\n",
       "      <td>10.905508</td>\n",
       "      <td>-14.088332</td>\n",
       "      <td>1.453765</td>\n",
       "      <td>1.534847</td>\n",
       "      <td>0.598536</td>\n",
       "      <td>0.969922</td>\n",
       "      <td>-0.243417</td>\n",
       "    </tr>\n",
       "    <tr>\n",
       "      <th>3</th>\n",
       "      <td>P1108_46_SV_T1</td>\n",
       "      <td>2008-12-05 15:12:54</td>\n",
       "      <td>-77.262588</td>\n",
       "      <td>-11.774210</td>\n",
       "      <td>0</td>\n",
       "      <td>9.952950</td>\n",
       "      <td>22.080560</td>\n",
       "      <td>1.451727</td>\n",
       "      <td>1.529290</td>\n",
       "      <td>0.544953</td>\n",
       "      <td>0.926656</td>\n",
       "      <td>0.375910</td>\n",
       "    </tr>\n",
       "    <tr>\n",
       "      <th>4</th>\n",
       "      <td>P1108_46_SV_T1</td>\n",
       "      <td>2008-12-05 15:12:59</td>\n",
       "      <td>-77.262878</td>\n",
       "      <td>-11.774583</td>\n",
       "      <td>0</td>\n",
       "      <td>10.435542</td>\n",
       "      <td>21.390128</td>\n",
       "      <td>1.446998</td>\n",
       "      <td>1.524470</td>\n",
       "      <td>0.572100</td>\n",
       "      <td>0.931119</td>\n",
       "      <td>0.364716</td>\n",
       "    </tr>\n",
       "    <tr>\n",
       "      <th>5</th>\n",
       "      <td>P1108_46_SV_T1</td>\n",
       "      <td>2008-12-05 15:13:04</td>\n",
       "      <td>-77.263210</td>\n",
       "      <td>-11.774875</td>\n",
       "      <td>0</td>\n",
       "      <td>9.726889</td>\n",
       "      <td>10.787224</td>\n",
       "      <td>1.441584</td>\n",
       "      <td>1.520697</td>\n",
       "      <td>0.532237</td>\n",
       "      <td>0.982329</td>\n",
       "      <td>0.187162</td>\n",
       "    </tr>\n",
       "    <tr>\n",
       "      <th>6</th>\n",
       "      <td>P1108_46_SV_T1</td>\n",
       "      <td>2008-12-05 15:13:09</td>\n",
       "      <td>-77.263615</td>\n",
       "      <td>-11.775112</td>\n",
       "      <td>0</td>\n",
       "      <td>10.283314</td>\n",
       "      <td>11.067779</td>\n",
       "      <td>1.434981</td>\n",
       "      <td>1.517634</td>\n",
       "      <td>0.563537</td>\n",
       "      <td>0.981401</td>\n",
       "      <td>0.191970</td>\n",
       "    </tr>\n",
       "  </tbody>\n",
       "</table>\n",
       "</div>"
      ],
      "text/plain": [
       "             trip             datetime        lon        lat  dive  \\\n",
       "2  P1108_46_SV_T1  2008-12-05 15:12:49 -77.262463 -11.773780     0   \n",
       "3  P1108_46_SV_T1  2008-12-05 15:12:54 -77.262588 -11.774210     0   \n",
       "4  P1108_46_SV_T1  2008-12-05 15:12:59 -77.262878 -11.774583     0   \n",
       "5  P1108_46_SV_T1  2008-12-05 15:13:04 -77.263210 -11.774875     0   \n",
       "6  P1108_46_SV_T1  2008-12-05 15:13:09 -77.263615 -11.775112     0   \n",
       "\n",
       "   step_speed  step_direction   lon_std   lat_std  step_speed_std  \\\n",
       "2   10.905508      -14.088332  1.453765  1.534847        0.598536   \n",
       "3    9.952950       22.080560  1.451727  1.529290        0.544953   \n",
       "4   10.435542       21.390128  1.446998  1.524470        0.572100   \n",
       "5    9.726889       10.787224  1.441584  1.520697        0.532237   \n",
       "6   10.283314       11.067779  1.434981  1.517634        0.563537   \n",
       "\n",
       "   step_direction_cos  step_direction_sin  \n",
       "2            0.969922           -0.243417  \n",
       "3            0.926656            0.375910  \n",
       "4            0.931119            0.364716  \n",
       "5            0.982329            0.187162  \n",
       "6            0.981401            0.191970  "
      ]
     },
     "execution_count": 3,
     "metadata": {},
     "output_type": "execute_result"
    }
   ],
   "source": [
    "resolution = 5\n",
    "\n",
    "data_train_new = change_resolution(data_train, resolution)\n",
    "data_validation_new = change_resolution(data_validation, resolution)\n",
    "data_test_new = change_resolution(data_test, resolution)\n",
    "\n",
    "data_train_new = standardize_data(data_train_new)\n",
    "data_validation_new = standardize_data(data_validation_new)\n",
    "data_test_new = standardize_data(data_test_new)\n",
    "\n",
    "data_train_new.head()"
   ]
  },
  {
   "cell_type": "markdown",
   "metadata": {
    "id": "ywF0A-1tGZO_"
   },
   "source": [
    "## choose window"
   ]
  },
  {
   "cell_type": "code",
   "execution_count": 5,
   "metadata": {
    "id": "rg_mIte9GZO_"
   },
   "outputs": [],
   "source": [
    "# Hyperparameters\n",
    "window = 100\n",
    "variable = ('lon_std', 'lat_std', 'step_speed_std', 'step_direction_cos', 'step_direction_sin')\n",
    "\n",
    "train_set = TrajDataSet(data_train_new, window, variable)"
   ]
  },
  {
   "cell_type": "code",
   "execution_count": 6,
   "metadata": {
    "colab": {
     "base_uri": "https://localhost:8080/",
     "height": 568
    },
    "id": "G26yrGdUGZO_",
    "outputId": "cabf2863-f5cf-4b7c-88cd-df41c1135519",
    "scrolled": false
   },
   "outputs": [
    {
     "data": {
      "image/png": "[encoded data removed]",
      "text/plain": [
       "<Figure size 1152x720 with 8 Axes>"
      ]
     },
     "metadata": {
      "needs_background": "light"
     },
     "output_type": "display_data"
    }
   ],
   "source": [
    "plt.figure(figsize=(16, 10))\n",
    "idx = np.random.randint(0, len(train_set), 4)\n",
    "\n",
    "k = -1\n",
    "for i in idx:\n",
    "    k += 1\n",
    "    traj, matrix_dist, dive = train_set[i]\n",
    "\n",
    "    plt.subplot(2,4, k+1)\n",
    "    plt.imshow(matrix_dist)\n",
    "\n",
    "    plt.subplot(2,4, k+5)\n",
    "    plt.plot(traj[0,:], traj[1,:])\n",
    "    plt.scatter(traj[0, np.array(dive, dtype = 'bool')], traj[1,np.array(dive, dtype = 'bool')], c='orange')"
   ]
  },
  {
   "cell_type": "markdown",
   "metadata": {
    "id": "sJkiaEE2GZPA"
   },
   "source": [
    "# Neural Network"
   ]
  },
  {
   "cell_type": "code",
   "execution_count": 7,
   "metadata": {
    "id": "VBznxgYEGZPA"
   },
   "outputs": [],
   "source": [
    "# hyperparameters\n",
    "batch_size = 64\n",
    "\n",
    "## reduce size dataset\n",
    "train_set = TrajDataSet(data_train_new, window, variable, transform = ToTensor())\n",
    "validation_set = TrajDataSet(data_validation_new, window, variable, transform = ToTensor())\n",
    "\n",
    "train_loader = DataLoader(train_set, batch_size=batch_size, num_workers = 0, shuffle = True, drop_last=True)\n",
    "validation_loader = DataLoader(validation_set, batch_size=batch_size, num_workers = 0, shuffle = True, drop_last=True)"
   ]
  },
  {
   "cell_type": "code",
   "execution_count": 21,
   "metadata": {
    "id": "lhxDPuhUGZPB"
   },
   "outputs": [],
   "source": [
    "class UNet(nn.Module):\n",
    "\n",
    "    def __init__(self):\n",
    "        super(UNet, self).__init__()\n",
    "\n",
    "        self.threshold = nn.Sequential(\n",
    "            nn.BatchNorm2d(1),\n",
    "            nn.Conv2d(1, 8, kernel_size = 1, stride = 1, padding = 0, dilation = 1, bias = True),\n",
    "            nn.ReLU()\n",
    "        )\n",
    "\n",
    "        self.cnn_input_1 = nn.Sequential(\n",
    "            nn.BatchNorm1d(8+5),\n",
    "            nn.Conv1d(8+5, 16, kernel_size = 11, stride = 1, padding = 5, dilation = 1),\n",
    "            nn.ReLU(),\n",
    "            nn.Conv1d(16, 16, kernel_size = 11, stride = 1, padding = 5, dilation = 1),\n",
    "            nn.ReLU()\n",
    "        )\n",
    "\n",
    "        self.pooling_1 = nn.Sequential(\n",
    "            nn.MaxPool1d(kernel_size = 11, stride = 2, padding = 5, dilation = 1)\n",
    "        )\n",
    "\n",
    "        self.cnn_input_2 = nn.Sequential(\n",
    "            nn.BatchNorm1d(16),\n",
    "            nn.Conv1d(16, 32, kernel_size = 11, stride = 1, padding = 5, dilation = 1),\n",
    "            nn.ReLU(),\n",
    "            nn.Conv1d(32, 32, kernel_size = 11, stride = 1, padding = 5, dilation = 1),\n",
    "            nn.ReLU()\n",
    "        )\n",
    "\n",
    "        self.pooling_2 = nn.Sequential(\n",
    "            nn.MaxPool1d(kernel_size = 11, stride = 2, padding = 5, dilation = 1)\n",
    "        )\n",
    "\n",
    "        self.cnn_input_3 = nn.Sequential(\n",
    "            nn.BatchNorm1d(32),\n",
    "            nn.Conv1d(32, 32, kernel_size = 11, stride = 1, padding = 5, dilation = 1),\n",
    "            nn.ReLU(),\n",
    "            nn.Conv1d(32, 32, kernel_size = 11, stride = 1, padding = 5, dilation = 1),\n",
    "            nn.ReLU()\n",
    "        )\n",
    "\n",
    "        self.upconv_2 = nn.Sequential(\n",
    "             nn.ConvTranspose1d(32, 16, kernel_size = 6, stride = 2, padding = 2, dilation = 1)\n",
    "         )\n",
    "\n",
    "        self.cnn_output_2 = nn.Sequential(\n",
    "            nn.BatchNorm1d(32+16),\n",
    "            nn.Conv1d(32+16, 32, kernel_size = 11, stride = 1, padding = 5, dilation = 1),\n",
    "            nn.ReLU(),\n",
    "            nn.Conv1d(32, 16, kernel_size = 11, stride = 1, padding = 5, dilation = 1),\n",
    "            nn.ReLU()\n",
    "        )\n",
    "\n",
    "        self.upconv_1 = nn.Sequential(\n",
    "             nn.ConvTranspose1d(16, 8, kernel_size = 6, stride = 2, padding = 2, dilation = 1)\n",
    "         )\n",
    "        \n",
    "        self.cnn_output_1 = nn.Sequential(\n",
    "            nn.BatchNorm1d(16+8),\n",
    "            nn.Conv1d(16+8, 16, kernel_size = 11, stride = 1, padding = 5, dilation = 1),\n",
    "            nn.ReLU(),\n",
    "            nn.Conv1d(16, 8, kernel_size = 11, stride = 1, padding = 5, dilation = 1),\n",
    "            nn.ReLU(),\n",
    "            nn.Conv1d(8, 1, kernel_size = 11, stride = 1, padding = 5, dilation = 1)\n",
    "        )\n",
    "\n",
    "    def forward(self, x, y):\n",
    "        out = self.threshold(y)\n",
    "        out = torch.sum(out, 2)\n",
    "        \n",
    "        out = torch.cat((out, x.squeeze(1)), 1)\n",
    "        \n",
    "        out = self.cnn_input_1(out)\n",
    "        out_1 = out.clone()\n",
    "        out = self.pooling_1(out)\n",
    "        out = self.cnn_input_2(out)\n",
    "        out_2 = out.clone()\n",
    "        out = self.pooling_2(out)\n",
    "        out = self.cnn_input_3(out)\n",
    "\n",
    "        out = self.upconv_2(out)\n",
    "        out = torch.cat((out, out_2), 1)\n",
    "        out = self.cnn_output_2(out)\n",
    "\n",
    "        out = self.upconv_1(out)\n",
    "        out = torch.cat((out, out_1), 1)\n",
    "        out = self.cnn_output_1(out)\n",
    "\n",
    "        return out\n",
    "\n",
    "def get_score(out, y):\n",
    "    out, y = out.cpu(), y.cpu()\n",
    "    out = 1*(out>0)\n",
    "    true_positive = np.mean(out[y == True].numpy()) \n",
    "    true_negative = 1-np.mean(out[y == False].numpy())\n",
    "    \n",
    "    return (round(true_positive*100) , round(true_negative*100))"
   ]
  },
  {
   "cell_type": "code",
   "execution_count": 22,
   "metadata": {
    "colab": {
     "base_uri": "https://localhost:8080/"
    },
    "id": "lRi-Oun6GZPB",
    "outputId": "5c2801b4-6705-4480-bd95-90fbe5a54cb9"
   },
   "outputs": [
    {
     "data": {
      "text/plain": [
       "(20.0, 89.0)"
      ]
     },
     "execution_count": 22,
     "metadata": {},
     "output_type": "execute_result"
    }
   ],
   "source": [
    "# get sample\n",
    "x, y, z = next(iter(train_loader)) \n",
    "weight = torch.FloatTensor([30])\n",
    "\n",
    "# Forward model\n",
    "model = UNet()\n",
    "\n",
    "out = model(x, y)\n",
    "\n",
    "# Loss and score\n",
    "learning_rate = 0.01\n",
    "optimizer = torch.optim.Adam(model.parameters(), lr=learning_rate)\n",
    "criterion = nn.BCEWithLogitsLoss(pos_weight = weight)\n",
    "criterion(out, z)\n",
    "get_score(out, z)"
   ]
  },
  {
   "cell_type": "code",
   "execution_count": 23,
   "metadata": {
    "colab": {
     "base_uri": "https://localhost:8080/"
    },
    "id": "MrpxukCA-dg0",
    "outputId": "aabe98a5-0af4-45be-f38f-10a2ae69213a"
   },
   "outputs": [
    {
     "data": {
      "text/plain": [
       "tensor(45.0704)"
      ]
     },
     "execution_count": 23,
     "metadata": {},
     "output_type": "execute_result"
    }
   ],
   "source": [
    "## get Loss weight\n",
    "torch.sum(z==z)/torch.sum(z)"
   ]
  },
  {
   "cell_type": "markdown",
   "metadata": {
    "id": "hKIwYrQcGZPB"
   },
   "source": [
    "## Training"
   ]
  },
  {
   "cell_type": "code",
   "execution_count": 25,
   "metadata": {
    "id": "WsK522IKGZPB"
   },
   "outputs": [],
   "source": [
    "# switch to GPU\n",
    "model = UNet()\n",
    "device = torch.device('cuda' if torch.cuda.is_available() else 'cpu')\n",
    "model = model.to(device)\n",
    "weight = weight.to(device)\n",
    "criterion = nn.BCEWithLogitsLoss(pos_weight = weight)"
   ]
  },
  {
   "cell_type": "code",
   "execution_count": null,
   "metadata": {
    "colab": {
     "base_uri": "https://localhost:8080/"
    },
    "id": "0QzQPetaGZPB",
    "outputId": "52dab26f-002f-4dab-fc43-441225939291",
    "scrolled": true
   },
   "outputs": [
    {
     "name": "stdout",
     "output_type": "stream",
     "text": [
      "Epoch [1/5] -------------------------------------------------------------------------------------\n",
      "Train Loss: 0.56, Train True Positive : 90.06 %, Train True Negative : 80.37 %\n",
      "Validation Loss: 0.81, Validation True Positive : 80.29 %, Validation True Negative : 79.26 %\n",
      "Epoch [2/5] -------------------------------------------------------------------------------------\n",
      "Train Loss: 0.53, Train True Positive : 93.01 %, Train True Negative : 79.76 %\n",
      "Validation Loss: 0.78, Validation True Positive : 82.88 %, Validation True Negative : 78.64 %\n",
      "Epoch [3/5] -------------------------------------------------------------------------------------\n",
      "Train Loss: 0.54, Train True Positive : 93.29 %, Train True Negative : 78.76 %\n",
      "Validation Loss: 0.82, Validation True Positive : 82.58 %, Validation True Negative : 77.48 %\n",
      "Epoch [4/5] -------------------------------------------------------------------------------------\n",
      "Train Loss: 0.56, Train True Positive : 91.16 %, Train True Negative : 79.69 %\n",
      "Validation Loss: 0.81, Validation True Positive : 80.29 %, Validation True Negative : 78.64 %\n",
      "Epoch [5/5] -------------------------------------------------------------------------------------\n",
      "Train Loss: 0.54, Train True Positive : 93.02 %, Train True Negative : 79.13 %\n",
      "Validation Loss: 0.81, Validation True Positive : 82.41 %, Validation True Negative : 77.93 %\n"
     ]
    }
   ],
   "source": [
    "# Train the model\n",
    "nb_epoch = 5\n",
    "\n",
    "global_loss_train = []\n",
    "global_loss_validation = []\n",
    "    \n",
    "for epoch in range(nb_epoch):\n",
    "    learning_rate /= 10\n",
    "    optimizer = torch.optim.Adam(model.parameters(), lr=learning_rate)\n",
    "    i = 0\n",
    "    for batch, (x, y, z) in enumerate(train_loader):\n",
    "        i+=1\n",
    "        # send to GPU\n",
    "        x, y, z = x.to(device), y.to(device), z.to(device)\n",
    "\n",
    "        # Run the forward pass\n",
    "        out = model(x)\n",
    "        loss = criterion(out, z)\n",
    "        \n",
    "        # Backprop and perform optimisation\n",
    "        optimizer.zero_grad()\n",
    "        loss.backward()\n",
    "        optimizer.step()\n",
    "\n",
    "    ### Evaluation + Validation every epoch\n",
    "    model.eval()\n",
    "    with torch.no_grad():      \n",
    "        j = 0\n",
    "        # evaluation\n",
    "        list_loss_train = []\n",
    "        list_score_train = []\n",
    "        for batch, (x, y, z) in enumerate(train_loader):\n",
    "            j+= 1\n",
    "            # send to GPU\n",
    "            x, y, z = x.to(device), y.to(device), z.to(device)\n",
    "\n",
    "            # Run the forward pass\n",
    "            out = model(x)\n",
    "            loss = criterion(out, z)\n",
    "            score = get_score(out,z)\n",
    "            list_loss_train.append(loss.item())\n",
    "            list_score_train.append(score)\n",
    "        \n",
    "        train_loss = np.mean(list_loss_train)\n",
    "        train_trueP = np.mean([tp for (tp, tn) in list_score_train])\n",
    "        train_trueN = np.mean([tn for (tp, tn) in list_score_train])\n",
    "            \n",
    "        k = 0\n",
    "        # validation\n",
    "        list_loss_validation = []\n",
    "        list_score_validation = []\n",
    "        for batch, (x, y, z) in enumerate(validation_loader):\n",
    "            k+= 1\n",
    "            # send to GPU\n",
    "            x, y, z = x.to(device), y.to(device), z.to(device)\n",
    "\n",
    "            # Run the forward pass\n",
    "            out = model(x)\n",
    "            loss = criterion(out, z)\n",
    "            score = get_score(out,z)\n",
    "            list_loss_validation.append(loss.item())\n",
    "            list_score_validation.append(score)\n",
    "\n",
    "        validation_loss = np.mean(list_loss_validation)\n",
    "        validation_trueP = np.mean([tp for (tp, tn) in list_score_validation])\n",
    "        validation_trueN = np.mean([tn for (tp, tn) in list_score_validation])\n",
    "\n",
    "    print('Epoch [{}/{}] -------------------------------------------------------------------------------------'\n",
    "          .format(epoch+1, nb_epoch))\n",
    "    print('Train Loss: {}, Train True Positive : {} %, Train True Negative : {} %'\n",
    "            .format(round(train_loss, 2), round(train_trueP, 2), round(train_trueN, 2)))\n",
    "    print('Validation Loss: {}, Validation True Positive : {} %, Validation True Negative : {} %'\n",
    "            .format(round(validation_loss, 2), round(validation_trueP, 2), round(validation_trueN, 2)))\n",
    "    model.train()\n",
    "    \n",
    "    global_loss_train.append(train_loss)\n",
    "    global_loss_validation.append(validation_loss)"
   ]
  }
 ],
 "metadata": {
  "colab": {
   "authorship_tag": "ABX9TyOJoEmfI30ZZ212SB6nVxOw",
   "include_colab_link": true,
   "name": "all_unet_10s.ipynb",
   "provenance": []
  },
  "kernelspec": {
   "display_name": "Python 3",
   "language": "python",
   "name": "python3"
  },
  "language_info": {
   "codemirror_mode": {
    "name": "ipython",
    "version": 3
   },
   "file_extension": ".py",
   "mimetype": "text/x-python",
   "name": "python",
   "nbconvert_exporter": "python",
   "pygments_lexer": "ipython3",
   "version": "3.7.4"
  }
 },
 "nbformat": 4,
 "nbformat_minor": 1
}
