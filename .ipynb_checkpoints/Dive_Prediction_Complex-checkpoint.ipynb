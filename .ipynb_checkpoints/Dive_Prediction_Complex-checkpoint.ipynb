{
 "cells": [
  {
   "cell_type": "code",
   "execution_count": 4,
   "metadata": {},
   "outputs": [],
   "source": [
    "### COMPLEX CNN\n",
    "# -*- coding: utf-8 -*-\n",
    "import torch\n",
    "import torch.nn as nn\n",
    "import numpy as np\n",
    "\n",
    "class ComplexConv(nn.Module):\n",
    "    def __init__(self, in_channel, out_channel, kernel_size, stride=1, padding=0, dilation=1, groups=1, bias=True):\n",
    "        super(ComplexConv,self).__init__()\n",
    "        self.device = torch.device(\"cuda\" if torch.cuda.is_available() else \"cpu\")\n",
    "        self.padding = padding\n",
    "\n",
    "        ## Model components\n",
    "        self.conv_re = nn.Conv2d(in_channel, out_channel, kernel_size, stride=stride, padding=padding, dilation=dilation, groups=groups, bias=bias)\n",
    "        self.conv_im = nn.Conv2d(in_channel, out_channel, kernel_size, stride=stride, padding=padding, dilation=dilation, groups=groups, bias=bias)\n",
    "        \n",
    "    def forward(self, x): # shpae of x : [batch,2,channel,axis1,axis2]\n",
    "        real = self.conv_re(x[:,0]) - self.conv_im(x[:,1])\n",
    "        imaginary = self.conv_re(x[:,1]) + self.conv_im(x[:,0])\n",
    "        output = torch.stack((real,imaginary),dim=1)\n",
    "        return output\n"
   ]
  },
  {
   "cell_type": "code",
   "execution_count": 5,
   "metadata": {},
   "outputs": [],
   "source": [
    "## Random Tensor for Input\n",
    "## shape : [batchsize,2,channel,axis1_size,axis2_size]\n",
    "## Below dimensions are totally random\n",
    "x = torch.randn((10,2,3,100,100))\n",
    "\n",
    "# 1. Make ComplexConv Object\n",
    "## (in_channel, out_channel, kernel_size) parameter is required\n",
    "complexConv = ComplexConv(3,10,(5,5))\n",
    "\n",
    "# 2. compute\n",
    "y = complexConv(x)"
   ]
  },
  {
   "cell_type": "code",
   "execution_count": 8,
   "metadata": {},
   "outputs": [
    {
     "data": {
      "text/plain": [
       "torch.Size([10, 2, 10, 96, 96])"
      ]
     },
     "execution_count": 8,
     "metadata": {},
     "output_type": "execute_result"
    }
   ],
   "source": [
    "y.size()"
   ]
  }
 ],
 "metadata": {
  "kernelspec": {
   "display_name": "Python 3",
   "language": "python",
   "name": "python3"
  },
  "language_info": {
   "codemirror_mode": {
    "name": "ipython",
    "version": 3
   },
   "file_extension": ".py",
   "mimetype": "text/x-python",
   "name": "python",
   "nbconvert_exporter": "python",
   "pygments_lexer": "ipython3",
   "version": "3.7.4"
  }
 },
 "nbformat": 4,
 "nbformat_minor": 2
}
