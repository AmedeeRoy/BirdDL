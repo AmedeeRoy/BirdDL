{
 "cells": [
  {
   "cell_type": "markdown",
   "metadata": {},
   "source": [
    "# Dive Prediction - Hidden Markov Model\n",
    "\n",
    "*Predicting Seabird Diving Behaviour from GPS data*\n",
    "\n",
    "This notebook trains a HMM to predict seabirds' dives.\n",
    "\n",
    "HMM' characteristics:\n",
    "\n",
    "* *Number of modes* : 3"
   ]
  },
  {
   "cell_type": "markdown",
   "metadata": {},
   "source": [
    "<div class=\"alert alert-info\">\n",
    " ⚠️ Notebook using R\n",
    "</div>"
   ]
  },
  {
   "cell_type": "code",
   "execution_count": 1,
   "metadata": {
    "scrolled": true
   },
   "outputs": [
    {
     "name": "stderr",
     "output_type": "stream",
     "text": [
      "momentuHMM 1.5.1 (2020-03-04)\n",
      "\n",
      "Loading required package: MASS\n",
      "\n",
      "Loading required package: boot\n",
      "\n"
     ]
    }
   ],
   "source": [
    "library(momentuHMM)\n",
    "library(CircStats)"
   ]
  },
  {
   "cell_type": "code",
   "execution_count": 2,
   "metadata": {},
   "outputs": [],
   "source": [
    "data_test = read.table(\"./data/data_test.csv\", sep = ',', header = TRUE)"
   ]
  },
  {
   "cell_type": "code",
   "execution_count": 3,
   "metadata": {},
   "outputs": [],
   "source": [
    "# prep data for HMM\n",
    "rawData <- data_test[,c(\"trip\",\"lon\",\"lat\")]\n",
    "colnames(rawData) <- c(\"ID\", \"lon\", \"lat\")\n",
    "birdData <- prepData(data=rawData, type = \"LL\", coordNames = c(\"lon\", \"lat\"))"
   ]
  },
  {
   "cell_type": "code",
   "execution_count": 4,
   "metadata": {},
   "outputs": [],
   "source": [
    "# parameters initialization\n",
    "\n",
    "## cluster K-Means for initialization\n",
    "### STEP\n",
    "clusterBird_step <- kmeans(na.omit(data.frame(birdData$step)), 3)\n",
    "muS_1 <- max(clusterBird_step$centers)\n",
    "muS_2 <- median(clusterBird_step$centers) \n",
    "muS_3 <- min(clusterBird_step$centers) \n",
    "sdS_1 <- sd(na.omit(birdData$step)[clusterBird_step[[1]] == which(clusterBird_step$centers == max(clusterBird_step$centers))])\n",
    "sdS_2 <- sd(na.omit(birdData$step)[clusterBird_step[[1]] == which(clusterBird_step$centers == median(clusterBird_step$centers))])\n",
    "sdS_3 <- sd(na.omit(birdData$step)[clusterBird_step[[1]] == which(clusterBird_step$centers == min(clusterBird_step$centers))])\n",
    "\n",
    "### ANGLE\n",
    "## for von mises\n",
    "kappaA_1 <- 4\n",
    "kappaA_2 <- 2\n",
    "kappaA_3 <- 0.1\n",
    "\n",
    "### ZERO MASS\n",
    "zeroMass <- length(which(birdData$step == 0))/nrow(birdData) #we need to include zeroMass parameters\n",
    "\n",
    "### FIT MODEL\n",
    "stateNames <- c(\"fly\",\"observe\", \"dive\")\n",
    "dist = list(step = \"gamma\", angle = \"vm\")\n",
    "anglePar0 <- c(kappaA_1, kappaA_2, kappaA_3) \n",
    "stepPar0 <- c(muS_1, muS_2, muS_3, sdS_1, sdS_2, sdS_3, zeroMass, zeroMass, zeroMass) "
   ]
  },
  {
   "cell_type": "code",
   "execution_count": null,
   "metadata": {
    "scrolled": true
   },
   "outputs": [
    {
     "name": "stderr",
     "output_type": "stream",
     "text": [
      "=======================================================================\n",
      "\n",
      "Fitting HMM with 3 states and 2 data streams\n",
      "\n",
      "-----------------------------------------------------------------------\n",
      "\n",
      "\n",
      " step ~ gamma(mean=~1, sd=~1, zeromass=~1)\n",
      "\n",
      " angle ~ vm(concentration=~1)\n",
      "\n",
      "\n",
      " Transition probability matrix formula: ~1\n",
      "\n",
      "\n",
      " Initial distribution formula: ~1\n",
      "\n",
      "=======================================================================\n",
      "\n"
     ]
    }
   ],
   "source": [
    "m <- fitHMM(data = birdData, nbStates = 3, dist = dist,\n",
    "            Par0 = list(step = stepPar0, angle = anglePar0), stateNames = stateNames, formula = ~1)\n",
    "\n",
    "save(m, file = './hmm/hmm_test.RData')"
   ]
  },
  {
   "cell_type": "code",
   "execution_count": null,
   "metadata": {},
   "outputs": [],
   "source": [
    "# load('./hmm/hmm_test.RData')"
   ]
  },
  {
   "cell_type": "code",
   "execution_count": null,
   "metadata": {},
   "outputs": [],
   "source": [
    "for (trip in unique(rawData$ID)){\n",
    "  path = paste0('./hmm/figures/', trip, '.png')\n",
    "  png(path)\n",
    "  plot(m, animals = trip, ask = FALSE)\n",
    "  dev.off()\n",
    "}\n"
   ]
  },
  {
   "cell_type": "code",
   "execution_count": null,
   "metadata": {},
   "outputs": [],
   "source": [
    "predict = viterbi(m)\n",
    "data_test$hmm = predict"
   ]
  },
  {
   "cell_type": "markdown",
   "metadata": {},
   "source": [
    "## get probabilities"
   ]
  },
  {
   "cell_type": "code",
   "execution_count": 44,
   "metadata": {},
   "outputs": [],
   "source": [
    "load(\"/home/amdroy/MEGA/SCRIPT/BirdDL/hmm/hmm_test.RData\")\n",
    "\n",
    "# load home-made functions\n",
    "a = lapply(list.files(path= \"/home/amdroy/MEGA/SCRIPT/BirdDL/hmm/momentuHMM/R\", pattern = \"[.]R$\", \n",
    "                      full.names = TRUE, recursive = TRUE), source)"
   ]
  },
  {
   "cell_type": "code",
   "execution_count": 64,
   "metadata": {},
   "outputs": [],
   "source": [
    "probs = allProbs(m)\n",
    "data_test$prob =  probs[,3]/apply(probs, 1, sum)"
   ]
  },
  {
   "cell_type": "markdown",
   "metadata": {},
   "source": [
    "## change resolution"
   ]
  },
  {
   "cell_type": "code",
   "execution_count": 70,
   "metadata": {},
   "outputs": [],
   "source": [
    "dive_real = list()\n",
    "dive_estim = list()\n",
    "\n",
    "for (i in unique(data_test$trip)){\n",
    "    trip = data_test[data_test$trip == i,]\n",
    "    \n",
    "    real = sapply(seq(1,nrow(trip)-10, by = 10), function(i){\n",
    "        max(trip$dive[i:(i+9)])\n",
    "    })\n",
    "    \n",
    "    estim = sapply(seq(1,nrow(trip)-10, by = 10), function(i){\n",
    "        mean(trip$prob[i:(i+9)])\n",
    "    })\n",
    "        \n",
    "    dive_real[[i]] = real\n",
    "    dive_estim[[i]] = estim\n",
    "}"
   ]
  },
  {
   "cell_type": "markdown",
   "metadata": {},
   "source": [
    "## score"
   ]
  },
  {
   "cell_type": "code",
   "execution_count": 76,
   "metadata": {},
   "outputs": [
    {
     "name": "stdout",
     "output_type": "stream",
     "text": [
      "[1] 0.8327759 0.7760766\n"
     ]
    }
   ],
   "source": [
    "# globally\n",
    "all_estim <- 1*unlist(dive_estim)>0.2\n",
    "all_real <- unlist(dive_real)\n",
    "\n",
    "\n",
    "true_positive = mean(all_estim[all_real == 1])\n",
    "true_negative = 1-mean(all_estim[all_real == 0])\n",
    "\n",
    "print(c(true_positive, true_negative))"
   ]
  },
  {
   "cell_type": "markdown",
   "metadata": {},
   "source": [
    "# ROC curve"
   ]
  },
  {
   "cell_type": "code",
   "execution_count": 79,
   "metadata": {},
   "outputs": [],
   "source": [
    "# globally\n",
    "TP = list()\n",
    "FP = list()\n",
    "\n",
    "i = 1\n",
    "for (tt in seq(0,1, by = 0.05)){\n",
    "    # globally\n",
    "    all_estim <- 1*unlist(dive_estim)>tt\n",
    "    all_real <- unlist(dive_real)\n",
    "\n",
    "    true_positive = mean(all_estim[all_real == 1])\n",
    "    true_negative = 1-mean(all_estim[all_real == 0])\n",
    "    \n",
    "    TP[[i]] <- true_positive\n",
    "    FP[[i]] <- 1- true_negative\n",
    "    i = i+1\n",
    "}"
   ]
  },
  {
   "cell_type": "code",
   "execution_count": 83,
   "metadata": {},
   "outputs": [
    {
     "data": {
      "image/png": "[encoded data removed]",
      "text/plain": [
       "plot without title"
      ]
     },
     "metadata": {
      "image/png": {
       "height": 420,
       "width": 420
      },
      "text/plain": {
       "height": 420,
       "width": 420
      }
     },
     "output_type": "display_data"
    }
   ],
   "source": [
    "plot(unlist(FP), unlist(TP), pch = 19, xlab = 'False Positive Rate', ylab = 'True Positive Rate', type = 'l')"
   ]
  },
  {
   "cell_type": "code",
   "execution_count": 85,
   "metadata": {},
   "outputs": [],
   "source": [
    "df = data.frame(model = 'hmm', FP = unlist(FP), TP = unlist(TP))"
   ]
  },
  {
   "cell_type": "code",
   "execution_count": 88,
   "metadata": {},
   "outputs": [],
   "source": [
    "write.table(df, file = './roc/roc_hmm.csv', sep = ',')"
   ]
  },
  {
   "cell_type": "code",
   "execution_count": null,
   "metadata": {},
   "outputs": [],
   "source": []
  }
 ],
 "metadata": {
  "kernelspec": {
   "display_name": "R",
   "language": "R",
   "name": "ir"
  },
  "language_info": {
   "codemirror_mode": "r",
   "file_extension": ".r",
   "mimetype": "text/x-r-source",
   "name": "R",
   "pygments_lexer": "r",
   "version": "3.6.3"
  }
 },
 "nbformat": 4,
 "nbformat_minor": 2
}
