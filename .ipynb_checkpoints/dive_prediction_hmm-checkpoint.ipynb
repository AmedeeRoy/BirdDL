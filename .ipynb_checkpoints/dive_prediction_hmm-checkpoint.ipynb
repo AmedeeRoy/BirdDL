{
 "cells": [
  {
   "cell_type": "markdown",
   "metadata": {},
   "source": [
    "# Dive Prediction - Hidden Markov Model\n",
    "\n",
    "*Predicting Seabird Diving Behaviour from GPS data*\n",
    "\n",
    "This notebook trains a HMM to predict seabirds' dives.\n",
    "\n",
    "HMM' characteristics:\n",
    "\n",
    "* *Number of modes* : 3"
   ]
  },
  {
   "cell_type": "markdown",
   "metadata": {},
   "source": [
    "<div class=\"alert alert-info\">\n",
    " ⚠️ Notebook using R\n",
    "</div>"
   ]
  },
  {
   "cell_type": "code",
   "execution_count": 7,
   "metadata": {
    "scrolled": true
   },
   "outputs": [],
   "source": [
    "library(momentuHMM)"
   ]
  },
  {
   "cell_type": "code",
   "execution_count": 8,
   "metadata": {},
   "outputs": [],
   "source": [
    "data_test = read.table(\"./data/data_test.csv\", sep = ',', header = TRUE)"
   ]
  },
  {
   "cell_type": "code",
   "execution_count": 9,
   "metadata": {},
   "outputs": [],
   "source": [
    "# prep data for HMM\n",
    "rawData <- data_test[,c(\"trip\",\"lon\",\"lat\")]\n",
    "colnames(rawData) <- c(\"ID\", \"lon\", \"lat\")\n",
    "birdData <- prepData(data=rawData, type = \"LL\", coordNames = c(\"lon\", \"lat\"))"
   ]
  },
  {
   "cell_type": "code",
   "execution_count": 10,
   "metadata": {},
   "outputs": [],
   "source": [
    "# parameters initialization\n",
    "\n",
    "## cluster K-Means for initialization\n",
    "### STEP\n",
    "clusterBird_step <- kmeans(na.omit(data.frame(birdData$step)), 3)\n",
    "muS_1 <- max(clusterBird_step$centers)\n",
    "muS_2 <- median(clusterBird_step$centers) \n",
    "muS_3 <- min(clusterBird_step$centers) \n",
    "sdS_1 <- sd(na.omit(birdData$step)[clusterBird_step[[1]] == which(clusterBird_step$centers == max(clusterBird_step$centers))])\n",
    "sdS_2 <- sd(na.omit(birdData$step)[clusterBird_step[[1]] == which(clusterBird_step$centers == median(clusterBird_step$centers))])\n",
    "sdS_3 <- sd(na.omit(birdData$step)[clusterBird_step[[1]] == which(clusterBird_step$centers == min(clusterBird_step$centers))])\n",
    "\n",
    "### ANGLE\n",
    "## for von mises\n",
    "kappaA_1 <- 4\n",
    "kappaA_2 <- 2\n",
    "kappaA_3 <- 0.1\n",
    "\n",
    "### ZERO MASS\n",
    "zeroMass <- length(which(birdData$step == 0))/nrow(birdData) #we need to include zeroMass parameters\n",
    "\n",
    "### FIT MODEL\n",
    "stateNames <- c(\"fly\",\"observe\", \"dive\")\n",
    "dist = list(step = \"gamma\", angle = \"vm\")\n",
    "anglePar0 <- c(kappaA_1, kappaA_2, kappaA_3) \n",
    "stepPar0 <- c(muS_1, muS_2, muS_3, sdS_1, sdS_2, sdS_3, zeroMass, zeroMass, zeroMass) "
   ]
  },
  {
   "cell_type": "code",
   "execution_count": 12,
   "metadata": {
    "scrolled": true
   },
   "outputs": [
    {
     "name": "stderr",
     "output_type": "stream",
     "text": [
      "=======================================================================\n",
      "\n",
      "Fitting HMM with 3 states and 2 data streams\n",
      "\n",
      "-----------------------------------------------------------------------\n",
      "\n",
      "\n",
      " step ~ gamma(mean=~1, sd=~1, zeromass=~1)\n",
      "\n",
      " angle ~ vm(concentration=~1)\n",
      "\n",
      "\n",
      " Transition probability matrix formula: ~1\n",
      "\n",
      "\n",
      " Initial distribution formula: ~1\n",
      "\n",
      "=======================================================================\n",
      "\n",
      "DONE\n",
      "\n"
     ]
    }
   ],
   "source": [
    "m <- fitHMM(data = birdData, nbStates = 3, dist = dist,\n",
    "            Par0 = list(step = stepPar0, angle = anglePar0), stateNames = stateNames, formula = ~1)\n",
    "\n",
    "save(m, file = './hmm/hmm_test.RData')"
   ]
  },
  {
   "cell_type": "code",
   "execution_count": null,
   "metadata": {},
   "outputs": [],
   "source": [
    "# load('./hmm/hmm_test.RData')"
   ]
  },
  {
   "cell_type": "code",
   "execution_count": 15,
   "metadata": {},
   "outputs": [
    {
     "name": "stdout",
     "output_type": "stream",
     "text": [
      "Decoding state sequence... DONE\n",
      "Decoding state sequence... DONE\n",
      "Decoding state sequence... DONE\n",
      "Decoding state sequence... DONE\n",
      "Decoding state sequence... DONE\n",
      "Decoding state sequence... DONE\n",
      "Decoding state sequence... DONE\n",
      "Decoding state sequence... DONE\n",
      "Decoding state sequence... DONE\n",
      "Decoding state sequence... DONE\n",
      "Decoding state sequence... DONE\n",
      "Decoding state sequence... DONE\n",
      "Decoding state sequence... DONE\n",
      "Decoding state sequence... DONE\n",
      "Decoding state sequence... DONE\n",
      "Decoding state sequence... DONE\n",
      "Decoding state sequence... DONE\n",
      "Decoding state sequence... DONE\n",
      "Decoding state sequence... DONE\n"
     ]
    }
   ],
   "source": [
    "for (trip in unique(rawData$ID)){\n",
    "  path = paste0('./hmm/figures/', trip, '.png')\n",
    "  png(path)\n",
    "  plot(m, animals = trip, ask = FALSE)\n",
    "  dev.off()\n",
    "}\n"
   ]
  },
  {
   "cell_type": "code",
   "execution_count": 17,
   "metadata": {},
   "outputs": [],
   "source": [
    "predict = viterbi(m)\n",
    "data_test$hmm = predict"
   ]
  },
  {
   "cell_type": "markdown",
   "metadata": {},
   "source": [
    "## change resolution"
   ]
  },
  {
   "cell_type": "code",
   "execution_count": 97,
   "metadata": {},
   "outputs": [],
   "source": [
    "dive_real = list()\n",
    "dive_estim = list()\n",
    "\n",
    "for (i in unique(data_test$trip)){\n",
    "    trip = data_test[data_test$trip == i,]\n",
    "    \n",
    "    real = sapply(seq(1,nrow(trip)-10, by = 10), function(i){\n",
    "        max(trip$dive[i:(i+9)])\n",
    "    })\n",
    "    \n",
    "    estim = sapply(seq(1,nrow(trip)-10, by = 10), function(i){\n",
    "        max(1*(trip$hmm[i:(i+9)] == 3))\n",
    "    })\n",
    "        \n",
    "    dive_real[[i]] = real\n",
    "    dive_estim[[i]] = estim\n",
    "}"
   ]
  },
  {
   "cell_type": "markdown",
   "metadata": {},
   "source": [
    "## score"
   ]
  },
  {
   "cell_type": "code",
   "execution_count": 101,
   "metadata": {},
   "outputs": [
    {
     "name": "stdout",
     "output_type": "stream",
     "text": [
      "[1] 0.8394649 0.7821372\n"
     ]
    }
   ],
   "source": [
    "# globally\n",
    "\n",
    "all_estim <- unlist(dive_estim)\n",
    "all_real <- unlist(dive_real)\n",
    "\n",
    "\n",
    "true_positive = mean(all_estim[all_real == 1])\n",
    "true_negative = 1-mean(all_estim[all_real == 0])\n",
    "\n",
    "print(c(true_positive, true_negative))"
   ]
  },
  {
   "cell_type": "code",
   "execution_count": 109,
   "metadata": {},
   "outputs": [
    {
     "name": "stdout",
     "output_type": "stream",
     "text": [
      "[1] 0.6428571 0.8057851\n",
      "[1] 1.0000000 0.5632184\n",
      "[1] 1.0000000 0.9152542\n",
      "[1] 1.0000000 0.8402556\n",
      "[1] 1.0000000 0.7329193\n",
      "[1] 0.9687500 0.6386555\n",
      "[1] 1.0000000 0.8348083\n",
      "[1] 1.0000000 0.7389558\n",
      "[1] 1.0000000 0.8241206\n",
      "[1] 1.0000000 0.8333333\n",
      "[1] 1.0000000 0.6534653\n",
      "[1] 0.8888889 0.6778243\n",
      "[1] 1.0000000 0.8181818\n",
      "[1] 0.9090909 0.7529412\n",
      "[1] 1.0000000 0.7833333\n",
      "[1] 0.6923077 0.7849462\n",
      "[1] 0.2500000 0.8178528\n",
      "[1] 0.5714286 0.6372093\n",
      "[1] 0.2727273 0.8802178\n"
     ]
    },
    {
     "data": {
      "image/png": "[encoded data removed]",
      "text/plain": [
       "plot without title"
      ]
     },
     "metadata": {
      "image/png": {
       "height": 420,
       "width": 420
      },
      "text/plain": {
       "height": 420,
       "width": 420
      }
     },
     "output_type": "display_data"
    }
   ],
   "source": [
    "# for each trip\n",
    "plot(-1, -1, xlim = c(0,1), ylim = c(0,1))\n",
    "\n",
    "for (i in unique(data_test$trip)){\n",
    "    \n",
    "    real = 1*(dive_real[[i]]>0)\n",
    "    estim = 1*(dive_estim[[i]]>0)\n",
    "    \n",
    "    true_positive = mean(estim[real == 1])\n",
    "    true_negative = 1-mean(estim[real == 0])\n",
    "\n",
    "    points(1-true_negative, true_positive, pch = 19)\n",
    "    print(c(true_positive, true_negative))   \n",
    "}"
   ]
  }
 ],
 "metadata": {
  "kernelspec": {
   "display_name": "R",
   "language": "R",
   "name": "ir"
  },
  "language_info": {
   "codemirror_mode": "r",
   "file_extension": ".r",
   "mimetype": "text/x-r-source",
   "name": "R",
   "pygments_lexer": "r",
   "version": "3.6.3"
  }
 },
 "nbformat": 4,
 "nbformat_minor": 2
}
