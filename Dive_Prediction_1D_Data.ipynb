{
  "nbformat": 4,
  "nbformat_minor": 0,
  "metadata": {
    "kernelspec": {
      "display_name": "Python 3",
      "language": "python",
      "name": "python3"
    },
    "language_info": {
      "codemirror_mode": {
        "name": "ipython",
        "version": 3
      },
      "file_extension": ".py",
      "mimetype": "text/x-python",
      "name": "python",
      "nbconvert_exporter": "python",
      "pygments_lexer": "ipython3",
      "version": "3.7.4"
    },
    "colab": {
      "name": "Dive Prediction - 1D - Data.ipynb",
      "provenance": [],
      "toc_visible": true,
      "include_colab_link": true
    }
  },
  "cells": [
    {
      "cell_type": "markdown",
      "metadata": {
        "id": "view-in-github",
        "colab_type": "text"
      },
      "source": [
        "<a href=\"https://colab.research.google.com/github/AmedeeRoy/BirdDL/blob/main/Dive_Prediction_1D_Data.ipynb\" target=\"_parent\"><img src=\"https://colab.research.google.com/assets/colab-badge.svg\" alt=\"Open In Colab\"/></a>"
      ]
    },
    {
      "cell_type": "markdown",
      "metadata": {
        "id": "AoTO8FyrlBU_"
      },
      "source": [
        "# Predicting Seabird Diving Behaviour with GPS data\n",
        "\n",
        "Supervized Learning with Deep Networks\n"
      ]
    },
    {
      "cell_type": "markdown",
      "metadata": {
        "id": "XpzHadDDlBVA"
      },
      "source": [
        "## Data Formatting"
      ]
    },
    {
      "cell_type": "code",
      "metadata": {
        "id": "7twgCfSglBVC"
      },
      "source": [
        "import sqlite3\n",
        "import pandas as pd\n",
        "import numpy as np\n",
        "import matplotlib.pyplot as plt\n",
        "import IPython\n",
        "import datetime\n",
        "import random\n",
        "import pickle"
      ],
      "execution_count": null,
      "outputs": []
    },
    {
      "cell_type": "code",
      "metadata": {
        "id": "xzqhNXXnlMnI",
        "outputId": "94c0846f-0d2c-4609-f001-d9869230b309",
        "colab": {
          "base_uri": "https://localhost:8080/",
          "height": 35
        }
      },
      "source": [
        "# mount google drive\n",
        "from google.colab import drive\n",
        "drive.mount(\"/content/drive/\")"
      ],
      "execution_count": null,
      "outputs": [
        {
          "output_type": "stream",
          "text": [
            "Mounted at /content/drive/\n"
          ],
          "name": "stdout"
        }
      ]
    },
    {
      "cell_type": "code",
      "metadata": {
        "id": "SrinVr1QlBVN"
      },
      "source": [
        "# connect to database\n",
        "conn = sqlite3.connect('/content/drive/My Drive/data/seabirdbank.db')"
      ],
      "execution_count": null,
      "outputs": []
    },
    {
      "cell_type": "code",
      "metadata": {
        "id": "MoUPeOCtlBVS",
        "outputId": "b147e58c-393f-48d9-c396-c3e469165191",
        "colab": {
          "base_uri": "https://localhost:8080/",
          "height": 35
        }
      },
      "source": [
        "request = \"SELECT DISTINCT lon, lat FROM fieldwork WHERE place='Pescadores'\"\n",
        "colony = pd.read_sql_query(request, conn)\n",
        "colony = colony.values\n",
        "colony"
      ],
      "execution_count": null,
      "outputs": [
        {
          "output_type": "execute_result",
          "data": {
            "text/plain": [
              "array([[-77.264, -11.773]])"
            ]
          },
          "metadata": {
            "tags": []
          },
          "execution_count": 4
        }
      ]
    },
    {
      "cell_type": "code",
      "metadata": {
        "id": "W_twQSv0lBVZ",
        "outputId": "4aeb6869-8f9f-4fae-ced6-c608c6bffdca",
        "colab": {
          "base_uri": "https://localhost:8080/",
          "height": 424
        }
      },
      "source": [
        "request = \"SELECT \\\n",
        "            trip.id as trip, gps.datetime, gps.lon, gps.lat\\\n",
        "            FROM gps \\\n",
        "            INNER JOIN trip ON gps.trip = trip.id \\\n",
        "            INNER JOIN bird ON trip.bird = bird.id \\\n",
        "            WHERE trip.file_gps IS NOT NULL \\\n",
        "            AND trip.file_tdr IS NOT NULL \\\n",
        "            AND (bird.fieldwork = 'P1108' OR bird.fieldwork = 'P1111' \\\n",
        "                OR bird.fieldwork = 'P1112' OR bird.fieldwork = 'P1113') \\\n",
        "            AND bird.species = 'SV'\"\n",
        "\n",
        "# substr(bird.fieldwork,1,1) = 'P'\n",
        "\n",
        "gps = pd.read_sql_query(request, conn)\n",
        "gps"
      ],
      "execution_count": null,
      "outputs": [
        {
          "output_type": "execute_result",
          "data": {
            "text/html": [
              "<div>\n",
              "<style scoped>\n",
              "    .dataframe tbody tr th:only-of-type {\n",
              "        vertical-align: middle;\n",
              "    }\n",
              "\n",
              "    .dataframe tbody tr th {\n",
              "        vertical-align: top;\n",
              "    }\n",
              "\n",
              "    .dataframe thead th {\n",
              "        text-align: right;\n",
              "    }\n",
              "</style>\n",
              "<table border=\"1\" class=\"dataframe\">\n",
              "  <thead>\n",
              "    <tr style=\"text-align: right;\">\n",
              "      <th></th>\n",
              "      <th>trip</th>\n",
              "      <th>datetime</th>\n",
              "      <th>lon</th>\n",
              "      <th>lat</th>\n",
              "    </tr>\n",
              "  </thead>\n",
              "  <tbody>\n",
              "    <tr>\n",
              "      <th>0</th>\n",
              "      <td>P1108_4_SV_T1</td>\n",
              "      <td>2008-11-25 13:00:35</td>\n",
              "      <td>-77.264128</td>\n",
              "      <td>-11.773317</td>\n",
              "    </tr>\n",
              "    <tr>\n",
              "      <th>1</th>\n",
              "      <td>P1108_4_SV_T1</td>\n",
              "      <td>2008-11-25 13:00:36</td>\n",
              "      <td>-77.264118</td>\n",
              "      <td>-11.773235</td>\n",
              "    </tr>\n",
              "    <tr>\n",
              "      <th>2</th>\n",
              "      <td>P1108_4_SV_T1</td>\n",
              "      <td>2008-11-25 13:00:37</td>\n",
              "      <td>-77.264098</td>\n",
              "      <td>-11.773152</td>\n",
              "    </tr>\n",
              "    <tr>\n",
              "      <th>3</th>\n",
              "      <td>P1108_4_SV_T1</td>\n",
              "      <td>2008-11-25 13:00:38</td>\n",
              "      <td>-77.264113</td>\n",
              "      <td>-11.773060</td>\n",
              "    </tr>\n",
              "    <tr>\n",
              "      <th>4</th>\n",
              "      <td>P1108_4_SV_T1</td>\n",
              "      <td>2008-11-25 13:00:39</td>\n",
              "      <td>-77.264142</td>\n",
              "      <td>-11.772955</td>\n",
              "    </tr>\n",
              "    <tr>\n",
              "      <th>...</th>\n",
              "      <td>...</td>\n",
              "      <td>...</td>\n",
              "      <td>...</td>\n",
              "      <td>...</td>\n",
              "    </tr>\n",
              "    <tr>\n",
              "      <th>839803</th>\n",
              "      <td>P1113_50_SV_T2</td>\n",
              "      <td>2013-11-25 05:23:26</td>\n",
              "      <td>-77.264832</td>\n",
              "      <td>-11.773701</td>\n",
              "    </tr>\n",
              "    <tr>\n",
              "      <th>839804</th>\n",
              "      <td>P1113_50_SV_T2</td>\n",
              "      <td>2013-11-25 05:23:27</td>\n",
              "      <td>-77.264862</td>\n",
              "      <td>-11.773664</td>\n",
              "    </tr>\n",
              "    <tr>\n",
              "      <th>839805</th>\n",
              "      <td>P1113_50_SV_T2</td>\n",
              "      <td>2013-11-25 05:23:28</td>\n",
              "      <td>-77.264900</td>\n",
              "      <td>-11.773705</td>\n",
              "    </tr>\n",
              "    <tr>\n",
              "      <th>839806</th>\n",
              "      <td>P1113_50_SV_T2</td>\n",
              "      <td>2013-11-25 05:23:29</td>\n",
              "      <td>-77.264931</td>\n",
              "      <td>-11.773739</td>\n",
              "    </tr>\n",
              "    <tr>\n",
              "      <th>839807</th>\n",
              "      <td>P1113_50_SV_T2</td>\n",
              "      <td>2013-11-25 05:23:30</td>\n",
              "      <td>-77.264954</td>\n",
              "      <td>-11.773770</td>\n",
              "    </tr>\n",
              "  </tbody>\n",
              "</table>\n",
              "<p>839808 rows × 4 columns</p>\n",
              "</div>"
            ],
            "text/plain": [
              "                  trip             datetime        lon        lat\n",
              "0        P1108_4_SV_T1  2008-11-25 13:00:35 -77.264128 -11.773317\n",
              "1        P1108_4_SV_T1  2008-11-25 13:00:36 -77.264118 -11.773235\n",
              "2        P1108_4_SV_T1  2008-11-25 13:00:37 -77.264098 -11.773152\n",
              "3        P1108_4_SV_T1  2008-11-25 13:00:38 -77.264113 -11.773060\n",
              "4        P1108_4_SV_T1  2008-11-25 13:00:39 -77.264142 -11.772955\n",
              "...                ...                  ...        ...        ...\n",
              "839803  P1113_50_SV_T2  2013-11-25 05:23:26 -77.264832 -11.773701\n",
              "839804  P1113_50_SV_T2  2013-11-25 05:23:27 -77.264862 -11.773664\n",
              "839805  P1113_50_SV_T2  2013-11-25 05:23:28 -77.264900 -11.773705\n",
              "839806  P1113_50_SV_T2  2013-11-25 05:23:29 -77.264931 -11.773739\n",
              "839807  P1113_50_SV_T2  2013-11-25 05:23:30 -77.264954 -11.773770\n",
              "\n",
              "[839808 rows x 4 columns]"
            ]
          },
          "metadata": {
            "tags": []
          },
          "execution_count": 5
        }
      ]
    },
    {
      "cell_type": "code",
      "metadata": {
        "id": "_XhzjeSBlBVf"
      },
      "source": [
        "# check duplicated datetime in GPS trip\n",
        "idx = gps.index[gps.loc[:, 'trip':'datetime'].duplicated(keep=False)]\n",
        "idx_drop = [idx[i] for i in range(0, len(idx), 2)]\n",
        "gps = gps.drop(idx_drop)"
      ],
      "execution_count": null,
      "outputs": []
    },
    {
      "cell_type": "code",
      "metadata": {
        "scrolled": true,
        "id": "R8KuhNs3lBVj",
        "outputId": "d561748e-5101-4141-c357-55e24877b22b",
        "colab": {
          "base_uri": "https://localhost:8080/",
          "height": 49
        }
      },
      "source": [
        "gps[gps.loc[:, 'trip':'datetime'].duplicated(keep=False)]"
      ],
      "execution_count": null,
      "outputs": [
        {
          "output_type": "execute_result",
          "data": {
            "text/html": [
              "<div>\n",
              "<style scoped>\n",
              "    .dataframe tbody tr th:only-of-type {\n",
              "        vertical-align: middle;\n",
              "    }\n",
              "\n",
              "    .dataframe tbody tr th {\n",
              "        vertical-align: top;\n",
              "    }\n",
              "\n",
              "    .dataframe thead th {\n",
              "        text-align: right;\n",
              "    }\n",
              "</style>\n",
              "<table border=\"1\" class=\"dataframe\">\n",
              "  <thead>\n",
              "    <tr style=\"text-align: right;\">\n",
              "      <th></th>\n",
              "      <th>trip</th>\n",
              "      <th>datetime</th>\n",
              "      <th>lon</th>\n",
              "      <th>lat</th>\n",
              "    </tr>\n",
              "  </thead>\n",
              "  <tbody>\n",
              "  </tbody>\n",
              "</table>\n",
              "</div>"
            ],
            "text/plain": [
              "Empty DataFrame\n",
              "Columns: [trip, datetime, lon, lat]\n",
              "Index: []"
            ]
          },
          "metadata": {
            "tags": []
          },
          "execution_count": 7
        }
      ]
    },
    {
      "cell_type": "code",
      "metadata": {
        "id": "Sw-ExcWzlBVq",
        "outputId": "87098c81-509a-4454-a436-913e650543a8",
        "colab": {
          "base_uri": "https://localhost:8080/",
          "height": 424
        }
      },
      "source": [
        "request = \"SELECT \\\n",
        "            trip.id as trip, tdr.datetime, tdr.pressure \\\n",
        "            FROM tdr \\\n",
        "            INNER JOIN trip ON tdr.trip = trip.id \\\n",
        "            INNER JOIN bird ON trip.bird = bird.id \\\n",
        "            WHERE trip.file_gps IS NOT NULL \\\n",
        "            AND trip.file_tdr IS NOT NULL \\\n",
        "            AND (bird.fieldwork = 'P1108' OR bird.fieldwork = 'P1111' \\\n",
        "                OR bird.fieldwork = 'P1112' OR bird.fieldwork = 'P1113') \\\n",
        "            AND bird.species = 'SV'\"\n",
        "\n",
        "# WHERE substr(bird.fieldwork,1,1) = 'P' \n",
        "\n",
        "tdr = pd.read_sql_query(request, conn)\n",
        "tdr"
      ],
      "execution_count": null,
      "outputs": [
        {
          "output_type": "execute_result",
          "data": {
            "text/html": [
              "<div>\n",
              "<style scoped>\n",
              "    .dataframe tbody tr th:only-of-type {\n",
              "        vertical-align: middle;\n",
              "    }\n",
              "\n",
              "    .dataframe tbody tr th {\n",
              "        vertical-align: top;\n",
              "    }\n",
              "\n",
              "    .dataframe thead th {\n",
              "        text-align: right;\n",
              "    }\n",
              "</style>\n",
              "<table border=\"1\" class=\"dataframe\">\n",
              "  <thead>\n",
              "    <tr style=\"text-align: right;\">\n",
              "      <th></th>\n",
              "      <th>trip</th>\n",
              "      <th>datetime</th>\n",
              "      <th>pressure</th>\n",
              "    </tr>\n",
              "  </thead>\n",
              "  <tbody>\n",
              "    <tr>\n",
              "      <th>0</th>\n",
              "      <td>P1108_4_SV_T1</td>\n",
              "      <td>2008-11-25 13:00:35</td>\n",
              "      <td>-0.35</td>\n",
              "    </tr>\n",
              "    <tr>\n",
              "      <th>1</th>\n",
              "      <td>P1108_4_SV_T1</td>\n",
              "      <td>2008-11-25 13:00:36</td>\n",
              "      <td>-0.38</td>\n",
              "    </tr>\n",
              "    <tr>\n",
              "      <th>2</th>\n",
              "      <td>P1108_4_SV_T1</td>\n",
              "      <td>2008-11-25 13:00:37</td>\n",
              "      <td>-0.35</td>\n",
              "    </tr>\n",
              "    <tr>\n",
              "      <th>3</th>\n",
              "      <td>P1108_4_SV_T1</td>\n",
              "      <td>2008-11-25 13:00:38</td>\n",
              "      <td>-0.29</td>\n",
              "    </tr>\n",
              "    <tr>\n",
              "      <th>4</th>\n",
              "      <td>P1108_4_SV_T1</td>\n",
              "      <td>2008-11-25 13:00:39</td>\n",
              "      <td>-0.29</td>\n",
              "    </tr>\n",
              "    <tr>\n",
              "      <th>...</th>\n",
              "      <td>...</td>\n",
              "      <td>...</td>\n",
              "      <td>...</td>\n",
              "    </tr>\n",
              "    <tr>\n",
              "      <th>1086337</th>\n",
              "      <td>P1113_50_SV_T2</td>\n",
              "      <td>2013-11-25 05:23:26</td>\n",
              "      <td>-0.94</td>\n",
              "    </tr>\n",
              "    <tr>\n",
              "      <th>1086338</th>\n",
              "      <td>P1113_50_SV_T2</td>\n",
              "      <td>2013-11-25 05:23:27</td>\n",
              "      <td>-0.94</td>\n",
              "    </tr>\n",
              "    <tr>\n",
              "      <th>1086339</th>\n",
              "      <td>P1113_50_SV_T2</td>\n",
              "      <td>2013-11-25 05:23:28</td>\n",
              "      <td>-0.94</td>\n",
              "    </tr>\n",
              "    <tr>\n",
              "      <th>1086340</th>\n",
              "      <td>P1113_50_SV_T2</td>\n",
              "      <td>2013-11-25 05:23:29</td>\n",
              "      <td>-0.94</td>\n",
              "    </tr>\n",
              "    <tr>\n",
              "      <th>1086341</th>\n",
              "      <td>P1113_50_SV_T2</td>\n",
              "      <td>2013-11-25 05:23:30</td>\n",
              "      <td>-0.94</td>\n",
              "    </tr>\n",
              "  </tbody>\n",
              "</table>\n",
              "<p>1086342 rows × 3 columns</p>\n",
              "</div>"
            ],
            "text/plain": [
              "                   trip             datetime  pressure\n",
              "0         P1108_4_SV_T1  2008-11-25 13:00:35     -0.35\n",
              "1         P1108_4_SV_T1  2008-11-25 13:00:36     -0.38\n",
              "2         P1108_4_SV_T1  2008-11-25 13:00:37     -0.35\n",
              "3         P1108_4_SV_T1  2008-11-25 13:00:38     -0.29\n",
              "4         P1108_4_SV_T1  2008-11-25 13:00:39     -0.29\n",
              "...                 ...                  ...       ...\n",
              "1086337  P1113_50_SV_T2  2013-11-25 05:23:26     -0.94\n",
              "1086338  P1113_50_SV_T2  2013-11-25 05:23:27     -0.94\n",
              "1086339  P1113_50_SV_T2  2013-11-25 05:23:28     -0.94\n",
              "1086340  P1113_50_SV_T2  2013-11-25 05:23:29     -0.94\n",
              "1086341  P1113_50_SV_T2  2013-11-25 05:23:30     -0.94\n",
              "\n",
              "[1086342 rows x 3 columns]"
            ]
          },
          "metadata": {
            "tags": []
          },
          "execution_count": 8
        }
      ]
    },
    {
      "cell_type": "code",
      "metadata": {
        "id": "FsLfaOzHlBVu"
      },
      "source": [
        "tdr['datetime'] = pd.to_datetime(tdr['datetime'], format='%Y-%m-%d %H:%M:%S')\n",
        "gps['datetime'] = pd.to_datetime(gps['datetime'], format='%Y-%m-%d %H:%M:%S')"
      ],
      "execution_count": null,
      "outputs": []
    },
    {
      "cell_type": "code",
      "metadata": {
        "id": "3y-dQs7DlBVy",
        "outputId": "52a4c972-c0ea-4b0e-96a3-9ed3cf26d5aa",
        "colab": {
          "base_uri": "https://localhost:8080/",
          "height": 424
        }
      },
      "source": [
        "df = pd.merge(tdr, gps, on=['trip', 'datetime'], how='left')\n",
        "df"
      ],
      "execution_count": null,
      "outputs": [
        {
          "output_type": "execute_result",
          "data": {
            "text/html": [
              "<div>\n",
              "<style scoped>\n",
              "    .dataframe tbody tr th:only-of-type {\n",
              "        vertical-align: middle;\n",
              "    }\n",
              "\n",
              "    .dataframe tbody tr th {\n",
              "        vertical-align: top;\n",
              "    }\n",
              "\n",
              "    .dataframe thead th {\n",
              "        text-align: right;\n",
              "    }\n",
              "</style>\n",
              "<table border=\"1\" class=\"dataframe\">\n",
              "  <thead>\n",
              "    <tr style=\"text-align: right;\">\n",
              "      <th></th>\n",
              "      <th>trip</th>\n",
              "      <th>datetime</th>\n",
              "      <th>pressure</th>\n",
              "      <th>lon</th>\n",
              "      <th>lat</th>\n",
              "    </tr>\n",
              "  </thead>\n",
              "  <tbody>\n",
              "    <tr>\n",
              "      <th>0</th>\n",
              "      <td>P1108_4_SV_T1</td>\n",
              "      <td>2008-11-25 13:00:35</td>\n",
              "      <td>-0.35</td>\n",
              "      <td>-77.264128</td>\n",
              "      <td>-11.773317</td>\n",
              "    </tr>\n",
              "    <tr>\n",
              "      <th>1</th>\n",
              "      <td>P1108_4_SV_T1</td>\n",
              "      <td>2008-11-25 13:00:36</td>\n",
              "      <td>-0.38</td>\n",
              "      <td>-77.264118</td>\n",
              "      <td>-11.773235</td>\n",
              "    </tr>\n",
              "    <tr>\n",
              "      <th>2</th>\n",
              "      <td>P1108_4_SV_T1</td>\n",
              "      <td>2008-11-25 13:00:37</td>\n",
              "      <td>-0.35</td>\n",
              "      <td>-77.264098</td>\n",
              "      <td>-11.773152</td>\n",
              "    </tr>\n",
              "    <tr>\n",
              "      <th>3</th>\n",
              "      <td>P1108_4_SV_T1</td>\n",
              "      <td>2008-11-25 13:00:38</td>\n",
              "      <td>-0.29</td>\n",
              "      <td>-77.264113</td>\n",
              "      <td>-11.773060</td>\n",
              "    </tr>\n",
              "    <tr>\n",
              "      <th>4</th>\n",
              "      <td>P1108_4_SV_T1</td>\n",
              "      <td>2008-11-25 13:00:39</td>\n",
              "      <td>-0.29</td>\n",
              "      <td>-77.264142</td>\n",
              "      <td>-11.772955</td>\n",
              "    </tr>\n",
              "    <tr>\n",
              "      <th>...</th>\n",
              "      <td>...</td>\n",
              "      <td>...</td>\n",
              "      <td>...</td>\n",
              "      <td>...</td>\n",
              "      <td>...</td>\n",
              "    </tr>\n",
              "    <tr>\n",
              "      <th>1086337</th>\n",
              "      <td>P1113_50_SV_T2</td>\n",
              "      <td>2013-11-25 05:23:26</td>\n",
              "      <td>-0.94</td>\n",
              "      <td>-77.264832</td>\n",
              "      <td>-11.773701</td>\n",
              "    </tr>\n",
              "    <tr>\n",
              "      <th>1086338</th>\n",
              "      <td>P1113_50_SV_T2</td>\n",
              "      <td>2013-11-25 05:23:27</td>\n",
              "      <td>-0.94</td>\n",
              "      <td>-77.264862</td>\n",
              "      <td>-11.773664</td>\n",
              "    </tr>\n",
              "    <tr>\n",
              "      <th>1086339</th>\n",
              "      <td>P1113_50_SV_T2</td>\n",
              "      <td>2013-11-25 05:23:28</td>\n",
              "      <td>-0.94</td>\n",
              "      <td>-77.264900</td>\n",
              "      <td>-11.773705</td>\n",
              "    </tr>\n",
              "    <tr>\n",
              "      <th>1086340</th>\n",
              "      <td>P1113_50_SV_T2</td>\n",
              "      <td>2013-11-25 05:23:29</td>\n",
              "      <td>-0.94</td>\n",
              "      <td>-77.264931</td>\n",
              "      <td>-11.773739</td>\n",
              "    </tr>\n",
              "    <tr>\n",
              "      <th>1086341</th>\n",
              "      <td>P1113_50_SV_T2</td>\n",
              "      <td>2013-11-25 05:23:30</td>\n",
              "      <td>-0.94</td>\n",
              "      <td>-77.264954</td>\n",
              "      <td>-11.773770</td>\n",
              "    </tr>\n",
              "  </tbody>\n",
              "</table>\n",
              "<p>1086342 rows × 5 columns</p>\n",
              "</div>"
            ],
            "text/plain": [
              "                   trip            datetime  pressure        lon        lat\n",
              "0         P1108_4_SV_T1 2008-11-25 13:00:35     -0.35 -77.264128 -11.773317\n",
              "1         P1108_4_SV_T1 2008-11-25 13:00:36     -0.38 -77.264118 -11.773235\n",
              "2         P1108_4_SV_T1 2008-11-25 13:00:37     -0.35 -77.264098 -11.773152\n",
              "3         P1108_4_SV_T1 2008-11-25 13:00:38     -0.29 -77.264113 -11.773060\n",
              "4         P1108_4_SV_T1 2008-11-25 13:00:39     -0.29 -77.264142 -11.772955\n",
              "...                 ...                 ...       ...        ...        ...\n",
              "1086337  P1113_50_SV_T2 2013-11-25 05:23:26     -0.94 -77.264832 -11.773701\n",
              "1086338  P1113_50_SV_T2 2013-11-25 05:23:27     -0.94 -77.264862 -11.773664\n",
              "1086339  P1113_50_SV_T2 2013-11-25 05:23:28     -0.94 -77.264900 -11.773705\n",
              "1086340  P1113_50_SV_T2 2013-11-25 05:23:29     -0.94 -77.264931 -11.773739\n",
              "1086341  P1113_50_SV_T2 2013-11-25 05:23:30     -0.94 -77.264954 -11.773770\n",
              "\n",
              "[1086342 rows x 5 columns]"
            ]
          },
          "metadata": {
            "tags": []
          },
          "execution_count": 10
        }
      ]
    },
    {
      "cell_type": "code",
      "metadata": {
        "id": "ezQ3WSrMlBV2"
      },
      "source": [
        "# check NaN and fill with interpolations\n",
        "[i for i, x in enumerate(df['lon'].isna()) if x]\n",
        "\n",
        "\n",
        "df['lon'] = df['lon'].interpolate(method='polynomial', order=2)\n",
        "df['lat'] = df['lat'].interpolate(method='polynomial', order=2)"
      ],
      "execution_count": null,
      "outputs": []
    },
    {
      "cell_type": "code",
      "metadata": {
        "id": "-rMJhCx4lBV7",
        "outputId": "7ac4c06a-f139-4e82-e8a5-ed10c5fe2cd1",
        "colab": {
          "base_uri": "https://localhost:8080/",
          "height": 35
        }
      },
      "source": [
        "len(df.trip.unique())"
      ],
      "execution_count": null,
      "outputs": [
        {
          "output_type": "execute_result",
          "data": {
            "text/plain": [
              "185"
            ]
          },
          "metadata": {
            "tags": []
          },
          "execution_count": 12
        }
      ]
    },
    {
      "cell_type": "code",
      "metadata": {
        "id": "yPftDapClBV_"
      },
      "source": [
        "# threshold = 1\n",
        "# path_folder = \"./trajectory/\"\n",
        "\n",
        "# for t in df.trip.unique():\n",
        "    \n",
        "#     path_file = path_folder + t\n",
        "#     df_trip = df[df.trip == t]\n",
        "    \n",
        "#     bias = np.median(df_trip.pressure.values)\n",
        "  \n",
        "#     plt.figure(figsize=(9, 3))\n",
        "\n",
        "#     plt.subplot(1, 2, 1)\n",
        "#     plt.plot(df_trip.datetime.values, df_trip.pressure.values)\n",
        "#     plt.plot(df_trip.datetime.values, [threshold+bias for i in range(len(df_trip))], color = 'orange')\n",
        "\n",
        "#     plt.subplot(1, 2, 2)\n",
        "#     plt.plot(df_trip.lon.values, df_trip.lat.values)\n",
        "#     plt.scatter(df_trip.lon.values[df_trip.pressure-bias > threshold], \\\n",
        "#                 df_trip.lat.values[df_trip.pressure-bias > threshold], c = 'orange')\n",
        "    \n",
        "#     plt.savefig(path_file)\n",
        "#     plt.close()"
      ],
      "execution_count": null,
      "outputs": []
    },
    {
      "cell_type": "code",
      "metadata": {
        "id": "VUrhk1xslBWE"
      },
      "source": [
        "bad_trip = ['P1111_9_SV_T1', 'P1111_13_SV_T6', 'P1111_41_SV_T2', 'P1111_46_SV_T5', 'P1111_52_SV_T1',\n",
        "            'P1112_4_SV_T2', 'P1112_26_SV_T5', 'P1112_36_SV_T1', 'P1112_36_SV_T2', 'P1113_41_SV_T3',\n",
        "           'P1113_50_SV_T2']\n",
        "\n",
        "no_loop = ['P1112_26_SV_T1', 'P1112_26_SV_T2', 'P1112_26_SV_T3', 'P1112_26_SV_T4']"
      ],
      "execution_count": null,
      "outputs": []
    },
    {
      "cell_type": "code",
      "metadata": {
        "id": "gbmPfofrlBWI"
      },
      "source": [
        "### remove bad data\n",
        "idx = df.index[[(t in bad_trip or t in no_loop) for t in df.trip]]\n",
        "df = df.drop(idx)"
      ],
      "execution_count": null,
      "outputs": []
    },
    {
      "cell_type": "code",
      "metadata": {
        "scrolled": true,
        "id": "BMlPJEqSlBWL",
        "outputId": "09128894-2284-465a-ea45-1abd19e30f42",
        "colab": {
          "base_uri": "https://localhost:8080/",
          "height": 35
        }
      },
      "source": [
        "len(df.trip.unique())"
      ],
      "execution_count": null,
      "outputs": [
        {
          "output_type": "execute_result",
          "data": {
            "text/plain": [
              "170"
            ]
          },
          "metadata": {
            "tags": []
          },
          "execution_count": 16
        }
      ]
    },
    {
      "cell_type": "markdown",
      "metadata": {
        "id": "FQs8vxWMlBWP"
      },
      "source": [
        "## Trip Statistics"
      ]
    },
    {
      "cell_type": "code",
      "metadata": {
        "id": "USFIntlilBWQ",
        "outputId": "e8d7049c-311c-4472-e7e6-bcd4bcae4635",
        "colab": {
          "base_uri": "https://localhost:8080/",
          "height": 424
        }
      },
      "source": [
        "df_trip = df[df.trip == 'P1108_4_SV_T1']\n",
        "df_trip"
      ],
      "execution_count": null,
      "outputs": [
        {
          "output_type": "execute_result",
          "data": {
            "text/html": [
              "<div>\n",
              "<style scoped>\n",
              "    .dataframe tbody tr th:only-of-type {\n",
              "        vertical-align: middle;\n",
              "    }\n",
              "\n",
              "    .dataframe tbody tr th {\n",
              "        vertical-align: top;\n",
              "    }\n",
              "\n",
              "    .dataframe thead th {\n",
              "        text-align: right;\n",
              "    }\n",
              "</style>\n",
              "<table border=\"1\" class=\"dataframe\">\n",
              "  <thead>\n",
              "    <tr style=\"text-align: right;\">\n",
              "      <th></th>\n",
              "      <th>trip</th>\n",
              "      <th>datetime</th>\n",
              "      <th>pressure</th>\n",
              "      <th>lon</th>\n",
              "      <th>lat</th>\n",
              "    </tr>\n",
              "  </thead>\n",
              "  <tbody>\n",
              "    <tr>\n",
              "      <th>0</th>\n",
              "      <td>P1108_4_SV_T1</td>\n",
              "      <td>2008-11-25 13:00:35</td>\n",
              "      <td>-0.35</td>\n",
              "      <td>-77.264128</td>\n",
              "      <td>-11.773317</td>\n",
              "    </tr>\n",
              "    <tr>\n",
              "      <th>1</th>\n",
              "      <td>P1108_4_SV_T1</td>\n",
              "      <td>2008-11-25 13:00:36</td>\n",
              "      <td>-0.38</td>\n",
              "      <td>-77.264118</td>\n",
              "      <td>-11.773235</td>\n",
              "    </tr>\n",
              "    <tr>\n",
              "      <th>2</th>\n",
              "      <td>P1108_4_SV_T1</td>\n",
              "      <td>2008-11-25 13:00:37</td>\n",
              "      <td>-0.35</td>\n",
              "      <td>-77.264098</td>\n",
              "      <td>-11.773152</td>\n",
              "    </tr>\n",
              "    <tr>\n",
              "      <th>3</th>\n",
              "      <td>P1108_4_SV_T1</td>\n",
              "      <td>2008-11-25 13:00:38</td>\n",
              "      <td>-0.29</td>\n",
              "      <td>-77.264113</td>\n",
              "      <td>-11.773060</td>\n",
              "    </tr>\n",
              "    <tr>\n",
              "      <th>4</th>\n",
              "      <td>P1108_4_SV_T1</td>\n",
              "      <td>2008-11-25 13:00:39</td>\n",
              "      <td>-0.29</td>\n",
              "      <td>-77.264142</td>\n",
              "      <td>-11.772955</td>\n",
              "    </tr>\n",
              "    <tr>\n",
              "      <th>...</th>\n",
              "      <td>...</td>\n",
              "      <td>...</td>\n",
              "      <td>...</td>\n",
              "      <td>...</td>\n",
              "      <td>...</td>\n",
              "    </tr>\n",
              "    <tr>\n",
              "      <th>6622</th>\n",
              "      <td>P1108_4_SV_T1</td>\n",
              "      <td>2008-11-25 14:50:57</td>\n",
              "      <td>-0.29</td>\n",
              "      <td>-77.264097</td>\n",
              "      <td>-11.773710</td>\n",
              "    </tr>\n",
              "    <tr>\n",
              "      <th>6623</th>\n",
              "      <td>P1108_4_SV_T1</td>\n",
              "      <td>2008-11-25 14:50:58</td>\n",
              "      <td>-0.29</td>\n",
              "      <td>-77.264223</td>\n",
              "      <td>-11.773817</td>\n",
              "    </tr>\n",
              "    <tr>\n",
              "      <th>6624</th>\n",
              "      <td>P1108_4_SV_T1</td>\n",
              "      <td>2008-11-25 14:50:59</td>\n",
              "      <td>-0.26</td>\n",
              "      <td>-77.264307</td>\n",
              "      <td>-11.773860</td>\n",
              "    </tr>\n",
              "    <tr>\n",
              "      <th>6625</th>\n",
              "      <td>P1108_4_SV_T1</td>\n",
              "      <td>2008-11-25 14:51:00</td>\n",
              "      <td>-0.22</td>\n",
              "      <td>-77.264363</td>\n",
              "      <td>-11.773875</td>\n",
              "    </tr>\n",
              "    <tr>\n",
              "      <th>6626</th>\n",
              "      <td>P1108_4_SV_T1</td>\n",
              "      <td>2008-11-25 14:51:01</td>\n",
              "      <td>-0.22</td>\n",
              "      <td>-77.264395</td>\n",
              "      <td>-11.773895</td>\n",
              "    </tr>\n",
              "  </tbody>\n",
              "</table>\n",
              "<p>6627 rows × 5 columns</p>\n",
              "</div>"
            ],
            "text/plain": [
              "               trip            datetime  pressure        lon        lat\n",
              "0     P1108_4_SV_T1 2008-11-25 13:00:35     -0.35 -77.264128 -11.773317\n",
              "1     P1108_4_SV_T1 2008-11-25 13:00:36     -0.38 -77.264118 -11.773235\n",
              "2     P1108_4_SV_T1 2008-11-25 13:00:37     -0.35 -77.264098 -11.773152\n",
              "3     P1108_4_SV_T1 2008-11-25 13:00:38     -0.29 -77.264113 -11.773060\n",
              "4     P1108_4_SV_T1 2008-11-25 13:00:39     -0.29 -77.264142 -11.772955\n",
              "...             ...                 ...       ...        ...        ...\n",
              "6622  P1108_4_SV_T1 2008-11-25 14:50:57     -0.29 -77.264097 -11.773710\n",
              "6623  P1108_4_SV_T1 2008-11-25 14:50:58     -0.29 -77.264223 -11.773817\n",
              "6624  P1108_4_SV_T1 2008-11-25 14:50:59     -0.26 -77.264307 -11.773860\n",
              "6625  P1108_4_SV_T1 2008-11-25 14:51:00     -0.22 -77.264363 -11.773875\n",
              "6626  P1108_4_SV_T1 2008-11-25 14:51:01     -0.22 -77.264395 -11.773895\n",
              "\n",
              "[6627 rows x 5 columns]"
            ]
          },
          "metadata": {
            "tags": []
          },
          "execution_count": 17
        }
      ]
    },
    {
      "cell_type": "code",
      "metadata": {
        "id": "S8VkUQ8VlBWT"
      },
      "source": [
        "def dist_ortho(lon1, lat1, lon2, lat2):\n",
        "    R = 6377726\n",
        "    pi = np.pi\n",
        "    a = np.sin((lat1 - lat2)/2*pi/180)**2\n",
        "    b = np.cos(lat1*pi/180)*np.cos(lat2*pi/180)\n",
        "    c = np.sin((lon1- lon2)/2* pi/180)**2\n",
        "    \n",
        "    dist = R * 2* np.arcsin( np.sqrt(a + b*c))\n",
        "    return dist\n",
        "\n",
        "def cap(lon1, lat1, lon2, lat2):\n",
        "    pi = np.pi\n",
        "    \n",
        "    # to radians\n",
        "    lat1 = lat1*pi/180\n",
        "    lat2 = lat2*pi/180\n",
        "    lon1 = lon1*pi/180\n",
        "    lon2 = lon2*pi/180\n",
        "    \n",
        "    delta_lon = lon2-lon1\n",
        "    \n",
        "    a = np.cos(lat1) * np.sin(lat2) - np.sin(lat1)*np.cos(lat2)*np.cos(delta_lon)\n",
        "    b = np.sin(delta_lon) * np.cos(lat2)\n",
        "    \n",
        "    cap = np.arctan2(b , a)\n",
        "    cap = cap%(2*pi)\n",
        "    \n",
        "    return cap*180/pi\n",
        "\n",
        "class Trip:\n",
        "    def __init__(self, df):\n",
        "        \n",
        "        self.df = df.set_index(np.arange(len(df)))  \n",
        "        \n",
        "        # matrix of distance\n",
        "        self.dist_matrix = np.zeros((len(self.df), len(self.df)))\n",
        "    \n",
        "    ### GENERAL STATISTICS ### -----------------------------------------------\n",
        "    \n",
        "    def get_duration(self):\n",
        "        return max(self.df.datetime) - min(self.df.datetime)\n",
        "    \n",
        "    def get_distance(self):\n",
        "        return sum(self.get_step())/1e3\n",
        "    \n",
        "    ### STEP-ANGLE PAIRS ### -----------------------------------------------\n",
        "    \n",
        "    def get_step(self):\n",
        "        n = len(self.df)\n",
        "        step = dist_ortho( self.df.lon.values[0:(n-1)], self.df.lat.values[0:(n-1)], self.df.lon.values[1:n], self.df.lat.values[1:n])\n",
        "        return step\n",
        "    \n",
        "    def add_step(self):\n",
        "        self.df['step'] = np.append(np.nan, self.get_step())\n",
        "        \n",
        "    def get_cap(self):\n",
        "        n = len(self.df)\n",
        "        c = cap( self.df.lon.values[0:(n-1)], self.df.lat.values[0:(n-1)], self.df.lon.values[1:n], self.df.lat.values[1:n])\n",
        "        return c\n",
        "    \n",
        "    def add_cap(self):\n",
        "        self.df['cap'] = np.append(np.nan, self.get_cap())\n",
        " \n",
        "    def get_direction(self):\n",
        "        direction = [d%360 - 360 if d%360 > 180 else d%360 for d in np.diff(self.get_cap())]\n",
        "        return np.array(direction)\n",
        "    \n",
        "    def add_direction(self):\n",
        "        a = np.empty(2)\n",
        "        a.fill(np.nan)\n",
        "        self.df['direction'] = np.append(a, self.get_direction())\n",
        "      \n",
        "    def plot(self):\n",
        "        \n",
        "        threshold = 1\n",
        "        bias = np.median(df_trip.pressure.values)\n",
        "        \n",
        "        plt.figure(figsize=(15, 3))\n",
        "\n",
        "        plt.subplot(1, 3, 1)\n",
        "        plt.plot(self.df.datetime.values, self.df.pressure.values)\n",
        "        plt.plot(self.df.datetime.values, [threshold+bias for i in range(len(self.df))], color = 'orange')\n",
        "\n",
        "        plt.subplot(1, 3, 2)\n",
        "        plt.plot(self.df.lon.values, self.df.lat.values)\n",
        "        plt.scatter(self.df.lon.values[self.df.pressure-bias > threshold], \\\n",
        "                    self.df.lat.values[self.df.pressure-bias > threshold], c = 'orange')\n",
        "        \n",
        "        plt.subplot(1, 3, 3)\n",
        "        plt.scatter(self.df.direction, self.df.step, alpha = 0.3)\n",
        "        plt.scatter(self.df.direction.values[self.df.pressure-bias > threshold],\n",
        "                    self.df.step.values[self.df.pressure-bias > threshold], c = 'orange')\n",
        "        \n",
        "    \n",
        "    ### AREA RESTRICTED RESEARCH ### -----------------------------------------------\n",
        "    \n",
        "    def compute_dist_matrix(self, verbose=True):\n",
        "        for i in range(len(self.df)):\n",
        "            lon1 = self.df.lon[[i for j in range(len(self.df))]]\n",
        "            lat1 = self.df.lat[[i for j in range(len(self.df))]]\n",
        "            lon2 = self.df.lon[[j for j in range(len(self.df))]]\n",
        "            lat2 = self.df.lat[[j for j in range(len(self.df))]]\n",
        "\n",
        "            self.dist_matrix[i, :] = dist_ortho(lon1.values, lat1.values, lon2.values, lat2.values)\n",
        "            \n",
        "            if verbose:\n",
        "                IPython.display.clear_output(wait=True)\n",
        "                print('Distance [{}/{}]'.format(i, len(self.df)))\n",
        "                \n",
        "    \n",
        "    def residence_time(self, radius):\n",
        "        residence_matrix = self.dist_matrix < radius\n",
        "        residence = [sum(residence_matrix[:,i]) for i in range(len(self.df))]\n",
        "        \n",
        "        return residence\n",
        "    \n",
        "    def first_time_passage(self, radius):\n",
        "        first_passage = np.zeros(len(t.df))\n",
        "        residence_matrix = self.dist_matrix < radius\n",
        "        \n",
        "        for i in range(len(self.df)):\n",
        "\n",
        "            idx = np.where(residence_matrix[:,i])[0]\n",
        "            delta = np.diff(idx)\n",
        "            \n",
        "            # get index start\n",
        "            i_start = i\n",
        "            while i_start in idx:\n",
        "                i_start -=1\n",
        "            \n",
        "            # get index end\n",
        "            i_end = i\n",
        "            while i_end in idx:\n",
        "                i_end +=1\n",
        "                \n",
        "            # get number of point\n",
        "            first_passage[i] = i_end-i_start+1\n",
        "            \n",
        "        return first_passage\n",
        "    ### -----------------------------------------------"
      ],
      "execution_count": null,
      "outputs": []
    },
    {
      "cell_type": "code",
      "metadata": {
        "id": "BRh2PMltlBWX"
      },
      "source": [
        "t = Trip(df_trip)\n",
        "t.add_step()\n",
        "t.add_direction()"
      ],
      "execution_count": null,
      "outputs": []
    },
    {
      "cell_type": "code",
      "metadata": {
        "id": "ALhefV1YlBWa",
        "outputId": "a8758400-d8e2-43cc-ece4-db5e02fcb50b",
        "colab": {
          "base_uri": "https://localhost:8080/",
          "height": 211
        }
      },
      "source": [
        "t.plot()"
      ],
      "execution_count": null,
      "outputs": [
        {
          "output_type": "display_data",
          "data": {
            "image/png": "[encoded data removed]",
            "text/plain": [
              "<Figure size 1080x216 with 3 Axes>"
            ]
          },
          "metadata": {
            "tags": [],
            "needs_background": "light"
          }
        }
      ]
    },
    {
      "cell_type": "code",
      "metadata": {
        "scrolled": true,
        "id": "elWsE3tYlBWd",
        "outputId": "40de0f9e-f14e-4b36-eedf-a31a7a453aca",
        "colab": {
          "base_uri": "https://localhost:8080/",
          "height": 35
        }
      },
      "source": [
        "t.get_duration()"
      ],
      "execution_count": null,
      "outputs": [
        {
          "output_type": "execute_result",
          "data": {
            "text/plain": [
              "Timedelta('0 days 01:50:26')"
            ]
          },
          "metadata": {
            "tags": []
          },
          "execution_count": 21
        }
      ]
    },
    {
      "cell_type": "code",
      "metadata": {
        "scrolled": true,
        "id": "61lUiLy0lBWh",
        "outputId": "55818aa1-8033-4423-a098-98a3ae42a0e5",
        "colab": {
          "base_uri": "https://localhost:8080/",
          "height": 35
        }
      },
      "source": [
        "t.get_distance()"
      ],
      "execution_count": null,
      "outputs": [
        {
          "output_type": "execute_result",
          "data": {
            "text/plain": [
              "88.1484595608965"
            ]
          },
          "metadata": {
            "tags": []
          },
          "execution_count": 22
        }
      ]
    },
    {
      "cell_type": "markdown",
      "metadata": {
        "id": "4QxYlxWFlBWl"
      },
      "source": [
        "## Area Restricted Research"
      ]
    },
    {
      "cell_type": "code",
      "metadata": {
        "id": "YkFf47ZDlBWm",
        "outputId": "140f8b75-7759-447d-9453-4201e7e7f5ba",
        "colab": {
          "base_uri": "https://localhost:8080/",
          "height": 72
        }
      },
      "source": [
        "%%time\n",
        "t.compute_dist_matrix()"
      ],
      "execution_count": null,
      "outputs": [
        {
          "output_type": "stream",
          "text": [
            "Distance [6626/6627]\n",
            "CPU times: user 2min 3s, sys: 6.76 s, total: 2min 10s\n",
            "Wall time: 2min 12s\n"
          ],
          "name": "stdout"
        }
      ]
    },
    {
      "cell_type": "code",
      "metadata": {
        "id": "2oYE9azUlBWp"
      },
      "source": [
        "radius=500\n",
        "residence = t.residence_time(radius)\n",
        "first_passage = t.first_time_passage(radius)"
      ],
      "execution_count": null,
      "outputs": []
    },
    {
      "cell_type": "code",
      "metadata": {
        "scrolled": false,
        "id": "Tq6J4pQJlBWs",
        "outputId": "fe860135-c778-44bc-a090-a81f04b7a189",
        "colab": {
          "base_uri": "https://localhost:8080/",
          "height": 555
        }
      },
      "source": [
        "tt = 170\n",
        "\n",
        "plt.figure(figsize=(9, 9))\n",
        "\n",
        "plt.subplot(2, 2, 1)\n",
        "plt.plot(residence)\n",
        "plt.plot(tt*np.ones(len(residence)), c = 'orange')\n",
        "\n",
        "plt.subplot(2, 2, 2)\n",
        "plt.plot(first_passage)\n",
        "plt.plot(tt*np.ones(len(residence)), c = 'orange')\n",
        "\n",
        "plt.subplot(2, 2, 3)\n",
        "plt.plot(t.df.lon.values, t.df.lat.values)\n",
        "plt.scatter(t.df.lon.values[np.array(residence)>tt], \\\n",
        "            t.df.lat.values[np.array(residence)>tt], c = 'orange')\n",
        "\n",
        "plt.subplot(2, 2, 4)\n",
        "plt.plot(t.df.lon.values, t.df.lat.values)\n",
        "plt.scatter(t.df.lon.values[np.array(first_passage)>tt], \\\n",
        "            t.df.lat.values[np.array(first_passage)>tt], c = 'orange')"
      ],
      "execution_count": null,
      "outputs": [
        {
          "output_type": "execute_result",
          "data": {
            "text/plain": [
              "<matplotlib.collections.PathCollection at 0x7f71df0927b8>"
            ]
          },
          "metadata": {
            "tags": []
          },
          "execution_count": 25
        },
        {
          "output_type": "display_data",
          "data": {
            "image/png": "[encoded data removed]",
            "text/plain": [
              "<Figure size 648x648 with 4 Axes>"
            ]
          },
          "metadata": {
            "tags": [],
            "needs_background": "light"
          }
        }
      ]
    },
    {
      "cell_type": "markdown",
      "metadata": {
        "id": "gaKHd3YUlBWv"
      },
      "source": [
        "Area Restricted Approach seems to be ok, but it can not distinguish resting from foraging.."
      ]
    },
    {
      "cell_type": "markdown",
      "metadata": {
        "id": "ZSqMbo6zlBWw"
      },
      "source": [
        "## Dive Prediction"
      ]
    },
    {
      "cell_type": "code",
      "metadata": {
        "id": "g2VFUCw8lBWx",
        "outputId": "c491cb10-7675-4d1b-f021-4cb2c088b3f3",
        "colab": {
          "base_uri": "https://localhost:8080/",
          "height": 424
        }
      },
      "source": [
        "# standardized trajectories\n",
        "df['lon_std'] = (df['lon'] - np.mean(df['lon']))/np.std(df['lon'])\n",
        "df['lat_std'] = (df['lat'] - np.mean(df['lat']))/np.std(df['lat'])\n",
        "df"
      ],
      "execution_count": null,
      "outputs": [
        {
          "output_type": "execute_result",
          "data": {
            "text/html": [
              "<div>\n",
              "<style scoped>\n",
              "    .dataframe tbody tr th:only-of-type {\n",
              "        vertical-align: middle;\n",
              "    }\n",
              "\n",
              "    .dataframe tbody tr th {\n",
              "        vertical-align: top;\n",
              "    }\n",
              "\n",
              "    .dataframe thead th {\n",
              "        text-align: right;\n",
              "    }\n",
              "</style>\n",
              "<table border=\"1\" class=\"dataframe\">\n",
              "  <thead>\n",
              "    <tr style=\"text-align: right;\">\n",
              "      <th></th>\n",
              "      <th>trip</th>\n",
              "      <th>datetime</th>\n",
              "      <th>pressure</th>\n",
              "      <th>lon</th>\n",
              "      <th>lat</th>\n",
              "      <th>lon_std</th>\n",
              "      <th>lat_std</th>\n",
              "    </tr>\n",
              "  </thead>\n",
              "  <tbody>\n",
              "    <tr>\n",
              "      <th>0</th>\n",
              "      <td>P1108_4_SV_T1</td>\n",
              "      <td>2008-11-25 13:00:35</td>\n",
              "      <td>-0.35</td>\n",
              "      <td>-77.264128</td>\n",
              "      <td>-11.773317</td>\n",
              "      <td>0.562664</td>\n",
              "      <td>0.267015</td>\n",
              "    </tr>\n",
              "    <tr>\n",
              "      <th>1</th>\n",
              "      <td>P1108_4_SV_T1</td>\n",
              "      <td>2008-11-25 13:00:36</td>\n",
              "      <td>-0.38</td>\n",
              "      <td>-77.264118</td>\n",
              "      <td>-11.773235</td>\n",
              "      <td>0.562767</td>\n",
              "      <td>0.267824</td>\n",
              "    </tr>\n",
              "    <tr>\n",
              "      <th>2</th>\n",
              "      <td>P1108_4_SV_T1</td>\n",
              "      <td>2008-11-25 13:00:37</td>\n",
              "      <td>-0.35</td>\n",
              "      <td>-77.264098</td>\n",
              "      <td>-11.773152</td>\n",
              "      <td>0.562974</td>\n",
              "      <td>0.268642</td>\n",
              "    </tr>\n",
              "    <tr>\n",
              "      <th>3</th>\n",
              "      <td>P1108_4_SV_T1</td>\n",
              "      <td>2008-11-25 13:00:38</td>\n",
              "      <td>-0.29</td>\n",
              "      <td>-77.264113</td>\n",
              "      <td>-11.773060</td>\n",
              "      <td>0.562819</td>\n",
              "      <td>0.269549</td>\n",
              "    </tr>\n",
              "    <tr>\n",
              "      <th>4</th>\n",
              "      <td>P1108_4_SV_T1</td>\n",
              "      <td>2008-11-25 13:00:39</td>\n",
              "      <td>-0.29</td>\n",
              "      <td>-77.264142</td>\n",
              "      <td>-11.772955</td>\n",
              "      <td>0.562519</td>\n",
              "      <td>0.270584</td>\n",
              "    </tr>\n",
              "    <tr>\n",
              "      <th>...</th>\n",
              "      <td>...</td>\n",
              "      <td>...</td>\n",
              "      <td>...</td>\n",
              "      <td>...</td>\n",
              "      <td>...</td>\n",
              "      <td>...</td>\n",
              "      <td>...</td>\n",
              "    </tr>\n",
              "    <tr>\n",
              "      <th>1035988</th>\n",
              "      <td>P1113_50_SV_T1</td>\n",
              "      <td>2013-11-24 13:09:17</td>\n",
              "      <td>-1.01</td>\n",
              "      <td>-77.264229</td>\n",
              "      <td>-11.773601</td>\n",
              "      <td>0.561618</td>\n",
              "      <td>0.264216</td>\n",
              "    </tr>\n",
              "    <tr>\n",
              "      <th>1035989</th>\n",
              "      <td>P1113_50_SV_T1</td>\n",
              "      <td>2013-11-24 13:09:18</td>\n",
              "      <td>-1.07</td>\n",
              "      <td>-77.264221</td>\n",
              "      <td>-11.773701</td>\n",
              "      <td>0.561701</td>\n",
              "      <td>0.263230</td>\n",
              "    </tr>\n",
              "    <tr>\n",
              "      <th>1035990</th>\n",
              "      <td>P1113_50_SV_T1</td>\n",
              "      <td>2013-11-24 13:09:19</td>\n",
              "      <td>-1.07</td>\n",
              "      <td>-77.264191</td>\n",
              "      <td>-11.773771</td>\n",
              "      <td>0.562012</td>\n",
              "      <td>0.262540</td>\n",
              "    </tr>\n",
              "    <tr>\n",
              "      <th>1035991</th>\n",
              "      <td>P1113_50_SV_T1</td>\n",
              "      <td>2013-11-24 13:09:20</td>\n",
              "      <td>-1.01</td>\n",
              "      <td>-77.264168</td>\n",
              "      <td>-11.773826</td>\n",
              "      <td>0.562250</td>\n",
              "      <td>0.261998</td>\n",
              "    </tr>\n",
              "    <tr>\n",
              "      <th>1035992</th>\n",
              "      <td>P1113_50_SV_T1</td>\n",
              "      <td>2013-11-24 13:09:21</td>\n",
              "      <td>-1.01</td>\n",
              "      <td>-77.264160</td>\n",
              "      <td>-11.773853</td>\n",
              "      <td>0.562333</td>\n",
              "      <td>0.261732</td>\n",
              "    </tr>\n",
              "  </tbody>\n",
              "</table>\n",
              "<p>862921 rows × 7 columns</p>\n",
              "</div>"
            ],
            "text/plain": [
              "                   trip            datetime  ...   lon_std   lat_std\n",
              "0         P1108_4_SV_T1 2008-11-25 13:00:35  ...  0.562664  0.267015\n",
              "1         P1108_4_SV_T1 2008-11-25 13:00:36  ...  0.562767  0.267824\n",
              "2         P1108_4_SV_T1 2008-11-25 13:00:37  ...  0.562974  0.268642\n",
              "3         P1108_4_SV_T1 2008-11-25 13:00:38  ...  0.562819  0.269549\n",
              "4         P1108_4_SV_T1 2008-11-25 13:00:39  ...  0.562519  0.270584\n",
              "...                 ...                 ...  ...       ...       ...\n",
              "1035988  P1113_50_SV_T1 2013-11-24 13:09:17  ...  0.561618  0.264216\n",
              "1035989  P1113_50_SV_T1 2013-11-24 13:09:18  ...  0.561701  0.263230\n",
              "1035990  P1113_50_SV_T1 2013-11-24 13:09:19  ...  0.562012  0.262540\n",
              "1035991  P1113_50_SV_T1 2013-11-24 13:09:20  ...  0.562250  0.261998\n",
              "1035992  P1113_50_SV_T1 2013-11-24 13:09:21  ...  0.562333  0.261732\n",
              "\n",
              "[862921 rows x 7 columns]"
            ]
          },
          "metadata": {
            "tags": []
          },
          "execution_count": 26
        }
      ]
    },
    {
      "cell_type": "code",
      "metadata": {
        "id": "fLC0RAsXlBW0",
        "outputId": "ceb6fba3-0190-446f-f9d4-777b7a3f659e",
        "colab": {
          "base_uri": "https://localhost:8080/",
          "height": 72
        }
      },
      "source": [
        "%%time\n",
        "\n",
        "trajs = []\n",
        "radius = 500\n",
        "n = 1\n",
        "for trip in df.trip.unique():\n",
        "    df_trip = df[df.trip == trip]\n",
        "    \n",
        "#     t = Trip(df_trip)\n",
        "#     t.compute_dist_matrix(verbose=False)\n",
        "#     first_passage = t.first_time_passage(radius)\n",
        "#     df_trip['first_time_passage'] = first_passage\n",
        "    \n",
        "    trajs.append(df_trip)\n",
        "    \n",
        "    IPython.display.clear_output(wait=True)\n",
        "    print('Trip [{}/{}]'.format(n, len(df.trip.unique())))\n",
        "    n+=1"
      ],
      "execution_count": null,
      "outputs": [
        {
          "output_type": "stream",
          "text": [
            "Trip [170/170]\n",
            "CPU times: user 19.1 s, sys: 261 ms, total: 19.4 s\n",
            "Wall time: 19.7 s\n"
          ],
          "name": "stdout"
        }
      ]
    },
    {
      "cell_type": "code",
      "metadata": {
        "id": "ictIDcImlBW2",
        "outputId": "97acc16b-e588-4002-ce72-7cfc19d3aed7",
        "colab": {
          "base_uri": "https://localhost:8080/",
          "height": 424
        }
      },
      "source": [
        "trajs[0]"
      ],
      "execution_count": null,
      "outputs": [
        {
          "output_type": "execute_result",
          "data": {
            "text/html": [
              "<div>\n",
              "<style scoped>\n",
              "    .dataframe tbody tr th:only-of-type {\n",
              "        vertical-align: middle;\n",
              "    }\n",
              "\n",
              "    .dataframe tbody tr th {\n",
              "        vertical-align: top;\n",
              "    }\n",
              "\n",
              "    .dataframe thead th {\n",
              "        text-align: right;\n",
              "    }\n",
              "</style>\n",
              "<table border=\"1\" class=\"dataframe\">\n",
              "  <thead>\n",
              "    <tr style=\"text-align: right;\">\n",
              "      <th></th>\n",
              "      <th>trip</th>\n",
              "      <th>datetime</th>\n",
              "      <th>pressure</th>\n",
              "      <th>lon</th>\n",
              "      <th>lat</th>\n",
              "      <th>lon_std</th>\n",
              "      <th>lat_std</th>\n",
              "    </tr>\n",
              "  </thead>\n",
              "  <tbody>\n",
              "    <tr>\n",
              "      <th>0</th>\n",
              "      <td>P1108_4_SV_T1</td>\n",
              "      <td>2008-11-25 13:00:35</td>\n",
              "      <td>-0.35</td>\n",
              "      <td>-77.264128</td>\n",
              "      <td>-11.773317</td>\n",
              "      <td>0.562664</td>\n",
              "      <td>0.267015</td>\n",
              "    </tr>\n",
              "    <tr>\n",
              "      <th>1</th>\n",
              "      <td>P1108_4_SV_T1</td>\n",
              "      <td>2008-11-25 13:00:36</td>\n",
              "      <td>-0.38</td>\n",
              "      <td>-77.264118</td>\n",
              "      <td>-11.773235</td>\n",
              "      <td>0.562767</td>\n",
              "      <td>0.267824</td>\n",
              "    </tr>\n",
              "    <tr>\n",
              "      <th>2</th>\n",
              "      <td>P1108_4_SV_T1</td>\n",
              "      <td>2008-11-25 13:00:37</td>\n",
              "      <td>-0.35</td>\n",
              "      <td>-77.264098</td>\n",
              "      <td>-11.773152</td>\n",
              "      <td>0.562974</td>\n",
              "      <td>0.268642</td>\n",
              "    </tr>\n",
              "    <tr>\n",
              "      <th>3</th>\n",
              "      <td>P1108_4_SV_T1</td>\n",
              "      <td>2008-11-25 13:00:38</td>\n",
              "      <td>-0.29</td>\n",
              "      <td>-77.264113</td>\n",
              "      <td>-11.773060</td>\n",
              "      <td>0.562819</td>\n",
              "      <td>0.269549</td>\n",
              "    </tr>\n",
              "    <tr>\n",
              "      <th>4</th>\n",
              "      <td>P1108_4_SV_T1</td>\n",
              "      <td>2008-11-25 13:00:39</td>\n",
              "      <td>-0.29</td>\n",
              "      <td>-77.264142</td>\n",
              "      <td>-11.772955</td>\n",
              "      <td>0.562519</td>\n",
              "      <td>0.270584</td>\n",
              "    </tr>\n",
              "    <tr>\n",
              "      <th>...</th>\n",
              "      <td>...</td>\n",
              "      <td>...</td>\n",
              "      <td>...</td>\n",
              "      <td>...</td>\n",
              "      <td>...</td>\n",
              "      <td>...</td>\n",
              "      <td>...</td>\n",
              "    </tr>\n",
              "    <tr>\n",
              "      <th>6622</th>\n",
              "      <td>P1108_4_SV_T1</td>\n",
              "      <td>2008-11-25 14:50:57</td>\n",
              "      <td>-0.29</td>\n",
              "      <td>-77.264097</td>\n",
              "      <td>-11.773710</td>\n",
              "      <td>0.562985</td>\n",
              "      <td>0.263141</td>\n",
              "    </tr>\n",
              "    <tr>\n",
              "      <th>6623</th>\n",
              "      <td>P1108_4_SV_T1</td>\n",
              "      <td>2008-11-25 14:50:58</td>\n",
              "      <td>-0.29</td>\n",
              "      <td>-77.264223</td>\n",
              "      <td>-11.773817</td>\n",
              "      <td>0.561680</td>\n",
              "      <td>0.262087</td>\n",
              "    </tr>\n",
              "    <tr>\n",
              "      <th>6624</th>\n",
              "      <td>P1108_4_SV_T1</td>\n",
              "      <td>2008-11-25 14:50:59</td>\n",
              "      <td>-0.26</td>\n",
              "      <td>-77.264307</td>\n",
              "      <td>-11.773860</td>\n",
              "      <td>0.560811</td>\n",
              "      <td>0.261663</td>\n",
              "    </tr>\n",
              "    <tr>\n",
              "      <th>6625</th>\n",
              "      <td>P1108_4_SV_T1</td>\n",
              "      <td>2008-11-25 14:51:00</td>\n",
              "      <td>-0.22</td>\n",
              "      <td>-77.264363</td>\n",
              "      <td>-11.773875</td>\n",
              "      <td>0.560231</td>\n",
              "      <td>0.261515</td>\n",
              "    </tr>\n",
              "    <tr>\n",
              "      <th>6626</th>\n",
              "      <td>P1108_4_SV_T1</td>\n",
              "      <td>2008-11-25 14:51:01</td>\n",
              "      <td>-0.22</td>\n",
              "      <td>-77.264395</td>\n",
              "      <td>-11.773895</td>\n",
              "      <td>0.559900</td>\n",
              "      <td>0.261318</td>\n",
              "    </tr>\n",
              "  </tbody>\n",
              "</table>\n",
              "<p>6627 rows × 7 columns</p>\n",
              "</div>"
            ],
            "text/plain": [
              "               trip            datetime  ...   lon_std   lat_std\n",
              "0     P1108_4_SV_T1 2008-11-25 13:00:35  ...  0.562664  0.267015\n",
              "1     P1108_4_SV_T1 2008-11-25 13:00:36  ...  0.562767  0.267824\n",
              "2     P1108_4_SV_T1 2008-11-25 13:00:37  ...  0.562974  0.268642\n",
              "3     P1108_4_SV_T1 2008-11-25 13:00:38  ...  0.562819  0.269549\n",
              "4     P1108_4_SV_T1 2008-11-25 13:00:39  ...  0.562519  0.270584\n",
              "...             ...                 ...  ...       ...       ...\n",
              "6622  P1108_4_SV_T1 2008-11-25 14:50:57  ...  0.562985  0.263141\n",
              "6623  P1108_4_SV_T1 2008-11-25 14:50:58  ...  0.561680  0.262087\n",
              "6624  P1108_4_SV_T1 2008-11-25 14:50:59  ...  0.560811  0.261663\n",
              "6625  P1108_4_SV_T1 2008-11-25 14:51:00  ...  0.560231  0.261515\n",
              "6626  P1108_4_SV_T1 2008-11-25 14:51:01  ...  0.559900  0.261318\n",
              "\n",
              "[6627 rows x 7 columns]"
            ]
          },
          "metadata": {
            "tags": []
          },
          "execution_count": 28
        }
      ]
    },
    {
      "cell_type": "code",
      "metadata": {
        "id": "cORGd8mjlBW5",
        "outputId": "ae04b816-28e9-4aac-be5e-333b39fa590e",
        "colab": {
          "base_uri": "https://localhost:8080/",
          "height": 35
        }
      },
      "source": [
        "epochs = 100\n",
        "\n",
        "extracted_trajs = []\n",
        "n = 0\n",
        "for dt in trajs:\n",
        "    n += 1\n",
        "    \n",
        "    threshold = 1\n",
        "    bias = np.median(dt.pressure.values)\n",
        "        \n",
        "    for i in range(len(dt)-epochs-1):\n",
        "        tt = dt[i:(i+epochs)]\n",
        "        \n",
        "        extracted_trajs.append((tt.loc[:,'lon_std':'lat_std'].values, tt.pressure.values-bias ))\n",
        "    \n",
        "    IPython.display.clear_output(wait=True)\n",
        "    print('Trip [{}/{}]'.format(n, len(df.trip.unique())))\n",
        "            \n",
        "random.shuffle(extracted_trajs)"
      ],
      "execution_count": null,
      "outputs": [
        {
          "output_type": "stream",
          "text": [
            "Trip [170/170]\n"
          ],
          "name": "stdout"
        }
      ]
    },
    {
      "cell_type": "code",
      "metadata": {
        "id": "7YYRF_8nlBW8",
        "outputId": "aa17e9a5-7a33-42d5-a9ad-dc3f47b6edee",
        "colab": {
          "base_uri": "https://localhost:8080/",
          "height": 483
        }
      },
      "source": [
        "plt.figure(figsize=(16, 8))\n",
        "\n",
        "n = 0\n",
        "for i in np.random.randint(0, high=len(extracted_trajs), size=8):\n",
        "    n += 1\n",
        "    \n",
        "    pos = extracted_trajs[i][0]\n",
        "    press = extracted_trajs[i][1]\n",
        "    \n",
        "    plt.subplot(2, 4, n)\n",
        "    plt.plot(pos[:,0], pos[:,1])\n",
        "    \n",
        "    #selecting the current axis\n",
        "    ax = plt.gca()\n",
        "    ax.set_aspect(1)\n",
        "    \n",
        "    plt.scatter(pos[press>1,0], pos[press>1,1], c = 'orange')\n",
        "    "
      ],
      "execution_count": null,
      "outputs": [
        {
          "output_type": "display_data",
          "data": {
            "image/png": "[encoded data removed]",
            "text/plain": [
              "<Figure size 1152x576 with 8 Axes>"
            ]
          },
          "metadata": {
            "tags": [],
            "needs_background": "light"
          }
        }
      ]
    },
    {
      "cell_type": "code",
      "metadata": {
        "id": "8TjRnS_6lBW_",
        "outputId": "c704ff2e-9234-435e-9313-b9023218d2e8",
        "colab": {
          "base_uri": "https://localhost:8080/",
          "height": 1000
        }
      },
      "source": [
        "## define labels\n",
        "extracted_trajs_labels = [(x, 1*(np.sum(y>1) >0)) for (x,y) in extracted_trajs]\n",
        "extracted_trajs_labels[0]"
      ],
      "execution_count": null,
      "outputs": [
        {
          "output_type": "execute_result",
          "data": {
            "text/plain": [
              "(array([[0.98523514, 0.01577407],\n",
              "        [0.98523514, 0.01577407],\n",
              "        [0.98523514, 0.01577407],\n",
              "        [0.98523514, 0.01577407],\n",
              "        [0.98523514, 0.01577407],\n",
              "        [0.98523514, 0.01577407],\n",
              "        [0.98523514, 0.01577407],\n",
              "        [0.98523514, 0.01577407],\n",
              "        [0.98523514, 0.01577407],\n",
              "        [0.98523514, 0.01577407],\n",
              "        [0.98523514, 0.01577407],\n",
              "        [0.98523514, 0.01577407],\n",
              "        [0.98523514, 0.01577407],\n",
              "        [0.98523514, 0.01577407],\n",
              "        [0.98523514, 0.01577407],\n",
              "        [0.98523514, 0.01577407],\n",
              "        [0.98523514, 0.01577407],\n",
              "        [0.98523514, 0.01577407],\n",
              "        [0.98523514, 0.01577407],\n",
              "        [0.98523514, 0.01577407],\n",
              "        [0.98523514, 0.01577407],\n",
              "        [0.98523514, 0.01577407],\n",
              "        [0.98523514, 0.01577407],\n",
              "        [0.98523514, 0.01577407],\n",
              "        [0.98523514, 0.01577407],\n",
              "        [0.98523514, 0.01577407],\n",
              "        [0.98523514, 0.01577407],\n",
              "        [0.98523514, 0.01577407],\n",
              "        [0.98523514, 0.01577407],\n",
              "        [0.98523514, 0.01577407],\n",
              "        [0.98523514, 0.01577407],\n",
              "        [0.98523514, 0.01577407],\n",
              "        [0.98523514, 0.01577407],\n",
              "        [0.98523514, 0.01577407],\n",
              "        [0.98523514, 0.01577407],\n",
              "        [0.98523514, 0.01577407],\n",
              "        [0.98523514, 0.01577407],\n",
              "        [0.98523514, 0.01577407],\n",
              "        [0.98523514, 0.01577407],\n",
              "        [0.98523514, 0.01577407],\n",
              "        [0.98523514, 0.01577407],\n",
              "        [0.98523514, 0.01577407],\n",
              "        [0.98523514, 0.01577407],\n",
              "        [0.98523514, 0.01577407],\n",
              "        [0.98523514, 0.01577407],\n",
              "        [0.98523514, 0.01577407],\n",
              "        [0.98523514, 0.01577407],\n",
              "        [0.98523514, 0.01577407],\n",
              "        [0.98523514, 0.01577407],\n",
              "        [0.98523514, 0.01577407],\n",
              "        [0.98523514, 0.01577407],\n",
              "        [0.98523514, 0.01577407],\n",
              "        [0.98523514, 0.01577407],\n",
              "        [0.98523514, 0.01577407],\n",
              "        [0.98523514, 0.01577407],\n",
              "        [0.98523514, 0.01577407],\n",
              "        [0.98523514, 0.01577407],\n",
              "        [0.98523514, 0.01577407],\n",
              "        [0.98523514, 0.01577407],\n",
              "        [0.98523514, 0.01577407],\n",
              "        [0.98523514, 0.01577407],\n",
              "        [0.98523514, 0.01577407],\n",
              "        [0.98523514, 0.01577407],\n",
              "        [0.98523514, 0.01577407],\n",
              "        [0.98523514, 0.01577407],\n",
              "        [0.98523514, 0.01577407],\n",
              "        [0.98523514, 0.01577407],\n",
              "        [0.98523514, 0.01577407],\n",
              "        [0.98523514, 0.01577407],\n",
              "        [0.98523514, 0.01577407],\n",
              "        [0.98523514, 0.01577407],\n",
              "        [0.98523514, 0.01577407],\n",
              "        [0.98523514, 0.01577407],\n",
              "        [0.98523514, 0.01577407],\n",
              "        [0.98523514, 0.01577407],\n",
              "        [0.98523514, 0.01577407],\n",
              "        [0.98523514, 0.01577407],\n",
              "        [0.98523514, 0.01577407],\n",
              "        [0.98523514, 0.01577407],\n",
              "        [0.98523514, 0.01577407],\n",
              "        [0.98523514, 0.01577407],\n",
              "        [0.98523514, 0.01577407],\n",
              "        [0.98523514, 0.01577407],\n",
              "        [0.98523514, 0.01577407],\n",
              "        [0.98523514, 0.01577407],\n",
              "        [0.98523514, 0.01577407],\n",
              "        [0.98523514, 0.01577407],\n",
              "        [0.98523514, 0.01577407],\n",
              "        [0.98523514, 0.01577407],\n",
              "        [0.98523514, 0.01577407],\n",
              "        [0.98523514, 0.01577407],\n",
              "        [0.98523514, 0.01577407],\n",
              "        [0.98523514, 0.01577407],\n",
              "        [0.98523514, 0.01577407],\n",
              "        [0.98523514, 0.01577407],\n",
              "        [0.98523514, 0.01577407],\n",
              "        [0.98523514, 0.01577407],\n",
              "        [0.98523514, 0.01577407],\n",
              "        [0.98523514, 0.01577407],\n",
              "        [0.98523514, 0.01577407]]), 0)"
            ]
          },
          "metadata": {
            "tags": []
          },
          "execution_count": 31
        }
      ]
    },
    {
      "cell_type": "code",
      "metadata": {
        "id": "6jBZj4YElBXB"
      },
      "source": [
        "# split dataset in train and test\n",
        "nb_test = round(len(extracted_trajs_labels)*0.2)\n",
        "\n",
        "test_trajs = extracted_trajs_labels[0:nb_test]\n",
        "train_trajs = extracted_trajs_labels[nb_test:len(extracted_trajs)]"
      ],
      "execution_count": null,
      "outputs": []
    },
    {
      "cell_type": "code",
      "metadata": {
        "id": "7AL5-abplBXE"
      },
      "source": [
        "# re-balanced dataset\n",
        "n = sum([ y for (x,y) in train_trajs])\n",
        "\n",
        "idx_ones = np.where([ y>0 for (x,y) in train_trajs])[0]\n",
        "idx_zeros = np.where([ y==0 for (x,y) in train_trajs])[0]\n",
        "idx_zeros = np.random.choice(idx_zeros, n, replace = False)\n",
        "\n",
        "train_trajs_balanced = [train_trajs[i] for i in idx_ones] + [train_trajs[i] for i in idx_zeros] \n",
        "random.shuffle(train_trajs_balanced)"
      ],
      "execution_count": null,
      "outputs": []
    },
    {
      "cell_type": "code",
      "metadata": {
        "id": "wrF2XR7KlBXG"
      },
      "source": [
        "fileObj = open('/content/drive/My Drive/data/train_dives.obj', 'wb')\n",
        "pickle.dump(train_trajs,fileObj)\n",
        "fileObj.close()\n",
        "\n",
        "fileObj = open('/content/drive/My Drive/data/test_dives.obj', 'wb')\n",
        "pickle.dump(test_trajs,fileObj)\n",
        "fileObj.close()"
      ],
      "execution_count": null,
      "outputs": []
    },
    {
      "cell_type": "code",
      "metadata": {
        "id": "MaOTUwij9uRq"
      },
      "source": [
        ""
      ],
      "execution_count": null,
      "outputs": []
    }
  ]
}