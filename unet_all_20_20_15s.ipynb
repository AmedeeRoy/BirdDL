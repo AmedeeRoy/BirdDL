{
  "nbformat": 4,
  "nbformat_minor": 0,
  "metadata": {
    "colab": {
      "name": "unet_all_20_20_15s.ipynb",
      "provenance": [],
      "include_colab_link": true
    },
    "kernelspec": {
      "display_name": "Python 3",
      "language": "python",
      "name": "python3"
    },
    "language_info": {
      "codemirror_mode": {
        "name": "ipython",
        "version": 3
      },
      "file_extension": ".py",
      "mimetype": "text/x-python",
      "name": "python",
      "nbconvert_exporter": "python",
      "pygments_lexer": "ipython3",
      "version": "3.7.4"
    }
  },
  "cells": [
    {
      "cell_type": "markdown",
      "metadata": {
        "id": "view-in-github",
        "colab_type": "text"
      },
      "source": [
        "<a href=\"https://colab.research.google.com/github/AmedeeRoy/BirdDL/blob/main/unet_all_20_20_15s.ipynb\" target=\"_parent\"><img src=\"https://colab.research.google.com/assets/colab-badge.svg\" alt=\"Open In Colab\"/></a>"
      ]
    },
    {
      "cell_type": "markdown",
      "metadata": {
        "id": "wk6zB5N3GZO9"
      },
      "source": [
        "# Dive Prediction - Deep Network\n",
        "\n",
        "*Predicting Seabird Diving Behaviour from GPS data*\n",
        "\n",
        "This notebook trains a neural network to predict seabirds' dives.\n",
        "\n",
        "Networks' characteristics:\n",
        "\n",
        "* *Trajectory window* : 60 x 5s\n",
        "* *Output resolution*: 60 x 5s\n",
        "* *Representation of trajectories* : Matrix Distance and Time series\n",
        "* *Layers* : convolutions"
      ]
    },
    {
      "cell_type": "markdown",
      "metadata": {
        "id": "kjVXwurrGghM"
      },
      "source": [
        "## connect to drive"
      ]
    },
    {
      "cell_type": "code",
      "metadata": {
        "colab": {
          "base_uri": "https://localhost:8080/"
        },
        "id": "cPOjT66sGf3Y",
        "outputId": "f06f9fc3-afd1-4676-f49d-064d5194770d"
      },
      "source": [
        "# mount google drive\n",
        "from google.colab import drive\n",
        "drive.mount(\"/content/drive/\")"
      ],
      "execution_count": 1,
      "outputs": [
        {
          "output_type": "stream",
          "text": [
            "Drive already mounted at /content/drive/; to attempt to forcibly remount, call drive.mount(\"/content/drive/\", force_remount=True).\n"
          ],
          "name": "stdout"
        }
      ]
    },
    {
      "cell_type": "code",
      "metadata": {
        "colab": {
          "base_uri": "https://localhost:8080/"
        },
        "id": "u2R6nZsEGp2v",
        "outputId": "37a73465-9ce9-45e5-fe35-317f5d62ebcd"
      },
      "source": [
        "%cd drive/My\\ Drive/"
      ],
      "execution_count": 2,
      "outputs": [
        {
          "output_type": "stream",
          "text": [
            "/content/drive/My Drive\n"
          ],
          "name": "stdout"
        }
      ]
    },
    {
      "cell_type": "markdown",
      "metadata": {
        "id": "Engz1noUG1yL"
      },
      "source": [
        "## load data"
      ]
    },
    {
      "cell_type": "code",
      "metadata": {
        "id": "vP2XmHbeGZO-"
      },
      "source": [
        "import pandas as pd\n",
        "import numpy as np\n",
        "import matplotlib.pyplot as plt\n",
        "\n",
        "import torch\n",
        "from torch import nn\n",
        "from torch.utils.data import DataLoader, Dataset\n",
        "from torchvision import transforms\n",
        "\n",
        "from utils.trip import * "
      ],
      "execution_count": 3,
      "outputs": []
    },
    {
      "cell_type": "code",
      "metadata": {
        "id": "XroT0Q5mGZO_"
      },
      "source": [
        "data_train = pd.read_csv('./data/data_train.csv')\n",
        "data_validation = pd.read_csv('./data/data_validation.csv')\n",
        "data_test = pd.read_csv('./data/data_test.csv')"
      ],
      "execution_count": 4,
      "outputs": []
    },
    {
      "cell_type": "markdown",
      "metadata": {
        "id": "2pnURReGyLju"
      },
      "source": [
        "## choose resolution"
      ]
    },
    {
      "cell_type": "code",
      "metadata": {
        "id": "91vOylAmyLju",
        "colab": {
          "base_uri": "https://localhost:8080/",
          "height": 206
        },
        "outputId": "4832dd3d-f7ad-406d-c66f-020bdcfbca25"
      },
      "source": [
        "resolution = 15\n",
        "\n",
        "data_train_new = change_resolution(data_train, resolution)\n",
        "data_validation_new = change_resolution(data_validation, resolution)\n",
        "data_test_new = change_resolution(data_test, resolution)\n",
        "\n",
        "data_train_new = standardize_data(data_train_new)\n",
        "data_validation_new = standardize_data(data_validation_new)\n",
        "data_test_new = standardize_data(data_test_new)\n",
        "\n",
        "data_train_new.head()"
      ],
      "execution_count": 9,
      "outputs": [
        {
          "output_type": "execute_result",
          "data": {
            "text/html": [
              "<div>\n",
              "<style scoped>\n",
              "    .dataframe tbody tr th:only-of-type {\n",
              "        vertical-align: middle;\n",
              "    }\n",
              "\n",
              "    .dataframe tbody tr th {\n",
              "        vertical-align: top;\n",
              "    }\n",
              "\n",
              "    .dataframe thead th {\n",
              "        text-align: right;\n",
              "    }\n",
              "</style>\n",
              "<table border=\"1\" class=\"dataframe\">\n",
              "  <thead>\n",
              "    <tr style=\"text-align: right;\">\n",
              "      <th></th>\n",
              "      <th>trip</th>\n",
              "      <th>datetime</th>\n",
              "      <th>lon</th>\n",
              "      <th>lat</th>\n",
              "      <th>gaps</th>\n",
              "      <th>dive</th>\n",
              "      <th>step_speed</th>\n",
              "      <th>step_direction</th>\n",
              "      <th>lon_std</th>\n",
              "      <th>lat_std</th>\n",
              "      <th>step_speed_std</th>\n",
              "      <th>step_direction_cos</th>\n",
              "      <th>step_direction_sin</th>\n",
              "    </tr>\n",
              "  </thead>\n",
              "  <tbody>\n",
              "    <tr>\n",
              "      <th>2</th>\n",
              "      <td>P1108_46_SV_T1</td>\n",
              "      <td>2008-12-05 15:13:09</td>\n",
              "      <td>-77.263615</td>\n",
              "      <td>-11.775112</td>\n",
              "      <td>0.0</td>\n",
              "      <td>0</td>\n",
              "      <td>10.023363</td>\n",
              "      <td>42.788613</td>\n",
              "      <td>1.442039</td>\n",
              "      <td>1.525760</td>\n",
              "      <td>0.550458</td>\n",
              "      <td>0.733865</td>\n",
              "      <td>0.679295</td>\n",
              "    </tr>\n",
              "    <tr>\n",
              "      <th>3</th>\n",
              "      <td>P1108_46_SV_T1</td>\n",
              "      <td>2008-12-05 15:13:24</td>\n",
              "      <td>-77.263573</td>\n",
              "      <td>-11.776292</td>\n",
              "      <td>0.0</td>\n",
              "      <td>0</td>\n",
              "      <td>8.761883</td>\n",
              "      <td>-50.098172</td>\n",
              "      <td>1.442725</td>\n",
              "      <td>1.510479</td>\n",
              "      <td>0.475309</td>\n",
              "      <td>0.641474</td>\n",
              "      <td>-0.767145</td>\n",
              "    </tr>\n",
              "    <tr>\n",
              "      <th>4</th>\n",
              "      <td>P1108_46_SV_T1</td>\n",
              "      <td>2008-12-05 15:13:39</td>\n",
              "      <td>-77.263908</td>\n",
              "      <td>-11.777598</td>\n",
              "      <td>0.0</td>\n",
              "      <td>0</td>\n",
              "      <td>9.992477</td>\n",
              "      <td>16.091597</td>\n",
              "      <td>1.437253</td>\n",
              "      <td>1.493566</td>\n",
              "      <td>0.548618</td>\n",
              "      <td>0.960820</td>\n",
              "      <td>0.277174</td>\n",
              "    </tr>\n",
              "    <tr>\n",
              "      <th>5</th>\n",
              "      <td>P1108_46_SV_T1</td>\n",
              "      <td>2008-12-05 15:13:54</td>\n",
              "      <td>-77.262973</td>\n",
              "      <td>-11.778582</td>\n",
              "      <td>0.0</td>\n",
              "      <td>0</td>\n",
              "      <td>9.972810</td>\n",
              "      <td>-57.024775</td>\n",
              "      <td>1.452525</td>\n",
              "      <td>1.480822</td>\n",
              "      <td>0.547447</td>\n",
              "      <td>0.544276</td>\n",
              "      <td>-0.838906</td>\n",
              "    </tr>\n",
              "    <tr>\n",
              "      <th>6</th>\n",
              "      <td>P1108_46_SV_T1</td>\n",
              "      <td>2008-12-05 15:14:09</td>\n",
              "      <td>-77.261763</td>\n",
              "      <td>-11.779738</td>\n",
              "      <td>0.0</td>\n",
              "      <td>0</td>\n",
              "      <td>12.282350</td>\n",
              "      <td>-2.769208</td>\n",
              "      <td>1.472290</td>\n",
              "      <td>1.465852</td>\n",
              "      <td>0.685031</td>\n",
              "      <td>0.998832</td>\n",
              "      <td>-0.048313</td>\n",
              "    </tr>\n",
              "  </tbody>\n",
              "</table>\n",
              "</div>"
            ],
            "text/plain": [
              "             trip             datetime  ...  step_direction_cos  step_direction_sin\n",
              "2  P1108_46_SV_T1  2008-12-05 15:13:09  ...            0.733865            0.679295\n",
              "3  P1108_46_SV_T1  2008-12-05 15:13:24  ...            0.641474           -0.767145\n",
              "4  P1108_46_SV_T1  2008-12-05 15:13:39  ...            0.960820            0.277174\n",
              "5  P1108_46_SV_T1  2008-12-05 15:13:54  ...            0.544276           -0.838906\n",
              "6  P1108_46_SV_T1  2008-12-05 15:14:09  ...            0.998832           -0.048313\n",
              "\n",
              "[5 rows x 13 columns]"
            ]
          },
          "metadata": {
            "tags": []
          },
          "execution_count": 9
        }
      ]
    },
    {
      "cell_type": "markdown",
      "metadata": {
        "id": "ywF0A-1tGZO_"
      },
      "source": [
        "## choose window"
      ]
    },
    {
      "cell_type": "code",
      "metadata": {
        "id": "rg_mIte9GZO_"
      },
      "source": [
        "# Hyperparameters\n",
        "window = 20\n",
        "variable = ('lon_std', 'lat_std', 'step_speed_std', 'step_direction_cos', 'step_direction_sin', 'gaps')\n",
        "\n",
        "train_set = TrajDataSet(data_train_new, window, variable)"
      ],
      "execution_count": 10,
      "outputs": []
    },
    {
      "cell_type": "code",
      "metadata": {
        "colab": {
          "base_uri": "https://localhost:8080/",
          "height": 565
        },
        "id": "G26yrGdUGZO_",
        "scrolled": false,
        "outputId": "88818442-abb3-4019-bd69-6a9f785a6cd5"
      },
      "source": [
        "plt.figure(figsize=(16, 10))library(RSQLite)\n",
        "library(crosstalk)\n",
        "library(plotly)\n",
        "library(lubridate)\n",
        "library(zoo)\n",
        "\n",
        "idx = np.random.randint(0, len(train_set), 4)\n",
        "\n",
        "k = -1\n",
        "for i in idx:\n",
        "    k += 1\n",
        "    traj, matrix_dist, dive = train_set[i]\n",
        "\n",
        "    plt.subplot(2,4, k+1)\n",
        "    plt.imshow(matrix_dist)\n",
        "\n",
        "    plt.subplot(2,4, k+5)\n",
        "    plt.plot(traj[0,:], traj[1,:])\n",
        "    plt.scatter(traj[0, np.array(dive, dtype = 'bool')], traj[1,np.array(dive, dtype = 'bool')], c='orange')"
      ],
      "execution_count": 11,
      "outputs": [
        {
          "output_type": "display_data",
          "data": {
            "image/png": "[encoded data removed]",
            "text/plain": [
              "<Figure size 1152x720 with 8 Axes>"
            ]
          },
          "metadata": {
            "tags": [],
            "needs_background": "light"
          }
        }
      ]
    },
    {
      "cell_type": "markdown",
      "metadata": {
        "id": "sJkiaEE2GZPA"
      },
      "source": [
        "# Neural Network"
      ]
    },
    {
      "cell_type": "code",
      "metadata": {
        "id": "VBznxgYEGZPA"
      },
      "source": [
        "# hyperparameters\n",
        "batch_size = 64\n",
        "\n",
        "## reduce size dataset\n",
        "train_set = TrajDataSet(data_train_new, window, variable, transform = ToTensor())\n",
        "validation_set = TrajDataSet(data_validation_new, window, variable, transform = ToTensor())\n",
        "\n",
        "train_loader = DataLoader(train_set, batch_size=batch_size, num_workers = 0, shuffle = True, drop_last=True)\n",
        "validation_loader = DataLoader(validation_set, batch_size=batch_size, num_workers = 0, shuffle = True, drop_last=True)"
      ],
      "execution_count": 12,
      "outputs": []
    },
    {
      "cell_type": "code",
      "metadata": {
        "id": "lhxDPuhUGZPB"
      },
      "source": [
        "class UNet(nn.Module):\n",
        "\n",
        "    def __init__(self):\n",
        "        super(UNet, self).__init__()\n",
        "\n",
        "        self.threshold = nn.Sequential(\n",
        "            nn.BatchNorm2d(1),\n",
        "            nn.Conv2d(1, 8, kernel_size = 1, stride = 1, padding = 0, dilation = 1, bias = True),\n",
        "            nn.ReLU()\n",
        "        )\n",
        "\n",
        "        self.cnn_input_1 = nn.Sequential(\n",
        "            nn.BatchNorm1d(8+6),\n",
        "            nn.Conv1d(8+6, 8, kernel_size = 5, stride = 1, padding = 2, dilation = 1),\n",
        "            nn.ReLU(),\n",
        "            nn.Conv1d(8, 8, kernel_size = 5, stride = 1, padding = 2, dilation = 1),\n",
        "            nn.ReLU()\n",
        "        )\n",
        "\n",
        "        self.pooling_1 = nn.Sequential(\n",
        "            nn.MaxPool1d(kernel_size = 5, stride = 2, padding = 2, dilation = 1)\n",
        "        )\n",
        "\n",
        "        self.cnn_input_2 = nn.Sequential(\n",
        "            nn.BatchNorm1d(8),\n",
        "            nn.Conv1d(8, 16, kernel_size = 5, stride = 1, padding = 2, dilation = 1),\n",
        "            nn.ReLU(),\n",
        "            nn.Conv1d(16, 16, kernel_size = 5, stride = 1, padding = 2, dilation = 1),\n",
        "            nn.ReLU()\n",
        "        )\n",
        "\n",
        "        self.pooling_2 = nn.Sequential(\n",
        "            nn.MaxPool1d(kernel_size = 5, stride = 2, padding = 2, dilation = 1)\n",
        "        )\n",
        "\n",
        "        self.cnn_input_3 = nn.Sequential(\n",
        "            nn.BatchNorm1d(16),\n",
        "            nn.Conv1d(16, 32,  kernel_size = 5, stride = 1, padding = 2, dilation = 1),\n",
        "            nn.ReLU(),\n",
        "            nn.Conv1d(32, 32,  kernel_size = 5, stride = 1, padding = 2, dilation = 1),\n",
        "            nn.ReLU()\n",
        "        )\n",
        "\n",
        "        self.upconv_2 = nn.Sequential(\n",
        "             nn.ConvTranspose1d(32, 16, kernel_size = 6, stride = 2, padding = 2, dilation = 1)\n",
        "         )\n",
        "\n",
        "        self.cnn_output_2 = nn.Sequential(\n",
        "            nn.BatchNorm1d(16*2),\n",
        "            nn.Conv1d(16*2, 16,  kernel_size = 5, stride = 1, padding = 2, dilation = 1),\n",
        "            nn.ReLU(),\n",
        "            nn.Conv1d(16, 16,  kernel_size = 5, stride = 1, padding = 2, dilation = 1),\n",
        "            nn.ReLU()\n",
        "        )\n",
        "\n",
        "        self.upconv_1 = nn.Sequential(\n",
        "             nn.ConvTranspose1d(16, 8, kernel_size = 6, stride = 2, padding = 2, dilation = 1)\n",
        "         )\n",
        "        \n",
        "        self.cnn_output_1 = nn.Sequential(\n",
        "            nn.BatchNorm1d(8*2),\n",
        "            nn.Conv1d(8*2, 8,  kernel_size = 5, stride = 1, padding = 2, dilation = 1),\n",
        "            nn.ReLU(),\n",
        "            nn.Conv1d(8, 4, kernel_size = 5, stride = 1, padding = 2, dilation = 1),\n",
        "            nn.ReLU(),\n",
        "            nn.Conv1d(4, 2, kernel_size = 5, stride = 1, padding = 2, dilation = 1),\n",
        "            nn.ReLU(),\n",
        "            nn.Conv1d(2, 1,  kernel_size = 5, stride = 1, padding = 2, dilation = 1)\n",
        "        )\n",
        "\n",
        "    def forward(self, x, y):\n",
        "        out = self.threshold(y)\n",
        "        out = torch.sum(out, 2)\n",
        "\n",
        "        out = torch.cat((out, x.squeeze(1)), 1)\n",
        "\n",
        "        out_1 = self.cnn_input_1(out)\n",
        "        out = self.pooling_1(out_1)\n",
        "        out_2 = self.cnn_input_2(out)\n",
        "        out = self.pooling_2(out_2)\n",
        "        out = self.cnn_input_3(out)\n",
        "\n",
        "        out = self.upconv_2(out)\n",
        "        out = torch.cat((out, out_2), 1)\n",
        "        out = self.cnn_output_2(out)\n",
        "\n",
        "        out = self.upconv_1(out)\n",
        "        out = torch.cat((out, out_1), 1)\n",
        "        out = self.cnn_output_1(out)\n",
        "\n",
        "\n",
        "        return out\n",
        "\n",
        "def get_score(out, y):\n",
        "    out, y = out.cpu(), y.cpu()\n",
        "    out = 1*(out>0)\n",
        "    true_positive = np.mean(out[y == True].numpy()) \n",
        "    true_negative = 1-np.mean(out[y == False].numpy())\n",
        "    \n",
        "    return (round(true_positive*100) , round(true_negative*100))"
      ],
      "execution_count": 13,
      "outputs": []
    },
    {
      "cell_type": "code",
      "metadata": {
        "colab": {
          "base_uri": "https://localhost:8080/"
        },
        "id": "Pnuy-AEw3NXQ",
        "outputId": "79f8f121-6dc4-49a6-d78d-c2384e2959be"
      },
      "source": [
        "# get sample\n",
        "x, y, z = next(iter(train_loader)) \n",
        "weight = torch.FloatTensor([30])\n",
        "\n",
        "# Forward model\n",
        "model = UNet()\n",
        "\n",
        "\n",
        "out = model.threshold(y)\n",
        "out = torch.sum(out, 2)\n",
        "\n",
        "out = torch.cat((out, x.squeeze(1)), 1)\n",
        "\n",
        "out_1 = model.cnn_input_1(out)\n",
        "out = model.pooling_1(out_1)\n",
        "out_2 = model.cnn_input_2(out)\n",
        "out = model.pooling_2(out_2)\n",
        "out = model.cnn_input_3(out)\n",
        "\n",
        "out = model.upconv_2(out)\n",
        "out = torch.cat((out, out_2), 1)\n",
        "out = model.cnn_output_2(out)\n",
        "\n",
        "out = model.upconv_1(out)\n",
        "out = torch.cat((out, out_1), 1)\n",
        "out = model.cnn_output_1(out)\n",
        "\n",
        "out.size()"
      ],
      "execution_count": 14,
      "outputs": [
        {
          "output_type": "execute_result",
          "data": {
            "text/plain": [
              "torch.Size([64, 1, 20])"
            ]
          },
          "metadata": {
            "tags": []
          },
          "execution_count": 14
        }
      ]
    },
    {
      "cell_type": "code",
      "metadata": {
        "colab": {
          "base_uri": "https://localhost:8080/"
        },
        "id": "lRi-Oun6GZPB",
        "outputId": "fdb1d868-5a7b-4c80-a00b-0cf3c2ecafe7"
      },
      "source": [
        "# get sample\n",
        "x, y, z = next(iter(train_loader)) \n",
        "weight = torch.FloatTensor([30])\n",
        "\n",
        "# Forward model\n",
        "model = UNet()\n",
        "\n",
        "out = model(x, y)\n",
        "\n",
        "# Loss and score\n",
        "learning_rate = 0.01\n",
        "optimizer = torch.optim.Adam(model.parameters(), lr=learning_rate)\n",
        "criterion = nn.BCEWithLogitsLoss(pos_weight = weight)\n",
        "criterion(out, z)\n",
        "get_score(out, z)"
      ],
      "execution_count": 15,
      "outputs": [
        {
          "output_type": "execute_result",
          "data": {
            "text/plain": [
              "(100.0, 0.0)"
            ]
          },
          "metadata": {
            "tags": []
          },
          "execution_count": 15
        }
      ]
    },
    {
      "cell_type": "code",
      "metadata": {
        "colab": {
          "base_uri": "https://localhost:8080/"
        },
        "id": "MrpxukCA-dg0",
        "outputId": "b9a2754e-0baa-40e6-c163-1fb9ea9e9d99"
      },
      "source": [
        "## get Loss weight\n",
        "torch.sum(z==z)/torch.sum(z)"
      ],
      "execution_count": 16,
      "outputs": [
        {
          "output_type": "execute_result",
          "data": {
            "text/plain": [
              "tensor(18.8235)"
            ]
          },
          "metadata": {
            "tags": []
          },
          "execution_count": 16
        }
      ]
    },
    {
      "cell_type": "markdown",
      "metadata": {
        "id": "hKIwYrQcGZPB"
      },
      "source": [
        "## Training"
      ]
    },
    {
      "cell_type": "code",
      "metadata": {
        "id": "WsK522IKGZPB"
      },
      "source": [
        "# switch to GPU\n",
        "model = UNet()\n",
        "device = torch.device('cuda' if torch.cuda.is_available() else 'cpu')\n",
        "model = model.to(device)\n",
        "weight = weight.to(device)\n",
        "criterion = nn.BCEWithLogitsLoss(pos_weight = weight)"
      ],
      "execution_count": 17,
      "outputs": []
    },
    {
      "cell_type": "code",
      "metadata": {
        "id": "0QzQPetaGZPB",
        "scrolled": true,
        "colab": {
          "base_uri": "https://localhost:8080/"
        },
        "outputId": "983639cf-9882-4061-f28a-ec043403d609"
      },
      "source": [
        "# Train the model\n",
        "nb_epoch = 10\n",
        "\n",
        "global_loss_train = []\n",
        "global_loss_validation = []\n",
        "    \n",
        "for epoch in range(nb_epoch):\n",
        "    learning_rate /= 10\n",
        "    optimizer = torch.optim.Adam(model.parameters(), lr=learning_rate)\n",
        "    i = 0\n",
        "    for batch, (x, y, z) in enumerate(train_loader):\n",
        "        i+=1\n",
        "        # send to GPU\n",
        "        x, y, z = x.to(device), y.to(device), z.to(device)\n",
        "\n",
        "        # Run the forward pass\n",
        "        out = model(x, y)\n",
        "        loss = criterion(out, z)\n",
        "        \n",
        "        # Backprop and perform optimisation\n",
        "        optimizer.zero_grad()\n",
        "        loss.backward()\n",
        "        optimizer.step()\n",
        "        \n",
        "    ### Evaluation + Validation every epoch\n",
        "    model.eval()\n",
        "    with torch.no_grad():      \n",
        "        j = 0\n",
        "        # evaluation\n",
        "        list_loss_train = []\n",
        "        list_score_train = []\n",
        "        for batch, (x, y, z) in enumerate(train_loader):\n",
        "            j+= 1\n",
        "            # send to GPU\n",
        "            x, y, z = x.to(device), y.to(device), z.to(device)\n",
        "\n",
        "            # Run the forward pass\n",
        "            out =  model(x, y)\n",
        "            loss = criterion(out, z)\n",
        "            score = get_score(out,z)\n",
        "            list_loss_train.append(loss.item())\n",
        "            list_score_train.append(score)\n",
        "        \n",
        "        train_loss = np.mean(list_loss_train)\n",
        "        train_trueP = np.mean([tp for (tp, tn) in list_score_train])\n",
        "        train_trueN = np.mean([tn for (tp, tn) in list_score_train])\n",
        "            \n",
        "        k = 0\n",
        "        # validation\n",
        "        list_loss_validation = []\n",
        "        list_score_validation = []\n",
        "        for batch, (x, y, z) in enumerate(validation_loader):\n",
        "            k+= 1\n",
        "            # send to GPU\n",
        "            x, y, z = x.to(device), y.to(device), z.to(device)\n",
        "\n",
        "            # Run the forward pass\n",
        "            out =  model(x, y)\n",
        "            loss = criterion(out, z)\n",
        "            score = get_score(out,z)library(RSQLite)\n",
        "library(crosstalk)\n",
        "library(plotly)\n",
        "library(lubridate)\n",
        "library(zoo)\n",
        "\n",
        "            list_loss_validation.append(loss.item())\n",
        "            list_score_validation.append(score)\n",
        "\n",
        "        validation_loss = np.mean(list_loss_validation)\n",
        "        validation_trueP = np.mean([tp for (tp, tn) in list_score_validation])\n",
        "        validation_trueN = np.mean([tn for (tp, tn) in list_score_validation])\n",
        "\n",
        "    print('Epoch [{}/{}] -------------------------------------------------------------------------------------'\n",
        "          .format(epoch+1, nb_epoch))\n",
        "    print('Train Loss: {}, Train True Positive : {} %, Train True Negative : {} %'\n",
        "            .format(round(train_loss, 2), round(train_trueP, 2), round(train_trueN, 2)))\n",
        "    print('Validation Loss: {}, Validation True Positive : {} %, Validation True Negative : {} %'\n",
        "            .format(round(validation_loss, 2), round(validation_trueP, 2), round(validation_trueN, 2)))\n",
        "    model.train()\n",
        "    \n",
        "    global_loss_train.append(train_loss)\n",
        "    global_loss_validation.append(validation_loss)\n",
        "\n",
        "    #### STOP WHEN VALIDATION DECREASE\n",
        "    if epoch>1:\n",
        "      if global_loss_validation[-2] < global_loss_validation[-1]:\n",
        "        break"
      ],
      "execution_count": 18,
      "outputs": [
        {
          "output_type": "stream",
          "text": [
            "Epoch [1/10] -------------------------------------------------------------------------------------\n",
            "Train Loss: 1.13, Train True Positive : 96.94 %, Train True Negative : 69.99 %\n",
            "Validation Loss: 1.36, Validation True Positive : 92.02 %, Validation True Negative : 63.77 %\n",
            "Epoch [2/10] -------------------------------------------------------------------------------------\n",
            "Train Loss: 1.1, Train True Positive : 97.53 %, Train True Negative : 70.32 %\n",
            "Validation Loss: 1.34, Validation True Positive : 93.3 %, Validation True Negative : 64.21 %\n",
            "Epoch [3/10] -------------------------------------------------------------------------------------\n",
            "Train Loss: 1.1, Train True Positive : 97.41 %, Train True Negative : 70.57 %\n",
            "Validation Loss: 1.34, Validation True Positive : 92.84 %, Validation True Negative : 64.81 %\n",
            "Epoch [4/10] -------------------------------------------------------------------------------------\n",
            "Train Loss: 1.1, Train True Positive : 97.57 %, Train True Negative : 69.98 %\n",
            "Validation Loss: 1.34, Validation True Positive : 92.91 %, Validation True Negative : 63.88 %\n"
          ],
          "name": "stdout"
        }
      ]
    },
    {
      "cell_type": "code",
      "metadata": {
        "id": "wR_bBBXMBRTB"
      },
      "source": [
        ""
      ],
      "execution_count": null,
      "outputs": []
    }
  ]
}