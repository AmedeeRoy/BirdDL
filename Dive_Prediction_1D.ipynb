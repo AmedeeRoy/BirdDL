{
  "nbformat": 4,
  "nbformat_minor": 0,
  "metadata": {
    "kernelspec": {
      "display_name": "Python 3",
      "language": "python",
      "name": "python3"
    },
    "language_info": {
      "codemirror_mode": {
        "name": "ipython",
        "version": 3
      },
      "file_extension": ".py",
      "mimetype": "text/x-python",
      "name": "python",
      "nbconvert_exporter": "python",
      "pygments_lexer": "ipython3",
      "version": "3.7.4"
    },
    "colab": {
      "name": "Dive Prediction - 1D.ipynb",
      "provenance": [],
      "collapsed_sections": [],
      "include_colab_link": true
    }
  },
  "cells": [
    {
      "cell_type": "markdown",
      "metadata": {
        "id": "view-in-github",
        "colab_type": "text"
      },
      "source": [
        "<a href=\"https://colab.research.google.com/github/AmedeeRoy/BirdDL/blob/main/Dive_Prediction_1D.ipynb\" target=\"_parent\"><img src=\"https://colab.research.google.com/assets/colab-badge.svg\" alt=\"Open In Colab\"/></a>"
      ]
    },
    {
      "cell_type": "markdown",
      "metadata": {
        "id": "AoTO8FyrlBU_"
      },
      "source": [
        "# Predicting Seabird Diving Behaviour with GPS data\n",
        "\n",
        "Supervized Learning with Deep Networks\n"
      ]
    },
    {
      "cell_type": "markdown",
      "metadata": {
        "id": "XpzHadDDlBVA"
      },
      "source": [
        "## Data Formatting"
      ]
    },
    {
      "cell_type": "code",
      "metadata": {
        "id": "7twgCfSglBVC"
      },
      "source": [
        "import sqlite3\n",
        "import pandas as pd\n",
        "import numpy as np\n",
        "import matplotlib.pyplot as plt\n",
        "import IPython\n",
        "import datetime\n",
        "import random\n",
        "import pickle"
      ],
      "execution_count": 1,
      "outputs": []
    },
    {
      "cell_type": "code",
      "metadata": {
        "id": "xzqhNXXnlMnI",
        "outputId": "85d5b3e0-f868-42f2-9d3c-95d7a13a1421",
        "colab": {
          "base_uri": "https://localhost:8080/",
          "height": 35
        }
      },
      "source": [
        "# mount google drive\n",
        "from google.colab import drive\n",
        "drive.mount(\"/content/drive/\")"
      ],
      "execution_count": 2,
      "outputs": [
        {
          "output_type": "stream",
          "text": [
            "Drive already mounted at /content/drive/; to attempt to forcibly remount, call drive.mount(\"/content/drive/\", force_remount=True).\n"
          ],
          "name": "stdout"
        }
      ]
    },
    {
      "cell_type": "code",
      "metadata": {
        "id": "SrinVr1QlBVN"
      },
      "source": [
        "# connect to database\n",
        "conn = sqlite3.connect('/content/drive/My Drive/data/seabirdbank.db')"
      ],
      "execution_count": 3,
      "outputs": []
    },
    {
      "cell_type": "code",
      "metadata": {
        "id": "MoUPeOCtlBVS",
        "outputId": "a0a805fc-a0fd-4deb-84ca-667c8a7ee7a9",
        "colab": {
          "base_uri": "https://localhost:8080/",
          "height": 35
        }
      },
      "source": [
        "request = \"SELECT DISTINCT lon, lat FROM fieldwork WHERE place='Pescadores'\"\n",
        "colony = pd.read_sql_query(request, conn)\n",
        "colony = colony.values\n",
        "colony"
      ],
      "execution_count": 4,
      "outputs": [
        {
          "output_type": "execute_result",
          "data": {
            "text/plain": [
              "array([[-77.264, -11.773]])"
            ]
          },
          "metadata": {
            "tags": []
          },
          "execution_count": 4
        }
      ]
    },
    {
      "cell_type": "code",
      "metadata": {
        "id": "W_twQSv0lBVZ",
        "outputId": "561f5581-c78f-4a1f-8f33-2b6cf5b3be8c",
        "colab": {
          "base_uri": "https://localhost:8080/",
          "height": 424
        }
      },
      "source": [
        "request = \"SELECT \\\n",
        "            trip.id as trip, gps.datetime, gps.lon, gps.lat\\\n",
        "            FROM gps \\\n",
        "            INNER JOIN trip ON gps.trip = trip.id \\\n",
        "            INNER JOIN bird ON trip.bird = bird.id \\\n",
        "            WHERE trip.file_gps IS NOT NULL \\\n",
        "            AND trip.file_tdr IS NOT NULL \\\n",
        "            AND (bird.fieldwork = 'P1108' OR bird.fieldwork = 'P1111' \\\n",
        "                OR bird.fieldwork = 'P1112' OR bird.fieldwork = 'P1113') \\\n",
        "            AND bird.species = 'SV'\"\n",
        "\n",
        "# substr(bird.fieldwork,1,1) = 'P'\n",
        "\n",
        "gps = pd.read_sql_query(request, conn)\n",
        "gps"
      ],
      "execution_count": 5,
      "outputs": [
        {
          "output_type": "execute_result",
          "data": {
            "text/html": [
              "<div>\n",
              "<style scoped>\n",
              "    .dataframe tbody tr th:only-of-type {\n",
              "        vertical-align: middle;\n",
              "    }\n",
              "\n",
              "    .dataframe tbody tr th {\n",
              "        vertical-align: top;\n",
              "    }\n",
              "\n",
              "    .dataframe thead th {\n",
              "        text-align: right;\n",
              "    }\n",
              "</style>\n",
              "<table border=\"1\" class=\"dataframe\">\n",
              "  <thead>\n",
              "    <tr style=\"text-align: right;\">\n",
              "      <th></th>\n",
              "      <th>trip</th>\n",
              "      <th>datetime</th>\n",
              "      <th>lon</th>\n",
              "      <th>lat</th>\n",
              "    </tr>\n",
              "  </thead>\n",
              "  <tbody>\n",
              "    <tr>\n",
              "      <th>0</th>\n",
              "      <td>P1108_4_SV_T1</td>\n",
              "      <td>2008-11-25 13:00:35</td>\n",
              "      <td>-77.264128</td>\n",
              "      <td>-11.773317</td>\n",
              "    </tr>\n",
              "    <tr>\n",
              "      <th>1</th>\n",
              "      <td>P1108_4_SV_T1</td>\n",
              "      <td>2008-11-25 13:00:36</td>\n",
              "      <td>-77.264118</td>\n",
              "      <td>-11.773235</td>\n",
              "    </tr>\n",
              "    <tr>\n",
              "      <th>2</th>\n",
              "      <td>P1108_4_SV_T1</td>\n",
              "      <td>2008-11-25 13:00:37</td>\n",
              "      <td>-77.264098</td>\n",
              "      <td>-11.773152</td>\n",
              "    </tr>\n",
              "    <tr>\n",
              "      <th>3</th>\n",
              "      <td>P1108_4_SV_T1</td>\n",
              "      <td>2008-11-25 13:00:38</td>\n",
              "      <td>-77.264113</td>\n",
              "      <td>-11.773060</td>\n",
              "    </tr>\n",
              "    <tr>\n",
              "      <th>4</th>\n",
              "      <td>P1108_4_SV_T1</td>\n",
              "      <td>2008-11-25 13:00:39</td>\n",
              "      <td>-77.264142</td>\n",
              "      <td>-11.772955</td>\n",
              "    </tr>\n",
              "    <tr>\n",
              "      <th>...</th>\n",
              "      <td>...</td>\n",
              "      <td>...</td>\n",
              "      <td>...</td>\n",
              "      <td>...</td>\n",
              "    </tr>\n",
              "    <tr>\n",
              "      <th>839803</th>\n",
              "      <td>P1113_50_SV_T2</td>\n",
              "      <td>2013-11-25 05:23:26</td>\n",
              "      <td>-77.264832</td>\n",
              "      <td>-11.773701</td>\n",
              "    </tr>\n",
              "    <tr>\n",
              "      <th>839804</th>\n",
              "      <td>P1113_50_SV_T2</td>\n",
              "      <td>2013-11-25 05:23:27</td>\n",
              "      <td>-77.264862</td>\n",
              "      <td>-11.773664</td>\n",
              "    </tr>\n",
              "    <tr>\n",
              "      <th>839805</th>\n",
              "      <td>P1113_50_SV_T2</td>\n",
              "      <td>2013-11-25 05:23:28</td>\n",
              "      <td>-77.264900</td>\n",
              "      <td>-11.773705</td>\n",
              "    </tr>\n",
              "    <tr>\n",
              "      <th>839806</th>\n",
              "      <td>P1113_50_SV_T2</td>\n",
              "      <td>2013-11-25 05:23:29</td>\n",
              "      <td>-77.264931</td>\n",
              "      <td>-11.773739</td>\n",
              "    </tr>\n",
              "    <tr>\n",
              "      <th>839807</th>\n",
              "      <td>P1113_50_SV_T2</td>\n",
              "      <td>2013-11-25 05:23:30</td>\n",
              "      <td>-77.264954</td>\n",
              "      <td>-11.773770</td>\n",
              "    </tr>\n",
              "  </tbody>\n",
              "</table>\n",
              "<p>839808 rows × 4 columns</p>\n",
              "</div>"
            ],
            "text/plain": [
              "                  trip             datetime        lon        lat\n",
              "0        P1108_4_SV_T1  2008-11-25 13:00:35 -77.264128 -11.773317\n",
              "1        P1108_4_SV_T1  2008-11-25 13:00:36 -77.264118 -11.773235\n",
              "2        P1108_4_SV_T1  2008-11-25 13:00:37 -77.264098 -11.773152\n",
              "3        P1108_4_SV_T1  2008-11-25 13:00:38 -77.264113 -11.773060\n",
              "4        P1108_4_SV_T1  2008-11-25 13:00:39 -77.264142 -11.772955\n",
              "...                ...                  ...        ...        ...\n",
              "839803  P1113_50_SV_T2  2013-11-25 05:23:26 -77.264832 -11.773701\n",
              "839804  P1113_50_SV_T2  2013-11-25 05:23:27 -77.264862 -11.773664\n",
              "839805  P1113_50_SV_T2  2013-11-25 05:23:28 -77.264900 -11.773705\n",
              "839806  P1113_50_SV_T2  2013-11-25 05:23:29 -77.264931 -11.773739\n",
              "839807  P1113_50_SV_T2  2013-11-25 05:23:30 -77.264954 -11.773770\n",
              "\n",
              "[839808 rows x 4 columns]"
            ]
          },
          "metadata": {
            "tags": []
          },
          "execution_count": 5
        }
      ]
    },
    {
      "cell_type": "code",
      "metadata": {
        "id": "_XhzjeSBlBVf"
      },
      "source": [
        "# check duplicated datetime in GPS trip\n",
        "idx = gps.index[gps.loc[:, 'trip':'datetime'].duplicated(keep=False)]\n",
        "idx_drop = [idx[i] for i in range(0, len(idx), 2)]\n",
        "gps = gps.drop(idx_drop)"
      ],
      "execution_count": 6,
      "outputs": []
    },
    {
      "cell_type": "code",
      "metadata": {
        "scrolled": true,
        "id": "R8KuhNs3lBVj",
        "outputId": "273ef7d5-9397-467c-d4ad-e2a322801356",
        "colab": {
          "base_uri": "https://localhost:8080/",
          "height": 49
        }
      },
      "source": [
        "gps[gps.loc[:, 'trip':'datetime'].duplicated(keep=False)]"
      ],
      "execution_count": 7,
      "outputs": [
        {
          "output_type": "execute_result",
          "data": {
            "text/html": [
              "<div>\n",
              "<style scoped>\n",
              "    .dataframe tbody tr th:only-of-type {\n",
              "        vertical-align: middle;\n",
              "    }\n",
              "\n",
              "    .dataframe tbody tr th {\n",
              "        vertical-align: top;\n",
              "    }\n",
              "\n",
              "    .dataframe thead th {\n",
              "        text-align: right;\n",
              "    }\n",
              "</style>\n",
              "<table border=\"1\" class=\"dataframe\">\n",
              "  <thead>\n",
              "    <tr style=\"text-align: right;\">\n",
              "      <th></th>\n",
              "      <th>trip</th>\n",
              "      <th>datetime</th>\n",
              "      <th>lon</th>\n",
              "      <th>lat</th>\n",
              "    </tr>\n",
              "  </thead>\n",
              "  <tbody>\n",
              "  </tbody>\n",
              "</table>\n",
              "</div>"
            ],
            "text/plain": [
              "Empty DataFrame\n",
              "Columns: [trip, datetime, lon, lat]\n",
              "Index: []"
            ]
          },
          "metadata": {
            "tags": []
          },
          "execution_count": 7
        }
      ]
    },
    {
      "cell_type": "code",
      "metadata": {
        "id": "Sw-ExcWzlBVq",
        "outputId": "fcb91711-2f38-4747-9da6-98ed06ac3b5c",
        "colab": {
          "base_uri": "https://localhost:8080/",
          "height": 424
        }
      },
      "source": [
        "request = \"SELECT \\\n",
        "            trip.id as trip, tdr.datetime, tdr.pressure \\\n",
        "            FROM tdr \\\n",
        "            INNER JOIN trip ON tdr.trip = trip.id \\\n",
        "            INNER JOIN bird ON trip.bird = bird.id \\\n",
        "            WHERE trip.file_gps IS NOT NULL \\\n",
        "            AND trip.file_tdr IS NOT NULL \\\n",
        "            AND (bird.fieldwork = 'P1108' OR bird.fieldwork = 'P1111' \\\n",
        "                OR bird.fieldwork = 'P1112' OR bird.fieldwork = 'P1113') \\\n",
        "            AND bird.species = 'SV'\"\n",
        "\n",
        "# WHERE substr(bird.fieldwork,1,1) = 'P' \n",
        "\n",
        "tdr = pd.read_sql_query(request, conn)\n",
        "tdr"
      ],
      "execution_count": 8,
      "outputs": [
        {
          "output_type": "execute_result",
          "data": {
            "text/html": [
              "<div>\n",
              "<style scoped>\n",
              "    .dataframe tbody tr th:only-of-type {\n",
              "        vertical-align: middle;\n",
              "    }\n",
              "\n",
              "    .dataframe tbody tr th {\n",
              "        vertical-align: top;\n",
              "    }\n",
              "\n",
              "    .dataframe thead th {\n",
              "        text-align: right;\n",
              "    }\n",
              "</style>\n",
              "<table border=\"1\" class=\"dataframe\">\n",
              "  <thead>\n",
              "    <tr style=\"text-align: right;\">\n",
              "      <th></th>\n",
              "      <th>trip</th>\n",
              "      <th>datetime</th>\n",
              "      <th>pressure</th>\n",
              "    </tr>\n",
              "  </thead>\n",
              "  <tbody>\n",
              "    <tr>\n",
              "      <th>0</th>\n",
              "      <td>P1108_4_SV_T1</td>\n",
              "      <td>2008-11-25 13:00:35</td>\n",
              "      <td>-0.35</td>\n",
              "    </tr>\n",
              "    <tr>\n",
              "      <th>1</th>\n",
              "      <td>P1108_4_SV_T1</td>\n",
              "      <td>2008-11-25 13:00:36</td>\n",
              "      <td>-0.38</td>\n",
              "    </tr>\n",
              "    <tr>\n",
              "      <th>2</th>\n",
              "      <td>P1108_4_SV_T1</td>\n",
              "      <td>2008-11-25 13:00:37</td>\n",
              "      <td>-0.35</td>\n",
              "    </tr>\n",
              "    <tr>\n",
              "      <th>3</th>\n",
              "      <td>P1108_4_SV_T1</td>\n",
              "      <td>2008-11-25 13:00:38</td>\n",
              "      <td>-0.29</td>\n",
              "    </tr>\n",
              "    <tr>\n",
              "      <th>4</th>\n",
              "      <td>P1108_4_SV_T1</td>\n",
              "      <td>2008-11-25 13:00:39</td>\n",
              "      <td>-0.29</td>\n",
              "    </tr>\n",
              "    <tr>\n",
              "      <th>...</th>\n",
              "      <td>...</td>\n",
              "      <td>...</td>\n",
              "      <td>...</td>\n",
              "    </tr>\n",
              "    <tr>\n",
              "      <th>1086337</th>\n",
              "      <td>P1113_50_SV_T2</td>\n",
              "      <td>2013-11-25 05:23:26</td>\n",
              "      <td>-0.94</td>\n",
              "    </tr>\n",
              "    <tr>\n",
              "      <th>1086338</th>\n",
              "      <td>P1113_50_SV_T2</td>\n",
              "      <td>2013-11-25 05:23:27</td>\n",
              "      <td>-0.94</td>\n",
              "    </tr>\n",
              "    <tr>\n",
              "      <th>1086339</th>\n",
              "      <td>P1113_50_SV_T2</td>\n",
              "      <td>2013-11-25 05:23:28</td>\n",
              "      <td>-0.94</td>\n",
              "    </tr>\n",
              "    <tr>\n",
              "      <th>1086340</th>\n",
              "      <td>P1113_50_SV_T2</td>\n",
              "      <td>2013-11-25 05:23:29</td>\n",
              "      <td>-0.94</td>\n",
              "    </tr>\n",
              "    <tr>\n",
              "      <th>1086341</th>\n",
              "      <td>P1113_50_SV_T2</td>\n",
              "      <td>2013-11-25 05:23:30</td>\n",
              "      <td>-0.94</td>\n",
              "    </tr>\n",
              "  </tbody>\n",
              "</table>\n",
              "<p>1086342 rows × 3 columns</p>\n",
              "</div>"
            ],
            "text/plain": [
              "                   trip             datetime  pressure\n",
              "0         P1108_4_SV_T1  2008-11-25 13:00:35     -0.35\n",
              "1         P1108_4_SV_T1  2008-11-25 13:00:36     -0.38\n",
              "2         P1108_4_SV_T1  2008-11-25 13:00:37     -0.35\n",
              "3         P1108_4_SV_T1  2008-11-25 13:00:38     -0.29\n",
              "4         P1108_4_SV_T1  2008-11-25 13:00:39     -0.29\n",
              "...                 ...                  ...       ...\n",
              "1086337  P1113_50_SV_T2  2013-11-25 05:23:26     -0.94\n",
              "1086338  P1113_50_SV_T2  2013-11-25 05:23:27     -0.94\n",
              "1086339  P1113_50_SV_T2  2013-11-25 05:23:28     -0.94\n",
              "1086340  P1113_50_SV_T2  2013-11-25 05:23:29     -0.94\n",
              "1086341  P1113_50_SV_T2  2013-11-25 05:23:30     -0.94\n",
              "\n",
              "[1086342 rows x 3 columns]"
            ]
          },
          "metadata": {
            "tags": []
          },
          "execution_count": 8
        }
      ]
    },
    {
      "cell_type": "code",
      "metadata": {
        "id": "FsLfaOzHlBVu"
      },
      "source": [
        "tdr['datetime'] = pd.to_datetime(tdr['datetime'], format='%Y-%m-%d %H:%M:%S')\n",
        "gps['datetime'] = pd.to_datetime(gps['datetime'], format='%Y-%m-%d %H:%M:%S')"
      ],
      "execution_count": 9,
      "outputs": []
    },
    {
      "cell_type": "code",
      "metadata": {
        "id": "3y-dQs7DlBVy",
        "outputId": "5a6ca95f-7c92-4143-923c-ad38735f2cf5",
        "colab": {
          "base_uri": "https://localhost:8080/",
          "height": 424
        }
      },
      "source": [
        "df = pd.merge(tdr, gps, on=['trip', 'datetime'], how='left')\n",
        "df"
      ],
      "execution_count": 10,
      "outputs": [
        {
          "output_type": "execute_result",
          "data": {
            "text/html": [
              "<div>\n",
              "<style scoped>\n",
              "    .dataframe tbody tr th:only-of-type {\n",
              "        vertical-align: middle;\n",
              "    }\n",
              "\n",
              "    .dataframe tbody tr th {\n",
              "        vertical-align: top;\n",
              "    }\n",
              "\n",
              "    .dataframe thead th {\n",
              "        text-align: right;\n",
              "    }\n",
              "</style>\n",
              "<table border=\"1\" class=\"dataframe\">\n",
              "  <thead>\n",
              "    <tr style=\"text-align: right;\">\n",
              "      <th></th>\n",
              "      <th>trip</th>\n",
              "      <th>datetime</th>\n",
              "      <th>pressure</th>\n",
              "      <th>lon</th>\n",
              "      <th>lat</th>\n",
              "    </tr>\n",
              "  </thead>\n",
              "  <tbody>\n",
              "    <tr>\n",
              "      <th>0</th>\n",
              "      <td>P1108_4_SV_T1</td>\n",
              "      <td>2008-11-25 13:00:35</td>\n",
              "      <td>-0.35</td>\n",
              "      <td>-77.264128</td>\n",
              "      <td>-11.773317</td>\n",
              "    </tr>\n",
              "    <tr>\n",
              "      <th>1</th>\n",
              "      <td>P1108_4_SV_T1</td>\n",
              "      <td>2008-11-25 13:00:36</td>\n",
              "      <td>-0.38</td>\n",
              "      <td>-77.264118</td>\n",
              "      <td>-11.773235</td>\n",
              "    </tr>\n",
              "    <tr>\n",
              "      <th>2</th>\n",
              "      <td>P1108_4_SV_T1</td>\n",
              "      <td>2008-11-25 13:00:37</td>\n",
              "      <td>-0.35</td>\n",
              "      <td>-77.264098</td>\n",
              "      <td>-11.773152</td>\n",
              "    </tr>\n",
              "    <tr>\n",
              "      <th>3</th>\n",
              "      <td>P1108_4_SV_T1</td>\n",
              "      <td>2008-11-25 13:00:38</td>\n",
              "      <td>-0.29</td>\n",
              "      <td>-77.264113</td>\n",
              "      <td>-11.773060</td>\n",
              "    </tr>\n",
              "    <tr>\n",
              "      <th>4</th>\n",
              "      <td>P1108_4_SV_T1</td>\n",
              "      <td>2008-11-25 13:00:39</td>\n",
              "      <td>-0.29</td>\n",
              "      <td>-77.264142</td>\n",
              "      <td>-11.772955</td>\n",
              "    </tr>\n",
              "    <tr>\n",
              "      <th>...</th>\n",
              "      <td>...</td>\n",
              "      <td>...</td>\n",
              "      <td>...</td>\n",
              "      <td>...</td>\n",
              "      <td>...</td>\n",
              "    </tr>\n",
              "    <tr>\n",
              "      <th>1086337</th>\n",
              "      <td>P1113_50_SV_T2</td>\n",
              "      <td>2013-11-25 05:23:26</td>\n",
              "      <td>-0.94</td>\n",
              "      <td>-77.264832</td>\n",
              "      <td>-11.773701</td>\n",
              "    </tr>\n",
              "    <tr>\n",
              "      <th>1086338</th>\n",
              "      <td>P1113_50_SV_T2</td>\n",
              "      <td>2013-11-25 05:23:27</td>\n",
              "      <td>-0.94</td>\n",
              "      <td>-77.264862</td>\n",
              "      <td>-11.773664</td>\n",
              "    </tr>\n",
              "    <tr>\n",
              "      <th>1086339</th>\n",
              "      <td>P1113_50_SV_T2</td>\n",
              "      <td>2013-11-25 05:23:28</td>\n",
              "      <td>-0.94</td>\n",
              "      <td>-77.264900</td>\n",
              "      <td>-11.773705</td>\n",
              "    </tr>\n",
              "    <tr>\n",
              "      <th>1086340</th>\n",
              "      <td>P1113_50_SV_T2</td>\n",
              "      <td>2013-11-25 05:23:29</td>\n",
              "      <td>-0.94</td>\n",
              "      <td>-77.264931</td>\n",
              "      <td>-11.773739</td>\n",
              "    </tr>\n",
              "    <tr>\n",
              "      <th>1086341</th>\n",
              "      <td>P1113_50_SV_T2</td>\n",
              "      <td>2013-11-25 05:23:30</td>\n",
              "      <td>-0.94</td>\n",
              "      <td>-77.264954</td>\n",
              "      <td>-11.773770</td>\n",
              "    </tr>\n",
              "  </tbody>\n",
              "</table>\n",
              "<p>1086342 rows × 5 columns</p>\n",
              "</div>"
            ],
            "text/plain": [
              "                   trip            datetime  pressure        lon        lat\n",
              "0         P1108_4_SV_T1 2008-11-25 13:00:35     -0.35 -77.264128 -11.773317\n",
              "1         P1108_4_SV_T1 2008-11-25 13:00:36     -0.38 -77.264118 -11.773235\n",
              "2         P1108_4_SV_T1 2008-11-25 13:00:37     -0.35 -77.264098 -11.773152\n",
              "3         P1108_4_SV_T1 2008-11-25 13:00:38     -0.29 -77.264113 -11.773060\n",
              "4         P1108_4_SV_T1 2008-11-25 13:00:39     -0.29 -77.264142 -11.772955\n",
              "...                 ...                 ...       ...        ...        ...\n",
              "1086337  P1113_50_SV_T2 2013-11-25 05:23:26     -0.94 -77.264832 -11.773701\n",
              "1086338  P1113_50_SV_T2 2013-11-25 05:23:27     -0.94 -77.264862 -11.773664\n",
              "1086339  P1113_50_SV_T2 2013-11-25 05:23:28     -0.94 -77.264900 -11.773705\n",
              "1086340  P1113_50_SV_T2 2013-11-25 05:23:29     -0.94 -77.264931 -11.773739\n",
              "1086341  P1113_50_SV_T2 2013-11-25 05:23:30     -0.94 -77.264954 -11.773770\n",
              "\n",
              "[1086342 rows x 5 columns]"
            ]
          },
          "metadata": {
            "tags": []
          },
          "execution_count": 10
        }
      ]
    },
    {
      "cell_type": "code",
      "metadata": {
        "id": "ezQ3WSrMlBV2"
      },
      "source": [
        "# check NaN and fill with interpolations\n",
        "[i for i, x in enumerate(df['lon'].isna()) if x]\n",
        "\n",
        "\n",
        "df['lon'] = df['lon'].interpolate(method='polynomial', order=2)\n",
        "df['lat'] = df['lat'].interpolate(method='polynomial', order=2)"
      ],
      "execution_count": 11,
      "outputs": []
    },
    {
      "cell_type": "code",
      "metadata": {
        "id": "-rMJhCx4lBV7",
        "outputId": "2e622d17-db16-4a01-f792-954a1fa7d5fa",
        "colab": {
          "base_uri": "https://localhost:8080/",
          "height": 35
        }
      },
      "source": [
        "len(df.trip.unique())"
      ],
      "execution_count": 12,
      "outputs": [
        {
          "output_type": "execute_result",
          "data": {
            "text/plain": [
              "185"
            ]
          },
          "metadata": {
            "tags": []
          },
          "execution_count": 12
        }
      ]
    },
    {
      "cell_type": "code",
      "metadata": {
        "id": "yPftDapClBV_"
      },
      "source": [
        "# threshold = 1\n",
        "# path_folder = \"./trajectory/\"\n",
        "\n",
        "# for t in df.trip.unique():\n",
        "    \n",
        "#     path_file = path_folder + t\n",
        "#     df_trip = df[df.trip == t]\n",
        "    \n",
        "#     bias = np.median(df_trip.pressure.values)\n",
        "  \n",
        "#     plt.figure(figsize=(9, 3))\n",
        "\n",
        "#     plt.subplot(1, 2, 1)\n",
        "#     plt.plot(df_trip.datetime.values, df_trip.pressure.values)\n",
        "#     plt.plot(df_trip.datetime.values, [threshold+bias for i in range(len(df_trip))], color = 'orange')\n",
        "\n",
        "#     plt.subplot(1, 2, 2)\n",
        "#     plt.plot(df_trip.lon.values, df_trip.lat.values)\n",
        "#     plt.scatter(df_trip.lon.values[df_trip.pressure-bias > threshold], \\\n",
        "#                 df_trip.lat.values[df_trip.pressure-bias > threshold], c = 'orange')\n",
        "    \n",
        "#     plt.savefig(path_file)\n",
        "#     plt.close()"
      ],
      "execution_count": 13,
      "outputs": []
    },
    {
      "cell_type": "code",
      "metadata": {
        "id": "VUrhk1xslBWE"
      },
      "source": [
        "bad_trip = ['P1111_9_SV_T1', 'P1111_13_SV_T6', 'P1111_41_SV_T2', 'P1111_46_SV_T5', 'P1111_52_SV_T1',\n",
        "            'P1112_4_SV_T2', 'P1112_26_SV_T5', 'P1112_36_SV_T1', 'P1112_36_SV_T2', 'P1113_41_SV_T3',\n",
        "           'P1113_50_SV_T2']\n",
        "\n",
        "no_loop = ['P1112_26_SV_T1', 'P1112_26_SV_T2', 'P1112_26_SV_T3', 'P1112_26_SV_T4']"
      ],
      "execution_count": 14,
      "outputs": []
    },
    {
      "cell_type": "code",
      "metadata": {
        "id": "gbmPfofrlBWI"
      },
      "source": [
        "### remove bad data\n",
        "idx = df.index[[(t in bad_trip or t in no_loop) for t in df.trip]]\n",
        "df = df.drop(idx)"
      ],
      "execution_count": 15,
      "outputs": []
    },
    {
      "cell_type": "code",
      "metadata": {
        "scrolled": true,
        "id": "BMlPJEqSlBWL",
        "outputId": "24c858d5-ee7e-4e07-a952-1c020b313422",
        "colab": {
          "base_uri": "https://localhost:8080/",
          "height": 35
        }
      },
      "source": [
        "len(df.trip.unique())"
      ],
      "execution_count": 16,
      "outputs": [
        {
          "output_type": "execute_result",
          "data": {
            "text/plain": [
              "170"
            ]
          },
          "metadata": {
            "tags": []
          },
          "execution_count": 16
        }
      ]
    },
    {
      "cell_type": "markdown",
      "metadata": {
        "id": "FQs8vxWMlBWP"
      },
      "source": [
        "## Trip Statistics"
      ]
    },
    {
      "cell_type": "code",
      "metadata": {
        "id": "USFIntlilBWQ",
        "outputId": "7c369197-1df7-415b-94ee-6e20f930f947",
        "colab": {
          "base_uri": "https://localhost:8080/",
          "height": 424
        }
      },
      "source": [
        "df_trip = df[df.trip == 'P1108_4_SV_T1']\n",
        "df_trip"
      ],
      "execution_count": 17,
      "outputs": [
        {
          "output_type": "execute_result",
          "data": {
            "text/html": [
              "<div>\n",
              "<style scoped>\n",
              "    .dataframe tbody tr th:only-of-type {\n",
              "        vertical-align: middle;\n",
              "    }\n",
              "\n",
              "    .dataframe tbody tr th {\n",
              "        vertical-align: top;\n",
              "    }\n",
              "\n",
              "    .dataframe thead th {\n",
              "        text-align: right;\n",
              "    }\n",
              "</style>\n",
              "<table border=\"1\" class=\"dataframe\">\n",
              "  <thead>\n",
              "    <tr style=\"text-align: right;\">\n",
              "      <th></th>\n",
              "      <th>trip</th>\n",
              "      <th>datetime</th>\n",
              "      <th>pressure</th>\n",
              "      <th>lon</th>\n",
              "      <th>lat</th>\n",
              "    </tr>\n",
              "  </thead>\n",
              "  <tbody>\n",
              "    <tr>\n",
              "      <th>0</th>\n",
              "      <td>P1108_4_SV_T1</td>\n",
              "      <td>2008-11-25 13:00:35</td>\n",
              "      <td>-0.35</td>\n",
              "      <td>-77.264128</td>\n",
              "      <td>-11.773317</td>\n",
              "    </tr>\n",
              "    <tr>\n",
              "      <th>1</th>\n",
              "      <td>P1108_4_SV_T1</td>\n",
              "      <td>2008-11-25 13:00:36</td>\n",
              "      <td>-0.38</td>\n",
              "      <td>-77.264118</td>\n",
              "      <td>-11.773235</td>\n",
              "    </tr>\n",
              "    <tr>\n",
              "      <th>2</th>\n",
              "      <td>P1108_4_SV_T1</td>\n",
              "      <td>2008-11-25 13:00:37</td>\n",
              "      <td>-0.35</td>\n",
              "      <td>-77.264098</td>\n",
              "      <td>-11.773152</td>\n",
              "    </tr>\n",
              "    <tr>\n",
              "      <th>3</th>\n",
              "      <td>P1108_4_SV_T1</td>\n",
              "      <td>2008-11-25 13:00:38</td>\n",
              "      <td>-0.29</td>\n",
              "      <td>-77.264113</td>\n",
              "      <td>-11.773060</td>\n",
              "    </tr>\n",
              "    <tr>\n",
              "      <th>4</th>\n",
              "      <td>P1108_4_SV_T1</td>\n",
              "      <td>2008-11-25 13:00:39</td>\n",
              "      <td>-0.29</td>\n",
              "      <td>-77.264142</td>\n",
              "      <td>-11.772955</td>\n",
              "    </tr>\n",
              "    <tr>\n",
              "      <th>...</th>\n",
              "      <td>...</td>\n",
              "      <td>...</td>\n",
              "      <td>...</td>\n",
              "      <td>...</td>\n",
              "      <td>...</td>\n",
              "    </tr>\n",
              "    <tr>\n",
              "      <th>6622</th>\n",
              "      <td>P1108_4_SV_T1</td>\n",
              "      <td>2008-11-25 14:50:57</td>\n",
              "      <td>-0.29</td>\n",
              "      <td>-77.264097</td>\n",
              "      <td>-11.773710</td>\n",
              "    </tr>\n",
              "    <tr>\n",
              "      <th>6623</th>\n",
              "      <td>P1108_4_SV_T1</td>\n",
              "      <td>2008-11-25 14:50:58</td>\n",
              "      <td>-0.29</td>\n",
              "      <td>-77.264223</td>\n",
              "      <td>-11.773817</td>\n",
              "    </tr>\n",
              "    <tr>\n",
              "      <th>6624</th>\n",
              "      <td>P1108_4_SV_T1</td>\n",
              "      <td>2008-11-25 14:50:59</td>\n",
              "      <td>-0.26</td>\n",
              "      <td>-77.264307</td>\n",
              "      <td>-11.773860</td>\n",
              "    </tr>\n",
              "    <tr>\n",
              "      <th>6625</th>\n",
              "      <td>P1108_4_SV_T1</td>\n",
              "      <td>2008-11-25 14:51:00</td>\n",
              "      <td>-0.22</td>\n",
              "      <td>-77.264363</td>\n",
              "      <td>-11.773875</td>\n",
              "    </tr>\n",
              "    <tr>\n",
              "      <th>6626</th>\n",
              "      <td>P1108_4_SV_T1</td>\n",
              "      <td>2008-11-25 14:51:01</td>\n",
              "      <td>-0.22</td>\n",
              "      <td>-77.264395</td>\n",
              "      <td>-11.773895</td>\n",
              "    </tr>\n",
              "  </tbody>\n",
              "</table>\n",
              "<p>6627 rows × 5 columns</p>\n",
              "</div>"
            ],
            "text/plain": [
              "               trip            datetime  pressure        lon        lat\n",
              "0     P1108_4_SV_T1 2008-11-25 13:00:35     -0.35 -77.264128 -11.773317\n",
              "1     P1108_4_SV_T1 2008-11-25 13:00:36     -0.38 -77.264118 -11.773235\n",
              "2     P1108_4_SV_T1 2008-11-25 13:00:37     -0.35 -77.264098 -11.773152\n",
              "3     P1108_4_SV_T1 2008-11-25 13:00:38     -0.29 -77.264113 -11.773060\n",
              "4     P1108_4_SV_T1 2008-11-25 13:00:39     -0.29 -77.264142 -11.772955\n",
              "...             ...                 ...       ...        ...        ...\n",
              "6622  P1108_4_SV_T1 2008-11-25 14:50:57     -0.29 -77.264097 -11.773710\n",
              "6623  P1108_4_SV_T1 2008-11-25 14:50:58     -0.29 -77.264223 -11.773817\n",
              "6624  P1108_4_SV_T1 2008-11-25 14:50:59     -0.26 -77.264307 -11.773860\n",
              "6625  P1108_4_SV_T1 2008-11-25 14:51:00     -0.22 -77.264363 -11.773875\n",
              "6626  P1108_4_SV_T1 2008-11-25 14:51:01     -0.22 -77.264395 -11.773895\n",
              "\n",
              "[6627 rows x 5 columns]"
            ]
          },
          "metadata": {
            "tags": []
          },
          "execution_count": 17
        }
      ]
    },
    {
      "cell_type": "code",
      "metadata": {
        "id": "S8VkUQ8VlBWT"
      },
      "source": [
        "def dist_ortho(lon1, lat1, lon2, lat2):\n",
        "    R = 6377726\n",
        "    pi = np.pi\n",
        "    a = np.sin((lat1 - lat2)/2*pi/180)**2\n",
        "    b = np.cos(lat1*pi/180)*np.cos(lat2*pi/180)\n",
        "    c = np.sin((lon1- lon2)/2* pi/180)**2\n",
        "    \n",
        "    dist = R * 2* np.arcsin( np.sqrt(a + b*c))\n",
        "    return dist\n",
        "\n",
        "def cap(lon1, lat1, lon2, lat2):\n",
        "    pi = np.pi\n",
        "    \n",
        "    # to radians\n",
        "    lat1 = lat1*pi/180\n",
        "    lat2 = lat2*pi/180\n",
        "    lon1 = lon1*pi/180\n",
        "    lon2 = lon2*pi/180\n",
        "    \n",
        "    delta_lon = lon2-lon1\n",
        "    \n",
        "    a = np.cos(lat1) * np.sin(lat2) - np.sin(lat1)*np.cos(lat2)*np.cos(delta_lon)\n",
        "    b = np.sin(delta_lon) * np.cos(lat2)\n",
        "    \n",
        "    cap = np.arctan2(b , a)\n",
        "    cap = cap%(2*pi)\n",
        "    \n",
        "    return cap*180/pi\n",
        "\n",
        "class Trip:\n",
        "    def __init__(self, df):\n",
        "        \n",
        "        self.df = df.set_index(np.arange(len(df)))  \n",
        "        \n",
        "        # matrix of distance\n",
        "        self.dist_matrix = np.zeros((len(self.df), len(self.df)))\n",
        "    \n",
        "    ### GENERAL STATISTICS ### -----------------------------------------------\n",
        "    \n",
        "    def get_duration(self):\n",
        "        return max(self.df.datetime) - min(self.df.datetime)\n",
        "    \n",
        "    def get_distance(self):\n",
        "        return sum(self.get_step())/1e3\n",
        "    \n",
        "    ### STEP-ANGLE PAIRS ### -----------------------------------------------\n",
        "    \n",
        "    def get_step(self):\n",
        "        n = len(self.df)\n",
        "        step = dist_ortho( self.df.lon.values[0:(n-1)], self.df.lat.values[0:(n-1)], self.df.lon.values[1:n], self.df.lat.values[1:n])\n",
        "        return step\n",
        "    \n",
        "    def add_step(self):\n",
        "        self.df['step'] = np.append(np.nan, self.get_step())\n",
        "        \n",
        "    def get_cap(self):\n",
        "        n = len(self.df)\n",
        "        c = cap( self.df.lon.values[0:(n-1)], self.df.lat.values[0:(n-1)], self.df.lon.values[1:n], self.df.lat.values[1:n])\n",
        "        return c\n",
        "    \n",
        "    def add_cap(self):\n",
        "        self.df['cap'] = np.append(np.nan, self.get_cap())\n",
        " \n",
        "    def get_direction(self):\n",
        "        direction = [d%360 - 360 if d%360 > 180 else d%360 for d in np.diff(self.get_cap())]\n",
        "        return np.array(direction)\n",
        "    \n",
        "    def add_direction(self):\n",
        "        a = np.empty(2)\n",
        "        a.fill(np.nan)\n",
        "        self.df['direction'] = np.append(a, self.get_direction())\n",
        "      \n",
        "    def plot(self):\n",
        "        \n",
        "        threshold = 1\n",
        "        bias = np.median(df_trip.pressure.values)\n",
        "        \n",
        "        plt.figure(figsize=(15, 3))\n",
        "\n",
        "        plt.subplot(1, 3, 1)\n",
        "        plt.plot(self.df.datetime.values, self.df.pressure.values)\n",
        "        plt.plot(self.df.datetime.values, [threshold+bias for i in range(len(self.df))], color = 'orange')\n",
        "\n",
        "        plt.subplot(1, 3, 2)\n",
        "        plt.plot(self.df.lon.values, self.df.lat.values)\n",
        "        plt.scatter(self.df.lon.values[self.df.pressure-bias > threshold], \\\n",
        "                    self.df.lat.values[self.df.pressure-bias > threshold], c = 'orange')\n",
        "        \n",
        "        plt.subplot(1, 3, 3)\n",
        "        plt.scatter(self.df.direction, self.df.step, alpha = 0.3)\n",
        "        plt.scatter(self.df.direction.values[self.df.pressure-bias > threshold],\n",
        "                    self.df.step.values[self.df.pressure-bias > threshold], c = 'orange')\n",
        "        \n",
        "    \n",
        "    ### AREA RESTRICTED RESEARCH ### -----------------------------------------------\n",
        "    \n",
        "    def compute_dist_matrix(self, verbose=True):\n",
        "        for i in range(len(self.df)):\n",
        "            lon1 = self.df.lon[[i for j in range(len(self.df))]]\n",
        "            lat1 = self.df.lat[[i for j in range(len(self.df))]]\n",
        "            lon2 = self.df.lon[[j for j in range(len(self.df))]]\n",
        "            lat2 = self.df.lat[[j for j in range(len(self.df))]]\n",
        "\n",
        "            self.dist_matrix[i, :] = dist_ortho(lon1.values, lat1.values, lon2.values, lat2.values)\n",
        "            \n",
        "            if verbose:\n",
        "                IPython.display.clear_output(wait=True)\n",
        "                print('Distance [{}/{}]'.format(i, len(self.df)))\n",
        "                \n",
        "    \n",
        "    def residence_time(self, radius):\n",
        "        residence_matrix = self.dist_matrix < radius\n",
        "        residence = [sum(residence_matrix[:,i]) for i in range(len(self.df))]\n",
        "        \n",
        "        return residence\n",
        "    \n",
        "    def first_time_passage(self, radius):\n",
        "        first_passage = np.zeros(len(t.df))\n",
        "        residence_matrix = self.dist_matrix < radius\n",
        "        \n",
        "        for i in range(len(self.df)):\n",
        "\n",
        "            idx = np.where(residence_matrix[:,i])[0]\n",
        "            delta = np.diff(idx)\n",
        "            \n",
        "            # get index start\n",
        "            i_start = i\n",
        "            while i_start in idx:\n",
        "                i_start -=1\n",
        "            \n",
        "            # get index end\n",
        "            i_end = i\n",
        "            while i_end in idx:\n",
        "                i_end +=1\n",
        "                \n",
        "            # get number of point\n",
        "            first_passage[i] = i_end-i_start+1\n",
        "            \n",
        "        return first_passage\n",
        "    ### -----------------------------------------------"
      ],
      "execution_count": 18,
      "outputs": []
    },
    {
      "cell_type": "code",
      "metadata": {
        "id": "BRh2PMltlBWX"
      },
      "source": [
        "t = Trip(df_trip)\n",
        "t.add_step()\n",
        "t.add_direction()"
      ],
      "execution_count": 19,
      "outputs": []
    },
    {
      "cell_type": "code",
      "metadata": {
        "id": "ALhefV1YlBWa",
        "outputId": "10a61500-6b41-4047-8204-c8f85f1cfc20",
        "colab": {
          "base_uri": "https://localhost:8080/",
          "height": 211
        }
      },
      "source": [
        "t.plot()"
      ],
      "execution_count": 20,
      "outputs": [
        {
          "output_type": "display_data",
          "data": {
            "image/png": "[encoded data removed]",
            "text/plain": [
              "<Figure size 1080x216 with 3 Axes>"
            ]
          },
          "metadata": {
            "tags": [],
            "needs_background": "light"
          }
        }
      ]
    },
    {
      "cell_type": "code",
      "metadata": {
        "scrolled": true,
        "id": "elWsE3tYlBWd",
        "outputId": "3a692105-a2db-4e12-aae7-4eb9aa3cc4cc",
        "colab": {
          "base_uri": "https://localhost:8080/",
          "height": 35
        }
      },
      "source": [
        "t.get_duration()"
      ],
      "execution_count": 21,
      "outputs": [
        {
          "output_type": "execute_result",
          "data": {
            "text/plain": [
              "Timedelta('0 days 01:50:26')"
            ]
          },
          "metadata": {
            "tags": []
          },
          "execution_count": 21
        }
      ]
    },
    {
      "cell_type": "code",
      "metadata": {
        "scrolled": true,
        "id": "61lUiLy0lBWh",
        "outputId": "67324de9-4ffa-4911-b51e-45f5f55158e1",
        "colab": {
          "base_uri": "https://localhost:8080/",
          "height": 35
        }
      },
      "source": [
        "t.get_distance()"
      ],
      "execution_count": 22,
      "outputs": [
        {
          "output_type": "execute_result",
          "data": {
            "text/plain": [
              "88.1484595608965"
            ]
          },
          "metadata": {
            "tags": []
          },
          "execution_count": 22
        }
      ]
    },
    {
      "cell_type": "markdown",
      "metadata": {
        "id": "4QxYlxWFlBWl"
      },
      "source": [
        "## Area Restricted Research"
      ]
    },
    {
      "cell_type": "code",
      "metadata": {
        "id": "YkFf47ZDlBWm",
        "outputId": "aeb1f5c8-d4a9-492d-f2f1-62b1cea99849",
        "colab": {
          "base_uri": "https://localhost:8080/",
          "height": 72
        }
      },
      "source": [
        "%%time\n",
        "t.compute_dist_matrix()"
      ],
      "execution_count": 23,
      "outputs": [
        {
          "output_type": "stream",
          "text": [
            "Distance [6626/6627]\n",
            "CPU times: user 2min 1s, sys: 6.4 s, total: 2min 7s\n",
            "Wall time: 2min 9s\n"
          ],
          "name": "stdout"
        }
      ]
    },
    {
      "cell_type": "code",
      "metadata": {
        "id": "2oYE9azUlBWp"
      },
      "source": [
        "radius=500\n",
        "residence = t.residence_time(radius)\n",
        "first_passage = t.first_time_passage(radius)"
      ],
      "execution_count": 24,
      "outputs": []
    },
    {
      "cell_type": "code",
      "metadata": {
        "scrolled": false,
        "id": "Tq6J4pQJlBWs",
        "outputId": "d7949bfe-36d6-4448-a8ba-b9171c0e4477",
        "colab": {
          "base_uri": "https://localhost:8080/",
          "height": 555
        }
      },
      "source": [
        "tt = 170\n",
        "\n",
        "plt.figure(figsize=(9, 9))\n",
        "\n",
        "plt.subplot(2, 2, 1)\n",
        "plt.plot(residence)\n",
        "plt.plot(tt*np.ones(len(residence)), c = 'orange')\n",
        "\n",
        "plt.subplot(2, 2, 2)\n",
        "plt.plot(first_passage)\n",
        "plt.plot(tt*np.ones(len(residence)), c = 'orange')\n",
        "\n",
        "plt.subplot(2, 2, 3)\n",
        "plt.plot(t.df.lon.values, t.df.lat.values)\n",
        "plt.scatter(t.df.lon.values[np.array(residence)>tt], \\\n",
        "            t.df.lat.values[np.array(residence)>tt], c = 'orange')\n",
        "\n",
        "plt.subplot(2, 2, 4)\n",
        "plt.plot(t.df.lon.values, t.df.lat.values)\n",
        "plt.scatter(t.df.lon.values[np.array(first_passage)>tt], \\\n",
        "            t.df.lat.values[np.array(first_passage)>tt], c = 'orange')"
      ],
      "execution_count": 25,
      "outputs": [
        {
          "output_type": "execute_result",
          "data": {
            "text/plain": [
              "<matplotlib.collections.PathCollection at 0x7f596076a9e8>"
            ]
          },
          "metadata": {
            "tags": []
          },
          "execution_count": 25
        },
        {
          "output_type": "display_data",
          "data": {
            "image/png": "[encoded data removed]",
            "text/plain": [
              "<Figure size 648x648 with 4 Axes>"
            ]
          },
          "metadata": {
            "tags": [],
            "needs_background": "light"
          }
        }
      ]
    },
    {
      "cell_type": "markdown",
      "metadata": {
        "id": "gaKHd3YUlBWv"
      },
      "source": [
        "Area Restricted Approach seems to be ok, but it can not distinguish resting from foraging.."
      ]
    },
    {
      "cell_type": "markdown",
      "metadata": {
        "id": "ZSqMbo6zlBWw"
      },
      "source": [
        "## Dive Prediction"
      ]
    },
    {
      "cell_type": "code",
      "metadata": {
        "id": "g2VFUCw8lBWx",
        "outputId": "166ffebb-38b5-428a-afb5-c491578e4291",
        "colab": {
          "base_uri": "https://localhost:8080/",
          "height": 424
        }
      },
      "source": [
        "# standardized trajectories\n",
        "df['lon_std'] = (df['lon'] - np.mean(df['lon']))/np.std(df['lon'])\n",
        "df['lat_std'] = (df['lat'] - np.mean(df['lat']))/np.std(df['lat'])\n",
        "df"
      ],
      "execution_count": 26,
      "outputs": [
        {
          "output_type": "execute_result",
          "data": {
            "text/html": [
              "<div>\n",
              "<style scoped>\n",
              "    .dataframe tbody tr th:only-of-type {\n",
              "        vertical-align: middle;\n",
              "    }\n",
              "\n",
              "    .dataframe tbody tr th {\n",
              "        vertical-align: top;\n",
              "    }\n",
              "\n",
              "    .dataframe thead th {\n",
              "        text-align: right;\n",
              "    }\n",
              "</style>\n",
              "<table border=\"1\" class=\"dataframe\">\n",
              "  <thead>\n",
              "    <tr style=\"text-align: right;\">\n",
              "      <th></th>\n",
              "      <th>trip</th>\n",
              "      <th>datetime</th>\n",
              "      <th>pressure</th>\n",
              "      <th>lon</th>\n",
              "      <th>lat</th>\n",
              "      <th>lon_std</th>\n",
              "      <th>lat_std</th>\n",
              "    </tr>\n",
              "  </thead>\n",
              "  <tbody>\n",
              "    <tr>\n",
              "      <th>0</th>\n",
              "      <td>P1108_4_SV_T1</td>\n",
              "      <td>2008-11-25 13:00:35</td>\n",
              "      <td>-0.35</td>\n",
              "      <td>-77.264128</td>\n",
              "      <td>-11.773317</td>\n",
              "      <td>0.562664</td>\n",
              "      <td>0.267015</td>\n",
              "    </tr>\n",
              "    <tr>\n",
              "      <th>1</th>\n",
              "      <td>P1108_4_SV_T1</td>\n",
              "      <td>2008-11-25 13:00:36</td>\n",
              "      <td>-0.38</td>\n",
              "      <td>-77.264118</td>\n",
              "      <td>-11.773235</td>\n",
              "      <td>0.562767</td>\n",
              "      <td>0.267824</td>\n",
              "    </tr>\n",
              "    <tr>\n",
              "      <th>2</th>\n",
              "      <td>P1108_4_SV_T1</td>\n",
              "      <td>2008-11-25 13:00:37</td>\n",
              "      <td>-0.35</td>\n",
              "      <td>-77.264098</td>\n",
              "      <td>-11.773152</td>\n",
              "      <td>0.562974</td>\n",
              "      <td>0.268642</td>\n",
              "    </tr>\n",
              "    <tr>\n",
              "      <th>3</th>\n",
              "      <td>P1108_4_SV_T1</td>\n",
              "      <td>2008-11-25 13:00:38</td>\n",
              "      <td>-0.29</td>\n",
              "      <td>-77.264113</td>\n",
              "      <td>-11.773060</td>\n",
              "      <td>0.562819</td>\n",
              "      <td>0.269549</td>\n",
              "    </tr>\n",
              "    <tr>\n",
              "      <th>4</th>\n",
              "      <td>P1108_4_SV_T1</td>\n",
              "      <td>2008-11-25 13:00:39</td>\n",
              "      <td>-0.29</td>\n",
              "      <td>-77.264142</td>\n",
              "      <td>-11.772955</td>\n",
              "      <td>0.562519</td>\n",
              "      <td>0.270584</td>\n",
              "    </tr>\n",
              "    <tr>\n",
              "      <th>...</th>\n",
              "      <td>...</td>\n",
              "      <td>...</td>\n",
              "      <td>...</td>\n",
              "      <td>...</td>\n",
              "      <td>...</td>\n",
              "      <td>...</td>\n",
              "      <td>...</td>\n",
              "    </tr>\n",
              "    <tr>\n",
              "      <th>1035988</th>\n",
              "      <td>P1113_50_SV_T1</td>\n",
              "      <td>2013-11-24 13:09:17</td>\n",
              "      <td>-1.01</td>\n",
              "      <td>-77.264229</td>\n",
              "      <td>-11.773601</td>\n",
              "      <td>0.561618</td>\n",
              "      <td>0.264216</td>\n",
              "    </tr>\n",
              "    <tr>\n",
              "      <th>1035989</th>\n",
              "      <td>P1113_50_SV_T1</td>\n",
              "      <td>2013-11-24 13:09:18</td>\n",
              "      <td>-1.07</td>\n",
              "      <td>-77.264221</td>\n",
              "      <td>-11.773701</td>\n",
              "      <td>0.561701</td>\n",
              "      <td>0.263230</td>\n",
              "    </tr>\n",
              "    <tr>\n",
              "      <th>1035990</th>\n",
              "      <td>P1113_50_SV_T1</td>\n",
              "      <td>2013-11-24 13:09:19</td>\n",
              "      <td>-1.07</td>\n",
              "      <td>-77.264191</td>\n",
              "      <td>-11.773771</td>\n",
              "      <td>0.562012</td>\n",
              "      <td>0.262540</td>\n",
              "    </tr>\n",
              "    <tr>\n",
              "      <th>1035991</th>\n",
              "      <td>P1113_50_SV_T1</td>\n",
              "      <td>2013-11-24 13:09:20</td>\n",
              "      <td>-1.01</td>\n",
              "      <td>-77.264168</td>\n",
              "      <td>-11.773826</td>\n",
              "      <td>0.562250</td>\n",
              "      <td>0.261998</td>\n",
              "    </tr>\n",
              "    <tr>\n",
              "      <th>1035992</th>\n",
              "      <td>P1113_50_SV_T1</td>\n",
              "      <td>2013-11-24 13:09:21</td>\n",
              "      <td>-1.01</td>\n",
              "      <td>-77.264160</td>\n",
              "      <td>-11.773853</td>\n",
              "      <td>0.562333</td>\n",
              "      <td>0.261732</td>\n",
              "    </tr>\n",
              "  </tbody>\n",
              "</table>\n",
              "<p>862921 rows × 7 columns</p>\n",
              "</div>"
            ],
            "text/plain": [
              "                   trip            datetime  ...   lon_std   lat_std\n",
              "0         P1108_4_SV_T1 2008-11-25 13:00:35  ...  0.562664  0.267015\n",
              "1         P1108_4_SV_T1 2008-11-25 13:00:36  ...  0.562767  0.267824\n",
              "2         P1108_4_SV_T1 2008-11-25 13:00:37  ...  0.562974  0.268642\n",
              "3         P1108_4_SV_T1 2008-11-25 13:00:38  ...  0.562819  0.269549\n",
              "4         P1108_4_SV_T1 2008-11-25 13:00:39  ...  0.562519  0.270584\n",
              "...                 ...                 ...  ...       ...       ...\n",
              "1035988  P1113_50_SV_T1 2013-11-24 13:09:17  ...  0.561618  0.264216\n",
              "1035989  P1113_50_SV_T1 2013-11-24 13:09:18  ...  0.561701  0.263230\n",
              "1035990  P1113_50_SV_T1 2013-11-24 13:09:19  ...  0.562012  0.262540\n",
              "1035991  P1113_50_SV_T1 2013-11-24 13:09:20  ...  0.562250  0.261998\n",
              "1035992  P1113_50_SV_T1 2013-11-24 13:09:21  ...  0.562333  0.261732\n",
              "\n",
              "[862921 rows x 7 columns]"
            ]
          },
          "metadata": {
            "tags": []
          },
          "execution_count": 26
        }
      ]
    },
    {
      "cell_type": "code",
      "metadata": {
        "id": "fLC0RAsXlBW0",
        "outputId": "d41b628b-6805-4ec0-cef1-01c75b703f63",
        "colab": {
          "base_uri": "https://localhost:8080/",
          "height": 72
        }
      },
      "source": [
        "%%time\n",
        "\n",
        "trajs = []\n",
        "radius = 500\n",
        "n = 1\n",
        "for trip in df.trip.unique():\n",
        "    df_trip = df[df.trip == trip]\n",
        "    \n",
        "#     t = Trip(df_trip)\n",
        "#     t.compute_dist_matrix(verbose=False)\n",
        "#     first_passage = t.first_time_passage(radius)\n",
        "#     df_trip['first_time_passage'] = first_passage\n",
        "    \n",
        "    trajs.append(df_trip)\n",
        "    \n",
        "    IPython.display.clear_output(wait=True)\n",
        "    print('Trip [{}/{}]'.format(n, len(df.trip.unique())))\n",
        "    n+=1"
      ],
      "execution_count": 27,
      "outputs": [
        {
          "output_type": "stream",
          "text": [
            "Trip [170/170]\n",
            "CPU times: user 19.1 s, sys: 265 ms, total: 19.4 s\n",
            "Wall time: 19.4 s\n"
          ],
          "name": "stdout"
        }
      ]
    },
    {
      "cell_type": "code",
      "metadata": {
        "id": "ictIDcImlBW2",
        "outputId": "be242d8a-b95c-4a57-80f6-d3e3ee985071",
        "colab": {
          "base_uri": "https://localhost:8080/",
          "height": 424
        }
      },
      "source": [
        "trajs[0]"
      ],
      "execution_count": 28,
      "outputs": [
        {
          "output_type": "execute_result",
          "data": {
            "text/html": [
              "<div>\n",
              "<style scoped>\n",
              "    .dataframe tbody tr th:only-of-type {\n",
              "        vertical-align: middle;\n",
              "    }\n",
              "\n",
              "    .dataframe tbody tr th {\n",
              "        vertical-align: top;\n",
              "    }\n",
              "\n",
              "    .dataframe thead th {\n",
              "        text-align: right;\n",
              "    }\n",
              "</style>\n",
              "<table border=\"1\" class=\"dataframe\">\n",
              "  <thead>\n",
              "    <tr style=\"text-align: right;\">\n",
              "      <th></th>\n",
              "      <th>trip</th>\n",
              "      <th>datetime</th>\n",
              "      <th>pressure</th>\n",
              "      <th>lon</th>\n",
              "      <th>lat</th>\n",
              "      <th>lon_std</th>\n",
              "      <th>lat_std</th>\n",
              "    </tr>\n",
              "  </thead>\n",
              "  <tbody>\n",
              "    <tr>\n",
              "      <th>0</th>\n",
              "      <td>P1108_4_SV_T1</td>\n",
              "      <td>2008-11-25 13:00:35</td>\n",
              "      <td>-0.35</td>\n",
              "      <td>-77.264128</td>\n",
              "      <td>-11.773317</td>\n",
              "      <td>0.562664</td>\n",
              "      <td>0.267015</td>\n",
              "    </tr>\n",
              "    <tr>\n",
              "      <th>1</th>\n",
              "      <td>P1108_4_SV_T1</td>\n",
              "      <td>2008-11-25 13:00:36</td>\n",
              "      <td>-0.38</td>\n",
              "      <td>-77.264118</td>\n",
              "      <td>-11.773235</td>\n",
              "      <td>0.562767</td>\n",
              "      <td>0.267824</td>\n",
              "    </tr>\n",
              "    <tr>\n",
              "      <th>2</th>\n",
              "      <td>P1108_4_SV_T1</td>\n",
              "      <td>2008-11-25 13:00:37</td>\n",
              "      <td>-0.35</td>\n",
              "      <td>-77.264098</td>\n",
              "      <td>-11.773152</td>\n",
              "      <td>0.562974</td>\n",
              "      <td>0.268642</td>\n",
              "    </tr>\n",
              "    <tr>\n",
              "      <th>3</th>\n",
              "      <td>P1108_4_SV_T1</td>\n",
              "      <td>2008-11-25 13:00:38</td>\n",
              "      <td>-0.29</td>\n",
              "      <td>-77.264113</td>\n",
              "      <td>-11.773060</td>\n",
              "      <td>0.562819</td>\n",
              "      <td>0.269549</td>\n",
              "    </tr>\n",
              "    <tr>\n",
              "      <th>4</th>\n",
              "      <td>P1108_4_SV_T1</td>\n",
              "      <td>2008-11-25 13:00:39</td>\n",
              "      <td>-0.29</td>\n",
              "      <td>-77.264142</td>\n",
              "      <td>-11.772955</td>\n",
              "      <td>0.562519</td>\n",
              "      <td>0.270584</td>\n",
              "    </tr>\n",
              "    <tr>\n",
              "      <th>...</th>\n",
              "      <td>...</td>\n",
              "      <td>...</td>\n",
              "      <td>...</td>\n",
              "      <td>...</td>\n",
              "      <td>...</td>\n",
              "      <td>...</td>\n",
              "      <td>...</td>\n",
              "    </tr>\n",
              "    <tr>\n",
              "      <th>6622</th>\n",
              "      <td>P1108_4_SV_T1</td>\n",
              "      <td>2008-11-25 14:50:57</td>\n",
              "      <td>-0.29</td>\n",
              "      <td>-77.264097</td>\n",
              "      <td>-11.773710</td>\n",
              "      <td>0.562985</td>\n",
              "      <td>0.263141</td>\n",
              "    </tr>\n",
              "    <tr>\n",
              "      <th>6623</th>\n",
              "      <td>P1108_4_SV_T1</td>\n",
              "      <td>2008-11-25 14:50:58</td>\n",
              "      <td>-0.29</td>\n",
              "      <td>-77.264223</td>\n",
              "      <td>-11.773817</td>\n",
              "      <td>0.561680</td>\n",
              "      <td>0.262087</td>\n",
              "    </tr>\n",
              "    <tr>\n",
              "      <th>6624</th>\n",
              "      <td>P1108_4_SV_T1</td>\n",
              "      <td>2008-11-25 14:50:59</td>\n",
              "      <td>-0.26</td>\n",
              "      <td>-77.264307</td>\n",
              "      <td>-11.773860</td>\n",
              "      <td>0.560811</td>\n",
              "      <td>0.261663</td>\n",
              "    </tr>\n",
              "    <tr>\n",
              "      <th>6625</th>\n",
              "      <td>P1108_4_SV_T1</td>\n",
              "      <td>2008-11-25 14:51:00</td>\n",
              "      <td>-0.22</td>\n",
              "      <td>-77.264363</td>\n",
              "      <td>-11.773875</td>\n",
              "      <td>0.560231</td>\n",
              "      <td>0.261515</td>\n",
              "    </tr>\n",
              "    <tr>\n",
              "      <th>6626</th>\n",
              "      <td>P1108_4_SV_T1</td>\n",
              "      <td>2008-11-25 14:51:01</td>\n",
              "      <td>-0.22</td>\n",
              "      <td>-77.264395</td>\n",
              "      <td>-11.773895</td>\n",
              "      <td>0.559900</td>\n",
              "      <td>0.261318</td>\n",
              "    </tr>\n",
              "  </tbody>\n",
              "</table>\n",
              "<p>6627 rows × 7 columns</p>\n",
              "</div>"
            ],
            "text/plain": [
              "               trip            datetime  ...   lon_std   lat_std\n",
              "0     P1108_4_SV_T1 2008-11-25 13:00:35  ...  0.562664  0.267015\n",
              "1     P1108_4_SV_T1 2008-11-25 13:00:36  ...  0.562767  0.267824\n",
              "2     P1108_4_SV_T1 2008-11-25 13:00:37  ...  0.562974  0.268642\n",
              "3     P1108_4_SV_T1 2008-11-25 13:00:38  ...  0.562819  0.269549\n",
              "4     P1108_4_SV_T1 2008-11-25 13:00:39  ...  0.562519  0.270584\n",
              "...             ...                 ...  ...       ...       ...\n",
              "6622  P1108_4_SV_T1 2008-11-25 14:50:57  ...  0.562985  0.263141\n",
              "6623  P1108_4_SV_T1 2008-11-25 14:50:58  ...  0.561680  0.262087\n",
              "6624  P1108_4_SV_T1 2008-11-25 14:50:59  ...  0.560811  0.261663\n",
              "6625  P1108_4_SV_T1 2008-11-25 14:51:00  ...  0.560231  0.261515\n",
              "6626  P1108_4_SV_T1 2008-11-25 14:51:01  ...  0.559900  0.261318\n",
              "\n",
              "[6627 rows x 7 columns]"
            ]
          },
          "metadata": {
            "tags": []
          },
          "execution_count": 28
        }
      ]
    },
    {
      "cell_type": "code",
      "metadata": {
        "id": "cORGd8mjlBW5",
        "outputId": "80c38dd0-2499-4fc1-a03e-d39da520cec4",
        "colab": {
          "base_uri": "https://localhost:8080/",
          "height": 35
        }
      },
      "source": [
        "epochs = 100\n",
        "\n",
        "extracted_trajs = []\n",
        "n = 0\n",
        "for dt in trajs:\n",
        "    n += 1\n",
        "    \n",
        "    threshold = 1\n",
        "    bias = np.median(dt.pressure.values)\n",
        "        \n",
        "    for i in range(len(dt)-epochs-1):\n",
        "        tt = dt[i:(i+epochs)]\n",
        "        \n",
        "        extracted_trajs.append((tt.loc[:,'lon_std':'lat_std'].values, tt.pressure.values-bias ))\n",
        "    \n",
        "    IPython.display.clear_output(wait=True)\n",
        "    print('Trip [{}/{}]'.format(n, len(df.trip.unique())))\n",
        "            \n",
        "random.shuffle(extracted_trajs)"
      ],
      "execution_count": 29,
      "outputs": [
        {
          "output_type": "stream",
          "text": [
            "Trip [170/170]\n"
          ],
          "name": "stdout"
        }
      ]
    },
    {
      "cell_type": "code",
      "metadata": {
        "id": "7YYRF_8nlBW8",
        "outputId": "b65bd13e-8f21-4945-97c0-b37f32ebd447",
        "colab": {
          "base_uri": "https://localhost:8080/",
          "height": 494
        }
      },
      "source": [
        "plt.figure(figsize=(16, 8))\n",
        "\n",
        "n = 0\n",
        "for i in np.random.randint(0, high=len(extracted_trajs), size=8):\n",
        "    n += 1\n",
        "    \n",
        "    pos = extracted_trajs[i][0]\n",
        "    press = extracted_trajs[i][1]\n",
        "    \n",
        "    plt.subplot(2, 4, n)\n",
        "    plt.plot(pos[:,0], pos[:,1])\n",
        "    \n",
        "    #selecting the current axis\n",
        "    ax = plt.gca()\n",
        "    ax.set_aspect(1)\n",
        "    \n",
        "    plt.scatter(pos[press>1,0], pos[press>1,1], c = 'orange')\n",
        "    "
      ],
      "execution_count": 30,
      "outputs": [
        {
          "output_type": "display_data",
          "data": {
            "image/png": "[encoded data removed]",
            "text/plain": [
              "<Figure size 1152x576 with 8 Axes>"
            ]
          },
          "metadata": {
            "tags": [],
            "needs_background": "light"
          }
        }
      ]
    },
    {
      "cell_type": "code",
      "metadata": {
        "id": "8TjRnS_6lBW_",
        "outputId": "426bcad7-274b-4205-c172-4231bc7ff810",
        "colab": {
          "base_uri": "https://localhost:8080/",
          "height": 1000
        }
      },
      "source": [
        "## define labels\n",
        "extracted_trajs_labels = [(x, 1*(np.sum(y>1) >0)) for (x,y) in extracted_trajs]\n",
        "extracted_trajs_labels[0]"
      ],
      "execution_count": 31,
      "outputs": [
        {
          "output_type": "execute_result",
          "data": {
            "text/plain": [
              "(array([[-3.59173992,  1.81619842],\n",
              "        [-3.59155801,  1.81598631],\n",
              "        [-3.59208164,  1.8146983 ],\n",
              "        [-3.59331079,  1.81233439],\n",
              "        [-3.5950294 ,  1.80946594],\n",
              "        [-3.59589906,  1.80868722],\n",
              "        [-3.59574376,  1.80627219],\n",
              "        [-3.59598188,  1.80533576],\n",
              "        [-3.59530893,  1.80486261],\n",
              "        [-3.59442892,  1.80443875],\n",
              "        [-3.59365244,  1.80400503],\n",
              "        [-3.59280348,  1.80363045],\n",
              "        [-3.59181994,  1.80333474],\n",
              "        [-3.59085711,  1.80315731],\n",
              "        [-3.59004957,  1.80266444],\n",
              "        [-3.58909708,  1.80220115],\n",
              "        [-3.58785471,  1.80210258],\n",
              "        [-3.58671587,  1.80188572],\n",
              "        [-3.58550456,  1.80188572],\n",
              "        [-3.58426219,  1.80202372],\n",
              "        [-3.58304053,  1.80229973],\n",
              "        [-3.5817464 ,  1.80266444],\n",
              "        [-3.58052473,  1.80297002],\n",
              "        [-3.57941695,  1.80279259],\n",
              "        [-3.57846447,  1.80271373],\n",
              "        [-3.5775741 ,  1.80244758],\n",
              "        [-3.57664233,  1.80193501],\n",
              "        [-3.57571055,  1.80128443],\n",
              "        [-3.57483054,  1.80054514],\n",
              "        [-3.57403335,  1.79985513],\n",
              "        [-3.5733604 ,  1.79909612],\n",
              "        [-3.57279098,  1.79827797],\n",
              "        [-3.57227333,  1.79744997],\n",
              "        [-3.5716832 ,  1.7966121 ],\n",
              "        [-3.57116555,  1.79576438],\n",
              "        [-3.57059613,  1.79488708],\n",
              "        [-3.56994389,  1.79408865],\n",
              "        [-3.56930199,  1.79328035],\n",
              "        [-3.56872222,  1.79242277],\n",
              "        [-3.56821492,  1.79155534],\n",
              "        [-3.56771797,  1.79066819],\n",
              "        [-3.56720032,  1.78981061],\n",
              "        [-3.56673443,  1.78897274],\n",
              "        [-3.56621678,  1.78815459],\n",
              "        [-3.56559559,  1.78739558],\n",
              "        [-3.56489158,  1.78679429],\n",
              "        [-3.56375274,  1.78642957],\n",
              "        [-3.56266567,  1.78642957],\n",
              "        [-3.56152683,  1.78649858],\n",
              "        [-3.56031552,  1.78680415],\n",
              "        [-3.55922845,  1.78728715],\n",
              "        [-3.55814137,  1.78763216],\n",
              "        [-3.55733383,  1.78793773],\n",
              "        [-3.55656771,  1.78823345],\n",
              "        [-3.55552205,  1.78847002],\n",
              "        [-3.5545385 ,  1.7888446 ],\n",
              "        [-3.55355496,  1.78940646],\n",
              "        [-3.55273707,  1.79007675],\n",
              "        [-3.55210553,  1.7908949 ],\n",
              "        [-3.55141187,  1.79172291],\n",
              "        [-3.55066645,  1.79251149],\n",
              "        [-3.54988997,  1.79334935],\n",
              "        [-3.5491342 ,  1.79423651],\n",
              "        [-3.5484923 ,  1.79517294],\n",
              "        [-3.54799536,  1.79630653],\n",
              "        [-3.54768476,  1.79756825],\n",
              "        [-3.54739488,  1.79882012],\n",
              "        [-3.54706358,  1.80006213],\n",
              "        [-3.54668052,  1.80123514],\n",
              "        [-3.54651487,  1.80264473],\n",
              "        [-3.54657698,  1.80369945],\n",
              "        [-3.54668052,  1.80459646],\n",
              "        [-3.54701181,  1.80562162],\n",
              "        [-3.54775724,  1.80599619],\n",
              "        [-3.54854407,  1.8056709 ],\n",
              "        [-3.54899961,  1.8059469 ],\n",
              "        [-3.549271  ,  1.8063909 ],\n",
              "        [-3.54939245,  1.80689071],\n",
              "        [-3.54936398,  1.80744633],\n",
              "        [-3.54918556,  1.80805776],\n",
              "        [-3.54885721,  1.808725  ],\n",
              "        [-3.54855185,  1.80916408],\n",
              "        [-3.54844239,  1.80909103],\n",
              "        [-3.54852885,  1.80850584],\n",
              "        [-3.54881122,  1.80740851],\n",
              "        [-3.54928949,  1.80579905],\n",
              "        [-3.54970361,  1.80400503],\n",
              "        [-3.54874078,  1.80372903],\n",
              "        [-3.54766406,  1.80370931],\n",
              "        [-3.54688758,  1.80360088],\n",
              "        [-3.5461111 ,  1.80330516],\n",
              "        [-3.54540709,  1.80276302],\n",
              "        [-3.5447652 ,  1.80227015],\n",
              "        [-3.54411295,  1.80175758],\n",
              "        [-3.5434193 ,  1.80146186],\n",
              "        [-3.54245646,  1.80165901],\n",
              "        [-3.5412348 ,  1.80192515],\n",
              "        [-3.54033408,  1.80207301],\n",
              "        [-3.53931948,  1.80222087],\n",
              "        [-3.53828417,  1.80228001]]), 1)"
            ]
          },
          "metadata": {
            "tags": []
          },
          "execution_count": 31
        }
      ]
    },
    {
      "cell_type": "code",
      "metadata": {
        "id": "6jBZj4YElBXB"
      },
      "source": [
        "# split dataset in train and test\n",
        "nb_test = round(len(extracted_trajs_labels)*0.2)\n",
        "\n",
        "test_trajs = extracted_trajs_labels[0:nb_test]\n",
        "train_trajs = extracted_trajs_labels[nb_test:len(extracted_trajs)]"
      ],
      "execution_count": 32,
      "outputs": []
    },
    {
      "cell_type": "code",
      "metadata": {
        "id": "7AL5-abplBXE"
      },
      "source": [
        "# re-balanced dataset\n",
        "n = sum([ y for (x,y) in train_trajs])\n",
        "\n",
        "idx_ones = np.where([ y>0 for (x,y) in train_trajs])[0]\n",
        "idx_zeros = np.where([ y==0 for (x,y) in train_trajs])[0]\n",
        "idx_zeros = np.random.choice(idx_zeros, n, replace = False)\n",
        "\n",
        "train_trajs_balanced = [train_trajs[i] for i in idx_ones] + [train_trajs[i] for i in idx_zeros] \n",
        "random.shuffle(train_trajs_balanced)"
      ],
      "execution_count": 33,
      "outputs": []
    },
    {
      "cell_type": "code",
      "metadata": {
        "id": "wrF2XR7KlBXG"
      },
      "source": [
        "# ### SAVE DATA ### --------------------------\n",
        "# fileObj = open('/content/drive/My Drive/data/train_dives.obj', 'wb')\n",
        "# pickle.dump(train_trajs,fileObj)\n",
        "# fileObj.close()\n",
        "\n",
        "# fileObj = open('/content/drive/My Drive/data/test_dives.obj', 'wb')\n",
        "# pickle.dump(test_trajs,fileObj)\n",
        "# fileObj.close()"
      ],
      "execution_count": 34,
      "outputs": []
    },
    {
      "cell_type": "markdown",
      "metadata": {
        "id": "biCtWhQDM8Gg"
      },
      "source": [
        "## Neural Networks"
      ]
    },
    {
      "cell_type": "code",
      "metadata": {
        "id": "MaOTUwij9uRq"
      },
      "source": [
        "# general material\n",
        "import numpy as np\n",
        "import matplotlib.pyplot as plt\n",
        "import pickle\n",
        "\n",
        "# pytorch materials\n",
        "import torch\n",
        "from torch import nn\n",
        "from torch import optim\n",
        "import torchvision as tv\n",
        "from torchvision.datasets import ImageFolder\n",
        "from torch.utils.data import DataLoader"
      ],
      "execution_count": 35,
      "outputs": []
    },
    {
      "cell_type": "code",
      "metadata": {
        "id": "Sq3093paNBJl"
      },
      "source": [
        "# Hyperparameters\n",
        "batch_size = 8\n",
        "learning_rate = 0.001"
      ],
      "execution_count": 36,
      "outputs": []
    },
    {
      "cell_type": "code",
      "metadata": {
        "id": "RIEefOocNFI7"
      },
      "source": [
        "# ### LOAD DATA ### --------------------------\n",
        "\n",
        "# fileObj = open('/content/drive/My Drive/data/train_dives.obj', 'rb')\n",
        "# train_trajs_balanced = pickle.load(fileObj)\n",
        "# fileObj.close()\n",
        "\n",
        "# fileObj = open('/content/drive/My Drive/data/test_dives.obj', 'rb')\n",
        "# test_trajs = pickle.load(fileObj)\n",
        "# fileObj.close()"
      ],
      "execution_count": 37,
      "outputs": []
    },
    {
      "cell_type": "code",
      "metadata": {
        "id": "2eT8qVvFNGfQ"
      },
      "source": [
        "device = torch.device(\"cuda\" if torch.cuda.is_available() else \"cpu\")\n",
        "\n",
        "train_dataset = [(torch.tensor(x.T, dtype = torch.float), torch.tensor([y], dtype = torch.float)) for (x,y) in train_trajs_balanced]\n",
        "test_dataset = [(torch.tensor(x.T, dtype = torch.float), torch.tensor([y], dtype = torch.float)) for (x,y) in test_trajs]\n",
        "\n",
        "train_loader = DataLoader(train_dataset, batch_size=batch_size, shuffle=False, drop_last=True)\n",
        "test_loader = DataLoader(test_dataset, batch_size=batch_size, shuffle=False, drop_last=True)"
      ],
      "execution_count": 38,
      "outputs": []
    },
    {
      "cell_type": "code",
      "metadata": {
        "id": "J9gckKCMNIXd"
      },
      "source": [
        "class ConvNet(nn.Module):\n",
        "    def __init__(self):\n",
        "        super(ConvNet, self).__init__()\n",
        "        self.layer1 = nn.Sequential(\n",
        "            nn.Conv1d(2, 2, kernel_size = 26, stride = 1, padding = 25, dilation = 2),\n",
        "            nn.Conv1d(2, 1, kernel_size = 26, stride = 1, padding = 25, dilation = 2),\n",
        "            nn.Sigmoid(),\n",
        "            nn.MaxPool1d(kernel_size = 26, stride = 1, padding = 10, dilation = 2),\n",
        "            nn.Linear(70, 50))\n",
        "        \n",
        "        self.layer2 = nn.Sequential(\n",
        "            nn.Conv1d(1, 1, kernel_size = 11, stride = 1, padding = 10, dilation = 2),\n",
        "            nn.Conv1d(1, 1, kernel_size = 11, stride = 1, padding = 10, dilation = 2),\n",
        "            nn.Sigmoid(),\n",
        "            nn.MaxPool1d(kernel_size = 5, padding = 2, dilation = 2),\n",
        "            nn.Linear(10, 1))\n",
        "               \n",
        "        self.sigmoid = nn.Sigmoid()\n",
        "        \n",
        "        self.layer = nn.Sequential(\n",
        "            nn.Conv1d(1, 1, kernel_size = 11, stride = 1, padding = 10, dilation = 2),\n",
        "            nn.Conv1d(1, 1, kernel_size = 11, stride = 1, padding = 10, dilation = 2),\n",
        "            nn.Sigmoid(),\n",
        "            nn.MaxPool1d(kernel_size = 5, padding = 2, dilation = 2)\n",
        "        )\n",
        "        \n",
        "    def forward(self, x):\n",
        "        out = self.layer1(x)\n",
        "        out = self.layer2(out)\n",
        "        out = self.sigmoid(out)\n",
        "        out = out.reshape((batch_size, 1))\n",
        "        return out"
      ],
      "execution_count": 39,
      "outputs": []
    },
    {
      "cell_type": "code",
      "metadata": {
        "id": "f67eVqDINKRx",
        "outputId": "a14b3ea4-4823-498d-8ba7-a31b14322d02",
        "colab": {
          "base_uri": "https://localhost:8080/",
          "height": 35
        }
      },
      "source": [
        "inputs = [x for batch, (x,y) in enumerate(train_loader)]\n",
        "outputs = [y for batch, (x,y) in enumerate(train_loader)]\n",
        "outputs[0].size()"
      ],
      "execution_count": 40,
      "outputs": [
        {
          "output_type": "execute_result",
          "data": {
            "text/plain": [
              "torch.Size([8, 1])"
            ]
          },
          "metadata": {
            "tags": []
          },
          "execution_count": 40
        }
      ]
    },
    {
      "cell_type": "code",
      "metadata": {
        "id": "QTw3ks1GNMEG",
        "outputId": "f0547d75-fd50-4ca2-eb47-1e01228d9569",
        "colab": {
          "base_uri": "https://localhost:8080/",
          "height": 35
        }
      },
      "source": [
        "model = ConvNet()\n",
        "out = model(inputs[0])\n",
        "out.size()"
      ],
      "execution_count": 41,
      "outputs": [
        {
          "output_type": "execute_result",
          "data": {
            "text/plain": [
              "torch.Size([8, 1])"
            ]
          },
          "metadata": {
            "tags": []
          },
          "execution_count": 41
        }
      ]
    },
    {
      "cell_type": "code",
      "metadata": {
        "id": "H-44XPO1NN4W",
        "outputId": "fee8cfcc-8fc1-45ab-8777-02849a211308",
        "colab": {
          "base_uri": "https://localhost:8080/",
          "height": 164
        }
      },
      "source": [
        "model(inputs[0])"
      ],
      "execution_count": 42,
      "outputs": [
        {
          "output_type": "execute_result",
          "data": {
            "text/plain": [
              "tensor([[0.4963],\n",
              "        [0.4963],\n",
              "        [0.4965],\n",
              "        [0.4965],\n",
              "        [0.4966],\n",
              "        [0.4966],\n",
              "        [0.4965],\n",
              "        [0.4966]], grad_fn=<ViewBackward>)"
            ]
          },
          "metadata": {
            "tags": []
          },
          "execution_count": 42
        }
      ]
    },
    {
      "cell_type": "code",
      "metadata": {
        "id": "ELWzpTeiNPct"
      },
      "source": [
        "# Loss and optimizer\n",
        "criterion = nn.BCELoss()\n",
        "optimizer = torch.optim.SGD(model.parameters(), lr=learning_rate)"
      ],
      "execution_count": 43,
      "outputs": []
    },
    {
      "cell_type": "code",
      "metadata": {
        "id": "IBeASnGsNSuL",
        "outputId": "7edbcd85-eb44-44f9-8e35-68541493f909",
        "colab": {
          "base_uri": "https://localhost:8080/",
          "height": 35
        }
      },
      "source": [
        "criterion(outputs[0], torch.autograd.Variable(model(inputs[0])))"
      ],
      "execution_count": 44,
      "outputs": [
        {
          "output_type": "execute_result",
          "data": {
            "text/plain": [
              "tensor(50.0916)"
            ]
          },
          "metadata": {
            "tags": []
          },
          "execution_count": 44
        }
      ]
    },
    {
      "cell_type": "code",
      "metadata": {
        "id": "z_0oOEOlNUbm",
        "outputId": "0456638f-11ab-4421-bdbd-f333382e2d88",
        "colab": {
          "base_uri": "https://localhost:8080/",
          "height": 752
        }
      },
      "source": [
        "# Train the model\n",
        "total_step = len(train_loader)\n",
        "loss_list = []\n",
        "acc_list = []\n",
        "\n",
        "for i, (x, y) in enumerate(train_loader):\n",
        "    \n",
        "    # Train the model\n",
        "    model.train()\n",
        "    \n",
        "    # Run the forward pass\n",
        "    outputs = model(x)\n",
        "    loss = criterion(outputs, torch.autograd.Variable(y))\n",
        "\n",
        "    # Backprop and perform optimisation\n",
        "    optimizer.zero_grad()\n",
        "    loss.backward()\n",
        "    optimizer.step()\n",
        "    \n",
        "\n",
        "    if (i + 1) % 1000 == 0:  \n",
        "        # Test the model\n",
        "        model.eval()\n",
        "        with torch.no_grad():\n",
        "            correct = 0\n",
        "            total = 0\n",
        "            for x, y in test_loader:\n",
        "                outputs = model(x)\n",
        "                \n",
        "                # dive prediction\n",
        "                correct += torch.sum(1*(outputs>0.5) == y).item()\n",
        "                total += batch_size\n",
        "        \n",
        "#         # Plot weight\n",
        "#         IPython.display.clear_output(wait=True)\n",
        "\n",
        "#         plt.figure(figsize=(16, 4))\n",
        "#         jj = 0    \n",
        "#         for name, param in model.named_parameters():\n",
        "#             if param.requires_grad:\n",
        "#                 jj+=1\n",
        "#                 plt.subplot(4, 4, jj)\n",
        "#                 plt.hist(param.data.numpy().reshape(np.prod(param.data.numpy().shape)))\n",
        "#                 plt.title(name)\n",
        "        \n",
        "#         plt.show()\n",
        "        print('Step [{}/{}], Loss: {:.4f}, Accuracy: {} %'\n",
        "              .format(i + 1, total_step, loss.item(), (correct / total) * 100))"
      ],
      "execution_count": 45,
      "outputs": [
        {
          "output_type": "stream",
          "text": [
            "Step [1000/40021], Loss: 0.6918, Accuracy: 23.530246417253938 %\n",
            "Step [2000/40021], Loss: 0.6922, Accuracy: 76.46975358274605 %\n",
            "Step [3000/40021], Loss: 0.6957, Accuracy: 76.46975358274605 %\n",
            "Step [4000/40021], Loss: 0.6931, Accuracy: 23.530246417253938 %\n",
            "Step [5000/40021], Loss: 0.6931, Accuracy: 24.88826089012912 %\n",
            "Step [6000/40021], Loss: 0.6941, Accuracy: 23.530246417253938 %\n",
            "Step [7000/40021], Loss: 0.6907, Accuracy: 23.530246417253938 %\n",
            "Step [8000/40021], Loss: 0.6911, Accuracy: 76.46975358274605 %\n",
            "Step [9000/40021], Loss: 0.6917, Accuracy: 23.530246417253938 %\n",
            "Step [10000/40021], Loss: 0.6931, Accuracy: 24.303552003027008 %\n",
            "Step [11000/40021], Loss: 0.6931, Accuracy: 31.425294423686328 %\n",
            "Step [12000/40021], Loss: 0.6932, Accuracy: 23.530246417253938 %\n",
            "Step [13000/40021], Loss: 0.6930, Accuracy: 24.874071796812185 %\n",
            "Step [14000/40021], Loss: 0.6931, Accuracy: 75.88918318119472 %\n",
            "Step [15000/40021], Loss: 0.6926, Accuracy: 23.530246417253938 %\n",
            "Step [16000/40021], Loss: 0.6932, Accuracy: 76.46975358274605 %\n",
            "Step [17000/40021], Loss: 0.6990, Accuracy: 76.46975358274605 %\n",
            "Step [18000/40021], Loss: 0.6931, Accuracy: 76.46975358274605 %\n",
            "Step [19000/40021], Loss: 0.6900, Accuracy: 76.46975358274605 %\n",
            "Step [20000/40021], Loss: 0.6936, Accuracy: 76.46975358274605 %\n",
            "Step [21000/40021], Loss: 0.6929, Accuracy: 23.530246417253938 %\n",
            "Step [22000/40021], Loss: 0.6942, Accuracy: 23.530246417253938 %\n",
            "Step [23000/40021], Loss: 0.6920, Accuracy: 23.530246417253938 %\n",
            "Step [24000/40021], Loss: 0.6971, Accuracy: 76.46975358274605 %\n",
            "Step [25000/40021], Loss: 0.6932, Accuracy: 71.33271058979331 %\n",
            "Step [26000/40021], Loss: 0.6931, Accuracy: 76.46975358274605 %\n",
            "Step [27000/40021], Loss: 0.6968, Accuracy: 76.46975358274605 %\n",
            "Step [28000/40021], Loss: 0.6897, Accuracy: 76.46975358274605 %\n",
            "Step [29000/40021], Loss: 0.6886, Accuracy: 76.46975358274605 %\n",
            "Step [30000/40021], Loss: 0.6972, Accuracy: 76.46975358274605 %\n",
            "Step [31000/40021], Loss: 0.6914, Accuracy: 76.46975358274605 %\n",
            "Step [32000/40021], Loss: 0.6926, Accuracy: 38.698387173059636 %\n",
            "Step [33000/40021], Loss: 0.6897, Accuracy: 76.46975358274605 %\n",
            "Step [34000/40021], Loss: 0.6912, Accuracy: 75.74610982358227 %\n",
            "Step [35000/40021], Loss: 0.6890, Accuracy: 76.46975358274605 %\n",
            "Step [36000/40021], Loss: 0.6920, Accuracy: 69.23804568888048 %\n",
            "Step [37000/40021], Loss: 0.6910, Accuracy: 75.946530766684 %\n",
            "Step [38000/40021], Loss: 0.6949, Accuracy: 23.530246417253938 %\n",
            "Step [39000/40021], Loss: 0.6904, Accuracy: 23.530246417253938 %\n",
            "Step [40000/40021], Loss: 0.6891, Accuracy: 75.85962257011776 %\n"
          ],
          "name": "stdout"
        }
      ]
    },
    {
      "cell_type": "code",
      "metadata": {
        "id": "xFWax35-NW2o"
      },
      "source": [
        "i = 0\n",
        "for x, y in test_loader:\n",
        "    i += 1\n",
        "    outputs = model(x)\n",
        "    \n",
        "    if i == 10:\n",
        "        break\n",
        "    # dive prediction\n",
        "    correct += torch.sum(1*(outputs>0.5) == y).item()\n",
        "    total += batch_size"
      ],
      "execution_count": 46,
      "outputs": []
    },
    {
      "cell_type": "code",
      "metadata": {
        "id": "nD-_cX0kNYTi",
        "outputId": "ff4b9bf0-c3f9-4ecd-e37c-e7e99a2be2e7",
        "colab": {
          "base_uri": "https://localhost:8080/",
          "height": 496
        }
      },
      "source": [
        "plt.figure(figsize=(16, 8))\n",
        "\n",
        "for i in range(8):\n",
        "# i = 0\n",
        "    plt.subplot(2, 4, i+1)\n",
        "    plt.plot(x.numpy()[i][0], x.numpy()[i][1])\n",
        "    plt.title(str(y.numpy()[i]))\n",
        "    \n",
        "        #selecting the current axis\n",
        "    ax = plt.gca()\n",
        "    ax.set_aspect(1)"
      ],
      "execution_count": 47,
      "outputs": [
        {
          "output_type": "display_data",
          "data": {
            "image/png": "[encoded data removed]",
            "text/plain": [
              "<Figure size 1152x576 with 8 Axes>"
            ]
          },
          "metadata": {
            "tags": [],
            "needs_background": "light"
          }
        }
      ]
    },
    {
      "cell_type": "code",
      "metadata": {
        "id": "nRrfrtcENaTA",
        "outputId": "5bde5cf1-8461-43f1-846a-e1ff554d22dd",
        "colab": {
          "base_uri": "https://localhost:8080/",
          "height": 164
        }
      },
      "source": [
        "outputs"
      ],
      "execution_count": 48,
      "outputs": [
        {
          "output_type": "execute_result",
          "data": {
            "text/plain": [
              "tensor([[0.4981],\n",
              "        [0.4966],\n",
              "        [0.4941],\n",
              "        [0.4968],\n",
              "        [0.4990],\n",
              "        [0.4982],\n",
              "        [0.4972],\n",
              "        [0.4941]], grad_fn=<ViewBackward>)"
            ]
          },
          "metadata": {
            "tags": []
          },
          "execution_count": 48
        }
      ]
    },
    {
      "cell_type": "code",
      "metadata": {
        "id": "TXSBWEGHNciw",
        "outputId": "20adb137-305a-46a3-cf07-0152079cb74b",
        "colab": {
          "base_uri": "https://localhost:8080/",
          "height": 164
        }
      },
      "source": [
        "y"
      ],
      "execution_count": 49,
      "outputs": [
        {
          "output_type": "execute_result",
          "data": {
            "text/plain": [
              "tensor([[0.],\n",
              "        [0.],\n",
              "        [0.],\n",
              "        [1.],\n",
              "        [0.],\n",
              "        [1.],\n",
              "        [1.],\n",
              "        [0.]])"
            ]
          },
          "metadata": {
            "tags": []
          },
          "execution_count": 49
        }
      ]
    }
  ]
}