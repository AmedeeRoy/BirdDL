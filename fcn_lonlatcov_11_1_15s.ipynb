{
  "nbformat": 4,
  "nbformat_minor": 0,
  "metadata": {
    "colab": {
      "name": "fcn_lonlatcov_11_1_15s.ipynb",
      "provenance": [],
      "collapsed_sections": [],
      "include_colab_link": true
    },
    "kernelspec": {
      "display_name": "Python 3",
      "language": "python",
      "name": "python3"
    },
    "language_info": {
      "codemirror_mode": {
        "name": "ipython",
        "version": 3
      },
      "file_extension": ".py",
      "mimetype": "text/x-python",
      "name": "python",
      "nbconvert_exporter": "python",
      "pygments_lexer": "ipython3",
      "version": "3.7.4"
    }
  },
  "cells": [
    {
      "cell_type": "markdown",
      "metadata": {
        "id": "view-in-github",
        "colab_type": "text"
      },
      "source": [
        "<a href=\"https://colab.research.google.com/github/AmedeeRoy/BirdDL/blob/main/fcn_lonlatcov_11_1_15s.ipynb\" target=\"_parent\"><img src=\"https://colab.research.google.com/assets/colab-badge.svg\" alt=\"Open In Colab\"/></a>"
      ]
    },
    {
      "cell_type": "markdown",
      "metadata": {
        "id": "wk6zB5N3GZO9"
      },
      "source": [
        "# Dive Prediction - Deep Network\n",
        "\n",
        "*Predicting Seabird Diving Behaviour from GPS data*\n",
        "\n",
        "This notebook trains a neural network to predict seabirds' dives.\n",
        "\n",
        "Networks' characteristics:\n",
        "\n",
        "* *Trajectory window* : 11 x 5s\n",
        "* *Output resolution*: 1 x 55s\n",
        "* *Representation of trajectories* : Time series\n",
        "* *Layers* : convolutions"
      ]
    },
    {
      "cell_type": "markdown",
      "metadata": {
        "id": "kjVXwurrGghM"
      },
      "source": [
        "## connect to drive"
      ]
    },
    {
      "cell_type": "code",
      "metadata": {
        "colab": {
          "base_uri": "https://localhost:8080/"
        },
        "id": "cPOjT66sGf3Y",
        "outputId": "f340fb1d-28ac-4df9-da2c-99b96e3d14e2"
      },
      "source": [
        "# mount google drive\n",
        "from google.colab import drive\n",
        "drive.mount(\"/content/drive/\")"
      ],
      "execution_count": 1,
      "outputs": [
        {
          "output_type": "stream",
          "text": [
            "Drive already mounted at /content/drive/; to attempt to forcibly remount, call drive.mount(\"/content/drive/\", force_remount=True).\n"
          ],
          "name": "stdout"
        }
      ]
    },
    {
      "cell_type": "code",
      "metadata": {
        "colab": {
          "base_uri": "https://localhost:8080/"
        },
        "id": "u2R6nZsEGp2v",
        "outputId": "eeae889e-3a67-4e25-e816-6482bd2d50b7"
      },
      "source": [
        "%cd drive/My\\ Drive/"
      ],
      "execution_count": 2,
      "outputs": [
        {
          "output_type": "stream",
          "text": [
            "/content/drive/My Drive\n"
          ],
          "name": "stdout"
        }
      ]
    },
    {
      "cell_type": "markdown",
      "metadata": {
        "id": "Engz1noUG1yL"
      },
      "source": [
        "## load data"
      ]
    },
    {
      "cell_type": "code",
      "metadata": {
        "id": "vP2XmHbeGZO-"
      },
      "source": [
        "import pandas as pd\n",
        "import numpy as np\n",
        "import matplotlib.pyplot as plt\n",
        "\n",
        "import torch\n",
        "from torch import nn\n",
        "from torch.utils.data import DataLoader, Dataset\n",
        "from torchvision import transforms\n",
        "\n",
        "from utils.trip import * "
      ],
      "execution_count": 3,
      "outputs": []
    },
    {
      "cell_type": "code",
      "metadata": {
        "id": "XroT0Q5mGZO_"
      },
      "source": [
        "data_train = pd.read_csv('./data/data_train.csv')\n",
        "data_validation = pd.read_csv('./data/data_validation.csv')\n",
        "data_test = pd.read_csv('./data/data_test.csv')"
      ],
      "execution_count": 4,
      "outputs": []
    },
    {
      "cell_type": "markdown",
      "metadata": {
        "id": "2pnURReGyLju"
      },
      "source": [
        "## choose resolution"
      ]
    },
    {
      "cell_type": "code",
      "metadata": {
        "id": "91vOylAmyLju",
        "colab": {
          "base_uri": "https://localhost:8080/",
          "height": 206
        },
        "outputId": "3bb6a3b1-ba4e-43f6-c76e-4bc1e8def4ec"
      },
      "source": [
        "resolution = 15\n",
        "\n",
        "data_train_new = change_resolution(data_train, resolution)\n",
        "data_validation_new = change_resolution(data_validation, resolution)\n",
        "data_test_new = change_resolution(data_test, resolution)\n",
        "\n",
        "data_train_new = standardize_data(data_train_new)\n",
        "data_validation_new = standardize_data(data_validation_new)\n",
        "data_test_new = standardize_data(data_test_new)\n",
        "\n",
        "data_train_new.head()"
      ],
      "execution_count": 6,
      "outputs": [
        {
          "output_type": "execute_result",
          "data": {
            "text/html": [
              "<div>\n",
              "<style scoped>\n",
              "    .dataframe tbody tr th:only-of-type {\n",
              "        vertical-align: middle;\n",
              "    }\n",
              "\n",
              "    .dataframe tbody tr th {\n",
              "        vertical-align: top;\n",
              "    }\n",
              "\n",
              "    .dataframe thead th {\n",
              "        text-align: right;\n",
              "    }\n",
              "</style>\n",
              "<table border=\"1\" class=\"dataframe\">\n",
              "  <thead>\n",
              "    <tr style=\"text-align: right;\">\n",
              "      <th></th>\n",
              "      <th>trip</th>\n",
              "      <th>datetime</th>\n",
              "      <th>lon</th>\n",
              "      <th>lat</th>\n",
              "      <th>gaps</th>\n",
              "      <th>dive</th>\n",
              "      <th>step_speed</th>\n",
              "      <th>step_direction</th>\n",
              "      <th>lon_std</th>\n",
              "      <th>lat_std</th>\n",
              "      <th>step_speed_std</th>\n",
              "      <th>step_direction_cos</th>\n",
              "      <th>step_direction_sin</th>\n",
              "    </tr>\n",
              "  </thead>\n",
              "  <tbody>\n",
              "    <tr>\n",
              "      <th>2</th>\n",
              "      <td>P1108_46_SV_T1</td>\n",
              "      <td>2008-12-05 15:13:09</td>\n",
              "      <td>-77.263615</td>\n",
              "      <td>-11.775112</td>\n",
              "      <td>0.0</td>\n",
              "      <td>0</td>\n",
              "      <td>10.023363</td>\n",
              "      <td>42.788613</td>\n",
              "      <td>1.442039</td>\n",
              "      <td>1.525760</td>\n",
              "      <td>0.550458</td>\n",
              "      <td>0.733865</td>\n",
              "      <td>0.679295</td>\n",
              "    </tr>\n",
              "    <tr>\n",
              "      <th>3</th>\n",
              "      <td>P1108_46_SV_T1</td>\n",
              "      <td>2008-12-05 15:13:24</td>\n",
              "      <td>-77.263573</td>\n",
              "      <td>-11.776292</td>\n",
              "      <td>0.0</td>\n",
              "      <td>0</td>\n",
              "      <td>8.761883</td>\n",
              "      <td>-50.098172</td>\n",
              "      <td>1.442725</td>\n",
              "      <td>1.510479</td>\n",
              "      <td>0.475309</td>\n",
              "      <td>0.641474</td>\n",
              "      <td>-0.767145</td>\n",
              "    </tr>\n",
              "    <tr>\n",
              "      <th>4</th>\n",
              "      <td>P1108_46_SV_T1</td>\n",
              "      <td>2008-12-05 15:13:39</td>\n",
              "      <td>-77.263908</td>\n",
              "      <td>-11.777598</td>\n",
              "      <td>0.0</td>\n",
              "      <td>0</td>\n",
              "      <td>9.992477</td>\n",
              "      <td>16.091597</td>\n",
              "      <td>1.437253</td>\n",
              "      <td>1.493566</td>\n",
              "      <td>0.548618</td>\n",
              "      <td>0.960820</td>\n",
              "      <td>0.277174</td>\n",
              "    </tr>\n",
              "    <tr>\n",
              "      <th>5</th>\n",
              "      <td>P1108_46_SV_T1</td>\n",
              "      <td>2008-12-05 15:13:54</td>\n",
              "      <td>-77.262973</td>\n",
              "      <td>-11.778582</td>\n",
              "      <td>0.0</td>\n",
              "      <td>0</td>\n",
              "      <td>9.972810</td>\n",
              "      <td>-57.024775</td>\n",
              "      <td>1.452525</td>\n",
              "      <td>1.480822</td>\n",
              "      <td>0.547447</td>\n",
              "      <td>0.544276</td>\n",
              "      <td>-0.838906</td>\n",
              "    </tr>\n",
              "    <tr>\n",
              "      <th>6</th>\n",
              "      <td>P1108_46_SV_T1</td>\n",
              "      <td>2008-12-05 15:14:09</td>\n",
              "      <td>-77.261763</td>\n",
              "      <td>-11.779738</td>\n",
              "      <td>0.0</td>\n",
              "      <td>0</td>\n",
              "      <td>12.282350</td>\n",
              "      <td>-2.769208</td>\n",
              "      <td>1.472290</td>\n",
              "      <td>1.465852</td>\n",
              "      <td>0.685031</td>\n",
              "      <td>0.998832</td>\n",
              "      <td>-0.048313</td>\n",
              "    </tr>\n",
              "  </tbody>\n",
              "</table>\n",
              "</div>"
            ],
            "text/plain": [
              "             trip             datetime  ...  step_direction_cos  step_direction_sin\n",
              "2  P1108_46_SV_T1  2008-12-05 15:13:09  ...            0.733865            0.679295\n",
              "3  P1108_46_SV_T1  2008-12-05 15:13:24  ...            0.641474           -0.767145\n",
              "4  P1108_46_SV_T1  2008-12-05 15:13:39  ...            0.960820            0.277174\n",
              "5  P1108_46_SV_T1  2008-12-05 15:13:54  ...            0.544276           -0.838906\n",
              "6  P1108_46_SV_T1  2008-12-05 15:14:09  ...            0.998832           -0.048313\n",
              "\n",
              "[5 rows x 13 columns]"
            ]
          },
          "metadata": {
            "tags": []
          },
          "execution_count": 6
        }
      ]
    },
    {
      "cell_type": "markdown",
      "metadata": {
        "id": "ywF0A-1tGZO_"
      },
      "source": [
        "## choose window"
      ]
    },
    {
      "cell_type": "code",
      "metadata": {
        "id": "rg_mIte9GZO_"
      },
      "source": [
        "# Hyperparameters\n",
        "window = 11\n",
        "variable = ('lon_std', 'lat_std', 'gaps')\n",
        "\n",
        "train_set = TrajDataSet(data_train_new, window, variable)"
      ],
      "execution_count": 7,
      "outputs": []
    },
    {
      "cell_type": "code",
      "metadata": {
        "colab": {
          "base_uri": "https://localhost:8080/",
          "height": 565
        },
        "id": "G26yrGdUGZO_",
        "scrolled": false,
        "outputId": "87fcb669-0269-47fb-947e-ab56e947253c"
      },
      "source": [
        "plt.figure(figsize=(16, 10))\n",
        "idx = np.random.randint(0, len(train_set), 4)\n",
        "c = Center()\n",
        "k = -1\n",
        "for i in idx:\n",
        "    k += 1\n",
        "    traj, matrix_dist, dive = c(train_set[i])\n",
        "\n",
        "    plt.subplot(2,4, k+1)\n",
        "    plt.imshow(matrix_dist)\n",
        "\n",
        "    plt.subplot(2,4, k+5)\n",
        "    plt.plot(traj[0,:], traj[1,:])\n",
        "    i = int(window/2)\n",
        "    if np.array(dive) == 1 :\n",
        "        plt.scatter(traj[0,i], traj[1,i], c= 'orange')\n",
        "    else:\n",
        "      plt.scatter(traj[0,i], traj[1,i])"
      ],
      "execution_count": 8,
      "outputs": [
        {
          "output_type": "display_data",
          "data": {
            "image/png": "[encoded data removed]",
            "text/plain": [
              "<Figure size 1152x720 with 8 Axes>"
            ]
          },
          "metadata": {
            "tags": [],
            "needs_background": "light"
          }
        }
      ]
    },
    {
      "cell_type": "markdown",
      "metadata": {
        "id": "sJkiaEE2GZPA"
      },
      "source": [
        "# Neural Network"
      ]
    },
    {
      "cell_type": "code",
      "metadata": {
        "id": "VBznxgYEGZPA"
      },
      "source": [
        "# hyperparameters\n",
        "batch_size = 512\n",
        "\n",
        "## reduce size dataset\n",
        "train_set = TrajDataSet(data_train_new, window, variable, transform = transforms.Compose([Center(), ToTensor()]))\n",
        "validation_set = TrajDataSet(data_validation_new, window, variable, transform = transforms.Compose([Center(), ToTensor()]))\n",
        "\n",
        "train_loader = DataLoader(train_set, batch_size=batch_size, num_workers = 0, shuffle = True, drop_last=True)\n",
        "validation_loader = DataLoader(validation_set, batch_size=batch_size, num_workers = 0, shuffle = True, drop_last=True)"
      ],
      "execution_count": 9,
      "outputs": []
    },
    {
      "cell_type": "code",
      "metadata": {
        "id": "lhxDPuhUGZPB"
      },
      "source": [
        "class H2O(nn.Module):\n",
        "\n",
        "    def __init__(self):\n",
        "        super(H2O, self).__init__()\n",
        "\n",
        "        self.cnn = nn.Sequential(\n",
        "            nn.Linear(33,40),\n",
        "            nn.ReLU(),\n",
        "            nn.Linear(40,200),\n",
        "            nn.ReLU(),\n",
        "            nn.Linear(200,200),\n",
        "            nn.ReLU(),\n",
        "            nn.Linear(200,200),\n",
        "            nn.ReLU(),\n",
        "            nn.Linear(200,1)\n",
        "        )\n",
        "\n",
        "    def forward(self, x):\n",
        "        out = x.reshape((x.size()[0], 1, 33))\n",
        "        out = self.cnn(out)\n",
        "        return out\n",
        "\n",
        "def get_score(out, y):\n",
        "    out, y = out.cpu(), y.cpu()\n",
        "    out = 1*(out>0)\n",
        "    true_positive = np.mean(out[y == True].numpy()) \n",
        "    true_negative = 1-np.mean(out[y == False].numpy())\n",
        "    \n",
        "    return (round(true_positive*100) , round(true_negative*100))"
      ],
      "execution_count": 10,
      "outputs": []
    },
    {
      "cell_type": "code",
      "metadata": {
        "colab": {
          "base_uri": "https://localhost:8080/"
        },
        "id": "lRi-Oun6GZPB",
        "outputId": "7519c732-ffd6-4d46-9858-28f08c933c16"
      },
      "source": [
        "# get sample\n",
        "x, y, z = next(iter(train_loader)) \n",
        "weight = torch.FloatTensor([15])\n",
        "\n",
        "# Forward model\n",
        "model = H2O()\n",
        "\n",
        "out = model(x)\n",
        "\n",
        "# Loss and score\n",
        "learning_rate = 0.01\n",
        "optimizer = torch.optim.Adam(model.parameters(), lr=learning_rate)\n",
        "criterion = nn.BCEWithLogitsLoss(pos_weight = weight)\n",
        "criterion(out, z)\n",
        "get_score(out, z)"
      ],
      "execution_count": 15,
      "outputs": [
        {
          "output_type": "execute_result",
          "data": {
            "text/plain": [
              "(0.0, 100.0)"
            ]
          },
          "metadata": {
            "tags": []
          },
          "execution_count": 15
        }
      ]
    },
    {
      "cell_type": "code",
      "metadata": {
        "colab": {
          "base_uri": "https://localhost:8080/"
        },
        "id": "MrpxukCA-dg0",
        "outputId": "d4d708b4-abb8-459d-b1af-2b3574fea7ad"
      },
      "source": [
        "## get Loss weight\n",
        "torch.sum(z==z)/torch.sum(z)"
      ],
      "execution_count": 16,
      "outputs": [
        {
          "output_type": "execute_result",
          "data": {
            "text/plain": [
              "tensor(16.5161)"
            ]
          },
          "metadata": {
            "tags": []
          },
          "execution_count": 16
        }
      ]
    },
    {
      "cell_type": "markdown",
      "metadata": {
        "id": "hKIwYrQcGZPB"
      },
      "source": [
        "## Training"
      ]
    },
    {
      "cell_type": "code",
      "metadata": {
        "id": "WsK522IKGZPB"
      },
      "source": [
        "# switch to GPU\n",
        "model = H2O()\n",
        "device = torch.device('cuda' if torch.cuda.is_available() else 'cpu')\n",
        "model = model.to(device)\n",
        "weight = weight.to(device)\n",
        "criterion = nn.BCEWithLogitsLoss(pos_weight = weight)"
      ],
      "execution_count": 17,
      "outputs": []
    },
    {
      "cell_type": "code",
      "metadata": {
        "id": "0QzQPetaGZPB",
        "scrolled": true,
        "colab": {
          "base_uri": "https://localhost:8080/"
        },
        "outputId": "eaa47d3f-0cc0-4f74-9c7a-f40e5230d8f1"
      },
      "source": [
        "# Train the model\n",
        "nb_epoch = 5\n",
        "\n",
        "global_loss_train = []\n",
        "global_loss_validation = []\n",
        "    \n",
        "for epoch in range(nb_epoch):\n",
        "    learning_rate /= 10\n",
        "    optimizer = torch.optim.Adam(model.parameters(), lr=learning_rate)\n",
        "    i = 0\n",
        "    for batch, (x, y, z) in enumerate(train_loader):\n",
        "        i+=1\n",
        "        # send to GPU\n",
        "        x, y, z = x.to(device), y.to(device), z.to(device)\n",
        "\n",
        "        # Run the forward pass\n",
        "        out = model(x)\n",
        "        loss = criterion(out, z)\n",
        "        \n",
        "        # Backprop and perform optimisation\n",
        "        optimizer.zero_grad()\n",
        "        loss.backward()\n",
        "        optimizer.step()\n",
        "\n",
        "    ### Evaluation + Validation every epoch\n",
        "    model.eval()\n",
        "    with torch.no_grad():      \n",
        "        j = 0\n",
        "        # evaluation\n",
        "        list_loss_train = []\n",
        "        list_score_train = []\n",
        "        for batch, (x, y, z) in enumerate(train_loader):\n",
        "            j+= 1\n",
        "            # send to GPU\n",
        "            x, y, z = x.to(device), y.to(device), z.to(device)\n",
        "\n",
        "            # Run the forward pass\n",
        "            out =  model(x)\n",
        "            loss = criterion(out, z)\n",
        "            score = get_score(out,z)\n",
        "            list_loss_train.append(loss.item())\n",
        "            list_score_train.append(score)\n",
        "        \n",
        "        train_loss = np.mean(list_loss_train)\n",
        "        train_trueP = np.mean([tp for (tp, tn) in list_score_train])\n",
        "        train_trueN = np.mean([tn for (tp, tn) in list_score_train])\n",
        "            \n",
        "        k = 0\n",
        "        # validation\n",
        "        list_loss_validation = []\n",
        "        list_score_validation = []\n",
        "        for batch, (x, y, z) in enumerate(validation_loader):\n",
        "            k+= 1\n",
        "            # send to GPU\n",
        "            x, y, z = x.to(device), y.to(device), z.to(device)\n",
        "\n",
        "            # Run the forward pass\n",
        "            out =  model(x)\n",
        "            loss = criterion(out, z)\n",
        "            score = get_score(out,z)\n",
        "            list_loss_validation.append(loss.item())\n",
        "            list_score_validation.append(score)\n",
        "\n",
        "        validation_loss = np.mean(list_loss_validation)\n",
        "        validation_trueP = np.mean([tp for (tp, tn) in list_score_validation])\n",
        "        validation_trueN = np.mean([tn for (tp, tn) in list_score_validation])\n",
        "\n",
        "    print('Epoch [{}/{}] -------------------------------------------------------------------------------------'\n",
        "          .format(epoch+1, nb_epoch))\n",
        "    print('Train Loss: {}, Train True Positive : {} %, Train True Negative : {} %'\n",
        "            .format(round(train_loss, 2), round(train_trueP, 2), round(train_trueN, 2)))\n",
        "    print('Validation Loss: {}, Validation True Positive : {} %, Validation True Negative : {} %'\n",
        "            .format(round(validation_loss, 2), round(validation_trueP, 2), round(validation_trueN, 2)))\n",
        "    model.train()\n",
        "    \n",
        "    global_loss_train.append(train_loss)\n",
        "    global_loss_validation.append(validation_loss)\n",
        "\n",
        "    #### STOP WHEN VALIDATION DECREASE\n",
        "    if epoch>1:\n",
        "      if global_loss_validation[-2] < global_loss_validation[-1]:\n",
        "        break"
      ],
      "execution_count": 18,
      "outputs": [
        {
          "output_type": "stream",
          "text": [
            "Epoch [1/5] -------------------------------------------------------------------------------------\n",
            "Train Loss: 1.12, Train True Positive : 72.76 %, Train True Negative : 62.05 %\n",
            "Validation Loss: 1.29, Validation True Positive : 70.2 %, Validation True Negative : 61.8 %\n",
            "Epoch [2/5] -------------------------------------------------------------------------------------\n",
            "Train Loss: 1.11, Train True Positive : 73.67 %, Train True Negative : 62.24 %\n",
            "Validation Loss: 1.28, Validation True Positive : 71.0 %, Validation True Negative : 60.2 %\n",
            "Epoch [3/5] -------------------------------------------------------------------------------------\n",
            "Train Loss: 1.11, Train True Positive : 73.33 %, Train True Negative : 62.1 %\n",
            "Validation Loss: 1.32, Validation True Positive : 69.4 %, Validation True Negative : 61.0 %\n"
          ],
          "name": "stdout"
        }
      ]
    },
    {
      "cell_type": "markdown",
      "metadata": {
        "id": "yeruQM_iGZPB"
      },
      "source": [
        "## Testing"
      ]
    },
    {
      "cell_type": "code",
      "metadata": {
        "id": "zUGwcHNTGZPB",
        "scrolled": true,
        "colab": {
          "base_uri": "https://localhost:8080/"
        },
        "outputId": "3159fc6d-d60f-4137-d0ff-ef3717abbdff"
      },
      "source": [
        "dive_estim = []\n",
        "\n",
        "for i in data_test_new.trip.unique():\n",
        "    # create dataset for a trajectory\n",
        "    t = data_test_new[data_test_new.trip == i].copy()    \n",
        "    test_set = TrajDataSet(t, window, variable, transform = transforms.Compose([Center(), ToTensor()]))\n",
        "\n",
        "    model.eval()\n",
        "    estim = [0 for i in range(5)]\n",
        "    k = 0\n",
        "    with torch.no_grad():\n",
        "        for (x, y, z) in test_set:\n",
        "            # send to GPU\n",
        "            x, y = x.to(device), y.to(device)\n",
        "\n",
        "            # Run the forward pass\n",
        "            out = model(x)\n",
        "            \n",
        "            estim.append(out.cpu().squeeze().numpy())\n",
        "\n",
        "    estim = estim + [0 for i in range(5)]\n",
        "    dive_estim.append(estim)\n",
        "\n",
        "\n",
        "\n",
        "    print(i)\n",
        "\n",
        "data_test_new['prediction'] = 1/(1+np.exp(-np.hstack(dive_estim)))"
      ],
      "execution_count": 19,
      "outputs": [
        {
          "output_type": "stream",
          "text": [
            "P1108_46_SV_T2\n",
            "P1111_41_SV_T4\n",
            "P1112_10_SV_T2\n",
            "P1112_15_SV_T3\n",
            "P1112_20_SV_T4\n",
            "P1112_31_SV_T5\n",
            "P1113_28_SV_T1\n"
          ],
          "name": "stdout"
        }
      ]
    },
    {
      "cell_type": "code",
      "metadata": {
        "id": "EeXfQHLQGZPC",
        "colab": {
          "base_uri": "https://localhost:8080/",
          "height": 338
        },
        "outputId": "761844a2-de07-4c3c-bb3e-bd1fbf5a7936"
      },
      "source": [
        "t = data_test_new[data_test_new.trip == 'P1108_46_SV_T2'].copy() \n",
        "\n",
        "plt.figure(figsize= (12, 5))\n",
        "plt.subplot(1, 2, 1)\n",
        "plt.plot(np.array(t.lon), np.array(t.lat))\n",
        "plt.scatter(t.lon[t.dive == 1], t.lat[t.dive == 1], c = 'orange')\n",
        "\n",
        "plt.subplot(1, 2, 2)\n",
        "plt.plot(np.array(t.lon), np.array(t.lat))\n",
        "plt.scatter(t.lon[t.prediction > 0.5], t.lat[t.prediction > 0.5], c = 'red')"
      ],
      "execution_count": 20,
      "outputs": [
        {
          "output_type": "execute_result",
          "data": {
            "text/plain": [
              "<matplotlib.collections.PathCollection at 0x7f9d865b0400>"
            ]
          },
          "metadata": {
            "tags": []
          },
          "execution_count": 20
        },
        {
          "output_type": "display_data",
          "data": {
            "image/png": "[encoded data removed]",
            "text/plain": [
              "<Figure size 864x360 with 2 Axes>"
            ]
          },
          "metadata": {
            "tags": [],
            "needs_background": "light"
          }
        }
      ]
    },
    {
      "cell_type": "markdown",
      "metadata": {
        "id": "tP2kP_UzGZPC"
      },
      "source": [
        "# ROC curve\n",
        "\n",
        "Change the decision threshold"
      ]
    },
    {
      "cell_type": "code",
      "metadata": {
        "id": "QGtA82JiGZPC",
        "colab": {
          "base_uri": "https://localhost:8080/",
          "height": 297
        },
        "outputId": "2233ac47-845a-4c17-b89b-0ccfaa543f55"
      },
      "source": [
        "fig, ax = plt.subplots()\n",
        "ax.set_aspect('equal')\n",
        "ax.set_xlabel('False Positive Rate')\n",
        "ax.set_ylabel('True Positive Rate')\n",
        "\n",
        "# globally\n",
        "TP = []\n",
        "FP = []\n",
        "\n",
        "for tt in np.arange(0,1,0.001):\n",
        "    all_estim = 1* (data_test_new.prediction > tt)\n",
        "    true_positive = np.mean(all_estim[data_test_new.dive == 1])\n",
        "    true_negative = 1-np.mean(all_estim[data_test_new.dive == 0])\n",
        "    TP.append(true_positive)\n",
        "    FP.append(1-true_negative)\n",
        "\n",
        "plt.plot(np.array(FP), np.array(TP))"
      ],
      "execution_count": 21,
      "outputs": [
        {
          "output_type": "execute_result",
          "data": {
            "text/plain": [
              "[<matplotlib.lines.Line2D at 0x7f9d867c0438>]"
            ]
          },
          "metadata": {
            "tags": []
          },
          "execution_count": 21
        },
        {
          "output_type": "display_data",
          "data": {
            "image/png": "[encoded data removed]",
            "text/plain": [
              "<Figure size 432x288 with 1 Axes>"
            ]
          },
          "metadata": {
            "tags": [],
            "needs_background": "light"
          }
        }
      ]
    },
    {
      "cell_type": "markdown",
      "metadata": {
        "id": "Vlr-DB-LD4t1"
      },
      "source": [
        "# Export Probabilities"
      ]
    },
    {
      "cell_type": "code",
      "metadata": {
        "id": "hero3SJRSEve"
      },
      "source": [
        "data_test_new.to_csv('fcn_lonlatcov_11_1_15s.csv', index = False)"
      ],
      "execution_count": 22,
      "outputs": []
    },
    {
      "cell_type": "code",
      "metadata": {
        "id": "0IcffL7v4zJ2"
      },
      "source": [
        ""
      ],
      "execution_count": null,
      "outputs": []
    }
  ]
}