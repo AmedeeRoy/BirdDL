{
  "nbformat": 4,
  "nbformat_minor": 0,
  "metadata": {
    "colab": {
      "name": "Dive Prediction - 1D - 5s.ipynb",
      "provenance": [],
      "collapsed_sections": [],
      "include_colab_link": true
    },
    "kernelspec": {
      "display_name": "Python 3",
      "language": "python",
      "name": "python3"
    },
    "language_info": {
      "codemirror_mode": {
        "name": "ipython",
        "version": 3
      },
      "file_extension": ".py",
      "mimetype": "text/x-python",
      "name": "python",
      "nbconvert_exporter": "python",
      "pygments_lexer": "ipython3",
      "version": "3.7.4"
    }
  },
  "cells": [
    {
      "cell_type": "markdown",
      "metadata": {
        "id": "view-in-github",
        "colab_type": "text"
      },
      "source": [
        "<a href=\"https://colab.research.google.com/github/AmedeeRoy/BirdDL/blob/main/Dive_Prediction_DeepNetwork_Conv_5_Res_600_60.ipynb\" target=\"_parent\"><img src=\"https://colab.research.google.com/assets/colab-badge.svg\" alt=\"Open In Colab\"/></a>"
      ]
    },
    {
      "cell_type": "markdown",
      "metadata": {
        "id": "AoTO8FyrlBU_"
      },
      "source": [
        "# Predicting Seabird Diving Behaviour with GPS data\n",
        "\n",
        "Supervized Learning with Deep Networks\n"
      ]
    },
    {
      "cell_type": "markdown",
      "metadata": {
        "id": "ivSzc6HKxU5o"
      },
      "source": [
        "## Connecting Drive and Github"
      ]
    },
    {
      "cell_type": "code",
      "metadata": {
        "id": "WCJnT2RRxN_B",
        "outputId": "8e192981-dc99-4dc4-886e-cfdb9866552c",
        "colab": {
          "base_uri": "https://localhost:8080/",
          "height": 35
        }
      },
      "source": [
        "# mount google drive\n",
        "from google.colab import drive\n",
        "drive.mount(\"/content/drive/\")"
      ],
      "execution_count": 52,
      "outputs": [
        {
          "output_type": "stream",
          "text": [
            "Drive already mounted at /content/drive/; to attempt to forcibly remount, call drive.mount(\"/content/drive/\", force_remount=True).\n"
          ],
          "name": "stdout"
        }
      ]
    },
    {
      "cell_type": "code",
      "metadata": {
        "id": "ia--z8OA4nEg",
        "outputId": "71ea239c-84af-40a7-c660-37266aaf339d",
        "colab": {
          "base_uri": "https://localhost:8080/",
          "height": 54
        }
      },
      "source": [
        "%cd drive/My\\ Drive/BirdDL"
      ],
      "execution_count": 53,
      "outputs": [
        {
          "output_type": "stream",
          "text": [
            "[Errno 2] No such file or directory: 'drive/My Drive/BirdDL'\n",
            "/content/drive/My Drive/BirdDL\n"
          ],
          "name": "stdout"
        }
      ]
    },
    {
      "cell_type": "markdown",
      "metadata": {
        "id": "XpzHadDDlBVA"
      },
      "source": [
        "## Data Formatting"
      ]
    },
    {
      "cell_type": "code",
      "metadata": {
        "id": "7twgCfSglBVC"
      },
      "source": [
        "import sqlite3\n",
        "import pandas as pd\n",
        "import numpy as np\n",
        "import matplotlib.pyplot as plt\n",
        "import IPython\n",
        "import datetime\n",
        "import random\n",
        "import pickle\n",
        "\n",
        "import trip"
      ],
      "execution_count": 54,
      "outputs": []
    },
    {
      "cell_type": "code",
      "metadata": {
        "id": "SrinVr1QlBVN"
      },
      "source": [
        "# connect to database\n",
        "conn = sqlite3.connect('/content/drive/My Drive/data/seabirdbank.db')"
      ],
      "execution_count": 55,
      "outputs": []
    },
    {
      "cell_type": "code",
      "metadata": {
        "id": "MoUPeOCtlBVS",
        "outputId": "b3630f40-43aa-49b9-ab73-a92f923d74ce",
        "colab": {
          "base_uri": "https://localhost:8080/",
          "height": 35
        }
      },
      "source": [
        "request = \"SELECT DISTINCT lon, lat FROM fieldwork WHERE place='Pescadores'\"\n",
        "colony = pd.read_sql_query(request, conn)\n",
        "colony = colony.values\n",
        "colony"
      ],
      "execution_count": 56,
      "outputs": [
        {
          "output_type": "execute_result",
          "data": {
            "text/plain": [
              "array([[-77.264, -11.773]])"
            ]
          },
          "metadata": {
            "tags": []
          },
          "execution_count": 56
        }
      ]
    },
    {
      "cell_type": "code",
      "metadata": {
        "id": "W_twQSv0lBVZ",
        "outputId": "19f0f60e-c481-41f2-ba82-87e819d73832",
        "colab": {
          "base_uri": "https://localhost:8080/",
          "height": 424
        }
      },
      "source": [
        "request = \"SELECT \\\n",
        "            trip.id as trip, gps.datetime, gps.lon, gps.lat\\\n",
        "            FROM gps \\\n",
        "            INNER JOIN trip ON gps.trip = trip.id \\\n",
        "            INNER JOIN bird ON trip.bird = bird.id \\\n",
        "            WHERE trip.file_gps IS NOT NULL \\\n",
        "            AND trip.file_tdr IS NOT NULL \\\n",
        "            AND (bird.fieldwork = 'P1108' OR bird.fieldwork = 'P1111' \\\n",
        "                OR bird.fieldwork = 'P1112' OR bird.fieldwork = 'P1113') \\\n",
        "            AND bird.species = 'SV'\"\n",
        "\n",
        "# substr(bird.fieldwork,1,1) = 'P'\n",
        "\n",
        "gps = pd.read_sql_query(request, conn)\n",
        "gps"
      ],
      "execution_count": 57,
      "outputs": [
        {
          "output_type": "execute_result",
          "data": {
            "text/html": [
              "<div>\n",
              "<style scoped>\n",
              "    .dataframe tbody tr th:only-of-type {\n",
              "        vertical-align: middle;\n",
              "    }\n",
              "\n",
              "    .dataframe tbody tr th {\n",
              "        vertical-align: top;\n",
              "    }\n",
              "\n",
              "    .dataframe thead th {\n",
              "        text-align: right;\n",
              "    }\n",
              "</style>\n",
              "<table border=\"1\" class=\"dataframe\">\n",
              "  <thead>\n",
              "    <tr style=\"text-align: right;\">\n",
              "      <th></th>\n",
              "      <th>trip</th>\n",
              "      <th>datetime</th>\n",
              "      <th>lon</th>\n",
              "      <th>lat</th>\n",
              "    </tr>\n",
              "  </thead>\n",
              "  <tbody>\n",
              "    <tr>\n",
              "      <th>0</th>\n",
              "      <td>P1108_4_SV_T1</td>\n",
              "      <td>2008-11-25 13:00:35</td>\n",
              "      <td>-77.264128</td>\n",
              "      <td>-11.773317</td>\n",
              "    </tr>\n",
              "    <tr>\n",
              "      <th>1</th>\n",
              "      <td>P1108_4_SV_T1</td>\n",
              "      <td>2008-11-25 13:00:36</td>\n",
              "      <td>-77.264118</td>\n",
              "      <td>-11.773235</td>\n",
              "    </tr>\n",
              "    <tr>\n",
              "      <th>2</th>\n",
              "      <td>P1108_4_SV_T1</td>\n",
              "      <td>2008-11-25 13:00:37</td>\n",
              "      <td>-77.264098</td>\n",
              "      <td>-11.773152</td>\n",
              "    </tr>\n",
              "    <tr>\n",
              "      <th>3</th>\n",
              "      <td>P1108_4_SV_T1</td>\n",
              "      <td>2008-11-25 13:00:38</td>\n",
              "      <td>-77.264113</td>\n",
              "      <td>-11.773060</td>\n",
              "    </tr>\n",
              "    <tr>\n",
              "      <th>4</th>\n",
              "      <td>P1108_4_SV_T1</td>\n",
              "      <td>2008-11-25 13:00:39</td>\n",
              "      <td>-77.264142</td>\n",
              "      <td>-11.772955</td>\n",
              "    </tr>\n",
              "    <tr>\n",
              "      <th>...</th>\n",
              "      <td>...</td>\n",
              "      <td>...</td>\n",
              "      <td>...</td>\n",
              "      <td>...</td>\n",
              "    </tr>\n",
              "    <tr>\n",
              "      <th>839803</th>\n",
              "      <td>P1113_50_SV_T2</td>\n",
              "      <td>2013-11-25 05:23:26</td>\n",
              "      <td>-77.264832</td>\n",
              "      <td>-11.773701</td>\n",
              "    </tr>\n",
              "    <tr>\n",
              "      <th>839804</th>\n",
              "      <td>P1113_50_SV_T2</td>\n",
              "      <td>2013-11-25 05:23:27</td>\n",
              "      <td>-77.264862</td>\n",
              "      <td>-11.773664</td>\n",
              "    </tr>\n",
              "    <tr>\n",
              "      <th>839805</th>\n",
              "      <td>P1113_50_SV_T2</td>\n",
              "      <td>2013-11-25 05:23:28</td>\n",
              "      <td>-77.264900</td>\n",
              "      <td>-11.773705</td>\n",
              "    </tr>\n",
              "    <tr>\n",
              "      <th>839806</th>\n",
              "      <td>P1113_50_SV_T2</td>\n",
              "      <td>2013-11-25 05:23:29</td>\n",
              "      <td>-77.264931</td>\n",
              "      <td>-11.773739</td>\n",
              "    </tr>\n",
              "    <tr>\n",
              "      <th>839807</th>\n",
              "      <td>P1113_50_SV_T2</td>\n",
              "      <td>2013-11-25 05:23:30</td>\n",
              "      <td>-77.264954</td>\n",
              "      <td>-11.773770</td>\n",
              "    </tr>\n",
              "  </tbody>\n",
              "</table>\n",
              "<p>839808 rows × 4 columns</p>\n",
              "</div>"
            ],
            "text/plain": [
              "                  trip             datetime        lon        lat\n",
              "0        P1108_4_SV_T1  2008-11-25 13:00:35 -77.264128 -11.773317\n",
              "1        P1108_4_SV_T1  2008-11-25 13:00:36 -77.264118 -11.773235\n",
              "2        P1108_4_SV_T1  2008-11-25 13:00:37 -77.264098 -11.773152\n",
              "3        P1108_4_SV_T1  2008-11-25 13:00:38 -77.264113 -11.773060\n",
              "4        P1108_4_SV_T1  2008-11-25 13:00:39 -77.264142 -11.772955\n",
              "...                ...                  ...        ...        ...\n",
              "839803  P1113_50_SV_T2  2013-11-25 05:23:26 -77.264832 -11.773701\n",
              "839804  P1113_50_SV_T2  2013-11-25 05:23:27 -77.264862 -11.773664\n",
              "839805  P1113_50_SV_T2  2013-11-25 05:23:28 -77.264900 -11.773705\n",
              "839806  P1113_50_SV_T2  2013-11-25 05:23:29 -77.264931 -11.773739\n",
              "839807  P1113_50_SV_T2  2013-11-25 05:23:30 -77.264954 -11.773770\n",
              "\n",
              "[839808 rows x 4 columns]"
            ]
          },
          "metadata": {
            "tags": []
          },
          "execution_count": 57
        }
      ]
    },
    {
      "cell_type": "code",
      "metadata": {
        "id": "_XhzjeSBlBVf"
      },
      "source": [
        "# check duplicated datetime in GPS trip\n",
        "idx = gps.index[gps.loc[:, 'trip':'datetime'].duplicated(keep=False)]\n",
        "idx_drop = [idx[i] for i in range(0, len(idx), 2)]\n",
        "gps = gps.drop(idx_drop)"
      ],
      "execution_count": 58,
      "outputs": []
    },
    {
      "cell_type": "code",
      "metadata": {
        "id": "R8KuhNs3lBVj",
        "scrolled": true,
        "outputId": "7303f365-5e0e-4423-f394-472b4850bda7",
        "colab": {
          "base_uri": "https://localhost:8080/",
          "height": 49
        }
      },
      "source": [
        "gps[gps.loc[:, 'trip':'datetime'].duplicated(keep=False)]"
      ],
      "execution_count": 59,
      "outputs": [
        {
          "output_type": "execute_result",
          "data": {
            "text/html": [
              "<div>\n",
              "<style scoped>\n",
              "    .dataframe tbody tr th:only-of-type {\n",
              "        vertical-align: middle;\n",
              "    }\n",
              "\n",
              "    .dataframe tbody tr th {\n",
              "        vertical-align: top;\n",
              "    }\n",
              "\n",
              "    .dataframe thead th {\n",
              "        text-align: right;\n",
              "    }\n",
              "</style>\n",
              "<table border=\"1\" class=\"dataframe\">\n",
              "  <thead>\n",
              "    <tr style=\"text-align: right;\">\n",
              "      <th></th>\n",
              "      <th>trip</th>\n",
              "      <th>datetime</th>\n",
              "      <th>lon</th>\n",
              "      <th>lat</th>\n",
              "    </tr>\n",
              "  </thead>\n",
              "  <tbody>\n",
              "  </tbody>\n",
              "</table>\n",
              "</div>"
            ],
            "text/plain": [
              "Empty DataFrame\n",
              "Columns: [trip, datetime, lon, lat]\n",
              "Index: []"
            ]
          },
          "metadata": {
            "tags": []
          },
          "execution_count": 59
        }
      ]
    },
    {
      "cell_type": "code",
      "metadata": {
        "id": "Sw-ExcWzlBVq",
        "outputId": "7522eed8-5da4-4c12-9ab4-1b0d7d96250c",
        "colab": {
          "base_uri": "https://localhost:8080/",
          "height": 424
        }
      },
      "source": [
        "request = \"SELECT \\\n",
        "            trip.id as trip, tdr.datetime, tdr.pressure \\\n",
        "            FROM tdr \\\n",
        "            INNER JOIN trip ON tdr.trip = trip.id \\\n",
        "            INNER JOIN bird ON trip.bird = bird.id \\\n",
        "            WHERE trip.file_gps IS NOT NULL \\\n",
        "            AND trip.file_tdr IS NOT NULL \\\n",
        "            AND (bird.fieldwork = 'P1108' OR bird.fieldwork = 'P1111' \\\n",
        "                OR bird.fieldwork = 'P1112' OR bird.fieldwork = 'P1113') \\\n",
        "            AND bird.species = 'SV'\"\n",
        "\n",
        "# WHERE substr(bird.fieldwork,1,1) = 'P' \n",
        "\n",
        "tdr = pd.read_sql_query(request, conn)\n",
        "tdr"
      ],
      "execution_count": 60,
      "outputs": [
        {
          "output_type": "execute_result",
          "data": {
            "text/html": [
              "<div>\n",
              "<style scoped>\n",
              "    .dataframe tbody tr th:only-of-type {\n",
              "        vertical-align: middle;\n",
              "    }\n",
              "\n",
              "    .dataframe tbody tr th {\n",
              "        vertical-align: top;\n",
              "    }\n",
              "\n",
              "    .dataframe thead th {\n",
              "        text-align: right;\n",
              "    }\n",
              "</style>\n",
              "<table border=\"1\" class=\"dataframe\">\n",
              "  <thead>\n",
              "    <tr style=\"text-align: right;\">\n",
              "      <th></th>\n",
              "      <th>trip</th>\n",
              "      <th>datetime</th>\n",
              "      <th>pressure</th>\n",
              "    </tr>\n",
              "  </thead>\n",
              "  <tbody>\n",
              "    <tr>\n",
              "      <th>0</th>\n",
              "      <td>P1108_4_SV_T1</td>\n",
              "      <td>2008-11-25 13:00:35</td>\n",
              "      <td>-0.35</td>\n",
              "    </tr>\n",
              "    <tr>\n",
              "      <th>1</th>\n",
              "      <td>P1108_4_SV_T1</td>\n",
              "      <td>2008-11-25 13:00:36</td>\n",
              "      <td>-0.38</td>\n",
              "    </tr>\n",
              "    <tr>\n",
              "      <th>2</th>\n",
              "      <td>P1108_4_SV_T1</td>\n",
              "      <td>2008-11-25 13:00:37</td>\n",
              "      <td>-0.35</td>\n",
              "    </tr>\n",
              "    <tr>\n",
              "      <th>3</th>\n",
              "      <td>P1108_4_SV_T1</td>\n",
              "      <td>2008-11-25 13:00:38</td>\n",
              "      <td>-0.29</td>\n",
              "    </tr>\n",
              "    <tr>\n",
              "      <th>4</th>\n",
              "      <td>P1108_4_SV_T1</td>\n",
              "      <td>2008-11-25 13:00:39</td>\n",
              "      <td>-0.29</td>\n",
              "    </tr>\n",
              "    <tr>\n",
              "      <th>...</th>\n",
              "      <td>...</td>\n",
              "      <td>...</td>\n",
              "      <td>...</td>\n",
              "    </tr>\n",
              "    <tr>\n",
              "      <th>1086337</th>\n",
              "      <td>P1113_50_SV_T2</td>\n",
              "      <td>2013-11-25 05:23:26</td>\n",
              "      <td>-0.94</td>\n",
              "    </tr>\n",
              "    <tr>\n",
              "      <th>1086338</th>\n",
              "      <td>P1113_50_SV_T2</td>\n",
              "      <td>2013-11-25 05:23:27</td>\n",
              "      <td>-0.94</td>\n",
              "    </tr>\n",
              "    <tr>\n",
              "      <th>1086339</th>\n",
              "      <td>P1113_50_SV_T2</td>\n",
              "      <td>2013-11-25 05:23:28</td>\n",
              "      <td>-0.94</td>\n",
              "    </tr>\n",
              "    <tr>\n",
              "      <th>1086340</th>\n",
              "      <td>P1113_50_SV_T2</td>\n",
              "      <td>2013-11-25 05:23:29</td>\n",
              "      <td>-0.94</td>\n",
              "    </tr>\n",
              "    <tr>\n",
              "      <th>1086341</th>\n",
              "      <td>P1113_50_SV_T2</td>\n",
              "      <td>2013-11-25 05:23:30</td>\n",
              "      <td>-0.94</td>\n",
              "    </tr>\n",
              "  </tbody>\n",
              "</table>\n",
              "<p>1086342 rows × 3 columns</p>\n",
              "</div>"
            ],
            "text/plain": [
              "                   trip             datetime  pressure\n",
              "0         P1108_4_SV_T1  2008-11-25 13:00:35     -0.35\n",
              "1         P1108_4_SV_T1  2008-11-25 13:00:36     -0.38\n",
              "2         P1108_4_SV_T1  2008-11-25 13:00:37     -0.35\n",
              "3         P1108_4_SV_T1  2008-11-25 13:00:38     -0.29\n",
              "4         P1108_4_SV_T1  2008-11-25 13:00:39     -0.29\n",
              "...                 ...                  ...       ...\n",
              "1086337  P1113_50_SV_T2  2013-11-25 05:23:26     -0.94\n",
              "1086338  P1113_50_SV_T2  2013-11-25 05:23:27     -0.94\n",
              "1086339  P1113_50_SV_T2  2013-11-25 05:23:28     -0.94\n",
              "1086340  P1113_50_SV_T2  2013-11-25 05:23:29     -0.94\n",
              "1086341  P1113_50_SV_T2  2013-11-25 05:23:30     -0.94\n",
              "\n",
              "[1086342 rows x 3 columns]"
            ]
          },
          "metadata": {
            "tags": []
          },
          "execution_count": 60
        }
      ]
    },
    {
      "cell_type": "code",
      "metadata": {
        "id": "FsLfaOzHlBVu"
      },
      "source": [
        "tdr['datetime'] = pd.to_datetime(tdr['datetime'], format='%Y-%m-%d %H:%M:%S')\n",
        "gps['datetime'] = pd.to_datetime(gps['datetime'], format='%Y-%m-%d %H:%M:%S')"
      ],
      "execution_count": 61,
      "outputs": []
    },
    {
      "cell_type": "code",
      "metadata": {
        "id": "3y-dQs7DlBVy",
        "outputId": "4d240fe0-f39b-4f8c-ff31-0d67931086c4",
        "colab": {
          "base_uri": "https://localhost:8080/",
          "height": 424
        }
      },
      "source": [
        "df = pd.merge(tdr, gps, on=['trip', 'datetime'], how='left')\n",
        "df"
      ],
      "execution_count": 62,
      "outputs": [
        {
          "output_type": "execute_result",
          "data": {
            "text/html": [
              "<div>\n",
              "<style scoped>\n",
              "    .dataframe tbody tr th:only-of-type {\n",
              "        vertical-align: middle;\n",
              "    }\n",
              "\n",
              "    .dataframe tbody tr th {\n",
              "        vertical-align: top;\n",
              "    }\n",
              "\n",
              "    .dataframe thead th {\n",
              "        text-align: right;\n",
              "    }\n",
              "</style>\n",
              "<table border=\"1\" class=\"dataframe\">\n",
              "  <thead>\n",
              "    <tr style=\"text-align: right;\">\n",
              "      <th></th>\n",
              "      <th>trip</th>\n",
              "      <th>datetime</th>\n",
              "      <th>pressure</th>\n",
              "      <th>lon</th>\n",
              "      <th>lat</th>\n",
              "    </tr>\n",
              "  </thead>\n",
              "  <tbody>\n",
              "    <tr>\n",
              "      <th>0</th>\n",
              "      <td>P1108_4_SV_T1</td>\n",
              "      <td>2008-11-25 13:00:35</td>\n",
              "      <td>-0.35</td>\n",
              "      <td>-77.264128</td>\n",
              "      <td>-11.773317</td>\n",
              "    </tr>\n",
              "    <tr>\n",
              "      <th>1</th>\n",
              "      <td>P1108_4_SV_T1</td>\n",
              "      <td>2008-11-25 13:00:36</td>\n",
              "      <td>-0.38</td>\n",
              "      <td>-77.264118</td>\n",
              "      <td>-11.773235</td>\n",
              "    </tr>\n",
              "    <tr>\n",
              "      <th>2</th>\n",
              "      <td>P1108_4_SV_T1</td>\n",
              "      <td>2008-11-25 13:00:37</td>\n",
              "      <td>-0.35</td>\n",
              "      <td>-77.264098</td>\n",
              "      <td>-11.773152</td>\n",
              "    </tr>\n",
              "    <tr>\n",
              "      <th>3</th>\n",
              "      <td>P1108_4_SV_T1</td>\n",
              "      <td>2008-11-25 13:00:38</td>\n",
              "      <td>-0.29</td>\n",
              "      <td>-77.264113</td>\n",
              "      <td>-11.773060</td>\n",
              "    </tr>\n",
              "    <tr>\n",
              "      <th>4</th>\n",
              "      <td>P1108_4_SV_T1</td>\n",
              "      <td>2008-11-25 13:00:39</td>\n",
              "      <td>-0.29</td>\n",
              "      <td>-77.264142</td>\n",
              "      <td>-11.772955</td>\n",
              "    </tr>\n",
              "    <tr>\n",
              "      <th>...</th>\n",
              "      <td>...</td>\n",
              "      <td>...</td>\n",
              "      <td>...</td>\n",
              "      <td>...</td>\n",
              "      <td>...</td>\n",
              "    </tr>\n",
              "    <tr>\n",
              "      <th>1086337</th>\n",
              "      <td>P1113_50_SV_T2</td>\n",
              "      <td>2013-11-25 05:23:26</td>\n",
              "      <td>-0.94</td>\n",
              "      <td>-77.264832</td>\n",
              "      <td>-11.773701</td>\n",
              "    </tr>\n",
              "    <tr>\n",
              "      <th>1086338</th>\n",
              "      <td>P1113_50_SV_T2</td>\n",
              "      <td>2013-11-25 05:23:27</td>\n",
              "      <td>-0.94</td>\n",
              "      <td>-77.264862</td>\n",
              "      <td>-11.773664</td>\n",
              "    </tr>\n",
              "    <tr>\n",
              "      <th>1086339</th>\n",
              "      <td>P1113_50_SV_T2</td>\n",
              "      <td>2013-11-25 05:23:28</td>\n",
              "      <td>-0.94</td>\n",
              "      <td>-77.264900</td>\n",
              "      <td>-11.773705</td>\n",
              "    </tr>\n",
              "    <tr>\n",
              "      <th>1086340</th>\n",
              "      <td>P1113_50_SV_T2</td>\n",
              "      <td>2013-11-25 05:23:29</td>\n",
              "      <td>-0.94</td>\n",
              "      <td>-77.264931</td>\n",
              "      <td>-11.773739</td>\n",
              "    </tr>\n",
              "    <tr>\n",
              "      <th>1086341</th>\n",
              "      <td>P1113_50_SV_T2</td>\n",
              "      <td>2013-11-25 05:23:30</td>\n",
              "      <td>-0.94</td>\n",
              "      <td>-77.264954</td>\n",
              "      <td>-11.773770</td>\n",
              "    </tr>\n",
              "  </tbody>\n",
              "</table>\n",
              "<p>1086342 rows × 5 columns</p>\n",
              "</div>"
            ],
            "text/plain": [
              "                   trip            datetime  pressure        lon        lat\n",
              "0         P1108_4_SV_T1 2008-11-25 13:00:35     -0.35 -77.264128 -11.773317\n",
              "1         P1108_4_SV_T1 2008-11-25 13:00:36     -0.38 -77.264118 -11.773235\n",
              "2         P1108_4_SV_T1 2008-11-25 13:00:37     -0.35 -77.264098 -11.773152\n",
              "3         P1108_4_SV_T1 2008-11-25 13:00:38     -0.29 -77.264113 -11.773060\n",
              "4         P1108_4_SV_T1 2008-11-25 13:00:39     -0.29 -77.264142 -11.772955\n",
              "...                 ...                 ...       ...        ...        ...\n",
              "1086337  P1113_50_SV_T2 2013-11-25 05:23:26     -0.94 -77.264832 -11.773701\n",
              "1086338  P1113_50_SV_T2 2013-11-25 05:23:27     -0.94 -77.264862 -11.773664\n",
              "1086339  P1113_50_SV_T2 2013-11-25 05:23:28     -0.94 -77.264900 -11.773705\n",
              "1086340  P1113_50_SV_T2 2013-11-25 05:23:29     -0.94 -77.264931 -11.773739\n",
              "1086341  P1113_50_SV_T2 2013-11-25 05:23:30     -0.94 -77.264954 -11.773770\n",
              "\n",
              "[1086342 rows x 5 columns]"
            ]
          },
          "metadata": {
            "tags": []
          },
          "execution_count": 62
        }
      ]
    },
    {
      "cell_type": "code",
      "metadata": {
        "id": "ezQ3WSrMlBV2"
      },
      "source": [
        "# check NaN and fill with interpolations\n",
        "[i for i, x in enumerate(df['lon'].isna()) if x]\n",
        "\n",
        "\n",
        "df['lon'] = df['lon'].interpolate(method='polynomial', order=2)\n",
        "df['lat'] = df['lat'].interpolate(method='polynomial', order=2)"
      ],
      "execution_count": 63,
      "outputs": []
    },
    {
      "cell_type": "code",
      "metadata": {
        "id": "-rMJhCx4lBV7",
        "outputId": "0ac1abb7-4cc0-4c06-ea7e-7ec2fbec23ec",
        "colab": {
          "base_uri": "https://localhost:8080/",
          "height": 35
        }
      },
      "source": [
        "len(df.trip.unique())"
      ],
      "execution_count": 64,
      "outputs": [
        {
          "output_type": "execute_result",
          "data": {
            "text/plain": [
              "185"
            ]
          },
          "metadata": {
            "tags": []
          },
          "execution_count": 64
        }
      ]
    },
    {
      "cell_type": "code",
      "metadata": {
        "id": "yPftDapClBV_"
      },
      "source": [
        "# threshold = 1\n",
        "# path_folder = \"./trajectory/\"\n",
        "\n",
        "# for t in df.trip.unique():\n",
        "    \n",
        "#     path_file = path_folder + t\n",
        "#     df_trip = df[df.trip == t]\n",
        "    \n",
        "#     bias = np.median(df_trip.pressure.values)\n",
        "  \n",
        "#     plt.figure(figsize=(9, 3))\n",
        "\n",
        "#     plt.subplot(1, 2, 1)\n",
        "#     plt.plot(df_trip.datetime.values, df_trip.pressure.values)\n",
        "#     plt.plot(df_trip.datetime.values, [threshold+bias for i in range(len(df_trip))], color = 'orange')\n",
        "\n",
        "#     plt.subplot(1, 2, 2)\n",
        "#     plt.plot(df_trip.lon.values, df_trip.lat.values)\n",
        "#     plt.scatter(df_trip.lon.values[df_trip.pressure-bias > threshold], \\\n",
        "#                 df_trip.lat.values[df_trip.pressure-bias > threshold], c = 'orange')\n",
        "    \n",
        "#     plt.savefig(path_file)\n",
        "#     plt.close()"
      ],
      "execution_count": 65,
      "outputs": []
    },
    {
      "cell_type": "code",
      "metadata": {
        "id": "VUrhk1xslBWE"
      },
      "source": [
        "bad_trip = ['P1111_9_SV_T1', 'P1111_13_SV_T6', 'P1111_41_SV_T2', 'P1111_46_SV_T5', 'P1111_52_SV_T1',\n",
        "            'P1112_4_SV_T2', 'P1112_26_SV_T5', 'P1112_36_SV_T1', 'P1112_36_SV_T2', 'P1113_41_SV_T3',\n",
        "           'P1113_50_SV_T2']\n",
        "\n",
        "no_loop = ['P1112_26_SV_T1', 'P1112_26_SV_T2', 'P1112_26_SV_T3', 'P1112_26_SV_T4']"
      ],
      "execution_count": 66,
      "outputs": []
    },
    {
      "cell_type": "code",
      "metadata": {
        "id": "gbmPfofrlBWI"
      },
      "source": [
        "### remove bad data\n",
        "idx = df.index[[(t in bad_trip or t in no_loop) for t in df.trip]]\n",
        "df = df.drop(idx)"
      ],
      "execution_count": 67,
      "outputs": []
    },
    {
      "cell_type": "code",
      "metadata": {
        "id": "BMlPJEqSlBWL",
        "scrolled": true,
        "outputId": "595581bb-740a-4793-e856-cff1b864147c",
        "colab": {
          "base_uri": "https://localhost:8080/",
          "height": 35
        }
      },
      "source": [
        "len(df.trip.unique())"
      ],
      "execution_count": 68,
      "outputs": [
        {
          "output_type": "execute_result",
          "data": {
            "text/plain": [
              "170"
            ]
          },
          "metadata": {
            "tags": []
          },
          "execution_count": 68
        }
      ]
    },
    {
      "cell_type": "markdown",
      "metadata": {
        "id": "FQs8vxWMlBWP"
      },
      "source": [
        "## Trip Statistics"
      ]
    },
    {
      "cell_type": "code",
      "metadata": {
        "id": "USFIntlilBWQ",
        "outputId": "cf5402da-530d-46fe-e813-bc4570cb6bbf",
        "colab": {
          "base_uri": "https://localhost:8080/",
          "height": 424
        }
      },
      "source": [
        "df_trip = df[df.trip == 'P1108_4_SV_T1']\n",
        "df_trip"
      ],
      "execution_count": 69,
      "outputs": [
        {
          "output_type": "execute_result",
          "data": {
            "text/html": [
              "<div>\n",
              "<style scoped>\n",
              "    .dataframe tbody tr th:only-of-type {\n",
              "        vertical-align: middle;\n",
              "    }\n",
              "\n",
              "    .dataframe tbody tr th {\n",
              "        vertical-align: top;\n",
              "    }\n",
              "\n",
              "    .dataframe thead th {\n",
              "        text-align: right;\n",
              "    }\n",
              "</style>\n",
              "<table border=\"1\" class=\"dataframe\">\n",
              "  <thead>\n",
              "    <tr style=\"text-align: right;\">\n",
              "      <th></th>\n",
              "      <th>trip</th>\n",
              "      <th>datetime</th>\n",
              "      <th>pressure</th>\n",
              "      <th>lon</th>\n",
              "      <th>lat</th>\n",
              "    </tr>\n",
              "  </thead>\n",
              "  <tbody>\n",
              "    <tr>\n",
              "      <th>0</th>\n",
              "      <td>P1108_4_SV_T1</td>\n",
              "      <td>2008-11-25 13:00:35</td>\n",
              "      <td>-0.35</td>\n",
              "      <td>-77.264128</td>\n",
              "      <td>-11.773317</td>\n",
              "    </tr>\n",
              "    <tr>\n",
              "      <th>1</th>\n",
              "      <td>P1108_4_SV_T1</td>\n",
              "      <td>2008-11-25 13:00:36</td>\n",
              "      <td>-0.38</td>\n",
              "      <td>-77.264118</td>\n",
              "      <td>-11.773235</td>\n",
              "    </tr>\n",
              "    <tr>\n",
              "      <th>2</th>\n",
              "      <td>P1108_4_SV_T1</td>\n",
              "      <td>2008-11-25 13:00:37</td>\n",
              "      <td>-0.35</td>\n",
              "      <td>-77.264098</td>\n",
              "      <td>-11.773152</td>\n",
              "    </tr>\n",
              "    <tr>\n",
              "      <th>3</th>\n",
              "      <td>P1108_4_SV_T1</td>\n",
              "      <td>2008-11-25 13:00:38</td>\n",
              "      <td>-0.29</td>\n",
              "      <td>-77.264113</td>\n",
              "      <td>-11.773060</td>\n",
              "    </tr>\n",
              "    <tr>\n",
              "      <th>4</th>\n",
              "      <td>P1108_4_SV_T1</td>\n",
              "      <td>2008-11-25 13:00:39</td>\n",
              "      <td>-0.29</td>\n",
              "      <td>-77.264142</td>\n",
              "      <td>-11.772955</td>\n",
              "    </tr>\n",
              "    <tr>\n",
              "      <th>...</th>\n",
              "      <td>...</td>\n",
              "      <td>...</td>\n",
              "      <td>...</td>\n",
              "      <td>...</td>\n",
              "      <td>...</td>\n",
              "    </tr>\n",
              "    <tr>\n",
              "      <th>6622</th>\n",
              "      <td>P1108_4_SV_T1</td>\n",
              "      <td>2008-11-25 14:50:57</td>\n",
              "      <td>-0.29</td>\n",
              "      <td>-77.264097</td>\n",
              "      <td>-11.773710</td>\n",
              "    </tr>\n",
              "    <tr>\n",
              "      <th>6623</th>\n",
              "      <td>P1108_4_SV_T1</td>\n",
              "      <td>2008-11-25 14:50:58</td>\n",
              "      <td>-0.29</td>\n",
              "      <td>-77.264223</td>\n",
              "      <td>-11.773817</td>\n",
              "    </tr>\n",
              "    <tr>\n",
              "      <th>6624</th>\n",
              "      <td>P1108_4_SV_T1</td>\n",
              "      <td>2008-11-25 14:50:59</td>\n",
              "      <td>-0.26</td>\n",
              "      <td>-77.264307</td>\n",
              "      <td>-11.773860</td>\n",
              "    </tr>\n",
              "    <tr>\n",
              "      <th>6625</th>\n",
              "      <td>P1108_4_SV_T1</td>\n",
              "      <td>2008-11-25 14:51:00</td>\n",
              "      <td>-0.22</td>\n",
              "      <td>-77.264363</td>\n",
              "      <td>-11.773875</td>\n",
              "    </tr>\n",
              "    <tr>\n",
              "      <th>6626</th>\n",
              "      <td>P1108_4_SV_T1</td>\n",
              "      <td>2008-11-25 14:51:01</td>\n",
              "      <td>-0.22</td>\n",
              "      <td>-77.264395</td>\n",
              "      <td>-11.773895</td>\n",
              "    </tr>\n",
              "  </tbody>\n",
              "</table>\n",
              "<p>6627 rows × 5 columns</p>\n",
              "</div>"
            ],
            "text/plain": [
              "               trip            datetime  pressure        lon        lat\n",
              "0     P1108_4_SV_T1 2008-11-25 13:00:35     -0.35 -77.264128 -11.773317\n",
              "1     P1108_4_SV_T1 2008-11-25 13:00:36     -0.38 -77.264118 -11.773235\n",
              "2     P1108_4_SV_T1 2008-11-25 13:00:37     -0.35 -77.264098 -11.773152\n",
              "3     P1108_4_SV_T1 2008-11-25 13:00:38     -0.29 -77.264113 -11.773060\n",
              "4     P1108_4_SV_T1 2008-11-25 13:00:39     -0.29 -77.264142 -11.772955\n",
              "...             ...                 ...       ...        ...        ...\n",
              "6622  P1108_4_SV_T1 2008-11-25 14:50:57     -0.29 -77.264097 -11.773710\n",
              "6623  P1108_4_SV_T1 2008-11-25 14:50:58     -0.29 -77.264223 -11.773817\n",
              "6624  P1108_4_SV_T1 2008-11-25 14:50:59     -0.26 -77.264307 -11.773860\n",
              "6625  P1108_4_SV_T1 2008-11-25 14:51:00     -0.22 -77.264363 -11.773875\n",
              "6626  P1108_4_SV_T1 2008-11-25 14:51:01     -0.22 -77.264395 -11.773895\n",
              "\n",
              "[6627 rows x 5 columns]"
            ]
          },
          "metadata": {
            "tags": []
          },
          "execution_count": 69
        }
      ]
    },
    {
      "cell_type": "code",
      "metadata": {
        "id": "BRh2PMltlBWX"
      },
      "source": [
        "# create trip\n",
        "t = trip.Trip(df_trip)\n",
        "threshold = 1\n",
        "\n",
        "# add variable\n",
        "t.add_step()\n",
        "t.add_cap()\n",
        "t.add_direction()\n",
        "t.add_dive(threshold)\n",
        "t.df['cos_cap'] = np.cos(t.df.cap)\n",
        "t.df['sin_cap'] = np.sin(t.df.cap)\n",
        "\n",
        "# standardize variable\n",
        "t.standardize(('step', 'direction'))\n",
        "t.standardize_minmax(('lon', 'lat'))"
      ],
      "execution_count": 70,
      "outputs": []
    },
    {
      "cell_type": "code",
      "metadata": {
        "id": "ALhefV1YlBWa",
        "outputId": "db5e966d-b061-4b2d-b05a-d4d1ff80539b",
        "colab": {
          "base_uri": "https://localhost:8080/",
          "height": 211
        }
      },
      "source": [
        "t.plot()"
      ],
      "execution_count": 71,
      "outputs": [
        {
          "output_type": "display_data",
          "data": {
            "image/png": "[encoded data removed]",
            "text/plain": [
              "<Figure size 1080x216 with 3 Axes>"
            ]
          },
          "metadata": {
            "tags": [],
            "needs_background": "light"
          }
        }
      ]
    },
    {
      "cell_type": "code",
      "metadata": {
        "id": "elWsE3tYlBWd",
        "scrolled": true,
        "outputId": "5648a731-1a62-43b9-a0ad-c0a265f5768b",
        "colab": {
          "base_uri": "https://localhost:8080/",
          "height": 35
        }
      },
      "source": [
        "t.get_duration()"
      ],
      "execution_count": 72,
      "outputs": [
        {
          "output_type": "execute_result",
          "data": {
            "text/plain": [
              "Timedelta('0 days 01:50:26')"
            ]
          },
          "metadata": {
            "tags": []
          },
          "execution_count": 72
        }
      ]
    },
    {
      "cell_type": "code",
      "metadata": {
        "id": "61lUiLy0lBWh",
        "scrolled": true,
        "outputId": "4a9bf06a-b52d-479d-d3eb-e5289b24c566",
        "colab": {
          "base_uri": "https://localhost:8080/",
          "height": 35
        }
      },
      "source": [
        "t.get_distance()"
      ],
      "execution_count": 73,
      "outputs": [
        {
          "output_type": "execute_result",
          "data": {
            "text/plain": [
              "88.1484595608965"
            ]
          },
          "metadata": {
            "tags": []
          },
          "execution_count": 73
        }
      ]
    },
    {
      "cell_type": "code",
      "metadata": {
        "id": "_fPGn8y2nIBV",
        "outputId": "d75fc9e0-83b2-44bd-b24e-e947056b4c00",
        "colab": {
          "base_uri": "https://localhost:8080/",
          "height": 206
        }
      },
      "source": [
        "t.df.head()"
      ],
      "execution_count": 74,
      "outputs": [
        {
          "output_type": "execute_result",
          "data": {
            "text/html": [
              "<div>\n",
              "<style scoped>\n",
              "    .dataframe tbody tr th:only-of-type {\n",
              "        vertical-align: middle;\n",
              "    }\n",
              "\n",
              "    .dataframe tbody tr th {\n",
              "        vertical-align: top;\n",
              "    }\n",
              "\n",
              "    .dataframe thead th {\n",
              "        text-align: right;\n",
              "    }\n",
              "</style>\n",
              "<table border=\"1\" class=\"dataframe\">\n",
              "  <thead>\n",
              "    <tr style=\"text-align: right;\">\n",
              "      <th></th>\n",
              "      <th>trip</th>\n",
              "      <th>datetime</th>\n",
              "      <th>pressure</th>\n",
              "      <th>lon</th>\n",
              "      <th>lat</th>\n",
              "      <th>step</th>\n",
              "      <th>cap</th>\n",
              "      <th>direction</th>\n",
              "      <th>dive</th>\n",
              "      <th>cos_cap</th>\n",
              "      <th>sin_cap</th>\n",
              "      <th>step_std</th>\n",
              "      <th>direction_std</th>\n",
              "      <th>lon_std_mm</th>\n",
              "      <th>lat_std_mm</th>\n",
              "    </tr>\n",
              "  </thead>\n",
              "  <tbody>\n",
              "    <tr>\n",
              "      <th>0</th>\n",
              "      <td>P1108_4_SV_T1</td>\n",
              "      <td>2008-11-25 13:00:35</td>\n",
              "      <td>-0.35</td>\n",
              "      <td>-77.264128</td>\n",
              "      <td>-11.773317</td>\n",
              "      <td>NaN</td>\n",
              "      <td>NaN</td>\n",
              "      <td>NaN</td>\n",
              "      <td>0</td>\n",
              "      <td>NaN</td>\n",
              "      <td>NaN</td>\n",
              "      <td>NaN</td>\n",
              "      <td>NaN</td>\n",
              "      <td>0.999801</td>\n",
              "      <td>0.143444</td>\n",
              "    </tr>\n",
              "    <tr>\n",
              "      <th>1</th>\n",
              "      <td>P1108_4_SV_T1</td>\n",
              "      <td>2008-11-25 13:00:36</td>\n",
              "      <td>-0.38</td>\n",
              "      <td>-77.264118</td>\n",
              "      <td>-11.773235</td>\n",
              "      <td>9.192428</td>\n",
              "      <td>6.808074</td>\n",
              "      <td>NaN</td>\n",
              "      <td>0</td>\n",
              "      <td>0.865380</td>\n",
              "      <td>0.501117</td>\n",
              "      <td>-1.114452</td>\n",
              "      <td>NaN</td>\n",
              "      <td>0.999830</td>\n",
              "      <td>0.144644</td>\n",
              "    </tr>\n",
              "    <tr>\n",
              "      <th>2</th>\n",
              "      <td>P1108_4_SV_T1</td>\n",
              "      <td>2008-11-25 13:00:37</td>\n",
              "      <td>-0.35</td>\n",
              "      <td>-77.264098</td>\n",
              "      <td>-11.773152</td>\n",
              "      <td>9.492498</td>\n",
              "      <td>13.273123</td>\n",
              "      <td>6.465048</td>\n",
              "      <td>0</td>\n",
              "      <td>0.760475</td>\n",
              "      <td>0.649367</td>\n",
              "      <td>-1.033105</td>\n",
              "      <td>0.316087</td>\n",
              "      <td>0.999889</td>\n",
              "      <td>0.145858</td>\n",
              "    </tr>\n",
              "    <tr>\n",
              "      <th>3</th>\n",
              "      <td>P1108_4_SV_T1</td>\n",
              "      <td>2008-11-25 13:00:38</td>\n",
              "      <td>-0.29</td>\n",
              "      <td>-77.264113</td>\n",
              "      <td>-11.773060</td>\n",
              "      <td>10.370362</td>\n",
              "      <td>350.931311</td>\n",
              "      <td>-22.341812</td>\n",
              "      <td>0</td>\n",
              "      <td>0.600183</td>\n",
              "      <td>-0.799863</td>\n",
              "      <td>-0.795125</td>\n",
              "      <td>-1.099954</td>\n",
              "      <td>0.999845</td>\n",
              "      <td>0.147204</td>\n",
              "    </tr>\n",
              "    <tr>\n",
              "      <th>4</th>\n",
              "      <td>P1108_4_SV_T1</td>\n",
              "      <td>2008-11-25 13:00:39</td>\n",
              "      <td>-0.29</td>\n",
              "      <td>-77.264142</td>\n",
              "      <td>-11.772955</td>\n",
              "      <td>12.107480</td>\n",
              "      <td>344.870108</td>\n",
              "      <td>-6.061203</td>\n",
              "      <td>0</td>\n",
              "      <td>0.761557</td>\n",
              "      <td>-0.648098</td>\n",
              "      <td>-0.324208</td>\n",
              "      <td>-0.299658</td>\n",
              "      <td>0.999760</td>\n",
              "      <td>0.148740</td>\n",
              "    </tr>\n",
              "  </tbody>\n",
              "</table>\n",
              "</div>"
            ],
            "text/plain": [
              "            trip            datetime  ...  lon_std_mm  lat_std_mm\n",
              "0  P1108_4_SV_T1 2008-11-25 13:00:35  ...    0.999801    0.143444\n",
              "1  P1108_4_SV_T1 2008-11-25 13:00:36  ...    0.999830    0.144644\n",
              "2  P1108_4_SV_T1 2008-11-25 13:00:37  ...    0.999889    0.145858\n",
              "3  P1108_4_SV_T1 2008-11-25 13:00:38  ...    0.999845    0.147204\n",
              "4  P1108_4_SV_T1 2008-11-25 13:00:39  ...    0.999760    0.148740\n",
              "\n",
              "[5 rows x 15 columns]"
            ]
          },
          "metadata": {
            "tags": []
          },
          "execution_count": 74
        }
      ]
    },
    {
      "cell_type": "markdown",
      "metadata": {
        "id": "ZSqMbo6zlBWw"
      },
      "source": [
        "## Dive Prediction"
      ]
    },
    {
      "cell_type": "code",
      "metadata": {
        "id": "fLC0RAsXlBW0",
        "outputId": "18b2f967-f389-4aee-8273-97d4030ed1b6",
        "colab": {
          "base_uri": "https://localhost:8080/",
          "height": 72
        }
      },
      "source": [
        "%%time\n",
        "\n",
        "trajs = []\n",
        "radius = 500\n",
        "n = 1\n",
        "for k in df.trip.unique():\n",
        "    df_trip = df[df.trip == k]\n",
        "    \n",
        "    t = trip.Trip(df_trip)\n",
        "    # add variables\n",
        "    t.add_dive(threshold)\n",
        "    t.add_step()\n",
        "    t.add_cap()\n",
        "    t.add_direction()\n",
        "    t.df['cos_cap'] = np.cos(t.df.cap)\n",
        "    t.df['sin_cap'] = np.sin(t.df.cap)\n",
        "\n",
        "    # standardized trajectories\n",
        "    t.standardize(('step', 'direction'))\n",
        "    t.standardize_minmax(('lon', 'lat'))\n",
        "\n",
        "    trajs.append(t.df)\n",
        "    \n",
        "    IPython.display.clear_output(wait=True)\n",
        "    print('Trip [{}/{}]'.format(n, len(df.trip.unique())))\n",
        "    n+=1"
      ],
      "execution_count": 75,
      "outputs": [
        {
          "output_type": "stream",
          "text": [
            "Trip [170/170]\n",
            "CPU times: user 22.6 s, sys: 375 ms, total: 22.9 s\n",
            "Wall time: 23 s\n"
          ],
          "name": "stdout"
        }
      ]
    },
    {
      "cell_type": "code",
      "metadata": {
        "id": "ictIDcImlBW2",
        "outputId": "29327287-4c90-4b71-9703-b3bc9cb84cfe",
        "colab": {
          "base_uri": "https://localhost:8080/",
          "height": 424
        }
      },
      "source": [
        "trajs[0]"
      ],
      "execution_count": 76,
      "outputs": [
        {
          "output_type": "execute_result",
          "data": {
            "text/html": [
              "<div>\n",
              "<style scoped>\n",
              "    .dataframe tbody tr th:only-of-type {\n",
              "        vertical-align: middle;\n",
              "    }\n",
              "\n",
              "    .dataframe tbody tr th {\n",
              "        vertical-align: top;\n",
              "    }\n",
              "\n",
              "    .dataframe thead th {\n",
              "        text-align: right;\n",
              "    }\n",
              "</style>\n",
              "<table border=\"1\" class=\"dataframe\">\n",
              "  <thead>\n",
              "    <tr style=\"text-align: right;\">\n",
              "      <th></th>\n",
              "      <th>trip</th>\n",
              "      <th>datetime</th>\n",
              "      <th>pressure</th>\n",
              "      <th>lon</th>\n",
              "      <th>lat</th>\n",
              "      <th>dive</th>\n",
              "      <th>step</th>\n",
              "      <th>cap</th>\n",
              "      <th>direction</th>\n",
              "      <th>cos_cap</th>\n",
              "      <th>sin_cap</th>\n",
              "      <th>step_std</th>\n",
              "      <th>direction_std</th>\n",
              "      <th>lon_std_mm</th>\n",
              "      <th>lat_std_mm</th>\n",
              "    </tr>\n",
              "  </thead>\n",
              "  <tbody>\n",
              "    <tr>\n",
              "      <th>0</th>\n",
              "      <td>P1108_4_SV_T1</td>\n",
              "      <td>2008-11-25 13:00:35</td>\n",
              "      <td>-0.35</td>\n",
              "      <td>-77.264128</td>\n",
              "      <td>-11.773317</td>\n",
              "      <td>0</td>\n",
              "      <td>NaN</td>\n",
              "      <td>NaN</td>\n",
              "      <td>NaN</td>\n",
              "      <td>NaN</td>\n",
              "      <td>NaN</td>\n",
              "      <td>NaN</td>\n",
              "      <td>NaN</td>\n",
              "      <td>0.999801</td>\n",
              "      <td>0.143444</td>\n",
              "    </tr>\n",
              "    <tr>\n",
              "      <th>1</th>\n",
              "      <td>P1108_4_SV_T1</td>\n",
              "      <td>2008-11-25 13:00:36</td>\n",
              "      <td>-0.38</td>\n",
              "      <td>-77.264118</td>\n",
              "      <td>-11.773235</td>\n",
              "      <td>0</td>\n",
              "      <td>9.192428</td>\n",
              "      <td>6.808074</td>\n",
              "      <td>NaN</td>\n",
              "      <td>0.865380</td>\n",
              "      <td>0.501117</td>\n",
              "      <td>-1.114452</td>\n",
              "      <td>NaN</td>\n",
              "      <td>0.999830</td>\n",
              "      <td>0.144644</td>\n",
              "    </tr>\n",
              "    <tr>\n",
              "      <th>2</th>\n",
              "      <td>P1108_4_SV_T1</td>\n",
              "      <td>2008-11-25 13:00:37</td>\n",
              "      <td>-0.35</td>\n",
              "      <td>-77.264098</td>\n",
              "      <td>-11.773152</td>\n",
              "      <td>0</td>\n",
              "      <td>9.492498</td>\n",
              "      <td>13.273123</td>\n",
              "      <td>6.465048</td>\n",
              "      <td>0.760475</td>\n",
              "      <td>0.649367</td>\n",
              "      <td>-1.033105</td>\n",
              "      <td>0.316087</td>\n",
              "      <td>0.999889</td>\n",
              "      <td>0.145858</td>\n",
              "    </tr>\n",
              "    <tr>\n",
              "      <th>3</th>\n",
              "      <td>P1108_4_SV_T1</td>\n",
              "      <td>2008-11-25 13:00:38</td>\n",
              "      <td>-0.29</td>\n",
              "      <td>-77.264113</td>\n",
              "      <td>-11.773060</td>\n",
              "      <td>0</td>\n",
              "      <td>10.370362</td>\n",
              "      <td>350.931311</td>\n",
              "      <td>-22.341812</td>\n",
              "      <td>0.600183</td>\n",
              "      <td>-0.799863</td>\n",
              "      <td>-0.795125</td>\n",
              "      <td>-1.099954</td>\n",
              "      <td>0.999845</td>\n",
              "      <td>0.147204</td>\n",
              "    </tr>\n",
              "    <tr>\n",
              "      <th>4</th>\n",
              "      <td>P1108_4_SV_T1</td>\n",
              "      <td>2008-11-25 13:00:39</td>\n",
              "      <td>-0.29</td>\n",
              "      <td>-77.264142</td>\n",
              "      <td>-11.772955</td>\n",
              "      <td>0</td>\n",
              "      <td>12.107480</td>\n",
              "      <td>344.870108</td>\n",
              "      <td>-6.061203</td>\n",
              "      <td>0.761557</td>\n",
              "      <td>-0.648098</td>\n",
              "      <td>-0.324208</td>\n",
              "      <td>-0.299658</td>\n",
              "      <td>0.999760</td>\n",
              "      <td>0.148740</td>\n",
              "    </tr>\n",
              "    <tr>\n",
              "      <th>...</th>\n",
              "      <td>...</td>\n",
              "      <td>...</td>\n",
              "      <td>...</td>\n",
              "      <td>...</td>\n",
              "      <td>...</td>\n",
              "      <td>...</td>\n",
              "      <td>...</td>\n",
              "      <td>...</td>\n",
              "      <td>...</td>\n",
              "      <td>...</td>\n",
              "      <td>...</td>\n",
              "      <td>...</td>\n",
              "      <td>...</td>\n",
              "      <td>...</td>\n",
              "      <td>...</td>\n",
              "    </tr>\n",
              "    <tr>\n",
              "      <th>6622</th>\n",
              "      <td>P1108_4_SV_T1</td>\n",
              "      <td>2008-11-25 14:50:57</td>\n",
              "      <td>-0.29</td>\n",
              "      <td>-77.264097</td>\n",
              "      <td>-11.773710</td>\n",
              "      <td>0</td>\n",
              "      <td>15.773785</td>\n",
              "      <td>194.809616</td>\n",
              "      <td>17.804082</td>\n",
              "      <td>0.999524</td>\n",
              "      <td>0.030867</td>\n",
              "      <td>0.669693</td>\n",
              "      <td>0.873473</td>\n",
              "      <td>0.999892</td>\n",
              "      <td>0.137695</td>\n",
              "    </tr>\n",
              "    <tr>\n",
              "      <th>6623</th>\n",
              "      <td>P1108_4_SV_T1</td>\n",
              "      <td>2008-11-25 14:50:58</td>\n",
              "      <td>-0.29</td>\n",
              "      <td>-77.264223</td>\n",
              "      <td>-11.773817</td>\n",
              "      <td>0</td>\n",
              "      <td>18.176315</td>\n",
              "      <td>229.059760</td>\n",
              "      <td>34.250144</td>\n",
              "      <td>-0.962016</td>\n",
              "      <td>0.272994</td>\n",
              "      <td>1.320996</td>\n",
              "      <td>1.681902</td>\n",
              "      <td>0.999523</td>\n",
              "      <td>0.136130</td>\n",
              "    </tr>\n",
              "    <tr>\n",
              "      <th>6624</th>\n",
              "      <td>P1108_4_SV_T1</td>\n",
              "      <td>2008-11-25 14:50:59</td>\n",
              "      <td>-0.26</td>\n",
              "      <td>-77.264307</td>\n",
              "      <td>-11.773860</td>\n",
              "      <td>0</td>\n",
              "      <td>10.329409</td>\n",
              "      <td>242.394637</td>\n",
              "      <td>13.334877</td>\n",
              "      <td>-0.881389</td>\n",
              "      <td>-0.472392</td>\n",
              "      <td>-0.806227</td>\n",
              "      <td>0.653783</td>\n",
              "      <td>0.999277</td>\n",
              "      <td>0.135500</td>\n",
              "    </tr>\n",
              "    <tr>\n",
              "      <th>6625</th>\n",
              "      <td>P1108_4_SV_T1</td>\n",
              "      <td>2008-11-25 14:51:00</td>\n",
              "      <td>-0.22</td>\n",
              "      <td>-77.264363</td>\n",
              "      <td>-11.773875</td>\n",
              "      <td>0</td>\n",
              "      <td>6.326643</td>\n",
              "      <td>254.697607</td>\n",
              "      <td>12.302970</td>\n",
              "      <td>-0.973984</td>\n",
              "      <td>-0.226616</td>\n",
              "      <td>-1.891339</td>\n",
              "      <td>0.603058</td>\n",
              "      <td>0.999113</td>\n",
              "      <td>0.135281</td>\n",
              "    </tr>\n",
              "    <tr>\n",
              "      <th>6626</th>\n",
              "      <td>P1108_4_SV_T1</td>\n",
              "      <td>2008-11-25 14:51:01</td>\n",
              "      <td>-0.22</td>\n",
              "      <td>-77.264395</td>\n",
              "      <td>-11.773895</td>\n",
              "      <td>0</td>\n",
              "      <td>4.137113</td>\n",
              "      <td>237.444521</td>\n",
              "      <td>-17.253086</td>\n",
              "      <td>0.251544</td>\n",
              "      <td>-0.967846</td>\n",
              "      <td>-2.484900</td>\n",
              "      <td>-0.849811</td>\n",
              "      <td>0.999019</td>\n",
              "      <td>0.134988</td>\n",
              "    </tr>\n",
              "  </tbody>\n",
              "</table>\n",
              "<p>6627 rows × 15 columns</p>\n",
              "</div>"
            ],
            "text/plain": [
              "               trip            datetime  ...  lon_std_mm  lat_std_mm\n",
              "0     P1108_4_SV_T1 2008-11-25 13:00:35  ...    0.999801    0.143444\n",
              "1     P1108_4_SV_T1 2008-11-25 13:00:36  ...    0.999830    0.144644\n",
              "2     P1108_4_SV_T1 2008-11-25 13:00:37  ...    0.999889    0.145858\n",
              "3     P1108_4_SV_T1 2008-11-25 13:00:38  ...    0.999845    0.147204\n",
              "4     P1108_4_SV_T1 2008-11-25 13:00:39  ...    0.999760    0.148740\n",
              "...             ...                 ...  ...         ...         ...\n",
              "6622  P1108_4_SV_T1 2008-11-25 14:50:57  ...    0.999892    0.137695\n",
              "6623  P1108_4_SV_T1 2008-11-25 14:50:58  ...    0.999523    0.136130\n",
              "6624  P1108_4_SV_T1 2008-11-25 14:50:59  ...    0.999277    0.135500\n",
              "6625  P1108_4_SV_T1 2008-11-25 14:51:00  ...    0.999113    0.135281\n",
              "6626  P1108_4_SV_T1 2008-11-25 14:51:01  ...    0.999019    0.134988\n",
              "\n",
              "[6627 rows x 15 columns]"
            ]
          },
          "metadata": {
            "tags": []
          },
          "execution_count": 76
        }
      ]
    },
    {
      "cell_type": "code",
      "metadata": {
        "id": "3QamIv7s9mzK"
      },
      "source": [
        "test_trajs_idx = np.random.randint(0, len(df.trip.unique()), 30)\n",
        "\n",
        "test_trajs = [trajs[i] for i in test_trajs_idx]\n",
        "train_trajs = [trajs[i] for i in range(len(df.trip.unique())) if i not in test_trajs_idx]"
      ],
      "execution_count": 77,
      "outputs": []
    },
    {
      "cell_type": "markdown",
      "metadata": {
        "id": "biCtWhQDM8Gg"
      },
      "source": [
        "## Neural Networks"
      ]
    },
    {
      "cell_type": "code",
      "metadata": {
        "id": "MaOTUwij9uRq"
      },
      "source": [
        "# pytorch materials\n",
        "import torch\n",
        "from torch import nn\n",
        "from torch import optim\n",
        "import torchvision as tv\n",
        "from torchvision.datasets import ImageFolder\n",
        "from torch.utils.data import DataLoader"
      ],
      "execution_count": 78,
      "outputs": []
    },
    {
      "cell_type": "code",
      "metadata": {
        "id": "S2kxbquAwwA4"
      },
      "source": [
        "class Sampler:\n",
        "    def __init__(self, trajs, epoch, batch_size, input_var):\n",
        "      # raw trajectories\n",
        "      self.trajs = trajs\n",
        "      self.n = len(trajs)\n",
        "      # sample input specificities\n",
        "      self.epoch = epoch\n",
        "      self.batch_size = batch_size\n",
        "      self.input_var = input_var\n",
        "\n",
        "\n",
        "    def sample(self):\n",
        "      input_batch = []\n",
        "      output_batch = []\n",
        "      for i in range(self.batch_size):\n",
        "        # look for a long trip\n",
        "        dt = []\n",
        "        while len(dt) < epoch:\n",
        "            traj_idx = np.random.randint(self.n)\n",
        "            dt = self.trajs[traj_idx]\n",
        "\n",
        "        # select part of this trip\n",
        "        epoch_idx = np.random.randint(2, len(dt)-epoch)\n",
        "\n",
        "        input_trajs = dt.loc[epoch_idx:epoch_idx+epoch-1, self.input_var]\n",
        "        output_trajs = dt.loc[epoch_idx:epoch_idx+epoch-1, 'dive']\n",
        "\n",
        "        # change resolution\n",
        "        output = [np.max(output_trajs[i:i+11]) for i in range(len(output_trajs)) if i%10==0]\n",
        "\n",
        "        # add it to batch\n",
        "        input_batch.append(input_trajs.to_numpy().T)\n",
        "        output_batch.append(np.array(output))\n",
        "\n",
        "      # convert to tensor\n",
        "      input_batch = torch.FloatTensor(input_batch)\n",
        "      output_batch = torch.FloatTensor(output_batch)\n",
        "\n",
        "      return (input_batch, output_batch)"
      ],
      "execution_count": 79,
      "outputs": []
    },
    {
      "cell_type": "code",
      "metadata": {
        "id": "U8ILuuNNzZgj",
        "outputId": "8295778f-ee9d-46f5-c0ad-169cedd7639a",
        "colab": {
          "base_uri": "https://localhost:8080/",
          "height": 35
        }
      },
      "source": [
        "# Hyperparameters\n",
        "epoch = 600\n",
        "batch_size = 8\n",
        "learning_rate = 0.01\n",
        "input_var = ('lon_std_mm', 'lat_std_mm', 'step_std', 'direction_std', 'cos_cap', 'sin_cap')\n",
        "\n",
        "train = Sampler(train_trajs, epoch, batch_size, input_var)\n",
        "test = Sampler(test_trajs, epoch, batch_size, input_var)\n",
        "\n",
        "(x, y) = train.sample()\n",
        "\n",
        "x.size()"
      ],
      "execution_count": 80,
      "outputs": [
        {
          "output_type": "execute_result",
          "data": {
            "text/plain": [
              "torch.Size([8, 6, 600])"
            ]
          },
          "metadata": {
            "tags": []
          },
          "execution_count": 80
        }
      ]
    },
    {
      "cell_type": "code",
      "metadata": {
        "id": "_fVKBJHAhZj6",
        "outputId": "1c7156b6-f455-40a6-86ed-17ce5fb035b2",
        "colab": {
          "base_uri": "https://localhost:8080/",
          "height": 483
        }
      },
      "source": [
        "plt.figure(figsize=(16, 8))\n",
        "\n",
        "for i in range(8):\n",
        "    lon = x.numpy()[i][0]\n",
        "    lat = x.numpy()[i][1]\n",
        "\n",
        "    real = y.numpy()[i]\n",
        "    real = [real[i] for i in range(len(real)) for k in range(10) ]\n",
        "\n",
        "    plt.subplot(2, 4, i+1)\n",
        "    plt.plot(lon, lat)\n",
        "    plt.scatter(lon[np.where(real)], lat[np.where(real)], c='orange')"
      ],
      "execution_count": 81,
      "outputs": [
        {
          "output_type": "display_data",
          "data": {
            "image/png": "[encoded data removed]",
            "text/plain": [
              "<Figure size 1152x576 with 8 Axes>"
            ]
          },
          "metadata": {
            "tags": [],
            "needs_background": "light"
          }
        }
      ]
    },
    {
      "cell_type": "code",
      "metadata": {
        "id": "J9gckKCMNIXd"
      },
      "source": [
        "class ConvNet(nn.Module):\n",
        "    def __init__(self):\n",
        "        super(ConvNet, self).__init__()\n",
        "        \n",
        "        self.cnn_input_1 = nn.Sequential(\n",
        "            nn.Conv1d(6, 8, kernel_size = 6, stride = 1, padding = 2, dilation = 1),\n",
        "            nn.ReLU(),\n",
        "            nn.Conv1d(8, 8, kernel_size = 6, stride = 1, padding = 3, dilation = 1),\n",
        "            nn.ReLU()\n",
        "        )\n",
        "\n",
        "        self.pooling_1 = nn.Sequential(\n",
        "            nn.MaxPool1d(kernel_size = 5, stride = 2, padding = 2, dilation = 1)\n",
        "        )\n",
        "\n",
        "        self.cnn_input_2 = nn.Sequential(\n",
        "            nn.Conv1d(8, 16, kernel_size = 6, stride = 1, padding = 2, dilation = 1),\n",
        "            nn.ReLU(),\n",
        "            nn.Conv1d(16, 16, kernel_size = 6, stride = 1, padding = 3, dilation = 1),\n",
        "            nn.ReLU()\n",
        "        )\n",
        "\n",
        "        self.pooling_2 = nn.Sequential(\n",
        "            nn.MaxPool1d(kernel_size = 5, stride = 2, padding = 2, dilation = 1)\n",
        "        )\n",
        "\n",
        "        self.cnn_input_3 = nn.Sequential(\n",
        "            nn.Conv1d(16, 32, kernel_size = 6, stride = 1, padding = 2, dilation = 1),\n",
        "            nn.ReLU(),\n",
        "            nn.Conv1d(32, 32, kernel_size = 6, stride = 1, padding = 3, dilation = 1),\n",
        "            nn.ReLU()\n",
        "        )\n",
        "\n",
        "        self.pooling_3 = nn.Sequential(\n",
        "            nn.MaxPool1d(kernel_size = 5, stride = 2, padding = 1, dilation = 8)\n",
        "        )\n",
        "\n",
        "        self.cnn_4 = nn.Sequential(\n",
        "            nn.Conv1d(32, 16, kernel_size = 6, stride = 1, padding = 3, dilation = 1),\n",
        "            nn.ReLU(),\n",
        "            nn.Conv1d(16, 8, kernel_size = 6, stride = 1, padding = 3, dilation = 1),\n",
        "            nn.ReLU(),\n",
        "            nn.Conv1d(8, 2, kernel_size = 6, stride = 1, padding = 2, dilation = 1),\n",
        "            nn.ReLU(),\n",
        "            nn.Conv1d(2, 1, kernel_size = 6, stride = 1, padding = 2, dilation = 1),\n",
        "            nn.Sigmoid()\n",
        "        )\n",
        "        \n",
        "        # self.upconv_3 = nn.Sequential(\n",
        "        #     nn.ConvTranspose1d(64, 32, kernel_size = 12, stride = 2, padding = 5, dilation = 1)\n",
        "        # )\n",
        "\n",
        "        # self.cnn_output_3 = nn.Sequential(\n",
        "        #     nn.Conv1d(64, 32, kernel_size = 6, stride = 1, padding = 5, dilation = 2),\n",
        "        #     nn.ReLU(),\n",
        "        #     nn.Conv1d(32, 32, kernel_size = 6, stride = 1, padding = 5, dilation = 2),\n",
        "        #     nn.ReLU()\n",
        "        # )\n",
        "\n",
        "        # self.upconv_2 = nn.Sequential(\n",
        "        #     nn.ConvTranspose1d(32, 16, kernel_size = 22, stride = 2, padding = 10, dilation = 1)\n",
        "        # )\n",
        "\n",
        "        # self.cnn_output_2 = nn.Sequential(\n",
        "        #     nn.Conv1d(32, 16, kernel_size = 11, stride = 1, padding = 10, dilation = 2),\n",
        "        #     nn.ReLU(),\n",
        "        #     nn.Conv1d(16, 16, kernel_size = 11, stride = 1, padding = 10, dilation = 2),\n",
        "        #     nn.ReLU()\n",
        "        # )\n",
        "\n",
        "        # self.upconv_1 = nn.Sequential(\n",
        "        #     nn.ConvTranspose1d(16, 8, kernel_size = 20, stride = 2, padding = 23, dilation = 1)\n",
        "        # )\n",
        "         \n",
        "        # self.cnn_output_1 = nn.Sequential(\n",
        "        #     nn.Conv1d(16, 2, kernel_size = 26, stride = 1, padding = 25, dilation = 2),\n",
        "        #     nn.ReLU(),\n",
        "        #     nn.Conv1d(2, 1, kernel_size = 26, stride = 1, padding = 25, dilation = 2),\n",
        "        #     nn.Sigmoid()\n",
        "        # )\n",
        "\n",
        "                \n",
        "    def forward(self, x):\n",
        "        out_1 = self.cnn_input_1(x)\n",
        "        out = self.pooling_1(out_1)\n",
        "        out_2 = self.cnn_input_2(out)\n",
        "        out = self.pooling_2(out_2)\n",
        "        out_3 = self.cnn_input_3(out)\n",
        "        out = self.pooling_3(out_3)\n",
        "        out = self.cnn_4(out)\n",
        "        # out = self.upconv_3(out)\n",
        "        # out = torch.cat((out, out_3), 1)\n",
        "        # out = self.cnn_output_3(out)\n",
        "        # out = self.upconv_2(out)\n",
        "        # out = torch.cat((out, out_2), 1)\n",
        "        # out = self.cnn_output_2(out)\n",
        "        # out = self.upconv_1(out)\n",
        "        # out = torch.cat((out, out_1), 1)\n",
        "        # out = self.cnn_output_1(out)\n",
        "\n",
        "        return out.reshape((8, 60))"
      ],
      "execution_count": 196,
      "outputs": []
    },
    {
      "cell_type": "code",
      "metadata": {
        "id": "raZoL_8mjDDw",
        "outputId": "549f9f6c-25f5-4124-e0c7-201da9305dee",
        "colab": {
          "base_uri": "https://localhost:8080/",
          "height": 35
        }
      },
      "source": [
        "model = ConvNet()\n",
        "\n",
        "out_1 = model.cnn_input_1(x)\n",
        "out = model.pooling_1(out_1)\n",
        "out_2 = model.cnn_input_2(out)\n",
        "out = model.pooling_2(out_2)\n",
        "out_3 = model.cnn_input_3(out)\n",
        "out = model.pooling_3(out_3)\n",
        "out = model.cnn_4(out)\n",
        "# out = model.upconv_3(out)\n",
        "# out = torch.cat((out, out_3), 1)\n",
        "# out = model.cnn_output_3(out)\n",
        "# out = model.upconv_2(out)\n",
        "# out = torch.cat((out, out_2), 1)\n",
        "# out = model.cnn_output_2(out)\n",
        "# out = model.upconv_1(out)\n",
        "# out = torch.cat((out, out_1), 1)\n",
        "# out = model.cnn_output_1(out)\n",
        "\n",
        "\n",
        "out.size()"
      ],
      "execution_count": 197,
      "outputs": [
        {
          "output_type": "execute_result",
          "data": {
            "text/plain": [
              "torch.Size([8, 1, 60])"
            ]
          },
          "metadata": {
            "tags": []
          },
          "execution_count": 197
        }
      ]
    },
    {
      "cell_type": "code",
      "metadata": {
        "id": "f67eVqDINKRx",
        "outputId": "1f53cfc9-d59e-4734-c1c2-b0f3bb1ef731",
        "colab": {
          "base_uri": "https://localhost:8080/",
          "height": 35
        }
      },
      "source": [
        "model = ConvNet()\n",
        "out = model(x)\n",
        "out.size()"
      ],
      "execution_count": 198,
      "outputs": [
        {
          "output_type": "execute_result",
          "data": {
            "text/plain": [
              "torch.Size([8, 60])"
            ]
          },
          "metadata": {
            "tags": []
          },
          "execution_count": 198
        }
      ]
    },
    {
      "cell_type": "code",
      "metadata": {
        "id": "ELWzpTeiNPct"
      },
      "source": [
        "# Loss and optimizer\n",
        "criterion = nn.BCELoss()\n",
        "optimizer = torch.optim.SGD(model.parameters(), lr=learning_rate)"
      ],
      "execution_count": 199,
      "outputs": []
    },
    {
      "cell_type": "code",
      "metadata": {
        "id": "IBeASnGsNSuL",
        "outputId": "499d6627-4478-44a1-c7e0-a88acc4a30f5",
        "colab": {
          "base_uri": "https://localhost:8080/",
          "height": 35
        }
      },
      "source": [
        "criterion(out, y)"
      ],
      "execution_count": 200,
      "outputs": [
        {
          "output_type": "execute_result",
          "data": {
            "text/plain": [
              "tensor(0.5974, grad_fn=<BinaryCrossEntropyBackward>)"
            ]
          },
          "metadata": {
            "tags": []
          },
          "execution_count": 200
        }
      ]
    },
    {
      "cell_type": "code",
      "metadata": {
        "id": "ibJb2FZqPkZH",
        "outputId": "93795f57-629e-48a2-ca10-5f8e58fb8aef",
        "colab": {
          "base_uri": "https://localhost:8080/",
          "height": 35
        }
      },
      "source": [
        "## estimate a relevant nb of total step\n",
        "test_step = 100\n",
        "\n",
        "total_step = round(0.7 * (len(df) - len(df_trip.trip.unique()) * epoch)/batch_size)\n",
        "total_step"
      ],
      "execution_count": 205,
      "outputs": [
        {
          "output_type": "execute_result",
          "data": {
            "text/plain": [
              "75453"
            ]
          },
          "metadata": {
            "tags": []
          },
          "execution_count": 205
        }
      ]
    },
    {
      "cell_type": "code",
      "metadata": {
        "id": "f4Pli5CetwPA"
      },
      "source": [
        "# # switch to GPU\n",
        "# device = torch.device('cuda' if torch.cuda.is_available() else 'cpu')\n",
        "# device"
      ],
      "execution_count": 206,
      "outputs": []
    },
    {
      "cell_type": "code",
      "metadata": {
        "id": "kkacJC-Bt7fR"
      },
      "source": [
        "# model.to(device)"
      ],
      "execution_count": 207,
      "outputs": []
    },
    {
      "cell_type": "code",
      "metadata": {
        "id": "z_0oOEOlNUbm",
        "outputId": "be95f3c6-654c-4922-bcdd-b785c10ca592",
        "colab": {
          "base_uri": "https://localhost:8080/",
          "height": 72
        }
      },
      "source": [
        "# Train the model\n",
        "list_score =[]\n",
        "list_loss = []\n",
        "for i in range(total_step):\n",
        "    \n",
        "    # Train the model\n",
        "    model.train()\n",
        "    (x,y) = train.sample() \n",
        "    # x, y = x.to(device), y.to(device)\n",
        "\n",
        "    # Run the forward pass\n",
        "    out = model(x)\n",
        "    loss = criterion(out, y)\n",
        "\n",
        "    # Backprop and perform optimisation\n",
        "    optimizer.zero_grad()\n",
        "    loss.backward()\n",
        "    optimizer.step()\n",
        "    \n",
        "\n",
        "    if (i + 1) % 1000 == 0:  \n",
        "        # Test the model\n",
        "        model.eval()\n",
        "        with torch.no_grad():\n",
        "            real = []\n",
        "            estim = []\n",
        "            for k in range(test_step):\n",
        "                (x,y) = test.sample()\n",
        "                # x, y = x.to(device), y.to(device)\n",
        "                out = model(x)\n",
        "                \n",
        "                # dive prediction\n",
        "                real.append( y.cpu().reshape(8*60).detach().numpy() )\n",
        "                estim.append( out.cpu().reshape(8*60).detach().numpy() )\n",
        "\n",
        "            real = np.hstack(real)\n",
        "            estim = np.hstack(estim)\n",
        "\n",
        "            # no dive prediction performance\n",
        "            no_dive_prediction = [estim[i] for i in range(estim.shape[0]) if not real[i]]\n",
        "            true_no_dive = 1-np.sum(no_dive_prediction)/len(no_dive_prediction)\n",
        "\n",
        "            # dive prediction performance\n",
        "            dive_prediction = [estim[i] for i in range(estim.shape[0]) if real[i]]\n",
        "            true_dive = np.sum(dive_prediction)/len(dive_prediction)\n",
        "        \n",
        "            score = (true_no_dive + true_dive)/2\n",
        "\n",
        "            list_loss.append(loss.item())\n",
        "            list_score.append(score)\n",
        "\n",
        "\n",
        "        print('Step [{}/{}], Loss: {:.4f}, Accuracy: {} %'\n",
        "              .format(i + 1, total_step, loss.item(), score*100))"
      ],
      "execution_count": null,
      "outputs": [
        {
          "output_type": "stream",
          "text": [
            "Step [1000/75453], Loss: 0.2336, Accuracy: 50.000000238705525 %\n",
            "Step [2000/75453], Loss: 0.3346, Accuracy: 50.0000001828816 %\n",
            "Step [3000/75453], Loss: 0.2718, Accuracy: 50.00000030576437 %\n"
          ],
          "name": "stdout"
        }
      ]
    },
    {
      "cell_type": "code",
      "metadata": {
        "id": "nD-_cX0kNYTi",
        "outputId": "b7ac02d9-4684-4989-d4d3-481299b385ec",
        "colab": {
          "base_uri": "https://localhost:8080/",
          "height": 483
        }
      },
      "source": [
        "(x,y) = test.sample()\n",
        "out = model(x)\n",
        "\n",
        "plt.figure(figsize=(16, 8))\n",
        "\n",
        "for i in range(4):\n",
        "# i = 0\n",
        "    lon = x.cpu().numpy()[i][0]\n",
        "    lat = x.cpu().numpy()[i][1]\n",
        "\n",
        "    real = y.cpu().numpy()[i]\n",
        "    estim = out.cpu().detach().numpy()[i] > 0.3\n",
        "\n",
        "    plt.subplot(2, 4, i+1)\n",
        "    plt.plot(lon, lat)\n",
        "    plt.scatter(lon[np.where(real)], lat[np.where(real)], c='orange')\n",
        "    \n",
        "    plt.subplot(2, 4, i+5)\n",
        "    plt.plot(lon, lat)\n",
        "    plt.scatter(lon[np.where(estim)], lat[np.where(estim)], c='red')\n"
      ],
      "execution_count": 130,
      "outputs": [
        {
          "output_type": "display_data",
          "data": {
            "image/png": "[encoded data removed]",
            "text/plain": [
              "<Figure size 1152x576 with 8 Axes>"
            ]
          },
          "metadata": {
            "tags": [],
            "needs_background": "light"
          }
        }
      ]
    },
    {
      "cell_type": "code",
      "metadata": {
        "id": "yIjn1kMhXWc4",
        "outputId": "1be4fdfe-dac7-4ae6-a59e-ed6a1d333df7",
        "colab": {
          "base_uri": "https://localhost:8080/",
          "height": 35
        }
      },
      "source": [
        "true_dive"
      ],
      "execution_count": 122,
      "outputs": [
        {
          "output_type": "execute_result",
          "data": {
            "text/plain": [
              "0.16544289065777742"
            ]
          },
          "metadata": {
            "tags": []
          },
          "execution_count": 122
        }
      ]
    }
  ]
}