{
 "cells": [
  {
   "cell_type": "markdown",
   "metadata": {},
   "source": [
    "# Dive Prediction - Hidden Markov Model\n",
    "\n",
    "*Predicting Seabird Diving Behaviour from GPS data*\n",
    "\n",
    "This notebook trains a HMM to predict seabirds' dives.\n",
    "\n",
    "HMM' characteristics:\n",
    "\n",
    "* *Number of modes* : 3"
   ]
  },
  {
   "cell_type": "markdown",
   "metadata": {},
   "source": [
    "<div class=\"alert alert-info\">\n",
    " ⚠️ Notebook using R\n",
    "</div>"
   ]
  },
  {
   "cell_type": "code",
   "execution_count": 1,
   "metadata": {
    "scrolled": true
   },
   "outputs": [
    {
     "name": "stderr",
     "output_type": "stream",
     "text": [
      "momentuHMM 1.5.2 (2021-01-06)\n",
      "\n",
      "Warning message in print.momentuHMM.version():\n",
      "“  A newer version (1.5.4) is available from CRAN”\n",
      "\n",
      "Attaching package: ‘lubridate’\n",
      "\n",
      "\n",
      "The following object is masked from ‘package:base’:\n",
      "\n",
      "    date\n",
      "\n",
      "\n"
     ]
    }
   ],
   "source": [
    "library(momentuHMM)\n",
    "library(pracma)\n",
    "library(lubridate)"
   ]
  },
  {
   "cell_type": "code",
   "execution_count": 2,
   "metadata": {},
   "outputs": [],
   "source": [
    "options(stringsAsFactors = FALSE)\n",
    "\n",
    "path = \"./results/SD_15s.csv\"\n",
    "\n",
    "data = read.table(path, sep = ',', header = TRUE)\n",
    "data$datetime <- as.POSIXct(data$datetime, tz = 'GMT')"
   ]
  },
  {
   "cell_type": "markdown",
   "metadata": {},
   "source": [
    "# Fit HMM"
   ]
  },
  {
   "cell_type": "code",
   "execution_count": 3,
   "metadata": {},
   "outputs": [],
   "source": [
    "rawData <- data[,c(\"trip\",\"lon\",\"lat\", \"datetime\", \"dive\", \"gaps\")]\n",
    "colnames(rawData) <- c(\"ID\", \"lon\", \"lat\", \"datetime\", \"dive\", \"gaps\")\n",
    "birdData <- prepData(data=rawData, type = \"LL\", coordNames = c(\"lon\", \"lat\"))\n"
   ]
  },
  {
   "cell_type": "markdown",
   "metadata": {},
   "source": [
    "## 3 states with gaps"
   ]
  },
  {
   "cell_type": "code",
   "execution_count": 4,
   "metadata": {},
   "outputs": [],
   "source": [
    "# parameters initialization\n",
    "## cluster K-Means for initialization\n",
    "### STEP\n",
    "clusterBird_step <- kmeans(na.omit(data.frame(birdData$step)), 3)\n",
    "muS_1 <- max(clusterBird_step$centers)\n",
    "muS_2 <- median(clusterBird_step$centers) \n",
    "muS_3 <- min(clusterBird_step$centers) \n",
    "# muS_4 <- muS_3 \n",
    "sdS_1 <- sd(na.omit(birdData$step)[clusterBird_step[[1]] == which(clusterBird_step$centers == max(clusterBird_step$centers))])\n",
    "sdS_2 <- sd(na.omit(birdData$step)[clusterBird_step[[1]] == which(clusterBird_step$centers == median(clusterBird_step$centers))])\n",
    "sdS_3 <- sd(na.omit(birdData$step)[clusterBird_step[[1]] == which(clusterBird_step$centers == min(clusterBird_step$centers))])\n",
    "# sdS_4 <- sdS_3 \n",
    "\n",
    "### ANGLE\n",
    "## for von mises\n",
    "kappaA_1 <- 4\n",
    "kappaA_2 <- 2\n",
    "kappaA_3 <- 0.1\n",
    "# kappaA_4 <- 4\n",
    "\n",
    "### ZERO MASS\n",
    "zeroMass <- length(which(birdData$step == 0))/nrow(birdData) #we need to include zeroMass parameters\n",
    "\n",
    "### FIT MODEL\n",
    "stateNames <- c(\"fly\",\"observe\", \"dive\")\n",
    "dist = list(step = \"gamma\", angle = \"vm\")\n",
    "\n",
    "anglePar0 <- c(kappaA_1, kappaA_2, kappaA_3) \n",
    "stepPar0 <- c(muS_1, muS_2, muS_3, sdS_1, sdS_2, sdS_3, zeroMass, zeroMass, zeroMass)\n",
    "\n",
    "# formula for transition probabilities\n",
    "formula <- ~ 1"
   ]
  },
  {
   "cell_type": "code",
   "execution_count": 5,
   "metadata": {
    "scrolled": false
   },
   "outputs": [
    {
     "name": "stderr",
     "output_type": "stream",
     "text": [
      "=======================================================================\n",
      "\n",
      "Fitting HMM with 3 states and 2 data streams\n",
      "\n",
      "-----------------------------------------------------------------------\n",
      "\n",
      "\n",
      " step ~ gamma(mean=~1, sd=~1, zeromass=~1)\n",
      "\n",
      " angle ~ vm(concentration=~1)\n",
      "\n",
      "\n",
      " Transition probability matrix formula: ~1\n",
      "\n",
      "\n",
      " Initial distribution formula: ~1\n",
      "\n",
      "=======================================================================\n",
      "\n",
      "DONE\n",
      "\n"
     ]
    }
   ],
   "source": [
    "m <- fitHMM(data = birdData, nbStates = 3, dist = dist,\n",
    "            Par0 = list(step = stepPar0, angle = anglePar0), stateNames = stateNames,\n",
    "            formula = formula)"
   ]
  },
  {
   "cell_type": "code",
   "execution_count": 9,
   "metadata": {},
   "outputs": [],
   "source": [
    "prob = stateProbs(m)\n",
    "data$hmm = prob[, 'observe']"
   ]
  },
  {
   "cell_type": "code",
   "execution_count": 10,
   "metadata": {},
   "outputs": [],
   "source": [
    "TP <- NULL\n",
    "FP <- NULL\n",
    "for (p in unique(data$hmm)){\n",
    "    all_estim <- 1*(data$hmm > p)\n",
    "    \n",
    "    true_positive <- mean(all_estim[data$dive == 1])\n",
    "    true_negative <- 1-mean(all_estim[data$dive == 0])\n",
    "    \n",
    "    TP <- c(TP,true_positive)\n",
    "    FP <- c(FP,1-true_negative)\n",
    "}"
   ]
  },
  {
   "cell_type": "code",
   "execution_count": 11,
   "metadata": {},
   "outputs": [
    {
     "data": {
      "image/png": "[encoded data removed]",
      "text/plain": [
       "plot without title"
      ]
     },
     "metadata": {
      "image/png": {
       "height": 420,
       "width": 420
      },
      "text/plain": {
       "height": 420,
       "width": 420
      }
     },
     "output_type": "display_data"
    }
   ],
   "source": [
    "plot(FP,TP, xlim = c(0,1), ylim = c(0,1))"
   ]
  },
  {
   "cell_type": "code",
   "execution_count": 12,
   "metadata": {},
   "outputs": [],
   "source": [
    "write.table(data, file = path, sep = ',', row.names = FALSE)"
   ]
  },
  {
   "cell_type": "code",
   "execution_count": null,
   "metadata": {},
   "outputs": [],
   "source": []
  }
 ],
 "metadata": {
  "kernelspec": {
   "display_name": "R",
   "language": "R",
   "name": "ir"
  },
  "language_info": {
   "codemirror_mode": "r",
   "file_extension": ".r",
   "mimetype": "text/x-r-source",
   "name": "R",
   "pygments_lexer": "r",
   "version": "3.6.3"
  }
 },
 "nbformat": 4,
 "nbformat_minor": 2
}
