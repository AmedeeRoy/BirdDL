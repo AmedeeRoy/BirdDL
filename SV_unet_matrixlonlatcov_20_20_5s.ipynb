{
  "nbformat": 4,
  "nbformat_minor": 0,
  "metadata": {
    "colab": {
      "name": "SV_unet_matrixlonlatcov_20_20_5s.ipynb",
      "provenance": [],
      "collapsed_sections": [],
      "include_colab_link": true
    },
    "kernelspec": {
      "display_name": "Python 3",
      "language": "python",
      "name": "python3"
    },
    "language_info": {
      "codemirror_mode": {
        "name": "ipython",
        "version": 3
      },
      "file_extension": ".py",
      "mimetype": "text/x-python",
      "name": "python",
      "nbconvert_exporter": "python",
      "pygments_lexer": "ipython3",
      "version": "3.7.4"
    }
  },
  "cells": [
    {
      "cell_type": "markdown",
      "metadata": {
        "id": "view-in-github",
        "colab_type": "text"
      },
      "source": [
        "<a href=\"https://colab.research.google.com/github/AmedeeRoy/BirdDL/blob/main/SV_unet_matrixlonlatcov_20_20_5s.ipynb\" target=\"_parent\"><img src=\"https://colab.research.google.com/assets/colab-badge.svg\" alt=\"Open In Colab\"/></a>"
      ]
    },
    {
      "cell_type": "markdown",
      "metadata": {
        "id": "wk6zB5N3GZO9"
      },
      "source": [
        "# Dive Prediction - Deep Network\n",
        "\n",
        "*Predicting Seabird Diving Behaviour from GPS data*\n",
        "\n",
        "This notebook trains a neural network to predict seabirds' dives.\n",
        "\n",
        "Networks' characteristics:\n",
        "\n",
        "* *Trajectory window* : 60 x 5s\n",
        "* *Output resolution*: 60 x 5s\n",
        "* *Representation of trajectories* : Matrix Distance and Time series\n",
        "* *Layers* : convolutions"
      ]
    },
    {
      "cell_type": "markdown",
      "metadata": {
        "id": "kjVXwurrGghM"
      },
      "source": [
        "## connect to drive"
      ]
    },
    {
      "cell_type": "code",
      "metadata": {
        "colab": {
          "base_uri": "https://localhost:8080/"
        },
        "id": "cPOjT66sGf3Y",
        "outputId": "a926ce18-5b91-4e53-da86-295bf2c6511d"
      },
      "source": [
        "# mount google drive\n",
        "from google.colab import drive\n",
        "drive.mount(\"/content/drive/\")"
      ],
      "execution_count": 1,
      "outputs": [
        {
          "output_type": "stream",
          "text": [
            "Mounted at /content/drive/\n"
          ],
          "name": "stdout"
        }
      ]
    },
    {
      "cell_type": "code",
      "metadata": {
        "colab": {
          "base_uri": "https://localhost:8080/"
        },
        "id": "u2R6nZsEGp2v",
        "outputId": "5ba7cb45-da9b-43fd-c5ef-0dfe8f80b826"
      },
      "source": [
        "%cd drive/My\\ Drive/"
      ],
      "execution_count": 2,
      "outputs": [
        {
          "output_type": "stream",
          "text": [
            "/content/drive/My Drive\n"
          ],
          "name": "stdout"
        }
      ]
    },
    {
      "cell_type": "markdown",
      "metadata": {
        "id": "Engz1noUG1yL"
      },
      "source": [
        "## load data"
      ]
    },
    {
      "cell_type": "code",
      "metadata": {
        "id": "vP2XmHbeGZO-"
      },
      "source": [
        "import pandas as pd\n",
        "import numpy as np\n",
        "import matplotlib.pyplot as plt\n",
        "\n",
        "import torch\n",
        "from torch import nn\n",
        "from torch.utils.data import DataLoader, Dataset\n",
        "from torchvision import transforms\n",
        "\n",
        "from utils.trip import * "
      ],
      "execution_count": 3,
      "outputs": []
    },
    {
      "cell_type": "code",
      "metadata": {
        "id": "XroT0Q5mGZO_"
      },
      "source": [
        "data_train = pd.read_csv('./data/SV_train.csv')\n",
        "data_validation = pd.read_csv('./data/SV_validation.csv')\n",
        "data_test = pd.read_csv('./data/SV_test.csv')"
      ],
      "execution_count": 4,
      "outputs": []
    },
    {
      "cell_type": "markdown",
      "metadata": {
        "id": "2pnURReGyLju"
      },
      "source": [
        "## choose resolution"
      ]
    },
    {
      "cell_type": "code",
      "metadata": {
        "id": "91vOylAmyLju",
        "colab": {
          "base_uri": "https://localhost:8080/",
          "height": 206
        },
        "outputId": "ca2b9267-7425-43f4-f461-98861ec6df78"
      },
      "source": [
        "resolution = 5\n",
        "\n",
        "data_train_new = change_resolution(data_train, resolution)\n",
        "data_validation_new = change_resolution(data_validation, resolution)\n",
        "data_test_new = change_resolution(data_test, resolution)\n",
        "\n",
        "data_train_new = standardize_data(data_train_new)\n",
        "data_validation_new = standardize_data(data_validation_new)\n",
        "data_test_new = standardize_data(data_test_new)\n",
        "\n",
        "data_train_new.head()"
      ],
      "execution_count": 5,
      "outputs": [
        {
          "output_type": "execute_result",
          "data": {
            "text/html": [
              "<div>\n",
              "<style scoped>\n",
              "    .dataframe tbody tr th:only-of-type {\n",
              "        vertical-align: middle;\n",
              "    }\n",
              "\n",
              "    .dataframe tbody tr th {\n",
              "        vertical-align: top;\n",
              "    }\n",
              "\n",
              "    .dataframe thead th {\n",
              "        text-align: right;\n",
              "    }\n",
              "</style>\n",
              "<table border=\"1\" class=\"dataframe\">\n",
              "  <thead>\n",
              "    <tr style=\"text-align: right;\">\n",
              "      <th></th>\n",
              "      <th>trip</th>\n",
              "      <th>datetime</th>\n",
              "      <th>lon</th>\n",
              "      <th>lat</th>\n",
              "      <th>gaps</th>\n",
              "      <th>dive</th>\n",
              "      <th>step_speed</th>\n",
              "      <th>step_direction</th>\n",
              "      <th>lon_std</th>\n",
              "      <th>lat_std</th>\n",
              "      <th>step_speed_std</th>\n",
              "      <th>step_direction_cos</th>\n",
              "      <th>step_direction_sin</th>\n",
              "    </tr>\n",
              "  </thead>\n",
              "  <tbody>\n",
              "    <tr>\n",
              "      <th>2</th>\n",
              "      <td>P1108_46_SV_T4</td>\n",
              "      <td>2008-12-06 16:06:25</td>\n",
              "      <td>-77.265897</td>\n",
              "      <td>-11.774297</td>\n",
              "      <td>0.0</td>\n",
              "      <td>0</td>\n",
              "      <td>15.301035</td>\n",
              "      <td>26.025648</td>\n",
              "      <td>2.309584</td>\n",
              "      <td>0.788287</td>\n",
              "      <td>0.826924</td>\n",
              "      <td>0.898598</td>\n",
              "      <td>0.438773</td>\n",
              "    </tr>\n",
              "    <tr>\n",
              "      <th>3</th>\n",
              "      <td>P1108_46_SV_T4</td>\n",
              "      <td>2008-12-06 16:06:30</td>\n",
              "      <td>-77.266435</td>\n",
              "      <td>-11.774462</td>\n",
              "      <td>0.0</td>\n",
              "      <td>0</td>\n",
              "      <td>12.287117</td>\n",
              "      <td>-18.228550</td>\n",
              "      <td>2.293957</td>\n",
              "      <td>0.776022</td>\n",
              "      <td>0.663327</td>\n",
              "      <td>0.949816</td>\n",
              "      <td>-0.312808</td>\n",
              "    </tr>\n",
              "    <tr>\n",
              "      <th>4</th>\n",
              "      <td>P1108_46_SV_T4</td>\n",
              "      <td>2008-12-06 16:06:35</td>\n",
              "      <td>-77.266843</td>\n",
              "      <td>-11.774868</td>\n",
              "      <td>0.0</td>\n",
              "      <td>0</td>\n",
              "      <td>12.679214</td>\n",
              "      <td>-28.073536</td>\n",
              "      <td>2.282105</td>\n",
              "      <td>0.745841</td>\n",
              "      <td>0.684610</td>\n",
              "      <td>0.882344</td>\n",
              "      <td>-0.470604</td>\n",
              "    </tr>\n",
              "    <tr>\n",
              "      <th>5</th>\n",
              "      <td>P1108_46_SV_T4</td>\n",
              "      <td>2008-12-06 16:06:40</td>\n",
              "      <td>-77.267200</td>\n",
              "      <td>-11.775312</td>\n",
              "      <td>0.0</td>\n",
              "      <td>0</td>\n",
              "      <td>12.579325</td>\n",
              "      <td>-6.324066</td>\n",
              "      <td>2.271735</td>\n",
              "      <td>0.712835</td>\n",
              "      <td>0.679188</td>\n",
              "      <td>0.993915</td>\n",
              "      <td>-0.110152</td>\n",
              "    </tr>\n",
              "    <tr>\n",
              "      <th>6</th>\n",
              "      <td>P1108_46_SV_T4</td>\n",
              "      <td>2008-12-06 16:06:45</td>\n",
              "      <td>-77.267390</td>\n",
              "      <td>-11.775845</td>\n",
              "      <td>0.0</td>\n",
              "      <td>0</td>\n",
              "      <td>12.567659</td>\n",
              "      <td>-18.969971</td>\n",
              "      <td>2.266216</td>\n",
              "      <td>0.673214</td>\n",
              "      <td>0.678555</td>\n",
              "      <td>0.945689</td>\n",
              "      <td>-0.325073</td>\n",
              "    </tr>\n",
              "  </tbody>\n",
              "</table>\n",
              "</div>"
            ],
            "text/plain": [
              "             trip             datetime  ...  step_direction_cos  step_direction_sin\n",
              "2  P1108_46_SV_T4  2008-12-06 16:06:25  ...            0.898598            0.438773\n",
              "3  P1108_46_SV_T4  2008-12-06 16:06:30  ...            0.949816           -0.312808\n",
              "4  P1108_46_SV_T4  2008-12-06 16:06:35  ...            0.882344           -0.470604\n",
              "5  P1108_46_SV_T4  2008-12-06 16:06:40  ...            0.993915           -0.110152\n",
              "6  P1108_46_SV_T4  2008-12-06 16:06:45  ...            0.945689           -0.325073\n",
              "\n",
              "[5 rows x 13 columns]"
            ]
          },
          "metadata": {
            "tags": []
          },
          "execution_count": 5
        }
      ]
    },
    {
      "cell_type": "markdown",
      "metadata": {
        "id": "ywF0A-1tGZO_"
      },
      "source": [
        "## choose window"
      ]
    },
    {
      "cell_type": "code",
      "metadata": {
        "id": "rg_mIte9GZO_"
      },
      "source": [
        "# Hyperparameters\n",
        "window = 20\n",
        "variable = ('lon_std', 'lat_std', 'gaps')\n",
        "\n",
        "train_set = TrajDataSet(data_train_new, window, variable)"
      ],
      "execution_count": 6,
      "outputs": []
    },
    {
      "cell_type": "code",
      "metadata": {
        "colab": {
          "base_uri": "https://localhost:8080/",
          "height": 565
        },
        "id": "G26yrGdUGZO_",
        "scrolled": false,
        "outputId": "2aa3e38c-9f2a-469d-ef82-4e1fb7e0560b"
      },
      "source": [
        "plt.figure(figsize=(16, 10))\n",
        "idx = np.random.randint(0, len(train_set), 4)\n",
        "\n",
        "k = -1\n",
        "for i in idx:\n",
        "    k += 1\n",
        "    traj, matrix_dist, dive = train_set[i]\n",
        "\n",
        "    plt.subplot(2,4, k+1)\n",
        "    plt.imshow(matrix_dist)\n",
        "\n",
        "    plt.subplot(2,4, k+5)\n",
        "    plt.plot(traj[0,:], traj[1,:])\n",
        "    plt.scatter(traj[0, np.array(dive, dtype = 'bool')], traj[1,np.array(dive, dtype = 'bool')], c='orange')"
      ],
      "execution_count": 7,
      "outputs": [
        {
          "output_type": "display_data",
          "data": {
            "image/png": "[encoded data removed]",
            "text/plain": [
              "<Figure size 1152x720 with 8 Axes>"
            ]
          },
          "metadata": {
            "tags": [],
            "needs_background": "light"
          }
        }
      ]
    },
    {
      "cell_type": "markdown",
      "metadata": {
        "id": "sJkiaEE2GZPA"
      },
      "source": [
        "# Neural Network"
      ]
    },
    {
      "cell_type": "code",
      "metadata": {
        "id": "VBznxgYEGZPA"
      },
      "source": [
        "# hyperparameters\n",
        "batch_size = 64\n",
        "\n",
        "## reduce size dataset\n",
        "train_set = TrajDataSet(data_train_new, window, variable, transform = ToTensor())\n",
        "validation_set = TrajDataSet(data_validation_new, window, variable, transform = ToTensor())\n",
        "\n",
        "train_loader = DataLoader(train_set, batch_size=batch_size, num_workers = 0, shuffle = True, drop_last=True)\n",
        "validation_loader = DataLoader(validation_set, batch_size=batch_size, num_workers = 0, shuffle = True, drop_last=True)"
      ],
      "execution_count": 8,
      "outputs": []
    },
    {
      "cell_type": "code",
      "metadata": {
        "id": "lhxDPuhUGZPB"
      },
      "source": [
        "class UNet(nn.Module):\n",
        "\n",
        "    def __init__(self):\n",
        "        super(UNet, self).__init__()\n",
        "\n",
        "        self.threshold = nn.Sequential(\n",
        "            nn.BatchNorm2d(1),\n",
        "            nn.Conv2d(1, 8, kernel_size = 1, stride = 1, padding = 0, dilation = 1, bias = True),\n",
        "            nn.ReLU()\n",
        "        )\n",
        "\n",
        "        self.cnn_input_1 = nn.Sequential(\n",
        "            nn.BatchNorm1d(8+3),\n",
        "            nn.Conv1d(8+3, 8, kernel_size = 5, stride = 1, padding = 2, dilation = 1),\n",
        "            nn.ReLU(),\n",
        "            nn.Conv1d(8, 8, kernel_size = 5, stride = 1, padding = 2, dilation = 1),\n",
        "            nn.ReLU()\n",
        "        )\n",
        "\n",
        "        self.pooling_1 = nn.Sequential(\n",
        "            nn.MaxPool1d(kernel_size = 5, stride = 2, padding = 2, dilation = 1)\n",
        "        )\n",
        "\n",
        "        self.cnn_input_2 = nn.Sequential(\n",
        "            nn.BatchNorm1d(8),\n",
        "            nn.Conv1d(8, 16, kernel_size = 5, stride = 1, padding = 2, dilation = 1),\n",
        "            nn.ReLU(),\n",
        "            nn.Conv1d(16, 16, kernel_size = 5, stride = 1, padding = 2, dilation = 1),\n",
        "            nn.ReLU()\n",
        "        )\n",
        "\n",
        "        self.pooling_2 = nn.Sequential(\n",
        "            nn.MaxPool1d(kernel_size = 5, stride = 2, padding = 2, dilation = 1)\n",
        "        )\n",
        "\n",
        "        self.cnn_input_3 = nn.Sequential(\n",
        "            nn.BatchNorm1d(16),\n",
        "            nn.Conv1d(16, 32,  kernel_size = 5, stride = 1, padding = 2, dilation = 1),\n",
        "            nn.ReLU(),\n",
        "            nn.Conv1d(32, 32,  kernel_size = 5, stride = 1, padding = 2, dilation = 1),\n",
        "            nn.ReLU()\n",
        "        )\n",
        "\n",
        "        self.upconv_2 = nn.Sequential(\n",
        "             nn.ConvTranspose1d(32, 16, kernel_size = 6, stride = 2, padding = 2, dilation = 1)\n",
        "         )\n",
        "\n",
        "        self.cnn_output_2 = nn.Sequential(\n",
        "            nn.BatchNorm1d(16*2),\n",
        "            nn.Conv1d(16*2, 16,  kernel_size = 5, stride = 1, padding = 2, dilation = 1),\n",
        "            nn.ReLU(),\n",
        "            nn.Conv1d(16, 16,  kernel_size = 5, stride = 1, padding = 2, dilation = 1),\n",
        "            nn.ReLU()\n",
        "        )\n",
        "\n",
        "        self.upconv_1 = nn.Sequential(\n",
        "             nn.ConvTranspose1d(16, 8, kernel_size = 6, stride = 2, padding = 2, dilation = 1)\n",
        "         )\n",
        "        \n",
        "        self.cnn_output_1 = nn.Sequential(\n",
        "            nn.BatchNorm1d(8*2),\n",
        "            nn.Conv1d(8*2, 8,  kernel_size = 5, stride = 1, padding = 2, dilation = 1),\n",
        "            nn.ReLU(),\n",
        "            nn.Conv1d(8, 4, kernel_size = 5, stride = 1, padding = 2, dilation = 1),\n",
        "            nn.ReLU(),\n",
        "            nn.Conv1d(4, 2, kernel_size = 5, stride = 1, padding = 2, dilation = 1),\n",
        "            nn.ReLU(),\n",
        "            nn.Conv1d(2, 1,  kernel_size = 5, stride = 1, padding = 2, dilation = 1)\n",
        "        )\n",
        "\n",
        "    def forward(self, x, y):\n",
        "        out = self.threshold(y)\n",
        "        out = torch.sum(out, 2)\n",
        "\n",
        "        out = torch.cat((out, x.squeeze(1)), 1)\n",
        "\n",
        "        out_1 = self.cnn_input_1(out)\n",
        "        out = self.pooling_1(out_1)\n",
        "        out_2 = self.cnn_input_2(out)\n",
        "        out = self.pooling_2(out_2)\n",
        "        out = self.cnn_input_3(out)\n",
        "\n",
        "        out = self.upconv_2(out)\n",
        "        out = torch.cat((out, out_2), 1)\n",
        "        out = self.cnn_output_2(out)\n",
        "\n",
        "        out = self.upconv_1(out)\n",
        "        out = torch.cat((out, out_1), 1)\n",
        "        out = self.cnn_output_1(out)\n",
        "\n",
        "\n",
        "        return out\n",
        "\n",
        "def get_score(out, y):\n",
        "    out, y = out.cpu(), y.cpu()\n",
        "    out = 1*(out>0)\n",
        "    true_positive = np.mean(out[y == True].numpy()) \n",
        "    true_negative = 1-np.mean(out[y == False].numpy())\n",
        "    \n",
        "    return (round(true_positive*100) , round(true_negative*100))"
      ],
      "execution_count": 9,
      "outputs": []
    },
    {
      "cell_type": "code",
      "metadata": {
        "colab": {
          "base_uri": "https://localhost:8080/"
        },
        "id": "Pnuy-AEw3NXQ",
        "outputId": "253de31f-0e60-4ab1-eb38-ab5592185938"
      },
      "source": [
        "# get sample\n",
        "x, y, z = next(iter(train_loader)) \n",
        "weight = torch.FloatTensor([30])\n",
        "\n",
        "# Forward model\n",
        "model = UNet()\n",
        "\n",
        "\n",
        "out = model.threshold(y)\n",
        "out = torch.sum(out, 2)\n",
        "\n",
        "out = torch.cat((out, x.squeeze(1)), 1)\n",
        "\n",
        "out_1 = model.cnn_input_1(out)\n",
        "out = model.pooling_1(out_1)\n",
        "out_2 = model.cnn_input_2(out)\n",
        "out = model.pooling_2(out_2)\n",
        "out = model.cnn_input_3(out)\n",
        "\n",
        "out = model.upconv_2(out)\n",
        "out = torch.cat((out, out_2), 1)\n",
        "out = model.cnn_output_2(out)\n",
        "\n",
        "out = model.upconv_1(out)\n",
        "out = torch.cat((out, out_1), 1)\n",
        "out = model.cnn_output_1(out)\n",
        "\n",
        "out.size()"
      ],
      "execution_count": 10,
      "outputs": [
        {
          "output_type": "execute_result",
          "data": {
            "text/plain": [
              "torch.Size([64, 1, 20])"
            ]
          },
          "metadata": {
            "tags": []
          },
          "execution_count": 10
        }
      ]
    },
    {
      "cell_type": "code",
      "metadata": {
        "colab": {
          "base_uri": "https://localhost:8080/"
        },
        "id": "lRi-Oun6GZPB",
        "outputId": "760a6356-8791-412e-ff0b-6b1c1f460554"
      },
      "source": [
        "# get sample\n",
        "x, y, z = next(iter(train_loader)) \n",
        "weight = torch.FloatTensor([30])\n",
        "\n",
        "# Forward model\n",
        "model = UNet()\n",
        "\n",
        "out = model(x, y)\n",
        "\n",
        "# Loss and score\n",
        "learning_rate = 0.01\n",
        "optimizer = torch.optim.Adam(model.parameters(), lr=learning_rate)\n",
        "criterion = nn.BCEWithLogitsLoss(pos_weight = weight)\n",
        "criterion(out, z)\n",
        "get_score(out, z)"
      ],
      "execution_count": 11,
      "outputs": [
        {
          "output_type": "execute_result",
          "data": {
            "text/plain": [
              "(0.0, 100.0)"
            ]
          },
          "metadata": {
            "tags": []
          },
          "execution_count": 11
        }
      ]
    },
    {
      "cell_type": "code",
      "metadata": {
        "colab": {
          "base_uri": "https://localhost:8080/"
        },
        "id": "MrpxukCA-dg0",
        "outputId": "e72229cb-d079-43c8-ca36-5cbed24817b4"
      },
      "source": [
        "## get Loss weight\n",
        "torch.sum(z==z)/torch.sum(z)"
      ],
      "execution_count": 12,
      "outputs": [
        {
          "output_type": "execute_result",
          "data": {
            "text/plain": [
              "tensor(45.7143)"
            ]
          },
          "metadata": {
            "tags": []
          },
          "execution_count": 12
        }
      ]
    },
    {
      "cell_type": "markdown",
      "metadata": {
        "id": "hKIwYrQcGZPB"
      },
      "source": [
        "## Training"
      ]
    },
    {
      "cell_type": "code",
      "metadata": {
        "id": "WsK522IKGZPB"
      },
      "source": [
        "# switch to GPU\n",
        "model = UNet()\n",
        "device = torch.device('cuda' if torch.cuda.is_available() else 'cpu')\n",
        "model = model.to(device)\n",
        "weight = weight.to(device)\n",
        "criterion = nn.BCEWithLogitsLoss(pos_weight = weight)"
      ],
      "execution_count": 13,
      "outputs": []
    },
    {
      "cell_type": "code",
      "metadata": {
        "colab": {
          "base_uri": "https://localhost:8080/"
        },
        "id": "0QzQPetaGZPB",
        "scrolled": true,
        "outputId": "7f42f2b3-7ad5-4fae-be8f-630a0e1d3ac1"
      },
      "source": [
        "# Train the model\n",
        "nb_epoch = 5\n",
        "\n",
        "global_loss_train = []\n",
        "global_loss_validation = []\n",
        "    \n",
        "for epoch in range(nb_epoch):\n",
        "    learning_rate /= 10\n",
        "    optimizer = torch.optim.Adam(model.parameters(), lr=learning_rate)\n",
        "    i = 0\n",
        "    for batch, (x, y, z) in enumerate(train_loader):\n",
        "        i+=1\n",
        "        # send to GPU\n",
        "        x, y, z = x.to(device), y.to(device), z.to(device)\n",
        "\n",
        "        # Run the forward pass\n",
        "        out = model(x, y)\n",
        "        loss = criterion(out, z)\n",
        "        \n",
        "        # Backprop and perform optimisation\n",
        "        optimizer.zero_grad()\n",
        "        loss.backward()\n",
        "        optimizer.step()\n",
        "        \n",
        "    ### Evaluation + Validation every epoch\n",
        "    model.eval()\n",
        "    with torch.no_grad():      \n",
        "        j = 0\n",
        "        # evaluation\n",
        "        list_loss_train = []\n",
        "        list_score_train = []\n",
        "        for batch, (x, y, z) in enumerate(train_loader):\n",
        "            j+= 1\n",
        "            # send to GPU\n",
        "            x, y, z = x.to(device), y.to(device), z.to(device)\n",
        "\n",
        "            # Run the forward pass\n",
        "            out =  model(x, y)\n",
        "            loss = criterion(out, z)\n",
        "            score = get_score(out,z)\n",
        "            list_loss_train.append(loss.item())\n",
        "            list_score_train.append(score)\n",
        "        \n",
        "        train_loss = np.mean(list_loss_train)\n",
        "        train_trueP = np.mean([tp for (tp, tn) in list_score_train])\n",
        "        train_trueN = np.mean([tn for (tp, tn) in list_score_train])\n",
        "            \n",
        "        k = 0\n",
        "        # validation\n",
        "        list_loss_validation = []\n",
        "        list_score_validation = []\n",
        "        for batch, (x, y, z) in enumerate(validation_loader):\n",
        "            k+= 1\n",
        "            # send to GPU\n",
        "            x, y, z = x.to(device), y.to(device), z.to(device)\n",
        "\n",
        "            # Run the forward pass\n",
        "            out =  model(x, y)\n",
        "            loss = criterion(out, z)\n",
        "            score = get_score(out,z)\n",
        "            list_loss_validation.append(loss.item())\n",
        "            list_score_validation.append(score)\n",
        "\n",
        "        validation_loss = np.mean(list_loss_validation)\n",
        "        validation_trueP = np.mean([tp for (tp, tn) in list_score_validation])\n",
        "        validation_trueN = np.mean([tn for (tp, tn) in list_score_validation])\n",
        "\n",
        "    print('Epoch [{}/{}] -------------------------------------------------------------------------------------'\n",
        "          .format(epoch+1, nb_epoch))\n",
        "    print('Train Loss: {}, Train True Positive : {} %, Train True Negative : {} %'\n",
        "            .format(round(train_loss, 2), round(train_trueP, 2), round(train_trueN, 2)))\n",
        "    print('Validation Loss: {}, Validation True Positive : {} %, Validation True Negative : {} %'\n",
        "            .format(round(validation_loss, 2), round(validation_trueP, 2), round(validation_trueN, 2)))\n",
        "    model.train()\n",
        "    \n",
        "    global_loss_train.append(train_loss)\n",
        "    global_loss_validation.append(validation_loss)\n",
        "\n",
        "    #### STOP WHEN VALIDATION DECREASE\n",
        "    if epoch>1:\n",
        "      if global_loss_validation[-2] < global_loss_validation[-1]:\n",
        "        break"
      ],
      "execution_count": 14,
      "outputs": [
        {
          "output_type": "stream",
          "text": [
            "Epoch [1/5] -------------------------------------------------------------------------------------\n",
            "Train Loss: 0.4, Train True Positive : 93.75 %, Train True Negative : 87.65 %\n",
            "Validation Loss: 0.56, Validation True Positive : 87.7 %, Validation True Negative : 86.58 %\n",
            "Epoch [2/5] -------------------------------------------------------------------------------------\n",
            "Train Loss: 0.37, Train True Positive : 92.45 %, Train True Negative : 89.54 %\n",
            "Validation Loss: 0.56, Validation True Positive : 83.25 %, Validation True Negative : 88.54 %\n",
            "Epoch [3/5] -------------------------------------------------------------------------------------\n",
            "Train Loss: 0.37, Train True Positive : 92.79 %, Train True Negative : 89.41 %\n",
            "Validation Loss: 0.55, Validation True Positive : 83.71 %, Validation True Negative : 88.46 %\n",
            "Epoch [4/5] -------------------------------------------------------------------------------------\n",
            "Train Loss: 0.37, Train True Positive : 92.87 %, Train True Negative : 89.31 %\n",
            "Validation Loss: 0.55, Validation True Positive : 83.99 %, Validation True Negative : 88.32 %\n",
            "Epoch [5/5] -------------------------------------------------------------------------------------\n",
            "Train Loss: 0.37, Train True Positive : 91.97 %, Train True Negative : 89.94 %\n",
            "Validation Loss: 0.56, Validation True Positive : 82.59 %, Validation True Negative : 89.03 %\n"
          ],
          "name": "stdout"
        }
      ]
    },
    {
      "cell_type": "markdown",
      "metadata": {
        "id": "QRGL9KjscIS7"
      },
      "source": [
        "# Testing"
      ]
    },
    {
      "cell_type": "code",
      "metadata": {
        "id": "wR_bBBXMBRTB",
        "colab": {
          "base_uri": "https://localhost:8080/"
        },
        "outputId": "cf0e2988-ca15-4a37-fcb9-2b5da08e556d"
      },
      "source": [
        "dive_estim = []\n",
        "\n",
        "for i in data_test_new.trip.unique():\n",
        "    # create dataset for a trajectory\n",
        "    t = data_test_new[data_test_new.trip == i].copy()    \n",
        "    test_set = TrajDataSet(t, window, variable, transform = ToTensor())\n",
        "    \n",
        "    # Test the model\n",
        "    estim = np.zeros(len(t))\n",
        "    nb = np.zeros(len(t))\n",
        "    \n",
        "    list_out = []\n",
        "    model.eval()\n",
        "    k = 0\n",
        "    with torch.no_grad():\n",
        "        for (x, y, z) in test_set:\n",
        "            # send to GPU\n",
        "            x, y = x.to(device), y.to(device)\n",
        "\n",
        "            # Run the forward pass\n",
        "            out = model(x, y.unsqueeze(1))\n",
        "            \n",
        "            estim[k:k + round(window)] += out.cpu().squeeze().numpy()\n",
        "            nb[k:k + round(window)] += 1\n",
        "            k+=1\n",
        "    # # add to list by trajectory\n",
        "    dive_estim.append(estim/nb)\n",
        "    print(i)\n",
        "\n",
        "data_test_new['prediction'] = 1/(1+np.exp(-np.hstack(dive_estim)))"
      ],
      "execution_count": 15,
      "outputs": [
        {
          "output_type": "stream",
          "text": [
            "P1108_6_SV_T2\n",
            "P1111_41_SV_T3\n",
            "P1111_41_SV_T6\n",
            "P1112_10_SV_T2\n",
            "P1112_18_SV_T1\n",
            "P1112_20_SV_T4\n",
            "P1112_27_SV_T3\n",
            "P1112_29_SV_T1\n",
            "P1112_31_SV_T3\n",
            "P1113_14_SV_T1\n",
            "P1113_19_SV_T2\n",
            "P1113_33_SV_T1\n",
            "P1113_41_SV_T2\n"
          ],
          "name": "stdout"
        }
      ]
    },
    {
      "cell_type": "code",
      "metadata": {
        "colab": {
          "base_uri": "https://localhost:8080/",
          "height": 338
        },
        "id": "4cDoy1wLdLP-",
        "outputId": "42d1d4c2-0a09-4dd9-a5cd-4d2cc33dee5e"
      },
      "source": [
        "t = data_test_new[data_test_new.trip == 'P1108_6_SV_T2'].copy() \n",
        "\n",
        "plt.figure(figsize= (12, 5))\n",
        "plt.subplot(1, 2, 1)\n",
        "plt.plot(np.array(t.lon), np.array(t.lat))\n",
        "plt.scatter(t.lon[t.dive == 1], t.lat[t.dive == 1], c = 'orange')\n",
        "\n",
        "plt.subplot(1, 2, 2)\n",
        "plt.plot(np.array(t.lon), np.array(t.lat))\n",
        "plt.scatter(t.lon[t.prediction > 0.5], t.lat[t.prediction > 0.5], c = 'red')"
      ],
      "execution_count": 16,
      "outputs": [
        {
          "output_type": "execute_result",
          "data": {
            "text/plain": [
              "<matplotlib.collections.PathCollection at 0x7fd80e5fdd30>"
            ]
          },
          "metadata": {
            "tags": []
          },
          "execution_count": 16
        },
        {
          "output_type": "display_data",
          "data": {
            "image/png": "[encoded data removed]",
            "text/plain": [
              "<Figure size 864x360 with 2 Axes>"
            ]
          },
          "metadata": {
            "tags": [],
            "needs_background": "light"
          }
        }
      ]
    },
    {
      "cell_type": "markdown",
      "metadata": {
        "id": "Hn80rD1jd4r0"
      },
      "source": [
        "# ROC curve\n",
        "\n",
        "Change the decision threshold"
      ]
    },
    {
      "cell_type": "code",
      "metadata": {
        "colab": {
          "base_uri": "https://localhost:8080/",
          "height": 297
        },
        "id": "GFEgkSTscMSL",
        "outputId": "891553f5-c9a5-4991-87d9-01587896778a"
      },
      "source": [
        "fig, ax = plt.subplots()\n",
        "ax.set_aspect('equal')\n",
        "ax.set_xlabel('False Positive Rate')\n",
        "ax.set_ylabel('True Positive Rate')\n",
        "\n",
        "# globally\n",
        "TP = []\n",
        "FP = []\n",
        "\n",
        "for tt in np.arange(0,1,0.001):\n",
        "    all_estim = 1* (data_test_new.prediction > tt)\n",
        "    true_positive = np.mean(all_estim[data_test_new.dive == 1])\n",
        "    true_negative = 1-np.mean(all_estim[data_test_new.dive == 0])\n",
        "    TP.append(true_positive)\n",
        "    FP.append(1-true_negative)\n",
        "\n",
        "plt.plot(np.array(FP), np.array(TP))"
      ],
      "execution_count": 17,
      "outputs": [
        {
          "output_type": "execute_result",
          "data": {
            "text/plain": [
              "[<matplotlib.lines.Line2D at 0x7fd80e098550>]"
            ]
          },
          "metadata": {
            "tags": []
          },
          "execution_count": 17
        },
        {
          "output_type": "display_data",
          "data": {
            "image/png": "[encoded data removed]",
            "text/plain": [
              "<Figure size 432x288 with 1 Axes>"
            ]
          },
          "metadata": {
            "tags": [],
            "needs_background": "light"
          }
        }
      ]
    },
    {
      "cell_type": "markdown",
      "metadata": {
        "id": "jeajV3RXeAXR"
      },
      "source": [
        "# Export Probabilities"
      ]
    },
    {
      "cell_type": "code",
      "metadata": {
        "id": "mLLg9MpDd7ko"
      },
      "source": [
        "data_test_new.to_csv('SV_unet_matrixlonlatcov_20_20_5s.csv', index = False)"
      ],
      "execution_count": 18,
      "outputs": []
    },
    {
      "cell_type": "code",
      "metadata": {
        "id": "CuAxgEuy_Fsg"
      },
      "source": [
        ""
      ],
      "execution_count": null,
      "outputs": []
    }
  ]
}