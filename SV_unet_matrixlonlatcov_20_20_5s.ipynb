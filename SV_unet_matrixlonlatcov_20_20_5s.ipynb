{
 "cells": [
  {
   "cell_type": "markdown",
   "metadata": {
    "colab_type": "text",
    "id": "view-in-github"
   },
   "source": [
    "<a href=\"https://colab.research.google.com/github/AmedeeRoy/BirdDL/blob/main/SV_unet_matrixlonlatcov_20_20_5s.ipynb\" target=\"_parent\"><img src=\"https://colab.research.google.com/assets/colab-badge.svg\" alt=\"Open In Colab\"/></a>"
   ]
  },
  {
   "cell_type": "markdown",
   "metadata": {
    "id": "wk6zB5N3GZO9"
   },
   "source": [
    "# Dive Prediction - Deep Network\n",
    "\n",
    "*Predicting Seabird Diving Behaviour from GPS data*\n",
    "\n",
    "This notebook trains a neural network to predict seabirds' dives.\n",
    "\n",
    "Networks' characteristics:\n",
    "\n",
    "* *Trajectory window* : 60 x 5s\n",
    "* *Output resolution*: 60 x 5s\n",
    "* *Representation of trajectories* : Matrix Distance and Time series\n",
    "* *Layers* : convolutions"
   ]
  },
  {
   "cell_type": "markdown",
   "metadata": {
    "id": "kjVXwurrGghM"
   },
   "source": [
    "## connect to drive"
   ]
  },
  {
   "cell_type": "code",
   "execution_count": 1,
   "metadata": {
    "colab": {
     "base_uri": "https://localhost:8080/"
    },
    "id": "cPOjT66sGf3Y",
    "outputId": "2a200b48-3906-4def-cbd7-b644e26dcd03"
   },
   "outputs": [
    {
     "name": "stdout",
     "output_type": "stream",
     "text": [
      "Mounted at /content/drive/\n"
     ]
    }
   ],
   "source": [
    "# mount google drive\n",
    "from google.colab import drive\n",
    "drive.mount(\"/content/drive/\")"
   ]
  },
  {
   "cell_type": "code",
   "execution_count": 2,
   "metadata": {
    "colab": {
     "base_uri": "https://localhost:8080/"
    },
    "id": "u2R6nZsEGp2v",
    "outputId": "d044219a-b30e-48d7-dfdf-896882d4664a"
   },
   "outputs": [
    {
     "name": "stdout",
     "output_type": "stream",
     "text": [
      "/content/drive/My Drive\n"
     ]
    }
   ],
   "source": [
    "%cd drive/My\\ Drive/"
   ]
  },
  {
   "cell_type": "markdown",
   "metadata": {
    "id": "Engz1noUG1yL"
   },
   "source": [
    "## load data"
   ]
  },
  {
   "cell_type": "code",
   "execution_count": 1,
   "metadata": {
    "id": "vP2XmHbeGZO-"
   },
   "outputs": [],
   "source": [
    "import pandas as pd\n",
    "import numpy as np\n",
    "import matplotlib.pyplot as plt\n",
    "\n",
    "import torch\n",
    "from torch import nn\n",
    "from torch.utils.data import DataLoader, Dataset\n",
    "from torchvision import transforms\n",
    "\n",
    "from utils.trip import * "
   ]
  },
  {
   "cell_type": "code",
   "execution_count": 2,
   "metadata": {
    "id": "XroT0Q5mGZO_"
   },
   "outputs": [],
   "source": [
    "data_train = pd.read_csv('./data/SV_train.csv')\n",
    "data_validation = pd.read_csv('./data/SV_validation.csv')\n",
    "data_test = pd.read_csv('./data/SV_test.csv')"
   ]
  },
  {
   "cell_type": "markdown",
   "metadata": {
    "id": "2pnURReGyLju"
   },
   "source": [
    "## choose resolution"
   ]
  },
  {
   "cell_type": "code",
   "execution_count": 3,
   "metadata": {
    "colab": {
     "base_uri": "https://localhost:8080/",
     "height": 206
    },
    "id": "91vOylAmyLju",
    "outputId": "2309807a-d0d2-411a-9b52-4b4e62d55147"
   },
   "outputs": [
    {
     "data": {
      "text/html": [
       "<div>\n",
       "<style scoped>\n",
       "    .dataframe tbody tr th:only-of-type {\n",
       "        vertical-align: middle;\n",
       "    }\n",
       "\n",
       "    .dataframe tbody tr th {\n",
       "        vertical-align: top;\n",
       "    }\n",
       "\n",
       "    .dataframe thead th {\n",
       "        text-align: right;\n",
       "    }\n",
       "</style>\n",
       "<table border=\"1\" class=\"dataframe\">\n",
       "  <thead>\n",
       "    <tr style=\"text-align: right;\">\n",
       "      <th></th>\n",
       "      <th>trip</th>\n",
       "      <th>datetime</th>\n",
       "      <th>lon</th>\n",
       "      <th>lat</th>\n",
       "      <th>gaps</th>\n",
       "      <th>dive</th>\n",
       "      <th>step_speed</th>\n",
       "      <th>step_direction</th>\n",
       "      <th>lon_std</th>\n",
       "      <th>lat_std</th>\n",
       "      <th>step_speed_std</th>\n",
       "      <th>step_direction_cos</th>\n",
       "      <th>step_direction_sin</th>\n",
       "    </tr>\n",
       "  </thead>\n",
       "  <tbody>\n",
       "    <tr>\n",
       "      <th>2</th>\n",
       "      <td>P1108_46_SV_T4</td>\n",
       "      <td>2008-12-06 16:06:25</td>\n",
       "      <td>-77.265897</td>\n",
       "      <td>-11.774297</td>\n",
       "      <td>0.0</td>\n",
       "      <td>0</td>\n",
       "      <td>15.301035</td>\n",
       "      <td>26.025648</td>\n",
       "      <td>2.309584</td>\n",
       "      <td>0.788287</td>\n",
       "      <td>0.826924</td>\n",
       "      <td>0.898598</td>\n",
       "      <td>0.438773</td>\n",
       "    </tr>\n",
       "    <tr>\n",
       "      <th>3</th>\n",
       "      <td>P1108_46_SV_T4</td>\n",
       "      <td>2008-12-06 16:06:30</td>\n",
       "      <td>-77.266435</td>\n",
       "      <td>-11.774462</td>\n",
       "      <td>0.0</td>\n",
       "      <td>0</td>\n",
       "      <td>12.287117</td>\n",
       "      <td>-18.228550</td>\n",
       "      <td>2.293957</td>\n",
       "      <td>0.776022</td>\n",
       "      <td>0.663327</td>\n",
       "      <td>0.949816</td>\n",
       "      <td>-0.312808</td>\n",
       "    </tr>\n",
       "    <tr>\n",
       "      <th>4</th>\n",
       "      <td>P1108_46_SV_T4</td>\n",
       "      <td>2008-12-06 16:06:35</td>\n",
       "      <td>-77.266843</td>\n",
       "      <td>-11.774868</td>\n",
       "      <td>0.0</td>\n",
       "      <td>0</td>\n",
       "      <td>12.679214</td>\n",
       "      <td>-28.073536</td>\n",
       "      <td>2.282105</td>\n",
       "      <td>0.745841</td>\n",
       "      <td>0.684610</td>\n",
       "      <td>0.882344</td>\n",
       "      <td>-0.470604</td>\n",
       "    </tr>\n",
       "    <tr>\n",
       "      <th>5</th>\n",
       "      <td>P1108_46_SV_T4</td>\n",
       "      <td>2008-12-06 16:06:40</td>\n",
       "      <td>-77.267200</td>\n",
       "      <td>-11.775312</td>\n",
       "      <td>0.0</td>\n",
       "      <td>0</td>\n",
       "      <td>12.579325</td>\n",
       "      <td>-6.324066</td>\n",
       "      <td>2.271735</td>\n",
       "      <td>0.712835</td>\n",
       "      <td>0.679188</td>\n",
       "      <td>0.993915</td>\n",
       "      <td>-0.110152</td>\n",
       "    </tr>\n",
       "    <tr>\n",
       "      <th>6</th>\n",
       "      <td>P1108_46_SV_T4</td>\n",
       "      <td>2008-12-06 16:06:45</td>\n",
       "      <td>-77.267390</td>\n",
       "      <td>-11.775845</td>\n",
       "      <td>0.0</td>\n",
       "      <td>0</td>\n",
       "      <td>12.567659</td>\n",
       "      <td>-18.969971</td>\n",
       "      <td>2.266216</td>\n",
       "      <td>0.673214</td>\n",
       "      <td>0.678555</td>\n",
       "      <td>0.945689</td>\n",
       "      <td>-0.325073</td>\n",
       "    </tr>\n",
       "  </tbody>\n",
       "</table>\n",
       "</div>"
      ],
      "text/plain": [
       "             trip             datetime        lon        lat  gaps  dive  \\\n",
       "2  P1108_46_SV_T4  2008-12-06 16:06:25 -77.265897 -11.774297   0.0     0   \n",
       "3  P1108_46_SV_T4  2008-12-06 16:06:30 -77.266435 -11.774462   0.0     0   \n",
       "4  P1108_46_SV_T4  2008-12-06 16:06:35 -77.266843 -11.774868   0.0     0   \n",
       "5  P1108_46_SV_T4  2008-12-06 16:06:40 -77.267200 -11.775312   0.0     0   \n",
       "6  P1108_46_SV_T4  2008-12-06 16:06:45 -77.267390 -11.775845   0.0     0   \n",
       "\n",
       "   step_speed  step_direction   lon_std   lat_std  step_speed_std  \\\n",
       "2   15.301035       26.025648  2.309584  0.788287        0.826924   \n",
       "3   12.287117      -18.228550  2.293957  0.776022        0.663327   \n",
       "4   12.679214      -28.073536  2.282105  0.745841        0.684610   \n",
       "5   12.579325       -6.324066  2.271735  0.712835        0.679188   \n",
       "6   12.567659      -18.969971  2.266216  0.673214        0.678555   \n",
       "\n",
       "   step_direction_cos  step_direction_sin  \n",
       "2            0.898598            0.438773  \n",
       "3            0.949816           -0.312808  \n",
       "4            0.882344           -0.470604  \n",
       "5            0.993915           -0.110152  \n",
       "6            0.945689           -0.325073  "
      ]
     },
     "execution_count": 3,
     "metadata": {},
     "output_type": "execute_result"
    }
   ],
   "source": [
    "resolution = 5\n",
    "\n",
    "data_train_new = change_resolution(data_train, resolution)\n",
    "data_validation_new = change_resolution(data_validation, resolution)\n",
    "data_test_new = change_resolution(data_test, resolution)\n",
    "\n",
    "data_train_new = standardize_data(data_train_new)\n",
    "data_validation_new = standardize_data(data_validation_new)\n",
    "data_test_new = standardize_data(data_test_new)\n",
    "\n",
    "data_train_new.head()"
   ]
  },
  {
   "cell_type": "markdown",
   "metadata": {
    "id": "ywF0A-1tGZO_"
   },
   "source": [
    "## choose window"
   ]
  },
  {
   "cell_type": "code",
   "execution_count": 4,
   "metadata": {
    "id": "rg_mIte9GZO_"
   },
   "outputs": [],
   "source": [
    "# Hyperparameters\n",
    "window = 20\n",
    "variable = ('lon_std', 'lat_std', 'gaps')\n",
    "\n",
    "train_set = TrajDataSet(data_train_new, window, variable)"
   ]
  },
  {
   "cell_type": "code",
   "execution_count": 5,
   "metadata": {
    "colab": {
     "base_uri": "https://localhost:8080/",
     "height": 565
    },
    "id": "G26yrGdUGZO_",
    "outputId": "612729a2-0f5d-4a05-dd25-47f5b75aeeb7",
    "scrolled": false
   },
   "outputs": [
    {
     "data": {
      "image/png": "[encoded data removed]",
      "text/plain": [
       "<Figure size 1152x720 with 8 Axes>"
      ]
     },
     "metadata": {
      "needs_background": "light"
     },
     "output_type": "display_data"
    }
   ],
   "source": [
    "plt.figure(figsize=(16, 10))\n",
    "idx = np.random.randint(0, len(train_set), 4)\n",
    "\n",
    "k = -1\n",
    "for i in idx:\n",
    "    k += 1\n",
    "    traj, matrix_dist, dive = train_set[i]\n",
    "\n",
    "    plt.subplot(2,4, k+1)\n",
    "    plt.imshow(matrix_dist)\n",
    "\n",
    "    plt.subplot(2,4, k+5)\n",
    "    plt.plot(traj[0,:], traj[1,:])\n",
    "    plt.scatter(traj[0, np.array(dive, dtype = 'bool')], traj[1,np.array(dive, dtype = 'bool')], c='orange')"
   ]
  },
  {
   "cell_type": "markdown",
   "metadata": {
    "id": "sJkiaEE2GZPA"
   },
   "source": [
    "# Neural Network"
   ]
  },
  {
   "cell_type": "code",
   "execution_count": 6,
   "metadata": {
    "id": "VBznxgYEGZPA"
   },
   "outputs": [],
   "source": [
    "# hyperparameters\n",
    "batch_size = 64\n",
    "\n",
    "## reduce size dataset\n",
    "train_set = TrajDataSet(data_train_new, window, variable, transform = ToTensor())\n",
    "validation_set = TrajDataSet(data_validation_new, window, variable, transform = ToTensor())\n",
    "\n",
    "train_loader = DataLoader(train_set, batch_size=batch_size, num_workers = 0, shuffle = True, drop_last=True)\n",
    "validation_loader = DataLoader(validation_set, batch_size=batch_size, num_workers = 0, shuffle = True, drop_last=True)"
   ]
  },
  {
   "cell_type": "code",
   "execution_count": 7,
   "metadata": {
    "id": "lhxDPuhUGZPB"
   },
   "outputs": [],
   "source": [
    "class UNet(nn.Module):\n",
    "\n",
    "    def __init__(self):\n",
    "        super(UNet, self).__init__()\n",
    "\n",
    "        self.threshold = nn.Sequential(\n",
    "            nn.BatchNorm2d(1),\n",
    "            nn.Conv2d(1, 8, kernel_size = 1, stride = 1, padding = 0, dilation = 1, bias = True),\n",
    "            nn.ReLU()\n",
    "        )\n",
    "\n",
    "        self.cnn_input_1 = nn.Sequential(\n",
    "            nn.BatchNorm1d(8+3),\n",
    "            nn.Conv1d(8+3, 8, kernel_size = 5, stride = 1, padding = 2, dilation = 1),\n",
    "            nn.ReLU(),\n",
    "            nn.Conv1d(8, 8, kernel_size = 5, stride = 1, padding = 2, dilation = 1),\n",
    "            nn.ReLU()\n",
    "        )\n",
    "\n",
    "        self.pooling_1 = nn.Sequential(\n",
    "            nn.MaxPool1d(kernel_size = 5, stride = 2, padding = 2, dilation = 1)\n",
    "        )\n",
    "\n",
    "        self.cnn_input_2 = nn.Sequential(\n",
    "            nn.BatchNorm1d(8),\n",
    "            nn.Conv1d(8, 16, kernel_size = 5, stride = 1, padding = 2, dilation = 1),\n",
    "            nn.ReLU(),\n",
    "            nn.Conv1d(16, 16, kernel_size = 5, stride = 1, padding = 2, dilation = 1),\n",
    "            nn.ReLU()\n",
    "        )\n",
    "\n",
    "        self.pooling_2 = nn.Sequential(\n",
    "            nn.MaxPool1d(kernel_size = 5, stride = 2, padding = 2, dilation = 1)\n",
    "        )\n",
    "\n",
    "        self.cnn_input_3 = nn.Sequential(\n",
    "            nn.BatchNorm1d(16),\n",
    "            nn.Conv1d(16, 32,  kernel_size = 5, stride = 1, padding = 2, dilation = 1),\n",
    "            nn.ReLU(),\n",
    "            nn.Conv1d(32, 32,  kernel_size = 5, stride = 1, padding = 2, dilation = 1),\n",
    "            nn.ReLU()\n",
    "        )\n",
    "\n",
    "        self.upconv_2 = nn.Sequential(\n",
    "             nn.ConvTranspose1d(32, 16, kernel_size = 6, stride = 2, padding = 2, dilation = 1)\n",
    "         )\n",
    "\n",
    "        self.cnn_output_2 = nn.Sequential(\n",
    "            nn.BatchNorm1d(16*2),\n",
    "            nn.Conv1d(16*2, 16,  kernel_size = 5, stride = 1, padding = 2, dilation = 1),\n",
    "            nn.ReLU(),\n",
    "            nn.Conv1d(16, 16,  kernel_size = 5, stride = 1, padding = 2, dilation = 1),\n",
    "            nn.ReLU()\n",
    "        )\n",
    "\n",
    "        self.upconv_1 = nn.Sequential(\n",
    "             nn.ConvTranspose1d(16, 8, kernel_size = 6, stride = 2, padding = 2, dilation = 1)\n",
    "         )\n",
    "        \n",
    "        self.cnn_output_1 = nn.Sequential(\n",
    "            nn.BatchNorm1d(8*2),\n",
    "            nn.Conv1d(8*2, 8,  kernel_size = 5, stride = 1, padding = 2, dilation = 1),\n",
    "            nn.ReLU(),\n",
    "            nn.Conv1d(8, 4, kernel_size = 5, stride = 1, padding = 2, dilation = 1),\n",
    "            nn.ReLU(),\n",
    "            nn.Conv1d(4, 2, kernel_size = 5, stride = 1, padding = 2, dilation = 1),\n",
    "            nn.ReLU(),\n",
    "            nn.Conv1d(2, 1,  kernel_size = 5, stride = 1, padding = 2, dilation = 1)\n",
    "        )\n",
    "\n",
    "    def forward(self, x, y):\n",
    "        out = self.threshold(y)\n",
    "        out = torch.sum(out, 2)\n",
    "\n",
    "        out = torch.cat((out, x.squeeze(1)), 1)\n",
    "\n",
    "        out_1 = self.cnn_input_1(out)\n",
    "        out = self.pooling_1(out_1)\n",
    "        out_2 = self.cnn_input_2(out)\n",
    "        out = self.pooling_2(out_2)\n",
    "        out = self.cnn_input_3(out)\n",
    "\n",
    "        out = self.upconv_2(out)\n",
    "        out = torch.cat((out, out_2), 1)\n",
    "        out = self.cnn_output_2(out)\n",
    "\n",
    "        out = self.upconv_1(out)\n",
    "        out = torch.cat((out, out_1), 1)\n",
    "        out = self.cnn_output_1(out)\n",
    "\n",
    "\n",
    "        return out\n",
    "\n",
    "def get_score(out, y):\n",
    "    out, y = out.cpu(), y.cpu()\n",
    "    out = 1*(out>0)\n",
    "    true_positive = np.mean(out[y == True].numpy()) \n",
    "    true_negative = 1-np.mean(out[y == False].numpy())\n",
    "    \n",
    "    return (round(true_positive*100) , round(true_negative*100))"
   ]
  },
  {
   "cell_type": "code",
   "execution_count": 8,
   "metadata": {
    "colab": {
     "base_uri": "https://localhost:8080/"
    },
    "id": "Pnuy-AEw3NXQ",
    "outputId": "25d0275e-7658-437a-e651-c74363fbd9f7"
   },
   "outputs": [
    {
     "data": {
      "text/plain": [
       "torch.Size([64, 1, 20])"
      ]
     },
     "execution_count": 8,
     "metadata": {},
     "output_type": "execute_result"
    }
   ],
   "source": [
    "# get sample\n",
    "x, y, z = next(iter(train_loader)) \n",
    "weight = torch.FloatTensor([30])\n",
    "\n",
    "# Forward model\n",
    "model = UNet()\n",
    "\n",
    "\n",
    "out = model.threshold(y)\n",
    "out = torch.sum(out, 2)\n",
    "\n",
    "out = torch.cat((out, x.squeeze(1)), 1)\n",
    "\n",
    "out_1 = model.cnn_input_1(out)\n",
    "out = model.pooling_1(out_1)\n",
    "out_2 = model.cnn_input_2(out)\n",
    "out = model.pooling_2(out_2)\n",
    "out = model.cnn_input_3(out)\n",
    "\n",
    "out = model.upconv_2(out)\n",
    "out = torch.cat((out, out_2), 1)\n",
    "out = model.cnn_output_2(out)\n",
    "\n",
    "out = model.upconv_1(out)\n",
    "out = torch.cat((out, out_1), 1)\n",
    "out = model.cnn_output_1(out)\n",
    "\n",
    "out.size()"
   ]
  },
  {
   "cell_type": "code",
   "execution_count": 9,
   "metadata": {
    "colab": {
     "base_uri": "https://localhost:8080/"
    },
    "id": "lRi-Oun6GZPB",
    "outputId": "f905ea3c-4845-4efb-99c0-99d58a2e1a8e"
   },
   "outputs": [
    {
     "data": {
      "text/plain": [
       "(100.0, 0.0)"
      ]
     },
     "execution_count": 9,
     "metadata": {},
     "output_type": "execute_result"
    }
   ],
   "source": [
    "# get sample\n",
    "x, y, z = next(iter(train_loader)) \n",
    "weight = torch.FloatTensor([30])\n",
    "\n",
    "# Forward model\n",
    "model = UNet()\n",
    "\n",
    "out = model(x, y)\n",
    "\n",
    "# Loss and score\n",
    "learning_rate = 0.01\n",
    "optimizer = torch.optim.Adam(model.parameters(), lr=learning_rate)\n",
    "criterion = nn.BCEWithLogitsLoss(pos_weight = weight)\n",
    "criterion(out, z)\n",
    "get_score(out, z)"
   ]
  },
  {
   "cell_type": "code",
   "execution_count": 10,
   "metadata": {
    "colab": {
     "base_uri": "https://localhost:8080/"
    },
    "id": "MrpxukCA-dg0",
    "outputId": "38eb5b0b-aed1-4cf7-c20e-b1bb42389979"
   },
   "outputs": [
    {
     "data": {
      "text/plain": [
       "tensor(42.6667)"
      ]
     },
     "execution_count": 10,
     "metadata": {},
     "output_type": "execute_result"
    }
   ],
   "source": [
    "## get Loss weight\n",
    "torch.sum(z==z)/torch.sum(z)"
   ]
  },
  {
   "cell_type": "markdown",
   "metadata": {
    "id": "hKIwYrQcGZPB"
   },
   "source": [
    "## Training"
   ]
  },
  {
   "cell_type": "code",
   "execution_count": 11,
   "metadata": {
    "id": "WsK522IKGZPB"
   },
   "outputs": [],
   "source": [
    "# switch to GPU\n",
    "model = UNet()\n",
    "device = torch.device('cuda' if torch.cuda.is_available() else 'cpu')\n",
    "model = model.to(device)\n",
    "weight = weight.to(device)\n",
    "criterion = nn.BCEWithLogitsLoss(pos_weight = weight)"
   ]
  },
  {
   "cell_type": "code",
   "execution_count": 12,
   "metadata": {
    "colab": {
     "base_uri": "https://localhost:8080/"
    },
    "id": "0QzQPetaGZPB",
    "outputId": "4001bd0d-8c2e-4d6a-f37c-cb53fc34ad79",
    "scrolled": true
   },
   "outputs": [
    {
     "name": "stdout",
     "output_type": "stream",
     "text": [
      "Epoch [1/5] -------------------------------------------------------------------------------------\n",
      "Train Loss: 0.39, Train True Positive : 92.08 %, Train True Negative : 89.22 %\n",
      "Validation Loss: 0.55, Validation True Positive : 84.65 %, Validation True Negative : 88.44 %\n"
     ]
    },
    {
     "ename": "KeyboardInterrupt",
     "evalue": "",
     "output_type": "error",
     "traceback": [
      "\u001b[0;31m---------------------------------------------------------------------------\u001b[0m",
      "\u001b[0;31mKeyboardInterrupt\u001b[0m                         Traceback (most recent call last)",
      "\u001b[0;32m<ipython-input-12-df018d712c9e>\u001b[0m in \u001b[0;36m<module>\u001b[0;34m\u001b[0m\n\u001b[1;32m     12\u001b[0m     \u001b[0moptimizer\u001b[0m \u001b[0;34m=\u001b[0m \u001b[0mtorch\u001b[0m\u001b[0;34m.\u001b[0m\u001b[0moptim\u001b[0m\u001b[0;34m.\u001b[0m\u001b[0mAdam\u001b[0m\u001b[0;34m(\u001b[0m\u001b[0mmodel\u001b[0m\u001b[0;34m.\u001b[0m\u001b[0mparameters\u001b[0m\u001b[0;34m(\u001b[0m\u001b[0;34m)\u001b[0m\u001b[0;34m,\u001b[0m \u001b[0mlr\u001b[0m\u001b[0;34m=\u001b[0m\u001b[0mlearning_rate\u001b[0m\u001b[0;34m)\u001b[0m\u001b[0;34m\u001b[0m\u001b[0;34m\u001b[0m\u001b[0m\n\u001b[1;32m     13\u001b[0m \u001b[0;34m\u001b[0m\u001b[0m\n\u001b[0;32m---> 14\u001b[0;31m     \u001b[0;32mfor\u001b[0m \u001b[0mbatch\u001b[0m\u001b[0;34m,\u001b[0m \u001b[0;34m(\u001b[0m\u001b[0mx\u001b[0m\u001b[0;34m,\u001b[0m \u001b[0my\u001b[0m\u001b[0;34m,\u001b[0m \u001b[0mz\u001b[0m\u001b[0;34m)\u001b[0m \u001b[0;32min\u001b[0m \u001b[0menumerate\u001b[0m\u001b[0;34m(\u001b[0m\u001b[0mtrain_loader\u001b[0m\u001b[0;34m)\u001b[0m\u001b[0;34m:\u001b[0m\u001b[0;34m\u001b[0m\u001b[0;34m\u001b[0m\u001b[0m\n\u001b[0m\u001b[1;32m     15\u001b[0m         \u001b[0mi\u001b[0m\u001b[0;34m+=\u001b[0m\u001b[0;36m1\u001b[0m\u001b[0;34m\u001b[0m\u001b[0;34m\u001b[0m\u001b[0m\n\u001b[1;32m     16\u001b[0m         \u001b[0mmodel\u001b[0m\u001b[0;34m.\u001b[0m\u001b[0mtrain\u001b[0m\u001b[0;34m(\u001b[0m\u001b[0;34m)\u001b[0m\u001b[0;34m\u001b[0m\u001b[0;34m\u001b[0m\u001b[0m\n",
      "\u001b[0;32m~/anaconda3/lib/python3.7/site-packages/torch/utils/data/dataloader.py\u001b[0m in \u001b[0;36m__next__\u001b[0;34m(self)\u001b[0m\n\u001b[1;32m    361\u001b[0m \u001b[0;34m\u001b[0m\u001b[0m\n\u001b[1;32m    362\u001b[0m     \u001b[0;32mdef\u001b[0m \u001b[0m__next__\u001b[0m\u001b[0;34m(\u001b[0m\u001b[0mself\u001b[0m\u001b[0;34m)\u001b[0m\u001b[0;34m:\u001b[0m\u001b[0;34m\u001b[0m\u001b[0;34m\u001b[0m\u001b[0m\n\u001b[0;32m--> 363\u001b[0;31m         \u001b[0mdata\u001b[0m \u001b[0;34m=\u001b[0m \u001b[0mself\u001b[0m\u001b[0;34m.\u001b[0m\u001b[0m_next_data\u001b[0m\u001b[0;34m(\u001b[0m\u001b[0;34m)\u001b[0m\u001b[0;34m\u001b[0m\u001b[0;34m\u001b[0m\u001b[0m\n\u001b[0m\u001b[1;32m    364\u001b[0m         \u001b[0mself\u001b[0m\u001b[0;34m.\u001b[0m\u001b[0m_num_yielded\u001b[0m \u001b[0;34m+=\u001b[0m \u001b[0;36m1\u001b[0m\u001b[0;34m\u001b[0m\u001b[0;34m\u001b[0m\u001b[0m\n\u001b[1;32m    365\u001b[0m         \u001b[0;32mif\u001b[0m \u001b[0mself\u001b[0m\u001b[0;34m.\u001b[0m\u001b[0m_dataset_kind\u001b[0m \u001b[0;34m==\u001b[0m \u001b[0m_DatasetKind\u001b[0m\u001b[0;34m.\u001b[0m\u001b[0mIterable\u001b[0m \u001b[0;32mand\u001b[0m\u001b[0;31m \u001b[0m\u001b[0;31m\\\u001b[0m\u001b[0;34m\u001b[0m\u001b[0;34m\u001b[0m\u001b[0m\n",
      "\u001b[0;32m~/anaconda3/lib/python3.7/site-packages/torch/utils/data/dataloader.py\u001b[0m in \u001b[0;36m_next_data\u001b[0;34m(self)\u001b[0m\n\u001b[1;32m    401\u001b[0m     \u001b[0;32mdef\u001b[0m \u001b[0m_next_data\u001b[0m\u001b[0;34m(\u001b[0m\u001b[0mself\u001b[0m\u001b[0;34m)\u001b[0m\u001b[0;34m:\u001b[0m\u001b[0;34m\u001b[0m\u001b[0;34m\u001b[0m\u001b[0m\n\u001b[1;32m    402\u001b[0m         \u001b[0mindex\u001b[0m \u001b[0;34m=\u001b[0m \u001b[0mself\u001b[0m\u001b[0;34m.\u001b[0m\u001b[0m_next_index\u001b[0m\u001b[0;34m(\u001b[0m\u001b[0;34m)\u001b[0m  \u001b[0;31m# may raise StopIteration\u001b[0m\u001b[0;34m\u001b[0m\u001b[0;34m\u001b[0m\u001b[0m\n\u001b[0;32m--> 403\u001b[0;31m         \u001b[0mdata\u001b[0m \u001b[0;34m=\u001b[0m \u001b[0mself\u001b[0m\u001b[0;34m.\u001b[0m\u001b[0m_dataset_fetcher\u001b[0m\u001b[0;34m.\u001b[0m\u001b[0mfetch\u001b[0m\u001b[0;34m(\u001b[0m\u001b[0mindex\u001b[0m\u001b[0;34m)\u001b[0m  \u001b[0;31m# may raise StopIteration\u001b[0m\u001b[0;34m\u001b[0m\u001b[0;34m\u001b[0m\u001b[0m\n\u001b[0m\u001b[1;32m    404\u001b[0m         \u001b[0;32mif\u001b[0m \u001b[0mself\u001b[0m\u001b[0;34m.\u001b[0m\u001b[0m_pin_memory\u001b[0m\u001b[0;34m:\u001b[0m\u001b[0;34m\u001b[0m\u001b[0;34m\u001b[0m\u001b[0m\n\u001b[1;32m    405\u001b[0m             \u001b[0mdata\u001b[0m \u001b[0;34m=\u001b[0m \u001b[0m_utils\u001b[0m\u001b[0;34m.\u001b[0m\u001b[0mpin_memory\u001b[0m\u001b[0;34m.\u001b[0m\u001b[0mpin_memory\u001b[0m\u001b[0;34m(\u001b[0m\u001b[0mdata\u001b[0m\u001b[0;34m)\u001b[0m\u001b[0;34m\u001b[0m\u001b[0;34m\u001b[0m\u001b[0m\n",
      "\u001b[0;32m~/anaconda3/lib/python3.7/site-packages/torch/utils/data/_utils/fetch.py\u001b[0m in \u001b[0;36mfetch\u001b[0;34m(self, possibly_batched_index)\u001b[0m\n\u001b[1;32m     42\u001b[0m     \u001b[0;32mdef\u001b[0m \u001b[0mfetch\u001b[0m\u001b[0;34m(\u001b[0m\u001b[0mself\u001b[0m\u001b[0;34m,\u001b[0m \u001b[0mpossibly_batched_index\u001b[0m\u001b[0;34m)\u001b[0m\u001b[0;34m:\u001b[0m\u001b[0;34m\u001b[0m\u001b[0;34m\u001b[0m\u001b[0m\n\u001b[1;32m     43\u001b[0m         \u001b[0;32mif\u001b[0m \u001b[0mself\u001b[0m\u001b[0;34m.\u001b[0m\u001b[0mauto_collation\u001b[0m\u001b[0;34m:\u001b[0m\u001b[0;34m\u001b[0m\u001b[0;34m\u001b[0m\u001b[0m\n\u001b[0;32m---> 44\u001b[0;31m             \u001b[0mdata\u001b[0m \u001b[0;34m=\u001b[0m \u001b[0;34m[\u001b[0m\u001b[0mself\u001b[0m\u001b[0;34m.\u001b[0m\u001b[0mdataset\u001b[0m\u001b[0;34m[\u001b[0m\u001b[0midx\u001b[0m\u001b[0;34m]\u001b[0m \u001b[0;32mfor\u001b[0m \u001b[0midx\u001b[0m \u001b[0;32min\u001b[0m \u001b[0mpossibly_batched_index\u001b[0m\u001b[0;34m]\u001b[0m\u001b[0;34m\u001b[0m\u001b[0;34m\u001b[0m\u001b[0m\n\u001b[0m\u001b[1;32m     45\u001b[0m         \u001b[0;32melse\u001b[0m\u001b[0;34m:\u001b[0m\u001b[0;34m\u001b[0m\u001b[0;34m\u001b[0m\u001b[0m\n\u001b[1;32m     46\u001b[0m             \u001b[0mdata\u001b[0m \u001b[0;34m=\u001b[0m \u001b[0mself\u001b[0m\u001b[0;34m.\u001b[0m\u001b[0mdataset\u001b[0m\u001b[0;34m[\u001b[0m\u001b[0mpossibly_batched_index\u001b[0m\u001b[0;34m]\u001b[0m\u001b[0;34m\u001b[0m\u001b[0;34m\u001b[0m\u001b[0m\n",
      "\u001b[0;32m~/anaconda3/lib/python3.7/site-packages/torch/utils/data/_utils/fetch.py\u001b[0m in \u001b[0;36m<listcomp>\u001b[0;34m(.0)\u001b[0m\n\u001b[1;32m     42\u001b[0m     \u001b[0;32mdef\u001b[0m \u001b[0mfetch\u001b[0m\u001b[0;34m(\u001b[0m\u001b[0mself\u001b[0m\u001b[0;34m,\u001b[0m \u001b[0mpossibly_batched_index\u001b[0m\u001b[0;34m)\u001b[0m\u001b[0;34m:\u001b[0m\u001b[0;34m\u001b[0m\u001b[0;34m\u001b[0m\u001b[0m\n\u001b[1;32m     43\u001b[0m         \u001b[0;32mif\u001b[0m \u001b[0mself\u001b[0m\u001b[0;34m.\u001b[0m\u001b[0mauto_collation\u001b[0m\u001b[0;34m:\u001b[0m\u001b[0;34m\u001b[0m\u001b[0;34m\u001b[0m\u001b[0m\n\u001b[0;32m---> 44\u001b[0;31m             \u001b[0mdata\u001b[0m \u001b[0;34m=\u001b[0m \u001b[0;34m[\u001b[0m\u001b[0mself\u001b[0m\u001b[0;34m.\u001b[0m\u001b[0mdataset\u001b[0m\u001b[0;34m[\u001b[0m\u001b[0midx\u001b[0m\u001b[0;34m]\u001b[0m \u001b[0;32mfor\u001b[0m \u001b[0midx\u001b[0m \u001b[0;32min\u001b[0m \u001b[0mpossibly_batched_index\u001b[0m\u001b[0;34m]\u001b[0m\u001b[0;34m\u001b[0m\u001b[0;34m\u001b[0m\u001b[0m\n\u001b[0m\u001b[1;32m     45\u001b[0m         \u001b[0;32melse\u001b[0m\u001b[0;34m:\u001b[0m\u001b[0;34m\u001b[0m\u001b[0;34m\u001b[0m\u001b[0m\n\u001b[1;32m     46\u001b[0m             \u001b[0mdata\u001b[0m \u001b[0;34m=\u001b[0m \u001b[0mself\u001b[0m\u001b[0;34m.\u001b[0m\u001b[0mdataset\u001b[0m\u001b[0;34m[\u001b[0m\u001b[0mpossibly_batched_index\u001b[0m\u001b[0;34m]\u001b[0m\u001b[0;34m\u001b[0m\u001b[0;34m\u001b[0m\u001b[0m\n",
      "\u001b[0;32m~/MEGA/SCRIPT/BirdDL/utils/trip.py\u001b[0m in \u001b[0;36m__getitem__\u001b[0;34m(self, idx)\u001b[0m\n\u001b[1;32m    244\u001b[0m \u001b[0;34m\u001b[0m\u001b[0m\n\u001b[1;32m    245\u001b[0m         \u001b[0;31m# select variable of interest\u001b[0m\u001b[0;34m\u001b[0m\u001b[0;34m\u001b[0m\u001b[0;34m\u001b[0m\u001b[0m\n\u001b[0;32m--> 246\u001b[0;31m         \u001b[0mtraj\u001b[0m \u001b[0;34m=\u001b[0m \u001b[0mself\u001b[0m\u001b[0;34m.\u001b[0m\u001b[0mdf\u001b[0m\u001b[0;34m.\u001b[0m\u001b[0mloc\u001b[0m\u001b[0;34m[\u001b[0m\u001b[0mi\u001b[0m\u001b[0;34m:\u001b[0m\u001b[0mi\u001b[0m\u001b[0;34m+\u001b[0m\u001b[0mself\u001b[0m\u001b[0;34m.\u001b[0m\u001b[0mwindow\u001b[0m\u001b[0;34m-\u001b[0m\u001b[0;36m1\u001b[0m\u001b[0;34m,\u001b[0m \u001b[0mself\u001b[0m\u001b[0;34m.\u001b[0m\u001b[0mvar\u001b[0m\u001b[0;34m]\u001b[0m\u001b[0;34m\u001b[0m\u001b[0;34m\u001b[0m\u001b[0m\n\u001b[0m\u001b[1;32m    247\u001b[0m         \u001b[0mtraj\u001b[0m \u001b[0;34m=\u001b[0m \u001b[0mnp\u001b[0m\u001b[0;34m.\u001b[0m\u001b[0marray\u001b[0m\u001b[0;34m(\u001b[0m\u001b[0mtraj\u001b[0m\u001b[0;34m)\u001b[0m\u001b[0;34m.\u001b[0m\u001b[0mT\u001b[0m\u001b[0;34m\u001b[0m\u001b[0;34m\u001b[0m\u001b[0m\n\u001b[1;32m    248\u001b[0m \u001b[0;34m\u001b[0m\u001b[0m\n",
      "\u001b[0;32m~/anaconda3/lib/python3.7/site-packages/pandas/core/indexing.py\u001b[0m in \u001b[0;36m__getitem__\u001b[0;34m(self, key)\u001b[0m\n\u001b[1;32m    871\u001b[0m                     \u001b[0;31m# AttributeError for IntervalTree get_value\u001b[0m\u001b[0;34m\u001b[0m\u001b[0;34m\u001b[0m\u001b[0;34m\u001b[0m\u001b[0m\n\u001b[1;32m    872\u001b[0m                     \u001b[0;32mpass\u001b[0m\u001b[0;34m\u001b[0m\u001b[0;34m\u001b[0m\u001b[0m\n\u001b[0;32m--> 873\u001b[0;31m             \u001b[0;32mreturn\u001b[0m \u001b[0mself\u001b[0m\u001b[0;34m.\u001b[0m\u001b[0m_getitem_tuple\u001b[0m\u001b[0;34m(\u001b[0m\u001b[0mkey\u001b[0m\u001b[0;34m)\u001b[0m\u001b[0;34m\u001b[0m\u001b[0;34m\u001b[0m\u001b[0m\n\u001b[0m\u001b[1;32m    874\u001b[0m         \u001b[0;32melse\u001b[0m\u001b[0;34m:\u001b[0m\u001b[0;34m\u001b[0m\u001b[0;34m\u001b[0m\u001b[0m\n\u001b[1;32m    875\u001b[0m             \u001b[0;31m# we by definition only have the 0th axis\u001b[0m\u001b[0;34m\u001b[0m\u001b[0;34m\u001b[0m\u001b[0;34m\u001b[0m\u001b[0m\n",
      "\u001b[0;32m~/anaconda3/lib/python3.7/site-packages/pandas/core/indexing.py\u001b[0m in \u001b[0;36m_getitem_tuple\u001b[0;34m(self, tup)\u001b[0m\n\u001b[1;32m   1053\u001b[0m             \u001b[0;32mreturn\u001b[0m \u001b[0mself\u001b[0m\u001b[0;34m.\u001b[0m\u001b[0m_multi_take\u001b[0m\u001b[0;34m(\u001b[0m\u001b[0mtup\u001b[0m\u001b[0;34m)\u001b[0m\u001b[0;34m\u001b[0m\u001b[0;34m\u001b[0m\u001b[0m\n\u001b[1;32m   1054\u001b[0m \u001b[0;34m\u001b[0m\u001b[0m\n\u001b[0;32m-> 1055\u001b[0;31m         \u001b[0;32mreturn\u001b[0m \u001b[0mself\u001b[0m\u001b[0;34m.\u001b[0m\u001b[0m_getitem_tuple_same_dim\u001b[0m\u001b[0;34m(\u001b[0m\u001b[0mtup\u001b[0m\u001b[0;34m)\u001b[0m\u001b[0;34m\u001b[0m\u001b[0;34m\u001b[0m\u001b[0m\n\u001b[0m\u001b[1;32m   1056\u001b[0m \u001b[0;34m\u001b[0m\u001b[0m\n\u001b[1;32m   1057\u001b[0m     \u001b[0;32mdef\u001b[0m \u001b[0m_get_label\u001b[0m\u001b[0;34m(\u001b[0m\u001b[0mself\u001b[0m\u001b[0;34m,\u001b[0m \u001b[0mlabel\u001b[0m\u001b[0;34m,\u001b[0m \u001b[0maxis\u001b[0m\u001b[0;34m:\u001b[0m \u001b[0mint\u001b[0m\u001b[0;34m)\u001b[0m\u001b[0;34m:\u001b[0m\u001b[0;34m\u001b[0m\u001b[0;34m\u001b[0m\u001b[0m\n",
      "\u001b[0;32m~/anaconda3/lib/python3.7/site-packages/pandas/core/indexing.py\u001b[0m in \u001b[0;36m_getitem_tuple_same_dim\u001b[0;34m(self, tup)\u001b[0m\n\u001b[1;32m    748\u001b[0m                 \u001b[0;32mcontinue\u001b[0m\u001b[0;34m\u001b[0m\u001b[0;34m\u001b[0m\u001b[0m\n\u001b[1;32m    749\u001b[0m \u001b[0;34m\u001b[0m\u001b[0m\n\u001b[0;32m--> 750\u001b[0;31m             \u001b[0mretval\u001b[0m \u001b[0;34m=\u001b[0m \u001b[0mgetattr\u001b[0m\u001b[0;34m(\u001b[0m\u001b[0mretval\u001b[0m\u001b[0;34m,\u001b[0m \u001b[0mself\u001b[0m\u001b[0;34m.\u001b[0m\u001b[0mname\u001b[0m\u001b[0;34m)\u001b[0m\u001b[0;34m.\u001b[0m\u001b[0m_getitem_axis\u001b[0m\u001b[0;34m(\u001b[0m\u001b[0mkey\u001b[0m\u001b[0;34m,\u001b[0m \u001b[0maxis\u001b[0m\u001b[0;34m=\u001b[0m\u001b[0mi\u001b[0m\u001b[0;34m)\u001b[0m\u001b[0;34m\u001b[0m\u001b[0;34m\u001b[0m\u001b[0m\n\u001b[0m\u001b[1;32m    751\u001b[0m             \u001b[0;31m# We should never have retval.ndim < self.ndim, as that should\u001b[0m\u001b[0;34m\u001b[0m\u001b[0;34m\u001b[0m\u001b[0;34m\u001b[0m\u001b[0m\n\u001b[1;32m    752\u001b[0m             \u001b[0;31m#  be handled by the _getitem_lowerdim call above.\u001b[0m\u001b[0;34m\u001b[0m\u001b[0;34m\u001b[0m\u001b[0;34m\u001b[0m\u001b[0m\n",
      "\u001b[0;32m~/anaconda3/lib/python3.7/site-packages/pandas/core/indexing.py\u001b[0m in \u001b[0;36m_getitem_axis\u001b[0;34m(self, key, axis)\u001b[0m\n\u001b[1;32m   1097\u001b[0m                     \u001b[0;32mraise\u001b[0m \u001b[0mValueError\u001b[0m\u001b[0;34m(\u001b[0m\u001b[0;34m\"Cannot index with multidimensional key\"\u001b[0m\u001b[0;34m)\u001b[0m\u001b[0;34m\u001b[0m\u001b[0;34m\u001b[0m\u001b[0m\n\u001b[1;32m   1098\u001b[0m \u001b[0;34m\u001b[0m\u001b[0m\n\u001b[0;32m-> 1099\u001b[0;31m                 \u001b[0;32mreturn\u001b[0m \u001b[0mself\u001b[0m\u001b[0;34m.\u001b[0m\u001b[0m_getitem_iterable\u001b[0m\u001b[0;34m(\u001b[0m\u001b[0mkey\u001b[0m\u001b[0;34m,\u001b[0m \u001b[0maxis\u001b[0m\u001b[0;34m=\u001b[0m\u001b[0maxis\u001b[0m\u001b[0;34m)\u001b[0m\u001b[0;34m\u001b[0m\u001b[0;34m\u001b[0m\u001b[0m\n\u001b[0m\u001b[1;32m   1100\u001b[0m \u001b[0;34m\u001b[0m\u001b[0m\n\u001b[1;32m   1101\u001b[0m             \u001b[0;31m# nested tuple slicing\u001b[0m\u001b[0;34m\u001b[0m\u001b[0;34m\u001b[0m\u001b[0;34m\u001b[0m\u001b[0m\n",
      "\u001b[0;32m~/anaconda3/lib/python3.7/site-packages/pandas/core/indexing.py\u001b[0m in \u001b[0;36m_getitem_iterable\u001b[0;34m(self, key, axis)\u001b[0m\n\u001b[1;32m   1035\u001b[0m \u001b[0;34m\u001b[0m\u001b[0m\n\u001b[1;32m   1036\u001b[0m         \u001b[0;31m# A collection of keys\u001b[0m\u001b[0;34m\u001b[0m\u001b[0;34m\u001b[0m\u001b[0;34m\u001b[0m\u001b[0m\n\u001b[0;32m-> 1037\u001b[0;31m         \u001b[0mkeyarr\u001b[0m\u001b[0;34m,\u001b[0m \u001b[0mindexer\u001b[0m \u001b[0;34m=\u001b[0m \u001b[0mself\u001b[0m\u001b[0;34m.\u001b[0m\u001b[0m_get_listlike_indexer\u001b[0m\u001b[0;34m(\u001b[0m\u001b[0mkey\u001b[0m\u001b[0;34m,\u001b[0m \u001b[0maxis\u001b[0m\u001b[0;34m,\u001b[0m \u001b[0mraise_missing\u001b[0m\u001b[0;34m=\u001b[0m\u001b[0;32mFalse\u001b[0m\u001b[0;34m)\u001b[0m\u001b[0;34m\u001b[0m\u001b[0;34m\u001b[0m\u001b[0m\n\u001b[0m\u001b[1;32m   1038\u001b[0m         return self.obj._reindex_with_indexers(\n\u001b[1;32m   1039\u001b[0m             \u001b[0;34m{\u001b[0m\u001b[0maxis\u001b[0m\u001b[0;34m:\u001b[0m \u001b[0;34m[\u001b[0m\u001b[0mkeyarr\u001b[0m\u001b[0;34m,\u001b[0m \u001b[0mindexer\u001b[0m\u001b[0;34m]\u001b[0m\u001b[0;34m}\u001b[0m\u001b[0;34m,\u001b[0m \u001b[0mcopy\u001b[0m\u001b[0;34m=\u001b[0m\u001b[0;32mTrue\u001b[0m\u001b[0;34m,\u001b[0m \u001b[0mallow_dups\u001b[0m\u001b[0;34m=\u001b[0m\u001b[0;32mTrue\u001b[0m\u001b[0;34m\u001b[0m\u001b[0;34m\u001b[0m\u001b[0m\n",
      "\u001b[0;32m~/anaconda3/lib/python3.7/site-packages/pandas/core/indexing.py\u001b[0m in \u001b[0;36m_get_listlike_indexer\u001b[0;34m(self, key, axis, raise_missing)\u001b[0m\n\u001b[1;32m   1248\u001b[0m         \u001b[0;32mif\u001b[0m \u001b[0max\u001b[0m\u001b[0;34m.\u001b[0m\u001b[0mis_unique\u001b[0m \u001b[0;32mand\u001b[0m \u001b[0;32mnot\u001b[0m \u001b[0mgetattr\u001b[0m\u001b[0;34m(\u001b[0m\u001b[0max\u001b[0m\u001b[0;34m,\u001b[0m \u001b[0;34m\"is_overlapping\"\u001b[0m\u001b[0;34m,\u001b[0m \u001b[0;32mFalse\u001b[0m\u001b[0;34m)\u001b[0m\u001b[0;34m:\u001b[0m\u001b[0;34m\u001b[0m\u001b[0;34m\u001b[0m\u001b[0m\n\u001b[1;32m   1249\u001b[0m             \u001b[0mindexer\u001b[0m \u001b[0;34m=\u001b[0m \u001b[0max\u001b[0m\u001b[0;34m.\u001b[0m\u001b[0mget_indexer_for\u001b[0m\u001b[0;34m(\u001b[0m\u001b[0mkeyarr\u001b[0m\u001b[0;34m)\u001b[0m\u001b[0;34m\u001b[0m\u001b[0;34m\u001b[0m\u001b[0m\n\u001b[0;32m-> 1250\u001b[0;31m             \u001b[0mkeyarr\u001b[0m \u001b[0;34m=\u001b[0m \u001b[0max\u001b[0m\u001b[0;34m.\u001b[0m\u001b[0mreindex\u001b[0m\u001b[0;34m(\u001b[0m\u001b[0mkeyarr\u001b[0m\u001b[0;34m)\u001b[0m\u001b[0;34m[\u001b[0m\u001b[0;36m0\u001b[0m\u001b[0;34m]\u001b[0m\u001b[0;34m\u001b[0m\u001b[0;34m\u001b[0m\u001b[0m\n\u001b[0m\u001b[1;32m   1251\u001b[0m         \u001b[0;32melse\u001b[0m\u001b[0;34m:\u001b[0m\u001b[0;34m\u001b[0m\u001b[0;34m\u001b[0m\u001b[0m\n\u001b[1;32m   1252\u001b[0m             \u001b[0mkeyarr\u001b[0m\u001b[0;34m,\u001b[0m \u001b[0mindexer\u001b[0m\u001b[0;34m,\u001b[0m \u001b[0mnew_indexer\u001b[0m \u001b[0;34m=\u001b[0m \u001b[0max\u001b[0m\u001b[0;34m.\u001b[0m\u001b[0m_reindex_non_unique\u001b[0m\u001b[0;34m(\u001b[0m\u001b[0mkeyarr\u001b[0m\u001b[0;34m)\u001b[0m\u001b[0;34m\u001b[0m\u001b[0;34m\u001b[0m\u001b[0m\n",
      "\u001b[0;32m~/anaconda3/lib/python3.7/site-packages/pandas/core/indexes/base.py\u001b[0m in \u001b[0;36mreindex\u001b[0;34m(self, target, method, level, limit, tolerance)\u001b[0m\n\u001b[1;32m   3327\u001b[0m                 \u001b[0;32mif\u001b[0m \u001b[0mself\u001b[0m\u001b[0;34m.\u001b[0m\u001b[0mis_unique\u001b[0m \u001b[0;32mand\u001b[0m \u001b[0;32mnot\u001b[0m \u001b[0mgetattr\u001b[0m\u001b[0;34m(\u001b[0m\u001b[0mself\u001b[0m\u001b[0;34m,\u001b[0m \u001b[0;34m\"is_overlapping\"\u001b[0m\u001b[0;34m,\u001b[0m \u001b[0;32mFalse\u001b[0m\u001b[0;34m)\u001b[0m\u001b[0;34m:\u001b[0m\u001b[0;34m\u001b[0m\u001b[0;34m\u001b[0m\u001b[0m\n\u001b[1;32m   3328\u001b[0m                     indexer = self.get_indexer(\n\u001b[0;32m-> 3329\u001b[0;31m                         \u001b[0mtarget\u001b[0m\u001b[0;34m,\u001b[0m \u001b[0mmethod\u001b[0m\u001b[0;34m=\u001b[0m\u001b[0mmethod\u001b[0m\u001b[0;34m,\u001b[0m \u001b[0mlimit\u001b[0m\u001b[0;34m=\u001b[0m\u001b[0mlimit\u001b[0m\u001b[0;34m,\u001b[0m \u001b[0mtolerance\u001b[0m\u001b[0;34m=\u001b[0m\u001b[0mtolerance\u001b[0m\u001b[0;34m\u001b[0m\u001b[0;34m\u001b[0m\u001b[0m\n\u001b[0m\u001b[1;32m   3330\u001b[0m                     )\n\u001b[1;32m   3331\u001b[0m                 \u001b[0;32melse\u001b[0m\u001b[0;34m:\u001b[0m\u001b[0;34m\u001b[0m\u001b[0;34m\u001b[0m\u001b[0m\n",
      "\u001b[0;32m~/anaconda3/lib/python3.7/site-packages/pandas/core/indexes/base.py\u001b[0m in \u001b[0;36mget_indexer\u001b[0;34m(self, target, method, limit, tolerance)\u001b[0m\n\u001b[1;32m   2961\u001b[0m         \u001b[0;31m# this fix False and True would be treated as 0 and 1 respectively.\u001b[0m\u001b[0;34m\u001b[0m\u001b[0;34m\u001b[0m\u001b[0;34m\u001b[0m\u001b[0m\n\u001b[1;32m   2962\u001b[0m         \u001b[0;31m# (GH #16877)\u001b[0m\u001b[0;34m\u001b[0m\u001b[0;34m\u001b[0m\u001b[0;34m\u001b[0m\u001b[0m\n\u001b[0;32m-> 2963\u001b[0;31m         \u001b[0;32mif\u001b[0m \u001b[0mtarget\u001b[0m\u001b[0;34m.\u001b[0m\u001b[0mis_boolean\u001b[0m\u001b[0;34m(\u001b[0m\u001b[0;34m)\u001b[0m \u001b[0;32mand\u001b[0m \u001b[0mself\u001b[0m\u001b[0;34m.\u001b[0m\u001b[0mis_numeric\u001b[0m\u001b[0;34m(\u001b[0m\u001b[0;34m)\u001b[0m\u001b[0;34m:\u001b[0m\u001b[0;34m\u001b[0m\u001b[0;34m\u001b[0m\u001b[0m\n\u001b[0m\u001b[1;32m   2964\u001b[0m             \u001b[0;32mreturn\u001b[0m \u001b[0mensure_platform_int\u001b[0m\u001b[0;34m(\u001b[0m\u001b[0mnp\u001b[0m\u001b[0;34m.\u001b[0m\u001b[0mrepeat\u001b[0m\u001b[0;34m(\u001b[0m\u001b[0;34m-\u001b[0m\u001b[0;36m1\u001b[0m\u001b[0;34m,\u001b[0m \u001b[0mtarget\u001b[0m\u001b[0;34m.\u001b[0m\u001b[0msize\u001b[0m\u001b[0;34m)\u001b[0m\u001b[0;34m)\u001b[0m\u001b[0;34m\u001b[0m\u001b[0;34m\u001b[0m\u001b[0m\n\u001b[1;32m   2965\u001b[0m \u001b[0;34m\u001b[0m\u001b[0m\n",
      "\u001b[0;32m~/anaconda3/lib/python3.7/site-packages/pandas/core/indexes/base.py\u001b[0m in \u001b[0;36mis_boolean\u001b[0;34m(self)\u001b[0m\n\u001b[1;32m   1710\u001b[0m         \u001b[0;32mFalse\u001b[0m\u001b[0;34m\u001b[0m\u001b[0;34m\u001b[0m\u001b[0m\n\u001b[1;32m   1711\u001b[0m         \"\"\"\n\u001b[0;32m-> 1712\u001b[0;31m         \u001b[0;32mreturn\u001b[0m \u001b[0mself\u001b[0m\u001b[0;34m.\u001b[0m\u001b[0minferred_type\u001b[0m \u001b[0;32min\u001b[0m \u001b[0;34m[\u001b[0m\u001b[0;34m\"boolean\"\u001b[0m\u001b[0;34m]\u001b[0m\u001b[0;34m\u001b[0m\u001b[0;34m\u001b[0m\u001b[0m\n\u001b[0m\u001b[1;32m   1713\u001b[0m \u001b[0;34m\u001b[0m\u001b[0m\n\u001b[1;32m   1714\u001b[0m     \u001b[0;32mdef\u001b[0m \u001b[0mis_integer\u001b[0m\u001b[0;34m(\u001b[0m\u001b[0mself\u001b[0m\u001b[0;34m)\u001b[0m \u001b[0;34m->\u001b[0m \u001b[0mbool\u001b[0m\u001b[0;34m:\u001b[0m\u001b[0;34m\u001b[0m\u001b[0;34m\u001b[0m\u001b[0m\n",
      "\u001b[0;32mpandas/_libs/properties.pyx\u001b[0m in \u001b[0;36mpandas._libs.properties.CachedProperty.__get__\u001b[0;34m()\u001b[0m\n",
      "\u001b[0;32m~/anaconda3/lib/python3.7/site-packages/pandas/core/indexes/base.py\u001b[0m in \u001b[0;36minferred_type\u001b[0;34m(self)\u001b[0m\n\u001b[1;32m   1997\u001b[0m         \u001b[0mReturn\u001b[0m \u001b[0ma\u001b[0m \u001b[0mstring\u001b[0m \u001b[0mof\u001b[0m \u001b[0mthe\u001b[0m \u001b[0mtype\u001b[0m \u001b[0minferred\u001b[0m \u001b[0;32mfrom\u001b[0m \u001b[0mthe\u001b[0m \u001b[0mvalues\u001b[0m\u001b[0;34m.\u001b[0m\u001b[0;34m\u001b[0m\u001b[0;34m\u001b[0m\u001b[0m\n\u001b[1;32m   1998\u001b[0m         \"\"\"\n\u001b[0;32m-> 1999\u001b[0;31m         \u001b[0;32mreturn\u001b[0m \u001b[0mlib\u001b[0m\u001b[0;34m.\u001b[0m\u001b[0minfer_dtype\u001b[0m\u001b[0;34m(\u001b[0m\u001b[0mself\u001b[0m\u001b[0;34m.\u001b[0m\u001b[0m_values\u001b[0m\u001b[0;34m,\u001b[0m \u001b[0mskipna\u001b[0m\u001b[0;34m=\u001b[0m\u001b[0;32mFalse\u001b[0m\u001b[0;34m)\u001b[0m\u001b[0;34m\u001b[0m\u001b[0;34m\u001b[0m\u001b[0m\n\u001b[0m\u001b[1;32m   2000\u001b[0m \u001b[0;34m\u001b[0m\u001b[0m\n\u001b[1;32m   2001\u001b[0m     \u001b[0;34m@\u001b[0m\u001b[0mcache_readonly\u001b[0m\u001b[0;34m\u001b[0m\u001b[0;34m\u001b[0m\u001b[0m\n",
      "\u001b[0;31mKeyboardInterrupt\u001b[0m: "
     ]
    }
   ],
   "source": [
    "# Train the model\n",
    "nb_epoch = 5\n",
    "\n",
    "epoch_loss_train = []\n",
    "epoch_loss_validation = []\n",
    "step_loss_train = []\n",
    "step_loss_validation = []\n",
    "i = 0\n",
    "\n",
    "for epoch in range(nb_epoch):\n",
    "    learning_rate /= 10\n",
    "    optimizer = torch.optim.Adam(model.parameters(), lr=learning_rate)\n",
    "   \n",
    "    for batch, (x, y, z) in enumerate(train_loader):\n",
    "        i+=1\n",
    "        model.train()\n",
    "        # send to GPU\n",
    "        x, y, z = x.to(device), y.to(device), z.to(device)\n",
    "        # Run the forward pass\n",
    "        out = model(x, y)\n",
    "        loss = criterion(out, z)\n",
    "        \n",
    "        # Backprop and perform optimisation\n",
    "        optimizer.zero_grad()\n",
    "        loss.backward()\n",
    "        optimizer.step()\n",
    "\n",
    "#         if i%128 == 0:\n",
    "#             model.eval()\n",
    "#             with torch.no_grad():      \n",
    "#                 j = 0\n",
    "#                 # evaluation\n",
    "#                 list_loss_train = []\n",
    "#                 list_score_train = []\n",
    "#                 for batch, (x, y, z) in enumerate(train_loader):\n",
    "#                     j+= 1\n",
    "#                     # send to GPU\n",
    "#                     x, y, z = x.to(device), y.to(device), z.to(device)\n",
    "#                     # Run the forward pass\n",
    "#                     out =  model(x, y)\n",
    "#                     loss = criterion(out, z)\n",
    "#                     list_loss_train.append(loss.item())\n",
    "\n",
    "#                 train_loss = np.mean(list_loss_train)\n",
    "\n",
    "#                 k = 0\n",
    "#                 # validation\n",
    "#                 list_loss_validation = []\n",
    "#                 list_score_validation = []\n",
    "#                 for batch, (x, y, z) in enumerate(validation_loader):\n",
    "#                     k+= 1\n",
    "#                     # send to GPU\n",
    "#                     x, y, z = x.to(device), y.to(device), z.to(device)\n",
    "#                     # Run the forward pass\n",
    "#                     out =  model(x, y)\n",
    "#                     loss = criterion(out, z)\n",
    "#                     score = get_score(out,z)\n",
    "#                     list_loss_validation.append(loss.item())\n",
    "\n",
    "#                 validation_loss = np.mean(list_loss_validation)\n",
    "\n",
    "#                 step_loss_train.append(train_loss)\n",
    "#                 step_loss_validation.append(validation_loss)\n",
    "          \n",
    "\n",
    "    ### Evaluation + Validation every epoch\n",
    "    model.eval()\n",
    "    with torch.no_grad():      \n",
    "        j = 0\n",
    "        # evaluation\n",
    "        list_loss_train = []\n",
    "        list_score_train = []\n",
    "        for batch, (x, y, z) in enumerate(train_loader):\n",
    "            j+= 1\n",
    "            # send to GPU\n",
    "            x, y, z = x.to(device), y.to(device), z.to(device)\n",
    "\n",
    "            # Run the forward pass\n",
    "            out =  model(x, y)\n",
    "            loss = criterion(out, z)\n",
    "            score = get_score(out,z)\n",
    "            list_loss_train.append(loss.item())\n",
    "            list_score_train.append(score)\n",
    "        \n",
    "        train_loss = np.mean(list_loss_train)\n",
    "        train_trueP = np.mean([tp for (tp, tn) in list_score_train])\n",
    "        train_trueN = np.mean([tn for (tp, tn) in list_score_train])\n",
    "            \n",
    "        k = 0\n",
    "        # validation\n",
    "        list_loss_validation = []\n",
    "        list_score_validation = []\n",
    "        for batch, (x, y, z) in enumerate(validation_loader):\n",
    "            k+= 1\n",
    "            # send to GPU\n",
    "            x, y, z = x.to(device), y.to(device), z.to(device)\n",
    "\n",
    "            # Run the forward pass\n",
    "            out =  model(x, y)\n",
    "            loss = criterion(out, z)\n",
    "            score = get_score(out,z)\n",
    "            list_loss_validation.append(loss.item())\n",
    "            list_score_validation.append(score)\n",
    "\n",
    "        validation_loss = np.mean(list_loss_validation)\n",
    "        validation_trueP = np.mean([tp for (tp, tn) in list_score_validation])\n",
    "        validation_trueN = np.mean([tn for (tp, tn) in list_score_validation])\n",
    "\n",
    "    print('Epoch [{}/{}] -------------------------------------------------------------------------------------'\n",
    "          .format(epoch+1, nb_epoch))\n",
    "    print('Train Loss: {}, Train True Positive : {} %, Train True Negative : {} %'\n",
    "            .format(round(train_loss, 2), round(train_trueP, 2), round(train_trueN, 2)))\n",
    "    print('Validation Loss: {}, Validation True Positive : {} %, Validation True Negative : {} %'\n",
    "            .format(round(validation_loss, 2), round(validation_trueP, 2), round(validation_trueN, 2)))\n",
    "    \n",
    "\n",
    "    epoch_loss_train.append(train_loss)\n",
    "    epoch_loss_validation.append(validation_loss)\n",
    "    #### STOP WHEN VALIDATION DECREASE\n",
    "    if epoch>1:\n",
    "        if epoch_loss_validation[-2] < epoch_loss_validation[-1]:\n",
    "            break"
   ]
  },
  {
   "cell_type": "code",
   "execution_count": 23,
   "metadata": {
    "colab": {
     "base_uri": "https://localhost:8080/",
     "height": 299
    },
    "id": "0o4XT8wLNB0W",
    "outputId": "63621507-952c-4f05-951e-c5a4917798f2"
   },
   "outputs": [
    {
     "data": {
      "text/plain": [
       "<matplotlib.legend.Legend at 0x7f0096e90550>"
      ]
     },
     "execution_count": 23,
     "metadata": {
      "tags": []
     },
     "output_type": "execute_result"
    },
    {
     "data": {
      "image/png": "[encoded data removed]",
      "text/plain": [
       "<Figure size 432x288 with 1 Axes>"
      ]
     },
     "metadata": {
      "needs_background": "light",
      "tags": []
     },
     "output_type": "display_data"
    }
   ],
   "source": [
    "# plt.title('Loss vs time')\n",
    "# plt.plot(step_loss_train, label = 'train')\n",
    "# plt.plot(step_loss_validation, label = 'validation')\n",
    "# plt.legend()"
   ]
  },
  {
   "cell_type": "markdown",
   "metadata": {
    "id": "QRGL9KjscIS7"
   },
   "source": [
    "# Testing"
   ]
  },
  {
   "cell_type": "code",
   "execution_count": 13,
   "metadata": {
    "colab": {
     "base_uri": "https://localhost:8080/"
    },
    "id": "wR_bBBXMBRTB",
    "outputId": "099061d7-d6dc-4a2b-eafb-cd3110081944"
   },
   "outputs": [
    {
     "name": "stdout",
     "output_type": "stream",
     "text": [
      "P1108_6_SV_T2\n",
      "P1111_41_SV_T3\n",
      "P1111_41_SV_T6\n",
      "P1112_10_SV_T2\n",
      "P1112_18_SV_T1\n",
      "P1112_20_SV_T4\n",
      "P1112_27_SV_T3\n",
      "P1112_29_SV_T1\n",
      "P1112_31_SV_T3\n",
      "P1113_14_SV_T1\n",
      "P1113_19_SV_T2\n",
      "P1113_33_SV_T1\n",
      "P1113_41_SV_T2\n"
     ]
    }
   ],
   "source": [
    "dive_estim = []\n",
    "\n",
    "for i in data_test_new.trip.unique():\n",
    "    # create dataset for a trajectory\n",
    "    t = data_test_new[data_test_new.trip == i].copy()    \n",
    "    test_set = TrajDataSet(t, window, variable, transform = ToTensor())\n",
    "    \n",
    "    # Test the model\n",
    "    estim = np.zeros(len(t))\n",
    "    nb = np.zeros(len(t))\n",
    "    \n",
    "    list_out = []\n",
    "    model.eval()\n",
    "    k = 0\n",
    "    with torch.no_grad():\n",
    "        for (x, y, z) in test_set:\n",
    "            # send to GPU\n",
    "            x, y = x.to(device), y.to(device)\n",
    "\n",
    "            # Run the forward pass\n",
    "            out = model(x, y.unsqueeze(1))\n",
    "            \n",
    "            estim[k:k + round(window)] += out.cpu().squeeze().numpy()\n",
    "            nb[k:k + round(window)] += 1\n",
    "            k+=1\n",
    "    # # add to list by trajectory\n",
    "    dive_estim.append(estim/nb)\n",
    "    print(i)\n",
    "\n",
    "data_test_new['prediction'] = 1/(1+np.exp(-np.hstack(dive_estim)))"
   ]
  },
  {
   "cell_type": "code",
   "execution_count": 14,
   "metadata": {
    "colab": {
     "base_uri": "https://localhost:8080/",
     "height": 338
    },
    "id": "4cDoy1wLdLP-",
    "outputId": "da49a528-445c-47db-ae92-147eb85b6ed9"
   },
   "outputs": [
    {
     "data": {
      "text/plain": [
       "<matplotlib.collections.PathCollection at 0x7f0e09e3e450>"
      ]
     },
     "execution_count": 14,
     "metadata": {},
     "output_type": "execute_result"
    },
    {
     "data": {
      "image/png": "[encoded data removed]",
      "text/plain": [
       "<Figure size 864x360 with 2 Axes>"
      ]
     },
     "metadata": {
      "needs_background": "light"
     },
     "output_type": "display_data"
    }
   ],
   "source": [
    "t = data_test_new[data_test_new.trip == 'P1108_6_SV_T2'].copy() \n",
    "\n",
    "plt.figure(figsize= (12, 5))\n",
    "plt.subplot(1, 2, 1)\n",
    "plt.plot(np.array(t.lon), np.array(t.lat))\n",
    "plt.scatter(t.lon[t.dive == 1], t.lat[t.dive == 1], c = 'orange')\n",
    "\n",
    "plt.subplot(1, 2, 2)\n",
    "plt.plot(np.array(t.lon), np.array(t.lat))\n",
    "plt.scatter(t.lon[t.prediction > 0.5], t.lat[t.prediction > 0.5], c = 'red')"
   ]
  },
  {
   "cell_type": "markdown",
   "metadata": {
    "id": "Hn80rD1jd4r0"
   },
   "source": [
    "# ROC curve\n",
    "\n",
    "Change the decision threshold"
   ]
  },
  {
   "cell_type": "code",
   "execution_count": 15,
   "metadata": {
    "colab": {
     "base_uri": "https://localhost:8080/",
     "height": 297
    },
    "id": "GFEgkSTscMSL",
    "outputId": "35671d64-8a82-497d-82aa-a1caa73368de"
   },
   "outputs": [
    {
     "data": {
      "text/plain": [
       "[<matplotlib.lines.Line2D at 0x7f0e09d602d0>]"
      ]
     },
     "execution_count": 15,
     "metadata": {},
     "output_type": "execute_result"
    },
    {
     "data": {
      "image/png": "[encoded data removed]",
      "text/plain": [
       "<Figure size 432x288 with 1 Axes>"
      ]
     },
     "metadata": {
      "needs_background": "light"
     },
     "output_type": "display_data"
    }
   ],
   "source": [
    "fig, ax = plt.subplots()\n",
    "ax.set_aspect('equal')\n",
    "ax.set_xlabel('False Positive Rate')\n",
    "ax.set_ylabel('True Positive Rate')\n",
    "\n",
    "# globally\n",
    "TP = []\n",
    "FP = []\n",
    "\n",
    "for tt in np.arange(0,1,0.001):\n",
    "    all_estim = 1* (data_test_new.prediction > tt)\n",
    "    true_positive = np.mean(all_estim[data_test_new.dive == 1])\n",
    "    true_negative = 1-np.mean(all_estim[data_test_new.dive == 0])\n",
    "    TP.append(true_positive)\n",
    "    FP.append(1-true_negative)\n",
    "\n",
    "plt.plot(np.array(FP), np.array(TP))"
   ]
  },
  {
   "cell_type": "markdown",
   "metadata": {},
   "source": [
    "# Test Guanape"
   ]
  },
  {
   "cell_type": "code",
   "execution_count": 16,
   "metadata": {},
   "outputs": [
    {
     "data": {
      "text/html": [
       "<div>\n",
       "<style scoped>\n",
       "    .dataframe tbody tr th:only-of-type {\n",
       "        vertical-align: middle;\n",
       "    }\n",
       "\n",
       "    .dataframe tbody tr th {\n",
       "        vertical-align: top;\n",
       "    }\n",
       "\n",
       "    .dataframe thead th {\n",
       "        text-align: right;\n",
       "    }\n",
       "</style>\n",
       "<table border=\"1\" class=\"dataframe\">\n",
       "  <thead>\n",
       "    <tr style=\"text-align: right;\">\n",
       "      <th></th>\n",
       "      <th>trip</th>\n",
       "      <th>datetime</th>\n",
       "      <th>lon</th>\n",
       "      <th>lat</th>\n",
       "      <th>gaps</th>\n",
       "      <th>dive</th>\n",
       "      <th>step_speed</th>\n",
       "      <th>step_direction</th>\n",
       "      <th>lon_std</th>\n",
       "      <th>lat_std</th>\n",
       "      <th>step_speed_std</th>\n",
       "      <th>step_direction_cos</th>\n",
       "      <th>step_direction_sin</th>\n",
       "    </tr>\n",
       "  </thead>\n",
       "  <tbody>\n",
       "    <tr>\n",
       "      <th>2</th>\n",
       "      <td>P1108_46_SV_T4</td>\n",
       "      <td>2008-12-06 16:06:25</td>\n",
       "      <td>-77.265897</td>\n",
       "      <td>-11.774297</td>\n",
       "      <td>0.0</td>\n",
       "      <td>0</td>\n",
       "      <td>15.301035</td>\n",
       "      <td>26.025648</td>\n",
       "      <td>2.309584</td>\n",
       "      <td>0.788287</td>\n",
       "      <td>0.826924</td>\n",
       "      <td>0.898598</td>\n",
       "      <td>0.438773</td>\n",
       "    </tr>\n",
       "    <tr>\n",
       "      <th>3</th>\n",
       "      <td>P1108_46_SV_T4</td>\n",
       "      <td>2008-12-06 16:06:30</td>\n",
       "      <td>-77.266435</td>\n",
       "      <td>-11.774462</td>\n",
       "      <td>0.0</td>\n",
       "      <td>0</td>\n",
       "      <td>12.287117</td>\n",
       "      <td>-18.228550</td>\n",
       "      <td>2.293957</td>\n",
       "      <td>0.776022</td>\n",
       "      <td>0.663327</td>\n",
       "      <td>0.949816</td>\n",
       "      <td>-0.312808</td>\n",
       "    </tr>\n",
       "    <tr>\n",
       "      <th>4</th>\n",
       "      <td>P1108_46_SV_T4</td>\n",
       "      <td>2008-12-06 16:06:35</td>\n",
       "      <td>-77.266843</td>\n",
       "      <td>-11.774868</td>\n",
       "      <td>0.0</td>\n",
       "      <td>0</td>\n",
       "      <td>12.679214</td>\n",
       "      <td>-28.073536</td>\n",
       "      <td>2.282105</td>\n",
       "      <td>0.745841</td>\n",
       "      <td>0.684610</td>\n",
       "      <td>0.882344</td>\n",
       "      <td>-0.470604</td>\n",
       "    </tr>\n",
       "    <tr>\n",
       "      <th>5</th>\n",
       "      <td>P1108_46_SV_T4</td>\n",
       "      <td>2008-12-06 16:06:40</td>\n",
       "      <td>-77.267200</td>\n",
       "      <td>-11.775312</td>\n",
       "      <td>0.0</td>\n",
       "      <td>0</td>\n",
       "      <td>12.579325</td>\n",
       "      <td>-6.324066</td>\n",
       "      <td>2.271735</td>\n",
       "      <td>0.712835</td>\n",
       "      <td>0.679188</td>\n",
       "      <td>0.993915</td>\n",
       "      <td>-0.110152</td>\n",
       "    </tr>\n",
       "    <tr>\n",
       "      <th>6</th>\n",
       "      <td>P1108_46_SV_T4</td>\n",
       "      <td>2008-12-06 16:06:45</td>\n",
       "      <td>-77.267390</td>\n",
       "      <td>-11.775845</td>\n",
       "      <td>0.0</td>\n",
       "      <td>0</td>\n",
       "      <td>12.567659</td>\n",
       "      <td>-18.969971</td>\n",
       "      <td>2.266216</td>\n",
       "      <td>0.673214</td>\n",
       "      <td>0.678555</td>\n",
       "      <td>0.945689</td>\n",
       "      <td>-0.325073</td>\n",
       "    </tr>\n",
       "  </tbody>\n",
       "</table>\n",
       "</div>"
      ],
      "text/plain": [
       "             trip             datetime        lon        lat  gaps  dive  \\\n",
       "2  P1108_46_SV_T4  2008-12-06 16:06:25 -77.265897 -11.774297   0.0     0   \n",
       "3  P1108_46_SV_T4  2008-12-06 16:06:30 -77.266435 -11.774462   0.0     0   \n",
       "4  P1108_46_SV_T4  2008-12-06 16:06:35 -77.266843 -11.774868   0.0     0   \n",
       "5  P1108_46_SV_T4  2008-12-06 16:06:40 -77.267200 -11.775312   0.0     0   \n",
       "6  P1108_46_SV_T4  2008-12-06 16:06:45 -77.267390 -11.775845   0.0     0   \n",
       "\n",
       "   step_speed  step_direction   lon_std   lat_std  step_speed_std  \\\n",
       "2   15.301035       26.025648  2.309584  0.788287        0.826924   \n",
       "3   12.287117      -18.228550  2.293957  0.776022        0.663327   \n",
       "4   12.679214      -28.073536  2.282105  0.745841        0.684610   \n",
       "5   12.579325       -6.324066  2.271735  0.712835        0.679188   \n",
       "6   12.567659      -18.969971  2.266216  0.673214        0.678555   \n",
       "\n",
       "   step_direction_cos  step_direction_sin  \n",
       "2            0.898598            0.438773  \n",
       "3            0.949816           -0.312808  \n",
       "4            0.882344           -0.470604  \n",
       "5            0.993915           -0.110152  \n",
       "6            0.945689           -0.325073  "
      ]
     },
     "execution_count": 16,
     "metadata": {},
     "output_type": "execute_result"
    }
   ],
   "source": [
    "data_test = pd.read_csv('./data/SV_test_guanape.csv')\n",
    "\n",
    "data_test_new = change_resolution(data_test, resolution)\n",
    "data_test_new = standardize_data(data_test_new)\n",
    "\n",
    "data_train_new.head()"
   ]
  },
  {
   "cell_type": "code",
   "execution_count": 17,
   "metadata": {
    "scrolled": true
   },
   "outputs": [
    {
     "name": "stdout",
     "output_type": "stream",
     "text": [
      "G1107_12_SV_T1\n",
      "G1107_15_SV_T1\n",
      "G1107_17_SV_T1\n",
      "G1107_18_SV_T1\n",
      "G1107_18_SV_T2\n",
      "G1107_20_SV_T1\n",
      "G1107_21_SV_T1\n",
      "G1107_22_SV_T1\n",
      "G1107_24_SV_T1\n",
      "G1107_25_SV_T1\n",
      "G1107_26_SV_T1\n",
      "G1107_27_SV_T1\n",
      "G1107_27_SV_T2\n",
      "G1107_34_SV_T1\n",
      "G1107_34_SV_T2\n",
      "G1107_34_SV_T3\n",
      "G1107_36_SV_T1\n",
      "G1107_39_SV_T1\n",
      "G1107_42_SV_T2\n",
      "G1107_46_SV_T1\n",
      "G1107_49_SV_T2\n",
      "G1107_53_SV_T1\n",
      "G1107_7_SV_T1\n",
      "G1107_7_SV_T2\n",
      "G1107_9_SV_T1\n"
     ]
    }
   ],
   "source": [
    "dive_estim = []\n",
    "\n",
    "for i in data_test_new.trip.unique():\n",
    "    # create dataset for a trajectory\n",
    "    t = data_test_new[data_test_new.trip == i].copy()    \n",
    "    test_set = TrajDataSet(t, window, variable, transform = ToTensor())\n",
    "    \n",
    "    # Test the model\n",
    "    estim = np.zeros(len(t))\n",
    "    nb = np.zeros(len(t))\n",
    "    \n",
    "    list_out = []\n",
    "    model.eval()\n",
    "    k = 0\n",
    "    with torch.no_grad():\n",
    "        for (x, y, z) in test_set:\n",
    "            # send to GPU\n",
    "            x, y = x.to(device), y.to(device)\n",
    "\n",
    "            # Run the forward pass\n",
    "            out = model(x, y.unsqueeze(1))\n",
    "            \n",
    "            estim[k:k + round(window)] += out.cpu().squeeze().numpy()\n",
    "            nb[k:k + round(window)] += 1\n",
    "            k+=1\n",
    "    # # add to list by trajectory\n",
    "    dive_estim.append(estim/nb)\n",
    "    print(i)\n",
    "\n",
    "data_test_new['prediction'] = 1/(1+np.exp(-np.hstack(dive_estim)))"
   ]
  },
  {
   "cell_type": "code",
   "execution_count": 18,
   "metadata": {},
   "outputs": [
    {
     "data": {
      "text/plain": [
       "[<matplotlib.lines.Line2D at 0x7f0e42cd08d0>]"
      ]
     },
     "execution_count": 18,
     "metadata": {},
     "output_type": "execute_result"
    },
    {
     "data": {
      "image/png": "[encoded data removed]",
      "text/plain": [
       "<Figure size 432x288 with 1 Axes>"
      ]
     },
     "metadata": {
      "needs_background": "light"
     },
     "output_type": "display_data"
    }
   ],
   "source": [
    "fig, ax = plt.subplots()\n",
    "ax.set_aspect('equal')\n",
    "ax.set_xlabel('False Positive Rate')\n",
    "ax.set_ylabel('True Positive Rate')\n",
    "\n",
    "# globally\n",
    "TP = []\n",
    "FP = []\n",
    "\n",
    "for tt in np.arange(0,1,0.001):\n",
    "    all_estim = 1* (data_test_new.prediction > tt)\n",
    "    true_positive = np.mean(all_estim[data_test_new.dive == 1])\n",
    "    true_negative = 1-np.mean(all_estim[data_test_new.dive == 0])\n",
    "    TP.append(true_positive)\n",
    "    FP.append(1-true_negative)\n",
    "\n",
    "plt.plot(np.array(FP), np.array(TP))"
   ]
  },
  {
   "cell_type": "code",
   "execution_count": 83,
   "metadata": {
    "scrolled": true
   },
   "outputs": [
    {
     "data": {
      "text/plain": [
       "<matplotlib.collections.PathCollection at 0x7f0dfa0a5290>"
      ]
     },
     "execution_count": 83,
     "metadata": {},
     "output_type": "execute_result"
    },
    {
     "data": {
      "image/png": "[encoded data removed]",
      "text/plain": [
       "<Figure size 432x288 with 2 Axes>"
      ]
     },
     "metadata": {
      "needs_background": "light"
     },
     "output_type": "display_data"
    }
   ],
   "source": [
    "plt.subplot(1,2,1)\n",
    "for i in data_test_new.trip.unique():\n",
    "    t = data_test_new[data_test_new.trip == i].copy()\n",
    "    plt.plot(np.array(t.lon), np.array(t.lat), color = 'grey')\n",
    "    plt.scatter(data_test_new.lon[data_test_new.dive == 1], data_test_new.lat[data_test_new.dive == 1], color = 'orange')\n",
    "\n",
    "plt.subplot(1,2,2)\n",
    "for i in data_test_new.trip.unique():\n",
    "    t = data_test_new[data_test_new.trip == i].copy()\n",
    "    plt.plot(np.array(t.lon), np.array(t.lat), color = 'grey')\n",
    "plt.scatter(data_test_new.lon[data_test_new.prediction > 0.9], data_test_new.lat[data_test_new.prediction > 0.9], color = 'red')"
   ]
  },
  {
   "cell_type": "markdown",
   "metadata": {},
   "source": [
    "# Explore scales"
   ]
  },
  {
   "cell_type": "code",
   "execution_count": 28,
   "metadata": {},
   "outputs": [
    {
     "data": {
      "text/plain": [
       "torch.Size([64, 1, 3, 20])"
      ]
     },
     "execution_count": 28,
     "metadata": {},
     "output_type": "execute_result"
    }
   ],
   "source": [
    "x.size()"
   ]
  },
  {
   "cell_type": "code",
   "execution_count": 60,
   "metadata": {},
   "outputs": [
    {
     "data": {
      "text/plain": [
       "<matplotlib.image.AxesImage at 0x7f0dfaf445d0>"
      ]
     },
     "execution_count": 60,
     "metadata": {},
     "output_type": "execute_result"
    },
    {
     "data": {
      "image/png": "[encoded data removed]",
      "text/plain": [
       "<Figure size 432x288 with 2 Axes>"
      ]
     },
     "metadata": {
      "needs_background": "light"
     },
     "output_type": "display_data"
    }
   ],
   "source": [
    "x, y, z = next(iter(train_loader)) \n",
    "\n",
    "plt.subplot(1, 2,1)\n",
    "plt.imshow(y.numpy()[0,0,:,:])\n",
    "\n",
    "plt.subplot(1, 2, 2)\n",
    "plt.imshow(model.threshold(y).detach().numpy()[0,0,:,:])"
   ]
  },
  {
   "cell_type": "code",
   "execution_count": 62,
   "metadata": {},
   "outputs": [
    {
     "data": {
      "text/plain": [
       "array([[0.2841653 , 0.40402257, 0.52546287, 0.6506016 , 0.78880286,\n",
       "        0.8995279 , 1.0238256 , 1.1628053 , 1.2868221 , 1.4227593 ,\n",
       "        1.534677  , 1.7035207 , 1.8095084 , 1.9453714 , 2.086143  ,\n",
       "        2.2301896 , 2.3709214 , 2.5099945 , 2.625111  , 2.7480836 ],\n",
       "       [0.40402257, 0.2841653 , 0.40832022, 0.5336987 , 0.67137086,\n",
       "        0.78180426, 0.9060949 , 1.0443583 , 1.1680448 , 1.3038199 ,\n",
       "        1.415744  , 1.5848104 , 1.6909122 , 1.8269962 , 1.9679247 ,\n",
       "        2.112016  , 2.2525406 , 2.3914638 , 2.5064054 , 2.6293395 ],\n",
       "       [0.52546287, 0.40832022, 0.2841653 , 0.40964216, 0.54764056,\n",
       "        0.6582928 , 0.78260577, 0.9215219 , 1.0456309 , 1.1816472 ,\n",
       "        1.2935503 , 1.4622782 , 1.5682335 , 1.7040739 , 1.8448546 ,\n",
       "        1.9889076 , 2.129624  , 2.268704  , 2.383852  , 2.5068338 ],\n",
       "       [0.6506016 , 0.5336987 , 0.40964216, 0.2841653 , 0.4223972 ,\n",
       "        0.5331709 , 0.65742666, 0.7968764 , 0.9213177 , 1.0574905 ,\n",
       "        1.1693265 , 1.337712  , 1.4435291 , 1.5791647 , 1.719828  ,\n",
       "        1.8638468 , 2.00469   , 2.1438763 , 2.259171  , 2.3821826 ],\n",
       "       [0.78880286, 0.67137086, 0.54764056, 0.4223972 , 0.2841653 ,\n",
       "        0.39494893, 0.51919717, 0.6588293 , 0.7834563 , 0.91969705,\n",
       "        1.0314605 , 1.1996291 , 1.3053807 , 1.4409512 , 1.5815973 ,\n",
       "        1.725615  , 1.8664693 , 2.005677  , 2.121015  , 2.2440355 ],\n",
       "       [0.8995279 , 0.78180426, 0.6582928 , 0.5331709 , 0.39494893,\n",
       "        0.2841653 , 0.40848055, 0.5481879 , 0.6729712 , 0.8092413 ,\n",
       "        0.92092055, 1.0889091 , 1.1946195 , 1.3301677 , 1.4708247 ,\n",
       "        1.6148499 , 1.7556868 , 1.8948946 , 2.010247  , 2.1332717 ],\n",
       "       [1.0238256 , 0.9060949 , 0.78260577, 0.65742666, 0.51919717,\n",
       "        0.40848055, 0.2841653 , 0.42524078, 0.55021894, 0.6863519 ,\n",
       "        0.7977101 , 0.96511275, 1.0706488 , 1.2060086 , 1.3465858 ,\n",
       "        1.4905915 , 1.6314954 , 1.7707667 , 1.8862174 , 2.0092578 ],\n",
       "       [1.1628053 , 1.0443583 , 0.9215219 , 0.7968764 , 0.6588293 ,\n",
       "        0.5481879 , 0.42524078, 0.2841653 , 0.4091629 , 0.54537535,\n",
       "        0.65692776, 0.8250015 , 0.93088007, 1.0668056 , 1.2077581 ,\n",
       "        1.3518649 , 1.4923546 , 1.6313579 , 1.7465119 , 1.8695076 ],\n",
       "       [1.2868221 , 1.1680448 , 1.0456309 , 0.9213177 , 0.7834563 ,\n",
       "        0.6729712 , 0.55021894, 0.4091629 , 0.2841653 , 0.420437  ,\n",
       "        0.5321789 , 0.7009341 , 0.8071105 , 0.9435414 , 1.0847838 ,\n",
       "        1.2289088 , 1.3689411 , 1.5076591 , 1.6225262 , 1.7454678 ],\n",
       "       [1.4227593 , 1.3038199 , 1.1816472 , 1.0574905 , 0.91969705,\n",
       "        0.8092413 , 0.6863519 , 0.54537535, 0.420437  , 0.2841653 ,\n",
       "        0.39608958, 0.56560314, 0.6720223 , 0.8089275 , 0.9503788 ,\n",
       "        1.0944208 , 1.2338969 , 1.372294  , 1.4868753 , 1.6097567 ],\n",
       "       [1.534677  , 1.415744  , 1.2935503 , 1.1693265 , 1.0314605 ,\n",
       "        0.92092055, 0.7977101 , 0.65692776, 0.5321789 , 0.39608958,\n",
       "        0.2841653 , 0.45408466, 0.56055444, 0.6976871 , 0.83919144,\n",
       "        0.9831189 , 1.1222535 , 1.260498  , 1.3749856 , 1.4978527 ],\n",
       "       [1.7035207 , 1.5848104 , 1.4622782 , 1.337712  , 1.1996291 ,\n",
       "        1.0889091 , 0.96511275, 0.8250015 , 0.7009341 , 0.56560314,\n",
       "        0.45408466, 0.2841653 , 0.3906366 , 0.5278    , 0.669304  ,\n",
       "        0.8132012 , 0.95245904, 1.0909381 , 1.2057683 , 1.3287287 ],\n",
       "       [1.8095084 , 1.6909122 , 1.5682335 , 1.4435291 , 1.3053807 ,\n",
       "        1.1946195 , 1.0706488 , 0.93088007, 0.8071105 , 0.6720223 ,\n",
       "        0.56055444, 0.3906366 , 0.2841653 , 0.42142677, 0.56289935,\n",
       "        0.70673954, 0.84607047, 0.98472387, 1.0998076 , 1.2228208 ],\n",
       "       [1.9453714 , 1.8269962 , 1.7040739 , 1.5791647 , 1.4409512 ,\n",
       "        1.3301677 , 1.2060086 , 1.0668056 , 0.9435414 , 0.8089275 ,\n",
       "        0.6976871 , 0.5278    , 0.42142677, 0.2841653 , 0.4256708 ,\n",
       "        0.5696586 , 0.7097187 , 0.84894073, 0.9646865 , 1.0877606 ],\n",
       "       [2.086143  , 1.9679247 , 1.8448546 , 1.719828  , 1.5815973 ,\n",
       "        1.4708247 , 1.3465858 , 1.2077581 , 1.0847838 , 0.9503788 ,\n",
       "        0.83919144, 0.669304  , 0.56289935, 0.4256708 , 0.2841653 ,\n",
       "        0.4282937 , 0.5693064 , 0.709099  , 0.8255443 , 0.94853413],\n",
       "       [2.2301896 , 2.112016  , 1.9889076 , 1.8638468 , 1.725615  ,\n",
       "        1.6148499 , 1.4905915 , 1.3518649 , 1.2289088 , 1.0944208 ,\n",
       "        0.9831189 , 0.8132012 , 0.70673954, 0.5696586 , 0.4282937 ,\n",
       "        0.2841653 , 0.4263355 , 0.5663924 , 0.6834071 , 0.80607986],\n",
       "       [2.3709214 , 2.2525406 , 2.129624  , 2.00469   , 1.8664693 ,\n",
       "        1.7556868 , 1.6314954 , 1.4923546 , 1.3689411 , 1.2338969 ,\n",
       "        1.1222535 , 0.95245904, 0.84607047, 0.7097187 , 0.5693064 ,\n",
       "        0.4263355 , 0.2841653 , 0.4242296 , 0.54125893, 0.66391534],\n",
       "       [2.5099945 , 2.3914638 , 2.268704  , 2.1438763 , 2.005677  ,\n",
       "        1.8948946 , 1.7707667 , 1.6313579 , 1.5076591 , 1.372294  ,\n",
       "        1.260498  , 1.0909381 , 0.98472387, 0.84894073, 0.709099  ,\n",
       "        0.5663924 , 0.4242296 , 0.2841653 , 0.401399  , 0.5238529 ],\n",
       "       [2.625111  , 2.5064054 , 2.383852  , 2.259171  , 2.121015  ,\n",
       "        2.010247  , 1.8862174 , 1.7465119 , 1.6225262 , 1.4868753 ,\n",
       "        1.3749856 , 1.2057683 , 1.0998076 , 0.9646865 , 0.8255443 ,\n",
       "        0.6834071 , 0.54125893, 0.401399  , 0.2841653 , 0.40723953],\n",
       "       [2.7480836 , 2.6293395 , 2.5068338 , 2.3821826 , 2.2440355 ,\n",
       "        2.1332717 , 2.0092578 , 1.8695076 , 1.7454678 , 1.6097567 ,\n",
       "        1.4978527 , 1.3287287 , 1.2228208 , 1.0877606 , 0.94853413,\n",
       "        0.80607986, 0.66391534, 0.5238529 , 0.40723953, 0.2841653 ]],\n",
       "      dtype=float32)"
      ]
     },
     "execution_count": 62,
     "metadata": {},
     "output_type": "execute_result"
    }
   ],
   "source": [
    "model.threshold(y).detach().numpy()[0,0,:,:]"
   ]
  },
  {
   "cell_type": "code",
   "execution_count": 63,
   "metadata": {},
   "outputs": [
    {
     "data": {
      "text/plain": [
       "Sequential(\n",
       "  (0): BatchNorm2d(1, eps=1e-05, momentum=0.1, affine=True, track_running_stats=True)\n",
       "  (1): Conv2d(1, 8, kernel_size=(1, 1), stride=(1, 1))\n",
       "  (2): ReLU()\n",
       ")"
      ]
     },
     "execution_count": 63,
     "metadata": {},
     "output_type": "execute_result"
    }
   ],
   "source": [
    "model.threshold"
   ]
  },
  {
   "cell_type": "code",
   "execution_count": 64,
   "metadata": {},
   "outputs": [
    {
     "data": {
      "text/plain": [
       "Parameter containing:\n",
       "tensor([1.0482], requires_grad=True)"
      ]
     },
     "execution_count": 64,
     "metadata": {},
     "output_type": "execute_result"
    }
   ],
   "source": [
    "model.threshold[0].weight"
   ]
  },
  {
   "cell_type": "code",
   "execution_count": 22,
   "metadata": {},
   "outputs": [
    {
     "data": {
      "text/plain": [
       "Parameter containing:\n",
       "tensor([[[[ 0.4004]]],\n",
       "\n",
       "\n",
       "        [[[-0.3977]]],\n",
       "\n",
       "\n",
       "        [[[-0.6285]]],\n",
       "\n",
       "\n",
       "        [[[-0.4327]]],\n",
       "\n",
       "\n",
       "        [[[ 0.6511]]],\n",
       "\n",
       "\n",
       "        [[[-0.3939]]],\n",
       "\n",
       "\n",
       "        [[[ 0.4278]]],\n",
       "\n",
       "\n",
       "        [[[ 0.0796]]]], requires_grad=True)"
      ]
     },
     "execution_count": 22,
     "metadata": {},
     "output_type": "execute_result"
    }
   ],
   "source": [
    "model.threshold[1].weight"
   ]
  },
  {
   "cell_type": "markdown",
   "metadata": {
    "id": "jeajV3RXeAXR"
   },
   "source": [
    "# Export Probabilities"
   ]
  },
  {
   "cell_type": "code",
   "execution_count": 27,
   "metadata": {
    "id": "mLLg9MpDd7ko"
   },
   "outputs": [],
   "source": [
    "data_test_new.to_csv('SV_unet_matrixlonlatcov_20_20_5s.csv', index = False)"
   ]
  },
  {
   "cell_type": "code",
   "execution_count": 28,
   "metadata": {
    "id": "t-VxwxtC1Zml"
   },
   "outputs": [],
   "source": [
    "loss = {'step_loss_train':  step_loss_train,\n",
    "        'step_loss_validation': step_loss_validation\n",
    "        }\n",
    "\n",
    "df = pd.DataFrame (loss, columns = ['step_loss_train','step_loss_validation'])\n",
    "df.to_csv('SV_unet_matrixlonlatcov_20_20_5s_LOSS.csv', index = False)"
   ]
  },
  {
   "cell_type": "code",
   "execution_count": null,
   "metadata": {
    "id": "CuAxgEuy_Fsg"
   },
   "outputs": [],
   "source": []
  }
 ],
 "metadata": {
  "colab": {
   "collapsed_sections": [],
   "include_colab_link": true,
   "name": "SV_unet_matrixlonlatcov_20_20_5s.ipynb",
   "provenance": []
  },
  "kernelspec": {
   "display_name": "Python 3",
   "language": "python",
   "name": "python3"
  },
  "language_info": {
   "codemirror_mode": {
    "name": "ipython",
    "version": 3
   },
   "file_extension": ".py",
   "mimetype": "text/x-python",
   "name": "python",
   "nbconvert_exporter": "python",
   "pygments_lexer": "ipython3",
   "version": "3.7.4"
  }
 },
 "nbformat": 4,
 "nbformat_minor": 1
}
