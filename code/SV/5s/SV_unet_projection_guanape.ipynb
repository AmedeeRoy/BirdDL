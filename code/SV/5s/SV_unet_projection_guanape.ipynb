{
  "nbformat": 4,
  "nbformat_minor": 0,
  "metadata": {
    "colab": {
      "name": "SV_unet_projection_guanape.ipynb",
      "provenance": [],
      "collapsed_sections": [],
      "authorship_tag": "ABX9TyNNd0M5QWYT1Ieaqb1SxC4W",
      "include_colab_link": true
    },
    "kernelspec": {
      "name": "python3",
      "display_name": "Python 3"
    }
  },
  "cells": [
    {
      "cell_type": "markdown",
      "metadata": {
        "id": "view-in-github",
        "colab_type": "text"
      },
      "source": [
        "<a href=\"https://colab.research.google.com/github/AmedeeRoy/BirdDL/blob/main/code/SV/5s/SV_unet_projection_guanape.ipynb\" target=\"_parent\"><img src=\"https://colab.research.google.com/assets/colab-badge.svg\" alt=\"Open In Colab\"/></a>"
      ]
    },
    {
      "cell_type": "markdown",
      "metadata": {
        "id": "sVau6SVYYqzD"
      },
      "source": [
        "# Test Guanape"
      ]
    },
    {
      "cell_type": "code",
      "metadata": {
        "colab": {
          "base_uri": "https://localhost:8080/"
        },
        "id": "cPOjT66sGf3Y",
        "outputId": "93767126-499f-45d6-ca5f-6572507cb32c"
      },
      "source": [
        "# mount google drive\n",
        "from google.colab import drive\n",
        "drive.mount(\"/content/drive/\")"
      ],
      "execution_count": 1,
      "outputs": [
        {
          "output_type": "stream",
          "text": [
            "Drive already mounted at /content/drive/; to attempt to forcibly remount, call drive.mount(\"/content/drive/\", force_remount=True).\n"
          ],
          "name": "stdout"
        }
      ]
    },
    {
      "cell_type": "code",
      "metadata": {
        "colab": {
          "base_uri": "https://localhost:8080/"
        },
        "id": "u2R6nZsEGp2v",
        "outputId": "48417337-dba4-4a3b-ba18-264beda6e9b8"
      },
      "source": [
        "%cd drive/My\\ Drive/"
      ],
      "execution_count": 2,
      "outputs": [
        {
          "output_type": "stream",
          "text": [
            "/content/drive/My Drive\n"
          ],
          "name": "stdout"
        }
      ]
    },
    {
      "cell_type": "code",
      "metadata": {
        "id": "UGN6h34CFYo0"
      },
      "source": [
        "import pandas as pd\n",
        "import numpy as np\n",
        "import matplotlib.pyplot as plt\n",
        "import pickle\n",
        "\n",
        "import torch\n",
        "from torch import nn\n",
        "from torch.utils.data import DataLoader, Dataset\n",
        "from torchvision import transforms\n",
        "\n",
        "from utils.trip import *"
      ],
      "execution_count": 3,
      "outputs": []
    },
    {
      "cell_type": "markdown",
      "metadata": {
        "id": "XGjbuWmXFgTp"
      },
      "source": [
        "## Load model"
      ]
    },
    {
      "cell_type": "code",
      "metadata": {
        "id": "Jxj5AbApGG2w"
      },
      "source": [
        "class UNet(nn.Module):\n",
        "    def __init__(self):\n",
        "        super(UNet, self).__init__()\n",
        "\n",
        "        self.threshold = nn.Sequential(\n",
        "#             nn.BatchNorm2d(1),\n",
        "            nn.Conv2d(1, 8, kernel_size = 1, stride = 1, padding = 0, dilation = 1, bias = True),\n",
        "            nn.ReLU()\n",
        "        )\n",
        "\n",
        "        self.cnn_input_1 = nn.Sequential(\n",
        "            nn.BatchNorm1d(8+3),\n",
        "            nn.Conv1d(8+3, 8, kernel_size = 5, stride = 1, padding = 2, dilation = 1),\n",
        "            nn.ReLU(),\n",
        "            nn.Conv1d(8, 8, kernel_size = 5, stride = 1, padding = 2, dilation = 1),\n",
        "            nn.ReLU()\n",
        "        )\n",
        "\n",
        "        self.pooling_1 = nn.Sequential(\n",
        "            nn.MaxPool1d(kernel_size = 5, stride = 2, padding = 2, dilation = 1)\n",
        "        )\n",
        "\n",
        "        self.cnn_input_2 = nn.Sequential(\n",
        "            nn.BatchNorm1d(8),\n",
        "            nn.Conv1d(8, 16, kernel_size = 5, stride = 1, padding = 2, dilation = 1),\n",
        "            nn.ReLU(),\n",
        "            nn.Conv1d(16, 16, kernel_size = 5, stride = 1, padding = 2, dilation = 1),\n",
        "            nn.ReLU()\n",
        "        )\n",
        "\n",
        "        self.pooling_2 = nn.Sequential(\n",
        "            nn.MaxPool1d(kernel_size = 5, stride = 2, padding = 2, dilation = 1)\n",
        "        )\n",
        "\n",
        "        self.cnn_input_3 = nn.Sequential(\n",
        "            nn.BatchNorm1d(16),\n",
        "            nn.Conv1d(16, 32,  kernel_size = 5, stride = 1, padding = 2, dilation = 1),\n",
        "            nn.ReLU(),\n",
        "            nn.Conv1d(32, 32,  kernel_size = 5, stride = 1, padding = 2, dilation = 1),\n",
        "            nn.ReLU()\n",
        "        )\n",
        "\n",
        "        self.upconv_2 = nn.Sequential(\n",
        "             nn.ConvTranspose1d(32, 16, kernel_size = 6, stride = 2, padding = 2, dilation = 1)\n",
        "         )\n",
        "\n",
        "        self.cnn_output_2 = nn.Sequential(\n",
        "            nn.BatchNorm1d(16*2),\n",
        "            nn.Conv1d(16*2, 16,  kernel_size = 5, stride = 1, padding = 2, dilation = 1),\n",
        "            nn.ReLU(),\n",
        "            nn.Conv1d(16, 16,  kernel_size = 5, stride = 1, padding = 2, dilation = 1),\n",
        "            nn.ReLU()\n",
        "        )\n",
        "\n",
        "        self.upconv_1 = nn.Sequential(\n",
        "             nn.ConvTranspose1d(16, 8, kernel_size = 6, stride = 2, padding = 2, dilation = 1)\n",
        "         )\n",
        "        \n",
        "        self.cnn_output_1 = nn.Sequential(\n",
        "            nn.BatchNorm1d(8*2),\n",
        "            nn.Conv1d(8*2, 8,  kernel_size = 5, stride = 1, padding = 2, dilation = 1),\n",
        "            nn.ReLU(),\n",
        "            nn.Conv1d(8, 4, kernel_size = 5, stride = 1, padding = 2, dilation = 1),\n",
        "            nn.ReLU(),\n",
        "            nn.Conv1d(4, 2, kernel_size = 5, stride = 1, padding = 2, dilation = 1),\n",
        "            nn.ReLU(),\n",
        "            nn.Conv1d(2, 1,  kernel_size = 5, stride = 1, padding = 2, dilation = 1)\n",
        "        )\n",
        "\n",
        "    def forward(self, x, y):\n",
        "        out = self.threshold(y)\n",
        "        out = torch.sum(out, 2)\n",
        "\n",
        "        out = torch.cat((out, x.squeeze(1)), 1)\n",
        "\n",
        "        out_1 = self.cnn_input_1(out)\n",
        "        out = self.pooling_1(out_1)\n",
        "        out_2 = self.cnn_input_2(out)\n",
        "        out = self.pooling_2(out_2)\n",
        "        out = self.cnn_input_3(out)\n",
        "\n",
        "        out = self.upconv_2(out)\n",
        "        out = torch.cat((out, out_2), 1)\n",
        "        out = self.cnn_output_2(out)\n",
        "\n",
        "        out = self.upconv_1(out)\n",
        "        out = torch.cat((out, out_1), 1)\n",
        "        out = self.cnn_output_1(out)\n",
        "\n",
        "\n",
        "        return out\n",
        "\n",
        "def get_score(out, y):\n",
        "    out, y = out.cpu(), y.cpu()\n",
        "    out = 1*(out>0)\n",
        "    true_positive = np.mean(out[y == True].numpy()) \n",
        "    true_negative = 1-np.mean(out[y == False].numpy())\n",
        "    \n",
        "    return (round(true_positive*100) , round(true_negative*100))\n",
        "\n"
      ],
      "execution_count": 5,
      "outputs": []
    },
    {
      "cell_type": "code",
      "metadata": {
        "id": "MP9Wwa1HFf5h"
      },
      "source": [
        "model = torch.load('SV_unet_matrixlonlatcov_5s.pt')\n",
        "window = 20\n",
        "variable = ('lon_std', 'lat_std', 'gaps')"
      ],
      "execution_count": 6,
      "outputs": []
    },
    {
      "cell_type": "markdown",
      "metadata": {
        "id": "2yxwg5K0O3lj"
      },
      "source": [
        "# Fine-tuning"
      ]
    },
    {
      "cell_type": "code",
      "metadata": {
        "id": "Eno4VDnsNX_r"
      },
      "source": [
        "# # select only two trips\n",
        "\n",
        "# train_trajs = data_test_new.trip.unique()[0:5]\n",
        "# data_train_new = data_test_new[data_test_new.trip.isin(train_trajs)]\n",
        "\n",
        "# validation_trajs = data_test_new.trip.unique()[5:len(data_test_new.trip.unique())]\n",
        "# data_validation_new = data_test_new[data_test_new.trip.isin(validation_trajs)]"
      ],
      "execution_count": 7,
      "outputs": []
    },
    {
      "cell_type": "code",
      "metadata": {
        "id": "oS9J_w8-NDun"
      },
      "source": [
        "# # hyperparameters\n",
        "# batch_size = 64\n",
        "\n",
        "# ## reduce size dataset\n",
        "# train_set = TrajDataSet(data_train_new, window, variable, transform = ToTensor())\n",
        "# validation_set = TrajDataSet(data_validation_new, window, variable, transform = ToTensor())\n",
        "\n",
        "# train_loader = DataLoader(train_set, batch_size=batch_size, num_workers = 0, shuffle = True, drop_last=True)\n",
        "# validation_loader = DataLoader(validation_set, batch_size=batch_size, num_workers = 0, shuffle = True, drop_last=True)"
      ],
      "execution_count": 8,
      "outputs": []
    },
    {
      "cell_type": "code",
      "metadata": {
        "id": "uys5uKXMPAWi"
      },
      "source": [
        "# # Loss and score\n",
        "# learning_rate = 0.01\n",
        "# optimizer = torch.optim.Adam(model.parameters(), lr=learning_rate)\n",
        "# weight = torch.FloatTensor([30])\n",
        "# criterion = nn.BCEWithLogitsLoss(pos_weight = weight)"
      ],
      "execution_count": null,
      "outputs": []
    },
    {
      "cell_type": "code",
      "metadata": {
        "id": "3s3_4KluPMeU"
      },
      "source": [
        "# # Train the model\n",
        "# nb_epoch = 5\n",
        "    \n",
        "# for epoch in range(nb_epoch):\n",
        "#     learning_rate /= 10\n",
        "#     optimizer = torch.optim.Adam(model.parameters(), lr=learning_rate)\n",
        "#     for batch, (x, y, z) in enumerate(train_loader):\n",
        "\n",
        "#         # Run the forward pass\n",
        "#         out = model(x, y)\n",
        "#         loss = criterion(out, z)\n",
        "        \n",
        "#         # Backprop and perform optimisation\n",
        "#         optimizer.zero_grad()\n",
        "#         loss.backward()\n",
        "#         optimizer.step()\n",
        "\n",
        "#     ### Evaluation\n",
        "#     model.eval()\n",
        "#     with torch.no_grad():     \n",
        "#         # evaluation\n",
        "#         list_loss_train = []\n",
        "#         list_score_train = []\n",
        "#         for batch, (x, y, z) in enumerate(train_loader):\n",
        "\n",
        "#             # Run the forward pass\n",
        "#             out =  model(x, y)\n",
        "#             loss = criterion(out, z)\n",
        "\n",
        "#             list_loss_train.append(loss.item())\n",
        "            \n",
        "#         train_loss = np.mean(list_loss_train)\n",
        "       \n",
        "\n",
        "#     print('Epoch [{}/{}] -------------------------------------------------------------------------------------'\n",
        "#       .format(epoch+1, nb_epoch))\n",
        "#     print('Train Loss: {}'\n",
        "#             .format(round(train_loss, 2)))\n",
        "#     model.train()"
      ],
      "execution_count": null,
      "outputs": []
    },
    {
      "cell_type": "markdown",
      "metadata": {
        "id": "a-coP1OmO8Ct"
      },
      "source": [
        "# Test"
      ]
    },
    {
      "cell_type": "code",
      "metadata": {
        "id": "b1Jvl0wKeq_L"
      },
      "source": [
        "data_train = pd.read_csv('./data/SV_train.csv')\n",
        "data_validation = pd.read_csv('./data/SV_validation.csv')\n",
        "data_test = pd.read_csv('./data/SV_test.csv')\n",
        "data_test_guanape = pd.read_csv('./data/SV_test_guanape.csv')\n",
        "\n",
        "data = pd.concat([data_train, data_validation, data_test, data_test_guanape])"
      ],
      "execution_count": 7,
      "outputs": []
    },
    {
      "cell_type": "code",
      "metadata": {
        "colab": {
          "base_uri": "https://localhost:8080/",
          "height": 206
        },
        "id": "nZ_4Oy5Ud5mn",
        "outputId": "98634d6a-897f-4fb8-b151-a9c35e92bfc2"
      },
      "source": [
        "resolution = 5\n",
        "data_new = change_resolution(data, resolution)\n",
        "data_new = standardize_data(data_new)\n",
        "\n",
        "data_new.head()"
      ],
      "execution_count": 10,
      "outputs": [
        {
          "output_type": "execute_result",
          "data": {
            "text/html": [
              "<div>\n",
              "<style scoped>\n",
              "    .dataframe tbody tr th:only-of-type {\n",
              "        vertical-align: middle;\n",
              "    }\n",
              "\n",
              "    .dataframe tbody tr th {\n",
              "        vertical-align: top;\n",
              "    }\n",
              "\n",
              "    .dataframe thead th {\n",
              "        text-align: right;\n",
              "    }\n",
              "</style>\n",
              "<table border=\"1\" class=\"dataframe\">\n",
              "  <thead>\n",
              "    <tr style=\"text-align: right;\">\n",
              "      <th></th>\n",
              "      <th>trip</th>\n",
              "      <th>datetime</th>\n",
              "      <th>lon</th>\n",
              "      <th>lat</th>\n",
              "      <th>gaps</th>\n",
              "      <th>dive</th>\n",
              "      <th>step_speed</th>\n",
              "      <th>step_direction</th>\n",
              "      <th>lon_std</th>\n",
              "      <th>lat_std</th>\n",
              "      <th>step_speed_std</th>\n",
              "      <th>step_direction_cos</th>\n",
              "      <th>step_direction_sin</th>\n",
              "    </tr>\n",
              "  </thead>\n",
              "  <tbody>\n",
              "    <tr>\n",
              "      <th>2</th>\n",
              "      <td>P1108_46_SV_T4</td>\n",
              "      <td>2008-12-06 16:06:25</td>\n",
              "      <td>-77.265897</td>\n",
              "      <td>-11.774297</td>\n",
              "      <td>0.0</td>\n",
              "      <td>0</td>\n",
              "      <td>15.301035</td>\n",
              "      <td>26.025648</td>\n",
              "      <td>2.309584</td>\n",
              "      <td>0.788287</td>\n",
              "      <td>0.826924</td>\n",
              "      <td>0.898598</td>\n",
              "      <td>0.438773</td>\n",
              "    </tr>\n",
              "    <tr>\n",
              "      <th>3</th>\n",
              "      <td>P1108_46_SV_T4</td>\n",
              "      <td>2008-12-06 16:06:30</td>\n",
              "      <td>-77.266435</td>\n",
              "      <td>-11.774462</td>\n",
              "      <td>0.0</td>\n",
              "      <td>0</td>\n",
              "      <td>12.287117</td>\n",
              "      <td>-18.228550</td>\n",
              "      <td>2.293957</td>\n",
              "      <td>0.776022</td>\n",
              "      <td>0.663327</td>\n",
              "      <td>0.949816</td>\n",
              "      <td>-0.312808</td>\n",
              "    </tr>\n",
              "    <tr>\n",
              "      <th>4</th>\n",
              "      <td>P1108_46_SV_T4</td>\n",
              "      <td>2008-12-06 16:06:35</td>\n",
              "      <td>-77.266843</td>\n",
              "      <td>-11.774868</td>\n",
              "      <td>0.0</td>\n",
              "      <td>0</td>\n",
              "      <td>12.679214</td>\n",
              "      <td>-28.073536</td>\n",
              "      <td>2.282105</td>\n",
              "      <td>0.745841</td>\n",
              "      <td>0.684610</td>\n",
              "      <td>0.882344</td>\n",
              "      <td>-0.470604</td>\n",
              "    </tr>\n",
              "    <tr>\n",
              "      <th>5</th>\n",
              "      <td>P1108_46_SV_T4</td>\n",
              "      <td>2008-12-06 16:06:40</td>\n",
              "      <td>-77.267200</td>\n",
              "      <td>-11.775312</td>\n",
              "      <td>0.0</td>\n",
              "      <td>0</td>\n",
              "      <td>12.579325</td>\n",
              "      <td>-6.324066</td>\n",
              "      <td>2.271735</td>\n",
              "      <td>0.712835</td>\n",
              "      <td>0.679188</td>\n",
              "      <td>0.993915</td>\n",
              "      <td>-0.110152</td>\n",
              "    </tr>\n",
              "    <tr>\n",
              "      <th>6</th>\n",
              "      <td>P1108_46_SV_T4</td>\n",
              "      <td>2008-12-06 16:06:45</td>\n",
              "      <td>-77.267390</td>\n",
              "      <td>-11.775845</td>\n",
              "      <td>0.0</td>\n",
              "      <td>0</td>\n",
              "      <td>12.567659</td>\n",
              "      <td>-18.969971</td>\n",
              "      <td>2.266216</td>\n",
              "      <td>0.673214</td>\n",
              "      <td>0.678555</td>\n",
              "      <td>0.945689</td>\n",
              "      <td>-0.325073</td>\n",
              "    </tr>\n",
              "  </tbody>\n",
              "</table>\n",
              "</div>"
            ],
            "text/plain": [
              "             trip             datetime  ...  step_direction_cos  step_direction_sin\n",
              "2  P1108_46_SV_T4  2008-12-06 16:06:25  ...            0.898598            0.438773\n",
              "3  P1108_46_SV_T4  2008-12-06 16:06:30  ...            0.949816           -0.312808\n",
              "4  P1108_46_SV_T4  2008-12-06 16:06:35  ...            0.882344           -0.470604\n",
              "5  P1108_46_SV_T4  2008-12-06 16:06:40  ...            0.993915           -0.110152\n",
              "6  P1108_46_SV_T4  2008-12-06 16:06:45  ...            0.945689           -0.325073\n",
              "\n",
              "[5 rows x 13 columns]"
            ]
          },
          "metadata": {
            "tags": []
          },
          "execution_count": 10
        }
      ]
    },
    {
      "cell_type": "code",
      "metadata": {
        "scrolled": true,
        "id": "pSGmDuF9YqzE",
        "colab": {
          "base_uri": "https://localhost:8080/"
        },
        "outputId": "f46a625f-1233-4856-bd4b-bdb6604563fd"
      },
      "source": [
        "dive_estim = []\n",
        "\n",
        "for i in data_new.trip.unique():\n",
        "    # create dataset for a trajectory\n",
        "    t = data_new[data_new.trip == i].copy()    \n",
        "    test_set = TrajDataSet(t, window, variable, transform = ToTensor())\n",
        "    \n",
        "    # Test the model\n",
        "    estim = np.zeros(len(t))\n",
        "    nb = np.zeros(len(t))\n",
        "    \n",
        "    list_out = []\n",
        "    model.eval()\n",
        "    k = 0\n",
        "    with torch.no_grad():\n",
        "        for (x, y, z) in test_set:\n",
        "\n",
        "            # Run the forward pass\n",
        "            out = model(x, y.unsqueeze(1))\n",
        "            \n",
        "            estim[k:k + round(window)] += out.cpu().squeeze().numpy()\n",
        "            nb[k:k + round(window)] += 1\n",
        "            k+=1\n",
        "    # # add to list by trajectory\n",
        "    dive_estim.append(estim/nb)\n",
        "    print(i)\n",
        "\n",
        "data_new['prediction'] = 1/(1+np.exp(-np.hstack(dive_estim)))"
      ],
      "execution_count": 11,
      "outputs": [
        {
          "output_type": "stream",
          "text": [
            "P1108_46_SV_T4\n",
            "P1108_4_SV_T1\n",
            "P1108_4_SV_T2\n",
            "P1108_6_SV_T1\n",
            "P1109_21_SV_T4\n",
            "P1109_21_SV_T7\n",
            "P1111_27_SV_T2\n",
            "P1111_27_SV_T4\n",
            "P1111_41_SV_T1\n",
            "P1111_41_SV_T4\n",
            "P1111_46_SV_T5\n",
            "P1111_9_SV_T2\n",
            "P1112_10_SV_T1\n",
            "P1112_11_SV_T7\n",
            "P1112_12_SV_T1\n",
            "P1112_12_SV_T4\n",
            "P1112_14_SV_T1\n",
            "P1112_14_SV_T2\n",
            "P1112_15_SV_T1\n",
            "P1112_15_SV_T2\n",
            "P1112_15_SV_T3\n",
            "P1112_15_SV_T4\n",
            "P1112_18_SV_T2\n",
            "P1112_18_SV_T3\n",
            "P1112_18_SV_T5\n",
            "P1112_19_SV_T2\n",
            "P1112_19_SV_T3\n",
            "P1112_19_SV_T4\n",
            "P1112_19_SV_T5\n",
            "P1112_19_SV_T6\n",
            "P1112_19_SV_T7\n",
            "P1112_20_SV_T1\n",
            "P1112_20_SV_T2\n",
            "P1112_20_SV_T3\n",
            "P1112_21_SV_T1\n",
            "P1112_21_SV_T2\n",
            "P1112_22_SV_T1\n",
            "P1112_22_SV_T2\n",
            "P1112_22_SV_T3\n",
            "P1112_24_SV_T1\n",
            "P1112_24_SV_T3\n",
            "P1112_24_SV_T4\n",
            "P1112_25_SV_T1\n",
            "P1112_25_SV_T3\n",
            "P1112_25_SV_T4\n",
            "P1112_25_SV_T5\n",
            "P1112_26_SV_T3\n",
            "P1112_27_SV_T1\n",
            "P1112_27_SV_T2\n",
            "P1112_29_SV_T2\n",
            "P1112_29_SV_T3\n",
            "P1112_30_SV_T1\n",
            "P1112_30_SV_T2\n",
            "P1112_31_SV_T1\n",
            "P1112_31_SV_T2\n",
            "P1112_31_SV_T5\n",
            "P1112_33_SV_T2\n",
            "P1112_34_SV_T1\n",
            "P1112_35_SV_T2\n",
            "P1112_37_SV_T1\n",
            "P1112_37_SV_T2\n",
            "P1112_37_SV_T3\n",
            "P1112_38_SV_T1\n",
            "P1112_38_SV_T2\n",
            "P1112_3_SV_T2\n",
            "P1112_4_SV_T2\n",
            "P1112_4_SV_T4\n",
            "P1112_9_SV_T1\n",
            "P1112_9_SV_T2\n",
            "P1113_15_SV_T1\n",
            "P1113_15_SV_T2\n",
            "P1113_18_SV_T1\n",
            "P1113_18_SV_T4\n",
            "P1113_19_SV_T1\n",
            "P1113_19_SV_T3\n",
            "P1113_23_SV_T1\n",
            "P1113_23_SV_T2\n",
            "P1113_23_SV_T3\n",
            "P1113_23_SV_T4\n",
            "P1113_24_SV_T1\n",
            "P1113_24_SV_T2\n",
            "P1113_24_SV_T3\n",
            "P1113_28_SV_T1\n",
            "P1113_28_SV_T2\n",
            "P1113_28_SV_T3\n",
            "P1113_29_SV_T1\n",
            "P1113_33_SV_T2\n",
            "P1113_33_SV_T3\n",
            "P1113_33_SV_T4\n",
            "P1113_41_SV_T1\n",
            "P1113_41_SV_T4\n",
            "P1113_41_SV_T5\n",
            "P1113_41_SV_T6\n",
            "P1108_46_SV_T2\n",
            "P1108_46_SV_T3\n",
            "P1109_21_SV_T1\n",
            "P1109_21_SV_T2\n",
            "P1109_21_SV_T3\n",
            "P1109_21_SV_T5\n",
            "P1109_21_SV_T8\n",
            "P1111_13_SV_T5\n",
            "P1111_52_SV_T2\n",
            "P1112_12_SV_T2\n",
            "P1112_12_SV_T3\n",
            "P1112_24_SV_T2\n",
            "P1112_24_SV_T5\n",
            "P1112_24_SV_T6\n",
            "P1112_25_SV_T2\n",
            "P1112_26_SV_T4\n",
            "P1112_33_SV_T1\n",
            "P1112_35_SV_T1\n",
            "P1112_35_SV_T3\n",
            "P1112_35_SV_T4\n",
            "P1112_36_SV_T1\n",
            "P1112_3_SV_T1\n",
            "P1112_4_SV_T1\n",
            "P1113_18_SV_T2\n",
            "P1113_18_SV_T3\n",
            "P1113_19_SV_T4\n",
            "P1113_29_SV_T2\n",
            "P1108_6_SV_T2\n",
            "P1111_41_SV_T3\n",
            "P1111_41_SV_T6\n",
            "P1112_10_SV_T2\n",
            "P1112_18_SV_T1\n",
            "P1112_20_SV_T4\n",
            "P1112_27_SV_T3\n",
            "P1112_29_SV_T1\n",
            "P1112_31_SV_T3\n",
            "P1113_14_SV_T1\n",
            "P1113_19_SV_T2\n",
            "P1113_33_SV_T1\n",
            "P1113_41_SV_T2\n",
            "G1107_12_SV_T1\n",
            "G1107_15_SV_T1\n",
            "G1107_17_SV_T1\n",
            "G1107_18_SV_T1\n",
            "G1107_18_SV_T2\n",
            "G1107_20_SV_T1\n",
            "G1107_21_SV_T1\n",
            "G1107_22_SV_T1\n",
            "G1107_24_SV_T1\n",
            "G1107_25_SV_T1\n",
            "G1107_26_SV_T1\n",
            "G1107_27_SV_T1\n",
            "G1107_27_SV_T2\n",
            "G1107_34_SV_T1\n",
            "G1107_34_SV_T2\n",
            "G1107_34_SV_T3\n",
            "G1107_36_SV_T1\n",
            "G1107_39_SV_T1\n",
            "G1107_42_SV_T2\n",
            "G1107_46_SV_T1\n",
            "G1107_49_SV_T2\n",
            "G1107_53_SV_T1\n",
            "G1107_7_SV_T1\n",
            "G1107_7_SV_T2\n",
            "G1107_9_SV_T1\n"
          ],
          "name": "stdout"
        }
      ]
    },
    {
      "cell_type": "code",
      "metadata": {
        "id": "ORD6kHcxlA7I"
      },
      "source": [
        "data_test_new = data_new[[x[0] == 'G' for x in data_new.trip]]"
      ],
      "execution_count": 21,
      "outputs": []
    },
    {
      "cell_type": "code",
      "metadata": {
        "id": "5tklMINGYqzF",
        "colab": {
          "base_uri": "https://localhost:8080/",
          "height": 297
        },
        "outputId": "57952582-826f-492e-8729-d9a8dad6198b"
      },
      "source": [
        "fig, ax = plt.subplots()\n",
        "ax.set_aspect('equal')\n",
        "ax.set_xlabel('False Positive Rate')\n",
        "ax.set_ylabel('True Positive Rate')\n",
        "\n",
        "\n",
        "# globally\n",
        "TP = []\n",
        "FP = []\n",
        "\n",
        "for tt in np.arange(0,1,0.001):\n",
        "    all_estim = 1* (data_test_new.prediction > tt)\n",
        "    true_positive = np.mean(all_estim[data_test_new.dive == 1])\n",
        "    true_negative = 1-np.mean(all_estim[data_test_new.dive == 0])\n",
        "    TP.append(true_positive)\n",
        "    FP.append(1-true_negative)\n",
        "\n",
        "plt.plot(np.array(FP), np.array(TP))"
      ],
      "execution_count": 22,
      "outputs": [
        {
          "output_type": "execute_result",
          "data": {
            "text/plain": [
              "[<matplotlib.lines.Line2D at 0x7f149ff08048>]"
            ]
          },
          "metadata": {
            "tags": []
          },
          "execution_count": 22
        },
        {
          "output_type": "display_data",
          "data": {
            "image/png": "[encoded data removed]",
            "text/plain": [
              "<Figure size 432x288 with 1 Axes>"
            ]
          },
          "metadata": {
            "tags": [],
            "needs_background": "light"
          }
        }
      ]
    },
    {
      "cell_type": "markdown",
      "metadata": {
        "id": "jnbMfbZ4IBAz"
      },
      "source": [
        "# Export Probabilities"
      ]
    },
    {
      "cell_type": "code",
      "metadata": {
        "id": "tfJ0qe7IIAaU"
      },
      "source": [
        "data_new.to_csv('SV_unet_projection.csv', index = False)"
      ],
      "execution_count": 23,
      "outputs": []
    }
  ]
}