{
  "nbformat": 4,
  "nbformat_minor": 0,
  "metadata": {
    "colab": {
      "name": "SV_fcn_projection_guanape.ipynb",
      "provenance": [],
      "collapsed_sections": [],
      "authorship_tag": "ABX9TyPYFpQcY6mAPhJo9uFWfODL",
      "include_colab_link": true
    },
    "kernelspec": {
      "name": "python3",
      "display_name": "Python 3"
    }
  },
  "cells": [
    {
      "cell_type": "markdown",
      "metadata": {
        "id": "view-in-github",
        "colab_type": "text"
      },
      "source": [
        "<a href=\"https://colab.research.google.com/github/AmedeeRoy/BirdDL/blob/main/code/SV/5s/SV_fcn_projection_guanape.ipynb\" target=\"_parent\"><img src=\"https://colab.research.google.com/assets/colab-badge.svg\" alt=\"Open In Colab\"/></a>"
      ]
    },
    {
      "cell_type": "markdown",
      "metadata": {
        "id": "sVau6SVYYqzD"
      },
      "source": [
        "# Test Guanape"
      ]
    },
    {
      "cell_type": "code",
      "metadata": {
        "colab": {
          "base_uri": "https://localhost:8080/"
        },
        "id": "cPOjT66sGf3Y",
        "outputId": "eeb41581-e627-406a-b60e-448150f81aa6"
      },
      "source": [
        "# mount google drive\n",
        "from google.colab import drive\n",
        "drive.mount(\"/content/drive/\")"
      ],
      "execution_count": 13,
      "outputs": [
        {
          "output_type": "stream",
          "text": [
            "Drive already mounted at /content/drive/; to attempt to forcibly remount, call drive.mount(\"/content/drive/\", force_remount=True).\n"
          ],
          "name": "stdout"
        }
      ]
    },
    {
      "cell_type": "code",
      "metadata": {
        "colab": {
          "base_uri": "https://localhost:8080/"
        },
        "id": "u2R6nZsEGp2v",
        "outputId": "3b1d1215-3b63-4a12-e0eb-42607e83702c"
      },
      "source": [
        "%cd drive/My\\ Drive/"
      ],
      "execution_count": 14,
      "outputs": [
        {
          "output_type": "stream",
          "text": [
            "[Errno 2] No such file or directory: 'drive/My Drive/'\n",
            "/content/drive/My Drive\n"
          ],
          "name": "stdout"
        }
      ]
    },
    {
      "cell_type": "code",
      "metadata": {
        "id": "UGN6h34CFYo0"
      },
      "source": [
        "import pandas as pd\n",
        "import numpy as np\n",
        "import matplotlib.pyplot as plt\n",
        "import pickle\n",
        "\n",
        "import torch\n",
        "from torch import nn\n",
        "from torch.utils.data import DataLoader, Dataset\n",
        "from torchvision import transforms\n",
        "\n",
        "from utils.trip import *"
      ],
      "execution_count": 15,
      "outputs": []
    },
    {
      "cell_type": "markdown",
      "metadata": {
        "id": "XGjbuWmXFgTp"
      },
      "source": [
        "## Load model"
      ]
    },
    {
      "cell_type": "code",
      "metadata": {
        "id": "Jxj5AbApGG2w"
      },
      "source": [
        "class FCNet(nn.Module):\n",
        "\n",
        "    def __init__(self):\n",
        "        super(FCNet, self).__init__()\n",
        "\n",
        "        self.cnn = nn.Sequential(\n",
        "            nn.Linear(21*3,100),\n",
        "            nn.ReLU(),\n",
        "            nn.Linear(100,500),\n",
        "            nn.ReLU(),\n",
        "            nn.Linear(500,500),\n",
        "            nn.ReLU(),\n",
        "            nn.Linear(500,500),\n",
        "            nn.ReLU(),\n",
        "            nn.Linear(500,1)\n",
        "        )\n",
        "\n",
        "    def forward(self, x):\n",
        "        out = x.reshape((x.size()[0], 1, 21*3))\n",
        "        out = self.cnn(out)\n",
        "        return out\n",
        "\n",
        "def get_score(out, y):\n",
        "    out, y = out.cpu(), y.cpu()\n",
        "    out = 1*(out>0)\n",
        "    true_positive = np.mean(out[y == True].numpy()) \n",
        "    true_negative = 1-np.mean(out[y == False].numpy())\n",
        "    \n",
        "    return (round(true_positive*100) , round(true_negative*100))"
      ],
      "execution_count": 16,
      "outputs": []
    },
    {
      "cell_type": "code",
      "metadata": {
        "id": "MP9Wwa1HFf5h"
      },
      "source": [
        "model = torch.load('SV_fcn_lonlatcov_5s.pt')\n",
        "window = 21\n",
        "variable = ('lon_std', 'lat_std', 'gaps')"
      ],
      "execution_count": 17,
      "outputs": []
    },
    {
      "cell_type": "markdown",
      "metadata": {
        "id": "s_lETkcbgSWR"
      },
      "source": [
        "# Test"
      ]
    },
    {
      "cell_type": "code",
      "metadata": {
        "id": "TLqWsDNGgN4r"
      },
      "source": [
        "data_train = pd.read_csv('./data/SV_train.csv')\n",
        "data_validation = pd.read_csv('./data/SV_validation.csv')\n",
        "data_test = pd.read_csv('./data/SV_test.csv')\n",
        "data_test_guanape = pd.read_csv('./data/SV_test_guanape.csv')\n",
        "\n",
        "data = pd.concat([data_train, data_validation, data_test, data_test_guanape])"
      ],
      "execution_count": 18,
      "outputs": []
    },
    {
      "cell_type": "code",
      "metadata": {
        "id": "kRf2Mvv7YqzE",
        "colab": {
          "base_uri": "https://localhost:8080/",
          "height": 206
        },
        "outputId": "42586d55-5fbb-42cb-889e-6f933de0fd5b"
      },
      "source": [
        "resolution = 5\n",
        "data_new = change_resolution(data, resolution)\n",
        "data_new = standardize_data(data_new)\n",
        "\n",
        "data_new.head()"
      ],
      "execution_count": 19,
      "outputs": [
        {
          "output_type": "execute_result",
          "data": {
            "text/html": [
              "<div>\n",
              "<style scoped>\n",
              "    .dataframe tbody tr th:only-of-type {\n",
              "        vertical-align: middle;\n",
              "    }\n",
              "\n",
              "    .dataframe tbody tr th {\n",
              "        vertical-align: top;\n",
              "    }\n",
              "\n",
              "    .dataframe thead th {\n",
              "        text-align: right;\n",
              "    }\n",
              "</style>\n",
              "<table border=\"1\" class=\"dataframe\">\n",
              "  <thead>\n",
              "    <tr style=\"text-align: right;\">\n",
              "      <th></th>\n",
              "      <th>trip</th>\n",
              "      <th>datetime</th>\n",
              "      <th>lon</th>\n",
              "      <th>lat</th>\n",
              "      <th>gaps</th>\n",
              "      <th>dive</th>\n",
              "      <th>step_speed</th>\n",
              "      <th>step_direction</th>\n",
              "      <th>lon_std</th>\n",
              "      <th>lat_std</th>\n",
              "      <th>step_speed_std</th>\n",
              "      <th>step_direction_cos</th>\n",
              "      <th>step_direction_sin</th>\n",
              "    </tr>\n",
              "  </thead>\n",
              "  <tbody>\n",
              "    <tr>\n",
              "      <th>2</th>\n",
              "      <td>P1108_46_SV_T4</td>\n",
              "      <td>2008-12-06 16:06:25</td>\n",
              "      <td>-77.265897</td>\n",
              "      <td>-11.774297</td>\n",
              "      <td>0.0</td>\n",
              "      <td>0</td>\n",
              "      <td>15.301035</td>\n",
              "      <td>26.025648</td>\n",
              "      <td>2.309584</td>\n",
              "      <td>0.788287</td>\n",
              "      <td>0.826924</td>\n",
              "      <td>0.898598</td>\n",
              "      <td>0.438773</td>\n",
              "    </tr>\n",
              "    <tr>\n",
              "      <th>3</th>\n",
              "      <td>P1108_46_SV_T4</td>\n",
              "      <td>2008-12-06 16:06:30</td>\n",
              "      <td>-77.266435</td>\n",
              "      <td>-11.774462</td>\n",
              "      <td>0.0</td>\n",
              "      <td>0</td>\n",
              "      <td>12.287117</td>\n",
              "      <td>-18.228550</td>\n",
              "      <td>2.293957</td>\n",
              "      <td>0.776022</td>\n",
              "      <td>0.663327</td>\n",
              "      <td>0.949816</td>\n",
              "      <td>-0.312808</td>\n",
              "    </tr>\n",
              "    <tr>\n",
              "      <th>4</th>\n",
              "      <td>P1108_46_SV_T4</td>\n",
              "      <td>2008-12-06 16:06:35</td>\n",
              "      <td>-77.266843</td>\n",
              "      <td>-11.774868</td>\n",
              "      <td>0.0</td>\n",
              "      <td>0</td>\n",
              "      <td>12.679214</td>\n",
              "      <td>-28.073536</td>\n",
              "      <td>2.282105</td>\n",
              "      <td>0.745841</td>\n",
              "      <td>0.684610</td>\n",
              "      <td>0.882344</td>\n",
              "      <td>-0.470604</td>\n",
              "    </tr>\n",
              "    <tr>\n",
              "      <th>5</th>\n",
              "      <td>P1108_46_SV_T4</td>\n",
              "      <td>2008-12-06 16:06:40</td>\n",
              "      <td>-77.267200</td>\n",
              "      <td>-11.775312</td>\n",
              "      <td>0.0</td>\n",
              "      <td>0</td>\n",
              "      <td>12.579325</td>\n",
              "      <td>-6.324066</td>\n",
              "      <td>2.271735</td>\n",
              "      <td>0.712835</td>\n",
              "      <td>0.679188</td>\n",
              "      <td>0.993915</td>\n",
              "      <td>-0.110152</td>\n",
              "    </tr>\n",
              "    <tr>\n",
              "      <th>6</th>\n",
              "      <td>P1108_46_SV_T4</td>\n",
              "      <td>2008-12-06 16:06:45</td>\n",
              "      <td>-77.267390</td>\n",
              "      <td>-11.775845</td>\n",
              "      <td>0.0</td>\n",
              "      <td>0</td>\n",
              "      <td>12.567659</td>\n",
              "      <td>-18.969971</td>\n",
              "      <td>2.266216</td>\n",
              "      <td>0.673214</td>\n",
              "      <td>0.678555</td>\n",
              "      <td>0.945689</td>\n",
              "      <td>-0.325073</td>\n",
              "    </tr>\n",
              "  </tbody>\n",
              "</table>\n",
              "</div>"
            ],
            "text/plain": [
              "             trip             datetime  ...  step_direction_cos  step_direction_sin\n",
              "2  P1108_46_SV_T4  2008-12-06 16:06:25  ...            0.898598            0.438773\n",
              "3  P1108_46_SV_T4  2008-12-06 16:06:30  ...            0.949816           -0.312808\n",
              "4  P1108_46_SV_T4  2008-12-06 16:06:35  ...            0.882344           -0.470604\n",
              "5  P1108_46_SV_T4  2008-12-06 16:06:40  ...            0.993915           -0.110152\n",
              "6  P1108_46_SV_T4  2008-12-06 16:06:45  ...            0.945689           -0.325073\n",
              "\n",
              "[5 rows x 13 columns]"
            ]
          },
          "metadata": {
            "tags": []
          },
          "execution_count": 19
        }
      ]
    },
    {
      "cell_type": "code",
      "metadata": {
        "scrolled": true,
        "id": "pSGmDuF9YqzE",
        "colab": {
          "base_uri": "https://localhost:8080/"
        },
        "outputId": "299e6374-48b6-4a4c-b5de-413e52bfb583"
      },
      "source": [
        "dive_estim = []\n",
        "\n",
        "for i in data_new.trip.unique():\n",
        "    # create dataset for a trajectory\n",
        "    t = data_new[data_new.trip == i].copy()    \n",
        "    test_set = TrajDataSet(t, window, variable, transform = transforms.Compose([Center(), ToTensor()]))\n",
        "\n",
        "    model.eval()\n",
        "    estim = [0 for i in range(10)]\n",
        "    k = 0\n",
        "    with torch.no_grad():\n",
        "        for (x, y, z) in test_set:\n",
        "\n",
        "            # Run the forward pass\n",
        "            out = model(x)\n",
        "            \n",
        "            estim.append(out.cpu().squeeze().numpy())\n",
        "\n",
        "    estim = estim + [0 for i in range(10)]\n",
        "    dive_estim.append(estim)\n",
        "\n",
        "    print(i)\n",
        "data_new['prediction'] = 1/(1+np.exp(-np.hstack(dive_estim)))"
      ],
      "execution_count": 22,
      "outputs": [
        {
          "output_type": "stream",
          "text": [
            "P1108_46_SV_T4\n",
            "P1108_4_SV_T1\n",
            "P1108_4_SV_T2\n",
            "P1108_6_SV_T1\n",
            "P1109_21_SV_T4\n",
            "P1109_21_SV_T7\n",
            "P1111_27_SV_T2\n",
            "P1111_27_SV_T4\n",
            "P1111_41_SV_T1\n",
            "P1111_41_SV_T4\n",
            "P1111_46_SV_T5\n",
            "P1111_9_SV_T2\n",
            "P1112_10_SV_T1\n",
            "P1112_11_SV_T7\n",
            "P1112_12_SV_T1\n",
            "P1112_12_SV_T4\n",
            "P1112_14_SV_T1\n",
            "P1112_14_SV_T2\n",
            "P1112_15_SV_T1\n",
            "P1112_15_SV_T2\n",
            "P1112_15_SV_T3\n",
            "P1112_15_SV_T4\n",
            "P1112_18_SV_T2\n",
            "P1112_18_SV_T3\n",
            "P1112_18_SV_T5\n",
            "P1112_19_SV_T2\n",
            "P1112_19_SV_T3\n",
            "P1112_19_SV_T4\n",
            "P1112_19_SV_T5\n",
            "P1112_19_SV_T6\n",
            "P1112_19_SV_T7\n",
            "P1112_20_SV_T1\n",
            "P1112_20_SV_T2\n",
            "P1112_20_SV_T3\n",
            "P1112_21_SV_T1\n",
            "P1112_21_SV_T2\n",
            "P1112_22_SV_T1\n",
            "P1112_22_SV_T2\n",
            "P1112_22_SV_T3\n",
            "P1112_24_SV_T1\n",
            "P1112_24_SV_T3\n",
            "P1112_24_SV_T4\n",
            "P1112_25_SV_T1\n",
            "P1112_25_SV_T3\n",
            "P1112_25_SV_T4\n",
            "P1112_25_SV_T5\n",
            "P1112_26_SV_T3\n",
            "P1112_27_SV_T1\n",
            "P1112_27_SV_T2\n",
            "P1112_29_SV_T2\n",
            "P1112_29_SV_T3\n",
            "P1112_30_SV_T1\n",
            "P1112_30_SV_T2\n",
            "P1112_31_SV_T1\n",
            "P1112_31_SV_T2\n",
            "P1112_31_SV_T5\n",
            "P1112_33_SV_T2\n",
            "P1112_34_SV_T1\n",
            "P1112_35_SV_T2\n",
            "P1112_37_SV_T1\n",
            "P1112_37_SV_T2\n",
            "P1112_37_SV_T3\n",
            "P1112_38_SV_T1\n",
            "P1112_38_SV_T2\n",
            "P1112_3_SV_T2\n",
            "P1112_4_SV_T2\n",
            "P1112_4_SV_T4\n",
            "P1112_9_SV_T1\n",
            "P1112_9_SV_T2\n",
            "P1113_15_SV_T1\n",
            "P1113_15_SV_T2\n",
            "P1113_18_SV_T1\n",
            "P1113_18_SV_T4\n",
            "P1113_19_SV_T1\n",
            "P1113_19_SV_T3\n",
            "P1113_23_SV_T1\n",
            "P1113_23_SV_T2\n",
            "P1113_23_SV_T3\n",
            "P1113_23_SV_T4\n",
            "P1113_24_SV_T1\n",
            "P1113_24_SV_T2\n",
            "P1113_24_SV_T3\n",
            "P1113_28_SV_T1\n",
            "P1113_28_SV_T2\n",
            "P1113_28_SV_T3\n",
            "P1113_29_SV_T1\n",
            "P1113_33_SV_T2\n",
            "P1113_33_SV_T3\n",
            "P1113_33_SV_T4\n",
            "P1113_41_SV_T1\n",
            "P1113_41_SV_T4\n",
            "P1113_41_SV_T5\n",
            "P1113_41_SV_T6\n",
            "P1108_46_SV_T2\n",
            "P1108_46_SV_T3\n",
            "P1109_21_SV_T1\n",
            "P1109_21_SV_T2\n",
            "P1109_21_SV_T3\n",
            "P1109_21_SV_T5\n",
            "P1109_21_SV_T8\n",
            "P1111_13_SV_T5\n",
            "P1111_52_SV_T2\n",
            "P1112_12_SV_T2\n",
            "P1112_12_SV_T3\n",
            "P1112_24_SV_T2\n",
            "P1112_24_SV_T5\n",
            "P1112_24_SV_T6\n",
            "P1112_25_SV_T2\n",
            "P1112_26_SV_T4\n",
            "P1112_33_SV_T1\n",
            "P1112_35_SV_T1\n",
            "P1112_35_SV_T3\n",
            "P1112_35_SV_T4\n",
            "P1112_36_SV_T1\n",
            "P1112_3_SV_T1\n",
            "P1112_4_SV_T1\n",
            "P1113_18_SV_T2\n",
            "P1113_18_SV_T3\n",
            "P1113_19_SV_T4\n",
            "P1113_29_SV_T2\n",
            "P1108_6_SV_T2\n",
            "P1111_41_SV_T3\n",
            "P1111_41_SV_T6\n",
            "P1112_10_SV_T2\n",
            "P1112_18_SV_T1\n",
            "P1112_20_SV_T4\n",
            "P1112_27_SV_T3\n",
            "P1112_29_SV_T1\n",
            "P1112_31_SV_T3\n",
            "P1113_14_SV_T1\n",
            "P1113_19_SV_T2\n",
            "P1113_33_SV_T1\n",
            "P1113_41_SV_T2\n",
            "G1107_12_SV_T1\n",
            "G1107_15_SV_T1\n",
            "G1107_17_SV_T1\n",
            "G1107_18_SV_T1\n",
            "G1107_18_SV_T2\n",
            "G1107_20_SV_T1\n",
            "G1107_21_SV_T1\n",
            "G1107_22_SV_T1\n",
            "G1107_24_SV_T1\n",
            "G1107_25_SV_T1\n",
            "G1107_26_SV_T1\n",
            "G1107_27_SV_T1\n",
            "G1107_27_SV_T2\n",
            "G1107_34_SV_T1\n",
            "G1107_34_SV_T2\n",
            "G1107_34_SV_T3\n",
            "G1107_36_SV_T1\n",
            "G1107_39_SV_T1\n",
            "G1107_42_SV_T2\n",
            "G1107_46_SV_T1\n",
            "G1107_49_SV_T2\n",
            "G1107_53_SV_T1\n",
            "G1107_7_SV_T1\n",
            "G1107_7_SV_T2\n",
            "G1107_9_SV_T1\n"
          ],
          "name": "stdout"
        }
      ]
    },
    {
      "cell_type": "code",
      "metadata": {
        "id": "LfIUZ9yrl5AD"
      },
      "source": [
        "data_test_new = data_new[[x[0] == 'G' for x in data_new.trip]]"
      ],
      "execution_count": null,
      "outputs": []
    },
    {
      "cell_type": "code",
      "metadata": {
        "id": "5tklMINGYqzF"
      },
      "source": [
        "fig, ax = plt.subplots()\n",
        "ax.set_aspect('equal')\n",
        "ax.set_xlabel('False Positive Rate')\n",
        "ax.set_ylabel('True Positive Rate')\n",
        "\n",
        "# globally\n",
        "TP = []\n",
        "FP = []\n",
        "\n",
        "for tt in np.arange(0,1,0.001):\n",
        "    all_estim = 1* (data_test_new.prediction > tt)\n",
        "    true_positive = np.mean(all_estim[data_test_new.dive == 1])\n",
        "    true_negative = 1-np.mean(all_estim[data_test_new.dive == 0])\n",
        "    TP.append(true_positive)\n",
        "    FP.append(1-true_negative)\n",
        "\n",
        "plt.plot(np.array(FP), np.array(TP))"
      ],
      "execution_count": null,
      "outputs": []
    },
    {
      "cell_type": "markdown",
      "metadata": {
        "id": "jnbMfbZ4IBAz"
      },
      "source": [
        "# Export Probabilities"
      ]
    },
    {
      "cell_type": "code",
      "metadata": {
        "id": "tfJ0qe7IIAaU"
      },
      "source": [
        "data_new.to_csv('SV_fcn_projection.csv', index = False)"
      ],
      "execution_count": null,
      "outputs": []
    },
    {
      "cell_type": "code",
      "metadata": {
        "id": "Tj0eOOJqIwyg"
      },
      "source": [
        ""
      ],
      "execution_count": null,
      "outputs": []
    }
  ]
}