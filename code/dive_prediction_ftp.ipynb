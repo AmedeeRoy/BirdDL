{
 "cells": [
  {
   "cell_type": "markdown",
   "metadata": {},
   "source": [
    "# Dive Prediction - First Time Passage\n",
    "\n",
    "*Predicting Seabird Diving Behaviour from GPS data*\n",
    "\n",
    "This notebook predicts dive with First Time Passage Approach"
   ]
  },
  {
   "cell_type": "code",
   "execution_count": 1,
   "metadata": {},
   "outputs": [],
   "source": [
    "import pandas as pd\n",
    "import numpy as np\n",
    "import matplotlib.pyplot as plt\n",
    "\n",
    "from utils.trip import * "
   ]
  },
  {
   "cell_type": "code",
   "execution_count": 2,
   "metadata": {
    "scrolled": true
   },
   "outputs": [],
   "source": [
    "data_test = pd.read_csv('./../data/SV_test_guanape.csv')"
   ]
  },
  {
   "cell_type": "markdown",
   "metadata": {},
   "source": [
    "## Choose resolution"
   ]
  },
  {
   "cell_type": "code",
   "execution_count": 3,
   "metadata": {},
   "outputs": [
    {
     "data": {
      "text/html": [
       "<div>\n",
       "<style scoped>\n",
       "    .dataframe tbody tr th:only-of-type {\n",
       "        vertical-align: middle;\n",
       "    }\n",
       "\n",
       "    .dataframe tbody tr th {\n",
       "        vertical-align: top;\n",
       "    }\n",
       "\n",
       "    .dataframe thead th {\n",
       "        text-align: right;\n",
       "    }\n",
       "</style>\n",
       "<table border=\"1\" class=\"dataframe\">\n",
       "  <thead>\n",
       "    <tr style=\"text-align: right;\">\n",
       "      <th></th>\n",
       "      <th>trip</th>\n",
       "      <th>datetime</th>\n",
       "      <th>lon</th>\n",
       "      <th>lat</th>\n",
       "      <th>gaps</th>\n",
       "      <th>dive</th>\n",
       "      <th>step_speed</th>\n",
       "      <th>step_direction</th>\n",
       "      <th>lon_std</th>\n",
       "      <th>lat_std</th>\n",
       "      <th>step_speed_std</th>\n",
       "      <th>step_direction_cos</th>\n",
       "      <th>step_direction_sin</th>\n",
       "    </tr>\n",
       "  </thead>\n",
       "  <tbody>\n",
       "    <tr>\n",
       "      <th>2</th>\n",
       "      <td>G1107_12_SV_T1</td>\n",
       "      <td>2007-11-19 13:42:28</td>\n",
       "      <td>-78.958106</td>\n",
       "      <td>-8.567359</td>\n",
       "      <td>0.0</td>\n",
       "      <td>0</td>\n",
       "      <td>8.306816</td>\n",
       "      <td>14.473134</td>\n",
       "      <td>1.917377</td>\n",
       "      <td>2.293521</td>\n",
       "      <td>0.412817</td>\n",
       "      <td>0.968265</td>\n",
       "      <td>0.249926</td>\n",
       "    </tr>\n",
       "    <tr>\n",
       "      <th>3</th>\n",
       "      <td>G1107_12_SV_T1</td>\n",
       "      <td>2007-11-19 13:42:33</td>\n",
       "      <td>-78.958196</td>\n",
       "      <td>-8.567769</td>\n",
       "      <td>0.0</td>\n",
       "      <td>0</td>\n",
       "      <td>9.340164</td>\n",
       "      <td>10.728200</td>\n",
       "      <td>1.916609</td>\n",
       "      <td>2.289293</td>\n",
       "      <td>0.464307</td>\n",
       "      <td>0.982521</td>\n",
       "      <td>0.186150</td>\n",
       "    </tr>\n",
       "    <tr>\n",
       "      <th>4</th>\n",
       "      <td>G1107_12_SV_T1</td>\n",
       "      <td>2007-11-19 13:42:38</td>\n",
       "      <td>-78.958359</td>\n",
       "      <td>-8.568248</td>\n",
       "      <td>0.0</td>\n",
       "      <td>0</td>\n",
       "      <td>11.251253</td>\n",
       "      <td>6.351008</td>\n",
       "      <td>1.915217</td>\n",
       "      <td>2.284353</td>\n",
       "      <td>0.559533</td>\n",
       "      <td>0.993863</td>\n",
       "      <td>0.110619</td>\n",
       "    </tr>\n",
       "    <tr>\n",
       "      <th>5</th>\n",
       "      <td>G1107_12_SV_T1</td>\n",
       "      <td>2007-11-19 13:42:43</td>\n",
       "      <td>-78.958489</td>\n",
       "      <td>-8.568707</td>\n",
       "      <td>0.0</td>\n",
       "      <td>0</td>\n",
       "      <td>10.611651</td>\n",
       "      <td>-2.952198</td>\n",
       "      <td>1.914107</td>\n",
       "      <td>2.279619</td>\n",
       "      <td>0.527663</td>\n",
       "      <td>0.998673</td>\n",
       "      <td>-0.051503</td>\n",
       "    </tr>\n",
       "    <tr>\n",
       "      <th>6</th>\n",
       "      <td>G1107_12_SV_T1</td>\n",
       "      <td>2007-11-19 13:42:48</td>\n",
       "      <td>-78.958627</td>\n",
       "      <td>-8.569070</td>\n",
       "      <td>0.0</td>\n",
       "      <td>0</td>\n",
       "      <td>8.633423</td>\n",
       "      <td>4.956724</td>\n",
       "      <td>1.912928</td>\n",
       "      <td>2.275875</td>\n",
       "      <td>0.429091</td>\n",
       "      <td>0.996260</td>\n",
       "      <td>0.086403</td>\n",
       "    </tr>\n",
       "    <tr>\n",
       "      <th>...</th>\n",
       "      <td>...</td>\n",
       "      <td>...</td>\n",
       "      <td>...</td>\n",
       "      <td>...</td>\n",
       "      <td>...</td>\n",
       "      <td>...</td>\n",
       "      <td>...</td>\n",
       "      <td>...</td>\n",
       "      <td>...</td>\n",
       "      <td>...</td>\n",
       "      <td>...</td>\n",
       "      <td>...</td>\n",
       "      <td>...</td>\n",
       "    </tr>\n",
       "    <tr>\n",
       "      <th>53434</th>\n",
       "      <td>G1107_9_SV_T1</td>\n",
       "      <td>2007-11-18 17:41:44</td>\n",
       "      <td>-78.965941</td>\n",
       "      <td>-8.567722</td>\n",
       "      <td>0.0</td>\n",
       "      <td>0</td>\n",
       "      <td>9.524216</td>\n",
       "      <td>28.485340</td>\n",
       "      <td>-1.557992</td>\n",
       "      <td>2.058812</td>\n",
       "      <td>0.394356</td>\n",
       "      <td>0.878939</td>\n",
       "      <td>0.476934</td>\n",
       "    </tr>\n",
       "    <tr>\n",
       "      <th>53435</th>\n",
       "      <td>G1107_9_SV_T1</td>\n",
       "      <td>2007-11-18 17:41:49</td>\n",
       "      <td>-78.965598</td>\n",
       "      <td>-8.567170</td>\n",
       "      <td>0.0</td>\n",
       "      <td>0</td>\n",
       "      <td>14.423293</td>\n",
       "      <td>-73.885990</td>\n",
       "      <td>-1.552501</td>\n",
       "      <td>2.063090</td>\n",
       "      <td>0.598714</td>\n",
       "      <td>0.277550</td>\n",
       "      <td>-0.960711</td>\n",
       "    </tr>\n",
       "    <tr>\n",
       "      <th>53436</th>\n",
       "      <td>G1107_9_SV_T1</td>\n",
       "      <td>2007-11-18 17:41:54</td>\n",
       "      <td>-78.965450</td>\n",
       "      <td>-8.566270</td>\n",
       "      <td>0.0</td>\n",
       "      <td>0</td>\n",
       "      <td>20.299387</td>\n",
       "      <td>-22.332355</td>\n",
       "      <td>-1.550132</td>\n",
       "      <td>2.070065</td>\n",
       "      <td>0.843827</td>\n",
       "      <td>0.924995</td>\n",
       "      <td>-0.379979</td>\n",
       "    </tr>\n",
       "    <tr>\n",
       "      <th>53437</th>\n",
       "      <td>G1107_9_SV_T1</td>\n",
       "      <td>2007-11-18 17:41:59</td>\n",
       "      <td>-78.965760</td>\n",
       "      <td>-8.565544</td>\n",
       "      <td>0.0</td>\n",
       "      <td>0</td>\n",
       "      <td>17.544234</td>\n",
       "      <td>-32.127179</td>\n",
       "      <td>-1.555095</td>\n",
       "      <td>2.075691</td>\n",
       "      <td>0.728900</td>\n",
       "      <td>0.846870</td>\n",
       "      <td>-0.531800</td>\n",
       "    </tr>\n",
       "    <tr>\n",
       "      <th>53438</th>\n",
       "      <td>G1107_9_SV_T1</td>\n",
       "      <td>2007-11-18 17:42:04</td>\n",
       "      <td>-78.966089</td>\n",
       "      <td>-8.565800</td>\n",
       "      <td>0.0</td>\n",
       "      <td>0</td>\n",
       "      <td>9.216116</td>\n",
       "      <td>-105.307816</td>\n",
       "      <td>-1.560361</td>\n",
       "      <td>2.073707</td>\n",
       "      <td>0.381504</td>\n",
       "      <td>-0.264005</td>\n",
       "      <td>-0.964521</td>\n",
       "    </tr>\n",
       "  </tbody>\n",
       "</table>\n",
       "<p>53389 rows × 13 columns</p>\n",
       "</div>"
      ],
      "text/plain": [
       "                 trip             datetime        lon       lat  gaps  dive  \\\n",
       "2      G1107_12_SV_T1  2007-11-19 13:42:28 -78.958106 -8.567359   0.0     0   \n",
       "3      G1107_12_SV_T1  2007-11-19 13:42:33 -78.958196 -8.567769   0.0     0   \n",
       "4      G1107_12_SV_T1  2007-11-19 13:42:38 -78.958359 -8.568248   0.0     0   \n",
       "5      G1107_12_SV_T1  2007-11-19 13:42:43 -78.958489 -8.568707   0.0     0   \n",
       "6      G1107_12_SV_T1  2007-11-19 13:42:48 -78.958627 -8.569070   0.0     0   \n",
       "...               ...                  ...        ...       ...   ...   ...   \n",
       "53434   G1107_9_SV_T1  2007-11-18 17:41:44 -78.965941 -8.567722   0.0     0   \n",
       "53435   G1107_9_SV_T1  2007-11-18 17:41:49 -78.965598 -8.567170   0.0     0   \n",
       "53436   G1107_9_SV_T1  2007-11-18 17:41:54 -78.965450 -8.566270   0.0     0   \n",
       "53437   G1107_9_SV_T1  2007-11-18 17:41:59 -78.965760 -8.565544   0.0     0   \n",
       "53438   G1107_9_SV_T1  2007-11-18 17:42:04 -78.966089 -8.565800   0.0     0   \n",
       "\n",
       "       step_speed  step_direction   lon_std   lat_std  step_speed_std  \\\n",
       "2        8.306816       14.473134  1.917377  2.293521        0.412817   \n",
       "3        9.340164       10.728200  1.916609  2.289293        0.464307   \n",
       "4       11.251253        6.351008  1.915217  2.284353        0.559533   \n",
       "5       10.611651       -2.952198  1.914107  2.279619        0.527663   \n",
       "6        8.633423        4.956724  1.912928  2.275875        0.429091   \n",
       "...           ...             ...       ...       ...             ...   \n",
       "53434    9.524216       28.485340 -1.557992  2.058812        0.394356   \n",
       "53435   14.423293      -73.885990 -1.552501  2.063090        0.598714   \n",
       "53436   20.299387      -22.332355 -1.550132  2.070065        0.843827   \n",
       "53437   17.544234      -32.127179 -1.555095  2.075691        0.728900   \n",
       "53438    9.216116     -105.307816 -1.560361  2.073707        0.381504   \n",
       "\n",
       "       step_direction_cos  step_direction_sin  \n",
       "2                0.968265            0.249926  \n",
       "3                0.982521            0.186150  \n",
       "4                0.993863            0.110619  \n",
       "5                0.998673           -0.051503  \n",
       "6                0.996260            0.086403  \n",
       "...                   ...                 ...  \n",
       "53434            0.878939            0.476934  \n",
       "53435            0.277550           -0.960711  \n",
       "53436            0.924995           -0.379979  \n",
       "53437            0.846870           -0.531800  \n",
       "53438           -0.264005           -0.964521  \n",
       "\n",
       "[53389 rows x 13 columns]"
      ]
     },
     "execution_count": 3,
     "metadata": {},
     "output_type": "execute_result"
    }
   ],
   "source": [
    "resolution = 5\n",
    "data_test_new = change_resolution(data_test, resolution)\n",
    "data_test_new = standardize_data(data_test_new)\n",
    "\n",
    "data_test_new"
   ]
  },
  {
   "cell_type": "markdown",
   "metadata": {},
   "source": [
    "## Empirical parameters "
   ]
  },
  {
   "cell_type": "code",
   "execution_count": 4,
   "metadata": {},
   "outputs": [],
   "source": [
    "## compute distance matrixes\n",
    "list_trip = []\n",
    "for i in data_test_new.trip.unique():\n",
    "    t = data_test_new[data_test_new.trip == i]\n",
    "    \n",
    "    trip = Trip(t)\n",
    "    trip.compute_dist_matrix()\n",
    "    list_trip.append(trip)"
   ]
  },
  {
   "cell_type": "code",
   "execution_count": 5,
   "metadata": {},
   "outputs": [],
   "source": [
    "## compute first time passage\n",
    "radius = 500\n",
    "\n",
    "list_ftp = []\n",
    "for trip in list_trip:\n",
    "    ftp = trip.first_time_passage(radius)\n",
    "    ftp = ftp/max(ftp)\n",
    "    ftp[ftp < 1e-5] = 1e-5\n",
    "    ftp[ftp > 1-1e-5] = 1-1e-5\n",
    "    \n",
    "    list_ftp.append(ftp)"
   ]
  },
  {
   "cell_type": "code",
   "execution_count": 6,
   "metadata": {
    "scrolled": true
   },
   "outputs": [
    {
     "data": {
      "text/plain": [
       "[<matplotlib.lines.Line2D at 0x7f5fc2173e90>]"
      ]
     },
     "execution_count": 6,
     "metadata": {},
     "output_type": "execute_result"
    },
    {
     "data": {
      "image/png": "[encoded data removed]",
      "text/plain": [
       "<Figure size 1080x360 with 2 Axes>"
      ]
     },
     "metadata": {
      "needs_background": "light"
     },
     "output_type": "display_data"
    }
   ],
   "source": [
    "time_threshold = 0.75\n",
    "\n",
    "i = 0\n",
    "\n",
    "trip = list_trip[i]\n",
    "ftp = list_ftp[i]\n",
    "\n",
    "plt.figure(figsize = (15, 5))\n",
    "plt.subplot(1,2,1)\n",
    "plt.plot(np.array(trip.df.lon), np.array(trip.df.lat))\n",
    "plt.scatter(trip.df.lon.values[ftp>time_threshold], \\\n",
    "            trip.df.lat.values[ftp>time_threshold], c = 'orange')\n",
    "\n",
    "plt.subplot(1,2,2)\n",
    "plt.plot(ftp)\n",
    "plt.plot(time_threshold*np.ones(len(ftp)), c = 'orange')"
   ]
  },
  {
   "cell_type": "code",
   "execution_count": 7,
   "metadata": {},
   "outputs": [],
   "source": [
    "data_test_new['prediction'] = np.hstack(list_ftp)\n",
    "data_test_new.to_csv('./../results/SV_ftp_GNP.csv', index = False)"
   ]
  },
  {
   "cell_type": "markdown",
   "metadata": {},
   "source": [
    "## compute loss"
   ]
  },
  {
   "cell_type": "code",
   "execution_count": 8,
   "metadata": {},
   "outputs": [],
   "source": [
    "def loss(x, y, weight):\n",
    "    return np.mean(-(weight*y*np.log(x) + (1-y)*np.log(1-x)))"
   ]
  },
  {
   "cell_type": "code",
   "execution_count": 9,
   "metadata": {},
   "outputs": [
    {
     "data": {
      "text/plain": [
       "0.8154037059408044"
      ]
     },
     "execution_count": 9,
     "metadata": {},
     "output_type": "execute_result"
    }
   ],
   "source": [
    "loss(data_test_new.prediction, data_test_new.dive, 30)"
   ]
  },
  {
   "cell_type": "code",
   "execution_count": null,
   "metadata": {},
   "outputs": [],
   "source": []
  }
 ],
 "metadata": {
  "kernelspec": {
   "display_name": "Python 3",
   "language": "python",
   "name": "python3"
  },
  "language_info": {
   "codemirror_mode": {
    "name": "ipython",
    "version": 3
   },
   "file_extension": ".py",
   "mimetype": "text/x-python",
   "name": "python",
   "nbconvert_exporter": "python",
   "pygments_lexer": "ipython3",
   "version": "3.7.4"
  }
 },
 "nbformat": 4,
 "nbformat_minor": 2
}
