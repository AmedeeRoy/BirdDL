{
 "cells": [
  {
   "cell_type": "markdown",
   "metadata": {},
   "source": [
    "# Dive Prediction - Data\n",
    "\n",
    "*Predicting Seabird Diving Behaviour from GPS data*\n",
    "\n",
    "This notebook prepares and formats a dataset of **74 foraging trips of seabirds** (*Sula Variegata*) with both GPS and Time Depth Recorder (TDR) tracking data. Data has been collected on **Ilha Pescadores, Peru** between 2009 and 2013.\n",
    "\n",
    "More precisely, data have been prepared and selected as follow:\n",
    "\n",
    "* Trajectories with raw temporal sampling at 1s only\n",
    "* Gaps have been interpolated linearly (yet there are shorter than 10s)\n",
    "* Maximal step speed is inferior to 50 m.s-1\n",
    "* Birds never stay static longer than 10 minutes\n",
    "* Number of dive in each trajectory is within the following range 1-99"
   ]
  },
  {
   "cell_type": "code",
   "execution_count": 1,
   "metadata": {},
   "outputs": [],
   "source": [
    "import sqlite3\n",
    "import pandas as pd\n",
    "import numpy as np\n",
    "import matplotlib.pyplot as plt\n",
    "from utils.trip import * "
   ]
  },
  {
   "cell_type": "code",
   "execution_count": 2,
   "metadata": {},
   "outputs": [],
   "source": [
    " np.random.seed(1)"
   ]
  },
  {
   "cell_type": "markdown",
   "metadata": {},
   "source": [
    "## load raw data "
   ]
  },
  {
   "cell_type": "code",
   "execution_count": 3,
   "metadata": {},
   "outputs": [],
   "source": [
    "# connect to database\n",
    "conn = sqlite3.connect('/home/amdroy/MEGA/DATA/seabirdbank.db')"
   ]
  },
  {
   "cell_type": "code",
   "execution_count": 5,
   "metadata": {},
   "outputs": [
    {
     "data": {
      "text/html": [
       "<div>\n",
       "<style scoped>\n",
       "    .dataframe tbody tr th:only-of-type {\n",
       "        vertical-align: middle;\n",
       "    }\n",
       "\n",
       "    .dataframe tbody tr th {\n",
       "        vertical-align: top;\n",
       "    }\n",
       "\n",
       "    .dataframe thead th {\n",
       "        text-align: right;\n",
       "    }\n",
       "</style>\n",
       "<table border=\"1\" class=\"dataframe\">\n",
       "  <thead>\n",
       "    <tr style=\"text-align: right;\">\n",
       "      <th></th>\n",
       "      <th>trip</th>\n",
       "      <th>datetime</th>\n",
       "      <th>lon</th>\n",
       "      <th>lat</th>\n",
       "      <th>pressure</th>\n",
       "      <th>fastlog</th>\n",
       "      <th>gaps</th>\n",
       "      <th>step_speed</th>\n",
       "      <th>step_direction</th>\n",
       "      <th>dive</th>\n",
       "    </tr>\n",
       "  </thead>\n",
       "  <tbody>\n",
       "    <tr>\n",
       "      <th>0</th>\n",
       "      <td>P1108_55_LB_T1</td>\n",
       "      <td>2008-11-25 13:47:46</td>\n",
       "      <td>-77.275330</td>\n",
       "      <td>-11.759353</td>\n",
       "      <td>-0.13</td>\n",
       "      <td>False</td>\n",
       "      <td>False</td>\n",
       "      <td>NaN</td>\n",
       "      <td>NaN</td>\n",
       "      <td>0</td>\n",
       "    </tr>\n",
       "    <tr>\n",
       "      <th>1</th>\n",
       "      <td>P1108_55_LB_T1</td>\n",
       "      <td>2008-11-25 13:47:47</td>\n",
       "      <td>-77.275333</td>\n",
       "      <td>-11.759297</td>\n",
       "      <td>-0.13</td>\n",
       "      <td>False</td>\n",
       "      <td>False</td>\n",
       "      <td>6.310532</td>\n",
       "      <td>NaN</td>\n",
       "      <td>0</td>\n",
       "    </tr>\n",
       "    <tr>\n",
       "      <th>2</th>\n",
       "      <td>P1108_55_LB_T1</td>\n",
       "      <td>2008-11-25 13:47:48</td>\n",
       "      <td>-77.275345</td>\n",
       "      <td>-11.759220</td>\n",
       "      <td>-0.04</td>\n",
       "      <td>False</td>\n",
       "      <td>False</td>\n",
       "      <td>8.632336</td>\n",
       "      <td>-5.226917</td>\n",
       "      <td>0</td>\n",
       "    </tr>\n",
       "    <tr>\n",
       "      <th>3</th>\n",
       "      <td>P1108_55_LB_T1</td>\n",
       "      <td>2008-11-25 13:47:49</td>\n",
       "      <td>-77.275360</td>\n",
       "      <td>-11.759138</td>\n",
       "      <td>-0.07</td>\n",
       "      <td>False</td>\n",
       "      <td>False</td>\n",
       "      <td>9.239958</td>\n",
       "      <td>-1.696009</td>\n",
       "      <td>0</td>\n",
       "    </tr>\n",
       "    <tr>\n",
       "      <th>4</th>\n",
       "      <td>P1108_55_LB_T1</td>\n",
       "      <td>2008-11-25 13:47:50</td>\n",
       "      <td>-77.275382</td>\n",
       "      <td>-11.759052</td>\n",
       "      <td>-0.04</td>\n",
       "      <td>False</td>\n",
       "      <td>False</td>\n",
       "      <td>9.925472</td>\n",
       "      <td>-3.593677</td>\n",
       "      <td>0</td>\n",
       "    </tr>\n",
       "    <tr>\n",
       "      <th>...</th>\n",
       "      <td>...</td>\n",
       "      <td>...</td>\n",
       "      <td>...</td>\n",
       "      <td>...</td>\n",
       "      <td>...</td>\n",
       "      <td>...</td>\n",
       "      <td>...</td>\n",
       "      <td>...</td>\n",
       "      <td>...</td>\n",
       "      <td>...</td>\n",
       "    </tr>\n",
       "    <tr>\n",
       "      <th>1242597</th>\n",
       "      <td>P1113_9_LB_T2</td>\n",
       "      <td>2013-11-15 16:37:39</td>\n",
       "      <td>-77.264040</td>\n",
       "      <td>-11.774440</td>\n",
       "      <td>1.25</td>\n",
       "      <td>False</td>\n",
       "      <td>False</td>\n",
       "      <td>7.704756</td>\n",
       "      <td>40.354250</td>\n",
       "      <td>0</td>\n",
       "    </tr>\n",
       "    <tr>\n",
       "      <th>1242598</th>\n",
       "      <td>P1113_9_LB_T2</td>\n",
       "      <td>2013-11-15 16:37:40</td>\n",
       "      <td>-77.264080</td>\n",
       "      <td>-11.774470</td>\n",
       "      <td>1.25</td>\n",
       "      <td>False</td>\n",
       "      <td>False</td>\n",
       "      <td>5.962112</td>\n",
       "      <td>-2.406246</td>\n",
       "      <td>0</td>\n",
       "    </tr>\n",
       "    <tr>\n",
       "      <th>1242599</th>\n",
       "      <td>P1113_9_LB_T2</td>\n",
       "      <td>2013-11-15 16:37:41</td>\n",
       "      <td>-77.264130</td>\n",
       "      <td>-11.774490</td>\n",
       "      <td>1.25</td>\n",
       "      <td>False</td>\n",
       "      <td>False</td>\n",
       "      <td>5.484760</td>\n",
       "      <td>8.833600</td>\n",
       "      <td>0</td>\n",
       "    </tr>\n",
       "    <tr>\n",
       "      <th>1242600</th>\n",
       "      <td>P1113_9_LB_T2</td>\n",
       "      <td>2013-11-15 16:37:42</td>\n",
       "      <td>-77.264170</td>\n",
       "      <td>-11.774510</td>\n",
       "      <td>1.31</td>\n",
       "      <td>False</td>\n",
       "      <td>False</td>\n",
       "      <td>4.755096</td>\n",
       "      <td>-5.497819</td>\n",
       "      <td>0</td>\n",
       "    </tr>\n",
       "    <tr>\n",
       "      <th>1242601</th>\n",
       "      <td>P1113_9_LB_T2</td>\n",
       "      <td>2013-11-15 16:37:43</td>\n",
       "      <td>-77.264200</td>\n",
       "      <td>-11.774520</td>\n",
       "      <td>1.31</td>\n",
       "      <td>False</td>\n",
       "      <td>False</td>\n",
       "      <td>3.419161</td>\n",
       "      <td>12.407560</td>\n",
       "      <td>0</td>\n",
       "    </tr>\n",
       "  </tbody>\n",
       "</table>\n",
       "<p>1242602 rows × 10 columns</p>\n",
       "</div>"
      ],
      "text/plain": [
       "                   trip            datetime        lon        lat  pressure  \\\n",
       "0        P1108_55_LB_T1 2008-11-25 13:47:46 -77.275330 -11.759353     -0.13   \n",
       "1        P1108_55_LB_T1 2008-11-25 13:47:47 -77.275333 -11.759297     -0.13   \n",
       "2        P1108_55_LB_T1 2008-11-25 13:47:48 -77.275345 -11.759220     -0.04   \n",
       "3        P1108_55_LB_T1 2008-11-25 13:47:49 -77.275360 -11.759138     -0.07   \n",
       "4        P1108_55_LB_T1 2008-11-25 13:47:50 -77.275382 -11.759052     -0.04   \n",
       "...                 ...                 ...        ...        ...       ...   \n",
       "1242597   P1113_9_LB_T2 2013-11-15 16:37:39 -77.264040 -11.774440      1.25   \n",
       "1242598   P1113_9_LB_T2 2013-11-15 16:37:40 -77.264080 -11.774470      1.25   \n",
       "1242599   P1113_9_LB_T2 2013-11-15 16:37:41 -77.264130 -11.774490      1.25   \n",
       "1242600   P1113_9_LB_T2 2013-11-15 16:37:42 -77.264170 -11.774510      1.31   \n",
       "1242601   P1113_9_LB_T2 2013-11-15 16:37:43 -77.264200 -11.774520      1.31   \n",
       "\n",
       "         fastlog   gaps  step_speed  step_direction  dive  \n",
       "0          False  False         NaN             NaN     0  \n",
       "1          False  False    6.310532             NaN     0  \n",
       "2          False  False    8.632336       -5.226917     0  \n",
       "3          False  False    9.239958       -1.696009     0  \n",
       "4          False  False    9.925472       -3.593677     0  \n",
       "...          ...    ...         ...             ...   ...  \n",
       "1242597    False  False    7.704756       40.354250     0  \n",
       "1242598    False  False    5.962112       -2.406246     0  \n",
       "1242599    False  False    5.484760        8.833600     0  \n",
       "1242600    False  False    4.755096       -5.497819     0  \n",
       "1242601    False  False    3.419161       12.407560     0  \n",
       "\n",
       "[1242602 rows x 10 columns]"
      ]
     },
     "execution_count": 5,
     "metadata": {},
     "output_type": "execute_result"
    }
   ],
   "source": [
    "request = \"SELECT trip, datetime, lon, lat, pressure, fastlog, gaps, step_speed, step_direction FROM dive \\\n",
    "            INNER JOIN trip ON dive.trip = trip.id \\\n",
    "            INNER JOIN bird ON trip.bird = bird.id \\\n",
    "            WHERE bird.species = 'LB' \\\n",
    "            ORDER BY trip, datetime\"\n",
    "\n",
    "data = pd.read_sql_query(request, conn)\n",
    "data['datetime'] = pd.to_datetime(data['datetime'], format='%Y-%m-%d %H:%M:%S')\n",
    "data['dive'] = 0\n",
    "\n",
    "# convert to boolean\n",
    "data['gaps'] = (data['gaps']=='TRUE')\n",
    "data['fastlog'] = (data['fastlog']=='TRUE')\n",
    "\n",
    "data"
   ]
  },
  {
   "cell_type": "code",
   "execution_count": null,
   "metadata": {},
   "outputs": [],
   "source": [
    "for "
   ]
  },
  {
   "cell_type": "markdown",
   "metadata": {},
   "source": [
    "## filter data"
   ]
  },
  {
   "cell_type": "code",
   "execution_count": null,
   "metadata": {},
   "outputs": [],
   "source": [
    "check = pd.read_csv(\"/home/amdroy/MEGA/DATA/FORMAT/dive_check.csv\", sep = ';')\n",
    "check = check[check.trip.isin(data.trip)]\n",
    "check"
   ]
  },
  {
   "cell_type": "code",
   "execution_count": null,
   "metadata": {
    "scrolled": true
   },
   "outputs": [],
   "source": [
    "# SV\n",
    "list_ok = check.trip[(check.res_sampling_gps == 1) & (check.gap_sampling_tdr == 0) & \n",
    "                     (check.nb_dive > 0) & (check.stop < 600)]\n",
    "data = data[data.trip.isin(list_ok)]\n",
    "data"
   ]
  },
  {
   "cell_type": "code",
   "execution_count": null,
   "metadata": {},
   "outputs": [],
   "source": [
    "# ## LB\n",
    "# list_ok = check.trip[(check.gap_sampling_tdr == 0) &\n",
    "#                      (check.res_sampling_gps == 1) & \n",
    "#                      (check.nb_sampling_tdr > 1000) &\n",
    "#                      (check.stop < 3000)]\n",
    "# data = data[data.trip.isin(list_ok)]\n",
    "# data"
   ]
  },
  {
   "cell_type": "code",
   "execution_count": null,
   "metadata": {},
   "outputs": [],
   "source": [
    "# # SD\n",
    "# list_ok = check.trip[(check.res_sampling_gps == 15) &(check.nb_dive > 0) & (check.res_sampling_gps <= 15)]\n",
    "# data = data[data.trip.isin(list_ok)]\n",
    "# data"
   ]
  },
  {
   "cell_type": "code",
   "execution_count": null,
   "metadata": {},
   "outputs": [],
   "source": [
    "# # SS\n",
    "# list_ok = check.trip[(check.res_sampling_gps == 15) & (check.longest_gap < 100) & (check.nb_fastlog_event > 5)]\n",
    "# data = data[data.trip.isin(list_ok)]\n",
    "# data"
   ]
  },
  {
   "cell_type": "code",
   "execution_count": null,
   "metadata": {},
   "outputs": [],
   "source": [
    "trip_duration = []\n",
    "trip_dives = []"
   ]
  },
  {
   "cell_type": "code",
   "execution_count": null,
   "metadata": {
    "scrolled": true
   },
   "outputs": [],
   "source": [
    "for i in data.trip.unique():\n",
    "    t = data[data.trip == i]\n",
    "    \n",
    "    # compute dives\n",
    "    trip = Trip(t)\n",
    "    trip.add_dive(2)\n",
    "    \n",
    "#     trip.df['dive'] = 1*trip.df['fastlog']\n",
    "    \n",
    "    trip_duration.append(trip.get_duration().total_seconds()/60)\n",
    "    trip_dives.append(sum(trip.df.dive))\n",
    "    \n",
    "    # fill dive in main table\n",
    "    data = data.copy()\n",
    "    data.loc[data.trip == i, 'dive'] = trip.df.dive.values\n",
    "    \n",
    "#     # plot individual and global plots\n",
    "#     trip.plot('./data/SS/'+ str(i)+'.png')\n",
    "#     plt.plot(np.array(t.lon), np.array(t.lat))\n",
    "    \n",
    "print('Total nb of trips: '+ str(len(data.trip.unique())))"
   ]
  },
  {
   "cell_type": "code",
   "execution_count": null,
   "metadata": {
    "scrolled": true
   },
   "outputs": [],
   "source": [
    "sum(data.dive)/len(data)"
   ]
  },
  {
   "cell_type": "code",
   "execution_count": null,
   "metadata": {},
   "outputs": [],
   "source": [
    "np.std(trip_dives)"
   ]
  },
  {
   "cell_type": "code",
   "execution_count": null,
   "metadata": {},
   "outputs": [],
   "source": [
    "# data.to_csv('./data/SS_all.csv', index = False)"
   ]
  },
  {
   "cell_type": "markdown",
   "metadata": {},
   "source": [
    "## split to train, validation, test dataset"
   ]
  },
  {
   "cell_type": "code",
   "execution_count": null,
   "metadata": {},
   "outputs": [],
   "source": [
    "data_guanape = data[data.trip.str[:1]=='G']\n",
    "data = data[data.trip.str[:1]=='P']"
   ]
  },
  {
   "cell_type": "code",
   "execution_count": null,
   "metadata": {},
   "outputs": [],
   "source": [
    "data_guanape.to_csv('./data/SV_test_guanape.csv', index = False)"
   ]
  },
  {
   "cell_type": "code",
   "execution_count": null,
   "metadata": {},
   "outputs": [],
   "source": [
    "trajs = data.trip.unique()\n",
    "np.random.shuffle(trajs)\n",
    "trajs"
   ]
  },
  {
   "cell_type": "code",
   "execution_count": null,
   "metadata": {},
   "outputs": [],
   "source": [
    "nb_train = round(0.7 * len(data.trip.unique()))\n",
    "nb_validation = round(0.2 * len(data.trip.unique()))\n",
    "nb_test = round(0.1 * len(data.trip.unique()))"
   ]
  },
  {
   "cell_type": "code",
   "execution_count": null,
   "metadata": {},
   "outputs": [],
   "source": [
    "train_trajs = trajs[0:nb_train]\n",
    "validation_trajs = trajs[nb_train:(nb_train+nb_validation)]\n",
    "test_trajs = trajs[(nb_train+nb_validation):(nb_train+nb_validation+nb_test)]"
   ]
  },
  {
   "cell_type": "code",
   "execution_count": null,
   "metadata": {},
   "outputs": [],
   "source": [
    "data_train = data[data.trip.isin(train_trajs)]\n",
    "data_validation = data[data.trip.isin(validation_trajs)]\n",
    "data_test = data[data.trip.isin(test_trajs)]"
   ]
  },
  {
   "cell_type": "code",
   "execution_count": null,
   "metadata": {},
   "outputs": [],
   "source": [
    "data_train.to_csv('./data/SV_train.csv', index = False)\n",
    "data_validation.to_csv('./data/SV_validation.csv', index = False)\n",
    "data_test.to_csv('./data/SV_test.csv', index = False)"
   ]
  },
  {
   "cell_type": "code",
   "execution_count": null,
   "metadata": {},
   "outputs": [],
   "source": [
    "(nb_train, nb_validation, nb_test)"
   ]
  },
  {
   "cell_type": "code",
   "execution_count": null,
   "metadata": {},
   "outputs": [],
   "source": []
  }
 ],
 "metadata": {
  "kernelspec": {
   "display_name": "Python 3",
   "language": "python",
   "name": "python3"
  },
  "language_info": {
   "codemirror_mode": {
    "name": "ipython",
    "version": 3
   },
   "file_extension": ".py",
   "mimetype": "text/x-python",
   "name": "python",
   "nbconvert_exporter": "python",
   "pygments_lexer": "ipython3",
   "version": "3.7.4"
  }
 },
 "nbformat": 4,
 "nbformat_minor": 2
}
