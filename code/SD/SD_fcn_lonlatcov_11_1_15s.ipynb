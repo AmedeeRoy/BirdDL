{
  "nbformat": 4,
  "nbformat_minor": 0,
  "metadata": {
    "colab": {
      "name": "SD_fcn_lonlatcov_11_1_15s.ipynb",
      "provenance": [],
      "collapsed_sections": [],
      "include_colab_link": true
    },
    "kernelspec": {
      "display_name": "Python 3",
      "language": "python",
      "name": "python3"
    },
    "language_info": {
      "codemirror_mode": {
        "name": "ipython",
        "version": 3
      },
      "file_extension": ".py",
      "mimetype": "text/x-python",
      "name": "python",
      "nbconvert_exporter": "python",
      "pygments_lexer": "ipython3",
      "version": "3.7.4"
    }
  },
  "cells": [
    {
      "cell_type": "markdown",
      "metadata": {
        "id": "view-in-github",
        "colab_type": "text"
      },
      "source": [
        "<a href=\"https://colab.research.google.com/github/AmedeeRoy/BirdDL/blob/main/code/SD/SD_fcn_lonlatcov_11_1_15s.ipynb\" target=\"_parent\"><img src=\"https://colab.research.google.com/assets/colab-badge.svg\" alt=\"Open In Colab\"/></a>"
      ]
    },
    {
      "cell_type": "markdown",
      "metadata": {
        "id": "xHKlfJYNUql2"
      },
      "source": [
        "# Dive Prediction - Deep Network\n",
        "\n",
        "*Predicting Seabird Diving Behaviour from GPS data*\n",
        "\n",
        "This notebook trains a neural network to predict seabirds' dives.\n",
        "\n",
        "Networks' characteristics:\n",
        "\n",
        "* *Trajectory window* : 60 x 5s\n",
        "* *Output resolution*: 60 x 5s\n",
        "* *Representation of trajectories* : Matrix Distance and Time series\n",
        "* *Layers* : convolutions"
      ]
    },
    {
      "cell_type": "markdown",
      "metadata": {
        "id": "ZnyCcV-VUql6"
      },
      "source": [
        "## connect to drive"
      ]
    },
    {
      "cell_type": "code",
      "metadata": {
        "colab": {
          "base_uri": "https://localhost:8080/"
        },
        "id": "7WjmxeBQUql-",
        "outputId": "12f3ec9e-69b6-4ae9-9bf1-e4e590458c7b"
      },
      "source": [
        "# mount google drive\n",
        "from google.colab import drive\n",
        "drive.mount(\"/content/drive/\")"
      ],
      "execution_count": 78,
      "outputs": [
        {
          "output_type": "stream",
          "text": [
            "Drive already mounted at /content/drive/; to attempt to forcibly remount, call drive.mount(\"/content/drive/\", force_remount=True).\n"
          ],
          "name": "stdout"
        }
      ]
    },
    {
      "cell_type": "code",
      "metadata": {
        "colab": {
          "base_uri": "https://localhost:8080/"
        },
        "id": "Gm2W78-QUqmD",
        "outputId": "d6a91de5-a89b-413b-da32-1bb500763bd4"
      },
      "source": [
        "%cd drive/My\\ Drive/"
      ],
      "execution_count": 79,
      "outputs": [
        {
          "output_type": "stream",
          "text": [
            "[Errno 2] No such file or directory: 'drive/My Drive/'\n",
            "/content/drive/My Drive\n"
          ],
          "name": "stdout"
        }
      ]
    },
    {
      "cell_type": "markdown",
      "metadata": {
        "id": "YzY4TDhkUqmG"
      },
      "source": [
        "## load data"
      ]
    },
    {
      "cell_type": "code",
      "metadata": {
        "id": "k42qoGtMUqmI"
      },
      "source": [
        "import pandas as pd\n",
        "import numpy as np\n",
        "import matplotlib.pyplot as plt\n",
        "import pickle\n",
        "\n",
        "import torch\n",
        "from torch import nn\n",
        "from torch.utils.data import DataLoader, Dataset\n",
        "from torchvision import transforms\n",
        "\n",
        "from utils.trip import * "
      ],
      "execution_count": 80,
      "outputs": []
    },
    {
      "cell_type": "code",
      "metadata": {
        "id": "NRpOCU0xUqmK"
      },
      "source": [
        "data_train = pd.read_csv('./data/SD_train.csv')\n",
        "data_test = pd.read_csv('./data/SD_test.csv')"
      ],
      "execution_count": 81,
      "outputs": []
    },
    {
      "cell_type": "code",
      "metadata": {
        "colab": {
          "base_uri": "https://localhost:8080/",
          "height": 206
        },
        "id": "jiy_8SeRUqmM",
        "outputId": "db3ee402-612b-436b-ba3a-40fcfbe9030b"
      },
      "source": [
        "data_train = standardize_data(data_train)\n",
        "data_test = standardize_data(data_test)\n",
        "\n",
        "data_train.head()"
      ],
      "execution_count": 82,
      "outputs": [
        {
          "output_type": "execute_result",
          "data": {
            "text/html": [
              "<div>\n",
              "<style scoped>\n",
              "    .dataframe tbody tr th:only-of-type {\n",
              "        vertical-align: middle;\n",
              "    }\n",
              "\n",
              "    .dataframe tbody tr th {\n",
              "        vertical-align: top;\n",
              "    }\n",
              "\n",
              "    .dataframe thead th {\n",
              "        text-align: right;\n",
              "    }\n",
              "</style>\n",
              "<table border=\"1\" class=\"dataframe\">\n",
              "  <thead>\n",
              "    <tr style=\"text-align: right;\">\n",
              "      <th></th>\n",
              "      <th>datetime</th>\n",
              "      <th>trip</th>\n",
              "      <th>lon</th>\n",
              "      <th>lat</th>\n",
              "      <th>step_speed</th>\n",
              "      <th>step_direction</th>\n",
              "      <th>gaps</th>\n",
              "      <th>pressure</th>\n",
              "      <th>dive</th>\n",
              "      <th>lon_std</th>\n",
              "      <th>lat_std</th>\n",
              "      <th>step_speed_std</th>\n",
              "      <th>step_direction_cos</th>\n",
              "      <th>step_direction_sin</th>\n",
              "    </tr>\n",
              "  </thead>\n",
              "  <tbody>\n",
              "    <tr>\n",
              "      <th>0</th>\n",
              "      <td>2017-04-25 14:23:25</td>\n",
              "      <td>F0417_11_SD_T1</td>\n",
              "      <td>-32.388702</td>\n",
              "      <td>-3.816197</td>\n",
              "      <td>14.415879</td>\n",
              "      <td>-75.239695</td>\n",
              "      <td>0.0</td>\n",
              "      <td>-1.07</td>\n",
              "      <td>0</td>\n",
              "      <td>-2.059077</td>\n",
              "      <td>1.297701</td>\n",
              "      <td>0.705006</td>\n",
              "      <td>0.254776</td>\n",
              "      <td>-0.967000</td>\n",
              "    </tr>\n",
              "    <tr>\n",
              "      <th>1</th>\n",
              "      <td>2017-04-25 14:23:40</td>\n",
              "      <td>F0417_11_SD_T1</td>\n",
              "      <td>-32.387295</td>\n",
              "      <td>-3.815108</td>\n",
              "      <td>13.184866</td>\n",
              "      <td>39.620556</td>\n",
              "      <td>0.0</td>\n",
              "      <td>-1.07</td>\n",
              "      <td>0</td>\n",
              "      <td>-2.045569</td>\n",
              "      <td>1.320049</td>\n",
              "      <td>0.644804</td>\n",
              "      <td>0.770285</td>\n",
              "      <td>0.637700</td>\n",
              "    </tr>\n",
              "    <tr>\n",
              "      <th>2</th>\n",
              "      <td>2017-04-25 14:23:55</td>\n",
              "      <td>F0417_11_SD_T1</td>\n",
              "      <td>-32.386070</td>\n",
              "      <td>-3.814450</td>\n",
              "      <td>10.301176</td>\n",
              "      <td>9.505804</td>\n",
              "      <td>0.0</td>\n",
              "      <td>-1.07</td>\n",
              "      <td>0</td>\n",
              "      <td>-2.033807</td>\n",
              "      <td>1.333552</td>\n",
              "      <td>0.503777</td>\n",
              "      <td>0.986269</td>\n",
              "      <td>0.165148</td>\n",
              "    </tr>\n",
              "    <tr>\n",
              "      <th>3</th>\n",
              "      <td>2017-04-25 14:24:10</td>\n",
              "      <td>F0417_11_SD_T1</td>\n",
              "      <td>-32.384834</td>\n",
              "      <td>-3.814002</td>\n",
              "      <td>9.736954</td>\n",
              "      <td>8.330893</td>\n",
              "      <td>0.0</td>\n",
              "      <td>-1.13</td>\n",
              "      <td>0</td>\n",
              "      <td>-2.021940</td>\n",
              "      <td>1.342745</td>\n",
              "      <td>0.476184</td>\n",
              "      <td>0.989448</td>\n",
              "      <td>0.144890</td>\n",
              "    </tr>\n",
              "    <tr>\n",
              "      <th>4</th>\n",
              "      <td>2017-04-25 14:24:25</td>\n",
              "      <td>F0417_11_SD_T1</td>\n",
              "      <td>-32.382969</td>\n",
              "      <td>-3.813600</td>\n",
              "      <td>14.127733</td>\n",
              "      <td>7.774125</td>\n",
              "      <td>0.0</td>\n",
              "      <td>-1.13</td>\n",
              "      <td>0</td>\n",
              "      <td>-2.004034</td>\n",
              "      <td>1.350995</td>\n",
              "      <td>0.690914</td>\n",
              "      <td>0.990809</td>\n",
              "      <td>0.135268</td>\n",
              "    </tr>\n",
              "  </tbody>\n",
              "</table>\n",
              "</div>"
            ],
            "text/plain": [
              "              datetime            trip  ...  step_direction_cos  step_direction_sin\n",
              "0  2017-04-25 14:23:25  F0417_11_SD_T1  ...            0.254776           -0.967000\n",
              "1  2017-04-25 14:23:40  F0417_11_SD_T1  ...            0.770285            0.637700\n",
              "2  2017-04-25 14:23:55  F0417_11_SD_T1  ...            0.986269            0.165148\n",
              "3  2017-04-25 14:24:10  F0417_11_SD_T1  ...            0.989448            0.144890\n",
              "4  2017-04-25 14:24:25  F0417_11_SD_T1  ...            0.990809            0.135268\n",
              "\n",
              "[5 rows x 14 columns]"
            ]
          },
          "metadata": {
            "tags": []
          },
          "execution_count": 82
        }
      ]
    },
    {
      "cell_type": "markdown",
      "metadata": {
        "id": "VHR-9M7vUqmR"
      },
      "source": [
        "## No fine-tuning"
      ]
    },
    {
      "cell_type": "code",
      "metadata": {
        "id": "B5C2pE8HUqmS"
      },
      "source": [
        "# hyperparameters\n",
        "batch_size = 64\n",
        "window = 21\n",
        "variable = ('lon_std', 'lat_std', 'gaps')\n",
        "\n",
        "## reduce size dataset\n",
        "train_set = TrajDataSet(data_train, window, variable, transform = transforms.Compose([Center(), ToTensor()]))\n",
        "train_loader = DataLoader(train_set, batch_size=batch_size, num_workers = 0, shuffle = True, drop_last=True)"
      ],
      "execution_count": 83,
      "outputs": []
    },
    {
      "cell_type": "code",
      "metadata": {
        "id": "ZclykIDYUqmV"
      },
      "source": [
        "class FCNet(nn.Module):\n",
        "\n",
        "    def __init__(self):\n",
        "        super(FCNet, self).__init__()\n",
        "\n",
        "        self.cnn = nn.Sequential(\n",
        "            nn.Linear(3*21,100),\n",
        "            nn.ReLU(),\n",
        "            nn.Linear(100,500),\n",
        "            nn.ReLU(),\n",
        "            nn.Linear(500,500),\n",
        "            nn.ReLU(),\n",
        "            nn.Linear(500,500),\n",
        "            nn.ReLU(),\n",
        "            nn.Linear(500,1)\n",
        "        )\n",
        "\n",
        "    def forward(self, x):\n",
        "        out = x.reshape((x.size()[0], 1, 3*21))\n",
        "        out = self.cnn(out)\n",
        "        return out\n",
        "\n",
        "def get_score(out, y):\n",
        "    out, y = out.cpu(), y.cpu()\n",
        "    out = 1*(out>0)\n",
        "    true_positive = np.mean(out[y == True].numpy()) \n",
        "    true_negative = 1-np.mean(out[y == False].numpy())\n",
        "    \n",
        "    return (round(true_positive*100) , round(true_negative*100))"
      ],
      "execution_count": 84,
      "outputs": []
    },
    {
      "cell_type": "code",
      "metadata": {
        "id": "AJ2qTJlUUqmW"
      },
      "source": [
        "model = torch.load('./SV_fcn_lonlatcov_15s.pt')"
      ],
      "execution_count": 85,
      "outputs": []
    },
    {
      "cell_type": "code",
      "metadata": {
        "colab": {
          "base_uri": "https://localhost:8080/"
        },
        "id": "Ll5orrcdUqmX",
        "outputId": "02102044-64ab-4b33-aff7-aff8cf556162"
      },
      "source": [
        "dive_estim = []\n",
        "\n",
        "for i in data_test.trip.unique():\n",
        "    # create dataset for a trajectory\n",
        "    t = data_test[data_test.trip == i].copy()    \n",
        "    test_set = TrajDataSet(t, window, variable, transform = transforms.Compose([Center(), ToTensor()]))\n",
        "\n",
        "    model.eval()\n",
        "    estim = [0 for i in range(10)]\n",
        "    k = 0\n",
        "    with torch.no_grad():\n",
        "        for (x, y, z) in test_set:\n",
        "\n",
        "            # Run the forward pass\n",
        "            out = model(x)\n",
        "            estim.append(out.cpu().squeeze().numpy())\n",
        "\n",
        "    estim = estim + [0 for i in range(10)]\n",
        "    dive_estim.append(estim)\n",
        "    print(i)\n",
        "\n",
        "data_test['prediction_no'] = 1/(1+np.exp(-np.hstack(dive_estim)))"
      ],
      "execution_count": 86,
      "outputs": [
        {
          "output_type": "stream",
          "text": [
            "F0417_10_SD_T1\n",
            "F0417_16_SD_T1\n",
            "F0417_16_SD_T2\n",
            "F0417_17_SD_T1\n",
            "F0417_17_SD_T2\n",
            "F0417_24_SD_T2\n",
            "F0417_24_SD_T4\n",
            "F0417_5_SD_T1\n",
            "F0418_11_SD_T2\n",
            "F0418_11_SD_T3\n",
            "F0418_14_SD_T2\n",
            "F0418_23_SD_T1\n",
            "F0418_23_SD_T2\n",
            "F0418_24_SD_T1\n",
            "F0418_24_SD_T2\n",
            "F0418_25_SD_T2\n",
            "F0418_26_SD_T1\n",
            "F0418_30_SD_T3\n",
            "F0419_1_SD_T2\n",
            "F0419_1_SD_T3\n",
            "F0419_3_SD_T1\n",
            "F0419_3_SD_T5\n",
            "F0419_4_SD_T1\n",
            "F0419_7_SD_T1\n",
            "F0419_7_SD_T2\n",
            "F0419_8_SD_T1\n",
            "F0419_9_SD_T1\n",
            "F0419_9_SD_T3\n"
          ],
          "name": "stdout"
        }
      ]
    },
    {
      "cell_type": "code",
      "metadata": {
        "colab": {
          "base_uri": "https://localhost:8080/",
          "height": 297
        },
        "id": "2fw1Sum3UqmY",
        "outputId": "d04be50f-ac6c-4bba-ebaf-878a40048dce"
      },
      "source": [
        "fig, ax = plt.subplots()\n",
        "ax.set_aspect('equal')\n",
        "ax.set_xlabel('False Positive Rate')\n",
        "ax.set_ylabel('True Positive Rate')\n",
        "\n",
        "# globally\n",
        "TP = []\n",
        "FP = []\n",
        "\n",
        "for tt in np.arange(0,1,0.001):\n",
        "    all_estim = 1* (data_test.prediction_no > tt)\n",
        "    true_positive = np.mean(all_estim[data_test.dive == 1])\n",
        "    true_negative = 1-np.mean(all_estim[data_test.dive == 0])\n",
        "    TP.append(true_positive)\n",
        "    FP.append(1-true_negative)\n",
        "\n",
        "plt.plot(np.array(FP), np.array(TP))\n",
        "-np.trapz(TP, FP)"
      ],
      "execution_count": 87,
      "outputs": [
        {
          "output_type": "execute_result",
          "data": {
            "text/plain": [
              "0.3714020773734134"
            ]
          },
          "metadata": {
            "tags": []
          },
          "execution_count": 87
        },
        {
          "output_type": "display_data",
          "data": {
            "image/png": "[encoded data removed]",
            "text/plain": [
              "<Figure size 432x288 with 1 Axes>"
            ]
          },
          "metadata": {
            "tags": [],
            "needs_background": "light"
          }
        }
      ]
    },
    {
      "cell_type": "markdown",
      "metadata": {
        "id": "_fYvDqUvUqma"
      },
      "source": [
        "# Fine-tuning"
      ]
    },
    {
      "cell_type": "code",
      "metadata": {
        "id": "wiQCn-3uUqma"
      },
      "source": [
        "# Loss and score\n",
        "learning_rate = 1e-3\n",
        "optimizer = torch.optim.Adam(model.parameters(), lr=learning_rate)\n",
        "weight = torch.FloatTensor([50])\n",
        "criterion = nn.BCEWithLogitsLoss(pos_weight = weight)"
      ],
      "execution_count": 88,
      "outputs": []
    },
    {
      "cell_type": "code",
      "metadata": {
        "scrolled": false,
        "colab": {
          "base_uri": "https://localhost:8080/"
        },
        "id": "Vq4vvWkGUqmb",
        "outputId": "b88b3ece-7ae8-4f13-f9c0-1344dd3a4230"
      },
      "source": [
        "# Train the model\n",
        "nb_epoch = 1\n",
        "\n",
        "global_loss_train = []\n",
        "\n",
        "for epoch in range(nb_epoch):\n",
        "    i = 0\n",
        "    for batch, (x, y, z) in enumerate(train_loader):\n",
        "        i+=1\n",
        "\n",
        "        # Run the forward pass\n",
        "        out =  model(x)\n",
        "        loss = criterion(out, z)\n",
        "        \n",
        "        # Backprop and perform optimisation\n",
        "        optimizer.zero_grad()\n",
        "        loss.backward()\n",
        "        optimizer.step()\n",
        "        \n",
        "    ### Evaluation + Validation every epoch\n",
        "    model.eval()\n",
        "    with torch.no_grad():      \n",
        "        j = 0\n",
        "        # evaluation\n",
        "        list_loss_train = []\n",
        "        list_score_train = []\n",
        "        for batch, (x, y, z) in enumerate(train_loader):\n",
        "            j+= 1\n",
        "\n",
        "            # Run the forward pass\n",
        "            out =  model(x)\n",
        "            loss = criterion(out, z)\n",
        "            list_loss_train.append(loss.item())\n",
        "        \n",
        "        train_loss = np.mean(list_loss_train)\n",
        "\n",
        "    print('Epoch [{}/{}] -------------------------------------------------------------------------------------'\n",
        "          .format(epoch+1, nb_epoch))\n",
        "    print('Train Loss: {}'.format(round(train_loss, 2)))\n",
        "    model.train()\n",
        "    \n",
        "    global_loss_train.append(train_loss)\n"
      ],
      "execution_count": 89,
      "outputs": [
        {
          "output_type": "stream",
          "text": [
            "Epoch [1/1] -------------------------------------------------------------------------------------\n",
            "Train Loss: 0.95\n"
          ],
          "name": "stdout"
        }
      ]
    },
    {
      "cell_type": "code",
      "metadata": {
        "id": "uONR5FHUUGu2",
        "colab": {
          "base_uri": "https://localhost:8080/"
        },
        "outputId": "887dbd75-62a5-49a1-f789-863f7898615c"
      },
      "source": [
        "dive_estim = []\n",
        "\n",
        "for i in data_test.trip.unique():\n",
        "    # create dataset for a trajectory\n",
        "    t = data_test[data_test.trip == i].copy()    \n",
        "    test_set = TrajDataSet(t, window, variable, transform = transforms.Compose([Center(), ToTensor()]))\n",
        "\n",
        "    model.eval()\n",
        "    estim = [0 for i in range(10)]\n",
        "    k = 0\n",
        "    with torch.no_grad():\n",
        "        for (x, y, z) in test_set:\n",
        "\n",
        "            # Run the forward pass\n",
        "            out = model(x)\n",
        "            estim.append(out.cpu().squeeze().numpy())\n",
        "\n",
        "    estim = estim + [0 for i in range(10)]\n",
        "    dive_estim.append(estim)\n",
        "    print(i)\n",
        "\n",
        "data_test['prediction_ft'] = 1/(1+np.exp(-np.hstack(dive_estim)))"
      ],
      "execution_count": 90,
      "outputs": [
        {
          "output_type": "stream",
          "text": [
            "F0417_10_SD_T1\n",
            "F0417_16_SD_T1\n",
            "F0417_16_SD_T2\n",
            "F0417_17_SD_T1\n",
            "F0417_17_SD_T2\n",
            "F0417_24_SD_T2\n",
            "F0417_24_SD_T4\n",
            "F0417_5_SD_T1\n",
            "F0418_11_SD_T2\n",
            "F0418_11_SD_T3\n",
            "F0418_14_SD_T2\n",
            "F0418_23_SD_T1\n",
            "F0418_23_SD_T2\n",
            "F0418_24_SD_T1\n",
            "F0418_24_SD_T2\n",
            "F0418_25_SD_T2\n",
            "F0418_26_SD_T1\n",
            "F0418_30_SD_T3\n",
            "F0419_1_SD_T2\n",
            "F0419_1_SD_T3\n",
            "F0419_3_SD_T1\n",
            "F0419_3_SD_T5\n",
            "F0419_4_SD_T1\n",
            "F0419_7_SD_T1\n",
            "F0419_7_SD_T2\n",
            "F0419_8_SD_T1\n",
            "F0419_9_SD_T1\n",
            "F0419_9_SD_T3\n"
          ],
          "name": "stdout"
        }
      ]
    },
    {
      "cell_type": "code",
      "metadata": {
        "id": "MohnVyNLUKRQ",
        "colab": {
          "base_uri": "https://localhost:8080/",
          "height": 297
        },
        "outputId": "55ec5dd7-31eb-4b03-c499-4c8a4fe61815"
      },
      "source": [
        "fig, ax = plt.subplots()\n",
        "ax.set_aspect('equal')\n",
        "ax.set_xlabel('False Positive Rate')\n",
        "ax.set_ylabel('True Positive Rate')\n",
        "\n",
        "# globally\n",
        "TP = []\n",
        "FP = []\n",
        "\n",
        "for tt in np.arange(0,1,0.001):\n",
        "    all_estim = 1* (data_test.prediction_ft > tt)\n",
        "    true_positive = np.mean(all_estim[data_test.dive == 1])\n",
        "    true_negative = 1-np.mean(all_estim[data_test.dive == 0])\n",
        "    TP.append(true_positive)\n",
        "    FP.append(1-true_negative)\n",
        "\n",
        "plt.plot(np.array(FP), np.array(TP))\n",
        "-np.trapz(TP, FP)"
      ],
      "execution_count": 91,
      "outputs": [
        {
          "output_type": "execute_result",
          "data": {
            "text/plain": [
              "0.589520314740406"
            ]
          },
          "metadata": {
            "tags": []
          },
          "execution_count": 91
        },
        {
          "output_type": "display_data",
          "data": {
            "image/png": "[encoded data removed]",
            "text/plain": [
              "<Figure size 432x288 with 1 Axes>"
            ]
          },
          "metadata": {
            "tags": [],
            "needs_background": "light"
          }
        }
      ]
    },
    {
      "cell_type": "code",
      "metadata": {
        "id": "Vb3HSY1GUZDB"
      },
      "source": [
        "torch.save(model, './SD_fcn_lonlatcov_15s.pt')"
      ],
      "execution_count": 92,
      "outputs": []
    },
    {
      "cell_type": "markdown",
      "metadata": {
        "id": "QRGL9KjscIS7"
      },
      "source": [
        "# from scratch"
      ]
    },
    {
      "cell_type": "code",
      "metadata": {
        "id": "mAnAnEecUOVk"
      },
      "source": [
        "model = FCNet()"
      ],
      "execution_count": 93,
      "outputs": []
    },
    {
      "cell_type": "code",
      "metadata": {
        "id": "wR_bBBXMBRTB",
        "colab": {
          "base_uri": "https://localhost:8080/"
        },
        "outputId": "7e422fb4-ff7e-41b1-cd62-5119e71769a4"
      },
      "source": [
        "# Train the model\n",
        "nb_epoch = 1\n",
        "\n",
        "global_loss_train = []\n",
        "\n",
        "for epoch in range(nb_epoch):\n",
        "    i = 0\n",
        "    for batch, (x, y, z) in enumerate(train_loader):\n",
        "        i+=1\n",
        "\n",
        "        # Run the forward pass\n",
        "        out =  model(x)\n",
        "        loss = criterion(out, z)\n",
        "        \n",
        "        # Backprop and perform optimisation\n",
        "        optimizer.zero_grad()\n",
        "        loss.backward()\n",
        "        optimizer.step()\n",
        "        \n",
        "    ### Evaluation + Validation every epoch\n",
        "    model.eval()\n",
        "    with torch.no_grad():      \n",
        "        j = 0\n",
        "        # evaluation\n",
        "        list_loss_train = []\n",
        "        list_score_train = []\n",
        "        for batch, (x, y, z) in enumerate(train_loader):\n",
        "            j+= 1\n",
        "\n",
        "            # Run the forward pass\n",
        "            out =  model(x)\n",
        "            loss = criterion(out, z)\n",
        "            list_loss_train.append(loss.item())\n",
        "        \n",
        "        train_loss = np.mean(list_loss_train)\n",
        "\n",
        "    print('Epoch [{}/{}] -------------------------------------------------------------------------------------'\n",
        "          .format(epoch+1, nb_epoch))\n",
        "    print('Train Loss: {}'.format(round(train_loss, 2)))\n",
        "    model.train()\n",
        "    \n",
        "    global_loss_train.append(train_loss)\n"
      ],
      "execution_count": 94,
      "outputs": [
        {
          "output_type": "stream",
          "text": [
            "Epoch [1/1] -------------------------------------------------------------------------------------\n",
            "Train Loss: 1.05\n"
          ],
          "name": "stdout"
        }
      ]
    },
    {
      "cell_type": "code",
      "metadata": {
        "id": "q5_1oE3TURln",
        "colab": {
          "base_uri": "https://localhost:8080/"
        },
        "outputId": "29f3e605-a2de-4cca-e322-0862f97cd023"
      },
      "source": [
        "dive_estim = []\n",
        "\n",
        "for i in data_test.trip.unique():\n",
        "    # create dataset for a trajectory\n",
        "    t = data_test[data_test.trip == i].copy()    \n",
        "    test_set = TrajDataSet(t, window, variable, transform = transforms.Compose([Center(), ToTensor()]))\n",
        "\n",
        "    model.eval()\n",
        "    estim = [0 for i in range(10)]\n",
        "    k = 0\n",
        "    with torch.no_grad():\n",
        "        for (x, y, z) in test_set:\n",
        "\n",
        "            # Run the forward pass\n",
        "            out = model(x)\n",
        "            estim.append(out.cpu().squeeze().numpy())\n",
        "\n",
        "    estim = estim + [0 for i in range(10)]\n",
        "    dive_estim.append(estim)\n",
        "    print(i)\n",
        "\n",
        "data_test['prediction_fs'] = 1/(1+np.exp(-np.hstack(dive_estim)))"
      ],
      "execution_count": 95,
      "outputs": [
        {
          "output_type": "stream",
          "text": [
            "F0417_10_SD_T1\n",
            "F0417_16_SD_T1\n",
            "F0417_16_SD_T2\n",
            "F0417_17_SD_T1\n",
            "F0417_17_SD_T2\n",
            "F0417_24_SD_T2\n",
            "F0417_24_SD_T4\n",
            "F0417_5_SD_T1\n",
            "F0418_11_SD_T2\n",
            "F0418_11_SD_T3\n",
            "F0418_14_SD_T2\n",
            "F0418_23_SD_T1\n",
            "F0418_23_SD_T2\n",
            "F0418_24_SD_T1\n",
            "F0418_24_SD_T2\n",
            "F0418_25_SD_T2\n",
            "F0418_26_SD_T1\n",
            "F0418_30_SD_T3\n",
            "F0419_1_SD_T2\n",
            "F0419_1_SD_T3\n",
            "F0419_3_SD_T1\n",
            "F0419_3_SD_T5\n",
            "F0419_4_SD_T1\n",
            "F0419_7_SD_T1\n",
            "F0419_7_SD_T2\n",
            "F0419_8_SD_T1\n",
            "F0419_9_SD_T1\n",
            "F0419_9_SD_T3\n"
          ],
          "name": "stdout"
        }
      ]
    },
    {
      "cell_type": "code",
      "metadata": {
        "id": "x_sQZRFGUX6n",
        "colab": {
          "base_uri": "https://localhost:8080/",
          "height": 297
        },
        "outputId": "6b59f770-dba9-4f71-f60a-547d76cf7f3e"
      },
      "source": [
        "fig, ax = plt.subplots()\n",
        "ax.set_aspect('equal')\n",
        "ax.set_xlabel('False Positive Rate')\n",
        "ax.set_ylabel('True Positive Rate')\n",
        "\n",
        "# globally\n",
        "TP = []\n",
        "FP = []\n",
        "\n",
        "for tt in np.arange(0,1,0.001):\n",
        "    all_estim = 1* (data_test.prediction_fs > tt)\n",
        "    true_positive = np.mean(all_estim[data_test.dive == 1])\n",
        "    true_negative = 1-np.mean(all_estim[data_test.dive == 0])\n",
        "    TP.append(true_positive)\n",
        "    FP.append(1-true_negative)\n",
        "\n",
        "plt.plot(np.array(FP), np.array(TP))\n",
        "-np.trapz(TP, FP)"
      ],
      "execution_count": 96,
      "outputs": [
        {
          "output_type": "execute_result",
          "data": {
            "text/plain": [
              "0.5170657962210244"
            ]
          },
          "metadata": {
            "tags": []
          },
          "execution_count": 96
        },
        {
          "output_type": "display_data",
          "data": {
            "image/png": "[encoded data removed]",
            "text/plain": [
              "<Figure size 432x288 with 1 Axes>"
            ]
          },
          "metadata": {
            "tags": [],
            "needs_background": "light"
          }
        }
      ]
    },
    {
      "cell_type": "code",
      "metadata": {
        "id": "_Z2jbHHjZg_Y"
      },
      "source": [
        "data_test.to_csv('SD_fcn_lonlatcov_15s.csv', index = False)"
      ],
      "execution_count": 97,
      "outputs": []
    }
  ]
}