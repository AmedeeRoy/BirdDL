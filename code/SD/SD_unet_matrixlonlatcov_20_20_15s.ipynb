{
  "nbformat": 4,
  "nbformat_minor": 0,
  "metadata": {
    "colab": {
      "name": "SD_unet_matrixlonlatcov_20_20_15s.ipynb",
      "provenance": [],
      "collapsed_sections": [],
      "include_colab_link": true
    },
    "kernelspec": {
      "display_name": "Python 3",
      "language": "python",
      "name": "python3"
    },
    "language_info": {
      "codemirror_mode": {
        "name": "ipython",
        "version": 3
      },
      "file_extension": ".py",
      "mimetype": "text/x-python",
      "name": "python",
      "nbconvert_exporter": "python",
      "pygments_lexer": "ipython3",
      "version": "3.7.4"
    }
  },
  "cells": [
    {
      "cell_type": "markdown",
      "metadata": {
        "id": "view-in-github",
        "colab_type": "text"
      },
      "source": [
        "<a href=\"https://colab.research.google.com/github/AmedeeRoy/BirdDL/blob/main/code/SD/SD_unet_matrixlonlatcov_20_20_15s.ipynb\" target=\"_parent\"><img src=\"https://colab.research.google.com/assets/colab-badge.svg\" alt=\"Open In Colab\"/></a>"
      ]
    },
    {
      "cell_type": "markdown",
      "metadata": {
        "id": "wk6zB5N3GZO9"
      },
      "source": [
        "# Dive Prediction - Deep Network\n",
        "\n",
        "*Predicting Seabird Diving Behaviour from GPS data*\n",
        "\n",
        "This notebook trains a neural network to predict seabirds' dives.\n",
        "\n",
        "Networks' characteristics:\n",
        "\n",
        "* *Trajectory window* : 60 x 5s\n",
        "* *Output resolution*: 60 x 5s\n",
        "* *Representation of trajectories* : Matrix Distance and Time series\n",
        "* *Layers* : convolutions"
      ]
    },
    {
      "cell_type": "markdown",
      "metadata": {
        "id": "kjVXwurrGghM"
      },
      "source": [
        "## connect to drive"
      ]
    },
    {
      "cell_type": "code",
      "metadata": {
        "colab": {
          "base_uri": "https://localhost:8080/"
        },
        "id": "cPOjT66sGf3Y",
        "outputId": "f53a341c-adb0-4cea-87d4-5a7d9ad57194"
      },
      "source": [
        "# mount google drive\n",
        "from google.colab import drive\n",
        "drive.mount(\"/content/drive/\")"
      ],
      "execution_count": 1,
      "outputs": [
        {
          "output_type": "stream",
          "text": [
            "Drive already mounted at /content/drive/; to attempt to forcibly remount, call drive.mount(\"/content/drive/\", force_remount=True).\n"
          ],
          "name": "stdout"
        }
      ]
    },
    {
      "cell_type": "code",
      "metadata": {
        "colab": {
          "base_uri": "https://localhost:8080/"
        },
        "id": "u2R6nZsEGp2v",
        "outputId": "f2f1d9d5-6b0f-4390-e7f5-519f6f248a19"
      },
      "source": [
        "%cd drive/My\\ Drive/"
      ],
      "execution_count": 2,
      "outputs": [
        {
          "output_type": "stream",
          "text": [
            "/content/drive/My Drive\n"
          ],
          "name": "stdout"
        }
      ]
    },
    {
      "cell_type": "markdown",
      "metadata": {
        "id": "Engz1noUG1yL"
      },
      "source": [
        "## load data"
      ]
    },
    {
      "cell_type": "code",
      "metadata": {
        "id": "vP2XmHbeGZO-"
      },
      "source": [
        "import pandas as pd\n",
        "import numpy as np\n",
        "import matplotlib.pyplot as plt\n",
        "import pickle\n",
        "\n",
        "import torch\n",
        "from torch import nn\n",
        "from torch.utils.data import DataLoader, Dataset\n",
        "from torchvision import transforms\n",
        "\n",
        "from utils.trip import * "
      ],
      "execution_count": 3,
      "outputs": []
    },
    {
      "cell_type": "code",
      "metadata": {
        "id": "XroT0Q5mGZO_"
      },
      "source": [
        "data_train = pd.read_csv('./data/SD_train.csv')\n",
        "data_test = pd.read_csv('./data/SD_test.csv')"
      ],
      "execution_count": 4,
      "outputs": []
    },
    {
      "cell_type": "code",
      "metadata": {
        "colab": {
          "base_uri": "https://localhost:8080/",
          "height": 206
        },
        "id": "91vOylAmyLju",
        "outputId": "2cd48a66-ac4b-4a89-844f-28a923f5afff"
      },
      "source": [
        "data_train = standardize_data(data_train)\n",
        "data_test = standardize_data(data_test)\n",
        "\n",
        "data_train.head()"
      ],
      "execution_count": 5,
      "outputs": [
        {
          "output_type": "execute_result",
          "data": {
            "text/html": [
              "<div>\n",
              "<style scoped>\n",
              "    .dataframe tbody tr th:only-of-type {\n",
              "        vertical-align: middle;\n",
              "    }\n",
              "\n",
              "    .dataframe tbody tr th {\n",
              "        vertical-align: top;\n",
              "    }\n",
              "\n",
              "    .dataframe thead th {\n",
              "        text-align: right;\n",
              "    }\n",
              "</style>\n",
              "<table border=\"1\" class=\"dataframe\">\n",
              "  <thead>\n",
              "    <tr style=\"text-align: right;\">\n",
              "      <th></th>\n",
              "      <th>datetime</th>\n",
              "      <th>trip</th>\n",
              "      <th>lon</th>\n",
              "      <th>lat</th>\n",
              "      <th>step_speed</th>\n",
              "      <th>step_direction</th>\n",
              "      <th>gaps</th>\n",
              "      <th>pressure</th>\n",
              "      <th>dive</th>\n",
              "      <th>lon_std</th>\n",
              "      <th>lat_std</th>\n",
              "      <th>step_speed_std</th>\n",
              "      <th>step_direction_cos</th>\n",
              "      <th>step_direction_sin</th>\n",
              "    </tr>\n",
              "  </thead>\n",
              "  <tbody>\n",
              "    <tr>\n",
              "      <th>0</th>\n",
              "      <td>2017-04-25 14:23:25</td>\n",
              "      <td>F0417_11_SD_T1</td>\n",
              "      <td>-32.388702</td>\n",
              "      <td>-3.816197</td>\n",
              "      <td>14.415879</td>\n",
              "      <td>-75.239695</td>\n",
              "      <td>0.0</td>\n",
              "      <td>-1.07</td>\n",
              "      <td>0</td>\n",
              "      <td>-2.059077</td>\n",
              "      <td>1.297701</td>\n",
              "      <td>0.705006</td>\n",
              "      <td>0.254776</td>\n",
              "      <td>-0.967000</td>\n",
              "    </tr>\n",
              "    <tr>\n",
              "      <th>1</th>\n",
              "      <td>2017-04-25 14:23:40</td>\n",
              "      <td>F0417_11_SD_T1</td>\n",
              "      <td>-32.387295</td>\n",
              "      <td>-3.815108</td>\n",
              "      <td>13.184866</td>\n",
              "      <td>39.620556</td>\n",
              "      <td>0.0</td>\n",
              "      <td>-1.07</td>\n",
              "      <td>0</td>\n",
              "      <td>-2.045569</td>\n",
              "      <td>1.320049</td>\n",
              "      <td>0.644804</td>\n",
              "      <td>0.770285</td>\n",
              "      <td>0.637700</td>\n",
              "    </tr>\n",
              "    <tr>\n",
              "      <th>2</th>\n",
              "      <td>2017-04-25 14:23:55</td>\n",
              "      <td>F0417_11_SD_T1</td>\n",
              "      <td>-32.386070</td>\n",
              "      <td>-3.814450</td>\n",
              "      <td>10.301176</td>\n",
              "      <td>9.505804</td>\n",
              "      <td>0.0</td>\n",
              "      <td>-1.07</td>\n",
              "      <td>0</td>\n",
              "      <td>-2.033807</td>\n",
              "      <td>1.333552</td>\n",
              "      <td>0.503777</td>\n",
              "      <td>0.986269</td>\n",
              "      <td>0.165148</td>\n",
              "    </tr>\n",
              "    <tr>\n",
              "      <th>3</th>\n",
              "      <td>2017-04-25 14:24:10</td>\n",
              "      <td>F0417_11_SD_T1</td>\n",
              "      <td>-32.384834</td>\n",
              "      <td>-3.814002</td>\n",
              "      <td>9.736954</td>\n",
              "      <td>8.330893</td>\n",
              "      <td>0.0</td>\n",
              "      <td>-1.13</td>\n",
              "      <td>0</td>\n",
              "      <td>-2.021940</td>\n",
              "      <td>1.342745</td>\n",
              "      <td>0.476184</td>\n",
              "      <td>0.989448</td>\n",
              "      <td>0.144890</td>\n",
              "    </tr>\n",
              "    <tr>\n",
              "      <th>4</th>\n",
              "      <td>2017-04-25 14:24:25</td>\n",
              "      <td>F0417_11_SD_T1</td>\n",
              "      <td>-32.382969</td>\n",
              "      <td>-3.813600</td>\n",
              "      <td>14.127733</td>\n",
              "      <td>7.774125</td>\n",
              "      <td>0.0</td>\n",
              "      <td>-1.13</td>\n",
              "      <td>0</td>\n",
              "      <td>-2.004034</td>\n",
              "      <td>1.350995</td>\n",
              "      <td>0.690914</td>\n",
              "      <td>0.990809</td>\n",
              "      <td>0.135268</td>\n",
              "    </tr>\n",
              "  </tbody>\n",
              "</table>\n",
              "</div>"
            ],
            "text/plain": [
              "              datetime            trip  ...  step_direction_cos  step_direction_sin\n",
              "0  2017-04-25 14:23:25  F0417_11_SD_T1  ...            0.254776           -0.967000\n",
              "1  2017-04-25 14:23:40  F0417_11_SD_T1  ...            0.770285            0.637700\n",
              "2  2017-04-25 14:23:55  F0417_11_SD_T1  ...            0.986269            0.165148\n",
              "3  2017-04-25 14:24:10  F0417_11_SD_T1  ...            0.989448            0.144890\n",
              "4  2017-04-25 14:24:25  F0417_11_SD_T1  ...            0.990809            0.135268\n",
              "\n",
              "[5 rows x 14 columns]"
            ]
          },
          "metadata": {
            "tags": []
          },
          "execution_count": 5
        }
      ]
    },
    {
      "cell_type": "markdown",
      "metadata": {
        "id": "ywF0A-1tGZO_"
      },
      "source": [
        "## No fine-tuning"
      ]
    },
    {
      "cell_type": "code",
      "metadata": {
        "id": "VBznxgYEGZPA"
      },
      "source": [
        "# hyperparameters\n",
        "batch_size = 64\n",
        "window = 20\n",
        "variable = ('lon_std', 'lat_std', 'gaps')\n",
        "\n",
        "## reduce size dataset\n",
        "train_set = TrajDataSet(data_train, window, variable, transform = ToTensor())\n",
        "train_loader = DataLoader(train_set, batch_size=batch_size, num_workers = 0, shuffle = True, drop_last=True)"
      ],
      "execution_count": 6,
      "outputs": []
    },
    {
      "cell_type": "code",
      "metadata": {
        "id": "lhxDPuhUGZPB"
      },
      "source": [
        "class UNet(nn.Module):\n",
        "\n",
        "    def __init__(self):\n",
        "        super(UNet, self).__init__()\n",
        "\n",
        "        self.threshold = nn.Sequential(\n",
        "#             nn.BatchNorm2d(1),\n",
        "            nn.Conv2d(1, 8, kernel_size = 1, stride = 1, padding = 0, dilation = 1, bias = True),\n",
        "            nn.ReLU()\n",
        "        )\n",
        "\n",
        "        self.cnn_input_1 = nn.Sequential(\n",
        "            nn.BatchNorm1d(8+3),\n",
        "            nn.Conv1d(8+3, 8, kernel_size = 5, stride = 1, padding = 2, dilation = 1),\n",
        "            nn.ReLU(),\n",
        "            nn.Conv1d(8, 8, kernel_size = 5, stride = 1, padding = 2, dilation = 1),\n",
        "            nn.ReLU()\n",
        "        )\n",
        "\n",
        "        self.pooling_1 = nn.Sequential(\n",
        "            nn.MaxPool1d(kernel_size = 5, stride = 2, padding = 2, dilation = 1)\n",
        "        )\n",
        "\n",
        "        self.cnn_input_2 = nn.Sequential(\n",
        "            nn.BatchNorm1d(8),\n",
        "            nn.Conv1d(8, 16, kernel_size = 5, stride = 1, padding = 2, dilation = 1),\n",
        "            nn.ReLU(),\n",
        "            nn.Conv1d(16, 16, kernel_size = 5, stride = 1, padding = 2, dilation = 1),\n",
        "            nn.ReLU()\n",
        "        )\n",
        "\n",
        "        self.pooling_2 = nn.Sequential(\n",
        "            nn.MaxPool1d(kernel_size = 5, stride = 2, padding = 2, dilation = 1)\n",
        "        )\n",
        "\n",
        "        self.cnn_input_3 = nn.Sequential(\n",
        "            nn.BatchNorm1d(16),\n",
        "            nn.Conv1d(16, 32,  kernel_size = 5, stride = 1, padding = 2, dilation = 1),\n",
        "            nn.ReLU(),\n",
        "            nn.Conv1d(32, 32,  kernel_size = 5, stride = 1, padding = 2, dilation = 1),\n",
        "            nn.ReLU()\n",
        "        )\n",
        "\n",
        "        self.upconv_2 = nn.Sequential(\n",
        "             nn.ConvTranspose1d(32, 16, kernel_size = 6, stride = 2, padding = 2, dilation = 1)\n",
        "         )\n",
        "\n",
        "        self.cnn_output_2 = nn.Sequential(\n",
        "            nn.BatchNorm1d(16*2),\n",
        "            nn.Conv1d(16*2, 16,  kernel_size = 5, stride = 1, padding = 2, dilation = 1),\n",
        "            nn.ReLU(),\n",
        "            nn.Conv1d(16, 16,  kernel_size = 5, stride = 1, padding = 2, dilation = 1),\n",
        "            nn.ReLU()\n",
        "        )\n",
        "\n",
        "        self.upconv_1 = nn.Sequential(\n",
        "             nn.ConvTranspose1d(16, 8, kernel_size = 6, stride = 2, padding = 2, dilation = 1)\n",
        "         )\n",
        "        \n",
        "        self.cnn_output_1 = nn.Sequential(\n",
        "            nn.BatchNorm1d(8*2),\n",
        "            nn.Conv1d(8*2, 8,  kernel_size = 5, stride = 1, padding = 2, dilation = 1),\n",
        "            nn.ReLU(),\n",
        "            nn.Conv1d(8, 4, kernel_size = 5, stride = 1, padding = 2, dilation = 1),\n",
        "            nn.ReLU(),\n",
        "            nn.Conv1d(4, 2, kernel_size = 5, stride = 1, padding = 2, dilation = 1),\n",
        "            nn.ReLU(),\n",
        "            nn.Conv1d(2, 1,  kernel_size = 5, stride = 1, padding = 2, dilation = 1)\n",
        "        )\n",
        "\n",
        "    def forward(self, x, y):\n",
        "        out = self.threshold(y)\n",
        "        out = torch.sum(out, 2)\n",
        "\n",
        "        out = torch.cat((out, x.squeeze(1)), 1)\n",
        "\n",
        "        out_1 = self.cnn_input_1(out)\n",
        "        out = self.pooling_1(out_1)\n",
        "        out_2 = self.cnn_input_2(out)\n",
        "        out = self.pooling_2(out_2)\n",
        "        out = self.cnn_input_3(out)\n",
        "\n",
        "        out = self.upconv_2(out)\n",
        "        out = torch.cat((out, out_2), 1)\n",
        "        out = self.cnn_output_2(out)\n",
        "\n",
        "        out = self.upconv_1(out)\n",
        "        out = torch.cat((out, out_1), 1)\n",
        "        out = self.cnn_output_1(out)\n",
        "\n",
        "\n",
        "        return out\n",
        "\n",
        "def get_score(out, y):\n",
        "    out, y = out.cpu(), y.cpu()\n",
        "    out = 1*(out>0)\n",
        "    true_positive = np.mean(out[y == True].numpy()) \n",
        "    true_negative = 1-np.mean(out[y == False].numpy())\n",
        "    \n",
        "    return (round(true_positive*100) , round(true_negative*100))"
      ],
      "execution_count": 7,
      "outputs": []
    },
    {
      "cell_type": "code",
      "metadata": {
        "id": "rg_mIte9GZO_"
      },
      "source": [
        "model = torch.load('./SV_unet_matrixlonlatcov_15s.pt')"
      ],
      "execution_count": 8,
      "outputs": []
    },
    {
      "cell_type": "code",
      "metadata": {
        "colab": {
          "base_uri": "https://localhost:8080/"
        },
        "id": "rgaxdxqVR3nU",
        "outputId": "e9a8dc6a-e8cd-4831-9ed0-7f8d3565097b"
      },
      "source": [
        "dive_estim = []\n",
        "\n",
        "for i in data_test.trip.unique():\n",
        "    t = data_test[data_test.trip == i].copy()\n",
        "        \n",
        "    test_set = TrajDataSet(t, window, variable, transform = ToTensor())\n",
        "    \n",
        "    # Test the model\n",
        "    estim = np.zeros(len(t))\n",
        "    nb = np.zeros(len(t))\n",
        "    \n",
        "    list_out = []\n",
        "    model.eval()\n",
        "    k = 0\n",
        "    with torch.no_grad():\n",
        "        for (x, y, z) in test_set:\n",
        "\n",
        "            # Run the forward pass\n",
        "            out = model(x, y.unsqueeze(1))\n",
        "            \n",
        "            estim[k:k + round(window)] += out.cpu().squeeze().numpy()\n",
        "            nb[k:k + round(window)] += 1\n",
        "            k+=1\n",
        "    # # add to list by trajectory\n",
        "    dive_estim.append(estim/nb)\n",
        "    print(i)\n",
        "\n",
        "data_test['prediction_no'] = 1/(1+np.exp(-np.hstack(dive_estim)))"
      ],
      "execution_count": 9,
      "outputs": [
        {
          "output_type": "stream",
          "text": [
            "F0417_10_SD_T1\n",
            "F0417_16_SD_T1\n",
            "F0417_16_SD_T2\n",
            "F0417_17_SD_T1\n",
            "F0417_17_SD_T2\n",
            "F0417_24_SD_T2\n",
            "F0417_24_SD_T4\n",
            "F0417_5_SD_T1\n",
            "F0418_11_SD_T2\n",
            "F0418_11_SD_T3\n",
            "F0418_14_SD_T2\n",
            "F0418_23_SD_T1\n",
            "F0418_23_SD_T2\n",
            "F0418_24_SD_T1\n",
            "F0418_24_SD_T2\n",
            "F0418_25_SD_T2\n",
            "F0418_26_SD_T1\n",
            "F0418_30_SD_T3\n",
            "F0419_1_SD_T2\n",
            "F0419_1_SD_T3\n",
            "F0419_3_SD_T1\n",
            "F0419_3_SD_T5\n",
            "F0419_4_SD_T1\n",
            "F0419_7_SD_T1\n",
            "F0419_7_SD_T2\n",
            "F0419_8_SD_T1\n",
            "F0419_9_SD_T1\n",
            "F0419_9_SD_T3\n"
          ],
          "name": "stdout"
        }
      ]
    },
    {
      "cell_type": "code",
      "metadata": {
        "colab": {
          "base_uri": "https://localhost:8080/",
          "height": 297
        },
        "id": "w2GWGv7KSGz8",
        "outputId": "9117f640-8580-4f16-f722-236ba231ad1e"
      },
      "source": [
        "fig, ax = plt.subplots()\n",
        "ax.set_aspect('equal')\n",
        "ax.set_xlabel('False Positive Rate')\n",
        "ax.set_ylabel('True Positive Rate')\n",
        "\n",
        "# globally\n",
        "TP = []\n",
        "FP = []\n",
        "\n",
        "for tt in np.arange(0,1,0.001):\n",
        "    all_estim = 1* (data_test.prediction_no > tt)\n",
        "    true_positive = np.mean(all_estim[data_test.dive == 1])\n",
        "    true_negative = 1-np.mean(all_estim[data_test.dive == 0])\n",
        "    TP.append(true_positive)\n",
        "    FP.append(1-true_negative)\n",
        "\n",
        "plt.plot(np.array(FP), np.array(TP))\n",
        "-np.trapz(TP, FP)"
      ],
      "execution_count": 10,
      "outputs": [
        {
          "output_type": "execute_result",
          "data": {
            "text/plain": [
              "0.689293706308417"
            ]
          },
          "metadata": {
            "tags": []
          },
          "execution_count": 10
        },
        {
          "output_type": "display_data",
          "data": {
            "image/png": "[encoded data removed]",
            "text/plain": [
              "<Figure size 432x288 with 1 Axes>"
            ]
          },
          "metadata": {
            "tags": [],
            "needs_background": "light"
          }
        }
      ]
    },
    {
      "cell_type": "markdown",
      "metadata": {
        "id": "sJkiaEE2GZPA"
      },
      "source": [
        "# Fine-tuning"
      ]
    },
    {
      "cell_type": "code",
      "metadata": {
        "id": "lRi-Oun6GZPB"
      },
      "source": [
        "# Loss and score\n",
        "learning_rate = 1e-3\n",
        "optimizer = torch.optim.Adam(model.parameters(), lr=learning_rate)\n",
        "weight = torch.FloatTensor([50])\n",
        "criterion = nn.BCEWithLogitsLoss(pos_weight = weight)"
      ],
      "execution_count": 11,
      "outputs": []
    },
    {
      "cell_type": "code",
      "metadata": {
        "colab": {
          "base_uri": "https://localhost:8080/"
        },
        "id": "0QzQPetaGZPB",
        "scrolled": false,
        "outputId": "73c84022-c22e-4997-bba0-89666be554d6"
      },
      "source": [
        "# Train the model\n",
        "nb_epoch = 1\n",
        "\n",
        "global_loss_train = []\n",
        "\n",
        "for epoch in range(nb_epoch):\n",
        "    i = 0\n",
        "    for batch, (x, y, z) in enumerate(train_loader):\n",
        "        i+=1\n",
        "\n",
        "        # Run the forward pass\n",
        "        out = model(x, y)\n",
        "        loss = criterion(out, z)\n",
        "        \n",
        "        # Backprop and perform optimisation\n",
        "        optimizer.zero_grad()\n",
        "        loss.backward()\n",
        "        optimizer.step()\n",
        "        \n",
        "    ### Evaluation + Validation every epoch\n",
        "    model.eval()\n",
        "    with torch.no_grad():      \n",
        "        j = 0\n",
        "        # evaluation\n",
        "        list_loss_train = []\n",
        "        list_score_train = []\n",
        "        for batch, (x, y, z) in enumerate(train_loader):\n",
        "            j+= 1\n",
        "\n",
        "            # Run the forward pass\n",
        "            out =  model(x, y)\n",
        "            loss = criterion(out, z)\n",
        "            list_loss_train.append(loss.item())\n",
        "        \n",
        "        train_loss = np.mean(list_loss_train)\n",
        "\n",
        "    print('Epoch [{}/{}] -------------------------------------------------------------------------------------'\n",
        "          .format(epoch+1, nb_epoch))\n",
        "    print('Train Loss: {}'.format(round(train_loss, 2)))\n",
        "    model.train()\n",
        "    \n",
        "    global_loss_train.append(train_loss)\n"
      ],
      "execution_count": 12,
      "outputs": [
        {
          "output_type": "stream",
          "text": [
            "Epoch [1/1] -------------------------------------------------------------------------------------\n",
            "Train Loss: 0.65\n"
          ],
          "name": "stdout"
        }
      ]
    },
    {
      "cell_type": "code",
      "metadata": {
        "colab": {
          "base_uri": "https://localhost:8080/"
        },
        "id": "uONR5FHUUGu2",
        "outputId": "9ef3b863-ec42-4ca7-a60d-d92458dc0bee"
      },
      "source": [
        "dive_estim = []\n",
        "\n",
        "for i in data_test.trip.unique():\n",
        "    t = data_test[data_test.trip == i].copy()\n",
        "        \n",
        "    test_set = TrajDataSet(t, window, variable, transform = ToTensor())\n",
        "    \n",
        "    # Test the model\n",
        "    estim = np.zeros(len(t))\n",
        "    nb = np.zeros(len(t))\n",
        "    \n",
        "    list_out = []\n",
        "    model.eval()\n",
        "    k = 0\n",
        "    with torch.no_grad():\n",
        "        for (x, y, z) in test_set:\n",
        "\n",
        "            # Run the forward pass\n",
        "            out = model(x, y.unsqueeze(1))\n",
        "            \n",
        "            estim[k:k + round(window)] += out.cpu().squeeze().numpy()\n",
        "            nb[k:k + round(window)] += 1\n",
        "            k+=1\n",
        "    # # add to list by trajectory\n",
        "    dive_estim.append(estim/nb)\n",
        "    print(i)\n",
        "\n",
        "data_test['prediction_ft'] = 1/(1+np.exp(-np.hstack(dive_estim)))"
      ],
      "execution_count": 13,
      "outputs": [
        {
          "output_type": "stream",
          "text": [
            "F0417_10_SD_T1\n",
            "F0417_16_SD_T1\n",
            "F0417_16_SD_T2\n",
            "F0417_17_SD_T1\n",
            "F0417_17_SD_T2\n",
            "F0417_24_SD_T2\n",
            "F0417_24_SD_T4\n",
            "F0417_5_SD_T1\n",
            "F0418_11_SD_T2\n",
            "F0418_11_SD_T3\n",
            "F0418_14_SD_T2\n",
            "F0418_23_SD_T1\n",
            "F0418_23_SD_T2\n",
            "F0418_24_SD_T1\n",
            "F0418_24_SD_T2\n",
            "F0418_25_SD_T2\n",
            "F0418_26_SD_T1\n",
            "F0418_30_SD_T3\n",
            "F0419_1_SD_T2\n",
            "F0419_1_SD_T3\n",
            "F0419_3_SD_T1\n",
            "F0419_3_SD_T5\n",
            "F0419_4_SD_T1\n",
            "F0419_7_SD_T1\n",
            "F0419_7_SD_T2\n",
            "F0419_8_SD_T1\n",
            "F0419_9_SD_T1\n",
            "F0419_9_SD_T3\n"
          ],
          "name": "stdout"
        }
      ]
    },
    {
      "cell_type": "code",
      "metadata": {
        "colab": {
          "base_uri": "https://localhost:8080/",
          "height": 297
        },
        "id": "MohnVyNLUKRQ",
        "outputId": "047f9f6c-46b4-446a-d07a-2bad2e6de79c"
      },
      "source": [
        "fig, ax = plt.subplots()\n",
        "ax.set_aspect('equal')\n",
        "ax.set_xlabel('False Positive Rate')\n",
        "ax.set_ylabel('True Positive Rate')\n",
        "\n",
        "# globally\n",
        "TP = []\n",
        "FP = []\n",
        "\n",
        "for tt in np.arange(0,1,0.001):\n",
        "    all_estim = 1* (data_test.prediction_ft > tt)\n",
        "    true_positive = np.mean(all_estim[data_test.dive == 1])\n",
        "    true_negative = 1-np.mean(all_estim[data_test.dive == 0])\n",
        "    TP.append(true_positive)\n",
        "    FP.append(1-true_negative)\n",
        "\n",
        "plt.plot(np.array(FP), np.array(TP))\n",
        "-np.trapz(TP, FP)"
      ],
      "execution_count": 14,
      "outputs": [
        {
          "output_type": "execute_result",
          "data": {
            "text/plain": [
              "0.8675047974675003"
            ]
          },
          "metadata": {
            "tags": []
          },
          "execution_count": 14
        },
        {
          "output_type": "display_data",
          "data": {
            "image/png": "[encoded data removed]",
            "text/plain": [
              "<Figure size 432x288 with 1 Axes>"
            ]
          },
          "metadata": {
            "tags": [],
            "needs_background": "light"
          }
        }
      ]
    },
    {
      "cell_type": "code",
      "metadata": {
        "id": "Vb3HSY1GUZDB"
      },
      "source": [
        "torch.save(model, './SD_unet_matrixlonlatcov_15s.pt')\n"
      ],
      "execution_count": 15,
      "outputs": []
    },
    {
      "cell_type": "markdown",
      "metadata": {
        "id": "QRGL9KjscIS7"
      },
      "source": [
        "# from scratch"
      ]
    },
    {
      "cell_type": "code",
      "metadata": {
        "id": "mAnAnEecUOVk"
      },
      "source": [
        "model = UNet()"
      ],
      "execution_count": 16,
      "outputs": []
    },
    {
      "cell_type": "code",
      "metadata": {
        "colab": {
          "base_uri": "https://localhost:8080/"
        },
        "id": "wR_bBBXMBRTB",
        "outputId": "6f249b7c-6029-44b8-de3b-da07e37786ee"
      },
      "source": [
        "# Train the model\n",
        "nb_epoch = 1\n",
        "\n",
        "global_loss_train = []\n",
        "\n",
        "for epoch in range(nb_epoch):\n",
        "    i = 0\n",
        "    for batch, (x, y, z) in enumerate(train_loader):\n",
        "        i+=1\n",
        "\n",
        "        # Run the forward pass\n",
        "        out = model(x, y)\n",
        "        loss = criterion(out, z)\n",
        "        \n",
        "        # Backprop and perform optimisation\n",
        "        optimizer.zero_grad()\n",
        "        loss.backward()\n",
        "        optimizer.step()\n",
        "        \n",
        "    ### Evaluation + Validation every epoch\n",
        "    model.eval()\n",
        "    with torch.no_grad():      \n",
        "        j = 0\n",
        "        # evaluation\n",
        "        list_loss_train = []\n",
        "        list_score_train = []\n",
        "        for batch, (x, y, z) in enumerate(train_loader):\n",
        "            j+= 1\n",
        "\n",
        "            # Run the forward pass\n",
        "            out =  model(x, y)\n",
        "            loss = criterion(out, z)\n",
        "            list_loss_train.append(loss.item())\n",
        "        \n",
        "        train_loss = np.mean(list_loss_train)\n",
        "\n",
        "    print('Epoch [{}/{}] -------------------------------------------------------------------------------------'\n",
        "          .format(epoch+1, nb_epoch))\n",
        "    print('Train Loss: {}'.format(round(train_loss, 2)))\n",
        "    model.train()\n",
        "    \n",
        "    global_loss_train.append(train_loss)\n"
      ],
      "execution_count": 17,
      "outputs": [
        {
          "output_type": "stream",
          "text": [
            "Epoch [1/1] -------------------------------------------------------------------------------------\n",
            "Train Loss: 1.05\n"
          ],
          "name": "stdout"
        }
      ]
    },
    {
      "cell_type": "code",
      "metadata": {
        "colab": {
          "base_uri": "https://localhost:8080/"
        },
        "id": "q5_1oE3TURln",
        "outputId": "c0733a21-5551-4559-a5b1-c2674e8e0bce"
      },
      "source": [
        "dive_estim = []\n",
        "\n",
        "for i in data_test.trip.unique():\n",
        "    t = data_test[data_test.trip == i].copy()\n",
        "        \n",
        "    test_set = TrajDataSet(t, window, variable, transform = ToTensor())\n",
        "    \n",
        "    # Test the model\n",
        "    estim = np.zeros(len(t))\n",
        "    nb = np.zeros(len(t))\n",
        "    \n",
        "    list_out = []\n",
        "    model.eval()\n",
        "    k = 0\n",
        "    with torch.no_grad():\n",
        "        for (x, y, z) in test_set:\n",
        "\n",
        "            # Run the forward pass\n",
        "            out = model(x, y.unsqueeze(1))\n",
        "            \n",
        "            estim[k:k + round(window)] += out.cpu().squeeze().numpy()\n",
        "            nb[k:k + round(window)] += 1\n",
        "            k+=1\n",
        "    # # add to list by trajectory\n",
        "    dive_estim.append(estim/nb)\n",
        "    print(i)\n",
        "\n",
        "data_test['prediction_fs'] = 1/(1+np.exp(-np.hstack(dive_estim)))"
      ],
      "execution_count": 18,
      "outputs": [
        {
          "output_type": "stream",
          "text": [
            "F0417_10_SD_T1\n",
            "F0417_16_SD_T1\n",
            "F0417_16_SD_T2\n",
            "F0417_17_SD_T1\n",
            "F0417_17_SD_T2\n",
            "F0417_24_SD_T2\n",
            "F0417_24_SD_T4\n",
            "F0417_5_SD_T1\n",
            "F0418_11_SD_T2\n",
            "F0418_11_SD_T3\n",
            "F0418_14_SD_T2\n",
            "F0418_23_SD_T1\n",
            "F0418_23_SD_T2\n",
            "F0418_24_SD_T1\n",
            "F0418_24_SD_T2\n",
            "F0418_25_SD_T2\n",
            "F0418_26_SD_T1\n",
            "F0418_30_SD_T3\n",
            "F0419_1_SD_T2\n",
            "F0419_1_SD_T3\n",
            "F0419_3_SD_T1\n",
            "F0419_3_SD_T5\n",
            "F0419_4_SD_T1\n",
            "F0419_7_SD_T1\n",
            "F0419_7_SD_T2\n",
            "F0419_8_SD_T1\n",
            "F0419_9_SD_T1\n",
            "F0419_9_SD_T3\n"
          ],
          "name": "stdout"
        }
      ]
    },
    {
      "cell_type": "code",
      "metadata": {
        "colab": {
          "base_uri": "https://localhost:8080/",
          "height": 297
        },
        "id": "x_sQZRFGUX6n",
        "outputId": "b2963b9b-fd22-431a-de74-41b554abb7e3"
      },
      "source": [
        "fig, ax = plt.subplots()\n",
        "ax.set_aspect('equal')\n",
        "ax.set_xlabel('False Positive Rate')\n",
        "ax.set_ylabel('True Positive Rate')\n",
        "\n",
        "# globally\n",
        "TP = []\n",
        "FP = []\n",
        "\n",
        "for tt in np.arange(0,1,0.001):\n",
        "    all_estim = 1* (data_test.prediction_fs > tt)\n",
        "    true_positive = np.mean(all_estim[data_test.dive == 1])\n",
        "    true_negative = 1-np.mean(all_estim[data_test.dive == 0])\n",
        "    TP.append(true_positive)\n",
        "    FP.append(1-true_negative)\n",
        "\n",
        "plt.plot(np.array(FP), np.array(TP))\n",
        "-np.trapz(TP, FP)"
      ],
      "execution_count": 19,
      "outputs": [
        {
          "output_type": "execute_result",
          "data": {
            "text/plain": [
              "0.5328193380295844"
            ]
          },
          "metadata": {
            "tags": []
          },
          "execution_count": 19
        },
        {
          "output_type": "display_data",
          "data": {
            "image/png": "[encoded data removed]",
            "text/plain": [
              "<Figure size 432x288 with 1 Axes>"
            ]
          },
          "metadata": {
            "tags": [],
            "needs_background": "light"
          }
        }
      ]
    },
    {
      "cell_type": "code",
      "metadata": {
        "id": "caBFPdtsmikh"
      },
      "source": [
        "data_test.to_csv('SD_unet_matrixlonlatcov_15s.csv', index = False)"
      ],
      "execution_count": 20,
      "outputs": []
    }
  ]
}