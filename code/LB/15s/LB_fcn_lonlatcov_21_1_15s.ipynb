{
  "nbformat": 4,
  "nbformat_minor": 0,
  "metadata": {
    "colab": {
      "name": "LB_fcn_lonlatcov_11_1_15s.ipynb",
      "provenance": [],
      "collapsed_sections": [],
      "include_colab_link": true
    },
    "kernelspec": {
      "display_name": "Python 3",
      "language": "python",
      "name": "python3"
    },
    "language_info": {
      "codemirror_mode": {
        "name": "ipython",
        "version": 3
      },
      "file_extension": ".py",
      "mimetype": "text/x-python",
      "name": "python",
      "nbconvert_exporter": "python",
      "pygments_lexer": "ipython3",
      "version": "3.7.4"
    }
  },
  "cells": [
    {
      "cell_type": "markdown",
      "metadata": {
        "id": "view-in-github",
        "colab_type": "text"
      },
      "source": [
        "<a href=\"https://colab.research.google.com/github/AmedeeRoy/BirdDL/blob/main/code/LB/15s/LB_fcn_lonlatcov_21_1_15s.ipynb\" target=\"_parent\"><img src=\"https://colab.research.google.com/assets/colab-badge.svg\" alt=\"Open In Colab\"/></a>"
      ]
    },
    {
      "cell_type": "markdown",
      "metadata": {
        "id": "wk6zB5N3GZO9"
      },
      "source": [
        "# Dive Prediction - Deep Network\n",
        "\n",
        "*Predicting Seabird Diving Behaviour from GPS data*\n",
        "\n",
        "This notebook trains a neural network to predict seabirds' dives.\n",
        "\n",
        "Networks' characteristics:\n",
        "\n",
        "* *Trajectory window* : 11 x 5s\n",
        "* *Output resolution*: 1 x 55s\n",
        "* *Representation of trajectories* : Time series\n",
        "* *Layers* : convolutions"
      ]
    },
    {
      "cell_type": "markdown",
      "metadata": {
        "id": "kjVXwurrGghM"
      },
      "source": [
        "## connect to drive"
      ]
    },
    {
      "cell_type": "code",
      "metadata": {
        "colab": {
          "base_uri": "https://localhost:8080/"
        },
        "id": "cPOjT66sGf3Y",
        "outputId": "aa910468-30ad-4e5f-8cd8-fd038431152b"
      },
      "source": [
        "# mount google drive\n",
        "from google.colab import drive\n",
        "drive.mount(\"/content/drive/\")"
      ],
      "execution_count": 1,
      "outputs": [
        {
          "output_type": "stream",
          "text": [
            "Drive already mounted at /content/drive/; to attempt to forcibly remount, call drive.mount(\"/content/drive/\", force_remount=True).\n"
          ],
          "name": "stdout"
        }
      ]
    },
    {
      "cell_type": "code",
      "metadata": {
        "colab": {
          "base_uri": "https://localhost:8080/"
        },
        "id": "u2R6nZsEGp2v",
        "outputId": "04b88f0d-1a99-449a-fd4d-c627aba93a27"
      },
      "source": [
        "%cd drive/My\\ Drive/"
      ],
      "execution_count": 2,
      "outputs": [
        {
          "output_type": "stream",
          "text": [
            "/content/drive/My Drive\n"
          ],
          "name": "stdout"
        }
      ]
    },
    {
      "cell_type": "markdown",
      "metadata": {
        "id": "Engz1noUG1yL"
      },
      "source": [
        "## load data"
      ]
    },
    {
      "cell_type": "code",
      "metadata": {
        "id": "vP2XmHbeGZO-"
      },
      "source": [
        "import pandas as pd\n",
        "import numpy as np\n",
        "import matplotlib.pyplot as plt\n",
        "import pickle\n",
        "\n",
        "import torch\n",
        "from torch import nn\n",
        "from torch.utils.data import DataLoader, Dataset\n",
        "from torchvision import transforms\n",
        "\n",
        "from utils.trip import * "
      ],
      "execution_count": 3,
      "outputs": []
    },
    {
      "cell_type": "code",
      "metadata": {
        "id": "XroT0Q5mGZO_"
      },
      "source": [
        "data_train = pd.read_csv('./data/LB_train.csv')\n",
        "data_validation = pd.read_csv('./data/LB_validation.csv')\n",
        "data_test = pd.read_csv('./data/LB_test.csv')"
      ],
      "execution_count": 4,
      "outputs": []
    },
    {
      "cell_type": "markdown",
      "metadata": {
        "id": "2pnURReGyLju"
      },
      "source": [
        "## choose resolution"
      ]
    },
    {
      "cell_type": "code",
      "metadata": {
        "id": "91vOylAmyLju",
        "colab": {
          "base_uri": "https://localhost:8080/",
          "height": 206
        },
        "outputId": "f9f772fd-f9bb-46db-dc75-2e9a35173fc3"
      },
      "source": [
        "resolution = 15\n",
        "\n",
        "data_train_new = change_resolution(data_train, resolution)\n",
        "data_validation_new = change_resolution(data_validation, resolution)\n",
        "data_test_new = change_resolution(data_test, resolution)\n",
        "\n",
        "data_train_new = standardize_data(data_train_new)\n",
        "data_validation_new = standardize_data(data_validation_new)\n",
        "data_test_new = standardize_data(data_test_new)\n",
        "\n",
        "data_train_new.head()"
      ],
      "execution_count": 5,
      "outputs": [
        {
          "output_type": "execute_result",
          "data": {
            "text/html": [
              "<div>\n",
              "<style scoped>\n",
              "    .dataframe tbody tr th:only-of-type {\n",
              "        vertical-align: middle;\n",
              "    }\n",
              "\n",
              "    .dataframe tbody tr th {\n",
              "        vertical-align: top;\n",
              "    }\n",
              "\n",
              "    .dataframe thead th {\n",
              "        text-align: right;\n",
              "    }\n",
              "</style>\n",
              "<table border=\"1\" class=\"dataframe\">\n",
              "  <thead>\n",
              "    <tr style=\"text-align: right;\">\n",
              "      <th></th>\n",
              "      <th>trip</th>\n",
              "      <th>datetime</th>\n",
              "      <th>lon</th>\n",
              "      <th>lat</th>\n",
              "      <th>gaps</th>\n",
              "      <th>dive</th>\n",
              "      <th>step_speed</th>\n",
              "      <th>step_direction</th>\n",
              "      <th>lon_std</th>\n",
              "      <th>lat_std</th>\n",
              "      <th>step_speed_std</th>\n",
              "      <th>step_direction_cos</th>\n",
              "      <th>step_direction_sin</th>\n",
              "    </tr>\n",
              "  </thead>\n",
              "  <tbody>\n",
              "    <tr>\n",
              "      <th>2</th>\n",
              "      <td>P1108_55_LB_T1</td>\n",
              "      <td>2008-11-25 13:48:16</td>\n",
              "      <td>-77.277228</td>\n",
              "      <td>-11.757092</td>\n",
              "      <td>0.066667</td>\n",
              "      <td>0</td>\n",
              "      <td>12.376541</td>\n",
              "      <td>-2.727183</td>\n",
              "      <td>2.046299</td>\n",
              "      <td>-0.997460</td>\n",
              "      <td>0.699135</td>\n",
              "      <td>0.998867</td>\n",
              "      <td>-0.047580</td>\n",
              "    </tr>\n",
              "    <tr>\n",
              "      <th>3</th>\n",
              "      <td>P1108_55_LB_T1</td>\n",
              "      <td>2008-11-25 13:48:31</td>\n",
              "      <td>-77.278858</td>\n",
              "      <td>-11.756507</td>\n",
              "      <td>0.000000</td>\n",
              "      <td>0</td>\n",
              "      <td>12.612815</td>\n",
              "      <td>-29.282468</td>\n",
              "      <td>2.029184</td>\n",
              "      <td>-0.974821</td>\n",
              "      <td>0.712596</td>\n",
              "      <td>0.872219</td>\n",
              "      <td>-0.489116</td>\n",
              "    </tr>\n",
              "    <tr>\n",
              "      <th>4</th>\n",
              "      <td>P1108_55_LB_T1</td>\n",
              "      <td>2008-11-25 13:48:46</td>\n",
              "      <td>-77.280625</td>\n",
              "      <td>-11.756392</td>\n",
              "      <td>0.000000</td>\n",
              "      <td>0</td>\n",
              "      <td>12.863682</td>\n",
              "      <td>-16.328379</td>\n",
              "      <td>2.010633</td>\n",
              "      <td>-0.970371</td>\n",
              "      <td>0.726888</td>\n",
              "      <td>0.959666</td>\n",
              "      <td>-0.281142</td>\n",
              "    </tr>\n",
              "    <tr>\n",
              "      <th>5</th>\n",
              "      <td>P1108_55_LB_T1</td>\n",
              "      <td>2008-11-25 13:49:01</td>\n",
              "      <td>-77.282367</td>\n",
              "      <td>-11.755687</td>\n",
              "      <td>0.000000</td>\n",
              "      <td>0</td>\n",
              "      <td>13.692604</td>\n",
              "      <td>18.658749</td>\n",
              "      <td>1.992345</td>\n",
              "      <td>-0.943088</td>\n",
              "      <td>0.774114</td>\n",
              "      <td>0.947441</td>\n",
              "      <td>0.319931</td>\n",
              "    </tr>\n",
              "    <tr>\n",
              "      <th>6</th>\n",
              "      <td>P1108_55_LB_T1</td>\n",
              "      <td>2008-11-25 13:49:16</td>\n",
              "      <td>-77.284227</td>\n",
              "      <td>-11.755203</td>\n",
              "      <td>0.000000</td>\n",
              "      <td>0</td>\n",
              "      <td>13.981258</td>\n",
              "      <td>-7.595771</td>\n",
              "      <td>1.972815</td>\n",
              "      <td>-0.924381</td>\n",
              "      <td>0.790559</td>\n",
              "      <td>0.991225</td>\n",
              "      <td>-0.132183</td>\n",
              "    </tr>\n",
              "  </tbody>\n",
              "</table>\n",
              "</div>"
            ],
            "text/plain": [
              "             trip             datetime  ...  step_direction_cos  step_direction_sin\n",
              "2  P1108_55_LB_T1  2008-11-25 13:48:16  ...            0.998867           -0.047580\n",
              "3  P1108_55_LB_T1  2008-11-25 13:48:31  ...            0.872219           -0.489116\n",
              "4  P1108_55_LB_T1  2008-11-25 13:48:46  ...            0.959666           -0.281142\n",
              "5  P1108_55_LB_T1  2008-11-25 13:49:01  ...            0.947441            0.319931\n",
              "6  P1108_55_LB_T1  2008-11-25 13:49:16  ...            0.991225           -0.132183\n",
              "\n",
              "[5 rows x 13 columns]"
            ]
          },
          "metadata": {
            "tags": []
          },
          "execution_count": 5
        }
      ]
    },
    {
      "cell_type": "markdown",
      "metadata": {
        "id": "ywF0A-1tGZO_"
      },
      "source": [
        "## choose window"
      ]
    },
    {
      "cell_type": "code",
      "metadata": {
        "id": "rg_mIte9GZO_"
      },
      "source": [
        "# Hyperparameters\n",
        "window = 21\n",
        "variable = ('lon_std', 'lat_std', 'gaps')\n",
        "\n",
        "train_set = TrajDataSet(data_train_new, window, variable)"
      ],
      "execution_count": 6,
      "outputs": []
    },
    {
      "cell_type": "code",
      "metadata": {
        "colab": {
          "base_uri": "https://localhost:8080/",
          "height": 565
        },
        "id": "G26yrGdUGZO_",
        "scrolled": false,
        "outputId": "5e7dd961-4862-4d34-ee63-5fc8765ce238"
      },
      "source": [
        "plt.figure(figsize=(16, 10))\n",
        "idx = np.random.randint(0, len(train_set), 4)\n",
        "c = Center()\n",
        "k = -1\n",
        "for i in idx:\n",
        "    k += 1\n",
        "    traj, matrix_dist, dive = c(train_set[i])\n",
        "\n",
        "    plt.subplot(2,4, k+1)\n",
        "    plt.imshow(matrix_dist)\n",
        "\n",
        "    plt.subplot(2,4, k+5)\n",
        "    plt.plot(traj[0,:], traj[1,:])\n",
        "    i = int(window/2)\n",
        "    if np.array(dive) == 1 :\n",
        "        plt.scatter(traj[0,i], traj[1,i], c= 'orange')\n",
        "    else:\n",
        "      plt.scatter(traj[0,i], traj[1,i])"
      ],
      "execution_count": 7,
      "outputs": [
        {
          "output_type": "display_data",
          "data": {
            "image/png": "[encoded data removed]",
            "text/plain": [
              "<Figure size 1152x720 with 8 Axes>"
            ]
          },
          "metadata": {
            "tags": [],
            "needs_background": "light"
          }
        }
      ]
    },
    {
      "cell_type": "markdown",
      "metadata": {
        "id": "sJkiaEE2GZPA"
      },
      "source": [
        "# Neural Network"
      ]
    },
    {
      "cell_type": "code",
      "metadata": {
        "id": "VBznxgYEGZPA"
      },
      "source": [
        "# hyperparameters\n",
        "batch_size = 512\n",
        "\n",
        "## reduce size dataset\n",
        "train_set = TrajDataSet(data_train_new, window, variable, transform = transforms.Compose([Center(), ToTensor()]))\n",
        "validation_set = TrajDataSet(data_validation_new, window, variable, transform = transforms.Compose([Center(), ToTensor()]))\n",
        "\n",
        "train_loader = DataLoader(train_set, batch_size=batch_size, num_workers = 0, shuffle = True, drop_last=True)\n",
        "validation_loader = DataLoader(validation_set, batch_size=batch_size, num_workers = 0, shuffle = True, drop_last=True)"
      ],
      "execution_count": 8,
      "outputs": []
    },
    {
      "cell_type": "code",
      "metadata": {
        "id": "lhxDPuhUGZPB"
      },
      "source": [
        "class FCNet(nn.Module):\n",
        "\n",
        "    def __init__(self):\n",
        "        super(FCNet, self).__init__()\n",
        "\n",
        "        self.cnn = nn.Sequential(\n",
        "            nn.Linear(3*21,100),\n",
        "            nn.ReLU(),\n",
        "            nn.Linear(100,500),\n",
        "            nn.ReLU(),\n",
        "            nn.Linear(500,500),\n",
        "            nn.ReLU(),\n",
        "            nn.Linear(500,500),\n",
        "            nn.ReLU(),\n",
        "            nn.Linear(500,1)\n",
        "        )\n",
        "\n",
        "    def forward(self, x):\n",
        "        out = x.reshape((x.size()[0], 1, 3*21))\n",
        "        out = self.cnn(out)\n",
        "        return out\n",
        "\n",
        "def get_score(out, y):\n",
        "    out, y = out.cpu(), y.cpu()\n",
        "    out = 1*(out>0)\n",
        "    true_positive = np.mean(out[y == True].numpy()) \n",
        "    true_negative = 1-np.mean(out[y == False].numpy())\n",
        "    \n",
        "    return (round(true_positive*100) , round(true_negative*100))"
      ],
      "execution_count": 9,
      "outputs": []
    },
    {
      "cell_type": "code",
      "metadata": {
        "colab": {
          "base_uri": "https://localhost:8080/"
        },
        "id": "lRi-Oun6GZPB",
        "outputId": "976b9088-8dd7-44f4-9ff1-7a3339567910"
      },
      "source": [
        "# get sample\n",
        "x, y, z = next(iter(train_loader)) \n",
        "weight = torch.FloatTensor([5])\n",
        "\n",
        "# Forward model\n",
        "model = FCNet()\n",
        "\n",
        "out = model(x)\n",
        "\n",
        "# Loss and score\n",
        "learning_rate = 0.01\n",
        "optimizer = torch.optim.Adam(model.parameters(), lr=learning_rate)\n",
        "criterion = nn.BCEWithLogitsLoss(pos_weight = weight)\n",
        "criterion(out, z)\n",
        "get_score(out, z)"
      ],
      "execution_count": 10,
      "outputs": [
        {
          "output_type": "execute_result",
          "data": {
            "text/plain": [
              "(100, 0)"
            ]
          },
          "metadata": {
            "tags": []
          },
          "execution_count": 10
        }
      ]
    },
    {
      "cell_type": "code",
      "metadata": {
        "colab": {
          "base_uri": "https://localhost:8080/"
        },
        "id": "MrpxukCA-dg0",
        "outputId": "6c4f5ad3-4dce-4a54-d700-959474781eff"
      },
      "source": [
        "## get Loss weight\n",
        "torch.sum(z==z)/torch.sum(z)"
      ],
      "execution_count": 11,
      "outputs": [
        {
          "output_type": "execute_result",
          "data": {
            "text/plain": [
              "tensor(2.6528)"
            ]
          },
          "metadata": {
            "tags": []
          },
          "execution_count": 11
        }
      ]
    },
    {
      "cell_type": "markdown",
      "metadata": {
        "id": "hKIwYrQcGZPB"
      },
      "source": [
        "## Training"
      ]
    },
    {
      "cell_type": "code",
      "metadata": {
        "id": "WsK522IKGZPB"
      },
      "source": [
        "# switch to GPU\n",
        "model = FCNet()\n",
        "device = torch.device('cuda' if torch.cuda.is_available() else 'cpu')\n",
        "model = model.to(device)\n",
        "weight = weight.to(device)\n",
        "criterion = nn.BCEWithLogitsLoss(pos_weight = weight)"
      ],
      "execution_count": 12,
      "outputs": []
    },
    {
      "cell_type": "code",
      "metadata": {
        "id": "0QzQPetaGZPB",
        "scrolled": true,
        "colab": {
          "base_uri": "https://localhost:8080/"
        },
        "outputId": "db59f5d1-a219-445f-c4cf-20d671ca460c"
      },
      "source": [
        "# Train the model\n",
        "nb_epoch = 5\n",
        "\n",
        "global_loss_train = []\n",
        "global_loss_validation = []\n",
        "    \n",
        "for epoch in range(nb_epoch):\n",
        "    learning_rate /= 10\n",
        "    optimizer = torch.optim.Adam(model.parameters(), lr=learning_rate)\n",
        "    i = 0\n",
        "    for batch, (x, y, z) in enumerate(train_loader):\n",
        "        i+=1\n",
        "        # send to GPU\n",
        "        x, y, z = x.to(device), y.to(device), z.to(device)\n",
        "\n",
        "        # Run the forward pass\n",
        "        out = model(x)\n",
        "        loss = criterion(out, z)\n",
        "        \n",
        "        # Backprop and perform optimisation\n",
        "        optimizer.zero_grad()\n",
        "        loss.backward()\n",
        "        optimizer.step()\n",
        "\n",
        "    ### Evaluation + Validation every epoch\n",
        "    model.eval()\n",
        "    with torch.no_grad():      \n",
        "        j = 0\n",
        "        # evaluation\n",
        "        list_loss_train = []\n",
        "        list_score_train = []\n",
        "        for batch, (x, y, z) in enumerate(train_loader):\n",
        "            j+= 1\n",
        "            # send to GPU\n",
        "            x, y, z = x.to(device), y.to(device), z.to(device)\n",
        "\n",
        "            # Run the forward pass\n",
        "            out =  model(x)\n",
        "            loss = criterion(out, z)\n",
        "            score = get_score(out,z)\n",
        "            list_loss_train.append(loss.item())\n",
        "            list_score_train.append(score)\n",
        "        \n",
        "        train_loss = np.mean(list_loss_train)\n",
        "        train_trueP = np.mean([tp for (tp, tn) in list_score_train])\n",
        "        train_trueN = np.mean([tn for (tp, tn) in list_score_train])\n",
        "            \n",
        "        k = 0\n",
        "        # validation\n",
        "        list_loss_validation = []\n",
        "        list_score_validation = []\n",
        "        for batch, (x, y, z) in enumerate(validation_loader):\n",
        "            k+= 1\n",
        "            # send to GPU\n",
        "            x, y, z = x.to(device), y.to(device), z.to(device)\n",
        "\n",
        "            # Run the forward pass\n",
        "            out =  model(x)\n",
        "            loss = criterion(out, z)\n",
        "            score = get_score(out,z)\n",
        "            list_loss_validation.append(loss.item())\n",
        "            list_score_validation.append(score)\n",
        "\n",
        "        validation_loss = np.mean(list_loss_validation)\n",
        "        validation_trueP = np.mean([tp for (tp, tn) in list_score_validation])\n",
        "        validation_trueN = np.mean([tn for (tp, tn) in list_score_validation])\n",
        "\n",
        "    print('Epoch [{}/{}] -------------------------------------------------------------------------------------'\n",
        "          .format(epoch+1, nb_epoch))\n",
        "    print('Train Loss: {}, Train True Positive : {} %, Train True Negative : {} %'\n",
        "            .format(round(train_loss, 2), round(train_trueP, 2), round(train_trueN, 2)))\n",
        "    print('Validation Loss: {}, Validation True Positive : {} %, Validation True Negative : {} %'\n",
        "            .format(round(validation_loss, 2), round(validation_trueP, 2), round(validation_trueN, 2)))\n",
        "    model.train()\n",
        "    \n",
        "    global_loss_train.append(train_loss)\n",
        "    global_loss_validation.append(validation_loss)\n",
        "\n",
        "    #### STOP WHEN VALIDATION DECREASE\n",
        "    if epoch>1:\n",
        "      if global_loss_validation[-2] < global_loss_validation[-1]:\n",
        "        break"
      ],
      "execution_count": 13,
      "outputs": [
        {
          "output_type": "stream",
          "text": [
            "Epoch [1/5] -------------------------------------------------------------------------------------\n",
            "Train Loss: 0.53, Train True Positive : 97.9 %, Train True Negative : 71.38 %\n",
            "Validation Loss: 0.46, Validation True Positive : 96.82 %, Validation True Negative : 81.45 %\n",
            "Epoch [2/5] -------------------------------------------------------------------------------------\n",
            "Train Loss: 0.49, Train True Positive : 96.9 %, Train True Negative : 78.78 %\n",
            "Validation Loss: 0.47, Validation True Positive : 95.55 %, Validation True Negative : 86.27 %\n",
            "Epoch [3/5] -------------------------------------------------------------------------------------\n",
            "Train Loss: 0.49, Train True Positive : 97.3 %, Train True Negative : 77.52 %\n",
            "Validation Loss: 0.46, Validation True Positive : 96.0 %, Validation True Negative : 85.45 %\n",
            "Epoch [4/5] -------------------------------------------------------------------------------------\n",
            "Train Loss: 0.49, Train True Positive : 97.08 %, Train True Negative : 77.96 %\n",
            "Validation Loss: 0.46, Validation True Positive : 95.91 %, Validation True Negative : 85.73 %\n"
          ],
          "name": "stdout"
        }
      ]
    },
    {
      "cell_type": "markdown",
      "metadata": {
        "id": "yeruQM_iGZPB"
      },
      "source": [
        "## Testing"
      ]
    },
    {
      "cell_type": "code",
      "metadata": {
        "id": "zUGwcHNTGZPB",
        "scrolled": true,
        "colab": {
          "base_uri": "https://localhost:8080/"
        },
        "outputId": "bcf4fc15-88f3-48f2-b9fc-e1dcff468289"
      },
      "source": [
        "dive_estim = []\n",
        "list_loss_test = []\n",
        "\n",
        "for i in data_test_new.trip.unique():\n",
        "    # create dataset for a trajectory\n",
        "    t = data_test_new[data_test_new.trip == i].copy()    \n",
        "    test_set = TrajDataSet(t, window, variable, transform = transforms.Compose([Center(), ToTensor()]))\n",
        "    \n",
        "    # Test the model\n",
        "    estim = np.zeros(len(t))\n",
        "    nb = np.zeros(len(t))\n",
        "    \n",
        "    model.eval()\n",
        "    k = 0\n",
        "    with torch.no_grad():\n",
        "        for (x, y, z) in test_set:\n",
        "            # send to GPU\n",
        "            x, y, z = x.to(device), y.to(device), z.to(device)\n",
        "\n",
        "            # Run the forward pass\n",
        "            out = model(x)\n",
        "\n",
        "            loss = criterion(out.squeeze(1), z)\n",
        "            list_loss_test.append(loss.item())\n",
        "\n",
        "            \n",
        "            estim[k:k + round(window)] += out.cpu().squeeze().numpy()\n",
        "            nb[k:k + round(window)] += 1\n",
        "            k+=1\n",
        "    # # add to list by trajectory\n",
        "    dive_estim.append(estim/nb)\n",
        "    print(i)\n",
        "\n",
        "global_loss_test = np.mean(list_loss_test)\n",
        "data_test_new['prediction'] = 1/(1+np.exp(-np.hstack(dive_estim)))"
      ],
      "execution_count": 14,
      "outputs": [
        {
          "output_type": "stream",
          "text": [
            "P1109_15_LB_T4\n",
            "P1109_19_LB_T4\n",
            "P1111_21_LB_T2\n",
            "P1111_22_LB_T2\n",
            "P1111_29_LB_T1\n",
            "P1111_39_LB_T5\n",
            "P1113_21_LB_T1\n",
            "P1113_35_LB_T2\n"
          ],
          "name": "stdout"
        }
      ]
    },
    {
      "cell_type": "code",
      "metadata": {
        "id": "EeXfQHLQGZPC",
        "colab": {
          "base_uri": "https://localhost:8080/",
          "height": 340
        },
        "outputId": "d273dd1b-37ee-4d2a-8752-e255d9e38094"
      },
      "source": [
        "t = data_test_new[data_test_new.trip == 'P1109_15_LB_T4'].copy() \n",
        "\n",
        "plt.figure(figsize= (12, 5))\n",
        "plt.subplot(1, 2, 1)\n",
        "plt.plot(np.array(t.lon), np.array(t.lat))\n",
        "plt.scatter(t.lon[t.dive == 1], t.lat[t.dive == 1], c = 'orange')\n",
        "\n",
        "plt.subplot(1, 2, 2)\n",
        "plt.plot(np.array(t.lon), np.array(t.lat))\n",
        "plt.scatter(t.lon[t.prediction > 0.5], t.lat[t.prediction > 0.5], c = 'red')"
      ],
      "execution_count": 15,
      "outputs": [
        {
          "output_type": "execute_result",
          "data": {
            "text/plain": [
              "<matplotlib.collections.PathCollection at 0x7fde9d7999e8>"
            ]
          },
          "metadata": {
            "tags": []
          },
          "execution_count": 15
        },
        {
          "output_type": "display_data",
          "data": {
            "image/png": "[encoded data removed]",
            "text/plain": [
              "<Figure size 864x360 with 2 Axes>"
            ]
          },
          "metadata": {
            "tags": [],
            "needs_background": "light"
          }
        }
      ]
    },
    {
      "cell_type": "markdown",
      "metadata": {
        "id": "tP2kP_UzGZPC"
      },
      "source": [
        "# ROC curve\n",
        "\n",
        "Change the decision threshold"
      ]
    },
    {
      "cell_type": "code",
      "metadata": {
        "id": "QGtA82JiGZPC",
        "colab": {
          "base_uri": "https://localhost:8080/",
          "height": 297
        },
        "outputId": "4eca1918-ce38-45b1-b738-6aef764a88d0"
      },
      "source": [
        "fig, ax = plt.subplots()\n",
        "ax.set_aspect('equal')\n",
        "ax.set_xlabel('False Positive Rate')\n",
        "ax.set_ylabel('True Positive Rate')\n",
        "\n",
        "# globally\n",
        "TP = []\n",
        "FP = []\n",
        "\n",
        "for tt in np.arange(0,1,0.001):\n",
        "    all_estim = 1* (data_test_new.prediction > tt)\n",
        "    true_positive = np.mean(all_estim[data_test_new.dive == 1])\n",
        "    true_negative = 1-np.mean(all_estim[data_test_new.dive == 0])\n",
        "    TP.append(true_positive)\n",
        "    FP.append(1-true_negative)\n",
        "\n",
        "plt.plot(np.array(FP), np.array(TP))"
      ],
      "execution_count": 16,
      "outputs": [
        {
          "output_type": "execute_result",
          "data": {
            "text/plain": [
              "[<matplotlib.lines.Line2D at 0x7fdea1433550>]"
            ]
          },
          "metadata": {
            "tags": []
          },
          "execution_count": 16
        },
        {
          "output_type": "display_data",
          "data": {
            "image/png": "[encoded data removed]",
            "text/plain": [
              "<Figure size 432x288 with 1 Axes>"
            ]
          },
          "metadata": {
            "tags": [],
            "needs_background": "light"
          }
        }
      ]
    },
    {
      "cell_type": "markdown",
      "metadata": {
        "id": "Vlr-DB-LD4t1"
      },
      "source": [
        "# Export Probabilities"
      ]
    },
    {
      "cell_type": "code",
      "metadata": {
        "id": "hero3SJRSEve"
      },
      "source": [
        "# SAVE MODEL AND CONVERGENCE DATA\n",
        "torch.save(model, 'LB_fcn_lonlatcov_15s.pt')\n",
        "\n",
        "convergence_data = [global_loss_train, global_loss_validation, global_loss_test]\n",
        "with open('LB_fcn_lonlatcov_15s.pickle', 'wb') as f:\n",
        "    pickle.dump(convergence_data, f)\n",
        "\n",
        "data_test_new.to_csv('LB_fcn_lonlatcov_15s.csv', index = False)"
      ],
      "execution_count": 17,
      "outputs": []
    },
    {
      "cell_type": "code",
      "metadata": {
        "id": "0IcffL7v4zJ2"
      },
      "source": [
        ""
      ],
      "execution_count": 17,
      "outputs": []
    }
  ]
}