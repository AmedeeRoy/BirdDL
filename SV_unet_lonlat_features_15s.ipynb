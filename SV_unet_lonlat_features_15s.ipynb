{
  "nbformat": 4,
  "nbformat_minor": 0,
  "metadata": {
    "kernelspec": {
      "display_name": "Python 3",
      "language": "python",
      "name": "python3"
    },
    "language_info": {
      "codemirror_mode": {
        "name": "ipython",
        "version": 3
      },
      "file_extension": ".py",
      "mimetype": "text/x-python",
      "name": "python",
      "nbconvert_exporter": "python",
      "pygments_lexer": "ipython3",
      "version": "3.7.4"
    },
    "colab": {
      "name": "SV_unet_lonlat_features_15s.ipynb",
      "provenance": [],
      "include_colab_link": true
    }
  },
  "cells": [
    {
      "cell_type": "markdown",
      "metadata": {
        "id": "view-in-github",
        "colab_type": "text"
      },
      "source": [
        "<a href=\"https://colab.research.google.com/github/AmedeeRoy/BirdDL/blob/main/SV_unet_lonlat_features_15s.ipynb\" target=\"_parent\"><img src=\"https://colab.research.google.com/assets/colab-badge.svg\" alt=\"Open In Colab\"/></a>"
      ]
    },
    {
      "cell_type": "code",
      "metadata": {
        "colab": {
          "base_uri": "https://localhost:8080/"
        },
        "id": "JrrWwkBO3qcy",
        "outputId": "61322749-8fde-43ed-af85-2a53d3e8d0fd"
      },
      "source": [
        "# mount google drive\n",
        "from google.colab import drive\n",
        "drive.mount(\"/content/drive/\")"
      ],
      "execution_count": 1,
      "outputs": [
        {
          "output_type": "stream",
          "text": [
            "Mounted at /content/drive/\n"
          ],
          "name": "stdout"
        }
      ]
    },
    {
      "cell_type": "code",
      "metadata": {
        "colab": {
          "base_uri": "https://localhost:8080/"
        },
        "id": "3ViYSvua3q22",
        "outputId": "a35efad9-ff1c-4bf0-eb7d-9bdf9ecedef4"
      },
      "source": [
        "%cd drive/My\\ Drive/"
      ],
      "execution_count": 2,
      "outputs": [
        {
          "output_type": "stream",
          "text": [
            "/content/drive/My Drive\n"
          ],
          "name": "stdout"
        }
      ]
    },
    {
      "cell_type": "code",
      "metadata": {
        "id": "EQLg5h7e3m5V"
      },
      "source": [
        "import pandas as pd\n",
        "import numpy as np\n",
        "import matplotlib.pyplot as plt\n",
        "\n",
        "import torch\n",
        "from torch import nn\n",
        "from torch.utils.data import DataLoader, Dataset\n",
        "from torchvision import transforms\n",
        "\n",
        "from utils.trip import * "
      ],
      "execution_count": 3,
      "outputs": []
    },
    {
      "cell_type": "code",
      "metadata": {
        "id": "ljDV0ZPB3m5j"
      },
      "source": [
        "data_train = pd.read_csv('./data/SV_train.csv')\n",
        "data_validation = pd.read_csv('./data/SV_validation.csv')\n",
        "data_test = pd.read_csv('./data/SV_test.csv')"
      ],
      "execution_count": 4,
      "outputs": []
    },
    {
      "cell_type": "code",
      "metadata": {
        "id": "ILBY8c1l3m5k",
        "colab": {
          "base_uri": "https://localhost:8080/",
          "height": 206
        },
        "outputId": "f11d8e28-be25-42a4-d596-48537042d289"
      },
      "source": [
        "resolution = 15\n",
        "\n",
        "data_train_new = change_resolution(data_train, resolution)\n",
        "data_validation_new = change_resolution(data_validation, resolution)\n",
        "data_test_new = change_resolution(data_test, resolution)\n",
        "\n",
        "data_train_new = standardize_data(data_train_new)\n",
        "data_validation_new = standardize_data(data_validation_new)\n",
        "data_test_new = standardize_data(data_test_new)\n",
        "\n",
        "data_train_new.head()"
      ],
      "execution_count": 5,
      "outputs": [
        {
          "output_type": "execute_result",
          "data": {
            "text/html": [
              "<div>\n",
              "<style scoped>\n",
              "    .dataframe tbody tr th:only-of-type {\n",
              "        vertical-align: middle;\n",
              "    }\n",
              "\n",
              "    .dataframe tbody tr th {\n",
              "        vertical-align: top;\n",
              "    }\n",
              "\n",
              "    .dataframe thead th {\n",
              "        text-align: right;\n",
              "    }\n",
              "</style>\n",
              "<table border=\"1\" class=\"dataframe\">\n",
              "  <thead>\n",
              "    <tr style=\"text-align: right;\">\n",
              "      <th></th>\n",
              "      <th>trip</th>\n",
              "      <th>datetime</th>\n",
              "      <th>lon</th>\n",
              "      <th>lat</th>\n",
              "      <th>gaps</th>\n",
              "      <th>dive</th>\n",
              "      <th>step_speed</th>\n",
              "      <th>step_direction</th>\n",
              "      <th>lon_std</th>\n",
              "      <th>lat_std</th>\n",
              "      <th>step_speed_std</th>\n",
              "      <th>step_direction_cos</th>\n",
              "      <th>step_direction_sin</th>\n",
              "    </tr>\n",
              "  </thead>\n",
              "  <tbody>\n",
              "    <tr>\n",
              "      <th>2</th>\n",
              "      <td>P1108_46_SV_T4</td>\n",
              "      <td>2008-12-06 16:06:45</td>\n",
              "      <td>-77.267390</td>\n",
              "      <td>-11.775845</td>\n",
              "      <td>0.0</td>\n",
              "      <td>0</td>\n",
              "      <td>12.387955</td>\n",
              "      <td>-43.649088</td>\n",
              "      <td>2.283183</td>\n",
              "      <td>0.674779</td>\n",
              "      <td>0.676298</td>\n",
              "      <td>0.723581</td>\n",
              "      <td>-0.690240</td>\n",
              "    </tr>\n",
              "    <tr>\n",
              "      <th>3</th>\n",
              "      <td>P1108_46_SV_T4</td>\n",
              "      <td>2008-12-06 16:07:00</td>\n",
              "      <td>-77.267043</td>\n",
              "      <td>-11.776942</td>\n",
              "      <td>0.0</td>\n",
              "      <td>0</td>\n",
              "      <td>8.522006</td>\n",
              "      <td>-51.264040</td>\n",
              "      <td>2.293314</td>\n",
              "      <td>0.593278</td>\n",
              "      <td>0.464731</td>\n",
              "      <td>0.625732</td>\n",
              "      <td>-0.780038</td>\n",
              "    </tr>\n",
              "    <tr>\n",
              "      <th>4</th>\n",
              "      <td>P1108_46_SV_T4</td>\n",
              "      <td>2008-12-06 16:07:15</td>\n",
              "      <td>-77.268240</td>\n",
              "      <td>-11.776373</td>\n",
              "      <td>0.0</td>\n",
              "      <td>0</td>\n",
              "      <td>9.666699</td>\n",
              "      <td>133.105568</td>\n",
              "      <td>2.258366</td>\n",
              "      <td>0.635552</td>\n",
              "      <td>0.527375</td>\n",
              "      <td>-0.683345</td>\n",
              "      <td>0.730096</td>\n",
              "    </tr>\n",
              "    <tr>\n",
              "      <th>5</th>\n",
              "      <td>P1108_46_SV_T4</td>\n",
              "      <td>2008-12-06 16:07:30</td>\n",
              "      <td>-77.269787</td>\n",
              "      <td>-11.776070</td>\n",
              "      <td>0.0</td>\n",
              "      <td>0</td>\n",
              "      <td>11.461108</td>\n",
              "      <td>-14.586125</td>\n",
              "      <td>2.213200</td>\n",
              "      <td>0.658063</td>\n",
              "      <td>0.625575</td>\n",
              "      <td>0.967770</td>\n",
              "      <td>-0.251835</td>\n",
              "    </tr>\n",
              "    <tr>\n",
              "      <th>6</th>\n",
              "      <td>P1108_46_SV_T4</td>\n",
              "      <td>2008-12-06 16:07:45</td>\n",
              "      <td>-77.271658</td>\n",
              "      <td>-11.776237</td>\n",
              "      <td>0.0</td>\n",
              "      <td>0</td>\n",
              "      <td>13.648504</td>\n",
              "      <td>-16.523650</td>\n",
              "      <td>2.158573</td>\n",
              "      <td>0.645656</td>\n",
              "      <td>0.745282</td>\n",
              "      <td>0.958702</td>\n",
              "      <td>-0.284411</td>\n",
              "    </tr>\n",
              "  </tbody>\n",
              "</table>\n",
              "</div>"
            ],
            "text/plain": [
              "             trip             datetime  ...  step_direction_cos  step_direction_sin\n",
              "2  P1108_46_SV_T4  2008-12-06 16:06:45  ...            0.723581           -0.690240\n",
              "3  P1108_46_SV_T4  2008-12-06 16:07:00  ...            0.625732           -0.780038\n",
              "4  P1108_46_SV_T4  2008-12-06 16:07:15  ...           -0.683345            0.730096\n",
              "5  P1108_46_SV_T4  2008-12-06 16:07:30  ...            0.967770           -0.251835\n",
              "6  P1108_46_SV_T4  2008-12-06 16:07:45  ...            0.958702           -0.284411\n",
              "\n",
              "[5 rows x 13 columns]"
            ]
          },
          "metadata": {
            "tags": []
          },
          "execution_count": 5
        }
      ]
    },
    {
      "cell_type": "code",
      "metadata": {
        "id": "-lDF2LwH3m5p"
      },
      "source": [
        "# Hyperparameters\n",
        "window = 20\n",
        "variable = ('lon_std', 'lat_std')\n",
        "\n",
        "train_set = TrajDataSet(data_train_new, window, variable)"
      ],
      "execution_count": 6,
      "outputs": []
    },
    {
      "cell_type": "code",
      "metadata": {
        "id": "vopIMSVA3m5r"
      },
      "source": [
        "# hyperparameters\n",
        "batch_size = 64\n",
        "\n",
        "## reduce size dataset\n",
        "train_set = TrajDataSet(data_train_new, window, variable, transform = ToTensor())\n",
        "validation_set = TrajDataSet(data_validation_new, window, variable, transform = ToTensor())\n",
        "\n",
        "train_loader = DataLoader(train_set, batch_size=batch_size, num_workers = 0, shuffle = True, drop_last=True)\n",
        "validation_loader = DataLoader(validation_set, batch_size=batch_size, num_workers = 0, shuffle = True, drop_last=True)"
      ],
      "execution_count": 7,
      "outputs": []
    },
    {
      "cell_type": "code",
      "metadata": {
        "id": "Wpjc1DGH3m5r"
      },
      "source": [
        "class UNet(nn.Module):\n",
        "    def __init__(self, nb_features):\n",
        "        super(UNet, self).__init__()\n",
        "\n",
        "        self.feature = nb_features\n",
        "        \n",
        "        self.threshold = nn.Sequential(\n",
        "#             nn.BatchNorm2d(1),\n",
        "            nn.Conv2d(1, self.feature, kernel_size = 1, stride = 1, padding = 0, dilation = 1, bias = True),\n",
        "            nn.ReLU()\n",
        "        )\n",
        "\n",
        "        self.cnn_input_1 = nn.Sequential(\n",
        "            nn.BatchNorm1d(self.feature+2),\n",
        "            nn.Conv1d(self.feature+2, 8, kernel_size = 5, stride = 1, padding = 2, dilation = 1),\n",
        "            nn.ReLU(),\n",
        "            nn.Conv1d(8, 8, kernel_size = 5, stride = 1, padding = 2, dilation = 1),\n",
        "            nn.ReLU()\n",
        "        )\n",
        "\n",
        "        self.pooling_1 = nn.Sequential(\n",
        "            nn.MaxPool1d(kernel_size = 5, stride = 2, padding = 2, dilation = 1)\n",
        "        )\n",
        "\n",
        "        self.cnn_input_2 = nn.Sequential(\n",
        "            nn.BatchNorm1d(8),\n",
        "            nn.Conv1d(8, 16, kernel_size = 5, stride = 1, padding = 2, dilation = 1),\n",
        "            nn.ReLU(),\n",
        "            nn.Conv1d(16, 16, kernel_size = 5, stride = 1, padding = 2, dilation = 1),\n",
        "            nn.ReLU()\n",
        "        )\n",
        "\n",
        "        self.pooling_2 = nn.Sequential(\n",
        "            nn.MaxPool1d(kernel_size = 5, stride = 2, padding = 2, dilation = 1)\n",
        "        )\n",
        "\n",
        "        self.cnn_input_3 = nn.Sequential(\n",
        "            nn.BatchNorm1d(16),\n",
        "            nn.Conv1d(16, 32,  kernel_size = 5, stride = 1, padding = 2, dilation = 1),\n",
        "            nn.ReLU(),\n",
        "            nn.Conv1d(32, 32,  kernel_size = 5, stride = 1, padding = 2, dilation = 1),\n",
        "            nn.ReLU()\n",
        "        )\n",
        "\n",
        "        self.upconv_2 = nn.Sequential(\n",
        "             nn.ConvTranspose1d(32, 16, kernel_size = 6, stride = 2, padding = 2, dilation = 1)\n",
        "         )\n",
        "\n",
        "        self.cnn_output_2 = nn.Sequential(\n",
        "            nn.BatchNorm1d(16*2),\n",
        "            nn.Conv1d(16*2, 16,  kernel_size = 5, stride = 1, padding = 2, dilation = 1),\n",
        "            nn.ReLU(),\n",
        "            nn.Conv1d(16, 16,  kernel_size = 5, stride = 1, padding = 2, dilation = 1),\n",
        "            nn.ReLU()\n",
        "        )\n",
        "\n",
        "        self.upconv_1 = nn.Sequential(\n",
        "             nn.ConvTranspose1d(16, 8, kernel_size = 6, stride = 2, padding = 2, dilation = 1)\n",
        "         )\n",
        "        \n",
        "        self.cnn_output_1 = nn.Sequential(\n",
        "            nn.BatchNorm1d(8*2),\n",
        "            nn.Conv1d(8*2, 8,  kernel_size = 5, stride = 1, padding = 2, dilation = 1),\n",
        "            nn.ReLU(),\n",
        "            nn.Conv1d(8, 4, kernel_size = 5, stride = 1, padding = 2, dilation = 1),\n",
        "            nn.ReLU(),\n",
        "            nn.Conv1d(4, 2, kernel_size = 5, stride = 1, padding = 2, dilation = 1),\n",
        "            nn.ReLU(),\n",
        "            nn.Conv1d(2, 1,  kernel_size = 5, stride = 1, padding = 2, dilation = 1)\n",
        "        )\n",
        "\n",
        "    def forward(self, x, y):\n",
        "        out = self.threshold(y)\n",
        "        out = torch.sum(out, 2)\n",
        "\n",
        "        out = torch.cat((out, x.squeeze(1)), 1)\n",
        "\n",
        "        out_1 = self.cnn_input_1(out)\n",
        "        out = self.pooling_1(out_1)\n",
        "        out_2 = self.cnn_input_2(out)\n",
        "        out = self.pooling_2(out_2)\n",
        "        out = self.cnn_input_3(out)\n",
        "\n",
        "        out = self.upconv_2(out)\n",
        "        out = torch.cat((out, out_2), 1)\n",
        "        out = self.cnn_output_2(out)\n",
        "\n",
        "        out = self.upconv_1(out)\n",
        "        out = torch.cat((out, out_1), 1)\n",
        "        out = self.cnn_output_1(out)\n",
        "\n",
        "\n",
        "        return out\n",
        "\n",
        "def get_score(out, y):\n",
        "    out, y = out.cpu(), y.cpu()\n",
        "    out = 1*(out>0)\n",
        "    true_positive = np.mean(out[y == True].numpy()) \n",
        "    true_negative = 1-np.mean(out[y == False].numpy())\n",
        "    \n",
        "    return (round(true_positive*100) , round(true_negative*100))"
      ],
      "execution_count": 10,
      "outputs": []
    },
    {
      "cell_type": "code",
      "metadata": {
        "id": "Nbb5voEy3m5t",
        "colab": {
          "base_uri": "https://localhost:8080/"
        },
        "outputId": "5a87f129-25e7-4fe2-bfdc-ab6637e98c33"
      },
      "source": [
        "parameters = []\n",
        "for feature in [1, 2, 4, 8]:\n",
        "\n",
        "    weight = torch.FloatTensor([30])\n",
        "    learning_rate = 0.01\n",
        "\n",
        "    # switch to GPU\n",
        "    model = UNet(feature)\n",
        "    device = torch.device('cuda' if torch.cuda.is_available() else 'cpu')\n",
        "    model = model.to(device)\n",
        "    weight = weight.to(device)\n",
        "\n",
        "    optimizer = torch.optim.Adam(model.parameters(), lr=learning_rate)\n",
        "    criterion = nn.BCEWithLogitsLoss(pos_weight = weight)\n",
        "    \n",
        "    epoch_loss_train = []\n",
        "    epoch_loss_validation = []\n",
        "    \n",
        "    for batch, (x, y, z) in enumerate(train_loader):\n",
        "        \n",
        "        model.train()\n",
        "        # send to GPU\n",
        "        x, y, z = x.to(device), y.to(device), z.to(device)\n",
        "        # Run the forward pass\n",
        "        out = model(x, y)\n",
        "        loss = criterion(out, z)\n",
        "\n",
        "        # Backprop and perform optimisation\n",
        "        optimizer.zero_grad()\n",
        "        loss.backward()\n",
        "        optimizer.step()        \n",
        "\n",
        "    ### Evaluation + Validation every epoch\n",
        "    model.eval()\n",
        "    with torch.no_grad():      \n",
        "        j = 0\n",
        "        # evaluation\n",
        "        list_loss_train = []\n",
        "        list_score_train = []\n",
        "        for batch, (x, y, z) in enumerate(train_loader):\n",
        "            j+= 1\n",
        "            # send to GPU\n",
        "            x, y, z = x.to(device), y.to(device), z.to(device)\n",
        "\n",
        "            # Run the forward pass\n",
        "            out =  model(x, y)\n",
        "            loss = criterion(out, z)\n",
        "            score = get_score(out,z)\n",
        "            list_loss_train.append(loss.item())\n",
        "            list_score_train.append(score)\n",
        "\n",
        "        train_loss = np.mean(list_loss_train)\n",
        "        train_trueP = np.mean([tp for (tp, tn) in list_score_train])\n",
        "        train_trueN = np.mean([tn for (tp, tn) in list_score_train])\n",
        "\n",
        "        k = 0\n",
        "        # validation\n",
        "        list_loss_validation = []\n",
        "        list_score_validation = []\n",
        "        for batch, (x, y, z) in enumerate(validation_loader):\n",
        "            k+= 1\n",
        "            # send to GPU\n",
        "            x, y, z = x.to(device), y.to(device), z.to(device)\n",
        "\n",
        "            # Run the forward pass\n",
        "            out =  model(x, y)\n",
        "            loss = criterion(out, z)\n",
        "            score = get_score(out,z)\n",
        "            list_loss_validation.append(loss.item())\n",
        "            list_score_validation.append(score)\n",
        "\n",
        "        validation_loss = np.mean(list_loss_validation)\n",
        "        validation_trueP = np.mean([tp for (tp, tn) in list_score_validation])\n",
        "        validation_trueN = np.mean([tn for (tp, tn) in list_score_validation])\n",
        "\n",
        "    epoch_loss_train.append(train_loss)\n",
        "    epoch_loss_validation.append(validation_loss)\n",
        "    \n",
        "    param = - model.threshold[0].bias.squeeze().detach().numpy() / model.threshold[0].weight.squeeze().detach().numpy()\n",
        "    parameters.append(param)\n",
        "    \n",
        "    print('Feature [{}] -------------------------------------------------------------------------------------'\n",
        "          .format(feature))\n",
        "    print('Train Loss: {}, Train True Positive : {} %, Train True Negative : {} %'\n",
        "            .format(round(train_loss, 2), round(train_trueP, 2), round(train_trueN, 2)))\n",
        "    print('Validation Loss: {}, Validation True Positive : {} %, Validation True Negative : {} %'\n",
        "            .format(round(validation_loss, 2), round(validation_trueP, 2), round(validation_trueN, 2)))"
      ],
      "execution_count": 12,
      "outputs": [
        {
          "output_type": "stream",
          "text": [
            "Feature [1] -------------------------------------------------------------------------------------\n",
            "Train Loss: 1.81, Train True Positive : 100.0 %, Train True Negative : 0.0 %\n",
            "Validation Loss: 1.86, Validation True Positive : 100.0 %, Validation True Negative : 0.0 %\n",
            "Feature [2] -------------------------------------------------------------------------------------\n",
            "Train Loss: 1.7, Train True Positive : 98.12 %, Train True Negative : 6.72 %\n",
            "Validation Loss: 1.79, Validation True Positive : 97.76 %, Validation True Negative : 8.71 %\n",
            "Feature [4] -------------------------------------------------------------------------------------\n",
            "Train Loss: 1.21, Train True Positive : 96.03 %, Train True Negative : 57.17 %\n",
            "Validation Loss: 1.38, Validation True Positive : 95.32 %, Validation True Negative : 49.64 %\n",
            "Feature [8] -------------------------------------------------------------------------------------\n",
            "Train Loss: 1.26, Train True Positive : 96.24 %, Train True Negative : 55.67 %\n",
            "Validation Loss: 1.39, Validation True Positive : 96.57 %, Validation True Negative : 48.8 %\n"
          ],
          "name": "stdout"
        }
      ]
    },
    {
      "cell_type": "code",
      "metadata": {
        "id": "GELDoV9T3m5u",
        "colab": {
          "base_uri": "https://localhost:8080/"
        },
        "outputId": "b3c5d17d-fb7c-4ce1-c0eb-202d0f0f16aa"
      },
      "source": [
        "parameters"
      ],
      "execution_count": 13,
      "outputs": [
        {
          "output_type": "execute_result",
          "data": {
            "text/plain": [
              "[-4.4501143,\n",
              " array([-0.6775046 , -0.28414375], dtype=float32),\n",
              " array([-0.18186481, -0.49581036, -8.4454565 , -0.444501  ], dtype=float32),\n",
              " array([-1.1092801 ,  0.48156697, 15.94505   , -1.8386593 , -1.4546337 ,\n",
              "        -1.3340455 ,  8.19908   , -0.11432928], dtype=float32)]"
            ]
          },
          "metadata": {
            "tags": []
          },
          "execution_count": 13
        }
      ]
    },
    {
      "cell_type": "code",
      "metadata": {
        "id": "TohHnjsQ_Ia-"
      },
      "source": [
        "x, y, z = next(iter(train_loader)) "
      ],
      "execution_count": 14,
      "outputs": []
    },
    {
      "cell_type": "code",
      "metadata": {
        "colab": {
          "base_uri": "https://localhost:8080/"
        },
        "id": "e8w1ojp0ABZ2",
        "outputId": "3ec6d8f2-5c77-4d59-f81a-a6a9f38b34f6"
      },
      "source": [
        "model.threshold[0].bias.squeeze().detach().numpy()\n",
        "model.threshold[0].weight.squeeze().detach().numpy()"
      ],
      "execution_count": 25,
      "outputs": [
        {
          "output_type": "execute_result",
          "data": {
            "text/plain": [
              "array([ 0.8725218 , -0.703547  ,  0.09513129,  0.5333248 ,  0.27321073,\n",
              "        0.28973636, -0.13988131, -0.14564729], dtype=float32)"
            ]
          },
          "metadata": {
            "tags": []
          },
          "execution_count": 25
        }
      ]
    },
    {
      "cell_type": "code",
      "metadata": {
        "colab": {
          "base_uri": "https://localhost:8080/"
        },
        "id": "0pMsYDdcAXnn",
        "outputId": "56460ba2-ce55-4345-a68b-bcece07647a3"
      },
      "source": [
        " y[0,0,:,:]* -0.703547 + 0.338805"
      ],
      "execution_count": 26,
      "outputs": [
        {
          "output_type": "execute_result",
          "data": {
            "text/plain": [
              "tensor([[  0.3388,  -4.4561,  -9.2509, -14.0458, -18.8406, -23.6355, -28.4303,\n",
              "         -33.2252, -38.0200, -42.8149, -47.6097, -52.4046, -57.1994, -61.9943,\n",
              "         -66.7891, -71.5840, -76.3789, -81.1737, -85.9686, -90.7634],\n",
              "        [ -4.4561,   0.3388,  -4.4561,  -9.2509, -14.0458, -18.8406, -23.6355,\n",
              "         -28.4303, -33.2252, -38.0200, -42.8149, -47.6097, -52.4046, -57.1994,\n",
              "         -61.9943, -66.7891, -71.5840, -76.3789, -81.1737, -85.9686],\n",
              "        [ -9.2509,  -4.4561,   0.3388,  -4.4560,  -9.2509, -14.0458, -18.8406,\n",
              "         -23.6355, -28.4303, -33.2252, -38.0200, -42.8149, -47.6097, -52.4046,\n",
              "         -57.1994, -61.9943, -66.7891, -71.5840, -76.3788, -81.1737],\n",
              "        [-14.0458,  -9.2509,  -4.4560,   0.3388,  -4.4560,  -9.2509, -14.0458,\n",
              "         -18.8406, -23.6355, -28.4303, -33.2252, -38.0200, -42.8149, -47.6097,\n",
              "         -52.4046, -57.1994, -61.9943, -66.7891, -71.5840, -76.3788],\n",
              "        [-18.8406, -14.0458,  -9.2509,  -4.4560,   0.3388,  -4.4560,  -9.2509,\n",
              "         -14.0458, -18.8406, -23.6355, -28.4303, -33.2252, -38.0200, -42.8149,\n",
              "         -47.6097, -52.4046, -57.1994, -61.9943, -66.7891, -71.5840],\n",
              "        [-23.6355, -18.8406, -14.0458,  -9.2509,  -4.4560,   0.3388,  -4.4560,\n",
              "          -9.2509, -14.0458, -18.8406, -23.6355, -28.4303, -33.2252, -38.0200,\n",
              "         -42.8149, -47.6097, -52.4046, -57.1994, -61.9943, -66.7891],\n",
              "        [-28.4303, -23.6355, -18.8406, -14.0458,  -9.2509,  -4.4560,   0.3388,\n",
              "          -4.4560,  -9.2509, -14.0458, -18.8406, -23.6355, -28.4303, -33.2252,\n",
              "         -38.0200, -42.8149, -47.6097, -52.4046, -57.1994, -61.9943],\n",
              "        [-33.2252, -28.4303, -23.6355, -18.8406, -14.0458,  -9.2509,  -4.4560,\n",
              "           0.3388,  -4.4560,  -9.2509, -14.0458, -18.8406, -23.6355, -28.4303,\n",
              "         -33.2252, -38.0200, -42.8149, -47.6097, -52.4046, -57.1994],\n",
              "        [-38.0200, -33.2252, -28.4303, -23.6355, -18.8406, -14.0458,  -9.2509,\n",
              "          -4.4560,   0.3388,  -4.4560,  -9.2509, -14.0458, -18.8406, -23.6355,\n",
              "         -28.4303, -33.2252, -38.0200, -42.8149, -47.6097, -52.4046],\n",
              "        [-42.8149, -38.0200, -33.2252, -28.4303, -23.6355, -18.8406, -14.0458,\n",
              "          -9.2509,  -4.4560,   0.3388,  -4.4560,  -9.2509, -14.0458, -18.8406,\n",
              "         -23.6355, -28.4303, -33.2252, -38.0200, -42.8149, -47.6097],\n",
              "        [-47.6097, -42.8149, -38.0200, -33.2252, -28.4303, -23.6355, -18.8406,\n",
              "         -14.0458,  -9.2509,  -4.4560,   0.3388,  -4.4560,  -9.2509, -14.0458,\n",
              "         -18.8406, -23.6355, -28.4303, -33.2252, -38.0200, -42.8149],\n",
              "        [-52.4046, -47.6097, -42.8149, -38.0200, -33.2252, -28.4303, -23.6355,\n",
              "         -18.8406, -14.0458,  -9.2509,  -4.4560,   0.3388,  -4.4560,  -9.2509,\n",
              "         -14.0458, -18.8406, -23.6355, -28.4303, -33.2252, -38.0200],\n",
              "        [-57.1994, -52.4046, -47.6097, -42.8149, -38.0200, -33.2252, -28.4303,\n",
              "         -23.6355, -18.8406, -14.0458,  -9.2509,  -4.4560,   0.3388,  -4.4560,\n",
              "          -9.2509, -14.0458, -18.8406, -23.6355, -28.4303, -33.2252],\n",
              "        [-61.9943, -57.1994, -52.4046, -47.6097, -42.8149, -38.0200, -33.2252,\n",
              "         -28.4303, -23.6355, -18.8406, -14.0458,  -9.2509,  -4.4560,   0.3388,\n",
              "          -4.4560,  -9.2509, -14.0458, -18.8406, -23.6355, -28.4303],\n",
              "        [-66.7891, -61.9943, -57.1994, -52.4046, -47.6097, -42.8149, -38.0200,\n",
              "         -33.2252, -28.4303, -23.6355, -18.8406, -14.0458,  -9.2509,  -4.4560,\n",
              "           0.3388,  -4.4560,  -9.2509, -14.0457, -18.8406, -23.6355],\n",
              "        [-71.5840, -66.7891, -61.9943, -57.1994, -52.4046, -47.6097, -42.8149,\n",
              "         -38.0200, -33.2252, -28.4303, -23.6355, -18.8406, -14.0458,  -9.2509,\n",
              "          -4.4560,   0.3388,  -4.4560,  -9.2509, -14.0457, -18.8406],\n",
              "        [-76.3789, -71.5840, -66.7891, -61.9943, -57.1994, -52.4046, -47.6097,\n",
              "         -42.8149, -38.0200, -33.2252, -28.4303, -23.6355, -18.8406, -14.0458,\n",
              "          -9.2509,  -4.4560,   0.3388,  -4.4560,  -9.2509, -14.0457],\n",
              "        [-81.1737, -76.3789, -71.5840, -66.7891, -61.9943, -57.1994, -52.4046,\n",
              "         -47.6097, -42.8149, -38.0200, -33.2252, -28.4303, -23.6355, -18.8406,\n",
              "         -14.0457,  -9.2509,  -4.4560,   0.3388,  -4.4560,  -9.2509],\n",
              "        [-85.9686, -81.1737, -76.3788, -71.5840, -66.7891, -61.9943, -57.1994,\n",
              "         -52.4046, -47.6097, -42.8149, -38.0200, -33.2252, -28.4303, -23.6355,\n",
              "         -18.8406, -14.0457,  -9.2509,  -4.4560,   0.3388,  -4.4560],\n",
              "        [-90.7634, -85.9686, -81.1737, -76.3788, -71.5840, -66.7891, -61.9943,\n",
              "         -57.1994, -52.4046, -47.6097, -42.8149, -38.0200, -33.2252, -28.4303,\n",
              "         -23.6355, -18.8406, -14.0457,  -9.2509,  -4.4560,   0.3388]])"
            ]
          },
          "metadata": {
            "tags": []
          },
          "execution_count": 26
        }
      ]
    },
    {
      "cell_type": "code",
      "metadata": {
        "colab": {
          "base_uri": "https://localhost:8080/",
          "height": 283
        },
        "id": "GF19vUMMBKr1",
        "outputId": "2cf7ecb0-26dd-46f7-bf50-5982eba14886"
      },
      "source": [
        "plt.imshow( y[0,0,:,:])"
      ],
      "execution_count": 36,
      "outputs": [
        {
          "output_type": "execute_result",
          "data": {
            "text/plain": [
              "<matplotlib.image.AxesImage at 0x7fee2db8fb38>"
            ]
          },
          "metadata": {
            "tags": []
          },
          "execution_count": 36
        },
        {
          "output_type": "display_data",
          "data": {
            "image/png": "[encoded data removed]",
            "text/plain": [
              "<Figure size 432x288 with 1 Axes>"
            ]
          },
          "metadata": {
            "tags": [],
            "needs_background": "light"
          }
        }
      ]
    },
    {
      "cell_type": "code",
      "metadata": {
        "colab": {
          "base_uri": "https://localhost:8080/",
          "height": 113
        },
        "id": "f9m0WROe_5H9",
        "outputId": "a2d92819-ceff-4299-adb1-4459ea3412ea"
      },
      "source": [
        "plt.figure(figsize=(12, 3))\n",
        "\n",
        "for i in range(1,9):\n",
        "  plt.subplot(1, 9, i)\n",
        "  plt.imshow(model.threshold(y).detach().numpy()[0,i-1,:,:])"
      ],
      "execution_count": 39,
      "outputs": [
        {
          "output_type": "display_data",
          "data": {
            "image/png": "[encoded data removed]",
            "text/plain": [
              "<Figure size 864x216 with 8 Axes>"
            ]
          },
          "metadata": {
            "tags": [],
            "needs_background": "light"
          }
        }
      ]
    }
  ]
}