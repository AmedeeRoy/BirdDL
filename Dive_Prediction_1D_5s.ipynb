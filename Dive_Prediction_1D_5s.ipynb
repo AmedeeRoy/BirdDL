{
  "nbformat": 4,
  "nbformat_minor": 0,
  "metadata": {
    "colab": {
      "name": "Dive Prediction - 1D - 5s.ipynb",
      "provenance": [],
      "collapsed_sections": [],
      "include_colab_link": true
    },
    "kernelspec": {
      "display_name": "Python 3",
      "language": "python",
      "name": "python3"
    },
    "language_info": {
      "codemirror_mode": {
        "name": "ipython",
        "version": 3
      },
      "file_extension": ".py",
      "mimetype": "text/x-python",
      "name": "python",
      "nbconvert_exporter": "python",
      "pygments_lexer": "ipython3",
      "version": "3.7.4"
    }
  },
  "cells": [
    {
      "cell_type": "markdown",
      "metadata": {
        "id": "view-in-github",
        "colab_type": "text"
      },
      "source": [
        "<a href=\"https://colab.research.google.com/github/AmedeeRoy/BirdDL/blob/main/Dive_Prediction_1D_5s.ipynb\" target=\"_parent\"><img src=\"https://colab.research.google.com/assets/colab-badge.svg\" alt=\"Open In Colab\"/></a>"
      ]
    },
    {
      "cell_type": "markdown",
      "metadata": {
        "id": "AoTO8FyrlBU_"
      },
      "source": [
        "# Predicting Seabird Diving Behaviour with GPS data\n",
        "\n",
        "Supervized Learning with Deep Networks\n"
      ]
    },
    {
      "cell_type": "markdown",
      "metadata": {
        "id": "ivSzc6HKxU5o"
      },
      "source": [
        "## Connecting Drive and Github"
      ]
    },
    {
      "cell_type": "code",
      "metadata": {
        "id": "WCJnT2RRxN_B",
        "outputId": "1171c045-4990-4a7e-a0fc-f9c8375641a2",
        "colab": {
          "base_uri": "https://localhost:8080/",
          "height": 35
        }
      },
      "source": [
        "# mount google drive\n",
        "from google.colab import drive\n",
        "drive.mount(\"/content/drive/\")"
      ],
      "execution_count": 1,
      "outputs": [
        {
          "output_type": "stream",
          "text": [
            "Mounted at /content/drive/\n"
          ],
          "name": "stdout"
        }
      ]
    },
    {
      "cell_type": "code",
      "metadata": {
        "id": "ia--z8OA4nEg",
        "outputId": "47cc9725-259d-4077-fa57-68870ee92ba8",
        "colab": {
          "base_uri": "https://localhost:8080/",
          "height": 35
        }
      },
      "source": [
        "%cd drive/My\\ Drive/BirdDL"
      ],
      "execution_count": 2,
      "outputs": [
        {
          "output_type": "stream",
          "text": [
            "/content/drive/My Drive/BirdDL\n"
          ],
          "name": "stdout"
        }
      ]
    },
    {
      "cell_type": "markdown",
      "metadata": {
        "id": "XpzHadDDlBVA"
      },
      "source": [
        "## Data Formatting"
      ]
    },
    {
      "cell_type": "code",
      "metadata": {
        "id": "7twgCfSglBVC"
      },
      "source": [
        "import sqlite3\n",
        "import pandas as pd\n",
        "import numpy as np\n",
        "import matplotlib.pyplot as plt\n",
        "import IPython\n",
        "import datetime\n",
        "import random\n",
        "import pickle\n",
        "\n",
        "import trip"
      ],
      "execution_count": 3,
      "outputs": []
    },
    {
      "cell_type": "code",
      "metadata": {
        "id": "SrinVr1QlBVN"
      },
      "source": [
        "# connect to database\n",
        "conn = sqlite3.connect('/content/drive/My Drive/data/seabirdbank.db')"
      ],
      "execution_count": 4,
      "outputs": []
    },
    {
      "cell_type": "code",
      "metadata": {
        "id": "MoUPeOCtlBVS",
        "outputId": "3680face-55b5-4335-f92d-1173789fc944",
        "colab": {
          "base_uri": "https://localhost:8080/",
          "height": 35
        }
      },
      "source": [
        "request = \"SELECT DISTINCT lon, lat FROM fieldwork WHERE place='Pescadores'\"\n",
        "colony = pd.read_sql_query(request, conn)\n",
        "colony = colony.values\n",
        "colony"
      ],
      "execution_count": 5,
      "outputs": [
        {
          "output_type": "execute_result",
          "data": {
            "text/plain": [
              "array([[-77.264, -11.773]])"
            ]
          },
          "metadata": {
            "tags": []
          },
          "execution_count": 5
        }
      ]
    },
    {
      "cell_type": "code",
      "metadata": {
        "id": "W_twQSv0lBVZ",
        "outputId": "91d2ef33-6a02-449d-eb5b-054e8f6928ed",
        "colab": {
          "base_uri": "https://localhost:8080/",
          "height": 424
        }
      },
      "source": [
        "request = \"SELECT \\\n",
        "            trip.id as trip, gps.datetime, gps.lon, gps.lat\\\n",
        "            FROM gps \\\n",
        "            INNER JOIN trip ON gps.trip = trip.id \\\n",
        "            INNER JOIN bird ON trip.bird = bird.id \\\n",
        "            WHERE trip.file_gps IS NOT NULL \\\n",
        "            AND trip.file_tdr IS NOT NULL \\\n",
        "            AND (bird.fieldwork = 'P1108' OR bird.fieldwork = 'P1111' \\\n",
        "                OR bird.fieldwork = 'P1112' OR bird.fieldwork = 'P1113') \\\n",
        "            AND bird.species = 'SV'\"\n",
        "\n",
        "# substr(bird.fieldwork,1,1) = 'P'\n",
        "\n",
        "gps = pd.read_sql_query(request, conn)\n",
        "gps"
      ],
      "execution_count": 6,
      "outputs": [
        {
          "output_type": "execute_result",
          "data": {
            "text/html": [
              "<div>\n",
              "<style scoped>\n",
              "    .dataframe tbody tr th:only-of-type {\n",
              "        vertical-align: middle;\n",
              "    }\n",
              "\n",
              "    .dataframe tbody tr th {\n",
              "        vertical-align: top;\n",
              "    }\n",
              "\n",
              "    .dataframe thead th {\n",
              "        text-align: right;\n",
              "    }\n",
              "</style>\n",
              "<table border=\"1\" class=\"dataframe\">\n",
              "  <thead>\n",
              "    <tr style=\"text-align: right;\">\n",
              "      <th></th>\n",
              "      <th>trip</th>\n",
              "      <th>datetime</th>\n",
              "      <th>lon</th>\n",
              "      <th>lat</th>\n",
              "    </tr>\n",
              "  </thead>\n",
              "  <tbody>\n",
              "    <tr>\n",
              "      <th>0</th>\n",
              "      <td>P1108_4_SV_T1</td>\n",
              "      <td>2008-11-25 13:00:35</td>\n",
              "      <td>-77.264128</td>\n",
              "      <td>-11.773317</td>\n",
              "    </tr>\n",
              "    <tr>\n",
              "      <th>1</th>\n",
              "      <td>P1108_4_SV_T1</td>\n",
              "      <td>2008-11-25 13:00:36</td>\n",
              "      <td>-77.264118</td>\n",
              "      <td>-11.773235</td>\n",
              "    </tr>\n",
              "    <tr>\n",
              "      <th>2</th>\n",
              "      <td>P1108_4_SV_T1</td>\n",
              "      <td>2008-11-25 13:00:37</td>\n",
              "      <td>-77.264098</td>\n",
              "      <td>-11.773152</td>\n",
              "    </tr>\n",
              "    <tr>\n",
              "      <th>3</th>\n",
              "      <td>P1108_4_SV_T1</td>\n",
              "      <td>2008-11-25 13:00:38</td>\n",
              "      <td>-77.264113</td>\n",
              "      <td>-11.773060</td>\n",
              "    </tr>\n",
              "    <tr>\n",
              "      <th>4</th>\n",
              "      <td>P1108_4_SV_T1</td>\n",
              "      <td>2008-11-25 13:00:39</td>\n",
              "      <td>-77.264142</td>\n",
              "      <td>-11.772955</td>\n",
              "    </tr>\n",
              "    <tr>\n",
              "      <th>...</th>\n",
              "      <td>...</td>\n",
              "      <td>...</td>\n",
              "      <td>...</td>\n",
              "      <td>...</td>\n",
              "    </tr>\n",
              "    <tr>\n",
              "      <th>839803</th>\n",
              "      <td>P1113_50_SV_T2</td>\n",
              "      <td>2013-11-25 05:23:26</td>\n",
              "      <td>-77.264832</td>\n",
              "      <td>-11.773701</td>\n",
              "    </tr>\n",
              "    <tr>\n",
              "      <th>839804</th>\n",
              "      <td>P1113_50_SV_T2</td>\n",
              "      <td>2013-11-25 05:23:27</td>\n",
              "      <td>-77.264862</td>\n",
              "      <td>-11.773664</td>\n",
              "    </tr>\n",
              "    <tr>\n",
              "      <th>839805</th>\n",
              "      <td>P1113_50_SV_T2</td>\n",
              "      <td>2013-11-25 05:23:28</td>\n",
              "      <td>-77.264900</td>\n",
              "      <td>-11.773705</td>\n",
              "    </tr>\n",
              "    <tr>\n",
              "      <th>839806</th>\n",
              "      <td>P1113_50_SV_T2</td>\n",
              "      <td>2013-11-25 05:23:29</td>\n",
              "      <td>-77.264931</td>\n",
              "      <td>-11.773739</td>\n",
              "    </tr>\n",
              "    <tr>\n",
              "      <th>839807</th>\n",
              "      <td>P1113_50_SV_T2</td>\n",
              "      <td>2013-11-25 05:23:30</td>\n",
              "      <td>-77.264954</td>\n",
              "      <td>-11.773770</td>\n",
              "    </tr>\n",
              "  </tbody>\n",
              "</table>\n",
              "<p>839808 rows × 4 columns</p>\n",
              "</div>"
            ],
            "text/plain": [
              "                  trip             datetime        lon        lat\n",
              "0        P1108_4_SV_T1  2008-11-25 13:00:35 -77.264128 -11.773317\n",
              "1        P1108_4_SV_T1  2008-11-25 13:00:36 -77.264118 -11.773235\n",
              "2        P1108_4_SV_T1  2008-11-25 13:00:37 -77.264098 -11.773152\n",
              "3        P1108_4_SV_T1  2008-11-25 13:00:38 -77.264113 -11.773060\n",
              "4        P1108_4_SV_T1  2008-11-25 13:00:39 -77.264142 -11.772955\n",
              "...                ...                  ...        ...        ...\n",
              "839803  P1113_50_SV_T2  2013-11-25 05:23:26 -77.264832 -11.773701\n",
              "839804  P1113_50_SV_T2  2013-11-25 05:23:27 -77.264862 -11.773664\n",
              "839805  P1113_50_SV_T2  2013-11-25 05:23:28 -77.264900 -11.773705\n",
              "839806  P1113_50_SV_T2  2013-11-25 05:23:29 -77.264931 -11.773739\n",
              "839807  P1113_50_SV_T2  2013-11-25 05:23:30 -77.264954 -11.773770\n",
              "\n",
              "[839808 rows x 4 columns]"
            ]
          },
          "metadata": {
            "tags": []
          },
          "execution_count": 6
        }
      ]
    },
    {
      "cell_type": "code",
      "metadata": {
        "id": "_XhzjeSBlBVf"
      },
      "source": [
        "# check duplicated datetime in GPS trip\n",
        "idx = gps.index[gps.loc[:, 'trip':'datetime'].duplicated(keep=False)]\n",
        "idx_drop = [idx[i] for i in range(0, len(idx), 2)]\n",
        "gps = gps.drop(idx_drop)"
      ],
      "execution_count": 7,
      "outputs": []
    },
    {
      "cell_type": "code",
      "metadata": {
        "id": "R8KuhNs3lBVj",
        "scrolled": true,
        "outputId": "b299c1ce-83e8-409a-926a-9e37d2995dc8",
        "colab": {
          "base_uri": "https://localhost:8080/",
          "height": 49
        }
      },
      "source": [
        "gps[gps.loc[:, 'trip':'datetime'].duplicated(keep=False)]"
      ],
      "execution_count": 8,
      "outputs": [
        {
          "output_type": "execute_result",
          "data": {
            "text/html": [
              "<div>\n",
              "<style scoped>\n",
              "    .dataframe tbody tr th:only-of-type {\n",
              "        vertical-align: middle;\n",
              "    }\n",
              "\n",
              "    .dataframe tbody tr th {\n",
              "        vertical-align: top;\n",
              "    }\n",
              "\n",
              "    .dataframe thead th {\n",
              "        text-align: right;\n",
              "    }\n",
              "</style>\n",
              "<table border=\"1\" class=\"dataframe\">\n",
              "  <thead>\n",
              "    <tr style=\"text-align: right;\">\n",
              "      <th></th>\n",
              "      <th>trip</th>\n",
              "      <th>datetime</th>\n",
              "      <th>lon</th>\n",
              "      <th>lat</th>\n",
              "    </tr>\n",
              "  </thead>\n",
              "  <tbody>\n",
              "  </tbody>\n",
              "</table>\n",
              "</div>"
            ],
            "text/plain": [
              "Empty DataFrame\n",
              "Columns: [trip, datetime, lon, lat]\n",
              "Index: []"
            ]
          },
          "metadata": {
            "tags": []
          },
          "execution_count": 8
        }
      ]
    },
    {
      "cell_type": "code",
      "metadata": {
        "id": "Sw-ExcWzlBVq",
        "outputId": "559f7666-7d31-42f7-9ba8-69caebee975d",
        "colab": {
          "base_uri": "https://localhost:8080/",
          "height": 424
        }
      },
      "source": [
        "request = \"SELECT \\\n",
        "            trip.id as trip, tdr.datetime, tdr.pressure \\\n",
        "            FROM tdr \\\n",
        "            INNER JOIN trip ON tdr.trip = trip.id \\\n",
        "            INNER JOIN bird ON trip.bird = bird.id \\\n",
        "            WHERE trip.file_gps IS NOT NULL \\\n",
        "            AND trip.file_tdr IS NOT NULL \\\n",
        "            AND (bird.fieldwork = 'P1108' OR bird.fieldwork = 'P1111' \\\n",
        "                OR bird.fieldwork = 'P1112' OR bird.fieldwork = 'P1113') \\\n",
        "            AND bird.species = 'SV'\"\n",
        "\n",
        "# WHERE substr(bird.fieldwork,1,1) = 'P' \n",
        "\n",
        "tdr = pd.read_sql_query(request, conn)\n",
        "tdr"
      ],
      "execution_count": 9,
      "outputs": [
        {
          "output_type": "execute_result",
          "data": {
            "text/html": [
              "<div>\n",
              "<style scoped>\n",
              "    .dataframe tbody tr th:only-of-type {\n",
              "        vertical-align: middle;\n",
              "    }\n",
              "\n",
              "    .dataframe tbody tr th {\n",
              "        vertical-align: top;\n",
              "    }\n",
              "\n",
              "    .dataframe thead th {\n",
              "        text-align: right;\n",
              "    }\n",
              "</style>\n",
              "<table border=\"1\" class=\"dataframe\">\n",
              "  <thead>\n",
              "    <tr style=\"text-align: right;\">\n",
              "      <th></th>\n",
              "      <th>trip</th>\n",
              "      <th>datetime</th>\n",
              "      <th>pressure</th>\n",
              "    </tr>\n",
              "  </thead>\n",
              "  <tbody>\n",
              "    <tr>\n",
              "      <th>0</th>\n",
              "      <td>P1108_4_SV_T1</td>\n",
              "      <td>2008-11-25 13:00:35</td>\n",
              "      <td>-0.35</td>\n",
              "    </tr>\n",
              "    <tr>\n",
              "      <th>1</th>\n",
              "      <td>P1108_4_SV_T1</td>\n",
              "      <td>2008-11-25 13:00:36</td>\n",
              "      <td>-0.38</td>\n",
              "    </tr>\n",
              "    <tr>\n",
              "      <th>2</th>\n",
              "      <td>P1108_4_SV_T1</td>\n",
              "      <td>2008-11-25 13:00:37</td>\n",
              "      <td>-0.35</td>\n",
              "    </tr>\n",
              "    <tr>\n",
              "      <th>3</th>\n",
              "      <td>P1108_4_SV_T1</td>\n",
              "      <td>2008-11-25 13:00:38</td>\n",
              "      <td>-0.29</td>\n",
              "    </tr>\n",
              "    <tr>\n",
              "      <th>4</th>\n",
              "      <td>P1108_4_SV_T1</td>\n",
              "      <td>2008-11-25 13:00:39</td>\n",
              "      <td>-0.29</td>\n",
              "    </tr>\n",
              "    <tr>\n",
              "      <th>...</th>\n",
              "      <td>...</td>\n",
              "      <td>...</td>\n",
              "      <td>...</td>\n",
              "    </tr>\n",
              "    <tr>\n",
              "      <th>1086337</th>\n",
              "      <td>P1113_50_SV_T2</td>\n",
              "      <td>2013-11-25 05:23:26</td>\n",
              "      <td>-0.94</td>\n",
              "    </tr>\n",
              "    <tr>\n",
              "      <th>1086338</th>\n",
              "      <td>P1113_50_SV_T2</td>\n",
              "      <td>2013-11-25 05:23:27</td>\n",
              "      <td>-0.94</td>\n",
              "    </tr>\n",
              "    <tr>\n",
              "      <th>1086339</th>\n",
              "      <td>P1113_50_SV_T2</td>\n",
              "      <td>2013-11-25 05:23:28</td>\n",
              "      <td>-0.94</td>\n",
              "    </tr>\n",
              "    <tr>\n",
              "      <th>1086340</th>\n",
              "      <td>P1113_50_SV_T2</td>\n",
              "      <td>2013-11-25 05:23:29</td>\n",
              "      <td>-0.94</td>\n",
              "    </tr>\n",
              "    <tr>\n",
              "      <th>1086341</th>\n",
              "      <td>P1113_50_SV_T2</td>\n",
              "      <td>2013-11-25 05:23:30</td>\n",
              "      <td>-0.94</td>\n",
              "    </tr>\n",
              "  </tbody>\n",
              "</table>\n",
              "<p>1086342 rows × 3 columns</p>\n",
              "</div>"
            ],
            "text/plain": [
              "                   trip             datetime  pressure\n",
              "0         P1108_4_SV_T1  2008-11-25 13:00:35     -0.35\n",
              "1         P1108_4_SV_T1  2008-11-25 13:00:36     -0.38\n",
              "2         P1108_4_SV_T1  2008-11-25 13:00:37     -0.35\n",
              "3         P1108_4_SV_T1  2008-11-25 13:00:38     -0.29\n",
              "4         P1108_4_SV_T1  2008-11-25 13:00:39     -0.29\n",
              "...                 ...                  ...       ...\n",
              "1086337  P1113_50_SV_T2  2013-11-25 05:23:26     -0.94\n",
              "1086338  P1113_50_SV_T2  2013-11-25 05:23:27     -0.94\n",
              "1086339  P1113_50_SV_T2  2013-11-25 05:23:28     -0.94\n",
              "1086340  P1113_50_SV_T2  2013-11-25 05:23:29     -0.94\n",
              "1086341  P1113_50_SV_T2  2013-11-25 05:23:30     -0.94\n",
              "\n",
              "[1086342 rows x 3 columns]"
            ]
          },
          "metadata": {
            "tags": []
          },
          "execution_count": 9
        }
      ]
    },
    {
      "cell_type": "code",
      "metadata": {
        "id": "FsLfaOzHlBVu"
      },
      "source": [
        "tdr['datetime'] = pd.to_datetime(tdr['datetime'], format='%Y-%m-%d %H:%M:%S')\n",
        "gps['datetime'] = pd.to_datetime(gps['datetime'], format='%Y-%m-%d %H:%M:%S')"
      ],
      "execution_count": 10,
      "outputs": []
    },
    {
      "cell_type": "code",
      "metadata": {
        "id": "3y-dQs7DlBVy",
        "outputId": "9f3d2fcb-2514-499b-a7a9-0b4740028c83",
        "colab": {
          "base_uri": "https://localhost:8080/",
          "height": 424
        }
      },
      "source": [
        "df = pd.merge(tdr, gps, on=['trip', 'datetime'], how='left')\n",
        "df"
      ],
      "execution_count": 11,
      "outputs": [
        {
          "output_type": "execute_result",
          "data": {
            "text/html": [
              "<div>\n",
              "<style scoped>\n",
              "    .dataframe tbody tr th:only-of-type {\n",
              "        vertical-align: middle;\n",
              "    }\n",
              "\n",
              "    .dataframe tbody tr th {\n",
              "        vertical-align: top;\n",
              "    }\n",
              "\n",
              "    .dataframe thead th {\n",
              "        text-align: right;\n",
              "    }\n",
              "</style>\n",
              "<table border=\"1\" class=\"dataframe\">\n",
              "  <thead>\n",
              "    <tr style=\"text-align: right;\">\n",
              "      <th></th>\n",
              "      <th>trip</th>\n",
              "      <th>datetime</th>\n",
              "      <th>pressure</th>\n",
              "      <th>lon</th>\n",
              "      <th>lat</th>\n",
              "    </tr>\n",
              "  </thead>\n",
              "  <tbody>\n",
              "    <tr>\n",
              "      <th>0</th>\n",
              "      <td>P1108_4_SV_T1</td>\n",
              "      <td>2008-11-25 13:00:35</td>\n",
              "      <td>-0.35</td>\n",
              "      <td>-77.264128</td>\n",
              "      <td>-11.773317</td>\n",
              "    </tr>\n",
              "    <tr>\n",
              "      <th>1</th>\n",
              "      <td>P1108_4_SV_T1</td>\n",
              "      <td>2008-11-25 13:00:36</td>\n",
              "      <td>-0.38</td>\n",
              "      <td>-77.264118</td>\n",
              "      <td>-11.773235</td>\n",
              "    </tr>\n",
              "    <tr>\n",
              "      <th>2</th>\n",
              "      <td>P1108_4_SV_T1</td>\n",
              "      <td>2008-11-25 13:00:37</td>\n",
              "      <td>-0.35</td>\n",
              "      <td>-77.264098</td>\n",
              "      <td>-11.773152</td>\n",
              "    </tr>\n",
              "    <tr>\n",
              "      <th>3</th>\n",
              "      <td>P1108_4_SV_T1</td>\n",
              "      <td>2008-11-25 13:00:38</td>\n",
              "      <td>-0.29</td>\n",
              "      <td>-77.264113</td>\n",
              "      <td>-11.773060</td>\n",
              "    </tr>\n",
              "    <tr>\n",
              "      <th>4</th>\n",
              "      <td>P1108_4_SV_T1</td>\n",
              "      <td>2008-11-25 13:00:39</td>\n",
              "      <td>-0.29</td>\n",
              "      <td>-77.264142</td>\n",
              "      <td>-11.772955</td>\n",
              "    </tr>\n",
              "    <tr>\n",
              "      <th>...</th>\n",
              "      <td>...</td>\n",
              "      <td>...</td>\n",
              "      <td>...</td>\n",
              "      <td>...</td>\n",
              "      <td>...</td>\n",
              "    </tr>\n",
              "    <tr>\n",
              "      <th>1086337</th>\n",
              "      <td>P1113_50_SV_T2</td>\n",
              "      <td>2013-11-25 05:23:26</td>\n",
              "      <td>-0.94</td>\n",
              "      <td>-77.264832</td>\n",
              "      <td>-11.773701</td>\n",
              "    </tr>\n",
              "    <tr>\n",
              "      <th>1086338</th>\n",
              "      <td>P1113_50_SV_T2</td>\n",
              "      <td>2013-11-25 05:23:27</td>\n",
              "      <td>-0.94</td>\n",
              "      <td>-77.264862</td>\n",
              "      <td>-11.773664</td>\n",
              "    </tr>\n",
              "    <tr>\n",
              "      <th>1086339</th>\n",
              "      <td>P1113_50_SV_T2</td>\n",
              "      <td>2013-11-25 05:23:28</td>\n",
              "      <td>-0.94</td>\n",
              "      <td>-77.264900</td>\n",
              "      <td>-11.773705</td>\n",
              "    </tr>\n",
              "    <tr>\n",
              "      <th>1086340</th>\n",
              "      <td>P1113_50_SV_T2</td>\n",
              "      <td>2013-11-25 05:23:29</td>\n",
              "      <td>-0.94</td>\n",
              "      <td>-77.264931</td>\n",
              "      <td>-11.773739</td>\n",
              "    </tr>\n",
              "    <tr>\n",
              "      <th>1086341</th>\n",
              "      <td>P1113_50_SV_T2</td>\n",
              "      <td>2013-11-25 05:23:30</td>\n",
              "      <td>-0.94</td>\n",
              "      <td>-77.264954</td>\n",
              "      <td>-11.773770</td>\n",
              "    </tr>\n",
              "  </tbody>\n",
              "</table>\n",
              "<p>1086342 rows × 5 columns</p>\n",
              "</div>"
            ],
            "text/plain": [
              "                   trip            datetime  pressure        lon        lat\n",
              "0         P1108_4_SV_T1 2008-11-25 13:00:35     -0.35 -77.264128 -11.773317\n",
              "1         P1108_4_SV_T1 2008-11-25 13:00:36     -0.38 -77.264118 -11.773235\n",
              "2         P1108_4_SV_T1 2008-11-25 13:00:37     -0.35 -77.264098 -11.773152\n",
              "3         P1108_4_SV_T1 2008-11-25 13:00:38     -0.29 -77.264113 -11.773060\n",
              "4         P1108_4_SV_T1 2008-11-25 13:00:39     -0.29 -77.264142 -11.772955\n",
              "...                 ...                 ...       ...        ...        ...\n",
              "1086337  P1113_50_SV_T2 2013-11-25 05:23:26     -0.94 -77.264832 -11.773701\n",
              "1086338  P1113_50_SV_T2 2013-11-25 05:23:27     -0.94 -77.264862 -11.773664\n",
              "1086339  P1113_50_SV_T2 2013-11-25 05:23:28     -0.94 -77.264900 -11.773705\n",
              "1086340  P1113_50_SV_T2 2013-11-25 05:23:29     -0.94 -77.264931 -11.773739\n",
              "1086341  P1113_50_SV_T2 2013-11-25 05:23:30     -0.94 -77.264954 -11.773770\n",
              "\n",
              "[1086342 rows x 5 columns]"
            ]
          },
          "metadata": {
            "tags": []
          },
          "execution_count": 11
        }
      ]
    },
    {
      "cell_type": "code",
      "metadata": {
        "id": "ezQ3WSrMlBV2"
      },
      "source": [
        "# check NaN and fill with interpolations\n",
        "[i for i, x in enumerate(df['lon'].isna()) if x]\n",
        "\n",
        "\n",
        "df['lon'] = df['lon'].interpolate(method='polynomial', order=2)\n",
        "df['lat'] = df['lat'].interpolate(method='polynomial', order=2)"
      ],
      "execution_count": 12,
      "outputs": []
    },
    {
      "cell_type": "code",
      "metadata": {
        "id": "-rMJhCx4lBV7",
        "outputId": "71a881fa-fad9-4bfe-c2bb-2adef7ba54ed",
        "colab": {
          "base_uri": "https://localhost:8080/",
          "height": 35
        }
      },
      "source": [
        "len(df.trip.unique())"
      ],
      "execution_count": 13,
      "outputs": [
        {
          "output_type": "execute_result",
          "data": {
            "text/plain": [
              "185"
            ]
          },
          "metadata": {
            "tags": []
          },
          "execution_count": 13
        }
      ]
    },
    {
      "cell_type": "code",
      "metadata": {
        "id": "yPftDapClBV_"
      },
      "source": [
        "# threshold = 1\n",
        "# path_folder = \"./trajectory/\"\n",
        "\n",
        "# for t in df.trip.unique():\n",
        "    \n",
        "#     path_file = path_folder + t\n",
        "#     df_trip = df[df.trip == t]\n",
        "    \n",
        "#     bias = np.median(df_trip.pressure.values)\n",
        "  \n",
        "#     plt.figure(figsize=(9, 3))\n",
        "\n",
        "#     plt.subplot(1, 2, 1)\n",
        "#     plt.plot(df_trip.datetime.values, df_trip.pressure.values)\n",
        "#     plt.plot(df_trip.datetime.values, [threshold+bias for i in range(len(df_trip))], color = 'orange')\n",
        "\n",
        "#     plt.subplot(1, 2, 2)\n",
        "#     plt.plot(df_trip.lon.values, df_trip.lat.values)\n",
        "#     plt.scatter(df_trip.lon.values[df_trip.pressure-bias > threshold], \\\n",
        "#                 df_trip.lat.values[df_trip.pressure-bias > threshold], c = 'orange')\n",
        "    \n",
        "#     plt.savefig(path_file)\n",
        "#     plt.close()"
      ],
      "execution_count": 14,
      "outputs": []
    },
    {
      "cell_type": "code",
      "metadata": {
        "id": "VUrhk1xslBWE"
      },
      "source": [
        "bad_trip = ['P1111_9_SV_T1', 'P1111_13_SV_T6', 'P1111_41_SV_T2', 'P1111_46_SV_T5', 'P1111_52_SV_T1',\n",
        "            'P1112_4_SV_T2', 'P1112_26_SV_T5', 'P1112_36_SV_T1', 'P1112_36_SV_T2', 'P1113_41_SV_T3',\n",
        "           'P1113_50_SV_T2']\n",
        "\n",
        "no_loop = ['P1112_26_SV_T1', 'P1112_26_SV_T2', 'P1112_26_SV_T3', 'P1112_26_SV_T4']"
      ],
      "execution_count": 15,
      "outputs": []
    },
    {
      "cell_type": "code",
      "metadata": {
        "id": "gbmPfofrlBWI"
      },
      "source": [
        "### remove bad data\n",
        "idx = df.index[[(t in bad_trip or t in no_loop) for t in df.trip]]\n",
        "df = df.drop(idx)"
      ],
      "execution_count": 16,
      "outputs": []
    },
    {
      "cell_type": "code",
      "metadata": {
        "id": "BMlPJEqSlBWL",
        "scrolled": true,
        "outputId": "f2009761-ecb6-4776-a795-efc05a889143",
        "colab": {
          "base_uri": "https://localhost:8080/",
          "height": 35
        }
      },
      "source": [
        "len(df.trip.unique())"
      ],
      "execution_count": 17,
      "outputs": [
        {
          "output_type": "execute_result",
          "data": {
            "text/plain": [
              "170"
            ]
          },
          "metadata": {
            "tags": []
          },
          "execution_count": 17
        }
      ]
    },
    {
      "cell_type": "markdown",
      "metadata": {
        "id": "FQs8vxWMlBWP"
      },
      "source": [
        "## Trip Statistics"
      ]
    },
    {
      "cell_type": "code",
      "metadata": {
        "id": "USFIntlilBWQ",
        "outputId": "91a87108-5b0e-4173-8019-ac528642dce9",
        "colab": {
          "base_uri": "https://localhost:8080/",
          "height": 424
        }
      },
      "source": [
        "df_trip = df[df.trip == 'P1108_4_SV_T1']\n",
        "df_trip"
      ],
      "execution_count": 18,
      "outputs": [
        {
          "output_type": "execute_result",
          "data": {
            "text/html": [
              "<div>\n",
              "<style scoped>\n",
              "    .dataframe tbody tr th:only-of-type {\n",
              "        vertical-align: middle;\n",
              "    }\n",
              "\n",
              "    .dataframe tbody tr th {\n",
              "        vertical-align: top;\n",
              "    }\n",
              "\n",
              "    .dataframe thead th {\n",
              "        text-align: right;\n",
              "    }\n",
              "</style>\n",
              "<table border=\"1\" class=\"dataframe\">\n",
              "  <thead>\n",
              "    <tr style=\"text-align: right;\">\n",
              "      <th></th>\n",
              "      <th>trip</th>\n",
              "      <th>datetime</th>\n",
              "      <th>pressure</th>\n",
              "      <th>lon</th>\n",
              "      <th>lat</th>\n",
              "    </tr>\n",
              "  </thead>\n",
              "  <tbody>\n",
              "    <tr>\n",
              "      <th>0</th>\n",
              "      <td>P1108_4_SV_T1</td>\n",
              "      <td>2008-11-25 13:00:35</td>\n",
              "      <td>-0.35</td>\n",
              "      <td>-77.264128</td>\n",
              "      <td>-11.773317</td>\n",
              "    </tr>\n",
              "    <tr>\n",
              "      <th>1</th>\n",
              "      <td>P1108_4_SV_T1</td>\n",
              "      <td>2008-11-25 13:00:36</td>\n",
              "      <td>-0.38</td>\n",
              "      <td>-77.264118</td>\n",
              "      <td>-11.773235</td>\n",
              "    </tr>\n",
              "    <tr>\n",
              "      <th>2</th>\n",
              "      <td>P1108_4_SV_T1</td>\n",
              "      <td>2008-11-25 13:00:37</td>\n",
              "      <td>-0.35</td>\n",
              "      <td>-77.264098</td>\n",
              "      <td>-11.773152</td>\n",
              "    </tr>\n",
              "    <tr>\n",
              "      <th>3</th>\n",
              "      <td>P1108_4_SV_T1</td>\n",
              "      <td>2008-11-25 13:00:38</td>\n",
              "      <td>-0.29</td>\n",
              "      <td>-77.264113</td>\n",
              "      <td>-11.773060</td>\n",
              "    </tr>\n",
              "    <tr>\n",
              "      <th>4</th>\n",
              "      <td>P1108_4_SV_T1</td>\n",
              "      <td>2008-11-25 13:00:39</td>\n",
              "      <td>-0.29</td>\n",
              "      <td>-77.264142</td>\n",
              "      <td>-11.772955</td>\n",
              "    </tr>\n",
              "    <tr>\n",
              "      <th>...</th>\n",
              "      <td>...</td>\n",
              "      <td>...</td>\n",
              "      <td>...</td>\n",
              "      <td>...</td>\n",
              "      <td>...</td>\n",
              "    </tr>\n",
              "    <tr>\n",
              "      <th>6622</th>\n",
              "      <td>P1108_4_SV_T1</td>\n",
              "      <td>2008-11-25 14:50:57</td>\n",
              "      <td>-0.29</td>\n",
              "      <td>-77.264097</td>\n",
              "      <td>-11.773710</td>\n",
              "    </tr>\n",
              "    <tr>\n",
              "      <th>6623</th>\n",
              "      <td>P1108_4_SV_T1</td>\n",
              "      <td>2008-11-25 14:50:58</td>\n",
              "      <td>-0.29</td>\n",
              "      <td>-77.264223</td>\n",
              "      <td>-11.773817</td>\n",
              "    </tr>\n",
              "    <tr>\n",
              "      <th>6624</th>\n",
              "      <td>P1108_4_SV_T1</td>\n",
              "      <td>2008-11-25 14:50:59</td>\n",
              "      <td>-0.26</td>\n",
              "      <td>-77.264307</td>\n",
              "      <td>-11.773860</td>\n",
              "    </tr>\n",
              "    <tr>\n",
              "      <th>6625</th>\n",
              "      <td>P1108_4_SV_T1</td>\n",
              "      <td>2008-11-25 14:51:00</td>\n",
              "      <td>-0.22</td>\n",
              "      <td>-77.264363</td>\n",
              "      <td>-11.773875</td>\n",
              "    </tr>\n",
              "    <tr>\n",
              "      <th>6626</th>\n",
              "      <td>P1108_4_SV_T1</td>\n",
              "      <td>2008-11-25 14:51:01</td>\n",
              "      <td>-0.22</td>\n",
              "      <td>-77.264395</td>\n",
              "      <td>-11.773895</td>\n",
              "    </tr>\n",
              "  </tbody>\n",
              "</table>\n",
              "<p>6627 rows × 5 columns</p>\n",
              "</div>"
            ],
            "text/plain": [
              "               trip            datetime  pressure        lon        lat\n",
              "0     P1108_4_SV_T1 2008-11-25 13:00:35     -0.35 -77.264128 -11.773317\n",
              "1     P1108_4_SV_T1 2008-11-25 13:00:36     -0.38 -77.264118 -11.773235\n",
              "2     P1108_4_SV_T1 2008-11-25 13:00:37     -0.35 -77.264098 -11.773152\n",
              "3     P1108_4_SV_T1 2008-11-25 13:00:38     -0.29 -77.264113 -11.773060\n",
              "4     P1108_4_SV_T1 2008-11-25 13:00:39     -0.29 -77.264142 -11.772955\n",
              "...             ...                 ...       ...        ...        ...\n",
              "6622  P1108_4_SV_T1 2008-11-25 14:50:57     -0.29 -77.264097 -11.773710\n",
              "6623  P1108_4_SV_T1 2008-11-25 14:50:58     -0.29 -77.264223 -11.773817\n",
              "6624  P1108_4_SV_T1 2008-11-25 14:50:59     -0.26 -77.264307 -11.773860\n",
              "6625  P1108_4_SV_T1 2008-11-25 14:51:00     -0.22 -77.264363 -11.773875\n",
              "6626  P1108_4_SV_T1 2008-11-25 14:51:01     -0.22 -77.264395 -11.773895\n",
              "\n",
              "[6627 rows x 5 columns]"
            ]
          },
          "metadata": {
            "tags": []
          },
          "execution_count": 18
        }
      ]
    },
    {
      "cell_type": "code",
      "metadata": {
        "id": "BRh2PMltlBWX"
      },
      "source": [
        "# create trip\n",
        "t = trip.Trip(df_trip)\n",
        "threshold = 1\n",
        "\n",
        "# add variable\n",
        "t.add_step()\n",
        "t.add_cap()\n",
        "t.add_direction()\n",
        "t.add_dive(threshold)\n",
        "t.df['cos_cap'] = np.cos(t.df.cap)\n",
        "t.df['sin_cap'] = np.sin(t.df.cap)\n",
        "\n",
        "# standardize variable\n",
        "t.standardize(('step', 'direction'))\n",
        "t.standardize_minmax(('lon', 'lat'))"
      ],
      "execution_count": 19,
      "outputs": []
    },
    {
      "cell_type": "code",
      "metadata": {
        "id": "ALhefV1YlBWa",
        "outputId": "3b998567-0b6c-4511-9088-357e3db1b044",
        "colab": {
          "base_uri": "https://localhost:8080/",
          "height": 211
        }
      },
      "source": [
        "t.plot()"
      ],
      "execution_count": 20,
      "outputs": [
        {
          "output_type": "display_data",
          "data": {
            "image/png": "[encoded data removed]",
            "text/plain": [
              "<Figure size 1080x216 with 3 Axes>"
            ]
          },
          "metadata": {
            "tags": [],
            "needs_background": "light"
          }
        }
      ]
    },
    {
      "cell_type": "code",
      "metadata": {
        "id": "elWsE3tYlBWd",
        "scrolled": true,
        "outputId": "06a8b19c-f53f-4b00-ea06-399876debe06",
        "colab": {
          "base_uri": "https://localhost:8080/",
          "height": 35
        }
      },
      "source": [
        "t.get_duration()"
      ],
      "execution_count": 21,
      "outputs": [
        {
          "output_type": "execute_result",
          "data": {
            "text/plain": [
              "Timedelta('0 days 01:50:26')"
            ]
          },
          "metadata": {
            "tags": []
          },
          "execution_count": 21
        }
      ]
    },
    {
      "cell_type": "code",
      "metadata": {
        "id": "61lUiLy0lBWh",
        "scrolled": true,
        "outputId": "59c91f6a-0ef6-4a3e-a59c-b9af76267644",
        "colab": {
          "base_uri": "https://localhost:8080/",
          "height": 35
        }
      },
      "source": [
        "t.get_distance()"
      ],
      "execution_count": 22,
      "outputs": [
        {
          "output_type": "execute_result",
          "data": {
            "text/plain": [
              "88.1484595608965"
            ]
          },
          "metadata": {
            "tags": []
          },
          "execution_count": 22
        }
      ]
    },
    {
      "cell_type": "code",
      "metadata": {
        "id": "_fPGn8y2nIBV",
        "outputId": "0af1d501-12b8-4c5d-d6fd-4da01c8476c7",
        "colab": {
          "base_uri": "https://localhost:8080/",
          "height": 206
        }
      },
      "source": [
        "t.df.head()"
      ],
      "execution_count": 23,
      "outputs": [
        {
          "output_type": "execute_result",
          "data": {
            "text/html": [
              "<div>\n",
              "<style scoped>\n",
              "    .dataframe tbody tr th:only-of-type {\n",
              "        vertical-align: middle;\n",
              "    }\n",
              "\n",
              "    .dataframe tbody tr th {\n",
              "        vertical-align: top;\n",
              "    }\n",
              "\n",
              "    .dataframe thead th {\n",
              "        text-align: right;\n",
              "    }\n",
              "</style>\n",
              "<table border=\"1\" class=\"dataframe\">\n",
              "  <thead>\n",
              "    <tr style=\"text-align: right;\">\n",
              "      <th></th>\n",
              "      <th>trip</th>\n",
              "      <th>datetime</th>\n",
              "      <th>pressure</th>\n",
              "      <th>lon</th>\n",
              "      <th>lat</th>\n",
              "      <th>step</th>\n",
              "      <th>cap</th>\n",
              "      <th>direction</th>\n",
              "      <th>dive</th>\n",
              "      <th>cos_cap</th>\n",
              "      <th>sin_cap</th>\n",
              "      <th>step_std</th>\n",
              "      <th>direction_std</th>\n",
              "      <th>lon_std_mm</th>\n",
              "      <th>lat_std_mm</th>\n",
              "    </tr>\n",
              "  </thead>\n",
              "  <tbody>\n",
              "    <tr>\n",
              "      <th>0</th>\n",
              "      <td>P1108_4_SV_T1</td>\n",
              "      <td>2008-11-25 13:00:35</td>\n",
              "      <td>-0.35</td>\n",
              "      <td>-77.264128</td>\n",
              "      <td>-11.773317</td>\n",
              "      <td>NaN</td>\n",
              "      <td>NaN</td>\n",
              "      <td>NaN</td>\n",
              "      <td>0</td>\n",
              "      <td>NaN</td>\n",
              "      <td>NaN</td>\n",
              "      <td>NaN</td>\n",
              "      <td>NaN</td>\n",
              "      <td>0.999801</td>\n",
              "      <td>0.143444</td>\n",
              "    </tr>\n",
              "    <tr>\n",
              "      <th>1</th>\n",
              "      <td>P1108_4_SV_T1</td>\n",
              "      <td>2008-11-25 13:00:36</td>\n",
              "      <td>-0.38</td>\n",
              "      <td>-77.264118</td>\n",
              "      <td>-11.773235</td>\n",
              "      <td>9.192428</td>\n",
              "      <td>6.808074</td>\n",
              "      <td>NaN</td>\n",
              "      <td>0</td>\n",
              "      <td>0.865380</td>\n",
              "      <td>0.501117</td>\n",
              "      <td>-1.114452</td>\n",
              "      <td>NaN</td>\n",
              "      <td>0.999830</td>\n",
              "      <td>0.144644</td>\n",
              "    </tr>\n",
              "    <tr>\n",
              "      <th>2</th>\n",
              "      <td>P1108_4_SV_T1</td>\n",
              "      <td>2008-11-25 13:00:37</td>\n",
              "      <td>-0.35</td>\n",
              "      <td>-77.264098</td>\n",
              "      <td>-11.773152</td>\n",
              "      <td>9.492498</td>\n",
              "      <td>13.273123</td>\n",
              "      <td>6.465048</td>\n",
              "      <td>0</td>\n",
              "      <td>0.760475</td>\n",
              "      <td>0.649367</td>\n",
              "      <td>-1.033105</td>\n",
              "      <td>0.316087</td>\n",
              "      <td>0.999889</td>\n",
              "      <td>0.145858</td>\n",
              "    </tr>\n",
              "    <tr>\n",
              "      <th>3</th>\n",
              "      <td>P1108_4_SV_T1</td>\n",
              "      <td>2008-11-25 13:00:38</td>\n",
              "      <td>-0.29</td>\n",
              "      <td>-77.264113</td>\n",
              "      <td>-11.773060</td>\n",
              "      <td>10.370362</td>\n",
              "      <td>350.931311</td>\n",
              "      <td>-22.341812</td>\n",
              "      <td>0</td>\n",
              "      <td>0.600183</td>\n",
              "      <td>-0.799863</td>\n",
              "      <td>-0.795125</td>\n",
              "      <td>-1.099954</td>\n",
              "      <td>0.999845</td>\n",
              "      <td>0.147204</td>\n",
              "    </tr>\n",
              "    <tr>\n",
              "      <th>4</th>\n",
              "      <td>P1108_4_SV_T1</td>\n",
              "      <td>2008-11-25 13:00:39</td>\n",
              "      <td>-0.29</td>\n",
              "      <td>-77.264142</td>\n",
              "      <td>-11.772955</td>\n",
              "      <td>12.107480</td>\n",
              "      <td>344.870108</td>\n",
              "      <td>-6.061203</td>\n",
              "      <td>0</td>\n",
              "      <td>0.761557</td>\n",
              "      <td>-0.648098</td>\n",
              "      <td>-0.324208</td>\n",
              "      <td>-0.299658</td>\n",
              "      <td>0.999760</td>\n",
              "      <td>0.148740</td>\n",
              "    </tr>\n",
              "  </tbody>\n",
              "</table>\n",
              "</div>"
            ],
            "text/plain": [
              "            trip            datetime  ...  lon_std_mm  lat_std_mm\n",
              "0  P1108_4_SV_T1 2008-11-25 13:00:35  ...    0.999801    0.143444\n",
              "1  P1108_4_SV_T1 2008-11-25 13:00:36  ...    0.999830    0.144644\n",
              "2  P1108_4_SV_T1 2008-11-25 13:00:37  ...    0.999889    0.145858\n",
              "3  P1108_4_SV_T1 2008-11-25 13:00:38  ...    0.999845    0.147204\n",
              "4  P1108_4_SV_T1 2008-11-25 13:00:39  ...    0.999760    0.148740\n",
              "\n",
              "[5 rows x 15 columns]"
            ]
          },
          "metadata": {
            "tags": []
          },
          "execution_count": 23
        }
      ]
    },
    {
      "cell_type": "markdown",
      "metadata": {
        "id": "ZSqMbo6zlBWw"
      },
      "source": [
        "## Dive Prediction"
      ]
    },
    {
      "cell_type": "code",
      "metadata": {
        "id": "fLC0RAsXlBW0",
        "outputId": "632dba24-9d68-439c-efa6-4fd70329e8a8",
        "colab": {
          "base_uri": "https://localhost:8080/",
          "height": 72
        }
      },
      "source": [
        "%%time\n",
        "\n",
        "trajs = []\n",
        "radius = 500\n",
        "n = 1\n",
        "for k in df.trip.unique():\n",
        "    df_trip = df[df.trip == k]\n",
        "    \n",
        "    t = trip.Trip(df_trip)\n",
        "    # add variables\n",
        "    t.add_dive(threshold)\n",
        "    t.add_step()\n",
        "    t.add_cap()\n",
        "    t.add_direction()\n",
        "    t.df['cos_cap'] = np.cos(t.df.cap)\n",
        "    t.df['sin_cap'] = np.sin(t.df.cap)\n",
        "\n",
        "    # standardized trajectories\n",
        "    t.standardize(('step', 'direction'))\n",
        "    t.standardize_minmax(('lon', 'lat'))\n",
        "\n",
        "    trajs.append(t.df)\n",
        "    \n",
        "    IPython.display.clear_output(wait=True)\n",
        "    print('Trip [{}/{}]'.format(n, len(df.trip.unique())))\n",
        "    n+=1"
      ],
      "execution_count": 24,
      "outputs": [
        {
          "output_type": "stream",
          "text": [
            "Trip [170/170]\n",
            "CPU times: user 21.7 s, sys: 365 ms, total: 22.1 s\n",
            "Wall time: 22.1 s\n"
          ],
          "name": "stdout"
        }
      ]
    },
    {
      "cell_type": "code",
      "metadata": {
        "id": "ictIDcImlBW2",
        "outputId": "8edf1ce2-8d0f-4c0b-95cf-ebaabd8a0c95",
        "colab": {
          "base_uri": "https://localhost:8080/",
          "height": 424
        }
      },
      "source": [
        "trajs[0]"
      ],
      "execution_count": 25,
      "outputs": [
        {
          "output_type": "execute_result",
          "data": {
            "text/html": [
              "<div>\n",
              "<style scoped>\n",
              "    .dataframe tbody tr th:only-of-type {\n",
              "        vertical-align: middle;\n",
              "    }\n",
              "\n",
              "    .dataframe tbody tr th {\n",
              "        vertical-align: top;\n",
              "    }\n",
              "\n",
              "    .dataframe thead th {\n",
              "        text-align: right;\n",
              "    }\n",
              "</style>\n",
              "<table border=\"1\" class=\"dataframe\">\n",
              "  <thead>\n",
              "    <tr style=\"text-align: right;\">\n",
              "      <th></th>\n",
              "      <th>trip</th>\n",
              "      <th>datetime</th>\n",
              "      <th>pressure</th>\n",
              "      <th>lon</th>\n",
              "      <th>lat</th>\n",
              "      <th>dive</th>\n",
              "      <th>step</th>\n",
              "      <th>cap</th>\n",
              "      <th>direction</th>\n",
              "      <th>cos_cap</th>\n",
              "      <th>sin_cap</th>\n",
              "      <th>step_std</th>\n",
              "      <th>direction_std</th>\n",
              "      <th>lon_std_mm</th>\n",
              "      <th>lat_std_mm</th>\n",
              "    </tr>\n",
              "  </thead>\n",
              "  <tbody>\n",
              "    <tr>\n",
              "      <th>0</th>\n",
              "      <td>P1108_4_SV_T1</td>\n",
              "      <td>2008-11-25 13:00:35</td>\n",
              "      <td>-0.35</td>\n",
              "      <td>-77.264128</td>\n",
              "      <td>-11.773317</td>\n",
              "      <td>0</td>\n",
              "      <td>NaN</td>\n",
              "      <td>NaN</td>\n",
              "      <td>NaN</td>\n",
              "      <td>NaN</td>\n",
              "      <td>NaN</td>\n",
              "      <td>NaN</td>\n",
              "      <td>NaN</td>\n",
              "      <td>0.999801</td>\n",
              "      <td>0.143444</td>\n",
              "    </tr>\n",
              "    <tr>\n",
              "      <th>1</th>\n",
              "      <td>P1108_4_SV_T1</td>\n",
              "      <td>2008-11-25 13:00:36</td>\n",
              "      <td>-0.38</td>\n",
              "      <td>-77.264118</td>\n",
              "      <td>-11.773235</td>\n",
              "      <td>0</td>\n",
              "      <td>9.192428</td>\n",
              "      <td>6.808074</td>\n",
              "      <td>NaN</td>\n",
              "      <td>0.865380</td>\n",
              "      <td>0.501117</td>\n",
              "      <td>-1.114452</td>\n",
              "      <td>NaN</td>\n",
              "      <td>0.999830</td>\n",
              "      <td>0.144644</td>\n",
              "    </tr>\n",
              "    <tr>\n",
              "      <th>2</th>\n",
              "      <td>P1108_4_SV_T1</td>\n",
              "      <td>2008-11-25 13:00:37</td>\n",
              "      <td>-0.35</td>\n",
              "      <td>-77.264098</td>\n",
              "      <td>-11.773152</td>\n",
              "      <td>0</td>\n",
              "      <td>9.492498</td>\n",
              "      <td>13.273123</td>\n",
              "      <td>6.465048</td>\n",
              "      <td>0.760475</td>\n",
              "      <td>0.649367</td>\n",
              "      <td>-1.033105</td>\n",
              "      <td>0.316087</td>\n",
              "      <td>0.999889</td>\n",
              "      <td>0.145858</td>\n",
              "    </tr>\n",
              "    <tr>\n",
              "      <th>3</th>\n",
              "      <td>P1108_4_SV_T1</td>\n",
              "      <td>2008-11-25 13:00:38</td>\n",
              "      <td>-0.29</td>\n",
              "      <td>-77.264113</td>\n",
              "      <td>-11.773060</td>\n",
              "      <td>0</td>\n",
              "      <td>10.370362</td>\n",
              "      <td>350.931311</td>\n",
              "      <td>-22.341812</td>\n",
              "      <td>0.600183</td>\n",
              "      <td>-0.799863</td>\n",
              "      <td>-0.795125</td>\n",
              "      <td>-1.099954</td>\n",
              "      <td>0.999845</td>\n",
              "      <td>0.147204</td>\n",
              "    </tr>\n",
              "    <tr>\n",
              "      <th>4</th>\n",
              "      <td>P1108_4_SV_T1</td>\n",
              "      <td>2008-11-25 13:00:39</td>\n",
              "      <td>-0.29</td>\n",
              "      <td>-77.264142</td>\n",
              "      <td>-11.772955</td>\n",
              "      <td>0</td>\n",
              "      <td>12.107480</td>\n",
              "      <td>344.870108</td>\n",
              "      <td>-6.061203</td>\n",
              "      <td>0.761557</td>\n",
              "      <td>-0.648098</td>\n",
              "      <td>-0.324208</td>\n",
              "      <td>-0.299658</td>\n",
              "      <td>0.999760</td>\n",
              "      <td>0.148740</td>\n",
              "    </tr>\n",
              "    <tr>\n",
              "      <th>...</th>\n",
              "      <td>...</td>\n",
              "      <td>...</td>\n",
              "      <td>...</td>\n",
              "      <td>...</td>\n",
              "      <td>...</td>\n",
              "      <td>...</td>\n",
              "      <td>...</td>\n",
              "      <td>...</td>\n",
              "      <td>...</td>\n",
              "      <td>...</td>\n",
              "      <td>...</td>\n",
              "      <td>...</td>\n",
              "      <td>...</td>\n",
              "      <td>...</td>\n",
              "      <td>...</td>\n",
              "    </tr>\n",
              "    <tr>\n",
              "      <th>6622</th>\n",
              "      <td>P1108_4_SV_T1</td>\n",
              "      <td>2008-11-25 14:50:57</td>\n",
              "      <td>-0.29</td>\n",
              "      <td>-77.264097</td>\n",
              "      <td>-11.773710</td>\n",
              "      <td>0</td>\n",
              "      <td>15.773785</td>\n",
              "      <td>194.809616</td>\n",
              "      <td>17.804082</td>\n",
              "      <td>0.999524</td>\n",
              "      <td>0.030867</td>\n",
              "      <td>0.669693</td>\n",
              "      <td>0.873473</td>\n",
              "      <td>0.999892</td>\n",
              "      <td>0.137695</td>\n",
              "    </tr>\n",
              "    <tr>\n",
              "      <th>6623</th>\n",
              "      <td>P1108_4_SV_T1</td>\n",
              "      <td>2008-11-25 14:50:58</td>\n",
              "      <td>-0.29</td>\n",
              "      <td>-77.264223</td>\n",
              "      <td>-11.773817</td>\n",
              "      <td>0</td>\n",
              "      <td>18.176315</td>\n",
              "      <td>229.059760</td>\n",
              "      <td>34.250144</td>\n",
              "      <td>-0.962016</td>\n",
              "      <td>0.272994</td>\n",
              "      <td>1.320996</td>\n",
              "      <td>1.681902</td>\n",
              "      <td>0.999523</td>\n",
              "      <td>0.136130</td>\n",
              "    </tr>\n",
              "    <tr>\n",
              "      <th>6624</th>\n",
              "      <td>P1108_4_SV_T1</td>\n",
              "      <td>2008-11-25 14:50:59</td>\n",
              "      <td>-0.26</td>\n",
              "      <td>-77.264307</td>\n",
              "      <td>-11.773860</td>\n",
              "      <td>0</td>\n",
              "      <td>10.329409</td>\n",
              "      <td>242.394637</td>\n",
              "      <td>13.334877</td>\n",
              "      <td>-0.881389</td>\n",
              "      <td>-0.472392</td>\n",
              "      <td>-0.806227</td>\n",
              "      <td>0.653783</td>\n",
              "      <td>0.999277</td>\n",
              "      <td>0.135500</td>\n",
              "    </tr>\n",
              "    <tr>\n",
              "      <th>6625</th>\n",
              "      <td>P1108_4_SV_T1</td>\n",
              "      <td>2008-11-25 14:51:00</td>\n",
              "      <td>-0.22</td>\n",
              "      <td>-77.264363</td>\n",
              "      <td>-11.773875</td>\n",
              "      <td>0</td>\n",
              "      <td>6.326643</td>\n",
              "      <td>254.697607</td>\n",
              "      <td>12.302970</td>\n",
              "      <td>-0.973984</td>\n",
              "      <td>-0.226616</td>\n",
              "      <td>-1.891339</td>\n",
              "      <td>0.603058</td>\n",
              "      <td>0.999113</td>\n",
              "      <td>0.135281</td>\n",
              "    </tr>\n",
              "    <tr>\n",
              "      <th>6626</th>\n",
              "      <td>P1108_4_SV_T1</td>\n",
              "      <td>2008-11-25 14:51:01</td>\n",
              "      <td>-0.22</td>\n",
              "      <td>-77.264395</td>\n",
              "      <td>-11.773895</td>\n",
              "      <td>0</td>\n",
              "      <td>4.137113</td>\n",
              "      <td>237.444521</td>\n",
              "      <td>-17.253086</td>\n",
              "      <td>0.251544</td>\n",
              "      <td>-0.967846</td>\n",
              "      <td>-2.484900</td>\n",
              "      <td>-0.849811</td>\n",
              "      <td>0.999019</td>\n",
              "      <td>0.134988</td>\n",
              "    </tr>\n",
              "  </tbody>\n",
              "</table>\n",
              "<p>6627 rows × 15 columns</p>\n",
              "</div>"
            ],
            "text/plain": [
              "               trip            datetime  ...  lon_std_mm  lat_std_mm\n",
              "0     P1108_4_SV_T1 2008-11-25 13:00:35  ...    0.999801    0.143444\n",
              "1     P1108_4_SV_T1 2008-11-25 13:00:36  ...    0.999830    0.144644\n",
              "2     P1108_4_SV_T1 2008-11-25 13:00:37  ...    0.999889    0.145858\n",
              "3     P1108_4_SV_T1 2008-11-25 13:00:38  ...    0.999845    0.147204\n",
              "4     P1108_4_SV_T1 2008-11-25 13:00:39  ...    0.999760    0.148740\n",
              "...             ...                 ...  ...         ...         ...\n",
              "6622  P1108_4_SV_T1 2008-11-25 14:50:57  ...    0.999892    0.137695\n",
              "6623  P1108_4_SV_T1 2008-11-25 14:50:58  ...    0.999523    0.136130\n",
              "6624  P1108_4_SV_T1 2008-11-25 14:50:59  ...    0.999277    0.135500\n",
              "6625  P1108_4_SV_T1 2008-11-25 14:51:00  ...    0.999113    0.135281\n",
              "6626  P1108_4_SV_T1 2008-11-25 14:51:01  ...    0.999019    0.134988\n",
              "\n",
              "[6627 rows x 15 columns]"
            ]
          },
          "metadata": {
            "tags": []
          },
          "execution_count": 25
        }
      ]
    },
    {
      "cell_type": "code",
      "metadata": {
        "id": "3QamIv7s9mzK"
      },
      "source": [
        "test_trajs_idx = np.random.randint(0, len(df.trip.unique()), 30)\n",
        "\n",
        "test_trajs = [trajs[i] for i in test_trajs_idx]\n",
        "train_trajs = [trajs[i] for i in range(len(df.trip.unique())) if i not in test_trajs_idx]"
      ],
      "execution_count": 26,
      "outputs": []
    },
    {
      "cell_type": "markdown",
      "metadata": {
        "id": "biCtWhQDM8Gg"
      },
      "source": [
        "## Neural Networks"
      ]
    },
    {
      "cell_type": "code",
      "metadata": {
        "id": "MaOTUwij9uRq"
      },
      "source": [
        "# pytorch materials\n",
        "import torch\n",
        "from torch import nn\n",
        "from torch import optim\n",
        "import torchvision as tv\n",
        "from torchvision.datasets import ImageFolder\n",
        "from torch.utils.data import DataLoader"
      ],
      "execution_count": 27,
      "outputs": []
    },
    {
      "cell_type": "code",
      "metadata": {
        "id": "S2kxbquAwwA4"
      },
      "source": [
        "class Sampler:\n",
        "    def __init__(self, trajs, epoch, batch_size, input_var):\n",
        "      # raw trajectories\n",
        "      self.trajs = trajs\n",
        "      self.n = len(trajs)\n",
        "      # sample input specificities\n",
        "      self.epoch = epoch\n",
        "      self.batch_size = batch_size\n",
        "      self.input_var = input_var\n",
        "\n",
        "\n",
        "    def sample(self):\n",
        "      input_batch = []\n",
        "      output_batch = []\n",
        "      for i in range(self.batch_size):\n",
        "        # look for a long trip\n",
        "        dt = []\n",
        "        while len(dt) < epoch:\n",
        "            traj_idx = np.random.randint(self.n)\n",
        "            dt = self.trajs[traj_idx]\n",
        "\n",
        "        # select part of this trip\n",
        "        epoch_idx = np.random.randint(2, len(dt)-epoch)\n",
        "\n",
        "        input_trajs = dt.loc[epoch_idx:epoch_idx+epoch-1, self.input_var]\n",
        "        output_trajs = dt.loc[epoch_idx:epoch_idx+epoch-1, 'dive']\n",
        "\n",
        "        # change resolution\n",
        "        output = [np.max(output_trajs[i:i+11]) for i in range(len(output_trajs)) if i%10==0]\n",
        "\n",
        "        # add it to batch\n",
        "        input_batch.append(input_trajs.to_numpy().T)\n",
        "        output_batch.append(np.array(output))\n",
        "\n",
        "      # convert to tensor\n",
        "      input_batch = torch.FloatTensor(input_batch)\n",
        "      output_batch = torch.FloatTensor(output_batch)\n",
        "\n",
        "      return (input_batch, output_batch)"
      ],
      "execution_count": 30,
      "outputs": []
    },
    {
      "cell_type": "code",
      "metadata": {
        "id": "U8ILuuNNzZgj",
        "outputId": "042163d9-cb63-4f9b-9e85-d1a4e796e981",
        "colab": {
          "base_uri": "https://localhost:8080/",
          "height": 35
        }
      },
      "source": [
        "# Hyperparameters\n",
        "epoch = 600\n",
        "batch_size = 8\n",
        "learning_rate = 0.01\n",
        "input_var = ('lon_std_mm', 'lat_std_mm', 'step_std', 'direction_std', 'cos_cap', 'sin_cap')\n",
        "\n",
        "train = Sampler(train_trajs, epoch, batch_size, input_var)\n",
        "test = Sampler(test_trajs, epoch, batch_size, input_var)\n",
        "\n",
        "(x, y) = train.sample()\n",
        "\n",
        "x.size()"
      ],
      "execution_count": 31,
      "outputs": [
        {
          "output_type": "execute_result",
          "data": {
            "text/plain": [
              "torch.Size([8, 6, 600])"
            ]
          },
          "metadata": {
            "tags": []
          },
          "execution_count": 31
        }
      ]
    },
    {
      "cell_type": "code",
      "metadata": {
        "id": "_fVKBJHAhZj6",
        "outputId": "7c1968ab-dec3-413b-dd05-1cb2c86cf1eb",
        "colab": {
          "base_uri": "https://localhost:8080/",
          "height": 483
        }
      },
      "source": [
        "plt.figure(figsize=(16, 8))\n",
        "\n",
        "for i in range(8):\n",
        "    lon = x.numpy()[i][0]\n",
        "    lat = x.numpy()[i][1]\n",
        "\n",
        "    real = y.numpy()[i]\n",
        "    real = [real[i] for i in range(len(real)) for k in range(10) ]\n",
        "\n",
        "    plt.subplot(2, 4, i+1)\n",
        "    plt.plot(lon, lat)\n",
        "    plt.scatter(lon[np.where(real)], lat[np.where(real)], c='orange')"
      ],
      "execution_count": 32,
      "outputs": [
        {
          "output_type": "display_data",
          "data": {
            "image/png": "[encoded data removed]",
            "text/plain": [
              "<Figure size 1152x576 with 8 Axes>"
            ]
          },
          "metadata": {
            "tags": [],
            "needs_background": "light"
          }
        }
      ]
    },
    {
      "cell_type": "code",
      "metadata": {
        "id": "J9gckKCMNIXd"
      },
      "source": [
        "class ConvNet(nn.Module):\n",
        "    def __init__(self):\n",
        "        super(ConvNet, self).__init__()\n",
        "        \n",
        "        self.cnn_input_1 = nn.Sequential(\n",
        "            nn.Conv1d(6, 8, kernel_size = 101, stride = 1, padding = 100, dilation = 2),\n",
        "            nn.ReLU(),\n",
        "            nn.Conv1d(8, 8, kernel_size = 51, stride = 1, padding = 50, dilation = 2),\n",
        "            nn.ReLU()\n",
        "        )\n",
        "\n",
        "        self.pooling_1 = nn.Sequential(\n",
        "            nn.MaxPool1d(kernel_size = 50, stride = 2, padding = 24, dilation = 1)\n",
        "        )\n",
        "\n",
        "        self.cnn_input_2 = nn.Sequential(\n",
        "            nn.Conv1d(8, 16, kernel_size = 51, stride = 1, padding = 50, dilation = 2),\n",
        "            nn.ReLU(),\n",
        "            nn.Conv1d(16, 16, kernel_size = 26, stride = 1, padding = 25, dilation = 2),\n",
        "            nn.ReLU()\n",
        "        )\n",
        "\n",
        "        self.pooling_2 = nn.Sequential(\n",
        "            nn.MaxPool1d(kernel_size = 15, stride = 2, padding = 7, dilation = 1)\n",
        "        )\n",
        "\n",
        "        self.cnn_input_3 = nn.Sequential(\n",
        "            nn.Conv1d(16, 32, kernel_size = 26, stride = 1, padding = 25, dilation = 2),\n",
        "            nn.ReLU(),\n",
        "            nn.Conv1d(32, 32, kernel_size = 11, stride = 1, padding = 10, dilation = 2),\n",
        "            nn.ReLU()\n",
        "        )\n",
        "\n",
        "        self.pooling_3 = nn.Sequential(\n",
        "            nn.MaxPool1d(kernel_size = 25, stride = 2, padding = 9, dilation = 2)\n",
        "        )\n",
        "\n",
        "        self.cnn_4 = nn.Sequential(\n",
        "            nn.Conv1d(32, 16, kernel_size = 26, stride = 1, padding = 25, dilation = 2),\n",
        "            nn.ReLU(),\n",
        "            nn.Conv1d(16, 8, kernel_size = 11, stride = 1, padding = 10, dilation = 2),\n",
        "            nn.ReLU(),\n",
        "            nn.Conv1d(8, 1, kernel_size = 6, stride = 1, padding = 5, dilation = 2),\n",
        "            nn.ReLU()\n",
        "        )\n",
        "        \n",
        "        self.upconv_3 = nn.Sequential(\n",
        "            nn.ConvTranspose1d(64, 32, kernel_size = 12, stride = 2, padding = 5, dilation = 1)\n",
        "        )\n",
        "\n",
        "        self.cnn_output_3 = nn.Sequential(\n",
        "            nn.Conv1d(64, 32, kernel_size = 6, stride = 1, padding = 5, dilation = 2),\n",
        "            nn.ReLU(),\n",
        "            nn.Conv1d(32, 32, kernel_size = 6, stride = 1, padding = 5, dilation = 2),\n",
        "            nn.ReLU()\n",
        "        )\n",
        "\n",
        "        self.upconv_2 = nn.Sequential(\n",
        "            nn.ConvTranspose1d(32, 16, kernel_size = 22, stride = 2, padding = 10, dilation = 1)\n",
        "        )\n",
        "\n",
        "        self.cnn_output_2 = nn.Sequential(\n",
        "            nn.Conv1d(32, 16, kernel_size = 11, stride = 1, padding = 10, dilation = 2),\n",
        "            nn.ReLU(),\n",
        "            nn.Conv1d(16, 16, kernel_size = 11, stride = 1, padding = 10, dilation = 2),\n",
        "            nn.ReLU()\n",
        "        )\n",
        "\n",
        "        self.upconv_1 = nn.Sequential(\n",
        "            nn.ConvTranspose1d(16, 8, kernel_size = 20, stride = 2, padding = 23, dilation = 1)\n",
        "        )\n",
        "         \n",
        "        self.cnn_output_1 = nn.Sequential(\n",
        "            nn.Conv1d(16, 2, kernel_size = 26, stride = 1, padding = 25, dilation = 2),\n",
        "            nn.ReLU(),\n",
        "            nn.Conv1d(2, 1, kernel_size = 26, stride = 1, padding = 25, dilation = 2),\n",
        "            nn.Sigmoid()\n",
        "        )\n",
        "\n",
        "                \n",
        "    def forward(self, x):\n",
        "        out_1 = self.cnn_input_1(x)\n",
        "        out = self.pooling_1(out_1)\n",
        "        out_2 = self.cnn_input_2(out)\n",
        "        out = self.pooling_2(out_2)\n",
        "        out_3 = self.cnn_input_3(out)\n",
        "        out = self.pooling_3(out_3)\n",
        "        out = self.cnn_4(out)\n",
        "        # out = self.upconv_3(out)\n",
        "        # out = torch.cat((out, out_3), 1)\n",
        "        # out = self.cnn_output_3(out)\n",
        "        # out = self.upconv_2(out)\n",
        "        # out = torch.cat((out, out_2), 1)\n",
        "        # out = self.cnn_output_2(out)\n",
        "        # out = self.upconv_1(out)\n",
        "        # out = torch.cat((out, out_1), 1)\n",
        "        # out = self.cnn_output_1(out)\n",
        "\n",
        "        return out.reshape((8, 60))"
      ],
      "execution_count": 42,
      "outputs": []
    },
    {
      "cell_type": "code",
      "metadata": {
        "id": "raZoL_8mjDDw",
        "outputId": "e367d04a-6f48-4125-e7e0-472db3f25dd9",
        "colab": {
          "base_uri": "https://localhost:8080/",
          "height": 35
        }
      },
      "source": [
        "model = ConvNet()\n",
        "\n",
        "out_1 = model.cnn_input_1(x)\n",
        "out = model.pooling_1(out_1)\n",
        "out_2 = model.cnn_input_2(out)\n",
        "out = model.pooling_2(out_2)\n",
        "out_3 = model.cnn_input_3(out)\n",
        "out = model.pooling_3(out_3)\n",
        "# out = model.cnn_4(out)\n",
        "# out = model.upconv_3(out)\n",
        "# out = torch.cat((out, out_3), 1)\n",
        "# out = model.cnn_output_3(out)\n",
        "# out = model.upconv_2(out)\n",
        "# out = torch.cat((out, out_2), 1)\n",
        "# out = model.cnn_output_2(out)\n",
        "# out = model.upconv_1(out)\n",
        "# out = torch.cat((out, out_1), 1)\n",
        "# out = model.cnn_output_1(out)\n",
        "\n",
        "\n",
        "out.size()"
      ],
      "execution_count": 43,
      "outputs": [
        {
          "output_type": "execute_result",
          "data": {
            "text/plain": [
              "torch.Size([8, 32, 60])"
            ]
          },
          "metadata": {
            "tags": []
          },
          "execution_count": 43
        }
      ]
    },
    {
      "cell_type": "code",
      "metadata": {
        "id": "f67eVqDINKRx",
        "outputId": "96d98e14-5edf-4720-9ef2-9cca4f15ec8a",
        "colab": {
          "base_uri": "https://localhost:8080/",
          "height": 35
        }
      },
      "source": [
        "model = ConvNet()\n",
        "out = model(x)\n",
        "out.size()"
      ],
      "execution_count": 44,
      "outputs": [
        {
          "output_type": "execute_result",
          "data": {
            "text/plain": [
              "torch.Size([8, 60])"
            ]
          },
          "metadata": {
            "tags": []
          },
          "execution_count": 44
        }
      ]
    },
    {
      "cell_type": "code",
      "metadata": {
        "id": "ELWzpTeiNPct"
      },
      "source": [
        "# Loss and optimizer\n",
        "criterion = nn.BCELoss()\n",
        "optimizer = torch.optim.SGD(model.parameters(), lr=learning_rate)"
      ],
      "execution_count": 45,
      "outputs": []
    },
    {
      "cell_type": "code",
      "metadata": {
        "id": "IBeASnGsNSuL",
        "outputId": "33272281-5930-4b25-f09a-4b72a7799f0e",
        "colab": {
          "base_uri": "https://localhost:8080/",
          "height": 35
        }
      },
      "source": [
        "criterion(out, y)"
      ],
      "execution_count": 46,
      "outputs": [
        {
          "output_type": "execute_result",
          "data": {
            "text/plain": [
              "tensor(0.6931, grad_fn=<BinaryCrossEntropyBackward>)"
            ]
          },
          "metadata": {
            "tags": []
          },
          "execution_count": 46
        }
      ]
    },
    {
      "cell_type": "code",
      "metadata": {
        "id": "ibJb2FZqPkZH",
        "outputId": "8ff8d183-eab1-4898-dd78-ed726386a183",
        "colab": {
          "base_uri": "https://localhost:8080/",
          "height": 35
        }
      },
      "source": [
        "## estimate a relevant nb of total step\n",
        "test_step = 1000\n",
        "\n",
        "total_step = round(0.7 * (len(df) - len(df_trip.trip.unique()) * epoch)/batch_size)\n",
        "total_step"
      ],
      "execution_count": 47,
      "outputs": [
        {
          "output_type": "execute_result",
          "data": {
            "text/plain": [
              "75453"
            ]
          },
          "metadata": {
            "tags": []
          },
          "execution_count": 47
        }
      ]
    },
    {
      "cell_type": "code",
      "metadata": {
        "id": "f4Pli5CetwPA"
      },
      "source": [
        "# # switch to GPU\n",
        "# device = torch.device('cuda' if torch.cuda.is_available() else 'cpu')\n",
        "# device"
      ],
      "execution_count": 48,
      "outputs": []
    },
    {
      "cell_type": "code",
      "metadata": {
        "id": "kkacJC-Bt7fR"
      },
      "source": [
        "# model.to(device)"
      ],
      "execution_count": 49,
      "outputs": []
    },
    {
      "cell_type": "code",
      "metadata": {
        "id": "z_0oOEOlNUbm",
        "outputId": "fad233d1-5ac9-4b5c-cd34-8adf22e8d255",
        "colab": {
          "base_uri": "https://localhost:8080/",
          "height": 455
        }
      },
      "source": [
        "# Train the model\n",
        "list_score =[]\n",
        "list_loss = []\n",
        "for i in range(total_step):\n",
        "    \n",
        "    # Train the model\n",
        "    model.train()\n",
        "    (x,y) = train.sample() \n",
        "    # x, y = x.to(device), y.to(device)\n",
        "\n",
        "    # Run the forward pass\n",
        "    out = model(x)\n",
        "    loss = criterion(out, y)\n",
        "\n",
        "    # Backprop and perform optimisation\n",
        "    optimizer.zero_grad()\n",
        "    loss.backward()\n",
        "    optimizer.step()\n",
        "    \n",
        "\n",
        "    if (i + 1) % 1000 == 0:  \n",
        "        # Test the model\n",
        "        model.eval()\n",
        "        with torch.no_grad():\n",
        "            real = []\n",
        "            estim = []\n",
        "            for k in range(test_step):\n",
        "                (x,y) = test.sample()\n",
        "                # x, y = x.to(device), y.to(device)\n",
        "                out = model(x)\n",
        "                \n",
        "                # dive prediction\n",
        "                real.append( y.cpu().reshape(8*60).detach().numpy() )\n",
        "                estim.append( out.cpu().reshape(8*60).detach().numpy() )\n",
        "\n",
        "            real = np.hstack(real)\n",
        "            estim = np.hstack(estim)\n",
        "\n",
        "            # no dive prediction performance\n",
        "            no_dive_prediction = [estim[i] for i in range(estim.shape[0]) if not real[i]]\n",
        "            true_no_dive = 1-np.sum(no_dive_prediction)/len(no_dive_prediction)\n",
        "\n",
        "            # dive prediction performance\n",
        "            dive_prediction = [estim[i] for i in range(estim.shape[0]) if real[i]]\n",
        "            true_dive = np.sum(dive_prediction)/len(dive_prediction)\n",
        "        \n",
        "            score = (true_no_dive + true_dive)/2\n",
        "\n",
        "            list_loss.append(loss.item())\n",
        "            list_score.append(score)\n",
        "\n",
        "\n",
        "        print('Step [{}/{}], Loss: {:.4f}, Accuracy: {} %'\n",
        "              .format(i + 1, total_step, loss.item(), score*100))"
      ],
      "execution_count": 50,
      "outputs": [
        {
          "output_type": "stream",
          "text": [
            "Step [1000/75453], Loss: 0.6931, Accuracy: 50.0 %\n"
          ],
          "name": "stdout"
        },
        {
          "output_type": "error",
          "ename": "KeyboardInterrupt",
          "evalue": "ignored",
          "traceback": [
            "\u001b[0;31m---------------------------------------------------------------------------\u001b[0m",
            "\u001b[0;31mKeyboardInterrupt\u001b[0m                         Traceback (most recent call last)",
            "\u001b[0;32m<ipython-input-50-1a2591413fea>\u001b[0m in \u001b[0;36m<module>\u001b[0;34m()\u001b[0m\n\u001b[1;32m     26\u001b[0m             \u001b[0mestim\u001b[0m \u001b[0;34m=\u001b[0m \u001b[0;34m[\u001b[0m\u001b[0;34m]\u001b[0m\u001b[0;34m\u001b[0m\u001b[0;34m\u001b[0m\u001b[0m\n\u001b[1;32m     27\u001b[0m             \u001b[0;32mfor\u001b[0m \u001b[0mk\u001b[0m \u001b[0;32min\u001b[0m \u001b[0mrange\u001b[0m\u001b[0;34m(\u001b[0m\u001b[0mtest_step\u001b[0m\u001b[0;34m)\u001b[0m\u001b[0;34m:\u001b[0m\u001b[0;34m\u001b[0m\u001b[0;34m\u001b[0m\u001b[0m\n\u001b[0;32m---> 28\u001b[0;31m                 \u001b[0;34m(\u001b[0m\u001b[0mx\u001b[0m\u001b[0;34m,\u001b[0m\u001b[0my\u001b[0m\u001b[0;34m)\u001b[0m \u001b[0;34m=\u001b[0m \u001b[0mtest\u001b[0m\u001b[0;34m.\u001b[0m\u001b[0msample\u001b[0m\u001b[0;34m(\u001b[0m\u001b[0;34m)\u001b[0m\u001b[0;34m\u001b[0m\u001b[0;34m\u001b[0m\u001b[0m\n\u001b[0m\u001b[1;32m     29\u001b[0m                 \u001b[0;31m# x, y = x.to(device), y.to(device)\u001b[0m\u001b[0;34m\u001b[0m\u001b[0;34m\u001b[0m\u001b[0;34m\u001b[0m\u001b[0m\n\u001b[1;32m     30\u001b[0m                 \u001b[0mout\u001b[0m \u001b[0;34m=\u001b[0m \u001b[0mmodel\u001b[0m\u001b[0;34m(\u001b[0m\u001b[0mx\u001b[0m\u001b[0;34m)\u001b[0m\u001b[0;34m\u001b[0m\u001b[0;34m\u001b[0m\u001b[0m\n",
            "\u001b[0;32m<ipython-input-30-48b07add8f12>\u001b[0m in \u001b[0;36msample\u001b[0;34m(self)\u001b[0m\n\u001b[1;32m     27\u001b[0m \u001b[0;34m\u001b[0m\u001b[0m\n\u001b[1;32m     28\u001b[0m         \u001b[0;31m# change resolution\u001b[0m\u001b[0;34m\u001b[0m\u001b[0;34m\u001b[0m\u001b[0;34m\u001b[0m\u001b[0m\n\u001b[0;32m---> 29\u001b[0;31m         \u001b[0moutput\u001b[0m \u001b[0;34m=\u001b[0m \u001b[0;34m[\u001b[0m\u001b[0mnp\u001b[0m\u001b[0;34m.\u001b[0m\u001b[0mmax\u001b[0m\u001b[0;34m(\u001b[0m\u001b[0moutput_trajs\u001b[0m\u001b[0;34m[\u001b[0m\u001b[0mi\u001b[0m\u001b[0;34m:\u001b[0m\u001b[0mi\u001b[0m\u001b[0;34m+\u001b[0m\u001b[0;36m11\u001b[0m\u001b[0;34m]\u001b[0m\u001b[0;34m)\u001b[0m \u001b[0;32mfor\u001b[0m \u001b[0mi\u001b[0m \u001b[0;32min\u001b[0m \u001b[0mrange\u001b[0m\u001b[0;34m(\u001b[0m\u001b[0mlen\u001b[0m\u001b[0;34m(\u001b[0m\u001b[0moutput_trajs\u001b[0m\u001b[0;34m)\u001b[0m\u001b[0;34m)\u001b[0m \u001b[0;32mif\u001b[0m \u001b[0mi\u001b[0m\u001b[0;34m%\u001b[0m\u001b[0;36m10\u001b[0m\u001b[0;34m==\u001b[0m\u001b[0;36m0\u001b[0m\u001b[0;34m]\u001b[0m\u001b[0;34m\u001b[0m\u001b[0;34m\u001b[0m\u001b[0m\n\u001b[0m\u001b[1;32m     30\u001b[0m \u001b[0;34m\u001b[0m\u001b[0m\n\u001b[1;32m     31\u001b[0m         \u001b[0;31m# add it to batch\u001b[0m\u001b[0;34m\u001b[0m\u001b[0;34m\u001b[0m\u001b[0;34m\u001b[0m\u001b[0m\n",
            "\u001b[0;32m<ipython-input-30-48b07add8f12>\u001b[0m in \u001b[0;36m<listcomp>\u001b[0;34m(.0)\u001b[0m\n\u001b[1;32m     27\u001b[0m \u001b[0;34m\u001b[0m\u001b[0m\n\u001b[1;32m     28\u001b[0m         \u001b[0;31m# change resolution\u001b[0m\u001b[0;34m\u001b[0m\u001b[0;34m\u001b[0m\u001b[0;34m\u001b[0m\u001b[0m\n\u001b[0;32m---> 29\u001b[0;31m         \u001b[0moutput\u001b[0m \u001b[0;34m=\u001b[0m \u001b[0;34m[\u001b[0m\u001b[0mnp\u001b[0m\u001b[0;34m.\u001b[0m\u001b[0mmax\u001b[0m\u001b[0;34m(\u001b[0m\u001b[0moutput_trajs\u001b[0m\u001b[0;34m[\u001b[0m\u001b[0mi\u001b[0m\u001b[0;34m:\u001b[0m\u001b[0mi\u001b[0m\u001b[0;34m+\u001b[0m\u001b[0;36m11\u001b[0m\u001b[0;34m]\u001b[0m\u001b[0;34m)\u001b[0m \u001b[0;32mfor\u001b[0m \u001b[0mi\u001b[0m \u001b[0;32min\u001b[0m \u001b[0mrange\u001b[0m\u001b[0;34m(\u001b[0m\u001b[0mlen\u001b[0m\u001b[0;34m(\u001b[0m\u001b[0moutput_trajs\u001b[0m\u001b[0;34m)\u001b[0m\u001b[0;34m)\u001b[0m \u001b[0;32mif\u001b[0m \u001b[0mi\u001b[0m\u001b[0;34m%\u001b[0m\u001b[0;36m10\u001b[0m\u001b[0;34m==\u001b[0m\u001b[0;36m0\u001b[0m\u001b[0;34m]\u001b[0m\u001b[0;34m\u001b[0m\u001b[0;34m\u001b[0m\u001b[0m\n\u001b[0m\u001b[1;32m     30\u001b[0m \u001b[0;34m\u001b[0m\u001b[0m\n\u001b[1;32m     31\u001b[0m         \u001b[0;31m# add it to batch\u001b[0m\u001b[0;34m\u001b[0m\u001b[0;34m\u001b[0m\u001b[0;34m\u001b[0m\u001b[0m\n",
            "\u001b[0;32m<__array_function__ internals>\u001b[0m in \u001b[0;36mamax\u001b[0;34m(*args, **kwargs)\u001b[0m\n",
            "\u001b[0;32m/usr/local/lib/python3.6/dist-packages/numpy/core/fromnumeric.py\u001b[0m in \u001b[0;36mamax\u001b[0;34m(a, axis, out, keepdims, initial, where)\u001b[0m\n\u001b[1;32m   2666\u001b[0m     \"\"\"\n\u001b[1;32m   2667\u001b[0m     return _wrapreduction(a, np.maximum, 'max', axis, None, out,\n\u001b[0;32m-> 2668\u001b[0;31m                           keepdims=keepdims, initial=initial, where=where)\n\u001b[0m\u001b[1;32m   2669\u001b[0m \u001b[0;34m\u001b[0m\u001b[0m\n\u001b[1;32m   2670\u001b[0m \u001b[0;34m\u001b[0m\u001b[0m\n",
            "\u001b[0;32m/usr/local/lib/python3.6/dist-packages/numpy/core/fromnumeric.py\u001b[0m in \u001b[0;36m_wrapreduction\u001b[0;34m(obj, ufunc, method, axis, dtype, out, **kwargs)\u001b[0m\n\u001b[1;32m     86\u001b[0m                 \u001b[0;32mreturn\u001b[0m \u001b[0mreduction\u001b[0m\u001b[0;34m(\u001b[0m\u001b[0maxis\u001b[0m\u001b[0;34m=\u001b[0m\u001b[0maxis\u001b[0m\u001b[0;34m,\u001b[0m \u001b[0mdtype\u001b[0m\u001b[0;34m=\u001b[0m\u001b[0mdtype\u001b[0m\u001b[0;34m,\u001b[0m \u001b[0mout\u001b[0m\u001b[0;34m=\u001b[0m\u001b[0mout\u001b[0m\u001b[0;34m,\u001b[0m \u001b[0;34m**\u001b[0m\u001b[0mpasskwargs\u001b[0m\u001b[0;34m)\u001b[0m\u001b[0;34m\u001b[0m\u001b[0;34m\u001b[0m\u001b[0m\n\u001b[1;32m     87\u001b[0m             \u001b[0;32melse\u001b[0m\u001b[0;34m:\u001b[0m\u001b[0;34m\u001b[0m\u001b[0;34m\u001b[0m\u001b[0m\n\u001b[0;32m---> 88\u001b[0;31m                 \u001b[0;32mreturn\u001b[0m \u001b[0mreduction\u001b[0m\u001b[0;34m(\u001b[0m\u001b[0maxis\u001b[0m\u001b[0;34m=\u001b[0m\u001b[0maxis\u001b[0m\u001b[0;34m,\u001b[0m \u001b[0mout\u001b[0m\u001b[0;34m=\u001b[0m\u001b[0mout\u001b[0m\u001b[0;34m,\u001b[0m \u001b[0;34m**\u001b[0m\u001b[0mpasskwargs\u001b[0m\u001b[0;34m)\u001b[0m\u001b[0;34m\u001b[0m\u001b[0;34m\u001b[0m\u001b[0m\n\u001b[0m\u001b[1;32m     89\u001b[0m \u001b[0;34m\u001b[0m\u001b[0m\n\u001b[1;32m     90\u001b[0m     \u001b[0;32mreturn\u001b[0m \u001b[0mufunc\u001b[0m\u001b[0;34m.\u001b[0m\u001b[0mreduce\u001b[0m\u001b[0;34m(\u001b[0m\u001b[0mobj\u001b[0m\u001b[0;34m,\u001b[0m \u001b[0maxis\u001b[0m\u001b[0;34m,\u001b[0m \u001b[0mdtype\u001b[0m\u001b[0;34m,\u001b[0m \u001b[0mout\u001b[0m\u001b[0;34m,\u001b[0m \u001b[0;34m**\u001b[0m\u001b[0mpasskwargs\u001b[0m\u001b[0;34m)\u001b[0m\u001b[0;34m\u001b[0m\u001b[0;34m\u001b[0m\u001b[0m\n",
            "\u001b[0;32m/usr/local/lib/python3.6/dist-packages/pandas/core/generic.py\u001b[0m in \u001b[0;36mstat_func\u001b[0;34m(self, axis, skipna, level, numeric_only, **kwargs)\u001b[0m\n\u001b[1;32m  11464\u001b[0m             \u001b[0;32mreturn\u001b[0m \u001b[0mself\u001b[0m\u001b[0;34m.\u001b[0m\u001b[0m_agg_by_level\u001b[0m\u001b[0;34m(\u001b[0m\u001b[0mname\u001b[0m\u001b[0;34m,\u001b[0m \u001b[0maxis\u001b[0m\u001b[0;34m=\u001b[0m\u001b[0maxis\u001b[0m\u001b[0;34m,\u001b[0m \u001b[0mlevel\u001b[0m\u001b[0;34m=\u001b[0m\u001b[0mlevel\u001b[0m\u001b[0;34m,\u001b[0m \u001b[0mskipna\u001b[0m\u001b[0;34m=\u001b[0m\u001b[0mskipna\u001b[0m\u001b[0;34m)\u001b[0m\u001b[0;34m\u001b[0m\u001b[0;34m\u001b[0m\u001b[0m\n\u001b[1;32m  11465\u001b[0m         return self._reduce(\n\u001b[0;32m> 11466\u001b[0;31m             \u001b[0mfunc\u001b[0m\u001b[0;34m,\u001b[0m \u001b[0mname\u001b[0m\u001b[0;34m=\u001b[0m\u001b[0mname\u001b[0m\u001b[0;34m,\u001b[0m \u001b[0maxis\u001b[0m\u001b[0;34m=\u001b[0m\u001b[0maxis\u001b[0m\u001b[0;34m,\u001b[0m \u001b[0mskipna\u001b[0m\u001b[0;34m=\u001b[0m\u001b[0mskipna\u001b[0m\u001b[0;34m,\u001b[0m \u001b[0mnumeric_only\u001b[0m\u001b[0;34m=\u001b[0m\u001b[0mnumeric_only\u001b[0m\u001b[0;34m\u001b[0m\u001b[0;34m\u001b[0m\u001b[0m\n\u001b[0m\u001b[1;32m  11467\u001b[0m         )\n\u001b[1;32m  11468\u001b[0m \u001b[0;34m\u001b[0m\u001b[0m\n",
            "\u001b[0;32m/usr/local/lib/python3.6/dist-packages/pandas/core/series.py\u001b[0m in \u001b[0;36m_reduce\u001b[0;34m(self, op, name, axis, skipna, numeric_only, filter_type, **kwds)\u001b[0m\n\u001b[1;32m   4234\u001b[0m                 )\n\u001b[1;32m   4235\u001b[0m             \u001b[0;32mwith\u001b[0m \u001b[0mnp\u001b[0m\u001b[0;34m.\u001b[0m\u001b[0merrstate\u001b[0m\u001b[0;34m(\u001b[0m\u001b[0mall\u001b[0m\u001b[0;34m=\u001b[0m\u001b[0;34m\"ignore\"\u001b[0m\u001b[0;34m)\u001b[0m\u001b[0;34m:\u001b[0m\u001b[0;34m\u001b[0m\u001b[0;34m\u001b[0m\u001b[0m\n\u001b[0;32m-> 4236\u001b[0;31m                 \u001b[0;32mreturn\u001b[0m \u001b[0mop\u001b[0m\u001b[0;34m(\u001b[0m\u001b[0mdelegate\u001b[0m\u001b[0;34m,\u001b[0m \u001b[0mskipna\u001b[0m\u001b[0;34m=\u001b[0m\u001b[0mskipna\u001b[0m\u001b[0;34m,\u001b[0m \u001b[0;34m**\u001b[0m\u001b[0mkwds\u001b[0m\u001b[0;34m)\u001b[0m\u001b[0;34m\u001b[0m\u001b[0;34m\u001b[0m\u001b[0m\n\u001b[0m\u001b[1;32m   4237\u001b[0m \u001b[0;34m\u001b[0m\u001b[0m\n\u001b[1;32m   4238\u001b[0m     \u001b[0;32mdef\u001b[0m \u001b[0m_reindex_indexer\u001b[0m\u001b[0;34m(\u001b[0m\u001b[0mself\u001b[0m\u001b[0;34m,\u001b[0m \u001b[0mnew_index\u001b[0m\u001b[0;34m,\u001b[0m \u001b[0mindexer\u001b[0m\u001b[0;34m,\u001b[0m \u001b[0mcopy\u001b[0m\u001b[0;34m)\u001b[0m\u001b[0;34m:\u001b[0m\u001b[0;34m\u001b[0m\u001b[0;34m\u001b[0m\u001b[0m\n",
            "\u001b[0;32m/usr/local/lib/python3.6/dist-packages/numpy/core/_ufunc_config.py\u001b[0m in \u001b[0;36m__exit__\u001b[0;34m(self, *exc_info)\u001b[0m\n\u001b[1;32m    445\u001b[0m \u001b[0;34m\u001b[0m\u001b[0m\n\u001b[1;32m    446\u001b[0m     \u001b[0;32mdef\u001b[0m \u001b[0m__exit__\u001b[0m\u001b[0;34m(\u001b[0m\u001b[0mself\u001b[0m\u001b[0;34m,\u001b[0m \u001b[0;34m*\u001b[0m\u001b[0mexc_info\u001b[0m\u001b[0;34m)\u001b[0m\u001b[0;34m:\u001b[0m\u001b[0;34m\u001b[0m\u001b[0;34m\u001b[0m\u001b[0m\n\u001b[0;32m--> 447\u001b[0;31m         \u001b[0mseterr\u001b[0m\u001b[0;34m(\u001b[0m\u001b[0;34m**\u001b[0m\u001b[0mself\u001b[0m\u001b[0;34m.\u001b[0m\u001b[0moldstate\u001b[0m\u001b[0;34m)\u001b[0m\u001b[0;34m\u001b[0m\u001b[0;34m\u001b[0m\u001b[0m\n\u001b[0m\u001b[1;32m    448\u001b[0m         \u001b[0;32mif\u001b[0m \u001b[0mself\u001b[0m\u001b[0;34m.\u001b[0m\u001b[0mcall\u001b[0m \u001b[0;32mis\u001b[0m \u001b[0;32mnot\u001b[0m \u001b[0m_Unspecified\u001b[0m\u001b[0;34m:\u001b[0m\u001b[0;34m\u001b[0m\u001b[0;34m\u001b[0m\u001b[0m\n\u001b[1;32m    449\u001b[0m             \u001b[0mseterrcall\u001b[0m\u001b[0;34m(\u001b[0m\u001b[0mself\u001b[0m\u001b[0;34m.\u001b[0m\u001b[0moldcall\u001b[0m\u001b[0;34m)\u001b[0m\u001b[0;34m\u001b[0m\u001b[0;34m\u001b[0m\u001b[0m\n",
            "\u001b[0;32m/usr/local/lib/python3.6/dist-packages/numpy/core/_ufunc_config.py\u001b[0m in \u001b[0;36mseterr\u001b[0;34m(all, divide, over, under, invalid)\u001b[0m\n\u001b[1;32m    116\u001b[0m \u001b[0;34m\u001b[0m\u001b[0m\n\u001b[1;32m    117\u001b[0m     \u001b[0mpyvals\u001b[0m \u001b[0;34m=\u001b[0m \u001b[0mumath\u001b[0m\u001b[0;34m.\u001b[0m\u001b[0mgeterrobj\u001b[0m\u001b[0;34m(\u001b[0m\u001b[0;34m)\u001b[0m\u001b[0;34m\u001b[0m\u001b[0;34m\u001b[0m\u001b[0m\n\u001b[0;32m--> 118\u001b[0;31m     \u001b[0mold\u001b[0m \u001b[0;34m=\u001b[0m \u001b[0mgeterr\u001b[0m\u001b[0;34m(\u001b[0m\u001b[0;34m)\u001b[0m\u001b[0;34m\u001b[0m\u001b[0;34m\u001b[0m\u001b[0m\n\u001b[0m\u001b[1;32m    119\u001b[0m \u001b[0;34m\u001b[0m\u001b[0m\n\u001b[1;32m    120\u001b[0m     \u001b[0;32mif\u001b[0m \u001b[0mdivide\u001b[0m \u001b[0;32mis\u001b[0m \u001b[0;32mNone\u001b[0m\u001b[0;34m:\u001b[0m\u001b[0;34m\u001b[0m\u001b[0;34m\u001b[0m\u001b[0m\n",
            "\u001b[0;32m/usr/local/lib/python3.6/dist-packages/numpy/core/_ufunc_config.py\u001b[0m in \u001b[0;36mgeterr\u001b[0;34m()\u001b[0m\n\u001b[1;32m    182\u001b[0m     \u001b[0mres\u001b[0m\u001b[0;34m[\u001b[0m\u001b[0;34m'over'\u001b[0m\u001b[0;34m]\u001b[0m \u001b[0;34m=\u001b[0m \u001b[0m_errdict_rev\u001b[0m\u001b[0;34m[\u001b[0m\u001b[0mval\u001b[0m\u001b[0;34m]\u001b[0m\u001b[0;34m\u001b[0m\u001b[0;34m\u001b[0m\u001b[0m\n\u001b[1;32m    183\u001b[0m     \u001b[0mval\u001b[0m \u001b[0;34m=\u001b[0m \u001b[0;34m(\u001b[0m\u001b[0mmaskvalue\u001b[0m \u001b[0;34m>>\u001b[0m \u001b[0mSHIFT_UNDERFLOW\u001b[0m\u001b[0;34m)\u001b[0m \u001b[0;34m&\u001b[0m \u001b[0mmask\u001b[0m\u001b[0;34m\u001b[0m\u001b[0;34m\u001b[0m\u001b[0m\n\u001b[0;32m--> 184\u001b[0;31m     \u001b[0mres\u001b[0m\u001b[0;34m[\u001b[0m\u001b[0;34m'under'\u001b[0m\u001b[0;34m]\u001b[0m \u001b[0;34m=\u001b[0m \u001b[0m_errdict_rev\u001b[0m\u001b[0;34m[\u001b[0m\u001b[0mval\u001b[0m\u001b[0;34m]\u001b[0m\u001b[0;34m\u001b[0m\u001b[0;34m\u001b[0m\u001b[0m\n\u001b[0m\u001b[1;32m    185\u001b[0m     \u001b[0mval\u001b[0m \u001b[0;34m=\u001b[0m \u001b[0;34m(\u001b[0m\u001b[0mmaskvalue\u001b[0m \u001b[0;34m>>\u001b[0m \u001b[0mSHIFT_INVALID\u001b[0m\u001b[0;34m)\u001b[0m \u001b[0;34m&\u001b[0m \u001b[0mmask\u001b[0m\u001b[0;34m\u001b[0m\u001b[0;34m\u001b[0m\u001b[0m\n\u001b[1;32m    186\u001b[0m     \u001b[0mres\u001b[0m\u001b[0;34m[\u001b[0m\u001b[0;34m'invalid'\u001b[0m\u001b[0;34m]\u001b[0m \u001b[0;34m=\u001b[0m \u001b[0m_errdict_rev\u001b[0m\u001b[0;34m[\u001b[0m\u001b[0mval\u001b[0m\u001b[0;34m]\u001b[0m\u001b[0;34m\u001b[0m\u001b[0;34m\u001b[0m\u001b[0m\n",
            "\u001b[0;31mKeyboardInterrupt\u001b[0m: "
          ]
        }
      ]
    },
    {
      "cell_type": "code",
      "metadata": {
        "id": "F-YUkm0ko_OV",
        "outputId": "cd42af39-2ead-4c29-d4ed-0c9d50933914",
        "colab": {
          "base_uri": "https://localhost:8080/",
          "height": 1000
        }
      },
      "source": [
        "out"
      ],
      "execution_count": 52,
      "outputs": [
        {
          "output_type": "execute_result",
          "data": {
            "text/plain": [
              "tensor([[0.5000, 0.5000, 0.5000, 0.5000, 0.5000, 0.5000, 0.5000, 0.5000, 0.5000,\n",
              "         0.5000, 0.5000, 0.5000, 0.5000, 0.5000, 0.5000, 0.5000, 0.5000, 0.5000,\n",
              "         0.5000, 0.5000, 0.5000, 0.5000, 0.5000, 0.5000, 0.5000, 0.5000, 0.5000,\n",
              "         0.5000, 0.5000, 0.5000, 0.5000, 0.5000, 0.5000, 0.5000, 0.5000, 0.5000,\n",
              "         0.5000, 0.5000, 0.5000, 0.5000, 0.5000, 0.5000, 0.5000, 0.5000, 0.5000,\n",
              "         0.5000, 0.5000, 0.5000, 0.5000, 0.5000, 0.5000, 0.5000, 0.5000, 0.5000,\n",
              "         0.5000, 0.5000, 0.5000, 0.5000, 0.5000, 0.5000],\n",
              "        [0.5000, 0.5000, 0.5000, 0.5000, 0.5000, 0.5000, 0.5000, 0.5000, 0.5000,\n",
              "         0.5000, 0.5000, 0.5000, 0.5000, 0.5000, 0.5000, 0.5000, 0.5000, 0.5000,\n",
              "         0.5000, 0.5000, 0.5000, 0.5000, 0.5000, 0.5000, 0.5000, 0.5000, 0.5000,\n",
              "         0.5000, 0.5000, 0.5000, 0.5000, 0.5000, 0.5000, 0.5000, 0.5000, 0.5000,\n",
              "         0.5000, 0.5000, 0.5000, 0.5000, 0.5000, 0.5000, 0.5000, 0.5000, 0.5000,\n",
              "         0.5000, 0.5000, 0.5000, 0.5000, 0.5000, 0.5000, 0.5000, 0.5000, 0.5000,\n",
              "         0.5000, 0.5000, 0.5000, 0.5000, 0.5000, 0.5000],\n",
              "        [0.5000, 0.5000, 0.5000, 0.5000, 0.5000, 0.5000, 0.5000, 0.5000, 0.5000,\n",
              "         0.5000, 0.5000, 0.5000, 0.5000, 0.5000, 0.5000, 0.5000, 0.5000, 0.5000,\n",
              "         0.5000, 0.5000, 0.5000, 0.5000, 0.5000, 0.5000, 0.5000, 0.5000, 0.5000,\n",
              "         0.5000, 0.5000, 0.5000, 0.5000, 0.5000, 0.5000, 0.5000, 0.5000, 0.5000,\n",
              "         0.5000, 0.5000, 0.5000, 0.5000, 0.5000, 0.5000, 0.5000, 0.5000, 0.5000,\n",
              "         0.5000, 0.5000, 0.5000, 0.5000, 0.5000, 0.5000, 0.5000, 0.5000, 0.5000,\n",
              "         0.5000, 0.5000, 0.5000, 0.5000, 0.5000, 0.5000],\n",
              "        [0.5000, 0.5000, 0.5000, 0.5000, 0.5000, 0.5000, 0.5000, 0.5000, 0.5000,\n",
              "         0.5000, 0.5000, 0.5000, 0.5000, 0.5000, 0.5000, 0.5000, 0.5000, 0.5000,\n",
              "         0.5000, 0.5000, 0.5000, 0.5000, 0.5000, 0.5000, 0.5000, 0.5000, 0.5000,\n",
              "         0.5000, 0.5000, 0.5000, 0.5000, 0.5000, 0.5000, 0.5000, 0.5000, 0.5000,\n",
              "         0.5000, 0.5000, 0.5000, 0.5000, 0.5000, 0.5000, 0.5000, 0.5000, 0.5000,\n",
              "         0.5000, 0.5000, 0.5000, 0.5000, 0.5000, 0.5000, 0.5000, 0.5000, 0.5000,\n",
              "         0.5000, 0.5000, 0.5000, 0.5000, 0.5000, 0.5000],\n",
              "        [0.5000, 0.5000, 0.5000, 0.5000, 0.5000, 0.5000, 0.5000, 0.5000, 0.5000,\n",
              "         0.5000, 0.5000, 0.5000, 0.5000, 0.5000, 0.5000, 0.5000, 0.5000, 0.5000,\n",
              "         0.5000, 0.5000, 0.5000, 0.5000, 0.5000, 0.5000, 0.5000, 0.5000, 0.5000,\n",
              "         0.5000, 0.5000, 0.5000, 0.5000, 0.5000, 0.5000, 0.5000, 0.5000, 0.5000,\n",
              "         0.5000, 0.5000, 0.5000, 0.5000, 0.5000, 0.5000, 0.5000, 0.5000, 0.5000,\n",
              "         0.5000, 0.5000, 0.5000, 0.5000, 0.5000, 0.5000, 0.5000, 0.5000, 0.5000,\n",
              "         0.5000, 0.5000, 0.5000, 0.5000, 0.5000, 0.5000],\n",
              "        [0.5000, 0.5000, 0.5000, 0.5000, 0.5000, 0.5000, 0.5000, 0.5000, 0.5000,\n",
              "         0.5000, 0.5000, 0.5000, 0.5000, 0.5000, 0.5000, 0.5000, 0.5000, 0.5000,\n",
              "         0.5000, 0.5000, 0.5000, 0.5000, 0.5000, 0.5000, 0.5000, 0.5000, 0.5000,\n",
              "         0.5000, 0.5000, 0.5000, 0.5000, 0.5000, 0.5000, 0.5000, 0.5000, 0.5000,\n",
              "         0.5000, 0.5000, 0.5000, 0.5000, 0.5000, 0.5000, 0.5000, 0.5000, 0.5000,\n",
              "         0.5000, 0.5000, 0.5000, 0.5000, 0.5000, 0.5000, 0.5000, 0.5000, 0.5000,\n",
              "         0.5000, 0.5000, 0.5000, 0.5000, 0.5000, 0.5000],\n",
              "        [0.5000, 0.5000, 0.5000, 0.5000, 0.5000, 0.5000, 0.5000, 0.5000, 0.5000,\n",
              "         0.5000, 0.5000, 0.5000, 0.5000, 0.5000, 0.5000, 0.5000, 0.5000, 0.5000,\n",
              "         0.5000, 0.5000, 0.5000, 0.5000, 0.5000, 0.5000, 0.5000, 0.5000, 0.5000,\n",
              "         0.5000, 0.5000, 0.5000, 0.5000, 0.5000, 0.5000, 0.5000, 0.5000, 0.5000,\n",
              "         0.5000, 0.5000, 0.5000, 0.5000, 0.5000, 0.5000, 0.5000, 0.5000, 0.5000,\n",
              "         0.5000, 0.5000, 0.5000, 0.5000, 0.5000, 0.5000, 0.5000, 0.5000, 0.5000,\n",
              "         0.5000, 0.5000, 0.5000, 0.5000, 0.5000, 0.5000],\n",
              "        [0.5000, 0.5000, 0.5000, 0.5000, 0.5000, 0.5000, 0.5000, 0.5000, 0.5000,\n",
              "         0.5000, 0.5000, 0.5000, 0.5000, 0.5000, 0.5000, 0.5000, 0.5000, 0.5000,\n",
              "         0.5000, 0.5000, 0.5000, 0.5000, 0.5000, 0.5000, 0.5000, 0.5000, 0.5000,\n",
              "         0.5000, 0.5000, 0.5000, 0.5000, 0.5000, 0.5000, 0.5000, 0.5000, 0.5000,\n",
              "         0.5000, 0.5000, 0.5000, 0.5000, 0.5000, 0.5000, 0.5000, 0.5000, 0.5000,\n",
              "         0.5000, 0.5000, 0.5000, 0.5000, 0.5000, 0.5000, 0.5000, 0.5000, 0.5000,\n",
              "         0.5000, 0.5000, 0.5000, 0.5000, 0.5000, 0.5000]])"
            ]
          },
          "metadata": {
            "tags": []
          },
          "execution_count": 52
        }
      ]
    },
    {
      "cell_type": "code",
      "metadata": {
        "id": "nD-_cX0kNYTi"
      },
      "source": [
        "plt.figure(figsize=(16, 8))\n",
        "\n",
        "for i in range(4):\n",
        "# i = 0\n",
        "    lon = x.cpu().numpy()[i][0]\n",
        "    lat = x.cpu().numpy()[i][1]\n",
        "\n",
        "    real = y.cpu().numpy()[i]\n",
        "    estim = out.cpu().detach().numpy()[i] > 0.5\n",
        "\n",
        "    plt.subplot(2, 4, i+1)\n",
        "    plt.plot(lon, lat)\n",
        "    plt.scatter(lon[np.where(real)], lat[np.where(real)], c='orange')\n",
        "    \n",
        "    plt.subplot(2, 4, i+5)\n",
        "    plt.plot(lon, lat)\n",
        "    plt.scatter(lon[np.where(estim)], lat[np.where(estim)], c='red')\n"
      ],
      "execution_count": null,
      "outputs": []
    },
    {
      "cell_type": "code",
      "metadata": {
        "id": "nRrfrtcENaTA"
      },
      "source": [
        "out.cpu().detach().numpy()[0]"
      ],
      "execution_count": null,
      "outputs": []
    }
  ]
}