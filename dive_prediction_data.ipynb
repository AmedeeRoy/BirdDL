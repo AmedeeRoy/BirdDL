{
 "cells": [
  {
   "cell_type": "markdown",
   "metadata": {},
   "source": [
    "# Dive Prediction - Data\n",
    "\n",
    "*Predicting Seabird Diving Behaviour from GPS data*\n",
    "\n",
    "This notebook prepares and formats a dataset of **74 foraging trips of seabirds** (*Sula Variegata*) with both GPS and Time Depth Recorder (TDR) tracking data. Data has been collected on **Ilha Pescadores, Peru** between 2009 and 2013.\n",
    "\n",
    "More precisely, data have been prepared and selected as follow:\n",
    "\n",
    "* Trajectories with raw temporal sampling at 1s only\n",
    "* Gaps have been interpolated linearly (yet there are shorter than 10s)\n",
    "* Maximal step speed is inferior to 50 m.s-1\n",
    "* Birds never stay static longer than 10 minutes\n",
    "* Number of dive in each trajectory is within the following range 1-99"
   ]
  },
  {
   "cell_type": "code",
   "execution_count": null,
   "metadata": {},
   "outputs": [],
   "source": [
    "import sqlite3\n",
    "import pandas as pd\n",
    "import numpy as np\n",
    "import matplotlib.pyplot as plt\n",
    "from utils.trip import * "
   ]
  },
  {
   "cell_type": "code",
   "execution_count": null,
   "metadata": {},
   "outputs": [],
   "source": [
    " np.random.seed(1)"
   ]
  },
  {
   "cell_type": "markdown",
   "metadata": {},
   "source": [
    "## load raw data "
   ]
  },
  {
   "cell_type": "code",
   "execution_count": null,
   "metadata": {},
   "outputs": [],
   "source": [
    "# connect to database\n",
    "conn = sqlite3.connect('/home/amdroy/MEGA/DATA/seabirdbank.db')"
   ]
  },
  {
   "cell_type": "code",
   "execution_count": null,
   "metadata": {},
   "outputs": [],
   "source": [
    "request = \"SELECT trip, datetime, lon, lat, pressure, fastlog, gaps, step_speed, step_direction FROM dive \\\n",
    "            INNER JOIN trip ON dive.trip = trip.id \\\n",
    "            INNER JOIN bird ON trip.bird = bird.id \\\n",
    "            WHERE bird.species = 'SV' \\\n",
    "            ORDER BY trip, datetime\"\n",
    "\n",
    "data = pd.read_sql_query(request, conn)\n",
    "data['datetime'] = pd.to_datetime(data['datetime'], format='%Y-%m-%d %H:%M:%S')\n",
    "data['dive'] = 0\n",
    "\n",
    "# convert to boolean\n",
    "data['gaps'] = (data['gaps']=='TRUE')\n",
    "data['fastlog'] = (data['fastlog']=='TRUE')\n",
    "\n",
    "data"
   ]
  },
  {
   "cell_type": "markdown",
   "metadata": {},
   "source": [
    "## filter data"
   ]
  },
  {
   "cell_type": "code",
   "execution_count": null,
   "metadata": {},
   "outputs": [],
   "source": [
    "check = pd.read_csv(\"/home/amdroy/MEGA/DATA/FORMAT/dive_check.csv\", sep = ';')\n",
    "check = check[check.trip.isin(data.trip)]\n",
    "check"
   ]
  },
  {
   "cell_type": "code",
   "execution_count": null,
   "metadata": {
    "scrolled": true
   },
   "outputs": [],
   "source": [
    "# SV\n",
    "list_ok = check.trip[(check.res_sampling_gps == 1) & (check.gap_sampling_tdr == 0) & \n",
    "                     (check.nb_dive > 0) & (check.stop < 600)]\n",
    "data = data[data.trip.isin(list_ok)]\n",
    "data"
   ]
  },
  {
   "cell_type": "code",
   "execution_count": null,
   "metadata": {},
   "outputs": [],
   "source": [
    "# ## LB\n",
    "# list_ok = check.trip[(check.gap_sampling_tdr == 0) &\n",
    "#                      (check.res_sampling_gps == 1) & \n",
    "#                      (check.nb_sampling_tdr > 1000) &\n",
    "#                      (check.stop < 3000)]\n",
    "# data = data[data.trip.isin(list_ok)]\n",
    "# data"
   ]
  },
  {
   "cell_type": "code",
   "execution_count": null,
   "metadata": {},
   "outputs": [],
   "source": [
    "# # SD\n",
    "# list_ok = check.trip[(check.res_sampling_gps == 15) &(check.nb_dive > 0) & (check.res_sampling_gps <= 15)]\n",
    "# data = data[data.trip.isin(list_ok)]\n",
    "# data"
   ]
  },
  {
   "cell_type": "code",
   "execution_count": null,
   "metadata": {},
   "outputs": [],
   "source": [
    "# # SS\n",
    "# list_ok = check.trip[(check.res_sampling_gps == 15) & (check.longest_gap < 100) & (check.nb_fastlog_event > 5)]\n",
    "# data = data[data.trip.isin(list_ok)]\n",
    "# data"
   ]
  },
  {
   "cell_type": "code",
   "execution_count": null,
   "metadata": {},
   "outputs": [],
   "source": [
    "trip_duration = []\n",
    "trip_dives = []"
   ]
  },
  {
   "cell_type": "code",
   "execution_count": null,
   "metadata": {
    "scrolled": true
   },
   "outputs": [],
   "source": [
    "for i in data.trip.unique():\n",
    "    t = data[data.trip == i]\n",
    "    \n",
    "    # compute dives\n",
    "    trip = Trip(t)\n",
    "    trip.add_dive(2)\n",
    "    \n",
    "#     trip.df['dive'] = 1*trip.df['fastlog']\n",
    "    \n",
    "    trip_duration.append(trip.get_duration().total_seconds()/60)\n",
    "    trip_dives.append(sum(trip.df.dive))\n",
    "    \n",
    "    # fill dive in main table\n",
    "    data = data.copy()\n",
    "    data.loc[data.trip == i, 'dive'] = trip.df.dive.values\n",
    "    \n",
    "#     # plot individual and global plots\n",
    "#     trip.plot('./data/SS/'+ str(i)+'.png')\n",
    "#     plt.plot(np.array(t.lon), np.array(t.lat))\n",
    "    \n",
    "print('Total nb of trips: '+ str(len(data.trip.unique())))"
   ]
  },
  {
   "cell_type": "code",
   "execution_count": null,
   "metadata": {
    "scrolled": true
   },
   "outputs": [],
   "source": [
    "sum(data.dive)/len(data)"
   ]
  },
  {
   "cell_type": "code",
   "execution_count": null,
   "metadata": {},
   "outputs": [],
   "source": [
    "np.std(trip_dives)"
   ]
  },
  {
   "cell_type": "code",
   "execution_count": null,
   "metadata": {},
   "outputs": [],
   "source": [
    "# data.to_csv('./data/SS_all.csv', index = False)"
   ]
  },
  {
   "cell_type": "markdown",
   "metadata": {},
   "source": [
    "## split to train, validation, test dataset"
   ]
  },
  {
   "cell_type": "code",
   "execution_count": null,
   "metadata": {},
   "outputs": [],
   "source": [
    "data_guanape = data[data.trip.str[:1]=='G']\n",
    "data = data[data.trip.str[:1]=='P']"
   ]
  },
  {
   "cell_type": "code",
   "execution_count": null,
   "metadata": {},
   "outputs": [],
   "source": [
    "data_guanape.to_csv('./data/SV_test_guanape.csv', index = False)"
   ]
  },
  {
   "cell_type": "code",
   "execution_count": null,
   "metadata": {},
   "outputs": [],
   "source": [
    "trajs = data.trip.unique()\n",
    "np.random.shuffle(trajs)\n",
    "trajs"
   ]
  },
  {
   "cell_type": "code",
   "execution_count": null,
   "metadata": {},
   "outputs": [],
   "source": [
    "nb_train = round(0.7 * len(data.trip.unique()))\n",
    "nb_validation = round(0.2 * len(data.trip.unique()))\n",
    "nb_test = round(0.1 * len(data.trip.unique()))"
   ]
  },
  {
   "cell_type": "code",
   "execution_count": null,
   "metadata": {},
   "outputs": [],
   "source": [
    "train_trajs = trajs[0:nb_train]\n",
    "validation_trajs = trajs[nb_train:(nb_train+nb_validation)]\n",
    "test_trajs = trajs[(nb_train+nb_validation):(nb_train+nb_validation+nb_test)]"
   ]
  },
  {
   "cell_type": "code",
   "execution_count": null,
   "metadata": {},
   "outputs": [],
   "source": [
    "data_train = data[data.trip.isin(train_trajs)]\n",
    "data_validation = data[data.trip.isin(validation_trajs)]\n",
    "data_test = data[data.trip.isin(test_trajs)]"
   ]
  },
  {
   "cell_type": "code",
   "execution_count": null,
   "metadata": {},
   "outputs": [],
   "source": [
    "data_train.to_csv('./data/SV_train.csv', index = False)\n",
    "data_validation.to_csv('./data/SV_validation.csv', index = False)\n",
    "data_test.to_csv('./data/SV_test.csv', index = False)"
   ]
  },
  {
   "cell_type": "code",
   "execution_count": null,
   "metadata": {},
   "outputs": [],
   "source": [
    "(nb_train, nb_validation, nb_test)"
   ]
  },
  {
   "cell_type": "code",
   "execution_count": null,
   "metadata": {},
   "outputs": [],
   "source": []
  }
 ],
 "metadata": {
  "kernelspec": {
   "display_name": "Python 3",
   "language": "python",
   "name": "python3"
  },
  "language_info": {
   "codemirror_mode": {
    "name": "ipython",
    "version": 3
   },
   "file_extension": ".py",
   "mimetype": "text/x-python",
   "name": "python",
   "nbconvert_exporter": "python",
   "pygments_lexer": "ipython3",
   "version": "3.7.4"
  }
 },
 "nbformat": 4,
 "nbformat_minor": 2
}
