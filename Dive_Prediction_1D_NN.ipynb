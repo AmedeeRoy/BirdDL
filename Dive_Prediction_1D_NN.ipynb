{
  "nbformat": 4,
  "nbformat_minor": 0,
  "metadata": {
    "kernelspec": {
      "display_name": "Python 3",
      "language": "python",
      "name": "python3"
    },
    "language_info": {
      "codemirror_mode": {
        "name": "ipython",
        "version": 3
      },
      "file_extension": ".py",
      "mimetype": "text/x-python",
      "name": "python",
      "nbconvert_exporter": "python",
      "pygments_lexer": "ipython3",
      "version": "3.7.4"
    },
    "colab": {
      "name": "Dive Prediction - 1D - NN.ipynb",
      "provenance": [],
      "include_colab_link": true
    }
  },
  "cells": [
    {
      "cell_type": "markdown",
      "metadata": {
        "id": "view-in-github",
        "colab_type": "text"
      },
      "source": [
        "<a href=\"https://colab.research.google.com/github/AmedeeRoy/BirdDL/blob/main/Dive_Prediction_1D_NN.ipynb\" target=\"_parent\"><img src=\"https://colab.research.google.com/assets/colab-badge.svg\" alt=\"Open In Colab\"/></a>"
      ]
    },
    {
      "cell_type": "markdown",
      "metadata": {
        "id": "rxo9iB4y_Eji"
      },
      "source": [
        "# Predicting Seabird Diving Behaviour with GPS data\n",
        "\n",
        "Supervized Learning with Deep Networks\n"
      ]
    },
    {
      "cell_type": "code",
      "metadata": {
        "id": "HL7Drq7E_Ejm"
      },
      "source": [
        "# general material\n",
        "import numpy as np\n",
        "import matplotlib.pyplot as plt\n",
        "import pickle\n",
        "\n",
        "# pytorch materials\n",
        "import torch\n",
        "from torch import nn\n",
        "from torch import optim\n",
        "import torchvision as tv\n",
        "from torchvision.datasets import ImageFolder\n",
        "from torch.utils.data import DataLoader"
      ],
      "execution_count": 1,
      "outputs": []
    },
    {
      "cell_type": "code",
      "metadata": {
        "id": "dlCw1MEH_Ejy"
      },
      "source": [
        "# Hyperparameters\n",
        "batch_size = 8\n",
        "learning_rate = 0.001"
      ],
      "execution_count": 2,
      "outputs": []
    },
    {
      "cell_type": "code",
      "metadata": {
        "id": "HRpGkAuM_SoI",
        "outputId": "66d2c892-491b-44a9-a265-0d09b11603db",
        "colab": {
          "base_uri": "https://localhost:8080/",
          "height": 35
        }
      },
      "source": [
        "# mount google drive\n",
        "from google.colab import drive\n",
        "drive.mount(\"/content/drive/\")"
      ],
      "execution_count": 4,
      "outputs": [
        {
          "output_type": "stream",
          "text": [
            "Mounted at /content/drive/\n"
          ],
          "name": "stdout"
        }
      ]
    },
    {
      "cell_type": "code",
      "metadata": {
        "id": "Cz-j4zWF_Ej8"
      },
      "source": [
        "### LOAD DATA ### --------------------------\n",
        "\n",
        "fileObj = open('/content/drive/My Drive/data/train_dives.obj', 'rb')\n",
        "train_trajs_balanced = pickle.load(fileObj)\n",
        "fileObj.close()\n",
        "\n",
        "fileObj = open('/content/drive/My Drive/data/test_dives.obj', 'rb')\n",
        "test_trajs = pickle.load(fileObj)\n",
        "fileObj.close()"
      ],
      "execution_count": 5,
      "outputs": []
    },
    {
      "cell_type": "code",
      "metadata": {
        "id": "qSN7ACNQ_EkP"
      },
      "source": [
        "device = torch.device(\"cuda\" if torch.cuda.is_available() else \"cpu\")\n",
        "\n",
        "train_dataset = [(torch.tensor(x.T, dtype = torch.float), torch.tensor([y], dtype = torch.float)) for (x,y) in train_trajs_balanced]\n",
        "test_dataset = [(torch.tensor(x.T, dtype = torch.float), torch.tensor([y], dtype = torch.float)) for (x,y) in test_trajs]\n",
        "\n",
        "train_loader = DataLoader(train_dataset, batch_size=batch_size, shuffle=False, drop_last=True)\n",
        "test_loader = DataLoader(test_dataset, batch_size=batch_size, shuffle=False, drop_last=True)"
      ],
      "execution_count": 6,
      "outputs": []
    },
    {
      "cell_type": "code",
      "metadata": {
        "id": "5rbk4tSL_EkZ"
      },
      "source": [
        "class ConvNet(nn.Module):\n",
        "    def __init__(self):\n",
        "        super(ConvNet, self).__init__()\n",
        "        self.layer1 = nn.Sequential(\n",
        "            nn.Conv1d(2, 2, kernel_size = 26, stride = 1, padding = 25, dilation = 2),\n",
        "            nn.Conv1d(2, 1, kernel_size = 26, stride = 1, padding = 25, dilation = 2),\n",
        "            nn.Sigmoid(),\n",
        "            nn.MaxPool1d(kernel_size = 26, stride = 1, padding = 10, dilation = 2),\n",
        "            nn.Linear(70, 50))\n",
        "        \n",
        "        self.layer2 = nn.Sequential(\n",
        "            nn.Conv1d(1, 1, kernel_size = 11, stride = 1, padding = 10, dilation = 2),\n",
        "            nn.Conv1d(1, 1, kernel_size = 11, stride = 1, padding = 10, dilation = 2),\n",
        "            nn.Sigmoid(),\n",
        "            nn.MaxPool1d(kernel_size = 5, padding = 2, dilation = 2),\n",
        "            nn.Linear(10, 1))\n",
        "               \n",
        "        self.sigmoid = nn.Sigmoid()\n",
        "        \n",
        "        self.layer = nn.Sequential(\n",
        "            nn.Conv1d(1, 1, kernel_size = 11, stride = 1, padding = 10, dilation = 2),\n",
        "            nn.Conv1d(1, 1, kernel_size = 11, stride = 1, padding = 10, dilation = 2),\n",
        "            nn.Sigmoid(),\n",
        "            nn.MaxPool1d(kernel_size = 5, padding = 2, dilation = 2)\n",
        "        )\n",
        "        \n",
        "    def forward(self, x):\n",
        "        out = self.layer1(x)\n",
        "        out = self.layer2(out)\n",
        "        out = self.sigmoid(out)\n",
        "        out = out.reshape((batch_size, 1))\n",
        "        return out"
      ],
      "execution_count": 7,
      "outputs": []
    },
    {
      "cell_type": "code",
      "metadata": {
        "scrolled": true,
        "id": "x8VKIS8I_Ekg",
        "outputId": "524923fe-c59b-4e25-9a9d-d0d53a0fe3d5",
        "colab": {
          "base_uri": "https://localhost:8080/",
          "height": 35
        }
      },
      "source": [
        "inputs = [x for batch, (x,y) in enumerate(train_loader)]\n",
        "outputs = [y for batch, (x,y) in enumerate(train_loader)]\n",
        "outputs[0].size()"
      ],
      "execution_count": 8,
      "outputs": [
        {
          "output_type": "execute_result",
          "data": {
            "text/plain": [
              "torch.Size([8, 1])"
            ]
          },
          "metadata": {
            "tags": []
          },
          "execution_count": 8
        }
      ]
    },
    {
      "cell_type": "code",
      "metadata": {
        "scrolled": true,
        "id": "pSfGPI0l_Ekn",
        "outputId": "4efd91f5-7e43-42da-98a8-1c20759c945a",
        "colab": {
          "base_uri": "https://localhost:8080/",
          "height": 35
        }
      },
      "source": [
        "model = ConvNet()\n",
        "out = model(inputs[0])\n",
        "out.size()"
      ],
      "execution_count": 9,
      "outputs": [
        {
          "output_type": "execute_result",
          "data": {
            "text/plain": [
              "torch.Size([8, 1])"
            ]
          },
          "metadata": {
            "tags": []
          },
          "execution_count": 9
        }
      ]
    },
    {
      "cell_type": "code",
      "metadata": {
        "id": "04mhM4BT_Eks",
        "outputId": "82e53f68-9a84-4628-bc4f-30b22f612f2f",
        "colab": {
          "base_uri": "https://localhost:8080/",
          "height": 164
        }
      },
      "source": [
        "model(inputs[0])"
      ],
      "execution_count": 10,
      "outputs": [
        {
          "output_type": "execute_result",
          "data": {
            "text/plain": [
              "tensor([[0.3949],\n",
              "        [0.3953],\n",
              "        [0.3951],\n",
              "        [0.3952],\n",
              "        [0.3950],\n",
              "        [0.3950],\n",
              "        [0.3951],\n",
              "        [0.3953]], grad_fn=<ViewBackward>)"
            ]
          },
          "metadata": {
            "tags": []
          },
          "execution_count": 10
        }
      ]
    },
    {
      "cell_type": "code",
      "metadata": {
        "id": "kOQAg_Ln_Ekw"
      },
      "source": [
        "# Loss and optimizer\n",
        "criterion = nn.BCELoss()\n",
        "optimizer = torch.optim.SGD(model.parameters(), lr=learning_rate)"
      ],
      "execution_count": 11,
      "outputs": []
    },
    {
      "cell_type": "code",
      "metadata": {
        "id": "EhTQyWMu_ElB",
        "outputId": "885e7efb-5c9b-452e-e667-2093ff09532f",
        "colab": {
          "base_uri": "https://localhost:8080/",
          "height": 35
        }
      },
      "source": [
        "criterion(outputs[0], torch.autograd.Variable(model(inputs[0])))"
      ],
      "execution_count": 12,
      "outputs": [
        {
          "output_type": "execute_result",
          "data": {
            "text/plain": [
              "tensor(44.7482)"
            ]
          },
          "metadata": {
            "tags": []
          },
          "execution_count": 12
        }
      ]
    },
    {
      "cell_type": "code",
      "metadata": {
        "scrolled": true,
        "id": "9eCC35um_ElL",
        "outputId": "5d0b5768-8531-4871-9cd4-dd3ef8d89951",
        "colab": {
          "base_uri": "https://localhost:8080/",
          "height": 1000
        }
      },
      "source": [
        "# Train the model\n",
        "total_step = len(train_loader)\n",
        "loss_list = []\n",
        "acc_list = []\n",
        "\n",
        "for i, (x, y) in enumerate(train_loader):\n",
        "    \n",
        "    # Train the model\n",
        "    model.train()\n",
        "    \n",
        "    # Run the forward pass\n",
        "    outputs = model(x)\n",
        "    loss = criterion(outputs, torch.autograd.Variable(y))\n",
        "\n",
        "    # Backprop and perform optimisation\n",
        "    optimizer.zero_grad()\n",
        "    loss.backward()\n",
        "    optimizer.step()\n",
        "    \n",
        "\n",
        "    if (i + 1) % 1000 == 0:  \n",
        "        # Test the model\n",
        "        model.eval()\n",
        "        with torch.no_grad():\n",
        "            correct = 0\n",
        "            total = 0\n",
        "            for x, y in test_loader:\n",
        "                outputs = model(x)\n",
        "                \n",
        "                # dive prediction\n",
        "                correct += torch.sum(1*(outputs>0.5) == y).item()\n",
        "                total += batch_size\n",
        "        \n",
        "#         # Plot weight\n",
        "#         IPython.display.clear_output(wait=True)\n",
        "\n",
        "#         plt.figure(figsize=(16, 4))\n",
        "#         jj = 0    \n",
        "#         for name, param in model.named_parameters():\n",
        "#             if param.requires_grad:\n",
        "#                 jj+=1\n",
        "#                 plt.subplot(4, 4, jj)\n",
        "#                 plt.hist(param.data.numpy().reshape(np.prod(param.data.numpy().shape)))\n",
        "#                 plt.title(name)\n",
        "        \n",
        "#         plt.show()\n",
        "        print('Step [{}/{}], Loss: {:.4f}, Accuracy: {} %'\n",
        "              .format(i + 1, total_step, loss.item(), (correct / total) * 100))"
      ],
      "execution_count": 13,
      "outputs": [
        {
          "output_type": "stream",
          "text": [
            "Step [1000/84575], Loss: 0.5677, Accuracy: 76.3733859906352 %\n",
            "Step [2000/84575], Loss: 0.8166, Accuracy: 76.3733859906352 %\n",
            "Step [3000/84575], Loss: 0.8347, Accuracy: 76.3733859906352 %\n",
            "Step [4000/84575], Loss: 0.4235, Accuracy: 76.3733859906352 %\n",
            "Step [5000/84575], Loss: 0.4172, Accuracy: 76.3733859906352 %\n",
            "Step [6000/84575], Loss: 0.5610, Accuracy: 76.3733859906352 %\n",
            "Step [7000/84575], Loss: 0.7086, Accuracy: 76.3733859906352 %\n",
            "Step [8000/84575], Loss: 0.5598, Accuracy: 76.3733859906352 %\n",
            "Step [9000/84575], Loss: 0.5647, Accuracy: 76.3733859906352 %\n",
            "Step [10000/84575], Loss: 0.4087, Accuracy: 76.3733859906352 %\n",
            "Step [11000/84575], Loss: 0.4154, Accuracy: 76.3733859906352 %\n",
            "Step [12000/84575], Loss: 0.5555, Accuracy: 76.3733859906352 %\n",
            "Step [13000/84575], Loss: 0.5575, Accuracy: 76.3733859906352 %\n",
            "Step [14000/84575], Loss: 0.6756, Accuracy: 76.3733859906352 %\n",
            "Step [15000/84575], Loss: 0.2680, Accuracy: 76.3733859906352 %\n",
            "Step [16000/84575], Loss: 0.5514, Accuracy: 76.3733859906352 %\n",
            "Step [17000/84575], Loss: 0.9782, Accuracy: 76.3733859906352 %\n",
            "Step [18000/84575], Loss: 0.5096, Accuracy: 76.3733859906352 %\n",
            "Step [19000/84575], Loss: 1.0004, Accuracy: 76.3733859906352 %\n",
            "Step [20000/84575], Loss: 0.5138, Accuracy: 76.3733859906352 %\n",
            "Step [21000/84575], Loss: 0.8235, Accuracy: 76.3733859906352 %\n",
            "Step [22000/84575], Loss: 0.7592, Accuracy: 76.3733859906352 %\n",
            "Step [23000/84575], Loss: 0.7328, Accuracy: 76.3733859906352 %\n",
            "Step [24000/84575], Loss: 0.4318, Accuracy: 76.3733859906352 %\n",
            "Step [25000/84575], Loss: 0.3930, Accuracy: 76.3733859906352 %\n",
            "Step [26000/84575], Loss: 0.5281, Accuracy: 76.3733859906352 %\n",
            "Step [27000/84575], Loss: 0.2289, Accuracy: 76.3733859906352 %\n",
            "Step [28000/84575], Loss: 0.5469, Accuracy: 76.3733859906352 %\n",
            "Step [29000/84575], Loss: 0.5308, Accuracy: 76.3733859906352 %\n",
            "Step [30000/84575], Loss: 0.3685, Accuracy: 76.3733859906352 %\n",
            "Step [31000/84575], Loss: 0.5707, Accuracy: 76.3733859906352 %\n",
            "Step [32000/84575], Loss: 0.5221, Accuracy: 76.3733859906352 %\n",
            "Step [33000/84575], Loss: 0.5614, Accuracy: 76.3733859906352 %\n",
            "Step [34000/84575], Loss: 0.9194, Accuracy: 76.3733859906352 %\n",
            "Step [35000/84575], Loss: 0.2670, Accuracy: 76.3733859906352 %\n",
            "Step [36000/84575], Loss: 0.4394, Accuracy: 76.3733859906352 %\n",
            "Step [37000/84575], Loss: 0.6729, Accuracy: 76.3733859906352 %\n",
            "Step [38000/84575], Loss: 0.6487, Accuracy: 76.3733859906352 %\n",
            "Step [39000/84575], Loss: 0.5420, Accuracy: 76.3733859906352 %\n",
            "Step [40000/84575], Loss: 0.6543, Accuracy: 76.3733859906352 %\n",
            "Step [41000/84575], Loss: 0.6214, Accuracy: 76.3733859906352 %\n",
            "Step [42000/84575], Loss: 0.4014, Accuracy: 76.3733859906352 %\n",
            "Step [43000/84575], Loss: 0.5857, Accuracy: 76.3733859906352 %\n",
            "Step [44000/84575], Loss: 0.6091, Accuracy: 76.3733859906352 %\n",
            "Step [45000/84575], Loss: 0.2522, Accuracy: 76.3733859906352 %\n",
            "Step [46000/84575], Loss: 0.4665, Accuracy: 76.3733859906352 %\n",
            "Step [47000/84575], Loss: 0.3498, Accuracy: 76.3733859906352 %\n",
            "Step [48000/84575], Loss: 0.6408, Accuracy: 76.3733859906352 %\n",
            "Step [49000/84575], Loss: 0.2785, Accuracy: 76.3733859906352 %\n",
            "Step [50000/84575], Loss: 0.6074, Accuracy: 76.3733859906352 %\n",
            "Step [51000/84575], Loss: 0.7363, Accuracy: 76.3733859906352 %\n",
            "Step [52000/84575], Loss: 0.4261, Accuracy: 76.3733859906352 %\n",
            "Step [53000/84575], Loss: 0.2681, Accuracy: 76.3733859906352 %\n",
            "Step [54000/84575], Loss: 0.4225, Accuracy: 76.3733859906352 %\n",
            "Step [55000/84575], Loss: 0.5491, Accuracy: 76.3733859906352 %\n",
            "Step [56000/84575], Loss: 0.6700, Accuracy: 76.3733859906352 %\n",
            "Step [57000/84575], Loss: 0.3480, Accuracy: 76.3733859906352 %\n",
            "Step [58000/84575], Loss: 0.8680, Accuracy: 76.3733859906352 %\n",
            "Step [59000/84575], Loss: 0.4181, Accuracy: 76.3733859906352 %\n",
            "Step [60000/84575], Loss: 0.4281, Accuracy: 76.3733859906352 %\n",
            "Step [61000/84575], Loss: 0.4932, Accuracy: 76.3733859906352 %\n",
            "Step [62000/84575], Loss: 0.4051, Accuracy: 76.3733859906352 %\n",
            "Step [63000/84575], Loss: 0.2803, Accuracy: 76.3733859906352 %\n",
            "Step [64000/84575], Loss: 0.5620, Accuracy: 76.3733859906352 %\n",
            "Step [65000/84575], Loss: 0.6011, Accuracy: 76.3733859906352 %\n",
            "Step [66000/84575], Loss: 0.7989, Accuracy: 76.3733859906352 %\n",
            "Step [67000/84575], Loss: 0.5020, Accuracy: 76.3733859906352 %\n",
            "Step [68000/84575], Loss: 0.4156, Accuracy: 76.3733859906352 %\n",
            "Step [69000/84575], Loss: 0.4776, Accuracy: 76.3733859906352 %\n",
            "Step [70000/84575], Loss: 0.6140, Accuracy: 76.3733859906352 %\n",
            "Step [71000/84575], Loss: 0.5546, Accuracy: 76.3733859906352 %\n",
            "Step [72000/84575], Loss: 0.4572, Accuracy: 76.3733859906352 %\n",
            "Step [73000/84575], Loss: 0.3878, Accuracy: 76.3733859906352 %\n",
            "Step [74000/84575], Loss: 0.3614, Accuracy: 76.3733859906352 %\n",
            "Step [75000/84575], Loss: 0.1071, Accuracy: 76.3733859906352 %\n",
            "Step [76000/84575], Loss: 0.5821, Accuracy: 76.3733859906352 %\n",
            "Step [77000/84575], Loss: 0.3783, Accuracy: 76.3733859906352 %\n",
            "Step [78000/84575], Loss: 0.4127, Accuracy: 76.3733859906352 %\n",
            "Step [79000/84575], Loss: 0.5773, Accuracy: 76.3733859906352 %\n",
            "Step [80000/84575], Loss: 0.2934, Accuracy: 76.3733859906352 %\n",
            "Step [81000/84575], Loss: 0.4494, Accuracy: 76.3733859906352 %\n",
            "Step [82000/84575], Loss: 0.4420, Accuracy: 76.3733859906352 %\n",
            "Step [83000/84575], Loss: 0.2917, Accuracy: 76.3733859906352 %\n",
            "Step [84000/84575], Loss: 0.3162, Accuracy: 76.3733859906352 %\n"
          ],
          "name": "stdout"
        }
      ]
    },
    {
      "cell_type": "code",
      "metadata": {
        "id": "tyLuXblv_ElT"
      },
      "source": [
        "i = 0\n",
        "for x, y in test_loader:\n",
        "    i += 1\n",
        "    outputs = model(x)\n",
        "    \n",
        "    if i == 10:\n",
        "        break\n",
        "    # dive prediction\n",
        "    correct += torch.sum(1*(outputs>0.5) == y).item()\n",
        "    total += batch_size"
      ],
      "execution_count": 14,
      "outputs": []
    },
    {
      "cell_type": "code",
      "metadata": {
        "id": "o9bXMli9_Eli",
        "outputId": "2f3d4aab-2c6e-4441-f97a-03d573aab057",
        "colab": {
          "base_uri": "https://localhost:8080/",
          "height": 500
        }
      },
      "source": [
        "plt.figure(figsize=(16, 8))\n",
        "\n",
        "for i in range(8):\n",
        "# i = 0\n",
        "    plt.subplot(2, 4, i+1)\n",
        "    plt.plot(x.numpy()[i][0], x.numpy()[i][1])\n",
        "    plt.title(str(y.numpy()[i]))\n",
        "    \n",
        "        #selecting the current axis\n",
        "    ax = plt.gca()\n",
        "    ax.set_aspect(1)"
      ],
      "execution_count": 15,
      "outputs": [
        {
          "output_type": "display_data",
          "data": {
            "image/png": "[encoded data removed]",
            "text/plain": [
              "<Figure size 1152x576 with 8 Axes>"
            ]
          },
          "metadata": {
            "tags": [],
            "needs_background": "light"
          }
        }
      ]
    },
    {
      "cell_type": "code",
      "metadata": {
        "id": "ECfFa8Z1_Elt",
        "outputId": "65c52f55-87f7-4d47-bf00-51c94eb4881e",
        "colab": {
          "base_uri": "https://localhost:8080/",
          "height": 164
        }
      },
      "source": [
        "outputs"
      ],
      "execution_count": 16,
      "outputs": [
        {
          "output_type": "execute_result",
          "data": {
            "text/plain": [
              "tensor([[0.3869],\n",
              "        [0.3409],\n",
              "        [0.0493],\n",
              "        [0.1124],\n",
              "        [0.0493],\n",
              "        [0.0528],\n",
              "        [0.3792],\n",
              "        [0.3859]], grad_fn=<ViewBackward>)"
            ]
          },
          "metadata": {
            "tags": []
          },
          "execution_count": 16
        }
      ]
    },
    {
      "cell_type": "code",
      "metadata": {
        "id": "bytVyHun_El1",
        "outputId": "ee9a0673-6e3e-4afc-c5d9-c1ccac8373db",
        "colab": {
          "base_uri": "https://localhost:8080/",
          "height": 164
        }
      },
      "source": [
        "y"
      ],
      "execution_count": 17,
      "outputs": [
        {
          "output_type": "execute_result",
          "data": {
            "text/plain": [
              "tensor([[1.],\n",
              "        [0.],\n",
              "        [0.],\n",
              "        [0.],\n",
              "        [0.],\n",
              "        [0.],\n",
              "        [1.],\n",
              "        [0.]])"
            ]
          },
          "metadata": {
            "tags": []
          },
          "execution_count": 17
        }
      ]
    },
    {
      "cell_type": "code",
      "metadata": {
        "id": "H4pHNHG5_n9H"
      },
      "source": [
        ""
      ],
      "execution_count": 17,
      "outputs": []
    }
  ]
}