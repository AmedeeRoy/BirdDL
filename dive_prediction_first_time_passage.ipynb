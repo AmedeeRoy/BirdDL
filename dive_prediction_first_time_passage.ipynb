{
 "cells": [
  {
   "cell_type": "markdown",
   "metadata": {},
   "source": [
    "# Dive Prediction - First Time Passage\n",
    "\n",
    "*Predicting Seabird Diving Behaviour from GPS data*\n",
    "\n",
    "This notebook predicts dive with First Time Passage Approach"
   ]
  },
  {
   "cell_type": "code",
   "execution_count": null,
   "metadata": {},
   "outputs": [],
   "source": [
    "import pandas as pd\n",
    "import numpy as np\n",
    "import matplotlib.pyplot as plt\n",
    "\n",
    "from utils.trip import * "
   ]
  },
  {
   "cell_type": "code",
   "execution_count": null,
   "metadata": {
    "scrolled": true
   },
   "outputs": [],
   "source": [
    "data_test = pd.read_csv('./data/data_test.csv')"
   ]
  },
  {
   "cell_type": "markdown",
   "metadata": {},
   "source": [
    "## Choose resolution"
   ]
  },
  {
   "cell_type": "code",
   "execution_count": null,
   "metadata": {},
   "outputs": [],
   "source": [
    "## \n",
    "resolution = 5"
   ]
  },
  {
   "cell_type": "code",
   "execution_count": null,
   "metadata": {},
   "outputs": [],
   "source": [
    "data_test_new = pd.DataFrame() \n",
    "for i in data_test.trip.unique():\n",
    "    t = data_test[data_test.trip == i].copy()\n",
    "    \n",
    "    idx = [i%resolution == 0 for i in range(len(t))]\n",
    "    \n",
    "    traj = t.loc[idx, ('trip', 'datetime', 'lon', 'lat')]\n",
    "    \n",
    "    traj['dive'] = [np.max(t.dive[i:i+resolution]) for i in range(len(t)) if i%resolution==0]\n",
    "    \n",
    "    data_test_new = data_test_new.append(traj, ignore_index=True)"
   ]
  },
  {
   "cell_type": "markdown",
   "metadata": {},
   "source": [
    "#### check if it is coherent with R code for HMM"
   ]
  },
  {
   "cell_type": "code",
   "execution_count": null,
   "metadata": {},
   "outputs": [],
   "source": [
    "hmm = pd.read_csv('./results/hmm_prediction_'+str(resolution)+'s.csv')"
   ]
  },
  {
   "cell_type": "code",
   "execution_count": null,
   "metadata": {},
   "outputs": [],
   "source": [
    "sum(1-(hmm.dive == data_test_new.dive))"
   ]
  },
  {
   "cell_type": "markdown",
   "metadata": {},
   "source": [
    "## Empirical parameters "
   ]
  },
  {
   "cell_type": "code",
   "execution_count": null,
   "metadata": {},
   "outputs": [],
   "source": [
    "## compute distance matrixes\n",
    "list_trip = []\n",
    "for i in data_test_new.trip.unique():\n",
    "    t = data_test_new[data_test_new.trip == i]\n",
    "    \n",
    "    trip = Trip(t)\n",
    "    trip.compute_dist_matrix()\n",
    "    list_trip.append(trip)"
   ]
  },
  {
   "cell_type": "code",
   "execution_count": null,
   "metadata": {},
   "outputs": [],
   "source": [
    "## compute first time passage\n",
    "radius = 500\n",
    "\n",
    "list_ftp = []\n",
    "for trip in list_trip:\n",
    "    ftp = trip.first_time_passage(radius)\n",
    "    list_ftp.append(ftp/max(ftp))"
   ]
  },
  {
   "cell_type": "code",
   "execution_count": null,
   "metadata": {
    "scrolled": true
   },
   "outputs": [],
   "source": [
    "time_threshold = 0.75\n",
    "\n",
    "i = 0\n",
    "\n",
    "trip = list_trip[i]\n",
    "ftp = list_ftp[i]\n",
    "\n",
    "plt.figure(figsize = (15, 5))\n",
    "plt.subplot(1,2,1)\n",
    "plt.plot(np.array(trip.df.lon), np.array(trip.df.lat))\n",
    "plt.scatter(trip.df.lon.values[ftp>time_threshold], \\\n",
    "            trip.df.lat.values[ftp>time_threshold], c = 'orange')\n",
    "\n",
    "plt.subplot(1,2,2)\n",
    "plt.plot(ftp)\n",
    "plt.plot(time_threshold*np.ones(len(ftp)), c = 'orange')"
   ]
  },
  {
   "cell_type": "code",
   "execution_count": null,
   "metadata": {},
   "outputs": [],
   "source": [
    "data_test_new['prediction'] = np.hstack(list_ftp)\n",
    "data_test_new.to_csv('./results/ftp_prediction_'+str(resolution)+'s.csv', index = False)"
   ]
  },
  {
   "cell_type": "markdown",
   "metadata": {},
   "source": [
    "## change ouput resolution"
   ]
  },
  {
   "cell_type": "code",
   "execution_count": null,
   "metadata": {},
   "outputs": [],
   "source": [
    "data_output = pd.DataFrame()\n",
    "resolution_output = int(15/resolution)\n",
    "\n",
    "for i in data_test_new.trip.unique():\n",
    "    t = data_test_new[data_test_new.trip == i].copy()\n",
    "    \n",
    "    idx = [i%resolution_output == 0 for i in range(len(t))]\n",
    "    \n",
    "    traj = t.loc[idx, ('trip', 'datetime', 'lon', 'lat')]\n",
    "    \n",
    "    traj['dive'] = [np.max(t.dive[i:i+resolution_output]) for i in range(len(t)) if i%resolution_output==0]\n",
    "    traj['prediction'] = [np.max(t.prediction[i:i+resolution_output]) for i in range(len(t)) if i%resolution_output==0]\n",
    "    \n",
    "    data_output = data_output.append(traj, ignore_index=True)\n",
    "    \n",
    "data_output"
   ]
  },
  {
   "cell_type": "markdown",
   "metadata": {},
   "source": [
    "# Roc curve"
   ]
  },
  {
   "cell_type": "code",
   "execution_count": null,
   "metadata": {
    "scrolled": true
   },
   "outputs": [],
   "source": [
    "fig, ax = plt.subplots()\n",
    "ax.set_aspect('equal')\n",
    "ax.set_xlabel('False Positive Rate')\n",
    "ax.set_ylabel('True Positive Rate')\n",
    "    \n",
    "# globally\n",
    "TP = []\n",
    "FP = []\n",
    "real =  data_output.dive  \n",
    "for tt in np.arange(0, 1, 0.001):\n",
    "    estim = 1* (data_output.prediction > tt)\n",
    "    true_positive = np.mean(estim[real == 1])\n",
    "    true_negative = 1-np.mean(estim[real == 0])\n",
    "    TP.append(true_positive)\n",
    "    FP.append(1-true_negative)\n",
    "plt.plot(FP, TP)"
   ]
  },
  {
   "cell_type": "code",
   "execution_count": null,
   "metadata": {},
   "outputs": [],
   "source": []
  }
 ],
 "metadata": {
  "kernelspec": {
   "display_name": "Python 3",
   "language": "python",
   "name": "python3"
  },
  "language_info": {
   "codemirror_mode": {
    "name": "ipython",
    "version": 3
   },
   "file_extension": ".py",
   "mimetype": "text/x-python",
   "name": "python",
   "nbconvert_exporter": "python",
   "pygments_lexer": "ipython3",
   "version": "3.7.4"
  }
 },
 "nbformat": 4,
 "nbformat_minor": 2
}
