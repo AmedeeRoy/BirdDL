{
 "cells": [
  {
   "cell_type": "code",
   "execution_count": 1,
   "metadata": {},
   "outputs": [],
   "source": [
    "import sqlite3\n",
    "import pandas as pd\n",
    "import numpy as np\n",
    "import matplotlib.pyplot as plt\n",
    "import IPython\n",
    "import datetime\n",
    "import random\n",
    "import pickle\n",
    "\n",
    "import trip\n",
    "import os\n",
    "import torch\n",
    "from torch import nn\n",
    "from torch.utils.data import DataLoader, Dataset\n",
    "from torchvision import transforms"
   ]
  },
  {
   "cell_type": "markdown",
   "metadata": {},
   "source": [
    "# Data"
   ]
  },
  {
   "cell_type": "code",
   "execution_count": 2,
   "metadata": {},
   "outputs": [],
   "source": [
    "# connect to database\n",
    "conn = sqlite3.connect('/home/amdroy/MEGA/DATA/seabirdbank.db')"
   ]
  },
  {
   "cell_type": "markdown",
   "metadata": {},
   "source": [
    "## import dataset"
   ]
  },
  {
   "cell_type": "code",
   "execution_count": 3,
   "metadata": {},
   "outputs": [],
   "source": [
    "request = \"SELECT trip, datetime, lon, lat, pressure, gaps, step_speed FROM gps_tdr_interp \\\n",
    "            INNER JOIN trip ON gps_tdr_interp.trip = trip.id \\\n",
    "            INNER JOIN bird ON trip.bird = bird.id \\\n",
    "            WHERE bird.species = 'SV' \\\n",
    "            ORDER BY trip, datetime\"\n",
    "\n",
    "data = pd.read_sql_query(request, conn)"
   ]
  },
  {
   "cell_type": "code",
   "execution_count": 4,
   "metadata": {},
   "outputs": [
    {
     "data": {
      "text/html": [
       "<div>\n",
       "<style scoped>\n",
       "    .dataframe tbody tr th:only-of-type {\n",
       "        vertical-align: middle;\n",
       "    }\n",
       "\n",
       "    .dataframe tbody tr th {\n",
       "        vertical-align: top;\n",
       "    }\n",
       "\n",
       "    .dataframe thead th {\n",
       "        text-align: right;\n",
       "    }\n",
       "</style>\n",
       "<table border=\"1\" class=\"dataframe\">\n",
       "  <thead>\n",
       "    <tr style=\"text-align: right;\">\n",
       "      <th></th>\n",
       "      <th>trip</th>\n",
       "      <th>datetime</th>\n",
       "      <th>lon</th>\n",
       "      <th>lat</th>\n",
       "      <th>pressure</th>\n",
       "      <th>gaps</th>\n",
       "      <th>step_speed</th>\n",
       "    </tr>\n",
       "  </thead>\n",
       "  <tbody>\n",
       "    <tr>\n",
       "      <th>0</th>\n",
       "      <td>G1107_12_SV_T1</td>\n",
       "      <td>2007-11-19 13:42:18</td>\n",
       "      <td>-78.958173</td>\n",
       "      <td>-8.566655</td>\n",
       "      <td>-0.69</td>\n",
       "      <td>FALSE</td>\n",
       "      <td>NaN</td>\n",
       "    </tr>\n",
       "    <tr>\n",
       "      <th>1</th>\n",
       "      <td>G1107_12_SV_T1</td>\n",
       "      <td>2007-11-19 13:42:19</td>\n",
       "      <td>-78.958148</td>\n",
       "      <td>-8.566714</td>\n",
       "      <td>-0.66</td>\n",
       "      <td>FALSE</td>\n",
       "      <td>7.120624</td>\n",
       "    </tr>\n",
       "    <tr>\n",
       "      <th>2</th>\n",
       "      <td>G1107_12_SV_T1</td>\n",
       "      <td>2007-11-19 13:42:20</td>\n",
       "      <td>-78.958134</td>\n",
       "      <td>-8.566773</td>\n",
       "      <td>-0.66</td>\n",
       "      <td>FALSE</td>\n",
       "      <td>6.745794</td>\n",
       "    </tr>\n",
       "    <tr>\n",
       "      <th>3</th>\n",
       "      <td>G1107_12_SV_T1</td>\n",
       "      <td>2007-11-19 13:42:21</td>\n",
       "      <td>-78.958121</td>\n",
       "      <td>-8.566839</td>\n",
       "      <td>-0.66</td>\n",
       "      <td>FALSE</td>\n",
       "      <td>7.484667</td>\n",
       "    </tr>\n",
       "    <tr>\n",
       "      <th>4</th>\n",
       "      <td>G1107_12_SV_T1</td>\n",
       "      <td>2007-11-19 13:42:22</td>\n",
       "      <td>-78.958112</td>\n",
       "      <td>-8.566910</td>\n",
       "      <td>-0.66</td>\n",
       "      <td>FALSE</td>\n",
       "      <td>7.965019</td>\n",
       "    </tr>\n",
       "    <tr>\n",
       "      <th>...</th>\n",
       "      <td>...</td>\n",
       "      <td>...</td>\n",
       "      <td>...</td>\n",
       "      <td>...</td>\n",
       "      <td>...</td>\n",
       "      <td>...</td>\n",
       "      <td>...</td>\n",
       "    </tr>\n",
       "    <tr>\n",
       "      <th>1488391</th>\n",
       "      <td>P1113_50_SV_T2</td>\n",
       "      <td>2013-11-25 05:23:26</td>\n",
       "      <td>-77.264830</td>\n",
       "      <td>-11.773700</td>\n",
       "      <td>-0.94</td>\n",
       "      <td>FALSE</td>\n",
       "      <td>8.459780</td>\n",
       "    </tr>\n",
       "    <tr>\n",
       "      <th>1488392</th>\n",
       "      <td>P1113_50_SV_T2</td>\n",
       "      <td>2013-11-25 05:23:27</td>\n",
       "      <td>-77.264860</td>\n",
       "      <td>-11.773660</td>\n",
       "      <td>-0.94</td>\n",
       "      <td>FALSE</td>\n",
       "      <td>5.258289</td>\n",
       "    </tr>\n",
       "    <tr>\n",
       "      <th>1488393</th>\n",
       "      <td>P1113_50_SV_T2</td>\n",
       "      <td>2013-11-25 05:23:28</td>\n",
       "      <td>-77.264900</td>\n",
       "      <td>-11.773700</td>\n",
       "      <td>-0.94</td>\n",
       "      <td>FALSE</td>\n",
       "      <td>6.162400</td>\n",
       "    </tr>\n",
       "    <tr>\n",
       "      <th>1488394</th>\n",
       "      <td>P1113_50_SV_T2</td>\n",
       "      <td>2013-11-25 05:23:29</td>\n",
       "      <td>-77.264930</td>\n",
       "      <td>-11.773740</td>\n",
       "      <td>-0.94</td>\n",
       "      <td>FALSE</td>\n",
       "      <td>5.072946</td>\n",
       "    </tr>\n",
       "    <tr>\n",
       "      <th>1488395</th>\n",
       "      <td>P1113_50_SV_T2</td>\n",
       "      <td>2013-11-25 05:23:30</td>\n",
       "      <td>-77.264950</td>\n",
       "      <td>-11.773770</td>\n",
       "      <td>-0.94</td>\n",
       "      <td>FALSE</td>\n",
       "      <td>4.264838</td>\n",
       "    </tr>\n",
       "  </tbody>\n",
       "</table>\n",
       "<p>1488396 rows × 7 columns</p>\n",
       "</div>"
      ],
      "text/plain": [
       "                   trip            datetime        lon        lat  pressure  \\\n",
       "0        G1107_12_SV_T1 2007-11-19 13:42:18 -78.958173  -8.566655     -0.69   \n",
       "1        G1107_12_SV_T1 2007-11-19 13:42:19 -78.958148  -8.566714     -0.66   \n",
       "2        G1107_12_SV_T1 2007-11-19 13:42:20 -78.958134  -8.566773     -0.66   \n",
       "3        G1107_12_SV_T1 2007-11-19 13:42:21 -78.958121  -8.566839     -0.66   \n",
       "4        G1107_12_SV_T1 2007-11-19 13:42:22 -78.958112  -8.566910     -0.66   \n",
       "...                 ...                 ...        ...        ...       ...   \n",
       "1488391  P1113_50_SV_T2 2013-11-25 05:23:26 -77.264830 -11.773700     -0.94   \n",
       "1488392  P1113_50_SV_T2 2013-11-25 05:23:27 -77.264860 -11.773660     -0.94   \n",
       "1488393  P1113_50_SV_T2 2013-11-25 05:23:28 -77.264900 -11.773700     -0.94   \n",
       "1488394  P1113_50_SV_T2 2013-11-25 05:23:29 -77.264930 -11.773740     -0.94   \n",
       "1488395  P1113_50_SV_T2 2013-11-25 05:23:30 -77.264950 -11.773770     -0.94   \n",
       "\n",
       "          gaps  step_speed  \n",
       "0        FALSE         NaN  \n",
       "1        FALSE    7.120624  \n",
       "2        FALSE    6.745794  \n",
       "3        FALSE    7.484667  \n",
       "4        FALSE    7.965019  \n",
       "...        ...         ...  \n",
       "1488391  FALSE    8.459780  \n",
       "1488392  FALSE    5.258289  \n",
       "1488393  FALSE    6.162400  \n",
       "1488394  FALSE    5.072946  \n",
       "1488395  FALSE    4.264838  \n",
       "\n",
       "[1488396 rows x 7 columns]"
      ]
     },
     "execution_count": 4,
     "metadata": {},
     "output_type": "execute_result"
    }
   ],
   "source": [
    "data['datetime'] = pd.to_datetime(data['datetime'], format='%Y-%m-%d %H:%M:%S')\n",
    "data"
   ]
  },
  {
   "cell_type": "code",
   "execution_count": 5,
   "metadata": {},
   "outputs": [],
   "source": [
    "def rle(inarray):\n",
    "        \"\"\" run length encoding. Partial credit to R rle function. \n",
    "            Multi datatype arrays catered for including non Numpy\n",
    "            returns: tuple (runlengths, startpositions, values) \"\"\"\n",
    "        ia = np.asarray(inarray)                # force numpy\n",
    "        n = len(ia)\n",
    "        if n == 0: \n",
    "            return (None, None, None)\n",
    "        else:\n",
    "            y = np.array(ia[1:] != ia[:-1])     # pairwise unequal (string safe)\n",
    "            i = np.append(np.where(y), n - 1)   # must include last element posi\n",
    "            z = np.diff(np.append(-1, i))       # run lengths\n",
    "            p = np.cumsum(np.append(0, z))[:-1] # positions\n",
    "            return(z, p, ia[i])"
   ]
  },
  {
   "cell_type": "code",
   "execution_count": 6,
   "metadata": {},
   "outputs": [],
   "source": [
    "## check max speed\n",
    "list_ok = []\n",
    "for k in data.trip.unique():\n",
    "    # check maximal speed\n",
    "    max_speed = np.max(data.step_speed[data.trip == k])\n",
    "    if max_speed < 50:\n",
    "        # check if there are dives\n",
    "        dive = (np.median(data.pressure[data.trip == k]) + 1 ) < np.max(data.pressure[data.trip == k])\n",
    "        if dive:\n",
    "            # check longest gap\n",
    "            if (np.median(data.pressure[data.trip == k]) + 1 ) < np.max(data.pressure[data.trip == k]):\n",
    "                rle_gaps = rle(np.where(data.gaps[data.trip == k] == 'TRUE', 1, 0))\n",
    "                longest_gaps = np.max(rle_gaps[0][rle_gaps[2] == 1])\n",
    "                if longest_gaps < 10:\n",
    "                    list_ok.append(k)"
   ]
  },
  {
   "cell_type": "code",
   "execution_count": 7,
   "metadata": {},
   "outputs": [
    {
     "data": {
      "text/html": [
       "<div>\n",
       "<style scoped>\n",
       "    .dataframe tbody tr th:only-of-type {\n",
       "        vertical-align: middle;\n",
       "    }\n",
       "\n",
       "    .dataframe tbody tr th {\n",
       "        vertical-align: top;\n",
       "    }\n",
       "\n",
       "    .dataframe thead th {\n",
       "        text-align: right;\n",
       "    }\n",
       "</style>\n",
       "<table border=\"1\" class=\"dataframe\">\n",
       "  <thead>\n",
       "    <tr style=\"text-align: right;\">\n",
       "      <th></th>\n",
       "      <th>trip</th>\n",
       "      <th>datetime</th>\n",
       "      <th>lon</th>\n",
       "      <th>lat</th>\n",
       "      <th>pressure</th>\n",
       "      <th>gaps</th>\n",
       "      <th>step_speed</th>\n",
       "    </tr>\n",
       "  </thead>\n",
       "  <tbody>\n",
       "    <tr>\n",
       "      <th>403290</th>\n",
       "      <td>G1107_9_SV_T1</td>\n",
       "      <td>2007-11-18 14:30:14</td>\n",
       "      <td>-78.96173</td>\n",
       "      <td>-8.569865</td>\n",
       "      <td>0.68</td>\n",
       "      <td>FALSE</td>\n",
       "      <td>NaN</td>\n",
       "    </tr>\n",
       "    <tr>\n",
       "      <th>403291</th>\n",
       "      <td>G1107_9_SV_T1</td>\n",
       "      <td>2007-11-18 14:30:15</td>\n",
       "      <td>-78.96174</td>\n",
       "      <td>-8.569925</td>\n",
       "      <td>0.71</td>\n",
       "      <td>FALSE</td>\n",
       "      <td>6.787599</td>\n",
       "    </tr>\n",
       "    <tr>\n",
       "      <th>403292</th>\n",
       "      <td>G1107_9_SV_T1</td>\n",
       "      <td>2007-11-18 14:30:16</td>\n",
       "      <td>-78.96173</td>\n",
       "      <td>-8.569981</td>\n",
       "      <td>0.68</td>\n",
       "      <td>FALSE</td>\n",
       "      <td>6.295377</td>\n",
       "    </tr>\n",
       "    <tr>\n",
       "      <th>403293</th>\n",
       "      <td>G1107_9_SV_T1</td>\n",
       "      <td>2007-11-18 14:30:17</td>\n",
       "      <td>-78.96170</td>\n",
       "      <td>-8.570024</td>\n",
       "      <td>0.68</td>\n",
       "      <td>FALSE</td>\n",
       "      <td>5.814952</td>\n",
       "    </tr>\n",
       "    <tr>\n",
       "      <th>403294</th>\n",
       "      <td>G1107_9_SV_T1</td>\n",
       "      <td>2007-11-18 14:30:18</td>\n",
       "      <td>-78.96167</td>\n",
       "      <td>-8.570073</td>\n",
       "      <td>0.68</td>\n",
       "      <td>FALSE</td>\n",
       "      <td>6.433678</td>\n",
       "    </tr>\n",
       "    <tr>\n",
       "      <th>...</th>\n",
       "      <td>...</td>\n",
       "      <td>...</td>\n",
       "      <td>...</td>\n",
       "      <td>...</td>\n",
       "      <td>...</td>\n",
       "      <td>...</td>\n",
       "      <td>...</td>\n",
       "    </tr>\n",
       "    <tr>\n",
       "      <th>1363156</th>\n",
       "      <td>P1113_33_SV_T4</td>\n",
       "      <td>2013-11-21 07:16:47</td>\n",
       "      <td>-77.26390</td>\n",
       "      <td>-11.773870</td>\n",
       "      <td>1.68</td>\n",
       "      <td>FALSE</td>\n",
       "      <td>10.916510</td>\n",
       "    </tr>\n",
       "    <tr>\n",
       "      <th>1363157</th>\n",
       "      <td>P1113_33_SV_T4</td>\n",
       "      <td>2013-11-21 07:16:48</td>\n",
       "      <td>-77.26401</td>\n",
       "      <td>-11.773870</td>\n",
       "      <td>1.68</td>\n",
       "      <td>FALSE</td>\n",
       "      <td>11.660360</td>\n",
       "    </tr>\n",
       "    <tr>\n",
       "      <th>1363158</th>\n",
       "      <td>P1113_33_SV_T4</td>\n",
       "      <td>2013-11-21 07:16:49</td>\n",
       "      <td>-77.26411</td>\n",
       "      <td>-11.773880</td>\n",
       "      <td>1.68</td>\n",
       "      <td>FALSE</td>\n",
       "      <td>11.641150</td>\n",
       "    </tr>\n",
       "    <tr>\n",
       "      <th>1363159</th>\n",
       "      <td>P1113_33_SV_T4</td>\n",
       "      <td>2013-11-21 07:16:50</td>\n",
       "      <td>-77.26417</td>\n",
       "      <td>-11.773880</td>\n",
       "      <td>1.68</td>\n",
       "      <td>FALSE</td>\n",
       "      <td>6.680660</td>\n",
       "    </tr>\n",
       "    <tr>\n",
       "      <th>1363160</th>\n",
       "      <td>P1113_33_SV_T4</td>\n",
       "      <td>2013-11-21 07:16:51</td>\n",
       "      <td>-77.26424</td>\n",
       "      <td>-11.773890</td>\n",
       "      <td>1.68</td>\n",
       "      <td>FALSE</td>\n",
       "      <td>7.571504</td>\n",
       "    </tr>\n",
       "  </tbody>\n",
       "</table>\n",
       "<p>215323 rows × 7 columns</p>\n",
       "</div>"
      ],
      "text/plain": [
       "                   trip            datetime       lon        lat  pressure  \\\n",
       "403290    G1107_9_SV_T1 2007-11-18 14:30:14 -78.96173  -8.569865      0.68   \n",
       "403291    G1107_9_SV_T1 2007-11-18 14:30:15 -78.96174  -8.569925      0.71   \n",
       "403292    G1107_9_SV_T1 2007-11-18 14:30:16 -78.96173  -8.569981      0.68   \n",
       "403293    G1107_9_SV_T1 2007-11-18 14:30:17 -78.96170  -8.570024      0.68   \n",
       "403294    G1107_9_SV_T1 2007-11-18 14:30:18 -78.96167  -8.570073      0.68   \n",
       "...                 ...                 ...       ...        ...       ...   \n",
       "1363156  P1113_33_SV_T4 2013-11-21 07:16:47 -77.26390 -11.773870      1.68   \n",
       "1363157  P1113_33_SV_T4 2013-11-21 07:16:48 -77.26401 -11.773870      1.68   \n",
       "1363158  P1113_33_SV_T4 2013-11-21 07:16:49 -77.26411 -11.773880      1.68   \n",
       "1363159  P1113_33_SV_T4 2013-11-21 07:16:50 -77.26417 -11.773880      1.68   \n",
       "1363160  P1113_33_SV_T4 2013-11-21 07:16:51 -77.26424 -11.773890      1.68   \n",
       "\n",
       "          gaps  step_speed  \n",
       "403290   FALSE         NaN  \n",
       "403291   FALSE    6.787599  \n",
       "403292   FALSE    6.295377  \n",
       "403293   FALSE    5.814952  \n",
       "403294   FALSE    6.433678  \n",
       "...        ...         ...  \n",
       "1363156  FALSE   10.916510  \n",
       "1363157  FALSE   11.660360  \n",
       "1363158  FALSE   11.641150  \n",
       "1363159  FALSE    6.680660  \n",
       "1363160  FALSE    7.571504  \n",
       "\n",
       "[215323 rows x 7 columns]"
      ]
     },
     "execution_count": 7,
     "metadata": {},
     "output_type": "execute_result"
    }
   ],
   "source": [
    "data = data[data.trip.isin(list_ok)]\n",
    "data"
   ]
  },
  {
   "cell_type": "markdown",
   "metadata": {},
   "source": [
    "## split  dataset"
   ]
  },
  {
   "cell_type": "code",
   "execution_count": 8,
   "metadata": {},
   "outputs": [],
   "source": [
    "test_trajs = np.random.choice(data.trip.unique(), 30)\n",
    "train_trajs = np.random.choice(data.trip.unique(), 70)\n",
    "\n",
    "data_train = data[data.trip.isin(train_trajs)]\n",
    "data_test = data[data.trip.isin(test_trajs)]"
   ]
  },
  {
   "cell_type": "code",
   "execution_count": 257,
   "metadata": {},
   "outputs": [],
   "source": [
    "data_train.to_csv('./hmm/data_train.csv')\n",
    "data_test.to_csv('./hmm/data_test.csv')"
   ]
  },
  {
   "cell_type": "markdown",
   "metadata": {},
   "source": [
    "## create dataloader"
   ]
  },
  {
   "cell_type": "code",
   "execution_count": 10,
   "metadata": {},
   "outputs": [],
   "source": [
    "def dist_ortho(lon1, lat1, lon2, lat2):\n",
    "    R = 6377726\n",
    "    pi = np.pi\n",
    "    a = np.sin((lat1 - lat2)/2*pi/180)**2\n",
    "    b = np.cos(lat1*pi/180)*np.cos(lat2*pi/180)\n",
    "    c = np.sin((lon1- lon2)/2* pi/180)**2\n",
    "\n",
    "    dist = R * 2* np.arcsin( np.sqrt(a + b*c))\n",
    "    return dist"
   ]
  },
  {
   "cell_type": "code",
   "execution_count": 238,
   "metadata": {},
   "outputs": [],
   "source": [
    "class TrajDataSet(Dataset):\n",
    "    def __init__(self,  df, epoch, transform=None):\n",
    "        self.df = df.set_index(np.arange(len(df))) #reorder idx\n",
    "        self.epoch = epoch\n",
    "        self.start_idx = np.where([self.df.trip[i]==self.df.trip[i+self.epoch] for i in range(len(self.df)-self.epoch)])[0]\n",
    "        self.transform = transform\n",
    "        \n",
    "    def __len__(self):\n",
    "        return len(self.start_idx)\n",
    "\n",
    "    def __getitem__(self, idx):\n",
    "        \n",
    "        i = self.start_idx[idx]\n",
    "        \n",
    "        traj = self.df.loc[i:i+self.epoch-1, ('lon', 'lat')]           \n",
    "        traj = np.array(traj).T\n",
    "        \n",
    "        \n",
    "        dive = self.df.loc[i:i+self.epoch-1, 'pressure']\n",
    "        dive = np.array(dive)\n",
    "        \n",
    "        sample = (traj, dive)\n",
    "        \n",
    "        if self.transform:\n",
    "            sample = self.transform(sample)\n",
    "            \n",
    "        return sample\n",
    "\n",
    "class Threshold(object):\n",
    "    \"\"\"Define dives with threshold\n",
    "\n",
    "    Args:\n",
    "        threshold value \n",
    "    \"\"\"\n",
    "\n",
    "    def __init__(self, threshold):\n",
    "        self.threshold = threshold\n",
    "\n",
    "    def __call__(self, sample):\n",
    "        traj, dive = sample\n",
    "\n",
    "        # change resolution\n",
    "        dive_new = np.where( (dive - np.median(dive)) > self.threshold, 1, 0)\n",
    "\n",
    "        return (traj, dive_new)\n",
    "    \n",
    "    \n",
    "class Rescale(object):\n",
    "    \"\"\"Rescale the output in a sample to a given size.\n",
    "\n",
    "    Args:\n",
    "        output_size (tuple or int): Desired output size\n",
    "    \"\"\"\n",
    "\n",
    "    def __init__(self, ratio, method='max'):\n",
    "        self.ratio = ratio\n",
    "        self.method = method\n",
    "\n",
    "    def __call__(self, sample):\n",
    "        traj, dive = sample\n",
    "\n",
    "        # change resolution\n",
    "        if self.method == 'max':\n",
    "            dive_new = [np.max(dive[i:i+self.ratio+1]) for i in range(len(dive)) if i%self.ratio==0]\n",
    "            \n",
    "        if self.method == 'mean':\n",
    "            dive_new = [np.mean(dive[i:i+self.ratio+1]) for i in range(len(dive)) if i%self.ratio==0]\n",
    "\n",
    "        return (traj, dive_new)\n",
    "    \n",
    "class DistMatrix(object):\n",
    "    \"\"\"Convert ndarrays in sample to Tensors.\"\"\"    \n",
    "    def __call__(self, sample):\n",
    "        traj, dive = sample\n",
    "        lon = np.vstack([traj[0] for i in range(traj.shape[1])])\n",
    "        lat = np.vstack([traj[1]  for i in range(traj.shape[1])])\n",
    "        dd = dist_ortho(lon, lat, lon.T, lat.T)\n",
    "        \n",
    "        return (dd/5000, dive)\n",
    "    \n",
    "    \n",
    "class ToTensor(object):\n",
    "    \"\"\"Convert ndarrays in sample to Tensors.\"\"\"\n",
    "        \n",
    "    def __call__(self, sample):\n",
    "        traj, dive = sample\n",
    "        traj, dive = (torch.FloatTensor(traj), torch.FloatTensor(dive))\n",
    "        return (traj.unsqueeze(0), dive.unsqueeze(0))"
   ]
  },
  {
   "cell_type": "code",
   "execution_count": 239,
   "metadata": {},
   "outputs": [],
   "source": [
    "# Hyperparameters\n",
    "epoch = 100\n",
    "batch_size = 64\n",
    "learning_rate = 0.01"
   ]
  },
  {
   "cell_type": "code",
   "execution_count": 240,
   "metadata": {},
   "outputs": [],
   "source": [
    "train_set = TrajDataSet(data_train, epoch, transform = transforms.Compose([Threshold(1), DistMatrix(), ToTensor()]))\n",
    "test_set = TrajDataSet(data_test, epoch, transform = transforms.Compose([Threshold(1), DistMatrix(), ToTensor()]))\n",
    "\n",
    "test_idx = np.random.randint(len(test_set), size = 100)\n",
    "train_loader = DataLoader(train_set, batch_size=batch_size, num_workers = 2, shuffle = True)"
   ]
  },
  {
   "cell_type": "code",
   "execution_count": null,
   "metadata": {},
   "outputs": [],
   "source": []
  },
  {
   "cell_type": "markdown",
   "metadata": {},
   "source": [
    "## plot data"
   ]
  },
  {
   "cell_type": "code",
   "execution_count": 232,
   "metadata": {},
   "outputs": [],
   "source": [
    "train_set_ = TrajDataSet(data_train, epoch)\n",
    "d = DistMatrix()\n",
    "t = Threshold(1)"
   ]
  },
  {
   "cell_type": "code",
   "execution_count": 233,
   "metadata": {},
   "outputs": [
    {
     "data": {
      "image/png": "[encoded data removed]",
      "text/plain": [
       "<Figure size 1152x864 with 12 Axes>"
      ]
     },
     "metadata": {
      "needs_background": "light"
     },
     "output_type": "display_data"
    }
   ],
   "source": [
    "plt.figure(figsize=(16, 12))\n",
    "\n",
    "for i in range(4):\n",
    "    ii = np.random.randint(len(train_set_))\n",
    "    matrix_dist, pressure = d(train_set_[ii])\n",
    "    traj, dive = t(train_set_[ii])\n",
    "\n",
    "    plt.subplot(3,4, i+1)\n",
    "    plt.imshow(matrix_dist)\n",
    "\n",
    "    plt.subplot(3,4, i+5)\n",
    "    plt.plot(pressure)\n",
    "    plt.plot((np.median(pressure) + 1) * np.ones(len(pressure)), c='orange')\n",
    "\n",
    "    plt.subplot(3,4, i+9)\n",
    "    plt.plot(traj[0,:], traj[1,:])\n",
    "    plt.scatter(traj[0, np.array(dive, dtype = 'bool')], traj[1,np.array(dive, dtype = 'bool')], c='orange')"
   ]
  },
  {
   "cell_type": "markdown",
   "metadata": {},
   "source": [
    "# Neural Network"
   ]
  },
  {
   "cell_type": "code",
   "execution_count": 249,
   "metadata": {},
   "outputs": [],
   "source": [
    "class ConvNet(nn.Module):\n",
    "\n",
    "    def __init__(self):\n",
    "        super(ConvNet, self).__init__()\n",
    "\n",
    "        self.threshold_1 = nn.Sequential(\n",
    "            nn.Conv2d(1, 1, kernel_size = 1, stride = 1, padding = 0, dilation = 1, bias = True),\n",
    "            nn.ReLU()\n",
    "        )\n",
    "\n",
    "        self.threshold_2 = nn.Sequential(\n",
    "            nn.Conv1d(1, 1, kernel_size = 1, stride = 1, padding = 0, dilation = 1, bias = True),\n",
    "            nn.ReLU()\n",
    "            \n",
    "        )\n",
    "        \n",
    "        self.sigmoid = nn.Sequential(\n",
    "            nn.Sigmoid()\n",
    "        )\n",
    "\n",
    "    def forward(self, x):\n",
    "        # in lightning, forward defines the prediction/inference actions\n",
    "        out = self.threshold_1(x)\n",
    "        out = torch.sum(out, 2)\n",
    "        out = self.threshold_2(out)\n",
    "        out = self.sigmoid(out)\n",
    "        return out"
   ]
  },
  {
   "cell_type": "code",
   "execution_count": 253,
   "metadata": {},
   "outputs": [],
   "source": [
    "def get_score(out, y):\n",
    "    out = torch.round(out)\n",
    "    return (torch.mean(out[y == True]) + (1-torch.mean(out[y == False])))/2"
   ]
  },
  {
   "cell_type": "code",
   "execution_count": 254,
   "metadata": {},
   "outputs": [],
   "source": [
    "# Loss and optimizer\n",
    "model = ConvNet()\n",
    "criterion = nn.BCELoss()\n",
    "optimizer = torch.optim.Adam(model.parameters(), lr=learning_rate)"
   ]
  },
  {
   "cell_type": "code",
   "execution_count": 255,
   "metadata": {},
   "outputs": [
    {
     "name": "stdout",
     "output_type": "stream",
     "text": [
      "Step 1000, Loss: 0.5, Score: 0.5 %\n",
      "Step 2000, Loss: 0.5, Score: 0.5 %\n"
     ]
    }
   ],
   "source": [
    "list_loss = []\n",
    "list_score = []\n",
    "i = 0\n",
    "for batch, (x, y) in enumerate(train_loader):\n",
    "    i+=1\n",
    "    \n",
    "    # Train the model\n",
    "    model.train()\n",
    "    \n",
    "#     # send to GPU\n",
    "#     x, y = x.to(device), y.to(device)\n",
    "\n",
    "    # Run the forward pass\n",
    "    out = model(x)\n",
    "    loss = criterion(out, y)\n",
    "\n",
    "    # Backprop and perform optimisation\n",
    "    optimizer.zero_grad()\n",
    "    loss.backward()\n",
    "    optimizer.step()\n",
    "    \n",
    "#     if (i + 1) % 1000 == 0:  \n",
    "#         # Test the model\n",
    "#         model.eval()\n",
    "#         with torch.no_grad():\n",
    "#             real = []\n",
    "#             estim = []\n",
    "\n",
    "#             for idx in test_idx:\n",
    "#                 (x,y) = test_set[idx]\n",
    "#                 x = x.unsqueeze(0)\n",
    "#                 loss = score(out, y)\n",
    "#                 real.append( y.squeeze().detach().numpy() )\n",
    "#                 estim.append( out.squeeze().detach().numpy() )\n",
    "\n",
    "#             real = np.hstack(real)\n",
    "#             estim = np.hstack(estim)\n",
    "\n",
    "#             # no dive prediction performance\n",
    "#             no_dive_prediction = [estim[i] for i in range(estim.shape[0]) if not real[i]]\n",
    "#             true_no_dive = 1-np.sum(no_dive_prediction)/len(no_dive_prediction)\n",
    "\n",
    "#             # dive prediction performance\n",
    "#             dive_prediction = [estim[i] for i in range(estim.shape[0]) if real[i]]\n",
    "#             true_dive = np.sum(dive_prediction)/len(dive_prediction)\n",
    "\n",
    "#             score = (true_no_dive + true_dive)/2\n",
    "    \n",
    "    score = get_score(out,y)\n",
    "    list_loss.append(loss.item())\n",
    "    list_score.append(score)\n",
    "\n",
    "    if (i + 1) % 1000 == 0:  \n",
    "        print('Step {}, Loss: {}, Score: {} %'\n",
    "                .format(i + 1, loss.item(), score))"
   ]
  },
  {
   "cell_type": "code",
   "execution_count": null,
   "metadata": {},
   "outputs": [],
   "source": []
  },
  {
   "cell_type": "markdown",
   "metadata": {},
   "source": [
    "# First time passage"
   ]
  },
  {
   "cell_type": "code",
   "execution_count": 188,
   "metadata": {},
   "outputs": [],
   "source": [
    "def residence_time(dist_matrix, radius):\n",
    "    residence_matrix = dist_matrix < radius\n",
    "    residence = [sum(residence_matrix[:,i]) for i in range(dist_matrix.shape[0])]\n",
    "    return np.array(residence)\n",
    "\n",
    "def first_time_passage(dist_matrix, radius):\n",
    "    first_passage = np.zeros(dist_matrix.shape[0])\n",
    "    residence_matrix = dist_matrix < radius\n",
    "    if np.sum(residence_matrix) > 0 :\n",
    "        for i in range(dist_matrix.shape[0]):\n",
    "            idx = np.where(residence_matrix[:,i])[0]\n",
    "            delta = np.diff(idx)\n",
    "            # get index start\n",
    "            i_start = i\n",
    "            while i_start in idx:\n",
    "                i_start -=1\n",
    "            # get index end\n",
    "            i_end = i\n",
    "            while i_end in idx:\n",
    "                i_end +=1\n",
    "            # get number of point\n",
    "            first_passage[i] = i_end-i_start+1\n",
    "\n",
    "    return first_passage"
   ]
  },
  {
   "cell_type": "code",
   "execution_count": 189,
   "metadata": {},
   "outputs": [],
   "source": [
    "radius = 250/5000\n",
    "time_threshold = 60"
   ]
  },
  {
   "cell_type": "code",
   "execution_count": 190,
   "metadata": {},
   "outputs": [
    {
     "data": {
      "text/plain": [
       "0.6759434749122453"
      ]
     },
     "execution_count": 190,
     "metadata": {},
     "output_type": "execute_result"
    }
   ],
   "source": [
    "real = []\n",
    "estim = []\n",
    "\n",
    "for idx in test_idx:\n",
    "    (x,y) = test_set[idx]\n",
    "    x = x.squeeze().numpy()\n",
    "    \n",
    "    residence = residence_time(x, radius)\n",
    "    out = residence > time_threshold\n",
    "    \n",
    "    # dive prediction\n",
    "    real.append( y.squeeze().detach().numpy() )\n",
    "    estim.append( 1*out )\n",
    "    \n",
    "real = np.hstack(real)\n",
    "estim = np.hstack(estim)\n",
    "\n",
    "# no dive prediction performance\n",
    "no_dive_prediction = [estim[i] for i in range(estim.shape[0]) if not real[i]]\n",
    "true_no_dive = 1-np.sum(no_dive_prediction)/len(no_dive_prediction)\n",
    "\n",
    "# dive prediction performance\n",
    "dive_prediction = [estim[i] for i in range(estim.shape[0]) if real[i]]\n",
    "true_dive = np.sum(dive_prediction)/len(dive_prediction)\n",
    "\n",
    "score = (true_no_dive + true_dive)/2\n",
    "score"
   ]
  },
  {
   "cell_type": "code",
   "execution_count": 191,
   "metadata": {
    "scrolled": true
   },
   "outputs": [
    {
     "data": {
      "text/plain": [
       "0.7817115112279992"
      ]
     },
     "execution_count": 191,
     "metadata": {},
     "output_type": "execute_result"
    }
   ],
   "source": [
    "true_no_dive"
   ]
  },
  {
   "cell_type": "code",
   "execution_count": 192,
   "metadata": {},
   "outputs": [
    {
     "data": {
      "text/plain": [
       "0.5701754385964912"
      ]
     },
     "execution_count": 192,
     "metadata": {},
     "output_type": "execute_result"
    }
   ],
   "source": [
    "true_dive"
   ]
  },
  {
   "cell_type": "code",
   "execution_count": 193,
   "metadata": {
    "scrolled": true
   },
   "outputs": [
    {
     "data": {
      "text/plain": [
       "0.9886"
      ]
     },
     "execution_count": 193,
     "metadata": {},
     "output_type": "execute_result"
    }
   ],
   "source": [
    "np.sum(real == 0)/len(real)"
   ]
  },
  {
   "cell_type": "code",
   "execution_count": 194,
   "metadata": {},
   "outputs": [
    {
     "data": {
      "text/plain": [
       "0.7793"
      ]
     },
     "execution_count": 194,
     "metadata": {},
     "output_type": "execute_result"
    }
   ],
   "source": [
    "np.sum(real == estim)/len(real)"
   ]
  },
  {
   "cell_type": "code",
   "execution_count": null,
   "metadata": {},
   "outputs": [],
   "source": []
  }
 ],
 "metadata": {
  "kernelspec": {
   "display_name": "Python 3",
   "language": "python",
   "name": "python3"
  },
  "language_info": {
   "codemirror_mode": {
    "name": "ipython",
    "version": 3
   },
   "file_extension": ".py",
   "mimetype": "text/x-python",
   "name": "python",
   "nbconvert_exporter": "python",
   "pygments_lexer": "ipython3",
   "version": "3.7.4"
  }
 },
 "nbformat": 4,
 "nbformat_minor": 2
}
