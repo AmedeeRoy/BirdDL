{
  "nbformat": 4,
  "nbformat_minor": 0,
  "metadata": {
    "colab": {
      "name": "Dive_Prediction_MatrixDistance.ipynb",
      "provenance": [],
      "include_colab_link": true
    },
    "kernelspec": {
      "display_name": "Python 3",
      "language": "python",
      "name": "python3"
    },
    "language_info": {
      "codemirror_mode": {
        "name": "ipython",
        "version": 3
      },
      "file_extension": ".py",
      "mimetype": "text/x-python",
      "name": "python",
      "nbconvert_exporter": "python",
      "pygments_lexer": "ipython3",
      "version": "3.7.4"
    },
    "accelerator": "GPU"
  },
  "cells": [
    {
      "cell_type": "markdown",
      "metadata": {
        "id": "view-in-github",
        "colab_type": "text"
      },
      "source": [
        "<a href=\"https://colab.research.google.com/github/AmedeeRoy/BirdDL/blob/main/Dive_Prediction_MatrixDistance.ipynb\" target=\"_parent\"><img src=\"https://colab.research.google.com/assets/colab-badge.svg\" alt=\"Open In Colab\"/></a>"
      ]
    },
    {
      "cell_type": "markdown",
      "metadata": {
        "id": "Y86T_MLN-jP4"
      },
      "source": [
        "# Predicting Seabird Diving Behaviour with GPS data\n",
        "\n",
        "Supervized Learning on Distance Matrix"
      ]
    },
    {
      "cell_type": "code",
      "metadata": {
        "id": "5P31diSc-hBR",
        "outputId": "dcdf7843-ef07-4696-fac7-a4f33f722619",
        "colab": {
          "base_uri": "https://localhost:8080/"
        }
      },
      "source": [
        "# mount google drive\n",
        "from google.colab import drive\n",
        "drive.mount(\"/content/drive/\")"
      ],
      "execution_count": 1,
      "outputs": [
        {
          "output_type": "stream",
          "text": [
            "Mounted at /content/drive/\n"
          ],
          "name": "stdout"
        }
      ]
    },
    {
      "cell_type": "code",
      "metadata": {
        "id": "3ehOcvjW-sBc",
        "outputId": "493e9944-9071-4d20-d347-76f749350738",
        "colab": {
          "base_uri": "https://localhost:8080/"
        }
      },
      "source": [
        "%cd drive/My\\ Drive/BirdDL"
      ],
      "execution_count": 2,
      "outputs": [
        {
          "output_type": "stream",
          "text": [
            "/content/drive/My Drive/BirdDL\n"
          ],
          "name": "stdout"
        }
      ]
    },
    {
      "cell_type": "code",
      "metadata": {
        "id": "5X8ds745-tzF"
      },
      "source": [
        "import sqlite3\n",
        "import pandas as pd\n",
        "import numpy as np\n",
        "import matplotlib.pyplot as plt\n",
        "import IPython\n",
        "import datetime\n",
        "import random\n",
        "import pickle\n",
        "import trip"
      ],
      "execution_count": 3,
      "outputs": []
    },
    {
      "cell_type": "code",
      "metadata": {
        "id": "ufO-Pr--MfGV"
      },
      "source": [
        "# connect to database\n",
        "conn = sqlite3.connect('/content/drive/My Drive/data/seabirdbank.db')\n",
        "# conn = sqlite3.connect('/home/amdroy/MEGA/DATA/seabirdbank.db')"
      ],
      "execution_count": 4,
      "outputs": []
    },
    {
      "cell_type": "code",
      "metadata": {
        "id": "0nAPAZ5N-xfJ",
        "outputId": "aad9c6b1-5c90-4f36-b532-5eac617a3eb5",
        "colab": {
          "base_uri": "https://localhost:8080/",
          "height": 424
        }
      },
      "source": [
        "request = \"SELECT \\\n",
        "            trip.id as trip, gps.datetime, gps.lon, gps.lat\\\n",
        "            FROM gps \\\n",
        "            INNER JOIN trip ON gps.trip = trip.id \\\n",
        "            INNER JOIN bird ON trip.bird = bird.id \\\n",
        "            WHERE trip.file_gps IS NOT NULL \\\n",
        "            AND trip.file_tdr IS NOT NULL \\\n",
        "            AND (bird.fieldwork = 'P1108' OR bird.fieldwork = 'P1111' \\\n",
        "                OR bird.fieldwork = 'P1112' OR bird.fieldwork = 'P1113') \\\n",
        "            AND bird.species = 'SV'\"\n",
        "\n",
        "# substr(bird.fieldwork,1,1) = 'P'\n",
        "\n",
        "gps = pd.read_sql_query(request, conn)\n",
        "\n",
        "# check duplicated datetime in GPS trip\n",
        "idx = gps.index[gps.loc[:, 'trip':'datetime'].duplicated(keep=False)]\n",
        "idx_drop = [idx[i] for i in range(0, len(idx), 2)]\n",
        "gps = gps.drop(idx_drop)\n",
        "\n",
        "\n",
        "request = \"SELECT \\\n",
        "            trip.id as trip, tdr.datetime, tdr.pressure \\\n",
        "            FROM tdr \\\n",
        "            INNER JOIN trip ON tdr.trip = trip.id \\\n",
        "            INNER JOIN bird ON trip.bird = bird.id \\\n",
        "            WHERE trip.file_gps IS NOT NULL \\\n",
        "            AND trip.file_tdr IS NOT NULL \\\n",
        "            AND (bird.fieldwork = 'P1108' OR bird.fieldwork = 'P1111' \\\n",
        "                OR bird.fieldwork = 'P1112' OR bird.fieldwork = 'P1113') \\\n",
        "            AND bird.species = 'SV'\"\n",
        "\n",
        "# WHERE substr(bird.fieldwork,1,1) = 'P' \n",
        "\n",
        "tdr = pd.read_sql_query(request, conn)\n",
        "tdr['datetime'] = pd.to_datetime(tdr['datetime'], format='%Y-%m-%d %H:%M:%S')\n",
        "gps['datetime'] = pd.to_datetime(gps['datetime'], format='%Y-%m-%d %H:%M:%S')\n",
        "\n",
        "df = pd.merge(tdr, gps, on=['trip', 'datetime'], how='left')\n",
        "\n",
        "# check NaN and fill with interpolations\n",
        "[i for i, x in enumerate(df['lon'].isna()) if x]\n",
        "\n",
        "\n",
        "df['lon'] = df['lon'].interpolate(method='polynomial', order=2)\n",
        "df['lat'] = df['lat'].interpolate(method='polynomial', order=2)\n",
        "\n",
        "\n",
        "bad_trip = ['P1111_9_SV_T1', 'P1111_13_SV_T6', 'P1111_41_SV_T2', 'P1111_46_SV_T5', 'P1111_52_SV_T1',\n",
        "            'P1112_4_SV_T2', 'P1112_26_SV_T5', 'P1112_36_SV_T1', 'P1112_36_SV_T2', 'P1113_41_SV_T3',\n",
        "           'P1113_50_SV_T2']\n",
        "\n",
        "no_loop = ['P1112_26_SV_T1', 'P1112_26_SV_T2', 'P1112_26_SV_T3', 'P1112_26_SV_T4']\n",
        "\n",
        "\n",
        "### remove bad data\n",
        "idx = df.index[[(t in bad_trip or t in no_loop) for t in df.trip]]\n",
        "df = df.drop(idx)\n",
        "\n",
        "df"
      ],
      "execution_count": 5,
      "outputs": [
        {
          "output_type": "execute_result",
          "data": {
            "text/html": [
              "<div>\n",
              "<style scoped>\n",
              "    .dataframe tbody tr th:only-of-type {\n",
              "        vertical-align: middle;\n",
              "    }\n",
              "\n",
              "    .dataframe tbody tr th {\n",
              "        vertical-align: top;\n",
              "    }\n",
              "\n",
              "    .dataframe thead th {\n",
              "        text-align: right;\n",
              "    }\n",
              "</style>\n",
              "<table border=\"1\" class=\"dataframe\">\n",
              "  <thead>\n",
              "    <tr style=\"text-align: right;\">\n",
              "      <th></th>\n",
              "      <th>trip</th>\n",
              "      <th>datetime</th>\n",
              "      <th>pressure</th>\n",
              "      <th>lon</th>\n",
              "      <th>lat</th>\n",
              "    </tr>\n",
              "  </thead>\n",
              "  <tbody>\n",
              "    <tr>\n",
              "      <th>0</th>\n",
              "      <td>P1108_4_SV_T1</td>\n",
              "      <td>2008-11-25 13:00:35</td>\n",
              "      <td>-0.35</td>\n",
              "      <td>-77.264128</td>\n",
              "      <td>-11.773317</td>\n",
              "    </tr>\n",
              "    <tr>\n",
              "      <th>1</th>\n",
              "      <td>P1108_4_SV_T1</td>\n",
              "      <td>2008-11-25 13:00:36</td>\n",
              "      <td>-0.38</td>\n",
              "      <td>-77.264118</td>\n",
              "      <td>-11.773235</td>\n",
              "    </tr>\n",
              "    <tr>\n",
              "      <th>2</th>\n",
              "      <td>P1108_4_SV_T1</td>\n",
              "      <td>2008-11-25 13:00:37</td>\n",
              "      <td>-0.35</td>\n",
              "      <td>-77.264098</td>\n",
              "      <td>-11.773152</td>\n",
              "    </tr>\n",
              "    <tr>\n",
              "      <th>3</th>\n",
              "      <td>P1108_4_SV_T1</td>\n",
              "      <td>2008-11-25 13:00:38</td>\n",
              "      <td>-0.29</td>\n",
              "      <td>-77.264113</td>\n",
              "      <td>-11.773060</td>\n",
              "    </tr>\n",
              "    <tr>\n",
              "      <th>4</th>\n",
              "      <td>P1108_4_SV_T1</td>\n",
              "      <td>2008-11-25 13:00:39</td>\n",
              "      <td>-0.29</td>\n",
              "      <td>-77.264142</td>\n",
              "      <td>-11.772955</td>\n",
              "    </tr>\n",
              "    <tr>\n",
              "      <th>...</th>\n",
              "      <td>...</td>\n",
              "      <td>...</td>\n",
              "      <td>...</td>\n",
              "      <td>...</td>\n",
              "      <td>...</td>\n",
              "    </tr>\n",
              "    <tr>\n",
              "      <th>1035988</th>\n",
              "      <td>P1113_50_SV_T1</td>\n",
              "      <td>2013-11-24 13:09:17</td>\n",
              "      <td>-1.01</td>\n",
              "      <td>-77.264229</td>\n",
              "      <td>-11.773601</td>\n",
              "    </tr>\n",
              "    <tr>\n",
              "      <th>1035989</th>\n",
              "      <td>P1113_50_SV_T1</td>\n",
              "      <td>2013-11-24 13:09:18</td>\n",
              "      <td>-1.07</td>\n",
              "      <td>-77.264221</td>\n",
              "      <td>-11.773701</td>\n",
              "    </tr>\n",
              "    <tr>\n",
              "      <th>1035990</th>\n",
              "      <td>P1113_50_SV_T1</td>\n",
              "      <td>2013-11-24 13:09:19</td>\n",
              "      <td>-1.07</td>\n",
              "      <td>-77.264191</td>\n",
              "      <td>-11.773771</td>\n",
              "    </tr>\n",
              "    <tr>\n",
              "      <th>1035991</th>\n",
              "      <td>P1113_50_SV_T1</td>\n",
              "      <td>2013-11-24 13:09:20</td>\n",
              "      <td>-1.01</td>\n",
              "      <td>-77.264168</td>\n",
              "      <td>-11.773826</td>\n",
              "    </tr>\n",
              "    <tr>\n",
              "      <th>1035992</th>\n",
              "      <td>P1113_50_SV_T1</td>\n",
              "      <td>2013-11-24 13:09:21</td>\n",
              "      <td>-1.01</td>\n",
              "      <td>-77.264160</td>\n",
              "      <td>-11.773853</td>\n",
              "    </tr>\n",
              "  </tbody>\n",
              "</table>\n",
              "<p>862921 rows × 5 columns</p>\n",
              "</div>"
            ],
            "text/plain": [
              "                   trip            datetime  pressure        lon        lat\n",
              "0         P1108_4_SV_T1 2008-11-25 13:00:35     -0.35 -77.264128 -11.773317\n",
              "1         P1108_4_SV_T1 2008-11-25 13:00:36     -0.38 -77.264118 -11.773235\n",
              "2         P1108_4_SV_T1 2008-11-25 13:00:37     -0.35 -77.264098 -11.773152\n",
              "3         P1108_4_SV_T1 2008-11-25 13:00:38     -0.29 -77.264113 -11.773060\n",
              "4         P1108_4_SV_T1 2008-11-25 13:00:39     -0.29 -77.264142 -11.772955\n",
              "...                 ...                 ...       ...        ...        ...\n",
              "1035988  P1113_50_SV_T1 2013-11-24 13:09:17     -1.01 -77.264229 -11.773601\n",
              "1035989  P1113_50_SV_T1 2013-11-24 13:09:18     -1.07 -77.264221 -11.773701\n",
              "1035990  P1113_50_SV_T1 2013-11-24 13:09:19     -1.07 -77.264191 -11.773771\n",
              "1035991  P1113_50_SV_T1 2013-11-24 13:09:20     -1.01 -77.264168 -11.773826\n",
              "1035992  P1113_50_SV_T1 2013-11-24 13:09:21     -1.01 -77.264160 -11.773853\n",
              "\n",
              "[862921 rows x 5 columns]"
            ]
          },
          "metadata": {
            "tags": []
          },
          "execution_count": 5
        }
      ]
    },
    {
      "cell_type": "code",
      "metadata": {
        "id": "EcofUkQt_z_p",
        "outputId": "24db12f4-1b48-48f8-ea3c-fa4f3cf7b1a1",
        "colab": {
          "base_uri": "https://localhost:8080/"
        }
      },
      "source": [
        "%%time\n",
        "trajs = []\n",
        "threshold = 1\n",
        "radius = 500\n",
        "n = 1\n",
        "for k in df.trip.unique():\n",
        "    df_trip = df[df.trip == k]\n",
        "    \n",
        "    t = trip.Trip(df_trip)\n",
        "    t.add_dive(threshold)\n",
        "\n",
        "    trajs.append(t.df)\n",
        "    \n",
        "    IPython.display.clear_output(wait=True)\n",
        "    print('Trip [{}/{}]'.format(n, len(df.trip.unique())))\n",
        "    n+=1"
      ],
      "execution_count": 6,
      "outputs": [
        {
          "output_type": "stream",
          "text": [
            "Trip [170/170]\n",
            "CPU times: user 17.7 s, sys: 233 ms, total: 18 s\n",
            "Wall time: 18 s\n"
          ],
          "name": "stdout"
        }
      ]
    },
    {
      "cell_type": "code",
      "metadata": {
        "id": "vFgTRb5z_GGz"
      },
      "source": [
        "test_trajs_idx = np.random.randint(0, len(df.trip.unique()), 30)\n",
        "\n",
        "test_trajs = [trajs[i] for i in test_trajs_idx]\n",
        "train_trajs = [trajs[i] for i in range(len(df.trip.unique())) if i not in test_trajs_idx]"
      ],
      "execution_count": 7,
      "outputs": []
    },
    {
      "cell_type": "markdown",
      "metadata": {
        "id": "srd3gla_Blt1"
      },
      "source": [
        "## Neural Network"
      ]
    },
    {
      "cell_type": "code",
      "metadata": {
        "id": "_AezMYgzBjg_"
      },
      "source": [
        "# pytorch materials\n",
        "import torch\n",
        "from torch import nn\n",
        "from torch import optim\n",
        "import torchvision as tv\n",
        "from torchvision.datasets import ImageFolder\n",
        "from torch.utils.data import DataLoader"
      ],
      "execution_count": 8,
      "outputs": []
    },
    {
      "cell_type": "code",
      "metadata": {
        "id": "GWcclRgv_Mbz"
      },
      "source": [
        "class Sampler:\n",
        "    def __init__(self, trajs, epoch, batch_size):\n",
        "        # raw trajectories\n",
        "        self.trajs = trajs\n",
        "        self.n = len(trajs)\n",
        "\n",
        "        # sample input specificities\n",
        "        self.epoch = epoch\n",
        "        self.batch_size = batch_size\n",
        "    \n",
        "    def dist_ortho(self, lon1, lat1, lon2, lat2):\n",
        "        R = 6377726\n",
        "        pi = np.pi\n",
        "        a = np.sin((lat1 - lat2)/2*pi/180)**2\n",
        "        b = np.cos(lat1*pi/180)*np.cos(lat2*pi/180)\n",
        "        c = np.sin((lon1- lon2)/2* pi/180)**2\n",
        "\n",
        "        dist = R * 2* np.arcsin( np.sqrt(a + b*c))\n",
        "        return dist\n",
        "\n",
        "    def sample_one(self):\n",
        "        # look for a long trip\n",
        "        dt = []\n",
        "        while len(dt) < epoch:\n",
        "            traj_idx = np.random.randint(self.n)\n",
        "            dt = self.trajs[traj_idx]\n",
        "\n",
        "        # select part of this trip\n",
        "        epoch_idx = np.random.randint(2, len(dt)-epoch)\n",
        "\n",
        "        input_trajs = dt.loc[epoch_idx:epoch_idx+epoch-1, ('lon', 'lat')]\n",
        "        output_trajs = dt.loc[epoch_idx:epoch_idx+epoch-1, 'dive']\n",
        "\n",
        "        lon = np.vstack([input_trajs.lon.values for i in range(len(input_trajs))])\n",
        "        lat = np.vstack([input_trajs.lat.values for i in range(len(input_trajs))])\n",
        "        dist_matrix = self.dist_ortho(lon, lat, lon.T, lat.T)\n",
        "\n",
        "        # change resolution\n",
        "        output = [np.max(output_trajs[i:i+11]) for i in range(len(output_trajs)) if i%10==0]\n",
        "        # output = output_trajs\n",
        "\n",
        "        return (dist_matrix, np.array(output), np.array(input_trajs))\n",
        "\n",
        "\n",
        "    def sample(self):\n",
        "        input_batch = []\n",
        "        output_batch = []\n",
        "        for i in range(self.batch_size):\n",
        "\n",
        "            (x,y,z) = self.sample_one()\n",
        "\n",
        "            # add it to batch\n",
        "            input_batch.append(x)\n",
        "            output_batch.append(y)\n",
        "\n",
        "        # convert to tensor\n",
        "        input_batch = torch.FloatTensor(input_batch)\n",
        "        output_batch = torch.FloatTensor(output_batch)\n",
        "\n",
        "        return (input_batch.reshape((self.batch_size,1,self.epoch,self.epoch)), output_batch.reshape((self.batch_size,1,1,60)))"
      ],
      "execution_count": 31,
      "outputs": []
    },
    {
      "cell_type": "code",
      "metadata": {
        "id": "EVADyil5_DZB",
        "outputId": "41771fe2-54bb-458e-9b5f-eaab5a372c99",
        "colab": {
          "base_uri": "https://localhost:8080/",
          "height": 485
        }
      },
      "source": [
        "# Hyperparameters\n",
        "epoch = 600\n",
        "batch_size = 2\n",
        "learning_rate = 0.01\n",
        "\n",
        "train = Sampler(train_trajs, epoch, batch_size)\n",
        "test = Sampler(test_trajs, epoch, batch_size)\n",
        "\n",
        "plt.figure(figsize=(16, 8))\n",
        "\n",
        "for i in range(batch_size):\n",
        "    (x, y, z) = train.sample_one()\n",
        "\n",
        "    yy = [y[i] for i in range(len(y)) for k in range(10) ]\n",
        "    # yy = y\n",
        "\n",
        "    plt.subplot(2, 4, 1+i)\n",
        "    plt.imshow(x)\n",
        "\n",
        "    plt.subplot(2, 4, 5+i)\n",
        "    plt.plot(z[:,0], z[:,1])\n",
        "    plt.scatter(z[np.where(yy),0], z[np.where(yy),1], c='orange')"
      ],
      "execution_count": 32,
      "outputs": [
        {
          "output_type": "display_data",
          "data": {
            "image/png": "[encoded data removed]",
            "text/plain": [
              "<Figure size 1152x576 with 4 Axes>"
            ]
          },
          "metadata": {
            "tags": [],
            "needs_background": "light"
          }
        }
      ]
    },
    {
      "cell_type": "code",
      "metadata": {
        "id": "ZkqueEum_GNR"
      },
      "source": [
        "# def pairwise_distances(x, y=None):\n",
        "#     '''\n",
        "#     Input: x is a Nxd matrix\n",
        "#            y is an optional Mxd matirx\n",
        "#     Output: dist is a NxM matrix where dist[i,j] is the square norm between x[i,:] and y[j,:]\n",
        "#             if y is not given then use 'y=x'.\n",
        "#     i.e. dist[i,j] = ||x[i,:]-y[j,:]||^2\n",
        "#     '''\n",
        "#     x_norm = (x**2).sum(1).view(-1, 1)\n",
        "#     if y is not None:\n",
        "#         y_t = torch.transpose(y, 0, 1)\n",
        "#         y_norm = (y**2).sum(1).view(1, -1)\n",
        "#     else:\n",
        "#         y_t = torch.transpose(x, 0, 1)\n",
        "#         y_norm = x_norm.view(1, -1)\n",
        "    \n",
        "#     dist = x_norm + y_norm - 2.0 * torch.mm(x, y_t)\n",
        "#     # Ensure diagonal is zero if x=y\n",
        "#     # if y is None:\n",
        "#     #     dist = dist - torch.diag(dist.diag)\n",
        "#     return torch.clamp(dist, 0.0, np.inf)"
      ],
      "execution_count": 33,
      "outputs": []
    },
    {
      "cell_type": "code",
      "metadata": {
        "id": "aNcbXJklHekj"
      },
      "source": [
        "class ConvNet(nn.Module):\n",
        "    def __init__(self):\n",
        "        super(ConvNet, self).__init__()\n",
        "        \n",
        "        \n",
        "        ## reduce dimension -------------------------------------------\n",
        "        self.im_cnn_1 = nn.Sequential(\n",
        "            nn.Conv2d(1, 1, kernel_size = 11, stride = 1, padding = 5, dilation = 1),\n",
        "            nn.ReLU(),\n",
        "            nn.Conv2d(1, 1, kernel_size = 11, stride = 1, padding = 5, dilation = 1),\n",
        "            nn.ReLU()\n",
        "        )\n",
        "\n",
        "        self.im_pooling_1 = nn.Sequential(\n",
        "            nn.MaxPool2d(kernel_size = 50, stride = 2, padding = 24, dilation = 1),\n",
        "            nn.BatchNorm2d(1)\n",
        "        )\n",
        "\n",
        "        self.im_cnn_2 = nn.Sequential(\n",
        "            nn.Conv2d(1, 1, kernel_size = 11, stride = 1, padding = 5, dilation = 1),\n",
        "            nn.ReLU(),\n",
        "            nn.Conv2d(1, 1, kernel_size = 11, stride = 1, padding = 5, dilation = 1),\n",
        "            nn.ReLU()\n",
        "        )\n",
        "\n",
        "        self.im_pooling_2 = nn.Sequential(\n",
        "            nn.MaxPool2d(kernel_size = 15, stride = 2, padding = 7, dilation = 1),\n",
        "            nn.BatchNorm2d(1)\n",
        "        )\n",
        "\n",
        "        self.im_cnn_3 = nn.Sequential(\n",
        "            nn.Conv2d(1, 1, kernel_size = 11, stride = 1, padding = 5, dilation = 1),\n",
        "            nn.ReLU(),\n",
        "            nn.Conv2d(1, 1, kernel_size = 11, stride = 1, padding = 5, dilation = 1),\n",
        "            nn.ReLU()\n",
        "        )\n",
        "\n",
        "        self.im_pooling_3 = nn.Sequential(\n",
        "            nn.MaxPool2d(kernel_size = 11, stride = 2, padding = 5, dilation = 4),\n",
        "            nn.BatchNorm2d(1)\n",
        "        )\n",
        "       \n",
        "        ## image to timeseries -------------------------------------------------\n",
        "        self.sigmoid = nn.Sequential(\n",
        "            nn.Sigmoid()\n",
        "        ) \n",
        "                \n",
        "    def forward(self, x):\n",
        "        # CNN\n",
        "        out = self.im_cnn_1(x)\n",
        "        out = self.im_pooling_1(out)\n",
        "        out = self.im_cnn_2(out)\n",
        "        out = self.im_pooling_2(out)\n",
        "        out = self.im_cnn_3(out)\n",
        "        out = self.im_pooling_3(out)\n",
        "\n",
        "        # Image to time-series\n",
        "        out = torch.sum(out, dim = 2)\n",
        "        out = self.sigmoid(out)\n",
        "\n",
        "        out = out.reshape((batch_size, 1, 1, 60))\n",
        "\n",
        "        return out\n"
      ],
      "execution_count": 51,
      "outputs": []
    },
    {
      "cell_type": "code",
      "metadata": {
        "id": "GyuZVFk7exZC"
      },
      "source": [
        "# class ConvNet(nn.Module):\n",
        "#     def __init__(self):\n",
        "#         super(ConvNet, self).__init__()\n",
        "        \n",
        "#         ## convolution -------------------------------------------\n",
        "#         self.cnn_1 = nn.Sequential(\n",
        "#             nn.Conv2d(1, 1, kernel_size = 21, stride = 1, padding = 10, dilation = 1),\n",
        "#             nn.ReLU(),\n",
        "#             nn.Conv2d(1, 1, kernel_size = 21, stride = 1, padding = 10, dilation = 1),\n",
        "#             nn.ReLU()\n",
        "#         )\n",
        "\n",
        "#         self.cnn_2 = nn.Sequential(\n",
        "#             nn.Conv2d(1, 1, kernel_size = 11, stride = 1, padding = 5, dilation = 1),\n",
        "#             nn.ReLU(),\n",
        "#             nn.Conv2d(1, 1, kernel_size = 11, stride = 1, padding = 5, dilation = 1),\n",
        "#             nn.ReLU()\n",
        "#         )\n",
        "\n",
        "#         self.cnn_3 = nn.Sequential(\n",
        "#             nn.Conv2d(1, 1, kernel_size = 5, stride = 1, padding = 2, dilation = 1),\n",
        "#             nn.ReLU(),\n",
        "#             nn.Conv2d(1, 1, kernel_size = 5, stride = 1, padding = 2, dilation = 1),\n",
        "#             nn.ReLU()\n",
        "#         )\n",
        "      \n",
        "\n",
        "#         self.sigmoid = nn.Sequential(\n",
        "#             nn.ReLU(),\n",
        "#             nn.Sigmoid()\n",
        "#         ) \n",
        "                \n",
        "#     def forward(self, x):\n",
        "#         out = self.cnn_1(x)\n",
        "#         out = self.cnn_2(out)\n",
        "#         out = self.cnn_3(out)\n",
        "#         out = torch.sum(out, dim = 2)\n",
        "#         out = self.sigmoid()\n",
        "#         out = out.reshape((batch_size, 1, 1, epoch))\n",
        "\n",
        "#         return out\n"
      ],
      "execution_count": 35,
      "outputs": []
    },
    {
      "cell_type": "code",
      "metadata": {
        "id": "qFKFLj71K4J2",
        "outputId": "baad0055-a4d4-4e39-c9e3-2a84dafcacd9",
        "colab": {
          "base_uri": "https://localhost:8080/"
        }
      },
      "source": [
        "x,y = train.sample()\n",
        "x.size()"
      ],
      "execution_count": 46,
      "outputs": [
        {
          "output_type": "execute_result",
          "data": {
            "text/plain": [
              "torch.Size([2, 1, 600, 600])"
            ]
          },
          "metadata": {
            "tags": []
          },
          "execution_count": 46
        }
      ]
    },
    {
      "cell_type": "code",
      "metadata": {
        "id": "4gHmoLZ8LCy-",
        "outputId": "33cce97f-9871-4cea-c2f5-158018b64dfc",
        "colab": {
          "base_uri": "https://localhost:8080/"
        }
      },
      "source": [
        "model = ConvNet()\n",
        "out = model(x)\n",
        "out.size()"
      ],
      "execution_count": 52,
      "outputs": [
        {
          "output_type": "execute_result",
          "data": {
            "text/plain": [
              "torch.Size([2, 1, 1, 60])"
            ]
          },
          "metadata": {
            "tags": []
          },
          "execution_count": 52
        }
      ]
    },
    {
      "cell_type": "code",
      "metadata": {
        "id": "2B2BR1KkMfIi"
      },
      "source": [
        "# Loss and optimizer\n",
        "criterion = nn.BCELoss()\n",
        "optimizer = torch.optim.SGD(model.parameters(), lr=learning_rate)"
      ],
      "execution_count": 53,
      "outputs": []
    },
    {
      "cell_type": "code",
      "metadata": {
        "id": "asEbYV2xMfIn",
        "outputId": "7b98119d-fcc3-4931-c6c8-680d81eb0499",
        "colab": {
          "base_uri": "https://localhost:8080/"
        }
      },
      "source": [
        "criterion(out, y)"
      ],
      "execution_count": 54,
      "outputs": [
        {
          "output_type": "execute_result",
          "data": {
            "text/plain": [
              "tensor(13.3632, grad_fn=<BinaryCrossEntropyBackward>)"
            ]
          },
          "metadata": {
            "tags": []
          },
          "execution_count": 54
        }
      ]
    },
    {
      "cell_type": "code",
      "metadata": {
        "scrolled": true,
        "id": "1FVQuLyXMfHq",
        "outputId": "5e368ac3-0d60-4367-e120-349e2fd5a3e9",
        "colab": {
          "base_uri": "https://localhost:8080/"
        }
      },
      "source": [
        "### DATALOADER\n",
        "nb_test = 1000\n",
        "\n",
        "dataset_test = []\n",
        "for i in range(nb_test):\n",
        "    (x, y, z) = test.sample_one()\n",
        "    dataset_test.append((x,y))\n",
        "    if i%100 == 0:\n",
        "      print('[{}/{}]'.format(i, nb_test))\n",
        "\n",
        "\n",
        "test_loader = DataLoader(dataset_test, batch_size=batch_size, drop_last=True)"
      ],
      "execution_count": 67,
      "outputs": [
        {
          "output_type": "stream",
          "text": [
            "[0/1000]\n",
            "[100/1000]\n",
            "[200/1000]\n",
            "[300/1000]\n",
            "[400/1000]\n",
            "[500/1000]\n",
            "[600/1000]\n",
            "[700/1000]\n",
            "[800/1000]\n",
            "[900/1000]\n"
          ],
          "name": "stdout"
        }
      ]
    },
    {
      "cell_type": "code",
      "metadata": {
        "id": "g1oJkPVYlbTI"
      },
      "source": [
        "# ### DATALOADER\n",
        "nb_train = 50000\n",
        "\n",
        "# dataset_train = []\n",
        "# for i in range(nb_train):\n",
        "#     (x, y, z) = train.sample_one()\n",
        "#     dataset_train.append((x,y))\n",
        "#     if i%1000 == 0:\n",
        "#       print('[{}/{}]'.format(i, nb_train))\n",
        "\n",
        "\n",
        "# train_loader = DataLoader(dataset_train, batch_size=batch_size, drop_last=True)"
      ],
      "execution_count": 68,
      "outputs": []
    },
    {
      "cell_type": "code",
      "metadata": {
        "id": "sFDKtFTwMfIs"
      },
      "source": [
        "# switch to GPU\n",
        "device = torch.device('cuda' if torch.cuda.is_available() else 'cpu')"
      ],
      "execution_count": 69,
      "outputs": []
    },
    {
      "cell_type": "code",
      "metadata": {
        "id": "DSVEWapPJPzl"
      },
      "source": [
        "list_score =[]\n",
        "list_loss = []\n",
        "\n",
        "model = ConvNet()\n",
        "model = model.to(device)"
      ],
      "execution_count": 70,
      "outputs": []
    },
    {
      "cell_type": "code",
      "metadata": {
        "id": "haFHWiwDTP1p",
        "outputId": "28adef9d-f42d-4221-9f7b-2449e3341a0a",
        "colab": {
          "base_uri": "https://localhost:8080/"
        }
      },
      "source": [
        "i = 0\n",
        "for k in range(nb_train):\n",
        "    i+=1\n",
        "    \n",
        "    # Train the model\n",
        "    model.train()\n",
        "    x, y = train.sample()\n",
        "    # x = x.reshape((batch_size,1,epoch,epoch)).float()\n",
        "    # y = y.reshape((batch_size,1,1,epoch)).float()\n",
        "\n",
        "    # send to GPU\n",
        "    x, y = x.to(device), y.to(device)\n",
        "\n",
        "    # Run the forward pass\n",
        "    out = model(x)\n",
        "    loss = criterion(out, y)\n",
        "\n",
        "    # Backprop and perform optimisation\n",
        "    optimizer.zero_grad()\n",
        "    loss.backward()\n",
        "    optimizer.step()\n",
        "    \n",
        "\n",
        "    if (i + 1) % 1000 == 0:  \n",
        "        # Test the model\n",
        "        model.eval()\n",
        "        with torch.no_grad():\n",
        "            real = []\n",
        "            estim = []\n",
        "            for batch, (x, y) in enumerate(test_loader):\n",
        "\n",
        "                x = x.reshape((batch_size,1,epoch,epoch)).float()\n",
        "                y = y.reshape((batch_size,1,1,60)).float()\n",
        "                \n",
        "                # send to GPU\n",
        "                x, y = x.to(device), y.to(device)\n",
        "                out = model(x)\n",
        "                \n",
        "                # dive prediction\n",
        "                real.append( y.cpu().reshape(batch_size*60).detach().numpy() )\n",
        "                estim.append( out.cpu().reshape(batch_size*60).detach().numpy() )\n",
        "\n",
        "            real = np.hstack(real)\n",
        "            estim = np.hstack(estim)\n",
        "\n",
        "            # no dive prediction performance\n",
        "            no_dive_prediction = [estim[i] for i in range(estim.shape[0]) if not real[i]]\n",
        "            true_no_dive = 1-np.sum(no_dive_prediction)/len(no_dive_prediction)\n",
        "\n",
        "            # dive prediction performance\n",
        "            dive_prediction = [estim[i] for i in range(estim.shape[0]) if real[i]]\n",
        "            true_dive = np.sum(dive_prediction)/len(dive_prediction)\n",
        "        \n",
        "            score = (true_no_dive + true_dive)/2\n",
        "\n",
        "            list_loss.append(loss.item())\n",
        "            list_score.append(score)\n",
        "\n",
        "\n",
        "        print('Step [{}/{}], Loss: {:.4f}, Accuracy: {} %'\n",
        "                .format(i + 1, nb_train, loss.item(), score*100))"
      ],
      "execution_count": null,
      "outputs": [
        {
          "output_type": "stream",
          "text": [
            "Step [1000/50000], Loss: 16.9002, Accuracy: 45.94169026570197 %\n",
            "Step [2000/50000], Loss: 16.2359, Accuracy: 45.96648745871201 %\n",
            "Step [3000/50000], Loss: 16.6468, Accuracy: 46.07753558468615 %\n"
          ],
          "name": "stdout"
        }
      ]
    },
    {
      "cell_type": "code",
      "metadata": {
        "id": "L2KhAHzUrC0s"
      },
      "source": [
        ""
      ],
      "execution_count": null,
      "outputs": []
    }
  ]
}