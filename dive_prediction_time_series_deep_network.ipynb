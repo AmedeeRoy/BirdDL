{
  "nbformat": 4,
  "nbformat_minor": 0,
  "metadata": {
    "kernelspec": {
      "display_name": "Python 3",
      "language": "python",
      "name": "python3"
    },
    "language_info": {
      "codemirror_mode": {
        "name": "ipython",
        "version": 3
      },
      "file_extension": ".py",
      "mimetype": "text/x-python",
      "name": "python",
      "nbconvert_exporter": "python",
      "pygments_lexer": "ipython3",
      "version": "3.7.4"
    },
    "colab": {
      "name": "dive_prediction_time_series_deep_network.ipynb",
      "provenance": []
    }
  },
  "cells": [
    {
      "cell_type": "markdown",
      "metadata": {
        "id": "l0C-QfH4LlCB"
      },
      "source": [
        "# Dive Prediction - Time Series Deep Network\n",
        "\n",
        "*Predicting Seabird Diving Behaviour from GPS data*\n",
        "\n",
        "This notebook trains a neural network to predict seabirds' dives.\n",
        "\n",
        "Networks' characteristics:\n",
        "\n",
        "* *Trajectory window* : 600s\n",
        "* *Output resolution*: 60s\n",
        "* *Representation of trajectories* : Time Series\n",
        "* *Layers* : deep convolutions\n",
        "\n",
        "\n"
      ]
    },
    {
      "cell_type": "markdown",
      "metadata": {
        "id": "kjVXwurrGghM"
      },
      "source": [
        "## connect to drive"
      ]
    },
    {
      "cell_type": "code",
      "metadata": {
        "id": "cPOjT66sGf3Y",
        "colab": {
          "base_uri": "https://localhost:8080/"
        },
        "outputId": "3d2efe35-d32f-49ce-afc5-b33ed1552ea8"
      },
      "source": [
        "# mount google drive\n",
        "from google.colab import drive\n",
        "drive.mount(\"/content/drive/\")"
      ],
      "execution_count": 1,
      "outputs": [
        {
          "output_type": "stream",
          "text": [
            "Mounted at /content/drive/\n"
          ],
          "name": "stdout"
        }
      ]
    },
    {
      "cell_type": "code",
      "metadata": {
        "id": "u2R6nZsEGp2v",
        "colab": {
          "base_uri": "https://localhost:8080/"
        },
        "outputId": "96674236-b2aa-4ef1-d64f-8904a0306c92"
      },
      "source": [
        "%cd drive/My\\ Drive/"
      ],
      "execution_count": 2,
      "outputs": [
        {
          "output_type": "stream",
          "text": [
            "/content/drive/My Drive\n"
          ],
          "name": "stdout"
        }
      ]
    },
    {
      "cell_type": "code",
      "metadata": {
        "id": "nPTCXkLdLlCC"
      },
      "source": [
        "import pandas as pd\n",
        "import numpy as np\n",
        "import matplotlib.pyplot as plt\n",
        "\n",
        "import torch\n",
        "from torch import nn\n",
        "from torch.utils.data import DataLoader, Dataset\n",
        "from torchvision import transforms\n",
        "\n",
        "from utils.trip import * "
      ],
      "execution_count": 3,
      "outputs": []
    },
    {
      "cell_type": "code",
      "metadata": {
        "id": "YPCxjcNuLlCC"
      },
      "source": [
        "data_train = pd.read_csv('./data/data_train.csv')\n",
        "data_test = pd.read_csv('./data/data_test.csv')"
      ],
      "execution_count": 4,
      "outputs": []
    },
    {
      "cell_type": "code",
      "metadata": {
        "id": "Zo9pKfxqLlCC"
      },
      "source": [
        "def standardize(var):\n",
        "    var = np.array(var)\n",
        "    return (var-np.mean(var))/np.std(var)\n",
        "\n",
        "def standardize_minmax(var):\n",
        "    var = np.array(var)\n",
        "    return (var-np.min(var))/(np.max(var) - np.min(var))"
      ],
      "execution_count": 5,
      "outputs": []
    },
    {
      "cell_type": "code",
      "metadata": {
        "id": "2iRzzkVULlCC"
      },
      "source": [
        "data_train = data_train.copy()\n",
        "data_train = data_train.dropna()\n",
        "data_train['lon_std'] = 0\n",
        "data_train['lat_std'] = 0\n",
        "data_train['step_speed_std'] = 0\n",
        "data_train['step_direction_cos'] = 0\n",
        "data_train['step_direction_sin'] = 0\n",
        "    \n",
        "for trip in data_train.trip.unique():\n",
        "    data_train.loc[data_train.trip == trip,'lon_std'] = standardize(data_train.loc[data_train.trip == trip,'lon'])\n",
        "    data_train.loc[data_train.trip == trip, 'lat_std'] = standardize(data_train.loc[data_train.trip == trip,'lat'])\n",
        "    data_train.loc[data_train.trip == trip,'step_speed_std'] = standardize_minmax(data_train.loc[data_train.trip == trip,'step_speed'])\n",
        "    data_train.loc[data_train.trip == trip,'step_direction_cos'] = np.cos(data_train.loc[data_train.trip == trip,'step_direction']* np.pi/180)\n",
        "    data_train.loc[data_train.trip == trip,'step_direction_sin'] = np.sin(data_train.loc[data_train.trip == trip,'step_direction']* np.pi/180)"
      ],
      "execution_count": 6,
      "outputs": []
    },
    {
      "cell_type": "code",
      "metadata": {
        "id": "Y0LSVSBQLlCC",
        "outputId": "949317c4-fe57-46a3-af4a-2d5b504d8500",
        "colab": {
          "base_uri": "https://localhost:8080/",
          "height": 206
        }
      },
      "source": [
        "data_train.head()"
      ],
      "execution_count": 7,
      "outputs": [
        {
          "output_type": "execute_result",
          "data": {
            "text/html": [
              "<div>\n",
              "<style scoped>\n",
              "    .dataframe tbody tr th:only-of-type {\n",
              "        vertical-align: middle;\n",
              "    }\n",
              "\n",
              "    .dataframe tbody tr th {\n",
              "        vertical-align: top;\n",
              "    }\n",
              "\n",
              "    .dataframe thead th {\n",
              "        text-align: right;\n",
              "    }\n",
              "</style>\n",
              "<table border=\"1\" class=\"dataframe\">\n",
              "  <thead>\n",
              "    <tr style=\"text-align: right;\">\n",
              "      <th></th>\n",
              "      <th>trip</th>\n",
              "      <th>datetime</th>\n",
              "      <th>lon</th>\n",
              "      <th>lat</th>\n",
              "      <th>pressure</th>\n",
              "      <th>gaps</th>\n",
              "      <th>step_speed</th>\n",
              "      <th>step_direction</th>\n",
              "      <th>dive</th>\n",
              "      <th>lon_std</th>\n",
              "      <th>lat_std</th>\n",
              "      <th>step_speed_std</th>\n",
              "      <th>step_direction_cos</th>\n",
              "      <th>step_direction_sin</th>\n",
              "    </tr>\n",
              "  </thead>\n",
              "  <tbody>\n",
              "    <tr>\n",
              "      <th>2</th>\n",
              "      <td>P1108_46_SV_T1</td>\n",
              "      <td>2008-12-05 15:12:41</td>\n",
              "      <td>-77.262442</td>\n",
              "      <td>-11.773072</td>\n",
              "      <td>-0.26</td>\n",
              "      <td>False</td>\n",
              "      <td>7.224129</td>\n",
              "      <td>3.984122</td>\n",
              "      <td>0</td>\n",
              "      <td>1.452647</td>\n",
              "      <td>1.542331</td>\n",
              "      <td>0.246157</td>\n",
              "      <td>0.997583</td>\n",
              "      <td>0.069480</td>\n",
              "    </tr>\n",
              "    <tr>\n",
              "      <th>3</th>\n",
              "      <td>P1108_46_SV_T1</td>\n",
              "      <td>2008-12-05 15:12:42</td>\n",
              "      <td>-77.262447</td>\n",
              "      <td>-11.773147</td>\n",
              "      <td>-0.26</td>\n",
              "      <td>False</td>\n",
              "      <td>8.366185</td>\n",
              "      <td>13.285157</td>\n",
              "      <td>0</td>\n",
              "      <td>1.452565</td>\n",
              "      <td>1.541362</td>\n",
              "      <td>0.285681</td>\n",
              "      <td>0.973238</td>\n",
              "      <td>0.229798</td>\n",
              "    </tr>\n",
              "    <tr>\n",
              "      <th>4</th>\n",
              "      <td>P1108_46_SV_T1</td>\n",
              "      <td>2008-12-05 15:12:43</td>\n",
              "      <td>-77.262482</td>\n",
              "      <td>-11.773217</td>\n",
              "      <td>-0.22</td>\n",
              "      <td>False</td>\n",
              "      <td>8.675223</td>\n",
              "      <td>22.346828</td>\n",
              "      <td>0</td>\n",
              "      <td>1.451995</td>\n",
              "      <td>1.540458</td>\n",
              "      <td>0.296376</td>\n",
              "      <td>0.924899</td>\n",
              "      <td>0.380212</td>\n",
              "    </tr>\n",
              "    <tr>\n",
              "      <th>5</th>\n",
              "      <td>P1108_46_SV_T1</td>\n",
              "      <td>2008-12-05 15:12:44</td>\n",
              "      <td>-77.262517</td>\n",
              "      <td>-11.773293</td>\n",
              "      <td>-0.29</td>\n",
              "      <td>False</td>\n",
              "      <td>9.279737</td>\n",
              "      <td>-1.813227</td>\n",
              "      <td>0</td>\n",
              "      <td>1.451424</td>\n",
              "      <td>1.539476</td>\n",
              "      <td>0.317297</td>\n",
              "      <td>0.999499</td>\n",
              "      <td>-0.031641</td>\n",
              "    </tr>\n",
              "    <tr>\n",
              "      <th>6</th>\n",
              "      <td>P1108_46_SV_T1</td>\n",
              "      <td>2008-12-05 15:12:45</td>\n",
              "      <td>-77.262518</td>\n",
              "      <td>-11.773372</td>\n",
              "      <td>-0.19</td>\n",
              "      <td>False</td>\n",
              "      <td>8.794348</td>\n",
              "      <td>-23.557701</td>\n",
              "      <td>0</td>\n",
              "      <td>1.451408</td>\n",
              "      <td>1.538456</td>\n",
              "      <td>0.300499</td>\n",
              "      <td>0.916658</td>\n",
              "      <td>-0.399672</td>\n",
              "    </tr>\n",
              "  </tbody>\n",
              "</table>\n",
              "</div>"
            ],
            "text/plain": [
              "             trip             datetime  ...  step_direction_cos  step_direction_sin\n",
              "2  P1108_46_SV_T1  2008-12-05 15:12:41  ...            0.997583            0.069480\n",
              "3  P1108_46_SV_T1  2008-12-05 15:12:42  ...            0.973238            0.229798\n",
              "4  P1108_46_SV_T1  2008-12-05 15:12:43  ...            0.924899            0.380212\n",
              "5  P1108_46_SV_T1  2008-12-05 15:12:44  ...            0.999499           -0.031641\n",
              "6  P1108_46_SV_T1  2008-12-05 15:12:45  ...            0.916658           -0.399672\n",
              "\n",
              "[5 rows x 14 columns]"
            ]
          },
          "metadata": {
            "tags": []
          },
          "execution_count": 7
        }
      ]
    },
    {
      "cell_type": "markdown",
      "metadata": {
        "id": "GIP6-H4JLlCD"
      },
      "source": [
        "# Neural Network"
      ]
    },
    {
      "cell_type": "code",
      "metadata": {
        "id": "3JkDG3IbLlCD"
      },
      "source": [
        "# hyperparameters\n",
        "batch_size = 16\n",
        "learning_rate = 0.01\n",
        "variable = ('lon_std', 'lat_std', 'step_speed_std', 'step_direction_cos', 'step_direction_sin')\n",
        "window = 600\n",
        "rescale = 10\n",
        "\n",
        "train_set = TrajDataSet(data_train, window, variable, transform = transforms.Compose([Rescale(rescale), ToTensor()]))\n",
        "train_loader = DataLoader(train_set, batch_size=batch_size, num_workers = 0, shuffle = True, drop_last=False)"
      ],
      "execution_count": 13,
      "outputs": []
    },
    {
      "cell_type": "code",
      "metadata": {
        "id": "zK0f7AEsLlCD"
      },
      "source": [
        "class ConvNet(nn.Module):\n",
        "    def __init__(self):\n",
        "        super(ConvNet, self).__init__()\n",
        "        \n",
        "        self.cnn_input_1 = nn.Sequential(\n",
        "            nn.Conv1d(5, 8, kernel_size = 11, stride = 1, padding = 5, dilation = 1),\n",
        "            nn.ReLU(),\n",
        "            nn.Conv1d(8, 8, kernel_size = 11, stride = 1, padding = 5, dilation = 1),\n",
        "            nn.ReLU()\n",
        "        )\n",
        "\n",
        "        self.pooling_1 = nn.Sequential(\n",
        "            nn.MaxPool1d(kernel_size = 11, stride = 2, padding = 5, dilation = 1)\n",
        "        )\n",
        "\n",
        "        self.cnn_input_2 = nn.Sequential(\n",
        "            nn.Conv1d(8, 16, kernel_size = 11, stride = 1, padding = 5, dilation = 1),\n",
        "            nn.ReLU(),\n",
        "            nn.Conv1d(16, 16, kernel_size = 11, stride = 1, padding = 5, dilation = 1),\n",
        "            nn.ReLU()\n",
        "        )\n",
        "\n",
        "        self.pooling_2 = nn.Sequential(\n",
        "            nn.MaxPool1d(kernel_size = 11, stride = 2, padding = 5, dilation = 1)\n",
        "        )\n",
        "\n",
        "        self.cnn_input_3 = nn.Sequential(\n",
        "            nn.Conv1d(16, 32, kernel_size = 11, stride = 1, padding = 5, dilation = 1),\n",
        "            nn.ReLU(),\n",
        "            nn.Conv1d(32, 32, kernel_size = 11, stride = 1, padding = 5, dilation = 1),\n",
        "            nn.ReLU()\n",
        "        )\n",
        "\n",
        "        self.pooling_3 = nn.Sequential(\n",
        "            nn.MaxPool1d(kernel_size = 11, stride = 2, padding = 5, dilation = 4)\n",
        "        )\n",
        "\n",
        "        self.cnn_4 = nn.Sequential(\n",
        "            nn.Conv1d(32, 16, kernel_size = 11, stride = 1, padding = 5, dilation = 1),\n",
        "            nn.ReLU(),\n",
        "            nn.Conv1d(16, 8, kernel_size = 11, stride = 1, padding = 5, dilation = 1),\n",
        "            nn.ReLU(),\n",
        "            nn.Conv1d(8, 1, kernel_size = 11, stride = 1, padding = 5, dilation = 1)\n",
        "        )\n",
        "\n",
        "                \n",
        "    def forward(self, x):\n",
        "        out = x.squeeze(1)\n",
        "        out = self.cnn_input_1(out)\n",
        "        out = self.pooling_1(out)\n",
        "        out = self.cnn_input_2(out)\n",
        "        out = self.pooling_2(out)\n",
        "        out = self.cnn_input_3(out)\n",
        "        out = self.pooling_3(out)\n",
        "        out = self.cnn_4(out)\n",
        "\n",
        "        return out\n",
        "    \n",
        "def get_score(out, y):\n",
        "    out = 1*(out>0)\n",
        "    true_positive = np.mean(out[y == True].numpy()) \n",
        "    true_negative = 1-np.mean(out[y == False].numpy())\n",
        "    \n",
        "    return (round(true_positive*100) , round(true_negative*100))\n",
        "#     return (true_positive.detach().numpy().item() , true_negative.detach().numpy().item())"
      ],
      "execution_count": 14,
      "outputs": []
    },
    {
      "cell_type": "code",
      "metadata": {
        "id": "Lt33oHwiLlCD",
        "outputId": "40bbca49-340c-40d9-8970-a4a9f784fb83",
        "colab": {
          "base_uri": "https://localhost:8080/"
        }
      },
      "source": [
        "# get sample\n",
        "x, y = next(iter(train_loader)) \n",
        "\n",
        "# Forward model\n",
        "model = ConvNet()\n",
        "out = model(x)\n",
        "\n",
        "# Loss and score\n",
        "optimizer = torch.optim.Adam(model.parameters(), lr=learning_rate)\n",
        "criterion = nn.BCEWithLogitsLoss(pos_weight = torch.FloatTensor([15]))\n",
        "criterion(out, y)\n",
        "get_score(out, y)"
      ],
      "execution_count": 15,
      "outputs": [
        {
          "output_type": "execute_result",
          "data": {
            "text/plain": [
              "(12.0, 85.0)"
            ]
          },
          "metadata": {
            "tags": []
          },
          "execution_count": 15
        }
      ]
    },
    {
      "cell_type": "markdown",
      "metadata": {
        "id": "0TgPVDIiLlCD"
      },
      "source": [
        "## Training"
      ]
    },
    {
      "cell_type": "code",
      "metadata": {
        "id": "vxyfYiWCLlCD"
      },
      "source": [
        "# # switch to GPU\n",
        "# device = torch.device('cuda' if torch.cuda.is_available() else 'cpu')\n",
        "# model.to(device)"
      ],
      "execution_count": 16,
      "outputs": []
    },
    {
      "cell_type": "code",
      "metadata": {
        "scrolled": true,
        "id": "x68uT4pHLlCE",
        "outputId": "d457c1cc-963a-4055-ac76-a4cdf084f8ce",
        "colab": {
          "base_uri": "https://localhost:8080/",
          "height": 1000
        }
      },
      "source": [
        "list_loss = []\n",
        "list_score = []\n",
        "i = 0\n",
        "\n",
        "for epoch in range(5):\n",
        "    learning_rate /= 10\n",
        "    optimizer = torch.optim.Adam(model.parameters(), lr=learning_rate)\n",
        "    \n",
        "    for batch, (x, y) in enumerate(train_loader):\n",
        "        i+=1\n",
        "\n",
        "        # Train the model\n",
        "        model.train()\n",
        "\n",
        "    #     # send to GPU\n",
        "    #     x, y = x.to(device), y.to(device)\n",
        "\n",
        "        # Run the forward pass\n",
        "        out = model(x)\n",
        "        loss = criterion(out, y)\n",
        "\n",
        "        # Backprop and perform optimisation\n",
        "        optimizer.zero_grad()\n",
        "        loss.backward()\n",
        "        optimizer.step()\n",
        "\n",
        "        if (i + 1) % 100 == 0:\n",
        "\n",
        "            score = get_score(out,y)\n",
        "            list_loss.append(loss.item())\n",
        "            list_score.append(score)\n",
        "\n",
        "            print('Epoch {}, Step {}, Loss: {}, True Positive : {}, True Negative : {} %'\n",
        "                    .format(epoch, i + 1, loss.item(), score[0], score[1]))"
      ],
      "execution_count": 17,
      "outputs": [
        {
          "output_type": "stream",
          "text": [
            "Epoch 0, Step 100, Loss: 1.1119441986083984, True Positive : 88.0, True Negative : 51.0 %\n",
            "Epoch 0, Step 200, Loss: 0.8343439102172852, True Positive : 91.0, True Negative : 56.0 %\n",
            "Epoch 0, Step 300, Loss: 0.5825784206390381, True Positive : 100.0, True Negative : 69.0 %\n",
            "Epoch 0, Step 400, Loss: 0.5136093497276306, True Positive : 81.0, True Negative : 79.0 %\n",
            "Epoch 0, Step 500, Loss: 0.7820826172828674, True Positive : 88.0, True Negative : 69.0 %\n",
            "Epoch 0, Step 600, Loss: 0.7521162033081055, True Positive : 95.0, True Negative : 67.0 %\n",
            "Epoch 0, Step 700, Loss: 0.48694801330566406, True Positive : 97.0, True Negative : 75.0 %\n",
            "Epoch 0, Step 800, Loss: 0.603681206703186, True Positive : 100.0, True Negative : 71.0 %\n",
            "Epoch 0, Step 900, Loss: 0.5178752541542053, True Positive : 100.0, True Negative : 74.0 %\n",
            "Epoch 0, Step 1000, Loss: 0.2758454978466034, True Positive : 79.0, True Negative : 90.0 %\n",
            "Epoch 0, Step 1100, Loss: 0.8543655276298523, True Positive : 96.0, True Negative : 54.0 %\n",
            "Epoch 0, Step 1200, Loss: 0.6996126174926758, True Positive : 96.0, True Negative : 66.0 %\n",
            "Epoch 0, Step 1300, Loss: 0.5195302963256836, True Positive : 97.0, True Negative : 71.0 %\n",
            "Epoch 0, Step 1400, Loss: 0.6127191185951233, True Positive : 93.0, True Negative : 70.0 %\n",
            "Epoch 0, Step 1500, Loss: 0.518351674079895, True Positive : 98.0, True Negative : 78.0 %\n",
            "Epoch 0, Step 1600, Loss: 0.7053173780441284, True Positive : 80.0, True Negative : 72.0 %\n",
            "Epoch 0, Step 1700, Loss: 0.7079779505729675, True Positive : 100.0, True Negative : 69.0 %\n",
            "Epoch 0, Step 1800, Loss: 0.7874911427497864, True Positive : 100.0, True Negative : 63.0 %\n",
            "Epoch 0, Step 1900, Loss: 0.808472216129303, True Positive : 98.0, True Negative : 62.0 %\n",
            "Epoch 0, Step 2000, Loss: 0.3036542534828186, True Positive : 72.0, True Negative : 91.0 %\n",
            "Epoch 0, Step 2100, Loss: 0.33616816997528076, True Positive : 95.0, True Negative : 84.0 %\n",
            "Epoch 0, Step 2200, Loss: 0.7359998822212219, True Positive : 97.0, True Negative : 71.0 %\n",
            "Epoch 0, Step 2300, Loss: 0.37252599000930786, True Positive : 95.0, True Negative : 85.0 %\n",
            "Epoch 0, Step 2400, Loss: 0.6129806041717529, True Positive : 100.0, True Negative : 72.0 %\n",
            "Epoch 0, Step 2500, Loss: 0.6277591586112976, True Positive : 88.0, True Negative : 73.0 %\n",
            "Epoch 0, Step 2600, Loss: 0.676080048084259, True Positive : 100.0, True Negative : 68.0 %\n",
            "Epoch 0, Step 2700, Loss: 0.37799271941185, True Positive : 86.0, True Negative : 85.0 %\n",
            "Epoch 0, Step 2800, Loss: 0.34888410568237305, True Positive : 100.0, True Negative : 84.0 %\n",
            "Epoch 0, Step 2900, Loss: 0.5379230380058289, True Positive : 92.0, True Negative : 77.0 %\n",
            "Epoch 0, Step 3000, Loss: 0.4440050721168518, True Positive : 80.0, True Negative : 79.0 %\n",
            "Epoch 0, Step 3100, Loss: 0.9662224054336548, True Positive : 94.0, True Negative : 61.0 %\n",
            "Epoch 0, Step 3200, Loss: 0.8271409273147583, True Positive : 92.0, True Negative : 61.0 %\n",
            "Epoch 0, Step 3300, Loss: 0.5805295705795288, True Positive : 98.0, True Negative : 72.0 %\n",
            "Epoch 0, Step 3400, Loss: 0.47464248538017273, True Positive : 95.0, True Negative : 80.0 %\n",
            "Epoch 0, Step 3500, Loss: 0.31302040815353394, True Positive : 96.0, True Negative : 87.0 %\n",
            "Epoch 0, Step 3600, Loss: 0.9052513837814331, True Positive : 94.0, True Negative : 63.0 %\n",
            "Epoch 0, Step 3700, Loss: 0.8036050796508789, True Positive : 88.0, True Negative : 73.0 %\n",
            "Epoch 0, Step 3800, Loss: 0.4040423035621643, True Positive : 97.0, True Negative : 85.0 %\n",
            "Epoch 0, Step 3900, Loss: 0.764696478843689, True Positive : 100.0, True Negative : 64.0 %\n",
            "Epoch 0, Step 4000, Loss: 0.3417404294013977, True Positive : 100.0, True Negative : 84.0 %\n",
            "Epoch 0, Step 4100, Loss: 0.7620766758918762, True Positive : 100.0, True Negative : 63.0 %\n",
            "Epoch 0, Step 4200, Loss: 0.6629847884178162, True Positive : 97.0, True Negative : 64.0 %\n",
            "Epoch 0, Step 4300, Loss: 0.5101763010025024, True Positive : 95.0, True Negative : 77.0 %\n",
            "Epoch 0, Step 4400, Loss: 0.6473798751831055, True Positive : 100.0, True Negative : 68.0 %\n",
            "Epoch 0, Step 4500, Loss: 0.8496739864349365, True Positive : 100.0, True Negative : 61.0 %\n",
            "Epoch 0, Step 4600, Loss: 0.8290533423423767, True Positive : 98.0, True Negative : 59.0 %\n",
            "Epoch 0, Step 4700, Loss: 0.5002247095108032, True Positive : 100.0, True Negative : 74.0 %\n",
            "Epoch 0, Step 4800, Loss: 0.8294429779052734, True Positive : 99.0, True Negative : 64.0 %\n",
            "Epoch 0, Step 4900, Loss: 0.300606369972229, True Positive : 88.0, True Negative : 86.0 %\n",
            "Epoch 0, Step 5000, Loss: 0.62595134973526, True Positive : 100.0, True Negative : 68.0 %\n",
            "Epoch 0, Step 5100, Loss: 0.40739917755126953, True Positive : 93.0, True Negative : 81.0 %\n",
            "Epoch 0, Step 5200, Loss: 0.8159583806991577, True Positive : 99.0, True Negative : 63.0 %\n",
            "Epoch 0, Step 5300, Loss: 0.588708221912384, True Positive : 96.0, True Negative : 77.0 %\n",
            "Epoch 0, Step 5400, Loss: 0.6326868534088135, True Positive : 100.0, True Negative : 70.0 %\n",
            "Epoch 0, Step 5500, Loss: 0.46922817826271057, True Positive : 97.0, True Negative : 80.0 %\n",
            "Epoch 0, Step 5600, Loss: 0.7051127552986145, True Positive : 96.0, True Negative : 66.0 %\n",
            "Epoch 0, Step 5700, Loss: 0.39911606907844543, True Positive : 94.0, True Negative : 86.0 %\n",
            "Epoch 0, Step 5800, Loss: 0.5083949565887451, True Positive : 100.0, True Negative : 78.0 %\n",
            "Epoch 0, Step 5900, Loss: 0.7922181487083435, True Positive : 100.0, True Negative : 64.0 %\n",
            "Epoch 0, Step 6000, Loss: 0.5162515044212341, True Positive : 89.0, True Negative : 76.0 %\n",
            "Epoch 0, Step 6100, Loss: 0.44538450241088867, True Positive : 95.0, True Negative : 83.0 %\n",
            "Epoch 0, Step 6200, Loss: 0.6622408032417297, True Positive : 100.0, True Negative : 68.0 %\n",
            "Epoch 0, Step 6300, Loss: 0.6468457579612732, True Positive : 94.0, True Negative : 78.0 %\n",
            "Epoch 0, Step 6400, Loss: 0.5726295709609985, True Positive : 100.0, True Negative : 73.0 %\n",
            "Epoch 0, Step 6500, Loss: 0.9321059584617615, True Positive : 97.0, True Negative : 56.0 %\n",
            "Epoch 0, Step 6600, Loss: 0.45179781317710876, True Positive : 94.0, True Negative : 80.0 %\n",
            "Epoch 0, Step 6700, Loss: 0.49175575375556946, True Positive : 95.0, True Negative : 82.0 %\n",
            "Epoch 0, Step 6800, Loss: 0.6897553205490112, True Positive : 93.0, True Negative : 71.0 %\n",
            "Epoch 0, Step 6900, Loss: 0.7937324047088623, True Positive : 95.0, True Negative : 67.0 %\n",
            "Epoch 0, Step 7000, Loss: 0.6084965467453003, True Positive : 98.0, True Negative : 73.0 %\n",
            "Epoch 0, Step 7100, Loss: 0.5302982330322266, True Positive : 100.0, True Negative : 78.0 %\n",
            "Epoch 0, Step 7200, Loss: 0.44017696380615234, True Positive : 100.0, True Negative : 79.0 %\n",
            "Epoch 0, Step 7300, Loss: 0.5341324210166931, True Positive : 96.0, True Negative : 78.0 %\n",
            "Epoch 0, Step 7400, Loss: 0.5676338076591492, True Positive : 98.0, True Negative : 77.0 %\n",
            "Epoch 0, Step 7500, Loss: 0.33483538031578064, True Positive : 100.0, True Negative : 84.0 %\n",
            "Epoch 0, Step 7600, Loss: 0.6009693741798401, True Positive : 98.0, True Negative : 71.0 %\n",
            "Epoch 0, Step 7700, Loss: 0.8028205633163452, True Positive : 99.0, True Negative : 61.0 %\n",
            "Epoch 0, Step 7800, Loss: 0.53007572889328, True Positive : 100.0, True Negative : 79.0 %\n",
            "Epoch 0, Step 7900, Loss: 0.5253652930259705, True Positive : 98.0, True Negative : 77.0 %\n",
            "Epoch 0, Step 8000, Loss: 0.6053999662399292, True Positive : 98.0, True Negative : 73.0 %\n",
            "Epoch 0, Step 8100, Loss: 0.3281821012496948, True Positive : 100.0, True Negative : 84.0 %\n",
            "Epoch 0, Step 8200, Loss: 0.6693597435951233, True Positive : 100.0, True Negative : 72.0 %\n",
            "Epoch 0, Step 8300, Loss: 0.40853944420814514, True Positive : 93.0, True Negative : 81.0 %\n",
            "Epoch 0, Step 8400, Loss: 0.40541499853134155, True Positive : 100.0, True Negative : 80.0 %\n",
            "Epoch 0, Step 8500, Loss: 0.5348432660102844, True Positive : 100.0, True Negative : 78.0 %\n",
            "Epoch 0, Step 8600, Loss: 0.5413301587104797, True Positive : 96.0, True Negative : 79.0 %\n",
            "Epoch 0, Step 8700, Loss: 0.4894828200340271, True Positive : 82.0, True Negative : 82.0 %\n",
            "Epoch 0, Step 8800, Loss: 0.6111241579055786, True Positive : 96.0, True Negative : 75.0 %\n",
            "Epoch 1, Step 8900, Loss: 0.3129883408546448, True Positive : 95.0, True Negative : 87.0 %\n",
            "Epoch 1, Step 9000, Loss: 0.556655764579773, True Positive : 98.0, True Negative : 76.0 %\n",
            "Epoch 1, Step 9100, Loss: 0.8129454255104065, True Positive : 100.0, True Negative : 63.0 %\n",
            "Epoch 1, Step 9200, Loss: 0.4747411608695984, True Positive : 98.0, True Negative : 80.0 %\n",
            "Epoch 1, Step 9300, Loss: 0.48907002806663513, True Positive : 97.0, True Negative : 79.0 %\n",
            "Epoch 1, Step 9400, Loss: 0.676037609577179, True Positive : 98.0, True Negative : 69.0 %\n",
            "Epoch 1, Step 9500, Loss: 0.8111715912818909, True Positive : 100.0, True Negative : 64.0 %\n",
            "Epoch 1, Step 9600, Loss: 0.5894145965576172, True Positive : 93.0, True Negative : 79.0 %\n",
            "Epoch 1, Step 9700, Loss: 0.5843697786331177, True Positive : 98.0, True Negative : 75.0 %\n",
            "Epoch 1, Step 9800, Loss: 0.3451845943927765, True Positive : 100.0, True Negative : 85.0 %\n",
            "Epoch 1, Step 9900, Loss: 0.6924129128456116, True Positive : 95.0, True Negative : 72.0 %\n",
            "Epoch 1, Step 10000, Loss: 0.37523701786994934, True Positive : 100.0, True Negative : 84.0 %\n",
            "Epoch 1, Step 10100, Loss: 0.6155862212181091, True Positive : 98.0, True Negative : 74.0 %\n",
            "Epoch 1, Step 10200, Loss: 0.4170617163181305, True Positive : 100.0, True Negative : 83.0 %\n",
            "Epoch 1, Step 10300, Loss: 0.49797898530960083, True Positive : 91.0, True Negative : 82.0 %\n",
            "Epoch 1, Step 10400, Loss: 0.3251630663871765, True Positive : 97.0, True Negative : 85.0 %\n",
            "Epoch 1, Step 10500, Loss: 0.4078807830810547, True Positive : 100.0, True Negative : 82.0 %\n",
            "Epoch 1, Step 10600, Loss: 0.2922970652580261, True Positive : 96.0, True Negative : 89.0 %\n",
            "Epoch 1, Step 10700, Loss: 0.5829794406890869, True Positive : 96.0, True Negative : 75.0 %\n",
            "Epoch 1, Step 10800, Loss: 0.4955483376979828, True Positive : 98.0, True Negative : 79.0 %\n",
            "Epoch 1, Step 10900, Loss: 0.45604732632637024, True Positive : 98.0, True Negative : 84.0 %\n",
            "Epoch 1, Step 11000, Loss: 0.48257434368133545, True Positive : 98.0, True Negative : 80.0 %\n",
            "Epoch 1, Step 11100, Loss: 0.38052883744239807, True Positive : 100.0, True Negative : 83.0 %\n",
            "Epoch 1, Step 11200, Loss: 0.4439806640148163, True Positive : 100.0, True Negative : 81.0 %\n",
            "Epoch 1, Step 11300, Loss: 0.708211362361908, True Positive : 98.0, True Negative : 67.0 %\n",
            "Epoch 1, Step 11400, Loss: 0.3374216854572296, True Positive : 97.0, True Negative : 86.0 %\n",
            "Epoch 1, Step 11500, Loss: 0.406779944896698, True Positive : 94.0, True Negative : 85.0 %\n",
            "Epoch 1, Step 11600, Loss: 0.7035332918167114, True Positive : 98.0, True Negative : 71.0 %\n",
            "Epoch 1, Step 11700, Loss: 0.5238021612167358, True Positive : 100.0, True Negative : 78.0 %\n",
            "Epoch 1, Step 11800, Loss: 0.31898847222328186, True Positive : 97.0, True Negative : 86.0 %\n",
            "Epoch 1, Step 11900, Loss: 0.5606483817100525, True Positive : 98.0, True Negative : 77.0 %\n",
            "Epoch 1, Step 12000, Loss: 0.436506062746048, True Positive : 97.0, True Negative : 80.0 %\n",
            "Epoch 1, Step 12100, Loss: 0.30553358793258667, True Positive : 100.0, True Negative : 86.0 %\n",
            "Epoch 1, Step 12200, Loss: 0.6684150695800781, True Positive : 98.0, True Negative : 74.0 %\n",
            "Epoch 1, Step 12300, Loss: 0.4808940887451172, True Positive : 88.0, True Negative : 83.0 %\n",
            "Epoch 1, Step 12400, Loss: 0.36041679978370667, True Positive : 97.0, True Negative : 85.0 %\n",
            "Epoch 1, Step 12500, Loss: 0.34243687987327576, True Positive : 97.0, True Negative : 87.0 %\n",
            "Epoch 1, Step 12600, Loss: 0.4951730966567993, True Positive : 98.0, True Negative : 82.0 %\n",
            "Epoch 1, Step 12700, Loss: 0.13900640606880188, True Positive : 88.0, True Negative : 98.0 %\n",
            "Epoch 1, Step 12800, Loss: 0.8290645480155945, True Positive : 99.0, True Negative : 65.0 %\n",
            "Epoch 1, Step 12900, Loss: 0.35698172450065613, True Positive : 93.0, True Negative : 87.0 %\n",
            "Epoch 1, Step 13000, Loss: 0.5346600413322449, True Positive : 100.0, True Negative : 76.0 %\n",
            "Epoch 1, Step 13100, Loss: 0.6278696060180664, True Positive : 95.0, True Negative : 73.0 %\n",
            "Epoch 1, Step 13200, Loss: 0.4392370879650116, True Positive : 93.0, True Negative : 83.0 %\n",
            "Epoch 1, Step 13300, Loss: 0.3011704087257385, True Positive : 96.0, True Negative : 89.0 %\n",
            "Epoch 1, Step 13400, Loss: 0.5292807221412659, True Positive : 100.0, True Negative : 77.0 %\n",
            "Epoch 1, Step 13500, Loss: 0.36754968762397766, True Positive : 100.0, True Negative : 84.0 %\n",
            "Epoch 1, Step 13600, Loss: 0.6641001105308533, True Positive : 97.0, True Negative : 71.0 %\n",
            "Epoch 1, Step 13700, Loss: 0.5456921458244324, True Positive : 98.0, True Negative : 78.0 %\n",
            "Epoch 1, Step 13800, Loss: 0.6312808394432068, True Positive : 98.0, True Negative : 74.0 %\n",
            "Epoch 1, Step 13900, Loss: 0.7019446492195129, True Positive : 97.0, True Negative : 74.0 %\n",
            "Epoch 1, Step 14000, Loss: 0.6496440768241882, True Positive : 95.0, True Negative : 71.0 %\n",
            "Epoch 1, Step 14100, Loss: 0.4840279221534729, True Positive : 98.0, True Negative : 80.0 %\n",
            "Epoch 1, Step 14200, Loss: 0.6474335789680481, True Positive : 97.0, True Negative : 73.0 %\n",
            "Epoch 1, Step 14300, Loss: 0.443638414144516, True Positive : 95.0, True Negative : 83.0 %\n",
            "Epoch 1, Step 14400, Loss: 0.3929896354675293, True Positive : 100.0, True Negative : 83.0 %\n",
            "Epoch 1, Step 14500, Loss: 0.4489626884460449, True Positive : 95.0, True Negative : 82.0 %\n",
            "Epoch 1, Step 14600, Loss: 0.22795793414115906, True Positive : 76.0, True Negative : 93.0 %\n",
            "Epoch 1, Step 14700, Loss: 0.45871207118034363, True Positive : 98.0, True Negative : 81.0 %\n",
            "Epoch 1, Step 14800, Loss: 0.44464442133903503, True Positive : 100.0, True Negative : 82.0 %\n",
            "Epoch 1, Step 14900, Loss: 0.3326255977153778, True Positive : 97.0, True Negative : 86.0 %\n",
            "Epoch 1, Step 15000, Loss: 0.5367993712425232, True Positive : 96.0, True Negative : 77.0 %\n",
            "Epoch 1, Step 15100, Loss: 0.5042368769645691, True Positive : 96.0, True Negative : 81.0 %\n",
            "Epoch 1, Step 15200, Loss: 0.43681275844573975, True Positive : 96.0, True Negative : 84.0 %\n",
            "Epoch 1, Step 15300, Loss: 0.5315231084823608, True Positive : 100.0, True Negative : 78.0 %\n",
            "Epoch 1, Step 15400, Loss: 0.5219929814338684, True Positive : 100.0, True Negative : 78.0 %\n",
            "Epoch 1, Step 15500, Loss: 0.6164308786392212, True Positive : 100.0, True Negative : 72.0 %\n",
            "Epoch 1, Step 15600, Loss: 0.4180569052696228, True Positive : 100.0, True Negative : 81.0 %\n",
            "Epoch 1, Step 15700, Loss: 0.564553439617157, True Positive : 98.0, True Negative : 76.0 %\n",
            "Epoch 1, Step 15800, Loss: 0.6449840664863586, True Positive : 97.0, True Negative : 74.0 %\n",
            "Epoch 1, Step 15900, Loss: 0.3820127546787262, True Positive : 97.0, True Negative : 85.0 %\n",
            "Epoch 1, Step 16000, Loss: 0.37113234400749207, True Positive : 97.0, True Negative : 85.0 %\n",
            "Epoch 1, Step 16100, Loss: 0.3937394320964813, True Positive : 100.0, True Negative : 83.0 %\n",
            "Epoch 1, Step 16200, Loss: 0.40136685967445374, True Positive : 97.0, True Negative : 82.0 %\n",
            "Epoch 1, Step 16300, Loss: 0.3887459635734558, True Positive : 91.0, True Negative : 86.0 %\n",
            "Epoch 1, Step 16400, Loss: 0.2914275527000427, True Positive : 97.0, True Negative : 89.0 %\n",
            "Epoch 1, Step 16500, Loss: 0.6297409534454346, True Positive : 93.0, True Negative : 76.0 %\n",
            "Epoch 1, Step 16600, Loss: 0.6010891795158386, True Positive : 98.0, True Negative : 73.0 %\n",
            "Epoch 1, Step 16700, Loss: 0.570537805557251, True Positive : 100.0, True Negative : 77.0 %\n",
            "Epoch 1, Step 16800, Loss: 0.2247254103422165, True Positive : 95.0, True Negative : 91.0 %\n",
            "Epoch 1, Step 16900, Loss: 0.6071256399154663, True Positive : 96.0, True Negative : 75.0 %\n",
            "Epoch 1, Step 17000, Loss: 0.33516424894332886, True Positive : 97.0, True Negative : 87.0 %\n",
            "Epoch 1, Step 17100, Loss: 0.4897546172142029, True Positive : 98.0, True Negative : 78.0 %\n",
            "Epoch 1, Step 17200, Loss: 0.8696404695510864, True Positive : 99.0, True Negative : 62.0 %\n",
            "Epoch 1, Step 17300, Loss: 0.5367957949638367, True Positive : 98.0, True Negative : 77.0 %\n",
            "Epoch 1, Step 17400, Loss: 0.47302696108818054, True Positive : 95.0, True Negative : 84.0 %\n",
            "Epoch 1, Step 17500, Loss: 1.041213035583496, True Positive : 97.0, True Negative : 59.0 %\n",
            "Epoch 1, Step 17600, Loss: 0.6411645412445068, True Positive : 97.0, True Negative : 74.0 %\n",
            "Epoch 1, Step 17700, Loss: 0.3253469467163086, True Positive : 96.0, True Negative : 87.0 %\n",
            "Epoch 2, Step 17800, Loss: 0.5344541072845459, True Positive : 98.0, True Negative : 78.0 %\n",
            "Epoch 2, Step 17900, Loss: 0.6146208047866821, True Positive : 96.0, True Negative : 74.0 %\n",
            "Epoch 2, Step 18000, Loss: 0.5682896971702576, True Positive : 100.0, True Negative : 75.0 %\n",
            "Epoch 2, Step 18100, Loss: 0.587162435054779, True Positive : 100.0, True Negative : 75.0 %\n",
            "Epoch 2, Step 18200, Loss: 0.3596898019313812, True Positive : 100.0, True Negative : 86.0 %\n",
            "Epoch 2, Step 18300, Loss: 0.6434680223464966, True Positive : 100.0, True Negative : 74.0 %\n",
            "Epoch 2, Step 18400, Loss: 0.690603494644165, True Positive : 97.0, True Negative : 71.0 %\n",
            "Epoch 2, Step 18500, Loss: 0.472787469625473, True Positive : 100.0, True Negative : 81.0 %\n",
            "Epoch 2, Step 18600, Loss: 0.5388520956039429, True Positive : 98.0, True Negative : 80.0 %\n",
            "Epoch 2, Step 18700, Loss: 0.5642201900482178, True Positive : 100.0, True Negative : 79.0 %\n",
            "Epoch 2, Step 18800, Loss: 0.6743634939193726, True Positive : 98.0, True Negative : 71.0 %\n",
            "Epoch 2, Step 18900, Loss: 0.4759041666984558, True Positive : 95.0, True Negative : 82.0 %\n",
            "Epoch 2, Step 19000, Loss: 0.6439845561981201, True Positive : 99.0, True Negative : 75.0 %\n",
            "Epoch 2, Step 19100, Loss: 0.4092496633529663, True Positive : 100.0, True Negative : 83.0 %\n",
            "Epoch 2, Step 19200, Loss: 0.2932465970516205, True Positive : 100.0, True Negative : 88.0 %\n",
            "Epoch 2, Step 19300, Loss: 0.4224001467227936, True Positive : 100.0, True Negative : 82.0 %\n",
            "Epoch 2, Step 19400, Loss: 0.9010989665985107, True Positive : 98.0, True Negative : 61.0 %\n",
            "Epoch 2, Step 19500, Loss: 0.49361422657966614, True Positive : 96.0, True Negative : 79.0 %\n",
            "Epoch 2, Step 19600, Loss: 0.3352355659008026, True Positive : 97.0, True Negative : 86.0 %\n",
            "Epoch 2, Step 19700, Loss: 0.5360555052757263, True Positive : 98.0, True Negative : 77.0 %\n",
            "Epoch 2, Step 19800, Loss: 0.568691074848175, True Positive : 98.0, True Negative : 75.0 %\n",
            "Epoch 2, Step 19900, Loss: 0.6776447296142578, True Positive : 99.0, True Negative : 72.0 %\n",
            "Epoch 2, Step 20000, Loss: 0.3473173677921295, True Positive : 97.0, True Negative : 86.0 %\n",
            "Epoch 2, Step 20100, Loss: 0.872772753238678, True Positive : 100.0, True Negative : 62.0 %\n",
            "Epoch 2, Step 20200, Loss: 0.4104626774787903, True Positive : 98.0, True Negative : 84.0 %\n",
            "Epoch 2, Step 20300, Loss: 0.6099686026573181, True Positive : 100.0, True Negative : 74.0 %\n",
            "Epoch 2, Step 20400, Loss: 0.37614908814430237, True Positive : 94.0, True Negative : 85.0 %\n",
            "Epoch 2, Step 20500, Loss: 0.7195595502853394, True Positive : 95.0, True Negative : 75.0 %\n",
            "Epoch 2, Step 20600, Loss: 0.5334724187850952, True Positive : 98.0, True Negative : 77.0 %\n",
            "Epoch 2, Step 20700, Loss: 0.46428585052490234, True Positive : 100.0, True Negative : 80.0 %\n",
            "Epoch 2, Step 20800, Loss: 0.396429181098938, True Positive : 100.0, True Negative : 85.0 %\n",
            "Epoch 2, Step 20900, Loss: 0.6360971927642822, True Positive : 96.0, True Negative : 75.0 %\n",
            "Epoch 2, Step 21000, Loss: 0.433978408575058, True Positive : 98.0, True Negative : 81.0 %\n",
            "Epoch 2, Step 21100, Loss: 0.7971881628036499, True Positive : 100.0, True Negative : 67.0 %\n",
            "Epoch 2, Step 21200, Loss: 0.4416629374027252, True Positive : 98.0, True Negative : 83.0 %\n",
            "Epoch 2, Step 21300, Loss: 0.4832107722759247, True Positive : 100.0, True Negative : 79.0 %\n",
            "Epoch 2, Step 21400, Loss: 0.46411237120628357, True Positive : 96.0, True Negative : 82.0 %\n"
          ],
          "name": "stdout"
        },
        {
          "output_type": "error",
          "ename": "KeyboardInterrupt",
          "evalue": "ignored",
          "traceback": [
            "\u001b[0;31m---------------------------------------------------------------------------\u001b[0m",
            "\u001b[0;31mKeyboardInterrupt\u001b[0m                         Traceback (most recent call last)",
            "\u001b[0;32m<ipython-input-17-5dde154dc1af>\u001b[0m in \u001b[0;36m<module>\u001b[0;34m()\u001b[0m\n\u001b[1;32m     22\u001b[0m         \u001b[0;31m# Backprop and perform optimisation\u001b[0m\u001b[0;34m\u001b[0m\u001b[0;34m\u001b[0m\u001b[0;34m\u001b[0m\u001b[0m\n\u001b[1;32m     23\u001b[0m         \u001b[0moptimizer\u001b[0m\u001b[0;34m.\u001b[0m\u001b[0mzero_grad\u001b[0m\u001b[0;34m(\u001b[0m\u001b[0;34m)\u001b[0m\u001b[0;34m\u001b[0m\u001b[0;34m\u001b[0m\u001b[0m\n\u001b[0;32m---> 24\u001b[0;31m         \u001b[0mloss\u001b[0m\u001b[0;34m.\u001b[0m\u001b[0mbackward\u001b[0m\u001b[0;34m(\u001b[0m\u001b[0;34m)\u001b[0m\u001b[0;34m\u001b[0m\u001b[0;34m\u001b[0m\u001b[0m\n\u001b[0m\u001b[1;32m     25\u001b[0m         \u001b[0moptimizer\u001b[0m\u001b[0;34m.\u001b[0m\u001b[0mstep\u001b[0m\u001b[0;34m(\u001b[0m\u001b[0;34m)\u001b[0m\u001b[0;34m\u001b[0m\u001b[0;34m\u001b[0m\u001b[0m\n\u001b[1;32m     26\u001b[0m \u001b[0;34m\u001b[0m\u001b[0m\n",
            "\u001b[0;32m/usr/local/lib/python3.6/dist-packages/torch/tensor.py\u001b[0m in \u001b[0;36mbackward\u001b[0;34m(self, gradient, retain_graph, create_graph)\u001b[0m\n\u001b[1;32m    219\u001b[0m                 \u001b[0mretain_graph\u001b[0m\u001b[0;34m=\u001b[0m\u001b[0mretain_graph\u001b[0m\u001b[0;34m,\u001b[0m\u001b[0;34m\u001b[0m\u001b[0;34m\u001b[0m\u001b[0m\n\u001b[1;32m    220\u001b[0m                 create_graph=create_graph)\n\u001b[0;32m--> 221\u001b[0;31m         \u001b[0mtorch\u001b[0m\u001b[0;34m.\u001b[0m\u001b[0mautograd\u001b[0m\u001b[0;34m.\u001b[0m\u001b[0mbackward\u001b[0m\u001b[0;34m(\u001b[0m\u001b[0mself\u001b[0m\u001b[0;34m,\u001b[0m \u001b[0mgradient\u001b[0m\u001b[0;34m,\u001b[0m \u001b[0mretain_graph\u001b[0m\u001b[0;34m,\u001b[0m \u001b[0mcreate_graph\u001b[0m\u001b[0;34m)\u001b[0m\u001b[0;34m\u001b[0m\u001b[0;34m\u001b[0m\u001b[0m\n\u001b[0m\u001b[1;32m    222\u001b[0m \u001b[0;34m\u001b[0m\u001b[0m\n\u001b[1;32m    223\u001b[0m     \u001b[0;32mdef\u001b[0m \u001b[0mregister_hook\u001b[0m\u001b[0;34m(\u001b[0m\u001b[0mself\u001b[0m\u001b[0;34m,\u001b[0m \u001b[0mhook\u001b[0m\u001b[0;34m)\u001b[0m\u001b[0;34m:\u001b[0m\u001b[0;34m\u001b[0m\u001b[0;34m\u001b[0m\u001b[0m\n",
            "\u001b[0;32m/usr/local/lib/python3.6/dist-packages/torch/autograd/__init__.py\u001b[0m in \u001b[0;36mbackward\u001b[0;34m(tensors, grad_tensors, retain_graph, create_graph, grad_variables)\u001b[0m\n\u001b[1;32m    130\u001b[0m     Variable._execution_engine.run_backward(\n\u001b[1;32m    131\u001b[0m         \u001b[0mtensors\u001b[0m\u001b[0;34m,\u001b[0m \u001b[0mgrad_tensors_\u001b[0m\u001b[0;34m,\u001b[0m \u001b[0mretain_graph\u001b[0m\u001b[0;34m,\u001b[0m \u001b[0mcreate_graph\u001b[0m\u001b[0;34m,\u001b[0m\u001b[0;34m\u001b[0m\u001b[0;34m\u001b[0m\u001b[0m\n\u001b[0;32m--> 132\u001b[0;31m         allow_unreachable=True)  # allow_unreachable flag\n\u001b[0m\u001b[1;32m    133\u001b[0m \u001b[0;34m\u001b[0m\u001b[0m\n\u001b[1;32m    134\u001b[0m \u001b[0;34m\u001b[0m\u001b[0m\n",
            "\u001b[0;31mKeyboardInterrupt\u001b[0m: "
          ]
        }
      ]
    },
    {
      "cell_type": "markdown",
      "metadata": {
        "id": "yecScZwrLlCE"
      },
      "source": [
        "## Testing"
      ]
    },
    {
      "cell_type": "code",
      "metadata": {
        "id": "SW_rr8zMLlCE"
      },
      "source": [
        "data_test = data_test.copy()\n",
        "data_test = data_test.dropna()\n",
        "data_test['lon_std'] = 0\n",
        "data_test['lat_std'] = 0\n",
        "data_test['step_speed_std'] = 0\n",
        "data_test['step_direction_cos'] = 0\n",
        "data_test['step_direction_sin'] = 0\n",
        "    \n",
        "for trip in data_test.trip.unique():\n",
        "    data_test.loc[data_test.trip == trip,'lon_std'] = standardize(data_test.loc[data_test.trip == trip,'lon'])\n",
        "    data_test.loc[data_test.trip == trip, 'lat_std'] = standardize(data_test.loc[data_test.trip == trip,'lat'])\n",
        "    data_test.loc[data_test.trip == trip,'step_speed_std'] = standardize_minmax(data_test.loc[data_test.trip == trip,'step_speed'])\n",
        "    data_test.loc[data_test.trip == trip,'step_direction_cos'] = np.cos(data_test.loc[data_test.trip == trip,'step_direction']* np.pi/180)\n",
        "    data_test.loc[data_test.trip == trip,'step_direction_sin'] = np.sin(data_test.loc[data_test.trip == trip,'step_direction']* np.pi/180)"
      ],
      "execution_count": 18,
      "outputs": []
    },
    {
      "cell_type": "code",
      "metadata": {
        "id": "o1ms-K1XLlCE",
        "outputId": "c487a1f5-13df-40e2-c0e7-873a02f99d48",
        "colab": {
          "base_uri": "https://localhost:8080/"
        }
      },
      "source": [
        "dive_real = []\n",
        "dive_estim = []\n",
        "\n",
        "for i in data_test.trip.unique():\n",
        "    # create dataset for a trajectory\n",
        "    t = data_test[data_test.trip == i].copy()    \n",
        "    test_set = TrajDataSet(t, window, variable, transform = transforms.Compose([Rescale(rescale), ToTensor()]))\n",
        "    test_set_part = [test_set[i] for i in range(len(test_set)) if i%rescale == 0]\n",
        "    \n",
        "    # Test the model\n",
        "    estim = np.zeros(int((len(t))/rescale))\n",
        "    nb = np.zeros(int((len(t))/rescale))\n",
        "\n",
        "    list_out = []\n",
        "    model.eval()\n",
        "    k = 0\n",
        "    with torch.no_grad():\n",
        "        for (x, y) in test_set_part:\n",
        "            # Run the forward pass\n",
        "            out = model(x.unsqueeze(0))\n",
        "            \n",
        "            estim[k:k + round(window/rescale)] += out.squeeze().numpy()\n",
        "            nb[k:k + round(window/rescale)] += 1\n",
        "            k+=1\n",
        "\n",
        "    \n",
        "    # remove extra lines\n",
        "    t = t.drop(t.tail(len(t)%rescale ).index)\n",
        "    real = np.array([np.max(t.dive[i:i+rescale]) for i in range(len(t)) if i%rescale == 0])\n",
        "    \n",
        "    # add to list by trajectory\n",
        "    dive_real.append(real)\n",
        "    dive_estim.append(estim/nb)\n",
        "    \n",
        "    \n",
        "    print(i)"
      ],
      "execution_count": 19,
      "outputs": [
        {
          "output_type": "stream",
          "text": [
            "P1108_46_SV_T2\n",
            "P1111_41_SV_T4\n",
            "P1111_52_SV_T2\n",
            "P1112_10_SV_T2\n",
            "P1112_15_SV_T2\n",
            "P1112_15_SV_T3\n",
            "P1112_20_SV_T2\n",
            "P1112_20_SV_T4\n",
            "P1112_22_SV_T2\n",
            "P1112_25_SV_T1\n",
            "P1112_26_SV_T2\n",
            "P1112_27_SV_T2\n",
            "P1112_29_SV_T1\n",
            "P1112_31_SV_T5\n",
            "P1112_9_SV_T1\n",
            "P1113_28_SV_T1\n",
            "P1113_29_SV_T2\n",
            "P1113_33_SV_T3\n",
            "P1113_33_SV_T4\n"
          ],
          "name": "stdout"
        }
      ]
    },
    {
      "cell_type": "code",
      "metadata": {
        "id": "u1sWjgLlLlCF"
      },
      "source": [
        "threshold = 0\n",
        "dive_plot = np.array([1*(estim[i]>threshold)  for i in range(len(estim)) for k in range(rescale) ])"
      ],
      "execution_count": 20,
      "outputs": []
    },
    {
      "cell_type": "code",
      "metadata": {
        "id": "xZvcAyB8LlCF",
        "outputId": "03f42299-b255-403a-b273-8625c3482a6e",
        "colab": {
          "base_uri": "https://localhost:8080/",
          "height": 338
        }
      },
      "source": [
        "plt.figure(figsize= (12, 5))\n",
        "plt.subplot(1, 2, 1)\n",
        "plt.plot(np.array(t.lon), np.array(t.lat))\n",
        "plt.scatter(t.lon[t.dive == 1], t.lat[t.dive == 1], c = 'orange')\n",
        "\n",
        "plt.subplot(1, 2, 2)\n",
        "plt.plot(np.array(t.lon), np.array(t.lat))\n",
        "plt.scatter(t.lon[dive_plot == 1], t.lat[dive_plot == 1], c = 'red')"
      ],
      "execution_count": 21,
      "outputs": [
        {
          "output_type": "execute_result",
          "data": {
            "text/plain": [
              "<matplotlib.collections.PathCollection at 0x7fb028812a20>"
            ]
          },
          "metadata": {
            "tags": []
          },
          "execution_count": 21
        },
        {
          "output_type": "display_data",
          "data": {
            "image/png": "[encoded data removed]",
            "text/plain": [
              "<Figure size 864x360 with 2 Axes>"
            ]
          },
          "metadata": {
            "tags": [],
            "needs_background": "light"
          }
        }
      ]
    },
    {
      "cell_type": "markdown",
      "metadata": {
        "id": "RrbKoV8ULlCF"
      },
      "source": [
        "# score"
      ]
    },
    {
      "cell_type": "code",
      "metadata": {
        "id": "NtCIrcPULlCF",
        "outputId": "e0937bac-5064-43f2-ded9-7ffb2204fdf1",
        "colab": {
          "base_uri": "https://localhost:8080/"
        }
      },
      "source": [
        "# globally\n",
        "all_real = 1* (np.hstack(dive_real)> 0)\n",
        "all_estim = 1* (np.hstack(dive_estim) > 0)\n",
        "\n",
        "true_positive = np.mean(all_estim[all_real == 1])\n",
        "true_negative = 1-np.mean(all_estim[all_real == 0])\n",
        "\n",
        "true_positive, true_negative"
      ],
      "execution_count": 22,
      "outputs": [
        {
          "output_type": "execute_result",
          "data": {
            "text/plain": [
              "(0.6778523489932886, 0.8402489626556017)"
            ]
          },
          "metadata": {
            "tags": []
          },
          "execution_count": 22
        }
      ]
    },
    {
      "cell_type": "code",
      "metadata": {
        "id": "TNDir8GcLlCG",
        "outputId": "2abf1b49-2418-4e4a-977e-16096f2a58fd",
        "colab": {
          "base_uri": "https://localhost:8080/",
          "height": 610
        }
      },
      "source": [
        "# for each trip\n",
        "fig, ax = plt.subplots()\n",
        "ax.set_xlim([0, 1])\n",
        "ax.set_ylim([0, 1])\n",
        "\n",
        "for i in range(len(dive_real)):\n",
        "    \n",
        "    real = 1*(dive_real[i]>0)\n",
        "    estim = 1*(dive_estim[i]>0)\n",
        "    \n",
        "    true_positive = np.mean(estim[real == 1])\n",
        "    true_negative = 1-np.mean(estim[real == 0])\n",
        "\n",
        "    ax.scatter(1-true_negative, true_positive, c = 'orange')\n",
        "    \n",
        "    print((true_positive, true_negative))"
      ],
      "execution_count": 23,
      "outputs": [
        {
          "output_type": "stream",
          "text": [
            "(0.7142857142857143, 0.9006211180124224)\n",
            "(1.0, 0.8282442748091603)\n",
            "(0.8, 0.9130434782608696)\n",
            "(0.5, 0.9073482428115016)\n",
            "(0.4473684210526316, 0.8297213622291022)\n",
            "(0.7241379310344828, 0.7916666666666666)\n",
            "(0.46153846153846156, 0.8997050147492626)\n",
            "(0.4, 0.836)\n",
            "(0.6666666666666666, 0.8375634517766497)\n",
            "(1.0, 0.7664670658682635)\n",
            "(0.75, 0.5900000000000001)\n",
            "(0.75, 0.7046413502109705)\n",
            "(1.0, 0.8347107438016529)\n",
            "(0.8333333333333334, 0.7321428571428572)\n",
            "(0.7241379310344828, 0.7888386123680241)\n",
            "(0.8571428571428571, 0.8447653429602888)\n",
            "(0.6923076923076923, 0.8923821039903265)\n",
            "(0.6818181818181818, 0.647887323943662)\n",
            "(0.6, 0.9202898550724637)\n"
          ],
          "name": "stdout"
        },
        {
          "output_type": "display_data",
          "data": {
            "image/png": "[encoded data removed]",
            "text/plain": [
              "<Figure size 432x288 with 1 Axes>"
            ]
          },
          "metadata": {
            "tags": [],
            "needs_background": "light"
          }
        }
      ]
    },
    {
      "cell_type": "markdown",
      "metadata": {
        "id": "4FLQbcx1LlCG"
      },
      "source": [
        "# ROC curve"
      ]
    },
    {
      "cell_type": "code",
      "metadata": {
        "id": "5cYRSoWyLlCG"
      },
      "source": [
        "# globally\n",
        "TP = []\n",
        "FP = []\n",
        "\n",
        "all_real = 1* (np.hstack(dive_real)> 0)    \n",
        "for tt in np.arange(-50, 50, 0.1):\n",
        "    all_estim = 1* (np.hstack(dive_estim) > tt)\n",
        "    true_positive = np.mean(all_estim[all_real == 1])\n",
        "    true_negative = 1-np.mean(all_estim[all_real == 0])\n",
        "    TP.append(true_positive)\n",
        "    FP.append(1-true_negative)"
      ],
      "execution_count": 26,
      "outputs": []
    },
    {
      "cell_type": "code",
      "metadata": {
        "scrolled": true,
        "id": "33SrgsZWLlCG",
        "outputId": "3a3cd8ab-edd3-42a6-b26b-e0cf68005264",
        "colab": {
          "base_uri": "https://localhost:8080/",
          "height": 283
        }
      },
      "source": [
        "plt.plot(np.array(FP), np.array(TP))"
      ],
      "execution_count": 27,
      "outputs": [
        {
          "output_type": "execute_result",
          "data": {
            "text/plain": [
              "[<matplotlib.lines.Line2D at 0x7fb0281adda0>]"
            ]
          },
          "metadata": {
            "tags": []
          },
          "execution_count": 27
        },
        {
          "output_type": "display_data",
          "data": {
            "image/png": "[encoded data removed]",
            "text/plain": [
              "<Figure size 432x288 with 1 Axes>"
            ]
          },
          "metadata": {
            "tags": [],
            "needs_background": "light"
          }
        }
      ]
    },
    {
      "cell_type": "code",
      "metadata": {
        "id": "nHvNO46jLlCG"
      },
      "source": [
        "data = {'model': 'network_timeseries',\n",
        "        'FP':  FP,\n",
        "        'TP': TP\n",
        "        }\n",
        "\n",
        "df = pd.DataFrame (data, columns = ['model','FP','TP'])\n",
        "\n",
        "df.to_csv('roc_network_timeseries.csv', index = False)\n",
        "# df.to_csv('./roc/roc_network_timeseries.csv', index = False)"
      ],
      "execution_count": 28,
      "outputs": []
    },
    {
      "cell_type": "code",
      "metadata": {
        "id": "JKU5XFkoLlCG"
      },
      "source": [
        ""
      ],
      "execution_count": null,
      "outputs": []
    }
  ]
}