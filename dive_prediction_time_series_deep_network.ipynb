{
  "nbformat": 4,
  "nbformat_minor": 0,
  "metadata": {
    "kernelspec": {
      "display_name": "Python 3",
      "language": "python",
      "name": "python3"
    },
    "language_info": {
      "codemirror_mode": {
        "name": "ipython",
        "version": 3
      },
      "file_extension": ".py",
      "mimetype": "text/x-python",
      "name": "python",
      "nbconvert_exporter": "python",
      "pygments_lexer": "ipython3",
      "version": "3.7.4"
    },
    "colab": {
      "name": "dive_prediction_time_series_deep_network.ipynb",
      "provenance": []
    }
  },
  "cells": [
    {
      "cell_type": "markdown",
      "metadata": {
        "id": "l0C-QfH4LlCB"
      },
      "source": [
        "# Dive Prediction - Time Series Deep Network\n",
        "\n",
        "*Predicting Seabird Diving Behaviour from GPS data*\n",
        "\n",
        "This notebook trains a neural network to predict seabirds' dives.\n",
        "\n",
        "Networks' characteristics:\n",
        "\n",
        "* *Trajectory window* : 600s\n",
        "* *Output resolution*: 60s\n",
        "* *Representation of trajectories* : Time Series\n",
        "* *Layers* : deep convolutions\n",
        "\n",
        "\n"
      ]
    },
    {
      "cell_type": "markdown",
      "metadata": {
        "id": "kjVXwurrGghM"
      },
      "source": [
        "## connect to drive"
      ]
    },
    {
      "cell_type": "code",
      "metadata": {
        "id": "cPOjT66sGf3Y",
        "colab": {
          "base_uri": "https://localhost:8080/"
        },
        "outputId": "b80982f4-7bd3-4181-d99f-14661929ddbd"
      },
      "source": [
        "# mount google drive\n",
        "from google.colab import drive\n",
        "drive.mount(\"/content/drive/\")"
      ],
      "execution_count": 1,
      "outputs": [
        {
          "output_type": "stream",
          "text": [
            "Mounted at /content/drive/\n"
          ],
          "name": "stdout"
        }
      ]
    },
    {
      "cell_type": "code",
      "metadata": {
        "id": "u2R6nZsEGp2v",
        "colab": {
          "base_uri": "https://localhost:8080/"
        },
        "outputId": "a182cc59-1bd3-4d20-9a99-6c765a794f5b"
      },
      "source": [
        "%cd drive/My\\ Drive/"
      ],
      "execution_count": 2,
      "outputs": [
        {
          "output_type": "stream",
          "text": [
            "/content/drive/My Drive\n"
          ],
          "name": "stdout"
        }
      ]
    },
    {
      "cell_type": "code",
      "metadata": {
        "id": "nPTCXkLdLlCC"
      },
      "source": [
        "import pandas as pd\n",
        "import numpy as np\n",
        "import matplotlib.pyplot as plt\n",
        "\n",
        "import torch\n",
        "from torch import nn\n",
        "from torch.utils.data import DataLoader, Dataset\n",
        "from torchvision import transforms\n",
        "\n",
        "from utils.trip import * "
      ],
      "execution_count": 3,
      "outputs": []
    },
    {
      "cell_type": "code",
      "metadata": {
        "id": "YPCxjcNuLlCC"
      },
      "source": [
        "data_train = pd.read_csv('./data/data_train.csv')\n",
        "data_validation = pd.read_csv('./data/data_validation.csv')\n",
        "data_test = pd.read_csv('./data/data_test.csv')"
      ],
      "execution_count": 6,
      "outputs": []
    },
    {
      "cell_type": "code",
      "metadata": {
        "id": "Zo9pKfxqLlCC"
      },
      "source": [
        "def standardize(var):\n",
        "    var = np.array(var)\n",
        "    return (var-np.mean(var))/np.std(var)\n",
        "\n",
        "def standardize_minmax(var):\n",
        "    var = np.array(var)\n",
        "    return (var-np.min(var))/(np.max(var) - np.min(var))"
      ],
      "execution_count": 7,
      "outputs": []
    },
    {
      "cell_type": "code",
      "metadata": {
        "id": "2iRzzkVULlCC",
        "outputId": "a88a2576-2d91-4495-e50e-b5414fe149f6",
        "colab": {
          "base_uri": "https://localhost:8080/",
          "height": 206
        }
      },
      "source": [
        "data_train = data_train.copy()\n",
        "data_train = data_train.dropna()\n",
        "data_train['lon_std'] = 0\n",
        "data_train['lat_std'] = 0\n",
        "data_train['step_speed_std'] = 0\n",
        "data_train['step_direction_cos'] = 0\n",
        "data_train['step_direction_sin'] = 0\n",
        "    \n",
        "for trip in data_train.trip.unique():\n",
        "    data_train.loc[data_train.trip == trip,'lon_std'] = standardize(data_train.loc[data_train.trip == trip,'lon'])\n",
        "    data_train.loc[data_train.trip == trip, 'lat_std'] = standardize(data_train.loc[data_train.trip == trip,'lat'])\n",
        "    data_train.loc[data_train.trip == trip,'step_speed_std'] = standardize_minmax(data_train.loc[data_train.trip == trip,'step_speed'])\n",
        "    data_train.loc[data_train.trip == trip,'step_direction_cos'] = np.cos(data_train.loc[data_train.trip == trip,'step_direction']* np.pi/180)\n",
        "    data_train.loc[data_train.trip == trip,'step_direction_sin'] = np.sin(data_train.loc[data_train.trip == trip,'step_direction']* np.pi/180)\n",
        "data_train.head()"
      ],
      "execution_count": 8,
      "outputs": [
        {
          "output_type": "execute_result",
          "data": {
            "text/html": [
              "<div>\n",
              "<style scoped>\n",
              "    .dataframe tbody tr th:only-of-type {\n",
              "        vertical-align: middle;\n",
              "    }\n",
              "\n",
              "    .dataframe tbody tr th {\n",
              "        vertical-align: top;\n",
              "    }\n",
              "\n",
              "    .dataframe thead th {\n",
              "        text-align: right;\n",
              "    }\n",
              "</style>\n",
              "<table border=\"1\" class=\"dataframe\">\n",
              "  <thead>\n",
              "    <tr style=\"text-align: right;\">\n",
              "      <th></th>\n",
              "      <th>trip</th>\n",
              "      <th>datetime</th>\n",
              "      <th>lon</th>\n",
              "      <th>lat</th>\n",
              "      <th>pressure</th>\n",
              "      <th>gaps</th>\n",
              "      <th>step_speed</th>\n",
              "      <th>step_direction</th>\n",
              "      <th>dive</th>\n",
              "      <th>lon_std</th>\n",
              "      <th>lat_std</th>\n",
              "      <th>step_speed_std</th>\n",
              "      <th>step_direction_cos</th>\n",
              "      <th>step_direction_sin</th>\n",
              "    </tr>\n",
              "  </thead>\n",
              "  <tbody>\n",
              "    <tr>\n",
              "      <th>2</th>\n",
              "      <td>P1108_46_SV_T1</td>\n",
              "      <td>2008-12-05 15:12:41</td>\n",
              "      <td>-77.262442</td>\n",
              "      <td>-11.773072</td>\n",
              "      <td>-0.26</td>\n",
              "      <td>False</td>\n",
              "      <td>7.224129</td>\n",
              "      <td>3.984122</td>\n",
              "      <td>0</td>\n",
              "      <td>1.452647</td>\n",
              "      <td>1.542331</td>\n",
              "      <td>0.246157</td>\n",
              "      <td>0.997583</td>\n",
              "      <td>0.069480</td>\n",
              "    </tr>\n",
              "    <tr>\n",
              "      <th>3</th>\n",
              "      <td>P1108_46_SV_T1</td>\n",
              "      <td>2008-12-05 15:12:42</td>\n",
              "      <td>-77.262447</td>\n",
              "      <td>-11.773147</td>\n",
              "      <td>-0.26</td>\n",
              "      <td>False</td>\n",
              "      <td>8.366185</td>\n",
              "      <td>13.285157</td>\n",
              "      <td>0</td>\n",
              "      <td>1.452565</td>\n",
              "      <td>1.541362</td>\n",
              "      <td>0.285681</td>\n",
              "      <td>0.973238</td>\n",
              "      <td>0.229798</td>\n",
              "    </tr>\n",
              "    <tr>\n",
              "      <th>4</th>\n",
              "      <td>P1108_46_SV_T1</td>\n",
              "      <td>2008-12-05 15:12:43</td>\n",
              "      <td>-77.262482</td>\n",
              "      <td>-11.773217</td>\n",
              "      <td>-0.22</td>\n",
              "      <td>False</td>\n",
              "      <td>8.675223</td>\n",
              "      <td>22.346828</td>\n",
              "      <td>0</td>\n",
              "      <td>1.451995</td>\n",
              "      <td>1.540458</td>\n",
              "      <td>0.296376</td>\n",
              "      <td>0.924899</td>\n",
              "      <td>0.380212</td>\n",
              "    </tr>\n",
              "    <tr>\n",
              "      <th>5</th>\n",
              "      <td>P1108_46_SV_T1</td>\n",
              "      <td>2008-12-05 15:12:44</td>\n",
              "      <td>-77.262517</td>\n",
              "      <td>-11.773293</td>\n",
              "      <td>-0.29</td>\n",
              "      <td>False</td>\n",
              "      <td>9.279737</td>\n",
              "      <td>-1.813227</td>\n",
              "      <td>0</td>\n",
              "      <td>1.451424</td>\n",
              "      <td>1.539476</td>\n",
              "      <td>0.317297</td>\n",
              "      <td>0.999499</td>\n",
              "      <td>-0.031641</td>\n",
              "    </tr>\n",
              "    <tr>\n",
              "      <th>6</th>\n",
              "      <td>P1108_46_SV_T1</td>\n",
              "      <td>2008-12-05 15:12:45</td>\n",
              "      <td>-77.262518</td>\n",
              "      <td>-11.773372</td>\n",
              "      <td>-0.19</td>\n",
              "      <td>False</td>\n",
              "      <td>8.794348</td>\n",
              "      <td>-23.557701</td>\n",
              "      <td>0</td>\n",
              "      <td>1.451408</td>\n",
              "      <td>1.538456</td>\n",
              "      <td>0.300499</td>\n",
              "      <td>0.916658</td>\n",
              "      <td>-0.399672</td>\n",
              "    </tr>\n",
              "  </tbody>\n",
              "</table>\n",
              "</div>"
            ],
            "text/plain": [
              "             trip             datetime  ...  step_direction_cos  step_direction_sin\n",
              "2  P1108_46_SV_T1  2008-12-05 15:12:41  ...            0.997583            0.069480\n",
              "3  P1108_46_SV_T1  2008-12-05 15:12:42  ...            0.973238            0.229798\n",
              "4  P1108_46_SV_T1  2008-12-05 15:12:43  ...            0.924899            0.380212\n",
              "5  P1108_46_SV_T1  2008-12-05 15:12:44  ...            0.999499           -0.031641\n",
              "6  P1108_46_SV_T1  2008-12-05 15:12:45  ...            0.916658           -0.399672\n",
              "\n",
              "[5 rows x 14 columns]"
            ]
          },
          "metadata": {
            "tags": []
          },
          "execution_count": 8
        }
      ]
    },
    {
      "cell_type": "code",
      "metadata": {
        "id": "Y0LSVSBQLlCC",
        "colab": {
          "base_uri": "https://localhost:8080/",
          "height": 206
        },
        "outputId": "880e6217-a57c-4f7f-c42c-45bbb4a19039"
      },
      "source": [
        "data_validation = data_validation.copy()\n",
        "data_validation = data_validation.dropna()\n",
        "data_validation['lon_std'] = 0\n",
        "data_validation['lat_std'] = 0\n",
        "data_validation['step_speed_std'] = 0\n",
        "data_validation['step_direction_cos'] = 0\n",
        "data_validation['step_direction_sin'] = 0\n",
        "    \n",
        "for trip in data_validation.trip.unique():\n",
        "    data_validation.loc[data_validation.trip == trip,'lon_std'] = standardize(data_validation.loc[data_validation.trip == trip,'lon'])\n",
        "    data_validation.loc[data_validation.trip == trip, 'lat_std'] = standardize(data_validation.loc[data_validation.trip == trip,'lat'])\n",
        "    data_validation.loc[data_validation.trip == trip,'step_speed_std'] = standardize_minmax(data_validation.loc[data_validation.trip == trip,'step_speed'])\n",
        "    data_validation.loc[data_validation.trip == trip,'step_direction_cos'] = np.cos(data_validation.loc[data_validation.trip == trip,'step_direction']* np.pi/180)\n",
        "    data_validation.loc[data_validation.trip == trip,'step_direction_sin'] = np.sin(data_validation.loc[data_validation.trip == trip,'step_direction']* np.pi/180)\n",
        "data_validation.head()"
      ],
      "execution_count": 9,
      "outputs": [
        {
          "output_type": "execute_result",
          "data": {
            "text/html": [
              "<div>\n",
              "<style scoped>\n",
              "    .dataframe tbody tr th:only-of-type {\n",
              "        vertical-align: middle;\n",
              "    }\n",
              "\n",
              "    .dataframe tbody tr th {\n",
              "        vertical-align: top;\n",
              "    }\n",
              "\n",
              "    .dataframe thead th {\n",
              "        text-align: right;\n",
              "    }\n",
              "</style>\n",
              "<table border=\"1\" class=\"dataframe\">\n",
              "  <thead>\n",
              "    <tr style=\"text-align: right;\">\n",
              "      <th></th>\n",
              "      <th>trip</th>\n",
              "      <th>datetime</th>\n",
              "      <th>lon</th>\n",
              "      <th>lat</th>\n",
              "      <th>pressure</th>\n",
              "      <th>gaps</th>\n",
              "      <th>step_speed</th>\n",
              "      <th>step_direction</th>\n",
              "      <th>dive</th>\n",
              "      <th>lon_std</th>\n",
              "      <th>lat_std</th>\n",
              "      <th>step_speed_std</th>\n",
              "      <th>step_direction_cos</th>\n",
              "      <th>step_direction_sin</th>\n",
              "    </tr>\n",
              "  </thead>\n",
              "  <tbody>\n",
              "    <tr>\n",
              "      <th>2</th>\n",
              "      <td>P1111_27_SV_T2</td>\n",
              "      <td>2011-11-20 18:50:58</td>\n",
              "      <td>-77.264490</td>\n",
              "      <td>-11.773268</td>\n",
              "      <td>-0.19</td>\n",
              "      <td>False</td>\n",
              "      <td>11.085434</td>\n",
              "      <td>0.000003</td>\n",
              "      <td>0</td>\n",
              "      <td>1.792706</td>\n",
              "      <td>-2.551831</td>\n",
              "      <td>0.334074</td>\n",
              "      <td>1.000000</td>\n",
              "      <td>5.213293e-08</td>\n",
              "    </tr>\n",
              "    <tr>\n",
              "      <th>3</th>\n",
              "      <td>P1111_27_SV_T2</td>\n",
              "      <td>2011-11-20 18:50:59</td>\n",
              "      <td>-77.264495</td>\n",
              "      <td>-11.773133</td>\n",
              "      <td>-0.13</td>\n",
              "      <td>True</td>\n",
              "      <td>15.037037</td>\n",
              "      <td>-10.555752</td>\n",
              "      <td>0</td>\n",
              "      <td>1.792384</td>\n",
              "      <td>-2.543389</td>\n",
              "      <td>0.453161</td>\n",
              "      <td>0.983077</td>\n",
              "      <td>-1.831922e-01</td>\n",
              "    </tr>\n",
              "    <tr>\n",
              "      <th>4</th>\n",
              "      <td>P1111_27_SV_T2</td>\n",
              "      <td>2011-11-20 18:51:00</td>\n",
              "      <td>-77.264500</td>\n",
              "      <td>-11.772998</td>\n",
              "      <td>-0.13</td>\n",
              "      <td>False</td>\n",
              "      <td>15.037037</td>\n",
              "      <td>-0.000001</td>\n",
              "      <td>0</td>\n",
              "      <td>1.792062</td>\n",
              "      <td>-2.534948</td>\n",
              "      <td>0.453161</td>\n",
              "      <td>1.000000</td>\n",
              "      <td>-1.787402e-08</td>\n",
              "    </tr>\n",
              "    <tr>\n",
              "      <th>5</th>\n",
              "      <td>P1111_27_SV_T2</td>\n",
              "      <td>2011-11-20 18:51:01</td>\n",
              "      <td>-77.264546</td>\n",
              "      <td>-11.772912</td>\n",
              "      <td>-0.13</td>\n",
              "      <td>True</td>\n",
              "      <td>10.855183</td>\n",
              "      <td>-25.425193</td>\n",
              "      <td>0</td>\n",
              "      <td>1.789099</td>\n",
              "      <td>-2.529539</td>\n",
              "      <td>0.327136</td>\n",
              "      <td>0.903147</td>\n",
              "      <td>-4.293323e-01</td>\n",
              "    </tr>\n",
              "    <tr>\n",
              "      <th>6</th>\n",
              "      <td>P1111_27_SV_T2</td>\n",
              "      <td>2011-11-20 18:51:02</td>\n",
              "      <td>-77.264592</td>\n",
              "      <td>-11.772825</td>\n",
              "      <td>-0.19</td>\n",
              "      <td>False</td>\n",
              "      <td>10.855184</td>\n",
              "      <td>-0.000007</td>\n",
              "      <td>0</td>\n",
              "      <td>1.786136</td>\n",
              "      <td>-2.524131</td>\n",
              "      <td>0.327136</td>\n",
              "      <td>1.000000</td>\n",
              "      <td>-1.287657e-07</td>\n",
              "    </tr>\n",
              "  </tbody>\n",
              "</table>\n",
              "</div>"
            ],
            "text/plain": [
              "             trip             datetime  ...  step_direction_cos  step_direction_sin\n",
              "2  P1111_27_SV_T2  2011-11-20 18:50:58  ...            1.000000        5.213293e-08\n",
              "3  P1111_27_SV_T2  2011-11-20 18:50:59  ...            0.983077       -1.831922e-01\n",
              "4  P1111_27_SV_T2  2011-11-20 18:51:00  ...            1.000000       -1.787402e-08\n",
              "5  P1111_27_SV_T2  2011-11-20 18:51:01  ...            0.903147       -4.293323e-01\n",
              "6  P1111_27_SV_T2  2011-11-20 18:51:02  ...            1.000000       -1.287657e-07\n",
              "\n",
              "[5 rows x 14 columns]"
            ]
          },
          "metadata": {
            "tags": []
          },
          "execution_count": 9
        }
      ]
    },
    {
      "cell_type": "code",
      "metadata": {
        "id": "XfmrJjVQz8oq",
        "outputId": "bdf848b7-22ad-48cb-8cd5-b4df3c23c94c",
        "colab": {
          "base_uri": "https://localhost:8080/",
          "height": 206
        }
      },
      "source": [
        "data_test = data_test.copy()\n",
        "data_test = data_test.dropna()\n",
        "data_test['lon_std'] = 0\n",
        "data_test['lat_std'] = 0\n",
        "data_test['step_speed_std'] = 0\n",
        "data_test['step_direction_cos'] = 0\n",
        "data_test['step_direction_sin'] = 0\n",
        "    \n",
        "for trip in data_test.trip.unique():\n",
        "    data_test.loc[data_test.trip == trip,'lon_std'] = standardize(data_test.loc[data_test.trip == trip,'lon'])\n",
        "    data_test.loc[data_test.trip == trip, 'lat_std'] = standardize(data_test.loc[data_test.trip == trip,'lat'])\n",
        "    data_test.loc[data_test.trip == trip,'step_speed_std'] = standardize_minmax(data_test.loc[data_test.trip == trip,'step_speed'])\n",
        "    data_test.loc[data_test.trip == trip,'step_direction_cos'] = np.cos(data_test.loc[data_test.trip == trip,'step_direction']* np.pi/180)\n",
        "    data_test.loc[data_test.trip == trip,'step_direction_sin'] = np.sin(data_test.loc[data_test.trip == trip,'step_direction']* np.pi/180)\n",
        "data_test.head()"
      ],
      "execution_count": 10,
      "outputs": [
        {
          "output_type": "execute_result",
          "data": {
            "text/html": [
              "<div>\n",
              "<style scoped>\n",
              "    .dataframe tbody tr th:only-of-type {\n",
              "        vertical-align: middle;\n",
              "    }\n",
              "\n",
              "    .dataframe tbody tr th {\n",
              "        vertical-align: top;\n",
              "    }\n",
              "\n",
              "    .dataframe thead th {\n",
              "        text-align: right;\n",
              "    }\n",
              "</style>\n",
              "<table border=\"1\" class=\"dataframe\">\n",
              "  <thead>\n",
              "    <tr style=\"text-align: right;\">\n",
              "      <th></th>\n",
              "      <th>trip</th>\n",
              "      <th>datetime</th>\n",
              "      <th>lon</th>\n",
              "      <th>lat</th>\n",
              "      <th>pressure</th>\n",
              "      <th>gaps</th>\n",
              "      <th>step_speed</th>\n",
              "      <th>step_direction</th>\n",
              "      <th>dive</th>\n",
              "      <th>lon_std</th>\n",
              "      <th>lat_std</th>\n",
              "      <th>step_speed_std</th>\n",
              "      <th>step_direction_cos</th>\n",
              "      <th>step_direction_sin</th>\n",
              "    </tr>\n",
              "  </thead>\n",
              "  <tbody>\n",
              "    <tr>\n",
              "      <th>2</th>\n",
              "      <td>P1108_46_SV_T2</td>\n",
              "      <td>2008-12-05 19:59:58</td>\n",
              "      <td>-77.262332</td>\n",
              "      <td>-11.772908</td>\n",
              "      <td>-0.32</td>\n",
              "      <td>False</td>\n",
              "      <td>9.238922</td>\n",
              "      <td>17.058089</td>\n",
              "      <td>0</td>\n",
              "      <td>1.996411</td>\n",
              "      <td>1.083039</td>\n",
              "      <td>0.200850</td>\n",
              "      <td>0.956008</td>\n",
              "      <td>0.293341</td>\n",
              "    </tr>\n",
              "    <tr>\n",
              "      <th>3</th>\n",
              "      <td>P1108_46_SV_T2</td>\n",
              "      <td>2008-12-05 19:59:59</td>\n",
              "      <td>-77.262348</td>\n",
              "      <td>-11.773007</td>\n",
              "      <td>-0.32</td>\n",
              "      <td>False</td>\n",
              "      <td>11.156995</td>\n",
              "      <td>8.990607</td>\n",
              "      <td>0</td>\n",
              "      <td>1.996158</td>\n",
              "      <td>1.079768</td>\n",
              "      <td>0.242548</td>\n",
              "      <td>0.987714</td>\n",
              "      <td>0.156273</td>\n",
              "    </tr>\n",
              "    <tr>\n",
              "      <th>4</th>\n",
              "      <td>P1108_46_SV_T2</td>\n",
              "      <td>2008-12-05 20:00:00</td>\n",
              "      <td>-77.262377</td>\n",
              "      <td>-11.773108</td>\n",
              "      <td>-0.32</td>\n",
              "      <td>False</td>\n",
              "      <td>11.678242</td>\n",
              "      <td>6.709459</td>\n",
              "      <td>0</td>\n",
              "      <td>1.995698</td>\n",
              "      <td>1.076431</td>\n",
              "      <td>0.253880</td>\n",
              "      <td>0.993151</td>\n",
              "      <td>0.116835</td>\n",
              "    </tr>\n",
              "    <tr>\n",
              "      <th>5</th>\n",
              "      <td>P1108_46_SV_T2</td>\n",
              "      <td>2008-12-05 20:00:01</td>\n",
              "      <td>-77.262392</td>\n",
              "      <td>-11.773183</td>\n",
              "      <td>-0.32</td>\n",
              "      <td>False</td>\n",
              "      <td>8.506936</td>\n",
              "      <td>-4.622112</td>\n",
              "      <td>0</td>\n",
              "      <td>1.995461</td>\n",
              "      <td>1.073953</td>\n",
              "      <td>0.184937</td>\n",
              "      <td>0.996748</td>\n",
              "      <td>-0.080584</td>\n",
              "    </tr>\n",
              "    <tr>\n",
              "      <th>6</th>\n",
              "      <td>P1108_46_SV_T2</td>\n",
              "      <td>2008-12-05 20:00:02</td>\n",
              "      <td>-77.262415</td>\n",
              "      <td>-11.773247</td>\n",
              "      <td>-0.35</td>\n",
              "      <td>False</td>\n",
              "      <td>7.552011</td>\n",
              "      <td>8.304674</td>\n",
              "      <td>0</td>\n",
              "      <td>1.995096</td>\n",
              "      <td>1.071838</td>\n",
              "      <td>0.164178</td>\n",
              "      <td>0.989514</td>\n",
              "      <td>0.144437</td>\n",
              "    </tr>\n",
              "  </tbody>\n",
              "</table>\n",
              "</div>"
            ],
            "text/plain": [
              "             trip             datetime  ...  step_direction_cos  step_direction_sin\n",
              "2  P1108_46_SV_T2  2008-12-05 19:59:58  ...            0.956008            0.293341\n",
              "3  P1108_46_SV_T2  2008-12-05 19:59:59  ...            0.987714            0.156273\n",
              "4  P1108_46_SV_T2  2008-12-05 20:00:00  ...            0.993151            0.116835\n",
              "5  P1108_46_SV_T2  2008-12-05 20:00:01  ...            0.996748           -0.080584\n",
              "6  P1108_46_SV_T2  2008-12-05 20:00:02  ...            0.989514            0.144437\n",
              "\n",
              "[5 rows x 14 columns]"
            ]
          },
          "metadata": {
            "tags": []
          },
          "execution_count": 10
        }
      ]
    },
    {
      "cell_type": "markdown",
      "metadata": {
        "id": "GIP6-H4JLlCD"
      },
      "source": [
        "# Neural Network"
      ]
    },
    {
      "cell_type": "code",
      "metadata": {
        "id": "3JkDG3IbLlCD"
      },
      "source": [
        "# hyperparameters\n",
        "batch_size = 16\n",
        "learning_rate = 0.01\n",
        "variable = ('lon_std', 'lat_std', 'step_speed_std', 'step_direction_cos', 'step_direction_sin')\n",
        "window = 600\n",
        "rescale = 10\n",
        "\n",
        "train_set = TrajDataSet(data_train, window, variable, transform = transforms.Compose([Rescale(rescale), ToTensor()]))\n",
        "train_loader = DataLoader(train_set, batch_size=batch_size, num_workers = 0, shuffle = True, drop_last=True)\n",
        "\n",
        "validation_set = TrajDataSet(data_validation, window, variable, transform = transforms.Compose([Rescale(rescale), ToTensor()]))\n",
        "validation_loader = DataLoader(validation_set, batch_size=batch_size, num_workers = 0, shuffle = True, drop_last=True)"
      ],
      "execution_count": 15,
      "outputs": []
    },
    {
      "cell_type": "code",
      "metadata": {
        "id": "zK0f7AEsLlCD"
      },
      "source": [
        "class ConvNet(nn.Module):\n",
        "    def __init__(self):\n",
        "        super(ConvNet, self).__init__()\n",
        "        \n",
        "        self.cnn_input_1 = nn.Sequential(\n",
        "            nn.Conv1d(5, 8, kernel_size = 11, stride = 1, padding = 5, dilation = 1),\n",
        "            nn.ReLU(),\n",
        "            nn.Conv1d(8, 8, kernel_size = 11, stride = 1, padding = 5, dilation = 1),\n",
        "            nn.ReLU()\n",
        "        )\n",
        "\n",
        "        self.pooling_1 = nn.Sequential(\n",
        "            nn.MaxPool1d(kernel_size = 11, stride = 2, padding = 5, dilation = 1)\n",
        "        )\n",
        "\n",
        "        self.cnn_input_2 = nn.Sequential(\n",
        "            nn.Conv1d(8, 16, kernel_size = 11, stride = 1, padding = 5, dilation = 1),\n",
        "            nn.ReLU(),\n",
        "            nn.Conv1d(16, 16, kernel_size = 11, stride = 1, padding = 5, dilation = 1),\n",
        "            nn.ReLU()\n",
        "        )\n",
        "\n",
        "        self.pooling_2 = nn.Sequential(\n",
        "            nn.MaxPool1d(kernel_size = 11, stride = 2, padding = 5, dilation = 1)\n",
        "        )\n",
        "\n",
        "        self.cnn_input_3 = nn.Sequential(\n",
        "            nn.Conv1d(16, 32, kernel_size = 11, stride = 1, padding = 5, dilation = 1),\n",
        "            nn.ReLU(),\n",
        "            nn.Conv1d(32, 32, kernel_size = 11, stride = 1, padding = 5, dilation = 1),\n",
        "            nn.ReLU()\n",
        "        )\n",
        "\n",
        "        self.pooling_3 = nn.Sequential(\n",
        "            nn.MaxPool1d(kernel_size = 11, stride = 2, padding = 5, dilation = 4)\n",
        "        )\n",
        "\n",
        "        self.cnn_4 = nn.Sequential(\n",
        "            nn.Conv1d(32, 16, kernel_size = 11, stride = 1, padding = 5, dilation = 1),\n",
        "            nn.ReLU(),\n",
        "            nn.Conv1d(16, 8, kernel_size = 11, stride = 1, padding = 5, dilation = 1),\n",
        "            nn.ReLU(),\n",
        "            nn.Conv1d(8, 1, kernel_size = 11, stride = 1, padding = 5, dilation = 1)\n",
        "        )\n",
        "\n",
        "                \n",
        "    def forward(self, x):\n",
        "        out = x.squeeze(1)\n",
        "        out = self.cnn_input_1(out)\n",
        "        out = self.pooling_1(out)\n",
        "        out = self.cnn_input_2(out)\n",
        "        out = self.pooling_2(out)\n",
        "        out = self.cnn_input_3(out)\n",
        "        out = self.pooling_3(out)\n",
        "        out = self.cnn_4(out)\n",
        "\n",
        "        return out\n",
        "    \n",
        "def get_score(out, y):\n",
        "    out = 1*(out>0)\n",
        "    true_positive = np.mean(out[y == True].numpy()) \n",
        "    true_negative = 1-np.mean(out[y == False].numpy())\n",
        "    \n",
        "    return (round(true_positive*100) , round(true_negative*100))\n",
        "#     return (true_positive.detach().numpy().item() , true_negative.detach().numpy().item())"
      ],
      "execution_count": 16,
      "outputs": []
    },
    {
      "cell_type": "code",
      "metadata": {
        "id": "Lt33oHwiLlCD",
        "colab": {
          "base_uri": "https://localhost:8080/"
        },
        "outputId": "43ebd38a-a035-4609-9f60-4d4ece1da951"
      },
      "source": [
        "# get sample\n",
        "x, y = next(iter(train_loader)) \n",
        "\n",
        "# Forward model\n",
        "model = ConvNet()\n",
        "out = model(x)\n",
        "\n",
        "# Loss and score\n",
        "optimizer = torch.optim.Adam(model.parameters(), lr=learning_rate)\n",
        "criterion = nn.BCEWithLogitsLoss(pos_weight = torch.FloatTensor([15]))\n",
        "criterion(out, y)\n",
        "get_score(out, y)"
      ],
      "execution_count": 17,
      "outputs": [
        {
          "output_type": "execute_result",
          "data": {
            "text/plain": [
              "(85.0, 19.0)"
            ]
          },
          "metadata": {
            "tags": []
          },
          "execution_count": 17
        }
      ]
    },
    {
      "cell_type": "markdown",
      "metadata": {
        "id": "0TgPVDIiLlCD"
      },
      "source": [
        "## Training"
      ]
    },
    {
      "cell_type": "code",
      "metadata": {
        "id": "vxyfYiWCLlCD"
      },
      "source": [
        "# # switch to GPU\n",
        "# device = torch.device('cuda' if torch.cuda.is_available() else 'cpu')\n",
        "# model.to(device)"
      ],
      "execution_count": 18,
      "outputs": []
    },
    {
      "cell_type": "code",
      "metadata": {
        "scrolled": true,
        "id": "x68uT4pHLlCE",
        "colab": {
          "base_uri": "https://localhost:8080/"
        },
        "outputId": "7539da04-cf2b-49f6-d83e-0c7982ecad68"
      },
      "source": [
        "# Train the model\n",
        "nb_epoch = 3\n",
        "weight = torch.FloatTensor([15])\n",
        "learning_rate = 0.01\n",
        "\n",
        "list_loss_train = []\n",
        "list_score_train = []\n",
        "\n",
        "list_loss_validation = []\n",
        "list_score_validation = []\n",
        "\n",
        "\n",
        "for epoch in range(nb_epoch):\n",
        "    learning_rate /= 10\n",
        "    optimizer = torch.optim.Adam(model.parameters(), lr=learning_rate)\n",
        "    i = 0\n",
        "    for batch, (x, y) in enumerate(train_loader):\n",
        "        i+=1\n",
        "    #     # send to GPU\n",
        "    #     x, y = x.to(device), y.to(device)\n",
        "\n",
        "        # Run the forward pass\n",
        "        out = model(x)\n",
        "        loss = criterion(out, y)\n",
        "\n",
        "        # Backprop and perform optimisation\n",
        "        optimizer.zero_grad()\n",
        "        loss.backward()\n",
        "        optimizer.step()\n",
        "\n",
        "        score = get_score(out,y)\n",
        "        list_loss_train.append(loss.item())\n",
        "        list_score_train.append(score)\n",
        "\n",
        "        if (i + 1) % 100 == 0:\n",
        "            print('Epoch [{}/{}], Step [{}/{}], Batch Loss: {}, Batch True Positive : {}, Batch True Negative : {} %'\n",
        "                    .format(epoch+1, nb_epoch, i + 1, len(train_loader), loss.item(), score[0], score[1]))\n",
        "            \n",
        "            \n",
        "    ### - Validation every epoch\n",
        "    model.eval()\n",
        "    with torch.no_grad():\n",
        "        j = 0\n",
        "        for batch, (x, y) in enumerate(validation_loader):\n",
        "            j+= 1\n",
        "            # Run the forward pass\n",
        "            out = model(x)\n",
        "            loss = criterion(out, y)\n",
        "            score = get_score(out,y)\n",
        "            list_loss_validation.append(loss.item())\n",
        "            list_score_validation.append(score)\n",
        "\n",
        "\n",
        "    global_loss = np.mean(list_loss_validation)\n",
        "    global_trueP = np.mean([tp for (tp, tn) in list_score_validation])\n",
        "    global_trueN = np.mean([tn for (tp, tn) in list_score_validation])\n",
        "\n",
        "    print('Validation -------------------------------------------------------------------------------------')\n",
        "    print('Epoch [{}/{}], Validation Loss: {}, Validation True Positive : {}, Validation True Negative : {} %'\n",
        "            .format(epoch+1, nb_epoch, global_loss, global_trueP, global_trueN))\n",
        "    print('------------------------------------------------------------------------------------------------')\n",
        "    model.train()"
      ],
      "execution_count": 19,
      "outputs": [
        {
          "output_type": "stream",
          "text": [
            "Epoch [1/3], Step [100/8824], Batch Loss: 1.0227996110916138, Batch True Positive : 61.0, Batch True Negative : 81.0 %\n",
            "Epoch [1/3], Step [200/8824], Batch Loss: 0.563408613204956, Batch True Positive : 97.0, Batch True Negative : 71.0 %\n",
            "Epoch [1/3], Step [300/8824], Batch Loss: 0.696409285068512, Batch True Positive : 91.0, Batch True Negative : 60.0 %\n",
            "Epoch [1/3], Step [400/8824], Batch Loss: 0.6768596768379211, Batch True Positive : 94.0, Batch True Negative : 67.0 %\n",
            "Epoch [1/3], Step [500/8824], Batch Loss: 0.5811861157417297, Batch True Positive : 100.0, Batch True Negative : 65.0 %\n",
            "Epoch [1/3], Step [600/8824], Batch Loss: 0.6963382363319397, Batch True Positive : 78.0, Batch True Negative : 76.0 %\n",
            "Epoch [1/3], Step [700/8824], Batch Loss: 0.4558239281177521, Batch True Positive : 94.0, Batch True Negative : 81.0 %\n",
            "Epoch [1/3], Step [800/8824], Batch Loss: 0.7489181756973267, Batch True Positive : 92.0, Batch True Negative : 68.0 %\n",
            "Epoch [1/3], Step [900/8824], Batch Loss: 0.8315140008926392, Batch True Positive : 100.0, Batch True Negative : 51.0 %\n",
            "Epoch [1/3], Step [1000/8824], Batch Loss: 0.8490425944328308, Batch True Positive : 94.0, Batch True Negative : 66.0 %\n",
            "Epoch [1/3], Step [1100/8824], Batch Loss: 0.8549234867095947, Batch True Positive : 94.0, Batch True Negative : 60.0 %\n",
            "Epoch [1/3], Step [1200/8824], Batch Loss: 0.6379648447036743, Batch True Positive : 100.0, Batch True Negative : 66.0 %\n",
            "Epoch [1/3], Step [1300/8824], Batch Loss: 0.410688579082489, Batch True Positive : 97.0, Batch True Negative : 85.0 %\n",
            "Epoch [1/3], Step [1400/8824], Batch Loss: 0.4968772232532501, Batch True Positive : 91.0, Batch True Negative : 80.0 %\n",
            "Epoch [1/3], Step [1500/8824], Batch Loss: 0.3647500276565552, Batch True Positive : 73.0, Batch True Negative : 88.0 %\n",
            "Epoch [1/3], Step [1600/8824], Batch Loss: 0.37682411074638367, Batch True Positive : 83.0, Batch True Negative : 86.0 %\n",
            "Epoch [1/3], Step [1700/8824], Batch Loss: 0.5873754024505615, Batch True Positive : 100.0, Batch True Negative : 72.0 %\n",
            "Epoch [1/3], Step [1800/8824], Batch Loss: 0.5812278985977173, Batch True Positive : 100.0, Batch True Negative : 71.0 %\n",
            "Epoch [1/3], Step [1900/8824], Batch Loss: 0.6277352571487427, Batch True Positive : 89.0, Batch True Negative : 74.0 %\n",
            "Epoch [1/3], Step [2000/8824], Batch Loss: 0.8181753158569336, Batch True Positive : 96.0, Batch True Negative : 65.0 %\n",
            "Epoch [1/3], Step [2100/8824], Batch Loss: 0.5649051666259766, Batch True Positive : 95.0, Batch True Negative : 76.0 %\n",
            "Epoch [1/3], Step [2200/8824], Batch Loss: 0.7314656972885132, Batch True Positive : 100.0, Batch True Negative : 66.0 %\n",
            "Epoch [1/3], Step [2300/8824], Batch Loss: 0.8728557229042053, Batch True Positive : 98.0, Batch True Negative : 58.0 %\n",
            "Epoch [1/3], Step [2400/8824], Batch Loss: 0.48109880089759827, Batch True Positive : 91.0, Batch True Negative : 83.0 %\n",
            "Epoch [1/3], Step [2500/8824], Batch Loss: 0.7247997522354126, Batch True Positive : 98.0, Batch True Negative : 65.0 %\n",
            "Epoch [1/3], Step [2600/8824], Batch Loss: 0.5464296340942383, Batch True Positive : 95.0, Batch True Negative : 76.0 %\n",
            "Epoch [1/3], Step [2700/8824], Batch Loss: 0.828975260257721, Batch True Positive : 99.0, Batch True Negative : 64.0 %\n",
            "Epoch [1/3], Step [2800/8824], Batch Loss: 0.3946332335472107, Batch True Positive : 93.0, Batch True Negative : 83.0 %\n",
            "Epoch [1/3], Step [2900/8824], Batch Loss: 0.47922590374946594, Batch True Positive : 100.0, Batch True Negative : 77.0 %\n",
            "Epoch [1/3], Step [3000/8824], Batch Loss: 0.6571239829063416, Batch True Positive : 95.0, Batch True Negative : 71.0 %\n",
            "Epoch [1/3], Step [3100/8824], Batch Loss: 0.46130192279815674, Batch True Positive : 100.0, Batch True Negative : 78.0 %\n",
            "Epoch [1/3], Step [3200/8824], Batch Loss: 0.808944582939148, Batch True Positive : 97.0, Batch True Negative : 64.0 %\n",
            "Epoch [1/3], Step [3300/8824], Batch Loss: 0.5521079897880554, Batch True Positive : 98.0, Batch True Negative : 75.0 %\n",
            "Epoch [1/3], Step [3400/8824], Batch Loss: 0.47055885195732117, Batch True Positive : 100.0, Batch True Negative : 76.0 %\n",
            "Epoch [1/3], Step [3500/8824], Batch Loss: 0.4122013747692108, Batch True Positive : 90.0, Batch True Negative : 86.0 %\n",
            "Epoch [1/3], Step [3600/8824], Batch Loss: 0.6352828145027161, Batch True Positive : 98.0, Batch True Negative : 71.0 %\n",
            "Epoch [1/3], Step [3700/8824], Batch Loss: 0.5220344066619873, Batch True Positive : 94.0, Batch True Negative : 74.0 %\n",
            "Epoch [1/3], Step [3800/8824], Batch Loss: 0.5432437658309937, Batch True Positive : 91.0, Batch True Negative : 80.0 %\n",
            "Epoch [1/3], Step [3900/8824], Batch Loss: 0.8614827394485474, Batch True Positive : 99.0, Batch True Negative : 61.0 %\n",
            "Epoch [1/3], Step [4000/8824], Batch Loss: 0.4949132800102234, Batch True Positive : 95.0, Batch True Negative : 79.0 %\n",
            "Epoch [1/3], Step [4100/8824], Batch Loss: 0.5636862516403198, Batch True Positive : 93.0, Batch True Negative : 77.0 %\n",
            "Epoch [1/3], Step [4200/8824], Batch Loss: 0.3977877199649811, Batch True Positive : 92.0, Batch True Negative : 81.0 %\n",
            "Epoch [1/3], Step [4300/8824], Batch Loss: 0.5911142230033875, Batch True Positive : 94.0, Batch True Negative : 76.0 %\n",
            "Epoch [1/3], Step [4400/8824], Batch Loss: 0.623461902141571, Batch True Positive : 100.0, Batch True Negative : 71.0 %\n",
            "Epoch [1/3], Step [4500/8824], Batch Loss: 0.5187853574752808, Batch True Positive : 100.0, Batch True Negative : 75.0 %\n",
            "Epoch [1/3], Step [4600/8824], Batch Loss: 0.3807004392147064, Batch True Positive : 90.0, Batch True Negative : 83.0 %\n",
            "Epoch [1/3], Step [4700/8824], Batch Loss: 0.2580793797969818, Batch True Positive : 86.0, Batch True Negative : 89.0 %\n",
            "Epoch [1/3], Step [4800/8824], Batch Loss: 0.5906328558921814, Batch True Positive : 98.0, Batch True Negative : 74.0 %\n",
            "Epoch [1/3], Step [4900/8824], Batch Loss: 0.623589813709259, Batch True Positive : 98.0, Batch True Negative : 70.0 %\n",
            "Epoch [1/3], Step [5000/8824], Batch Loss: 0.7477153539657593, Batch True Positive : 96.0, Batch True Negative : 73.0 %\n",
            "Epoch [1/3], Step [5100/8824], Batch Loss: 0.4795612096786499, Batch True Positive : 97.0, Batch True Negative : 79.0 %\n",
            "Epoch [1/3], Step [5200/8824], Batch Loss: 0.49336254596710205, Batch True Positive : 92.0, Batch True Negative : 79.0 %\n",
            "Epoch [1/3], Step [5300/8824], Batch Loss: 0.27376043796539307, Batch True Positive : 89.0, Batch True Negative : 90.0 %\n",
            "Epoch [1/3], Step [5400/8824], Batch Loss: 0.66841721534729, Batch True Positive : 94.0, Batch True Negative : 72.0 %\n",
            "Epoch [1/3], Step [5500/8824], Batch Loss: 0.9501217603683472, Batch True Positive : 99.0, Batch True Negative : 57.0 %\n",
            "Epoch [1/3], Step [5600/8824], Batch Loss: 0.7791789770126343, Batch True Positive : 93.0, Batch True Negative : 69.0 %\n",
            "Epoch [1/3], Step [5700/8824], Batch Loss: 0.5614092946052551, Batch True Positive : 94.0, Batch True Negative : 74.0 %\n",
            "Epoch [1/3], Step [5800/8824], Batch Loss: 0.43218937516212463, Batch True Positive : 97.0, Batch True Negative : 82.0 %\n",
            "Epoch [1/3], Step [5900/8824], Batch Loss: 0.6377822160720825, Batch True Positive : 100.0, Batch True Negative : 72.0 %\n",
            "Epoch [1/3], Step [6000/8824], Batch Loss: 0.663665771484375, Batch True Positive : 96.0, Batch True Negative : 70.0 %\n",
            "Epoch [1/3], Step [6100/8824], Batch Loss: 0.3272046446800232, Batch True Positive : 100.0, Batch True Negative : 84.0 %\n",
            "Epoch [1/3], Step [6200/8824], Batch Loss: 0.3162201941013336, Batch True Positive : 100.0, Batch True Negative : 87.0 %\n",
            "Epoch [1/3], Step [6300/8824], Batch Loss: 0.5278241634368896, Batch True Positive : 100.0, Batch True Negative : 76.0 %\n",
            "Epoch [1/3], Step [6400/8824], Batch Loss: 0.5700036287307739, Batch True Positive : 96.0, Batch True Negative : 76.0 %\n",
            "Epoch [1/3], Step [6500/8824], Batch Loss: 0.5461537837982178, Batch True Positive : 100.0, Batch True Negative : 74.0 %\n",
            "Epoch [1/3], Step [6600/8824], Batch Loss: 0.5572986602783203, Batch True Positive : 96.0, Batch True Negative : 77.0 %\n",
            "Epoch [1/3], Step [6700/8824], Batch Loss: 0.49471914768218994, Batch True Positive : 97.0, Batch True Negative : 77.0 %\n",
            "Epoch [1/3], Step [6800/8824], Batch Loss: 0.41597068309783936, Batch True Positive : 100.0, Batch True Negative : 81.0 %\n",
            "Epoch [1/3], Step [6900/8824], Batch Loss: 0.41183197498321533, Batch True Positive : 97.0, Batch True Negative : 83.0 %\n",
            "Epoch [1/3], Step [7000/8824], Batch Loss: 0.7360191345214844, Batch True Positive : 98.0, Batch True Negative : 68.0 %\n",
            "Epoch [1/3], Step [7100/8824], Batch Loss: 0.3424934446811676, Batch True Positive : 100.0, Batch True Negative : 84.0 %\n",
            "Epoch [1/3], Step [7200/8824], Batch Loss: 0.5495283007621765, Batch True Positive : 98.0, Batch True Negative : 77.0 %\n",
            "Epoch [1/3], Step [7300/8824], Batch Loss: 0.6056421995162964, Batch True Positive : 94.0, Batch True Negative : 75.0 %\n",
            "Epoch [1/3], Step [7400/8824], Batch Loss: 0.6150351762771606, Batch True Positive : 88.0, Batch True Negative : 77.0 %\n",
            "Epoch [1/3], Step [7500/8824], Batch Loss: 0.5915318131446838, Batch True Positive : 100.0, Batch True Negative : 74.0 %\n",
            "Epoch [1/3], Step [7600/8824], Batch Loss: 0.6913288235664368, Batch True Positive : 93.0, Batch True Negative : 73.0 %\n",
            "Epoch [1/3], Step [7700/8824], Batch Loss: 0.7250170111656189, Batch True Positive : 91.0, Batch True Negative : 70.0 %\n",
            "Epoch [1/3], Step [7800/8824], Batch Loss: 0.353024423122406, Batch True Positive : 96.0, Batch True Negative : 83.0 %\n",
            "Epoch [1/3], Step [7900/8824], Batch Loss: 0.550646185874939, Batch True Positive : 94.0, Batch True Negative : 77.0 %\n",
            "Epoch [1/3], Step [8000/8824], Batch Loss: 0.5360908508300781, Batch True Positive : 100.0, Batch True Negative : 76.0 %\n",
            "Epoch [1/3], Step [8100/8824], Batch Loss: 0.47063693404197693, Batch True Positive : 100.0, Batch True Negative : 77.0 %\n",
            "Epoch [1/3], Step [8200/8824], Batch Loss: 0.5679587721824646, Batch True Positive : 100.0, Batch True Negative : 76.0 %\n",
            "Epoch [1/3], Step [8300/8824], Batch Loss: 0.42437461018562317, Batch True Positive : 92.0, Batch True Negative : 85.0 %\n",
            "Epoch [1/3], Step [8400/8824], Batch Loss: 0.5440937876701355, Batch True Positive : 93.0, Batch True Negative : 77.0 %\n",
            "Epoch [1/3], Step [8500/8824], Batch Loss: 0.25874361395835876, Batch True Positive : 92.0, Batch True Negative : 90.0 %\n",
            "Epoch [1/3], Step [8600/8824], Batch Loss: 0.6194700598716736, Batch True Positive : 100.0, Batch True Negative : 72.0 %\n",
            "Epoch [1/3], Step [8700/8824], Batch Loss: 0.4688277840614319, Batch True Positive : 97.0, Batch True Negative : 80.0 %\n",
            "Epoch [1/3], Step [8800/8824], Batch Loss: 0.4983573853969574, Batch True Positive : 100.0, Batch True Negative : 79.0 %\n",
            "Validation -------------------------------------------------------------------------------------\n",
            "Epoch [1/3], Validation Loss: 1.0381688105472915, Validation True Positive : 82.2017130620985, Validation True Negative : 74.79443254817987 %\n",
            "------------------------------------------------------------------------------------------------\n",
            "Epoch [2/3], Step [100/8824], Batch Loss: 0.3840480446815491, Batch True Positive : 90.0, Batch True Negative : 86.0 %\n",
            "Epoch [2/3], Step [200/8824], Batch Loss: 0.4282316267490387, Batch True Positive : 95.0, Batch True Negative : 84.0 %\n",
            "Epoch [2/3], Step [300/8824], Batch Loss: 0.36701706051826477, Batch True Positive : 97.0, Batch True Negative : 84.0 %\n",
            "Epoch [2/3], Step [400/8824], Batch Loss: 0.49236342310905457, Batch True Positive : 96.0, Batch True Negative : 81.0 %\n",
            "Epoch [2/3], Step [500/8824], Batch Loss: 0.4602642059326172, Batch True Positive : 97.0, Batch True Negative : 81.0 %\n",
            "Epoch [2/3], Step [600/8824], Batch Loss: 0.4707600474357605, Batch True Positive : 95.0, Batch True Negative : 82.0 %\n",
            "Epoch [2/3], Step [700/8824], Batch Loss: 0.730627715587616, Batch True Positive : 95.0, Batch True Negative : 69.0 %\n",
            "Epoch [2/3], Step [800/8824], Batch Loss: 0.48703956604003906, Batch True Positive : 100.0, Batch True Negative : 80.0 %\n",
            "Epoch [2/3], Step [900/8824], Batch Loss: 0.49539825320243835, Batch True Positive : 92.0, Batch True Negative : 78.0 %\n",
            "Epoch [2/3], Step [1000/8824], Batch Loss: 0.42103201150894165, Batch True Positive : 100.0, Batch True Negative : 82.0 %\n",
            "Epoch [2/3], Step [1100/8824], Batch Loss: 0.22355906665325165, Batch True Positive : 89.0, Batch True Negative : 92.0 %\n",
            "Epoch [2/3], Step [1200/8824], Batch Loss: 0.7169262766838074, Batch True Positive : 97.0, Batch True Negative : 70.0 %\n",
            "Epoch [2/3], Step [1300/8824], Batch Loss: 0.8947513103485107, Batch True Positive : 99.0, Batch True Negative : 60.0 %\n",
            "Epoch [2/3], Step [1400/8824], Batch Loss: 0.7496858239173889, Batch True Positive : 96.0, Batch True Negative : 72.0 %\n",
            "Epoch [2/3], Step [1500/8824], Batch Loss: 0.4322287142276764, Batch True Positive : 92.0, Batch True Negative : 82.0 %\n",
            "Epoch [2/3], Step [1600/8824], Batch Loss: 0.2971290051937103, Batch True Positive : 100.0, Batch True Negative : 88.0 %\n",
            "Epoch [2/3], Step [1700/8824], Batch Loss: 0.4472569227218628, Batch True Positive : 100.0, Batch True Negative : 82.0 %\n",
            "Epoch [2/3], Step [1800/8824], Batch Loss: 0.5280605554580688, Batch True Positive : 89.0, Batch True Negative : 82.0 %\n",
            "Epoch [2/3], Step [1900/8824], Batch Loss: 0.6445799469947815, Batch True Positive : 98.0, Batch True Negative : 73.0 %\n",
            "Epoch [2/3], Step [2000/8824], Batch Loss: 0.39884862303733826, Batch True Positive : 97.0, Batch True Negative : 83.0 %\n",
            "Epoch [2/3], Step [2100/8824], Batch Loss: 0.3980749845504761, Batch True Positive : 97.0, Batch True Negative : 84.0 %\n",
            "Epoch [2/3], Step [2200/8824], Batch Loss: 0.6653231978416443, Batch True Positive : 93.0, Batch True Negative : 72.0 %\n",
            "Epoch [2/3], Step [2300/8824], Batch Loss: 0.4432935118675232, Batch True Positive : 94.0, Batch True Negative : 83.0 %\n",
            "Epoch [2/3], Step [2400/8824], Batch Loss: 0.7485272884368896, Batch True Positive : 95.0, Batch True Negative : 68.0 %\n",
            "Epoch [2/3], Step [2500/8824], Batch Loss: 0.349129319190979, Batch True Positive : 94.0, Batch True Negative : 86.0 %\n",
            "Epoch [2/3], Step [2600/8824], Batch Loss: 0.5202820301055908, Batch True Positive : 98.0, Batch True Negative : 80.0 %\n",
            "Epoch [2/3], Step [2700/8824], Batch Loss: 0.514245331287384, Batch True Positive : 100.0, Batch True Negative : 77.0 %\n",
            "Epoch [2/3], Step [2800/8824], Batch Loss: 0.620836615562439, Batch True Positive : 95.0, Batch True Negative : 75.0 %\n",
            "Epoch [2/3], Step [2900/8824], Batch Loss: 0.3547782599925995, Batch True Positive : 97.0, Batch True Negative : 87.0 %\n",
            "Epoch [2/3], Step [3000/8824], Batch Loss: 0.5074517726898193, Batch True Positive : 98.0, Batch True Negative : 79.0 %\n",
            "Epoch [2/3], Step [3100/8824], Batch Loss: 0.3038526177406311, Batch True Positive : 96.0, Batch True Negative : 88.0 %\n",
            "Epoch [2/3], Step [3200/8824], Batch Loss: 0.43197351694107056, Batch True Positive : 98.0, Batch True Negative : 82.0 %\n",
            "Epoch [2/3], Step [3300/8824], Batch Loss: 0.797074556350708, Batch True Positive : 99.0, Batch True Negative : 64.0 %\n",
            "Epoch [2/3], Step [3400/8824], Batch Loss: 0.6704296469688416, Batch True Positive : 97.0, Batch True Negative : 72.0 %\n",
            "Epoch [2/3], Step [3500/8824], Batch Loss: 0.46742385625839233, Batch True Positive : 89.0, Batch True Negative : 85.0 %\n",
            "Epoch [2/3], Step [3600/8824], Batch Loss: 0.5821387767791748, Batch True Positive : 100.0, Batch True Negative : 76.0 %\n",
            "Epoch [2/3], Step [3700/8824], Batch Loss: 0.6565293669700623, Batch True Positive : 93.0, Batch True Negative : 75.0 %\n",
            "Epoch [2/3], Step [3800/8824], Batch Loss: 0.37446463108062744, Batch True Positive : 100.0, Batch True Negative : 84.0 %\n",
            "Epoch [2/3], Step [3900/8824], Batch Loss: 0.2316427081823349, Batch True Positive : 100.0, Batch True Negative : 90.0 %\n",
            "Epoch [2/3], Step [4000/8824], Batch Loss: 0.47487542033195496, Batch True Positive : 98.0, Batch True Negative : 80.0 %\n",
            "Epoch [2/3], Step [4100/8824], Batch Loss: 0.32034042477607727, Batch True Positive : 97.0, Batch True Negative : 87.0 %\n",
            "Epoch [2/3], Step [4200/8824], Batch Loss: 0.48425382375717163, Batch True Positive : 98.0, Batch True Negative : 80.0 %\n",
            "Epoch [2/3], Step [4300/8824], Batch Loss: 0.6206129789352417, Batch True Positive : 100.0, Batch True Negative : 77.0 %\n",
            "Epoch [2/3], Step [4400/8824], Batch Loss: 0.40910884737968445, Batch True Positive : 94.0, Batch True Negative : 84.0 %\n",
            "Epoch [2/3], Step [4500/8824], Batch Loss: 0.34219107031822205, Batch True Positive : 93.0, Batch True Negative : 87.0 %\n",
            "Epoch [2/3], Step [4600/8824], Batch Loss: 0.36880117654800415, Batch True Positive : 97.0, Batch True Negative : 85.0 %\n",
            "Epoch [2/3], Step [4700/8824], Batch Loss: 0.34316661953926086, Batch True Positive : 97.0, Batch True Negative : 86.0 %\n",
            "Epoch [2/3], Step [4800/8824], Batch Loss: 0.4693809747695923, Batch True Positive : 93.0, Batch True Negative : 82.0 %\n",
            "Epoch [2/3], Step [4900/8824], Batch Loss: 0.5104727149009705, Batch True Positive : 96.0, Batch True Negative : 80.0 %\n",
            "Epoch [2/3], Step [5000/8824], Batch Loss: 0.5599910020828247, Batch True Positive : 98.0, Batch True Negative : 76.0 %\n",
            "Epoch [2/3], Step [5100/8824], Batch Loss: 0.5048860907554626, Batch True Positive : 98.0, Batch True Negative : 79.0 %\n",
            "Epoch [2/3], Step [5200/8824], Batch Loss: 0.5916528105735779, Batch True Positive : 98.0, Batch True Negative : 77.0 %\n",
            "Epoch [2/3], Step [5300/8824], Batch Loss: 0.4119134545326233, Batch True Positive : 92.0, Batch True Negative : 85.0 %\n",
            "Epoch [2/3], Step [5400/8824], Batch Loss: 0.45003417134284973, Batch True Positive : 100.0, Batch True Negative : 80.0 %\n",
            "Epoch [2/3], Step [5500/8824], Batch Loss: 0.5076513886451721, Batch True Positive : 98.0, Batch True Negative : 81.0 %\n",
            "Epoch [2/3], Step [5600/8824], Batch Loss: 0.4953981935977936, Batch True Positive : 93.0, Batch True Negative : 81.0 %\n",
            "Epoch [2/3], Step [5700/8824], Batch Loss: 0.5247764587402344, Batch True Positive : 96.0, Batch True Negative : 79.0 %\n",
            "Epoch [2/3], Step [5800/8824], Batch Loss: 0.6169231534004211, Batch True Positive : 100.0, Batch True Negative : 74.0 %\n",
            "Epoch [2/3], Step [5900/8824], Batch Loss: 0.5791456699371338, Batch True Positive : 95.0, Batch True Negative : 77.0 %\n",
            "Epoch [2/3], Step [6000/8824], Batch Loss: 0.34844839572906494, Batch True Positive : 94.0, Batch True Negative : 87.0 %\n",
            "Epoch [2/3], Step [6100/8824], Batch Loss: 0.43320050835609436, Batch True Positive : 100.0, Batch True Negative : 82.0 %\n",
            "Epoch [2/3], Step [6200/8824], Batch Loss: 0.44436824321746826, Batch True Positive : 95.0, Batch True Negative : 84.0 %\n",
            "Epoch [2/3], Step [6300/8824], Batch Loss: 0.4129868447780609, Batch True Positive : 95.0, Batch True Negative : 85.0 %\n",
            "Epoch [2/3], Step [6400/8824], Batch Loss: 0.6588367223739624, Batch True Positive : 98.0, Batch True Negative : 71.0 %\n",
            "Epoch [2/3], Step [6500/8824], Batch Loss: 0.4096919000148773, Batch True Positive : 87.0, Batch True Negative : 86.0 %\n",
            "Epoch [2/3], Step [6600/8824], Batch Loss: 0.4871659576892853, Batch True Positive : 100.0, Batch True Negative : 79.0 %\n",
            "Epoch [2/3], Step [6700/8824], Batch Loss: 0.2699987292289734, Batch True Positive : 100.0, Batch True Negative : 89.0 %\n",
            "Epoch [2/3], Step [6800/8824], Batch Loss: 0.5502033233642578, Batch True Positive : 98.0, Batch True Negative : 78.0 %\n",
            "Epoch [2/3], Step [6900/8824], Batch Loss: 0.4651625454425812, Batch True Positive : 98.0, Batch True Negative : 80.0 %\n",
            "Epoch [2/3], Step [7000/8824], Batch Loss: 0.3171737492084503, Batch True Positive : 91.0, Batch True Negative : 89.0 %\n",
            "Epoch [2/3], Step [7100/8824], Batch Loss: 0.5621203780174255, Batch True Positive : 98.0, Batch True Negative : 81.0 %\n",
            "Epoch [2/3], Step [7200/8824], Batch Loss: 0.4072524309158325, Batch True Positive : 100.0, Batch True Negative : 83.0 %\n",
            "Epoch [2/3], Step [7300/8824], Batch Loss: 0.45977553725242615, Batch True Positive : 93.0, Batch True Negative : 83.0 %\n",
            "Epoch [2/3], Step [7400/8824], Batch Loss: 0.34896120429039, Batch True Positive : 100.0, Batch True Negative : 84.0 %\n",
            "Epoch [2/3], Step [7500/8824], Batch Loss: 0.4427781105041504, Batch True Positive : 93.0, Batch True Negative : 84.0 %\n",
            "Epoch [2/3], Step [7600/8824], Batch Loss: 0.49191802740097046, Batch True Positive : 98.0, Batch True Negative : 81.0 %\n",
            "Epoch [2/3], Step [7700/8824], Batch Loss: 0.6228395700454712, Batch True Positive : 91.0, Batch True Negative : 77.0 %\n",
            "Epoch [2/3], Step [7800/8824], Batch Loss: 0.7334842085838318, Batch True Positive : 97.0, Batch True Negative : 71.0 %\n",
            "Epoch [2/3], Step [7900/8824], Batch Loss: 0.640311598777771, Batch True Positive : 91.0, Batch True Negative : 76.0 %\n",
            "Epoch [2/3], Step [8000/8824], Batch Loss: 0.4240644574165344, Batch True Positive : 98.0, Batch True Negative : 84.0 %\n",
            "Epoch [2/3], Step [8100/8824], Batch Loss: 0.5768094658851624, Batch True Positive : 98.0, Batch True Negative : 78.0 %\n",
            "Epoch [2/3], Step [8200/8824], Batch Loss: 0.7099454998970032, Batch True Positive : 96.0, Batch True Negative : 72.0 %\n",
            "Epoch [2/3], Step [8300/8824], Batch Loss: 0.45492300391197205, Batch True Positive : 100.0, Batch True Negative : 82.0 %\n",
            "Epoch [2/3], Step [8400/8824], Batch Loss: 0.651206374168396, Batch True Positive : 99.0, Batch True Negative : 72.0 %\n",
            "Epoch [2/3], Step [8500/8824], Batch Loss: 0.3294976055622101, Batch True Positive : 93.0, Batch True Negative : 89.0 %\n",
            "Epoch [2/3], Step [8600/8824], Batch Loss: 0.33291634917259216, Batch True Positive : 90.0, Batch True Negative : 87.0 %\n",
            "Epoch [2/3], Step [8700/8824], Batch Loss: 0.6758556962013245, Batch True Positive : 97.0, Batch True Negative : 71.0 %\n",
            "Epoch [2/3], Step [8800/8824], Batch Loss: 0.5593493580818176, Batch True Positive : 98.0, Batch True Negative : 78.0 %\n",
            "Validation -------------------------------------------------------------------------------------\n",
            "Epoch [2/3], Validation Loss: 2.730201485542465, Validation True Positive : 75.49186295503212, Validation True Negative : 77.60428265524625 %\n",
            "------------------------------------------------------------------------------------------------\n",
            "Epoch [3/3], Step [100/8824], Batch Loss: 0.35645702481269836, Batch True Positive : 97.0, Batch True Negative : 87.0 %\n",
            "Epoch [3/3], Step [200/8824], Batch Loss: 0.4372219145298004, Batch True Positive : 95.0, Batch True Negative : 84.0 %\n",
            "Epoch [3/3], Step [300/8824], Batch Loss: 0.3026212751865387, Batch True Positive : 100.0, Batch True Negative : 87.0 %\n",
            "Epoch [3/3], Step [400/8824], Batch Loss: 0.43703874945640564, Batch True Positive : 93.0, Batch True Negative : 82.0 %\n",
            "Epoch [3/3], Step [500/8824], Batch Loss: 0.2699330747127533, Batch True Positive : 97.0, Batch True Negative : 91.0 %\n",
            "Epoch [3/3], Step [600/8824], Batch Loss: 0.5987488627433777, Batch True Positive : 98.0, Batch True Negative : 78.0 %\n",
            "Epoch [3/3], Step [700/8824], Batch Loss: 0.5966519117355347, Batch True Positive : 98.0, Batch True Negative : 76.0 %\n",
            "Epoch [3/3], Step [800/8824], Batch Loss: 0.3638697862625122, Batch True Positive : 100.0, Batch True Negative : 86.0 %\n",
            "Epoch [3/3], Step [900/8824], Batch Loss: 0.6519193649291992, Batch True Positive : 100.0, Batch True Negative : 72.0 %\n",
            "Epoch [3/3], Step [1000/8824], Batch Loss: 0.244145005941391, Batch True Positive : 100.0, Batch True Negative : 90.0 %\n",
            "Epoch [3/3], Step [1100/8824], Batch Loss: 0.5103151202201843, Batch True Positive : 100.0, Batch True Negative : 79.0 %\n",
            "Epoch [3/3], Step [1200/8824], Batch Loss: 0.4921513497829437, Batch True Positive : 94.0, Batch True Negative : 83.0 %\n",
            "Epoch [3/3], Step [1300/8824], Batch Loss: 0.7153801321983337, Batch True Positive : 96.0, Batch True Negative : 73.0 %\n",
            "Epoch [3/3], Step [1400/8824], Batch Loss: 0.650681734085083, Batch True Positive : 97.0, Batch True Negative : 75.0 %\n",
            "Epoch [3/3], Step [1500/8824], Batch Loss: 0.3880613446235657, Batch True Positive : 100.0, Batch True Negative : 83.0 %\n",
            "Epoch [3/3], Step [1600/8824], Batch Loss: 0.5289523601531982, Batch True Positive : 96.0, Batch True Negative : 78.0 %\n",
            "Epoch [3/3], Step [1700/8824], Batch Loss: 0.6632649302482605, Batch True Positive : 97.0, Batch True Negative : 73.0 %\n",
            "Epoch [3/3], Step [1800/8824], Batch Loss: 0.3114873170852661, Batch True Positive : 100.0, Batch True Negative : 88.0 %\n",
            "Epoch [3/3], Step [1900/8824], Batch Loss: 0.2806377112865448, Batch True Positive : 100.0, Batch True Negative : 89.0 %\n",
            "Epoch [3/3], Step [2000/8824], Batch Loss: 0.4483850598335266, Batch True Positive : 100.0, Batch True Negative : 82.0 %\n",
            "Epoch [3/3], Step [2100/8824], Batch Loss: 0.4577803909778595, Batch True Positive : 95.0, Batch True Negative : 85.0 %\n",
            "Epoch [3/3], Step [2200/8824], Batch Loss: 0.20096151530742645, Batch True Positive : 100.0, Batch True Negative : 92.0 %\n",
            "Epoch [3/3], Step [2300/8824], Batch Loss: 0.4290534257888794, Batch True Positive : 92.0, Batch True Negative : 83.0 %\n",
            "Epoch [3/3], Step [2400/8824], Batch Loss: 0.3672676384449005, Batch True Positive : 91.0, Batch True Negative : 88.0 %\n",
            "Epoch [3/3], Step [2500/8824], Batch Loss: 0.4483279287815094, Batch True Positive : 98.0, Batch True Negative : 82.0 %\n",
            "Epoch [3/3], Step [2600/8824], Batch Loss: 0.588488757610321, Batch True Positive : 99.0, Batch True Negative : 77.0 %\n",
            "Epoch [3/3], Step [2700/8824], Batch Loss: 0.5698839426040649, Batch True Positive : 100.0, Batch True Negative : 76.0 %\n",
            "Epoch [3/3], Step [2800/8824], Batch Loss: 0.5545175075531006, Batch True Positive : 98.0, Batch True Negative : 78.0 %\n",
            "Epoch [3/3], Step [2900/8824], Batch Loss: 0.6988717317581177, Batch True Positive : 95.0, Batch True Negative : 73.0 %\n",
            "Epoch [3/3], Step [3000/8824], Batch Loss: 0.3235591650009155, Batch True Positive : 97.0, Batch True Negative : 88.0 %\n",
            "Epoch [3/3], Step [3100/8824], Batch Loss: 0.448291152715683, Batch True Positive : 100.0, Batch True Negative : 81.0 %\n",
            "Epoch [3/3], Step [3200/8824], Batch Loss: 0.4049868881702423, Batch True Positive : 98.0, Batch True Negative : 85.0 %\n",
            "Epoch [3/3], Step [3300/8824], Batch Loss: 0.5712225437164307, Batch True Positive : 96.0, Batch True Negative : 77.0 %\n",
            "Epoch [3/3], Step [3400/8824], Batch Loss: 0.6012752652168274, Batch True Positive : 94.0, Batch True Negative : 79.0 %\n",
            "Epoch [3/3], Step [3500/8824], Batch Loss: 0.7700157165527344, Batch True Positive : 96.0, Batch True Negative : 69.0 %\n",
            "Epoch [3/3], Step [3600/8824], Batch Loss: 0.5496771335601807, Batch True Positive : 92.0, Batch True Negative : 81.0 %\n",
            "Epoch [3/3], Step [3700/8824], Batch Loss: 0.2962261140346527, Batch True Positive : 94.0, Batch True Negative : 90.0 %\n",
            "Epoch [3/3], Step [3800/8824], Batch Loss: 0.4283215403556824, Batch True Positive : 100.0, Batch True Negative : 82.0 %\n",
            "Epoch [3/3], Step [3900/8824], Batch Loss: 0.403743714094162, Batch True Positive : 95.0, Batch True Negative : 86.0 %\n",
            "Epoch [3/3], Step [4000/8824], Batch Loss: 0.33600834012031555, Batch True Positive : 100.0, Batch True Negative : 87.0 %\n",
            "Epoch [3/3], Step [4100/8824], Batch Loss: 0.4329916536808014, Batch True Positive : 100.0, Batch True Negative : 83.0 %\n",
            "Epoch [3/3], Step [4200/8824], Batch Loss: 0.528236448764801, Batch True Positive : 100.0, Batch True Negative : 78.0 %\n",
            "Epoch [3/3], Step [4300/8824], Batch Loss: 0.7231830954551697, Batch True Positive : 99.0, Batch True Negative : 72.0 %\n",
            "Epoch [3/3], Step [4400/8824], Batch Loss: 0.5673150420188904, Batch True Positive : 98.0, Batch True Negative : 77.0 %\n",
            "Epoch [3/3], Step [4500/8824], Batch Loss: 0.6864513754844666, Batch True Positive : 92.0, Batch True Negative : 71.0 %\n",
            "Epoch [3/3], Step [4600/8824], Batch Loss: 0.710601270198822, Batch True Positive : 97.0, Batch True Negative : 72.0 %\n",
            "Epoch [3/3], Step [4700/8824], Batch Loss: 0.690322995185852, Batch True Positive : 94.0, Batch True Negative : 74.0 %\n",
            "Epoch [3/3], Step [4800/8824], Batch Loss: 0.2575365900993347, Batch True Positive : 96.0, Batch True Negative : 91.0 %\n",
            "Epoch [3/3], Step [4900/8824], Batch Loss: 0.3944092392921448, Batch True Positive : 95.0, Batch True Negative : 87.0 %\n",
            "Epoch [3/3], Step [5000/8824], Batch Loss: 0.682693362236023, Batch True Positive : 97.0, Batch True Negative : 74.0 %\n",
            "Epoch [3/3], Step [5100/8824], Batch Loss: 0.5594858527183533, Batch True Positive : 96.0, Batch True Negative : 77.0 %\n",
            "Epoch [3/3], Step [5200/8824], Batch Loss: 0.4992656707763672, Batch True Positive : 98.0, Batch True Negative : 80.0 %\n",
            "Epoch [3/3], Step [5300/8824], Batch Loss: 0.681891143321991, Batch True Positive : 98.0, Batch True Negative : 72.0 %\n",
            "Epoch [3/3], Step [5400/8824], Batch Loss: 0.5985647439956665, Batch True Positive : 93.0, Batch True Negative : 77.0 %\n",
            "Epoch [3/3], Step [5500/8824], Batch Loss: 0.4074307680130005, Batch True Positive : 100.0, Batch True Negative : 83.0 %\n",
            "Epoch [3/3], Step [5600/8824], Batch Loss: 0.582496702671051, Batch True Positive : 94.0, Batch True Negative : 79.0 %\n",
            "Epoch [3/3], Step [5700/8824], Batch Loss: 0.6530152559280396, Batch True Positive : 95.0, Batch True Negative : 73.0 %\n",
            "Epoch [3/3], Step [5800/8824], Batch Loss: 0.3616923689842224, Batch True Positive : 96.0, Batch True Negative : 86.0 %\n",
            "Epoch [3/3], Step [5900/8824], Batch Loss: 0.5324867963790894, Batch True Positive : 98.0, Batch True Negative : 81.0 %\n",
            "Epoch [3/3], Step [6000/8824], Batch Loss: 0.37716835737228394, Batch True Positive : 98.0, Batch True Negative : 85.0 %\n",
            "Epoch [3/3], Step [6100/8824], Batch Loss: 0.39912694692611694, Batch True Positive : 92.0, Batch True Negative : 85.0 %\n",
            "Epoch [3/3], Step [6200/8824], Batch Loss: 0.5393816828727722, Batch True Positive : 98.0, Batch True Negative : 80.0 %\n",
            "Epoch [3/3], Step [6300/8824], Batch Loss: 0.5870870351791382, Batch True Positive : 98.0, Batch True Negative : 76.0 %\n",
            "Epoch [3/3], Step [6400/8824], Batch Loss: 0.31662335991859436, Batch True Positive : 93.0, Batch True Negative : 88.0 %\n",
            "Epoch [3/3], Step [6500/8824], Batch Loss: 0.3457503020763397, Batch True Positive : 100.0, Batch True Negative : 86.0 %\n",
            "Epoch [3/3], Step [6600/8824], Batch Loss: 0.6828591823577881, Batch True Positive : 97.0, Batch True Negative : 73.0 %\n",
            "Epoch [3/3], Step [6700/8824], Batch Loss: 0.2277507781982422, Batch True Positive : 100.0, Batch True Negative : 92.0 %\n",
            "Epoch [3/3], Step [6800/8824], Batch Loss: 0.5081932544708252, Batch True Positive : 100.0, Batch True Negative : 79.0 %\n",
            "Epoch [3/3], Step [6900/8824], Batch Loss: 0.41285374760627747, Batch True Positive : 95.0, Batch True Negative : 86.0 %\n",
            "Epoch [3/3], Step [7000/8824], Batch Loss: 0.5896618962287903, Batch True Positive : 98.0, Batch True Negative : 78.0 %\n",
            "Epoch [3/3], Step [7100/8824], Batch Loss: 0.5059686303138733, Batch True Positive : 92.0, Batch True Negative : 82.0 %\n",
            "Epoch [3/3], Step [7200/8824], Batch Loss: 0.338765025138855, Batch True Positive : 100.0, Batch True Negative : 86.0 %\n",
            "Epoch [3/3], Step [7300/8824], Batch Loss: 0.17767827212810516, Batch True Positive : 95.0, Batch True Negative : 94.0 %\n",
            "Epoch [3/3], Step [7400/8824], Batch Loss: 0.42937028408050537, Batch True Positive : 100.0, Batch True Negative : 83.0 %\n",
            "Epoch [3/3], Step [7500/8824], Batch Loss: 0.4126371741294861, Batch True Positive : 97.0, Batch True Negative : 82.0 %\n",
            "Epoch [3/3], Step [7600/8824], Batch Loss: 0.46901991963386536, Batch True Positive : 98.0, Batch True Negative : 84.0 %\n",
            "Epoch [3/3], Step [7700/8824], Batch Loss: 0.6060059666633606, Batch True Positive : 98.0, Batch True Negative : 74.0 %\n",
            "Epoch [3/3], Step [7800/8824], Batch Loss: 0.3147560954093933, Batch True Positive : 97.0, Batch True Negative : 87.0 %\n",
            "Epoch [3/3], Step [7900/8824], Batch Loss: 0.4141908586025238, Batch True Positive : 100.0, Batch True Negative : 83.0 %\n",
            "Epoch [3/3], Step [8000/8824], Batch Loss: 0.505235493183136, Batch True Positive : 100.0, Batch True Negative : 80.0 %\n",
            "Epoch [3/3], Step [8100/8824], Batch Loss: 0.5795592665672302, Batch True Positive : 98.0, Batch True Negative : 78.0 %\n",
            "Epoch [3/3], Step [8200/8824], Batch Loss: 0.39853790402412415, Batch True Positive : 90.0, Batch True Negative : 86.0 %\n",
            "Epoch [3/3], Step [8300/8824], Batch Loss: 0.43360599875450134, Batch True Positive : 98.0, Batch True Negative : 85.0 %\n",
            "Epoch [3/3], Step [8400/8824], Batch Loss: 0.6589455008506775, Batch True Positive : 94.0, Batch True Negative : 74.0 %\n",
            "Epoch [3/3], Step [8500/8824], Batch Loss: 0.23969300091266632, Batch True Positive : 100.0, Batch True Negative : 91.0 %\n",
            "Epoch [3/3], Step [8600/8824], Batch Loss: 0.6670210361480713, Batch True Positive : 100.0, Batch True Negative : 73.0 %\n",
            "Epoch [3/3], Step [8700/8824], Batch Loss: 0.25929901003837585, Batch True Positive : 96.0, Batch True Negative : 91.0 %\n",
            "Epoch [3/3], Step [8800/8824], Batch Loss: 0.6154897809028625, Batch True Positive : 100.0, Batch True Negative : 76.0 %\n",
            "Validation -------------------------------------------------------------------------------------\n",
            "Epoch [3/3], Validation Loss: 3.7248990364495045, Validation True Positive : 72.7266238401142, Validation True Negative : 78.6773733047823 %\n",
            "------------------------------------------------------------------------------------------------\n"
          ],
          "name": "stdout"
        }
      ]
    },
    {
      "cell_type": "markdown",
      "metadata": {
        "id": "yecScZwrLlCE"
      },
      "source": [
        "## Testing"
      ]
    },
    {
      "cell_type": "code",
      "metadata": {
        "id": "o1ms-K1XLlCE",
        "colab": {
          "base_uri": "https://localhost:8080/"
        },
        "outputId": "0b410b5b-3383-428e-c190-f5376516b6a0"
      },
      "source": [
        "dive_real = []\n",
        "dive_estim = []\n",
        "\n",
        "for i in data_test.trip.unique():\n",
        "    # create dataset for a trajectory\n",
        "    t = data_test[data_test.trip == i].copy()    \n",
        "    test_set = TrajDataSet(t, window, variable, transform = transforms.Compose([Rescale(rescale), ToTensor()]))\n",
        "    test_set_part = [test_set[i] for i in range(len(test_set)) if i%rescale == 0]\n",
        "    \n",
        "    # Test the model\n",
        "    estim = np.zeros(int((len(t))/rescale))\n",
        "    nb = np.zeros(int((len(t))/rescale))\n",
        "\n",
        "    list_out = []\n",
        "    model.eval()\n",
        "    k = 0\n",
        "    with torch.no_grad():\n",
        "        for (x, y) in test_set_part:\n",
        "            # Run the forward pass\n",
        "            out = model(x.unsqueeze(0))\n",
        "            \n",
        "            estim[k:k + round(window/rescale)] += out.squeeze().numpy()\n",
        "            nb[k:k + round(window/rescale)] += 1\n",
        "            k+=1\n",
        "\n",
        "    \n",
        "    # remove extra lines\n",
        "    t = t.drop(t.tail(len(t)%rescale ).index)\n",
        "    real = np.array([np.max(t.dive[i:i+rescale]) for i in range(len(t)) if i%rescale == 0])\n",
        "    \n",
        "    # add to list by trajectory\n",
        "    dive_real.append(real)\n",
        "    dive_estim.append(estim/nb)\n",
        "    \n",
        "    \n",
        "    print(i)"
      ],
      "execution_count": 20,
      "outputs": [
        {
          "output_type": "stream",
          "text": [
            "P1108_46_SV_T2\n",
            "P1111_41_SV_T4\n",
            "P1112_10_SV_T2\n",
            "P1112_15_SV_T3\n",
            "P1112_20_SV_T4\n",
            "P1112_31_SV_T5\n",
            "P1113_28_SV_T1\n"
          ],
          "name": "stdout"
        }
      ]
    },
    {
      "cell_type": "code",
      "metadata": {
        "id": "u1sWjgLlLlCF"
      },
      "source": [
        "threshold = 0\n",
        "dive_plot = np.array([1*(estim[i]>threshold)  for i in range(len(estim)) for k in range(rescale) ])"
      ],
      "execution_count": 21,
      "outputs": []
    },
    {
      "cell_type": "code",
      "metadata": {
        "id": "xZvcAyB8LlCF",
        "colab": {
          "base_uri": "https://localhost:8080/",
          "height": 338
        },
        "outputId": "f9952242-6555-4e31-f3dc-91d8dedd58cf"
      },
      "source": [
        "plt.figure(figsize= (12, 5))\n",
        "plt.subplot(1, 2, 1)\n",
        "plt.plot(np.array(t.lon), np.array(t.lat))\n",
        "plt.scatter(t.lon[t.dive == 1], t.lat[t.dive == 1], c = 'orange')\n",
        "\n",
        "plt.subplot(1, 2, 2)\n",
        "plt.plot(np.array(t.lon), np.array(t.lat))\n",
        "plt.scatter(t.lon[dive_plot == 1], t.lat[dive_plot == 1], c = 'red')"
      ],
      "execution_count": 22,
      "outputs": [
        {
          "output_type": "execute_result",
          "data": {
            "text/plain": [
              "<matplotlib.collections.PathCollection at 0x7fbd2d80aa90>"
            ]
          },
          "metadata": {
            "tags": []
          },
          "execution_count": 22
        },
        {
          "output_type": "display_data",
          "data": {
            "image/png": "[encoded data removed]",
            "text/plain": [
              "<Figure size 864x360 with 2 Axes>"
            ]
          },
          "metadata": {
            "tags": [],
            "needs_background": "light"
          }
        }
      ]
    },
    {
      "cell_type": "markdown",
      "metadata": {
        "id": "RrbKoV8ULlCF"
      },
      "source": [
        "# score"
      ]
    },
    {
      "cell_type": "code",
      "metadata": {
        "id": "NtCIrcPULlCF",
        "colab": {
          "base_uri": "https://localhost:8080/"
        },
        "outputId": "f951a3d7-8b7e-4a09-e0a1-13bedcc0596b"
      },
      "source": [
        "# globally\n",
        "all_real = 1* (np.hstack(dive_real)> 0)\n",
        "all_estim = 1* (np.hstack(dive_estim) > 0)\n",
        "\n",
        "true_positive = np.mean(all_estim[all_real == 1])\n",
        "true_negative = 1-np.mean(all_estim[all_real == 0])\n",
        "\n",
        "true_positive, true_negative"
      ],
      "execution_count": 23,
      "outputs": [
        {
          "output_type": "execute_result",
          "data": {
            "text/plain": [
              "(0.6373626373626373, 0.8603880738286795)"
            ]
          },
          "metadata": {
            "tags": []
          },
          "execution_count": 23
        }
      ]
    },
    {
      "cell_type": "code",
      "metadata": {
        "id": "TNDir8GcLlCG",
        "colab": {
          "base_uri": "https://localhost:8080/",
          "height": 398
        },
        "outputId": "c37930c6-0a82-4a5d-9e8e-67e9b32da883"
      },
      "source": [
        "# for each trip\n",
        "fig, ax = plt.subplots()\n",
        "ax.set_xlim([0, 1])\n",
        "ax.set_ylim([0, 1])\n",
        "\n",
        "for i in range(len(dive_real)):\n",
        "    \n",
        "    real = 1*(dive_real[i]>0)\n",
        "    estim = 1*(dive_estim[i]>0)\n",
        "    \n",
        "    true_positive = np.mean(estim[real == 1])\n",
        "    true_negative = 1-np.mean(estim[real == 0])\n",
        "\n",
        "    ax.scatter(1-true_negative, true_positive, c = 'orange')\n",
        "    \n",
        "    print((true_positive, true_negative))"
      ],
      "execution_count": 24,
      "outputs": [
        {
          "output_type": "stream",
          "text": [
            "(0.7142857142857143, 0.8944099378881988)\n",
            "(0.6666666666666666, 0.9007633587786259)\n",
            "(0.5, 0.9009584664536742)\n",
            "(0.4827586206896552, 0.8222222222222222)\n",
            "(0.8, 0.776)\n",
            "(0.6666666666666666, 0.8154761904761905)\n",
            "(0.7857142857142857, 0.8700361010830325)\n"
          ],
          "name": "stdout"
        },
        {
          "output_type": "display_data",
          "data": {
            "image/png": "[encoded data removed]",
            "text/plain": [
              "<Figure size 432x288 with 1 Axes>"
            ]
          },
          "metadata": {
            "tags": [],
            "needs_background": "light"
          }
        }
      ]
    },
    {
      "cell_type": "markdown",
      "metadata": {
        "id": "4FLQbcx1LlCG"
      },
      "source": [
        "# ROC curve"
      ]
    },
    {
      "cell_type": "code",
      "metadata": {
        "id": "5cYRSoWyLlCG"
      },
      "source": [
        "# globally\n",
        "TP = []\n",
        "FP = []\n",
        "\n",
        "all_real = 1* (np.hstack(dive_real)> 0)    \n",
        "for tt in np.arange(-50, 50, 0.1):\n",
        "    all_estim = 1* (np.hstack(dive_estim) > tt)\n",
        "    true_positive = np.mean(all_estim[all_real == 1])\n",
        "    true_negative = 1-np.mean(all_estim[all_real == 0])\n",
        "    TP.append(true_positive)\n",
        "    FP.append(1-true_negative)"
      ],
      "execution_count": 25,
      "outputs": []
    },
    {
      "cell_type": "code",
      "metadata": {
        "scrolled": true,
        "id": "33SrgsZWLlCG",
        "colab": {
          "base_uri": "https://localhost:8080/",
          "height": 287
        },
        "outputId": "f862817f-ac22-48e1-b935-8a0c76721228"
      },
      "source": [
        "plt.plot(np.array(FP), np.array(TP))"
      ],
      "execution_count": 26,
      "outputs": [
        {
          "output_type": "execute_result",
          "data": {
            "text/plain": [
              "[<matplotlib.lines.Line2D at 0x7fbd2d4785c0>]"
            ]
          },
          "metadata": {
            "tags": []
          },
          "execution_count": 26
        },
        {
          "output_type": "display_data",
          "data": {
            "image/png": "[encoded data removed]",
            "text/plain": [
              "<Figure size 432x288 with 1 Axes>"
            ]
          },
          "metadata": {
            "tags": [],
            "needs_background": "light"
          }
        }
      ]
    },
    {
      "cell_type": "code",
      "metadata": {
        "id": "nHvNO46jLlCG"
      },
      "source": [
        "data = {'model': 'network_timeseries',\n",
        "        'FP':  FP,\n",
        "        'TP': TP\n",
        "        }\n",
        "\n",
        "df = pd.DataFrame (data, columns = ['model','FP','TP'])\n",
        "\n",
        "df.to_csv('roc_network_timeseries.csv', index = False)\n",
        "# df.to_csv('./roc/roc_network_timeseries.csv', index = False)"
      ],
      "execution_count": 27,
      "outputs": []
    },
    {
      "cell_type": "markdown",
      "metadata": {
        "id": "PgtH95ei86MK"
      },
      "source": [
        "# Export Probabilities"
      ]
    },
    {
      "cell_type": "code",
      "metadata": {
        "colab": {
          "base_uri": "https://localhost:8080/"
        },
        "id": "rPN--xrw87iD",
        "outputId": "1fd23131-4b76-4861-81e0-a49873e151dc"
      },
      "source": [
        "all_real = np.hstack(dive_real)\n",
        "all_estim = np.hstack(dive_estim)\n",
        "all_proba_estim = 1/(1+np.exp(-all_estim))\n",
        "all_proba_estim"
      ],
      "execution_count": 46,
      "outputs": [
        {
          "output_type": "execute_result",
          "data": {
            "text/plain": [
              "array([3.43097703e-01, 1.30770364e-01, 6.58512023e-02, ...,\n",
              "       5.11475585e-10, 1.45226151e-06, 4.56196303e-03])"
            ]
          },
          "metadata": {
            "tags": []
          },
          "execution_count": 46
        }
      ]
    },
    {
      "cell_type": "code",
      "metadata": {
        "id": "F8-qdqMrB6y2"
      },
      "source": [
        "trip_name = data_test.trip.unique()\n",
        "trip_length = [len(i) for i in dive_estim]\n",
        "trip = [trip_name[i] for i in range(len(trip_name)) for k in range(trip_length[i])]"
      ],
      "execution_count": 47,
      "outputs": []
    },
    {
      "cell_type": "code",
      "metadata": {
        "id": "pIb8Imn9DC1e"
      },
      "source": [
        "data = {'model': 'network_timeseries',\n",
        "        'trip':  trip,\n",
        "        'real': all_real,\n",
        "        'p': all_proba_estim\n",
        "        }\n",
        "\n",
        "df = pd.DataFrame (data, columns = ['model','trip', 'real', 'p'])\n",
        "\n",
        "df.to_csv('prob_network_timeseries.csv', index = False)"
      ],
      "execution_count": 49,
      "outputs": []
    },
    {
      "cell_type": "code",
      "metadata": {
        "id": "eHkZnVQUEoV4"
      },
      "source": [
        ""
      ],
      "execution_count": null,
      "outputs": []
    }
  ]
}