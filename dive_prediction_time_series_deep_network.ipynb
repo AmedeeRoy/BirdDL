{
 "cells": [
  {
   "cell_type": "markdown",
   "metadata": {},
   "source": [
    "# Dive Prediction - Time Series Deep Network\n",
    "\n",
    "*Predicting Seabird Diving Behaviour from GPS data*\n",
    "\n",
    "This notebook trains a neural network to predict seabirds' dives.\n",
    "\n",
    "Networks' characteristics:\n",
    "\n",
    "* *Trajectory window* : 600s\n",
    "* *Output resolution*: 60s\n",
    "* *Representation of trajectories* : Time Series\n",
    "* *Layers* : deep convolutions\n",
    "\n",
    "\n"
   ]
  },
  {
   "cell_type": "code",
   "execution_count": 1,
   "metadata": {},
   "outputs": [],
   "source": [
    "import pandas as pd\n",
    "import numpy as np\n",
    "import matplotlib.pyplot as plt\n",
    "\n",
    "import torch\n",
    "from torch import nn\n",
    "from torch.utils.data import DataLoader, Dataset\n",
    "from torchvision import transforms\n",
    "\n",
    "from utils.trip import * "
   ]
  },
  {
   "cell_type": "code",
   "execution_count": 2,
   "metadata": {},
   "outputs": [],
   "source": [
    "data_train = pd.read_csv('./data/data_train.csv')\n",
    "data_test = pd.read_csv('./data/data_test.csv')"
   ]
  },
  {
   "cell_type": "code",
   "execution_count": 3,
   "metadata": {},
   "outputs": [],
   "source": [
    "def standardize(var):\n",
    "    var = np.array(var)\n",
    "    return (var-np.mean(var))/np.std(var)\n",
    "\n",
    "def standardize_minmax(var):\n",
    "    var = np.array(var)\n",
    "    return (var-np.min(var))/(np.max(var) - np.min(var))"
   ]
  },
  {
   "cell_type": "code",
   "execution_count": 4,
   "metadata": {},
   "outputs": [],
   "source": [
    "data_train = data_train.copy()\n",
    "data_train = data_train.dropna()\n",
    "data_train['lon_std'] = 0\n",
    "data_train['lat_std'] = 0\n",
    "data_train['step_speed_std'] = 0\n",
    "data_train['step_direction_cos'] = 0\n",
    "data_train['step_direction_sin'] = 0\n",
    "    \n",
    "for trip in data_train.trip.unique():\n",
    "    data_train.loc[data_train.trip == trip,'lon_std'] = standardize(data_train.loc[data_train.trip == trip,'lon'])\n",
    "    data_train.loc[data_train.trip == trip, 'lat_std'] = standardize(data_train.loc[data_train.trip == trip,'lat'])\n",
    "    data_train.loc[data_train.trip == trip,'step_speed_std'] = standardize_minmax(data_train.loc[data_train.trip == trip,'step_speed'])\n",
    "    data_train.loc[data_train.trip == trip,'step_direction_cos'] = np.cos(data_train.loc[data_train.trip == trip,'step_direction']* np.pi/180)\n",
    "    data_train.loc[data_train.trip == trip,'step_direction_sin'] = np.sin(data_train.loc[data_train.trip == trip,'step_direction']* np.pi/180)"
   ]
  },
  {
   "cell_type": "code",
   "execution_count": 5,
   "metadata": {},
   "outputs": [
    {
     "data": {
      "text/html": [
       "<div>\n",
       "<style scoped>\n",
       "    .dataframe tbody tr th:only-of-type {\n",
       "        vertical-align: middle;\n",
       "    }\n",
       "\n",
       "    .dataframe tbody tr th {\n",
       "        vertical-align: top;\n",
       "    }\n",
       "\n",
       "    .dataframe thead th {\n",
       "        text-align: right;\n",
       "    }\n",
       "</style>\n",
       "<table border=\"1\" class=\"dataframe\">\n",
       "  <thead>\n",
       "    <tr style=\"text-align: right;\">\n",
       "      <th></th>\n",
       "      <th>trip</th>\n",
       "      <th>datetime</th>\n",
       "      <th>lon</th>\n",
       "      <th>lat</th>\n",
       "      <th>pressure</th>\n",
       "      <th>gaps</th>\n",
       "      <th>step_speed</th>\n",
       "      <th>step_direction</th>\n",
       "      <th>dive</th>\n",
       "      <th>lon_std</th>\n",
       "      <th>lat_std</th>\n",
       "      <th>step_speed_std</th>\n",
       "      <th>step_direction_cos</th>\n",
       "      <th>step_direction_sin</th>\n",
       "    </tr>\n",
       "  </thead>\n",
       "  <tbody>\n",
       "    <tr>\n",
       "      <th>2</th>\n",
       "      <td>P1108_46_SV_T1</td>\n",
       "      <td>2008-12-05 15:12:41</td>\n",
       "      <td>-77.262442</td>\n",
       "      <td>-11.773072</td>\n",
       "      <td>-0.26</td>\n",
       "      <td>False</td>\n",
       "      <td>7.224129</td>\n",
       "      <td>3.984122</td>\n",
       "      <td>0</td>\n",
       "      <td>1.452647</td>\n",
       "      <td>1.542331</td>\n",
       "      <td>0.246157</td>\n",
       "      <td>0.997583</td>\n",
       "      <td>0.069480</td>\n",
       "    </tr>\n",
       "    <tr>\n",
       "      <th>3</th>\n",
       "      <td>P1108_46_SV_T1</td>\n",
       "      <td>2008-12-05 15:12:42</td>\n",
       "      <td>-77.262447</td>\n",
       "      <td>-11.773147</td>\n",
       "      <td>-0.26</td>\n",
       "      <td>False</td>\n",
       "      <td>8.366185</td>\n",
       "      <td>13.285157</td>\n",
       "      <td>0</td>\n",
       "      <td>1.452565</td>\n",
       "      <td>1.541362</td>\n",
       "      <td>0.285681</td>\n",
       "      <td>0.973238</td>\n",
       "      <td>0.229798</td>\n",
       "    </tr>\n",
       "    <tr>\n",
       "      <th>4</th>\n",
       "      <td>P1108_46_SV_T1</td>\n",
       "      <td>2008-12-05 15:12:43</td>\n",
       "      <td>-77.262482</td>\n",
       "      <td>-11.773217</td>\n",
       "      <td>-0.22</td>\n",
       "      <td>False</td>\n",
       "      <td>8.675223</td>\n",
       "      <td>22.346828</td>\n",
       "      <td>0</td>\n",
       "      <td>1.451995</td>\n",
       "      <td>1.540458</td>\n",
       "      <td>0.296376</td>\n",
       "      <td>0.924899</td>\n",
       "      <td>0.380212</td>\n",
       "    </tr>\n",
       "    <tr>\n",
       "      <th>5</th>\n",
       "      <td>P1108_46_SV_T1</td>\n",
       "      <td>2008-12-05 15:12:44</td>\n",
       "      <td>-77.262517</td>\n",
       "      <td>-11.773293</td>\n",
       "      <td>-0.29</td>\n",
       "      <td>False</td>\n",
       "      <td>9.279737</td>\n",
       "      <td>-1.813227</td>\n",
       "      <td>0</td>\n",
       "      <td>1.451424</td>\n",
       "      <td>1.539476</td>\n",
       "      <td>0.317297</td>\n",
       "      <td>0.999499</td>\n",
       "      <td>-0.031641</td>\n",
       "    </tr>\n",
       "    <tr>\n",
       "      <th>6</th>\n",
       "      <td>P1108_46_SV_T1</td>\n",
       "      <td>2008-12-05 15:12:45</td>\n",
       "      <td>-77.262518</td>\n",
       "      <td>-11.773372</td>\n",
       "      <td>-0.19</td>\n",
       "      <td>False</td>\n",
       "      <td>8.794348</td>\n",
       "      <td>-23.557701</td>\n",
       "      <td>0</td>\n",
       "      <td>1.451408</td>\n",
       "      <td>1.538456</td>\n",
       "      <td>0.300499</td>\n",
       "      <td>0.916658</td>\n",
       "      <td>-0.399672</td>\n",
       "    </tr>\n",
       "  </tbody>\n",
       "</table>\n",
       "</div>"
      ],
      "text/plain": [
       "             trip             datetime        lon        lat  pressure   gaps  \\\n",
       "2  P1108_46_SV_T1  2008-12-05 15:12:41 -77.262442 -11.773072     -0.26  False   \n",
       "3  P1108_46_SV_T1  2008-12-05 15:12:42 -77.262447 -11.773147     -0.26  False   \n",
       "4  P1108_46_SV_T1  2008-12-05 15:12:43 -77.262482 -11.773217     -0.22  False   \n",
       "5  P1108_46_SV_T1  2008-12-05 15:12:44 -77.262517 -11.773293     -0.29  False   \n",
       "6  P1108_46_SV_T1  2008-12-05 15:12:45 -77.262518 -11.773372     -0.19  False   \n",
       "\n",
       "   step_speed  step_direction  dive   lon_std   lat_std  step_speed_std  \\\n",
       "2    7.224129        3.984122     0  1.452647  1.542331        0.246157   \n",
       "3    8.366185       13.285157     0  1.452565  1.541362        0.285681   \n",
       "4    8.675223       22.346828     0  1.451995  1.540458        0.296376   \n",
       "5    9.279737       -1.813227     0  1.451424  1.539476        0.317297   \n",
       "6    8.794348      -23.557701     0  1.451408  1.538456        0.300499   \n",
       "\n",
       "   step_direction_cos  step_direction_sin  \n",
       "2            0.997583            0.069480  \n",
       "3            0.973238            0.229798  \n",
       "4            0.924899            0.380212  \n",
       "5            0.999499           -0.031641  \n",
       "6            0.916658           -0.399672  "
      ]
     },
     "execution_count": 5,
     "metadata": {},
     "output_type": "execute_result"
    }
   ],
   "source": [
    "data_train.head()"
   ]
  },
  {
   "cell_type": "markdown",
   "metadata": {},
   "source": [
    "# Neural Network"
   ]
  },
  {
   "cell_type": "code",
   "execution_count": 6,
   "metadata": {},
   "outputs": [],
   "source": [
    "# hyperparameters\n",
    "batch_size = 8\n",
    "learning_rate = 0.001\n",
    "variable = ('lon_std', 'lat_std', 'step_speed_std', 'step_direction_cos', 'step_direction_sin')\n",
    "window = 600\n",
    "rescale = 10\n",
    "\n",
    "train_set = TrajDataSet(data_train, window, variable, transform = transforms.Compose([Rescale(rescale), ToTensor()]))\n",
    "train_loader = DataLoader(train_set, batch_size=batch_size, num_workers = 0, shuffle = True, drop_last=False)"
   ]
  },
  {
   "cell_type": "code",
   "execution_count": 7,
   "metadata": {},
   "outputs": [],
   "source": [
    "class ConvNet(nn.Module):\n",
    "    def __init__(self):\n",
    "        super(ConvNet, self).__init__()\n",
    "        \n",
    "        self.cnn_input_1 = nn.Sequential(\n",
    "            nn.Conv1d(5, 8, kernel_size = 11, stride = 1, padding = 5, dilation = 1),\n",
    "            nn.ReLU(),\n",
    "            nn.Conv1d(8, 8, kernel_size = 11, stride = 1, padding = 5, dilation = 1),\n",
    "            nn.ReLU()\n",
    "        )\n",
    "\n",
    "        self.pooling_1 = nn.Sequential(\n",
    "            nn.MaxPool1d(kernel_size = 11, stride = 2, padding = 5, dilation = 1)\n",
    "        )\n",
    "\n",
    "        self.cnn_input_2 = nn.Sequential(\n",
    "            nn.Conv1d(8, 16, kernel_size = 11, stride = 1, padding = 5, dilation = 1),\n",
    "            nn.ReLU(),\n",
    "            nn.Conv1d(16, 16, kernel_size = 11, stride = 1, padding = 5, dilation = 1),\n",
    "            nn.ReLU()\n",
    "        )\n",
    "\n",
    "        self.pooling_2 = nn.Sequential(\n",
    "            nn.MaxPool1d(kernel_size = 11, stride = 2, padding = 5, dilation = 1)\n",
    "        )\n",
    "\n",
    "        self.cnn_input_3 = nn.Sequential(\n",
    "            nn.Conv1d(16, 32, kernel_size = 11, stride = 1, padding = 5, dilation = 1),\n",
    "            nn.ReLU(),\n",
    "            nn.Conv1d(32, 32, kernel_size = 11, stride = 1, padding = 5, dilation = 1),\n",
    "            nn.ReLU()\n",
    "        )\n",
    "\n",
    "        self.pooling_3 = nn.Sequential(\n",
    "            nn.MaxPool1d(kernel_size = 11, stride = 2, padding = 5, dilation = 4)\n",
    "        )\n",
    "\n",
    "        self.cnn_4 = nn.Sequential(\n",
    "            nn.Conv1d(32, 16, kernel_size = 11, stride = 1, padding = 5, dilation = 1),\n",
    "            nn.ReLU(),\n",
    "            nn.Conv1d(16, 8, kernel_size = 11, stride = 1, padding = 5, dilation = 1),\n",
    "            nn.ReLU(),\n",
    "            nn.Conv1d(8, 1, kernel_size = 11, stride = 1, padding = 5, dilation = 1)\n",
    "        )\n",
    "\n",
    "                \n",
    "    def forward(self, x):\n",
    "        out = x.squeeze(1)\n",
    "        out = self.cnn_input_1(out)\n",
    "        out = self.pooling_1(out)\n",
    "        out = self.cnn_input_2(out)\n",
    "        out = self.pooling_2(out)\n",
    "        out = self.cnn_input_3(out)\n",
    "        out = self.pooling_3(out)\n",
    "        out = self.cnn_4(out)\n",
    "\n",
    "        return out\n",
    "    \n",
    "def get_score(out, y):\n",
    "    out = 1*(out>0)\n",
    "    true_positive = np.mean(out[y == True].numpy()) \n",
    "    true_negative = 1-np.mean(out[y == False].numpy())\n",
    "    \n",
    "    return (round(true_positive*100) , round(true_negative*100))\n",
    "#     return (true_positive.detach().numpy().item() , true_negative.detach().numpy().item())"
   ]
  },
  {
   "cell_type": "code",
   "execution_count": 8,
   "metadata": {},
   "outputs": [
    {
     "data": {
      "text/plain": [
       "(0.0, 100.0)"
      ]
     },
     "execution_count": 8,
     "metadata": {},
     "output_type": "execute_result"
    }
   ],
   "source": [
    "# get sample\n",
    "x, y = next(iter(train_loader)) \n",
    "\n",
    "# Forward model\n",
    "model = ConvNet()\n",
    "out = model(x)\n",
    "\n",
    "# Loss and score\n",
    "optimizer = torch.optim.Adam(model.parameters(), lr=learning_rate)\n",
    "criterion = nn.BCEWithLogitsLoss(pos_weight = torch.FloatTensor([15]))\n",
    "criterion(out, y)\n",
    "get_score(out, y)"
   ]
  },
  {
   "cell_type": "markdown",
   "metadata": {},
   "source": [
    "## Training"
   ]
  },
  {
   "cell_type": "code",
   "execution_count": 9,
   "metadata": {},
   "outputs": [],
   "source": [
    "# # switch to GPU\n",
    "# device = torch.device('cuda' if torch.cuda.is_available() else 'cpu')\n",
    "# model.to(device)"
   ]
  },
  {
   "cell_type": "code",
   "execution_count": 10,
   "metadata": {
    "scrolled": true
   },
   "outputs": [
    {
     "name": "stdout",
     "output_type": "stream",
     "text": [
      "Epoch 0, Step 100, Loss: 0.8061185479164124, True Positive : 64.0, True Negative : 65.0 %\n",
      "Epoch 0, Step 200, Loss: 0.9144912362098694, True Positive : 100.0, True Negative : 41.0 %\n",
      "Epoch 0, Step 300, Loss: 0.8259356021881104, True Positive : 87.0, True Negative : 58.0 %\n",
      "Epoch 0, Step 400, Loss: 0.8441723585128784, True Positive : 93.0, True Negative : 65.0 %\n",
      "Epoch 0, Step 500, Loss: 0.6227179169654846, True Positive : 88.0, True Negative : 81.0 %\n",
      "Epoch 0, Step 600, Loss: 0.43245255947113037, True Positive : 100.0, True Negative : 79.0 %\n",
      "Epoch 0, Step 700, Loss: 0.520775556564331, True Positive : 100.0, True Negative : 77.0 %\n",
      "Epoch 0, Step 800, Loss: 0.6363260746002197, True Positive : 100.0, True Negative : 67.0 %\n",
      "Epoch 0, Step 900, Loss: 1.1298534870147705, True Positive : 84.0, True Negative : 63.0 %\n",
      "Epoch 0, Step 1000, Loss: 0.5917437672615051, True Positive : 100.0, True Negative : 70.0 %\n",
      "Epoch 0, Step 1100, Loss: 0.7932626008987427, True Positive : 100.0, True Negative : 59.0 %\n",
      "Epoch 0, Step 1200, Loss: 0.304605096578598, True Positive : 100.0, True Negative : 86.0 %\n",
      "Epoch 0, Step 1300, Loss: 0.5935437083244324, True Positive : 95.0, True Negative : 77.0 %\n",
      "Epoch 0, Step 1400, Loss: 0.6754014492034912, True Positive : 96.0, True Negative : 73.0 %\n",
      "Epoch 0, Step 1500, Loss: 0.6164828538894653, True Positive : 90.0, True Negative : 75.0 %\n",
      "Epoch 0, Step 1600, Loss: 0.7520017027854919, True Positive : 94.0, True Negative : 69.0 %\n",
      "Epoch 0, Step 1700, Loss: 0.3090280592441559, True Positive : 62.0, True Negative : 91.0 %\n",
      "Epoch 0, Step 1800, Loss: 1.0288058519363403, True Positive : 97.0, True Negative : 55.0 %\n",
      "Epoch 0, Step 1900, Loss: 0.48374509811401367, True Positive : 89.0, True Negative : 81.0 %\n",
      "Epoch 0, Step 2000, Loss: 0.4426880478858948, True Positive : 100.0, True Negative : 82.0 %\n",
      "Epoch 0, Step 2100, Loss: 0.16559496521949768, True Positive : 25.0, True Negative : 95.0 %\n"
     ]
    },
    {
     "ename": "KeyboardInterrupt",
     "evalue": "",
     "output_type": "error",
     "traceback": [
      "\u001b[0;31m---------------------------------------------------------------------------\u001b[0m",
      "\u001b[0;31mKeyboardInterrupt\u001b[0m                         Traceback (most recent call last)",
      "\u001b[0;32m<ipython-input-10-4fb7c4006c22>\u001b[0m in \u001b[0;36m<module>\u001b[0;34m\u001b[0m\n\u001b[1;32m      4\u001b[0m \u001b[0;34m\u001b[0m\u001b[0m\n\u001b[1;32m      5\u001b[0m \u001b[0;32mfor\u001b[0m \u001b[0mepoch\u001b[0m \u001b[0;32min\u001b[0m \u001b[0mrange\u001b[0m\u001b[0;34m(\u001b[0m\u001b[0;36m1\u001b[0m\u001b[0;34m)\u001b[0m\u001b[0;34m:\u001b[0m\u001b[0;34m\u001b[0m\u001b[0;34m\u001b[0m\u001b[0m\n\u001b[0;32m----> 6\u001b[0;31m     \u001b[0;32mfor\u001b[0m \u001b[0mbatch\u001b[0m\u001b[0;34m,\u001b[0m \u001b[0;34m(\u001b[0m\u001b[0mx\u001b[0m\u001b[0;34m,\u001b[0m \u001b[0my\u001b[0m\u001b[0;34m)\u001b[0m \u001b[0;32min\u001b[0m \u001b[0menumerate\u001b[0m\u001b[0;34m(\u001b[0m\u001b[0mtrain_loader\u001b[0m\u001b[0;34m)\u001b[0m\u001b[0;34m:\u001b[0m\u001b[0;34m\u001b[0m\u001b[0;34m\u001b[0m\u001b[0m\n\u001b[0m\u001b[1;32m      7\u001b[0m         \u001b[0mi\u001b[0m\u001b[0;34m+=\u001b[0m\u001b[0;36m1\u001b[0m\u001b[0;34m\u001b[0m\u001b[0;34m\u001b[0m\u001b[0m\n\u001b[1;32m      8\u001b[0m \u001b[0;34m\u001b[0m\u001b[0m\n",
      "\u001b[0;32m~/anaconda3/lib/python3.7/site-packages/torch/utils/data/dataloader.py\u001b[0m in \u001b[0;36m__next__\u001b[0;34m(self)\u001b[0m\n\u001b[1;32m    361\u001b[0m \u001b[0;34m\u001b[0m\u001b[0m\n\u001b[1;32m    362\u001b[0m     \u001b[0;32mdef\u001b[0m \u001b[0m__next__\u001b[0m\u001b[0;34m(\u001b[0m\u001b[0mself\u001b[0m\u001b[0;34m)\u001b[0m\u001b[0;34m:\u001b[0m\u001b[0;34m\u001b[0m\u001b[0;34m\u001b[0m\u001b[0m\n\u001b[0;32m--> 363\u001b[0;31m         \u001b[0mdata\u001b[0m \u001b[0;34m=\u001b[0m \u001b[0mself\u001b[0m\u001b[0;34m.\u001b[0m\u001b[0m_next_data\u001b[0m\u001b[0;34m(\u001b[0m\u001b[0;34m)\u001b[0m\u001b[0;34m\u001b[0m\u001b[0;34m\u001b[0m\u001b[0m\n\u001b[0m\u001b[1;32m    364\u001b[0m         \u001b[0mself\u001b[0m\u001b[0;34m.\u001b[0m\u001b[0m_num_yielded\u001b[0m \u001b[0;34m+=\u001b[0m \u001b[0;36m1\u001b[0m\u001b[0;34m\u001b[0m\u001b[0;34m\u001b[0m\u001b[0m\n\u001b[1;32m    365\u001b[0m         \u001b[0;32mif\u001b[0m \u001b[0mself\u001b[0m\u001b[0;34m.\u001b[0m\u001b[0m_dataset_kind\u001b[0m \u001b[0;34m==\u001b[0m \u001b[0m_DatasetKind\u001b[0m\u001b[0;34m.\u001b[0m\u001b[0mIterable\u001b[0m \u001b[0;32mand\u001b[0m\u001b[0;31m \u001b[0m\u001b[0;31m\\\u001b[0m\u001b[0;34m\u001b[0m\u001b[0;34m\u001b[0m\u001b[0m\n",
      "\u001b[0;32m~/anaconda3/lib/python3.7/site-packages/torch/utils/data/dataloader.py\u001b[0m in \u001b[0;36m_next_data\u001b[0;34m(self)\u001b[0m\n\u001b[1;32m    401\u001b[0m     \u001b[0;32mdef\u001b[0m \u001b[0m_next_data\u001b[0m\u001b[0;34m(\u001b[0m\u001b[0mself\u001b[0m\u001b[0;34m)\u001b[0m\u001b[0;34m:\u001b[0m\u001b[0;34m\u001b[0m\u001b[0;34m\u001b[0m\u001b[0m\n\u001b[1;32m    402\u001b[0m         \u001b[0mindex\u001b[0m \u001b[0;34m=\u001b[0m \u001b[0mself\u001b[0m\u001b[0;34m.\u001b[0m\u001b[0m_next_index\u001b[0m\u001b[0;34m(\u001b[0m\u001b[0;34m)\u001b[0m  \u001b[0;31m# may raise StopIteration\u001b[0m\u001b[0;34m\u001b[0m\u001b[0;34m\u001b[0m\u001b[0m\n\u001b[0;32m--> 403\u001b[0;31m         \u001b[0mdata\u001b[0m \u001b[0;34m=\u001b[0m \u001b[0mself\u001b[0m\u001b[0;34m.\u001b[0m\u001b[0m_dataset_fetcher\u001b[0m\u001b[0;34m.\u001b[0m\u001b[0mfetch\u001b[0m\u001b[0;34m(\u001b[0m\u001b[0mindex\u001b[0m\u001b[0;34m)\u001b[0m  \u001b[0;31m# may raise StopIteration\u001b[0m\u001b[0;34m\u001b[0m\u001b[0;34m\u001b[0m\u001b[0m\n\u001b[0m\u001b[1;32m    404\u001b[0m         \u001b[0;32mif\u001b[0m \u001b[0mself\u001b[0m\u001b[0;34m.\u001b[0m\u001b[0m_pin_memory\u001b[0m\u001b[0;34m:\u001b[0m\u001b[0;34m\u001b[0m\u001b[0;34m\u001b[0m\u001b[0m\n\u001b[1;32m    405\u001b[0m             \u001b[0mdata\u001b[0m \u001b[0;34m=\u001b[0m \u001b[0m_utils\u001b[0m\u001b[0;34m.\u001b[0m\u001b[0mpin_memory\u001b[0m\u001b[0;34m.\u001b[0m\u001b[0mpin_memory\u001b[0m\u001b[0;34m(\u001b[0m\u001b[0mdata\u001b[0m\u001b[0;34m)\u001b[0m\u001b[0;34m\u001b[0m\u001b[0;34m\u001b[0m\u001b[0m\n",
      "\u001b[0;32m~/anaconda3/lib/python3.7/site-packages/torch/utils/data/_utils/fetch.py\u001b[0m in \u001b[0;36mfetch\u001b[0;34m(self, possibly_batched_index)\u001b[0m\n\u001b[1;32m     42\u001b[0m     \u001b[0;32mdef\u001b[0m \u001b[0mfetch\u001b[0m\u001b[0;34m(\u001b[0m\u001b[0mself\u001b[0m\u001b[0;34m,\u001b[0m \u001b[0mpossibly_batched_index\u001b[0m\u001b[0;34m)\u001b[0m\u001b[0;34m:\u001b[0m\u001b[0;34m\u001b[0m\u001b[0;34m\u001b[0m\u001b[0m\n\u001b[1;32m     43\u001b[0m         \u001b[0;32mif\u001b[0m \u001b[0mself\u001b[0m\u001b[0;34m.\u001b[0m\u001b[0mauto_collation\u001b[0m\u001b[0;34m:\u001b[0m\u001b[0;34m\u001b[0m\u001b[0;34m\u001b[0m\u001b[0m\n\u001b[0;32m---> 44\u001b[0;31m             \u001b[0mdata\u001b[0m \u001b[0;34m=\u001b[0m \u001b[0;34m[\u001b[0m\u001b[0mself\u001b[0m\u001b[0;34m.\u001b[0m\u001b[0mdataset\u001b[0m\u001b[0;34m[\u001b[0m\u001b[0midx\u001b[0m\u001b[0;34m]\u001b[0m \u001b[0;32mfor\u001b[0m \u001b[0midx\u001b[0m \u001b[0;32min\u001b[0m \u001b[0mpossibly_batched_index\u001b[0m\u001b[0;34m]\u001b[0m\u001b[0;34m\u001b[0m\u001b[0;34m\u001b[0m\u001b[0m\n\u001b[0m\u001b[1;32m     45\u001b[0m         \u001b[0;32melse\u001b[0m\u001b[0;34m:\u001b[0m\u001b[0;34m\u001b[0m\u001b[0;34m\u001b[0m\u001b[0m\n\u001b[1;32m     46\u001b[0m             \u001b[0mdata\u001b[0m \u001b[0;34m=\u001b[0m \u001b[0mself\u001b[0m\u001b[0;34m.\u001b[0m\u001b[0mdataset\u001b[0m\u001b[0;34m[\u001b[0m\u001b[0mpossibly_batched_index\u001b[0m\u001b[0;34m]\u001b[0m\u001b[0;34m\u001b[0m\u001b[0;34m\u001b[0m\u001b[0m\n",
      "\u001b[0;32m~/anaconda3/lib/python3.7/site-packages/torch/utils/data/_utils/fetch.py\u001b[0m in \u001b[0;36m<listcomp>\u001b[0;34m(.0)\u001b[0m\n\u001b[1;32m     42\u001b[0m     \u001b[0;32mdef\u001b[0m \u001b[0mfetch\u001b[0m\u001b[0;34m(\u001b[0m\u001b[0mself\u001b[0m\u001b[0;34m,\u001b[0m \u001b[0mpossibly_batched_index\u001b[0m\u001b[0;34m)\u001b[0m\u001b[0;34m:\u001b[0m\u001b[0;34m\u001b[0m\u001b[0;34m\u001b[0m\u001b[0m\n\u001b[1;32m     43\u001b[0m         \u001b[0;32mif\u001b[0m \u001b[0mself\u001b[0m\u001b[0;34m.\u001b[0m\u001b[0mauto_collation\u001b[0m\u001b[0;34m:\u001b[0m\u001b[0;34m\u001b[0m\u001b[0;34m\u001b[0m\u001b[0m\n\u001b[0;32m---> 44\u001b[0;31m             \u001b[0mdata\u001b[0m \u001b[0;34m=\u001b[0m \u001b[0;34m[\u001b[0m\u001b[0mself\u001b[0m\u001b[0;34m.\u001b[0m\u001b[0mdataset\u001b[0m\u001b[0;34m[\u001b[0m\u001b[0midx\u001b[0m\u001b[0;34m]\u001b[0m \u001b[0;32mfor\u001b[0m \u001b[0midx\u001b[0m \u001b[0;32min\u001b[0m \u001b[0mpossibly_batched_index\u001b[0m\u001b[0;34m]\u001b[0m\u001b[0;34m\u001b[0m\u001b[0;34m\u001b[0m\u001b[0m\n\u001b[0m\u001b[1;32m     45\u001b[0m         \u001b[0;32melse\u001b[0m\u001b[0;34m:\u001b[0m\u001b[0;34m\u001b[0m\u001b[0;34m\u001b[0m\u001b[0m\n\u001b[1;32m     46\u001b[0m             \u001b[0mdata\u001b[0m \u001b[0;34m=\u001b[0m \u001b[0mself\u001b[0m\u001b[0;34m.\u001b[0m\u001b[0mdataset\u001b[0m\u001b[0;34m[\u001b[0m\u001b[0mpossibly_batched_index\u001b[0m\u001b[0;34m]\u001b[0m\u001b[0;34m\u001b[0m\u001b[0;34m\u001b[0m\u001b[0m\n",
      "\u001b[0;32m~/MEGA/SCRIPT/BirdDL/utils/trip.py\u001b[0m in \u001b[0;36m__getitem__\u001b[0;34m(self, idx)\u001b[0m\n\u001b[1;32m    204\u001b[0m \u001b[0;34m\u001b[0m\u001b[0m\n\u001b[1;32m    205\u001b[0m         \u001b[0;32mif\u001b[0m \u001b[0mself\u001b[0m\u001b[0;34m.\u001b[0m\u001b[0mtransform\u001b[0m\u001b[0;34m:\u001b[0m\u001b[0;34m\u001b[0m\u001b[0;34m\u001b[0m\u001b[0m\n\u001b[0;32m--> 206\u001b[0;31m             \u001b[0msample\u001b[0m \u001b[0;34m=\u001b[0m \u001b[0mself\u001b[0m\u001b[0;34m.\u001b[0m\u001b[0mtransform\u001b[0m\u001b[0;34m(\u001b[0m\u001b[0msample\u001b[0m\u001b[0;34m)\u001b[0m\u001b[0;34m\u001b[0m\u001b[0;34m\u001b[0m\u001b[0m\n\u001b[0m\u001b[1;32m    207\u001b[0m \u001b[0;34m\u001b[0m\u001b[0m\n\u001b[1;32m    208\u001b[0m         \u001b[0;32mreturn\u001b[0m \u001b[0msample\u001b[0m\u001b[0;34m\u001b[0m\u001b[0;34m\u001b[0m\u001b[0m\n",
      "\u001b[0;32m~/anaconda3/lib/python3.7/site-packages/torchvision/transforms/transforms.py\u001b[0m in \u001b[0;36m__call__\u001b[0;34m(self, img)\u001b[0m\n\u001b[1;32m     59\u001b[0m     \u001b[0;32mdef\u001b[0m \u001b[0m__call__\u001b[0m\u001b[0;34m(\u001b[0m\u001b[0mself\u001b[0m\u001b[0;34m,\u001b[0m \u001b[0mimg\u001b[0m\u001b[0;34m)\u001b[0m\u001b[0;34m:\u001b[0m\u001b[0;34m\u001b[0m\u001b[0;34m\u001b[0m\u001b[0m\n\u001b[1;32m     60\u001b[0m         \u001b[0;32mfor\u001b[0m \u001b[0mt\u001b[0m \u001b[0;32min\u001b[0m \u001b[0mself\u001b[0m\u001b[0;34m.\u001b[0m\u001b[0mtransforms\u001b[0m\u001b[0;34m:\u001b[0m\u001b[0;34m\u001b[0m\u001b[0;34m\u001b[0m\u001b[0m\n\u001b[0;32m---> 61\u001b[0;31m             \u001b[0mimg\u001b[0m \u001b[0;34m=\u001b[0m \u001b[0mt\u001b[0m\u001b[0;34m(\u001b[0m\u001b[0mimg\u001b[0m\u001b[0;34m)\u001b[0m\u001b[0;34m\u001b[0m\u001b[0;34m\u001b[0m\u001b[0m\n\u001b[0m\u001b[1;32m     62\u001b[0m         \u001b[0;32mreturn\u001b[0m \u001b[0mimg\u001b[0m\u001b[0;34m\u001b[0m\u001b[0;34m\u001b[0m\u001b[0m\n\u001b[1;32m     63\u001b[0m \u001b[0;34m\u001b[0m\u001b[0m\n",
      "\u001b[0;32m~/MEGA/SCRIPT/BirdDL/utils/trip.py\u001b[0m in \u001b[0;36m__call__\u001b[0;34m(self, sample)\u001b[0m\n\u001b[1;32m    218\u001b[0m         \u001b[0;31m# change resolution\u001b[0m\u001b[0;34m\u001b[0m\u001b[0;34m\u001b[0m\u001b[0;34m\u001b[0m\u001b[0m\n\u001b[1;32m    219\u001b[0m         \u001b[0;32mif\u001b[0m \u001b[0mself\u001b[0m\u001b[0;34m.\u001b[0m\u001b[0mmethod\u001b[0m \u001b[0;34m==\u001b[0m \u001b[0;34m'max'\u001b[0m\u001b[0;34m:\u001b[0m\u001b[0;34m\u001b[0m\u001b[0;34m\u001b[0m\u001b[0m\n\u001b[0;32m--> 220\u001b[0;31m             \u001b[0mdive_new\u001b[0m \u001b[0;34m=\u001b[0m \u001b[0;34m[\u001b[0m\u001b[0mnp\u001b[0m\u001b[0;34m.\u001b[0m\u001b[0mmax\u001b[0m\u001b[0;34m(\u001b[0m\u001b[0mdive\u001b[0m\u001b[0;34m[\u001b[0m\u001b[0mi\u001b[0m\u001b[0;34m:\u001b[0m\u001b[0mi\u001b[0m\u001b[0;34m+\u001b[0m\u001b[0mself\u001b[0m\u001b[0;34m.\u001b[0m\u001b[0mratio\u001b[0m\u001b[0;34m+\u001b[0m\u001b[0;36m1\u001b[0m\u001b[0;34m]\u001b[0m\u001b[0;34m)\u001b[0m \u001b[0;32mfor\u001b[0m \u001b[0mi\u001b[0m \u001b[0;32min\u001b[0m \u001b[0mrange\u001b[0m\u001b[0;34m(\u001b[0m\u001b[0mlen\u001b[0m\u001b[0;34m(\u001b[0m\u001b[0mdive\u001b[0m\u001b[0;34m)\u001b[0m\u001b[0;34m)\u001b[0m \u001b[0;32mif\u001b[0m \u001b[0mi\u001b[0m\u001b[0;34m%\u001b[0m\u001b[0mself\u001b[0m\u001b[0;34m.\u001b[0m\u001b[0mratio\u001b[0m\u001b[0;34m==\u001b[0m\u001b[0;36m0\u001b[0m\u001b[0;34m]\u001b[0m\u001b[0;34m\u001b[0m\u001b[0;34m\u001b[0m\u001b[0m\n\u001b[0m\u001b[1;32m    221\u001b[0m \u001b[0;34m\u001b[0m\u001b[0m\n\u001b[1;32m    222\u001b[0m         \u001b[0;32mif\u001b[0m \u001b[0mself\u001b[0m\u001b[0;34m.\u001b[0m\u001b[0mmethod\u001b[0m \u001b[0;34m==\u001b[0m \u001b[0;34m'mean'\u001b[0m\u001b[0;34m:\u001b[0m\u001b[0;34m\u001b[0m\u001b[0;34m\u001b[0m\u001b[0m\n",
      "\u001b[0;32m~/MEGA/SCRIPT/BirdDL/utils/trip.py\u001b[0m in \u001b[0;36m<listcomp>\u001b[0;34m(.0)\u001b[0m\n\u001b[1;32m    218\u001b[0m         \u001b[0;31m# change resolution\u001b[0m\u001b[0;34m\u001b[0m\u001b[0;34m\u001b[0m\u001b[0;34m\u001b[0m\u001b[0m\n\u001b[1;32m    219\u001b[0m         \u001b[0;32mif\u001b[0m \u001b[0mself\u001b[0m\u001b[0;34m.\u001b[0m\u001b[0mmethod\u001b[0m \u001b[0;34m==\u001b[0m \u001b[0;34m'max'\u001b[0m\u001b[0;34m:\u001b[0m\u001b[0;34m\u001b[0m\u001b[0;34m\u001b[0m\u001b[0m\n\u001b[0;32m--> 220\u001b[0;31m             \u001b[0mdive_new\u001b[0m \u001b[0;34m=\u001b[0m \u001b[0;34m[\u001b[0m\u001b[0mnp\u001b[0m\u001b[0;34m.\u001b[0m\u001b[0mmax\u001b[0m\u001b[0;34m(\u001b[0m\u001b[0mdive\u001b[0m\u001b[0;34m[\u001b[0m\u001b[0mi\u001b[0m\u001b[0;34m:\u001b[0m\u001b[0mi\u001b[0m\u001b[0;34m+\u001b[0m\u001b[0mself\u001b[0m\u001b[0;34m.\u001b[0m\u001b[0mratio\u001b[0m\u001b[0;34m+\u001b[0m\u001b[0;36m1\u001b[0m\u001b[0;34m]\u001b[0m\u001b[0;34m)\u001b[0m \u001b[0;32mfor\u001b[0m \u001b[0mi\u001b[0m \u001b[0;32min\u001b[0m \u001b[0mrange\u001b[0m\u001b[0;34m(\u001b[0m\u001b[0mlen\u001b[0m\u001b[0;34m(\u001b[0m\u001b[0mdive\u001b[0m\u001b[0;34m)\u001b[0m\u001b[0;34m)\u001b[0m \u001b[0;32mif\u001b[0m \u001b[0mi\u001b[0m\u001b[0;34m%\u001b[0m\u001b[0mself\u001b[0m\u001b[0;34m.\u001b[0m\u001b[0mratio\u001b[0m\u001b[0;34m==\u001b[0m\u001b[0;36m0\u001b[0m\u001b[0;34m]\u001b[0m\u001b[0;34m\u001b[0m\u001b[0;34m\u001b[0m\u001b[0m\n\u001b[0m\u001b[1;32m    221\u001b[0m \u001b[0;34m\u001b[0m\u001b[0m\n\u001b[1;32m    222\u001b[0m         \u001b[0;32mif\u001b[0m \u001b[0mself\u001b[0m\u001b[0;34m.\u001b[0m\u001b[0mmethod\u001b[0m \u001b[0;34m==\u001b[0m \u001b[0;34m'mean'\u001b[0m\u001b[0;34m:\u001b[0m\u001b[0;34m\u001b[0m\u001b[0;34m\u001b[0m\u001b[0m\n",
      "\u001b[0;31mKeyboardInterrupt\u001b[0m: "
     ]
    }
   ],
   "source": [
    "list_loss = []\n",
    "list_score = []\n",
    "i = 0\n",
    "\n",
    "for epoch in range(1):\n",
    "    for batch, (x, y) in enumerate(train_loader):\n",
    "        i+=1\n",
    "\n",
    "        # Train the model\n",
    "        model.train()\n",
    "\n",
    "    #     # send to GPU\n",
    "    #     x, y = x.to(device), y.to(device)\n",
    "\n",
    "        # Run the forward pass\n",
    "        out = model(x)\n",
    "        loss = criterion(out, y)\n",
    "\n",
    "        # Backprop and perform optimisation\n",
    "        optimizer.zero_grad()\n",
    "        loss.backward()\n",
    "        optimizer.step()\n",
    "\n",
    "        if (i + 1) % 100 == 0:\n",
    "\n",
    "            score = get_score(out,y)\n",
    "            list_loss.append(loss.item())\n",
    "            list_score.append(score)\n",
    "\n",
    "            print('Epoch {}, Step {}, Loss: {}, True Positive : {}, True Negative : {} %'\n",
    "                    .format(epoch, i + 1, loss.item(), score[0], score[1]))"
   ]
  },
  {
   "cell_type": "markdown",
   "metadata": {},
   "source": [
    "## Testing"
   ]
  },
  {
   "cell_type": "code",
   "execution_count": 11,
   "metadata": {},
   "outputs": [],
   "source": [
    "data_test = data_test.copy()\n",
    "data_test = data_test.dropna()\n",
    "data_test['lon_std'] = 0\n",
    "data_test['lat_std'] = 0\n",
    "data_test['step_speed_std'] = 0\n",
    "data_test['step_direction_cos'] = 0\n",
    "data_test['step_direction_sin'] = 0\n",
    "    \n",
    "for trip in data_test.trip.unique():\n",
    "    data_test.loc[data_test.trip == trip,'lon_std'] = standardize(data_test.loc[data_test.trip == trip,'lon'])\n",
    "    data_test.loc[data_test.trip == trip, 'lat_std'] = standardize(data_test.loc[data_test.trip == trip,'lat'])\n",
    "    data_test.loc[data_test.trip == trip,'step_speed_std'] = standardize_minmax(data_test.loc[data_test.trip == trip,'step_speed'])\n",
    "    data_test.loc[data_test.trip == trip,'step_direction_cos'] = np.cos(data_test.loc[data_test.trip == trip,'step_direction']* np.pi/180)\n",
    "    data_test.loc[data_test.trip == trip,'step_direction_sin'] = np.sin(data_test.loc[data_test.trip == trip,'step_direction']* np.pi/180)"
   ]
  },
  {
   "cell_type": "code",
   "execution_count": 12,
   "metadata": {},
   "outputs": [
    {
     "name": "stdout",
     "output_type": "stream",
     "text": [
      "P1108_46_SV_T2\n",
      "P1111_41_SV_T4\n",
      "P1111_52_SV_T2\n",
      "P1112_10_SV_T2\n",
      "P1112_15_SV_T2\n",
      "P1112_15_SV_T3\n",
      "P1112_20_SV_T2\n",
      "P1112_20_SV_T4\n",
      "P1112_22_SV_T2\n",
      "P1112_25_SV_T1\n",
      "P1112_26_SV_T2\n",
      "P1112_27_SV_T2\n",
      "P1112_29_SV_T1\n",
      "P1112_31_SV_T5\n",
      "P1112_9_SV_T1\n",
      "P1113_28_SV_T1\n",
      "P1113_29_SV_T2\n",
      "P1113_33_SV_T3\n",
      "P1113_33_SV_T4\n"
     ]
    }
   ],
   "source": [
    "dive_real = []\n",
    "dive_estim = []\n",
    "\n",
    "for i in data_test.trip.unique():\n",
    "    # create dataset for a trajectory\n",
    "    t = data_test[data_test.trip == i].copy()    \n",
    "    test_set = TrajDataSet(t, window, variable, transform = transforms.Compose([Rescale(rescale), ToTensor()]))\n",
    "    test_set_part = [test_set[i] for i in range(len(test_set)) if i%rescale == 0]\n",
    "    \n",
    "    # Test the model\n",
    "    estim = np.zeros(int((len(t))/rescale))\n",
    "    nb = np.zeros(int((len(t))/rescale))\n",
    "\n",
    "    list_out = []\n",
    "    model.eval()\n",
    "    k = 0\n",
    "    with torch.no_grad():\n",
    "        for (x, y) in test_set_part:\n",
    "            # Run the forward pass\n",
    "            out = model(x.unsqueeze(0))\n",
    "            \n",
    "            estim[k:k + round(window/rescale)] += out.squeeze().numpy()\n",
    "            nb[k:k + round(window/rescale)] += 1\n",
    "            k+=1\n",
    "\n",
    "    \n",
    "    # remove extra lines\n",
    "    t = t.drop(t.tail(len(t)%rescale ).index)\n",
    "    real = np.array([np.max(t.dive[i:i+rescale]) for i in range(len(t)) if i%rescale == 0])\n",
    "    \n",
    "    # add to list by trajectory\n",
    "    dive_real.append(real)\n",
    "    dive_estim.append(estim/nb)\n",
    "    \n",
    "    \n",
    "    print(i)"
   ]
  },
  {
   "cell_type": "code",
   "execution_count": 13,
   "metadata": {},
   "outputs": [],
   "source": [
    "threshold = 0\n",
    "dive_plot = np.array([1*(estim[i]>threshold)  for i in range(len(estim)) for k in range(rescale) ])"
   ]
  },
  {
   "cell_type": "code",
   "execution_count": 14,
   "metadata": {},
   "outputs": [
    {
     "data": {
      "text/plain": [
       "<matplotlib.collections.PathCollection at 0x7f912449d350>"
      ]
     },
     "execution_count": 14,
     "metadata": {},
     "output_type": "execute_result"
    },
    {
     "data": {
      "image/png": "[encoded data removed]",
      "text/plain": [
       "<Figure size 864x360 with 2 Axes>"
      ]
     },
     "metadata": {
      "needs_background": "light"
     },
     "output_type": "display_data"
    }
   ],
   "source": [
    "plt.figure(figsize= (12, 5))\n",
    "plt.subplot(1, 2, 1)\n",
    "plt.plot(np.array(t.lon), np.array(t.lat))\n",
    "plt.scatter(t.lon[t.dive == 1], t.lat[t.dive == 1], c = 'orange')\n",
    "\n",
    "plt.subplot(1, 2, 2)\n",
    "plt.plot(np.array(t.lon), np.array(t.lat))\n",
    "plt.scatter(t.lon[dive_plot == 1], t.lat[dive_plot == 1], c = 'red')"
   ]
  },
  {
   "cell_type": "markdown",
   "metadata": {},
   "source": [
    "# score"
   ]
  },
  {
   "cell_type": "code",
   "execution_count": 15,
   "metadata": {},
   "outputs": [
    {
     "data": {
      "text/plain": [
       "(0.8926174496644296, 0.7494414299393553)"
      ]
     },
     "execution_count": 15,
     "metadata": {},
     "output_type": "execute_result"
    }
   ],
   "source": [
    "# globally\n",
    "all_real = 1* (np.hstack(dive_real)> 0)\n",
    "all_estim = 1* (np.hstack(dive_estim) > 0)\n",
    "\n",
    "true_positive = np.mean(all_estim[all_real == 1])\n",
    "true_negative = 1-np.mean(all_estim[all_real == 0])\n",
    "\n",
    "true_positive, true_negative"
   ]
  },
  {
   "cell_type": "code",
   "execution_count": 16,
   "metadata": {},
   "outputs": [
    {
     "name": "stdout",
     "output_type": "stream",
     "text": [
      "(0.8571428571428571, 0.8571428571428572)\n",
      "(1.0, 0.8358778625954199)\n",
      "(0.8666666666666667, 0.9106280193236715)\n",
      "(0.5, 0.8690095846645367)\n",
      "(0.8157894736842105, 0.6780185758513932)\n",
      "(0.9310344827586207, 0.5972222222222222)\n",
      "(0.8461538461538461, 0.7404129793510325)\n",
      "(1.0, 0.6719999999999999)\n",
      "(0.9523809523809523, 0.6954314720812182)\n",
      "(0.75, 0.7305389221556886)\n",
      "(1.0, 0.39)\n",
      "(0.95, 0.5822784810126582)\n",
      "(1.0, 0.6859504132231404)\n",
      "(0.9166666666666666, 0.6845238095238095)\n",
      "(0.896551724137931, 0.6817496229260935)\n",
      "(1.0, 0.7833935018050542)\n",
      "(0.8461538461538461, 0.8391777509068924)\n",
      "(0.9545454545454546, 0.568075117370892)\n",
      "(0.9, 0.802536231884058)\n"
     ]
    },
    {
     "data": {
      "image/png": "[encoded data removed]",
      "text/plain": [
       "<Figure size 432x288 with 1 Axes>"
      ]
     },
     "metadata": {
      "needs_background": "light"
     },
     "output_type": "display_data"
    }
   ],
   "source": [
    "# for each trip\n",
    "fig, ax = plt.subplots()\n",
    "ax.set_xlim([0, 1])\n",
    "ax.set_ylim([0, 1])\n",
    "\n",
    "for i in range(len(dive_real)):\n",
    "    \n",
    "    real = 1*(dive_real[i]>0)\n",
    "    estim = 1*(dive_estim[i]>0)\n",
    "    \n",
    "    true_positive = np.mean(estim[real == 1])\n",
    "    true_negative = 1-np.mean(estim[real == 0])\n",
    "\n",
    "    ax.scatter(1-true_negative, true_positive, c = 'orange')\n",
    "    \n",
    "    print((true_positive, true_negative))"
   ]
  },
  {
   "cell_type": "markdown",
   "metadata": {},
   "source": [
    "# ROC curve"
   ]
  },
  {
   "cell_type": "code",
   "execution_count": 20,
   "metadata": {},
   "outputs": [],
   "source": [
    "# globally\n",
    "TP = []\n",
    "FP = []\n",
    "\n",
    "all_real = 1* (np.hstack(dive_real)> 0)    \n",
    "for tt in np.arange(-15, 15, 0.1):\n",
    "    all_estim = 1* (np.hstack(dive_estim) > tt)\n",
    "    true_positive = np.mean(all_estim[all_real == 1])\n",
    "    true_negative = 1-np.mean(all_estim[all_real == 0])\n",
    "    TP.append(true_positive)\n",
    "    FP.append(1-true_negative)"
   ]
  },
  {
   "cell_type": "code",
   "execution_count": 21,
   "metadata": {
    "scrolled": true
   },
   "outputs": [
    {
     "data": {
      "text/plain": [
       "[<matplotlib.lines.Line2D at 0x7f912424f310>]"
      ]
     },
     "execution_count": 21,
     "metadata": {},
     "output_type": "execute_result"
    },
    {
     "data": {
      "image/png": "[encoded data removed]",
      "text/plain": [
       "<Figure size 432x288 with 1 Axes>"
      ]
     },
     "metadata": {
      "needs_background": "light"
     },
     "output_type": "display_data"
    }
   ],
   "source": [
    "plt.plot(np.array(FP), np.array(TP))"
   ]
  },
  {
   "cell_type": "code",
   "execution_count": 23,
   "metadata": {},
   "outputs": [],
   "source": [
    "data = {'model': 'network_timeseries',\n",
    "        'FP':  FP,\n",
    "        'TP': TP\n",
    "        }\n",
    "\n",
    "df = pd.DataFrame (data, columns = ['model','FP','TP'])\n",
    "\n",
    "df.to_csv('./roc/roc_network_timeseries.csv', index = False)"
   ]
  },
  {
   "cell_type": "code",
   "execution_count": null,
   "metadata": {},
   "outputs": [],
   "source": []
  }
 ],
 "metadata": {
  "kernelspec": {
   "display_name": "Python 3",
   "language": "python",
   "name": "python3"
  },
  "language_info": {
   "codemirror_mode": {
    "name": "ipython",
    "version": 3
   },
   "file_extension": ".py",
   "mimetype": "text/x-python",
   "name": "python",
   "nbconvert_exporter": "python",
   "pygments_lexer": "ipython3",
   "version": "3.7.4"
  }
 },
 "nbformat": 4,
 "nbformat_minor": 2
}
