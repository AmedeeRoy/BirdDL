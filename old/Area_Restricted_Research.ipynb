{
 "cells": [
  {
   "cell_type": "markdown",
   "metadata": {
    "colab_type": "text",
    "id": "view-in-github"
   },
   "source": [
    "<a href=\"https://colab.research.google.com/github/AmedeeRoy/BirdDL/blob/main/Area_Restricted_Research.ipynb\" target=\"_parent\"><img src=\"https://colab.research.google.com/assets/colab-badge.svg\" alt=\"Open In Colab\"/></a>"
   ]
  },
  {
   "cell_type": "markdown",
   "metadata": {
    "id": "vRgY9aQruxYo"
   },
   "source": [
    "# Predicting Seabird Diving Behaviour with GPS data\n",
    "\n",
    "First Time Passage\n"
   ]
  },
  {
   "cell_type": "markdown",
   "metadata": {
    "id": "BI_BmST0vOvz"
   },
   "source": [
    "\n",
    "## Loading Drive"
   ]
  },
  {
   "cell_type": "code",
   "execution_count": 1,
   "metadata": {
    "colab": {
     "base_uri": "https://localhost:8080/",
     "height": 35
    },
    "id": "Y2ZHuh6du2jH",
    "outputId": "9293b0bb-a47c-4912-d0b7-2c99c239be30"
   },
   "outputs": [],
   "source": [
    "# # mount google drive\n",
    "# from google.colab import drive\n",
    "# drive.mount(\"/content/drive/\")"
   ]
  },
  {
   "cell_type": "code",
   "execution_count": 2,
   "metadata": {
    "colab": {
     "base_uri": "https://localhost:8080/",
     "height": 54
    },
    "id": "_58Ruzaeu2su",
    "outputId": "3093575e-1840-4ce7-9a06-d75ea80f9baa"
   },
   "outputs": [],
   "source": [
    "# %cd drive/My\\ Drive/BirdDL"
   ]
  },
  {
   "cell_type": "markdown",
   "metadata": {
    "id": "d6mmbMCNvKVC"
   },
   "source": [
    "## Data Formatting"
   ]
  },
  {
   "cell_type": "code",
   "execution_count": 3,
   "metadata": {
    "id": "bmtziIfGD-HJ"
   },
   "outputs": [],
   "source": [
    "import sqlite3\n",
    "import pandas as pd\n",
    "import numpy as np\n",
    "import matplotlib.pyplot as plt\n",
    "import IPython\n",
    "import datetime\n",
    "import random\n",
    "import pickle\n",
    "\n",
    "import trip"
   ]
  },
  {
   "cell_type": "code",
   "execution_count": 4,
   "metadata": {
    "id": "kutKS4Z7uxY-"
   },
   "outputs": [],
   "source": [
    "# connect to database\n",
    "# conn = sqlite3.connect('/content/drive/My Drive/data/seabirdbank.db')\n",
    "conn = sqlite3.connect('/home/amdroy/MEGA/DATA/seabirdbank.db')"
   ]
  },
  {
   "cell_type": "code",
   "execution_count": 5,
   "metadata": {
    "colab": {
     "base_uri": "https://localhost:8080/",
     "height": 35
    },
    "id": "Sdn3JC_OuxZE",
    "outputId": "4bef6d51-0a6e-4fdb-d791-b8cadb11027b"
   },
   "outputs": [
    {
     "data": {
      "text/plain": [
       "array([[-77.264, -11.773]])"
      ]
     },
     "execution_count": 5,
     "metadata": {},
     "output_type": "execute_result"
    }
   ],
   "source": [
    "request = \"SELECT DISTINCT lon, lat FROM fieldwork WHERE place='Pescadores'\"\n",
    "colony = pd.read_sql_query(request, conn)\n",
    "colony = colony.values\n",
    "colony"
   ]
  },
  {
   "cell_type": "code",
   "execution_count": 6,
   "metadata": {
    "colab": {
     "base_uri": "https://localhost:8080/",
     "height": 424
    },
    "id": "fXz4H8YCuxZM",
    "outputId": "9ee1d9d6-b111-4d18-8de9-cbe3da1b1da3"
   },
   "outputs": [
    {
     "data": {
      "text/html": [
       "<div>\n",
       "<style scoped>\n",
       "    .dataframe tbody tr th:only-of-type {\n",
       "        vertical-align: middle;\n",
       "    }\n",
       "\n",
       "    .dataframe tbody tr th {\n",
       "        vertical-align: top;\n",
       "    }\n",
       "\n",
       "    .dataframe thead th {\n",
       "        text-align: right;\n",
       "    }\n",
       "</style>\n",
       "<table border=\"1\" class=\"dataframe\">\n",
       "  <thead>\n",
       "    <tr style=\"text-align: right;\">\n",
       "      <th></th>\n",
       "      <th>trip</th>\n",
       "      <th>datetime</th>\n",
       "      <th>lon</th>\n",
       "      <th>lat</th>\n",
       "    </tr>\n",
       "  </thead>\n",
       "  <tbody>\n",
       "    <tr>\n",
       "      <th>0</th>\n",
       "      <td>P1108_4_SV_T1</td>\n",
       "      <td>2008-11-25 13:00:35</td>\n",
       "      <td>-77.264128</td>\n",
       "      <td>-11.773317</td>\n",
       "    </tr>\n",
       "    <tr>\n",
       "      <th>1</th>\n",
       "      <td>P1108_4_SV_T1</td>\n",
       "      <td>2008-11-25 13:00:36</td>\n",
       "      <td>-77.264118</td>\n",
       "      <td>-11.773235</td>\n",
       "    </tr>\n",
       "    <tr>\n",
       "      <th>2</th>\n",
       "      <td>P1108_4_SV_T1</td>\n",
       "      <td>2008-11-25 13:00:37</td>\n",
       "      <td>-77.264098</td>\n",
       "      <td>-11.773152</td>\n",
       "    </tr>\n",
       "    <tr>\n",
       "      <th>3</th>\n",
       "      <td>P1108_4_SV_T1</td>\n",
       "      <td>2008-11-25 13:00:38</td>\n",
       "      <td>-77.264113</td>\n",
       "      <td>-11.773060</td>\n",
       "    </tr>\n",
       "    <tr>\n",
       "      <th>4</th>\n",
       "      <td>P1108_4_SV_T1</td>\n",
       "      <td>2008-11-25 13:00:39</td>\n",
       "      <td>-77.264142</td>\n",
       "      <td>-11.772955</td>\n",
       "    </tr>\n",
       "    <tr>\n",
       "      <th>...</th>\n",
       "      <td>...</td>\n",
       "      <td>...</td>\n",
       "      <td>...</td>\n",
       "      <td>...</td>\n",
       "    </tr>\n",
       "    <tr>\n",
       "      <th>839803</th>\n",
       "      <td>P1113_50_SV_T2</td>\n",
       "      <td>2013-11-25 05:23:26</td>\n",
       "      <td>-77.264832</td>\n",
       "      <td>-11.773701</td>\n",
       "    </tr>\n",
       "    <tr>\n",
       "      <th>839804</th>\n",
       "      <td>P1113_50_SV_T2</td>\n",
       "      <td>2013-11-25 05:23:27</td>\n",
       "      <td>-77.264862</td>\n",
       "      <td>-11.773664</td>\n",
       "    </tr>\n",
       "    <tr>\n",
       "      <th>839805</th>\n",
       "      <td>P1113_50_SV_T2</td>\n",
       "      <td>2013-11-25 05:23:28</td>\n",
       "      <td>-77.264900</td>\n",
       "      <td>-11.773705</td>\n",
       "    </tr>\n",
       "    <tr>\n",
       "      <th>839806</th>\n",
       "      <td>P1113_50_SV_T2</td>\n",
       "      <td>2013-11-25 05:23:29</td>\n",
       "      <td>-77.264931</td>\n",
       "      <td>-11.773739</td>\n",
       "    </tr>\n",
       "    <tr>\n",
       "      <th>839807</th>\n",
       "      <td>P1113_50_SV_T2</td>\n",
       "      <td>2013-11-25 05:23:30</td>\n",
       "      <td>-77.264954</td>\n",
       "      <td>-11.773770</td>\n",
       "    </tr>\n",
       "  </tbody>\n",
       "</table>\n",
       "<p>839808 rows × 4 columns</p>\n",
       "</div>"
      ],
      "text/plain": [
       "                  trip             datetime        lon        lat\n",
       "0        P1108_4_SV_T1  2008-11-25 13:00:35 -77.264128 -11.773317\n",
       "1        P1108_4_SV_T1  2008-11-25 13:00:36 -77.264118 -11.773235\n",
       "2        P1108_4_SV_T1  2008-11-25 13:00:37 -77.264098 -11.773152\n",
       "3        P1108_4_SV_T1  2008-11-25 13:00:38 -77.264113 -11.773060\n",
       "4        P1108_4_SV_T1  2008-11-25 13:00:39 -77.264142 -11.772955\n",
       "...                ...                  ...        ...        ...\n",
       "839803  P1113_50_SV_T2  2013-11-25 05:23:26 -77.264832 -11.773701\n",
       "839804  P1113_50_SV_T2  2013-11-25 05:23:27 -77.264862 -11.773664\n",
       "839805  P1113_50_SV_T2  2013-11-25 05:23:28 -77.264900 -11.773705\n",
       "839806  P1113_50_SV_T2  2013-11-25 05:23:29 -77.264931 -11.773739\n",
       "839807  P1113_50_SV_T2  2013-11-25 05:23:30 -77.264954 -11.773770\n",
       "\n",
       "[839808 rows x 4 columns]"
      ]
     },
     "execution_count": 6,
     "metadata": {},
     "output_type": "execute_result"
    }
   ],
   "source": [
    "request = \"SELECT \\\n",
    "            trip.id as trip, gps.datetime, gps.lon, gps.lat\\\n",
    "            FROM gps \\\n",
    "            INNER JOIN trip ON gps.trip = trip.id \\\n",
    "            INNER JOIN bird ON trip.bird = bird.id \\\n",
    "            WHERE trip.file_gps IS NOT NULL \\\n",
    "            AND trip.file_tdr IS NOT NULL \\\n",
    "            AND (bird.fieldwork = 'P1108' OR bird.fieldwork = 'P1111' \\\n",
    "                OR bird.fieldwork = 'P1112' OR bird.fieldwork = 'P1113') \\\n",
    "            AND bird.species = 'SV'\"\n",
    "\n",
    "# substr(bird.fieldwork,1,1) = 'P'\n",
    "\n",
    "gps = pd.read_sql_query(request, conn)\n",
    "gps"
   ]
  },
  {
   "cell_type": "code",
   "execution_count": 7,
   "metadata": {
    "id": "UvaQtBoouxZT"
   },
   "outputs": [],
   "source": [
    "# check duplicated datetime in GPS trip\n",
    "idx = gps.index[gps.loc[:, 'trip':'datetime'].duplicated(keep=False)]\n",
    "idx_drop = [idx[i] for i in range(0, len(idx), 2)]\n",
    "gps = gps.drop(idx_drop)"
   ]
  },
  {
   "cell_type": "code",
   "execution_count": 8,
   "metadata": {
    "colab": {
     "base_uri": "https://localhost:8080/",
     "height": 49
    },
    "id": "oGmQe9feuxZY",
    "outputId": "b02b62d1-1572-4063-bffe-33542b21547f"
   },
   "outputs": [
    {
     "data": {
      "text/html": [
       "<div>\n",
       "<style scoped>\n",
       "    .dataframe tbody tr th:only-of-type {\n",
       "        vertical-align: middle;\n",
       "    }\n",
       "\n",
       "    .dataframe tbody tr th {\n",
       "        vertical-align: top;\n",
       "    }\n",
       "\n",
       "    .dataframe thead th {\n",
       "        text-align: right;\n",
       "    }\n",
       "</style>\n",
       "<table border=\"1\" class=\"dataframe\">\n",
       "  <thead>\n",
       "    <tr style=\"text-align: right;\">\n",
       "      <th></th>\n",
       "      <th>trip</th>\n",
       "      <th>datetime</th>\n",
       "      <th>lon</th>\n",
       "      <th>lat</th>\n",
       "    </tr>\n",
       "  </thead>\n",
       "  <tbody>\n",
       "  </tbody>\n",
       "</table>\n",
       "</div>"
      ],
      "text/plain": [
       "Empty DataFrame\n",
       "Columns: [trip, datetime, lon, lat]\n",
       "Index: []"
      ]
     },
     "execution_count": 8,
     "metadata": {},
     "output_type": "execute_result"
    }
   ],
   "source": [
    "gps[gps.loc[:, 'trip':'datetime'].duplicated(keep=False)]"
   ]
  },
  {
   "cell_type": "code",
   "execution_count": 9,
   "metadata": {
    "colab": {
     "base_uri": "https://localhost:8080/",
     "height": 424
    },
    "id": "0LyYk4xiuxZd",
    "outputId": "295eeebd-982a-4f34-be63-02952f196238"
   },
   "outputs": [
    {
     "data": {
      "text/html": [
       "<div>\n",
       "<style scoped>\n",
       "    .dataframe tbody tr th:only-of-type {\n",
       "        vertical-align: middle;\n",
       "    }\n",
       "\n",
       "    .dataframe tbody tr th {\n",
       "        vertical-align: top;\n",
       "    }\n",
       "\n",
       "    .dataframe thead th {\n",
       "        text-align: right;\n",
       "    }\n",
       "</style>\n",
       "<table border=\"1\" class=\"dataframe\">\n",
       "  <thead>\n",
       "    <tr style=\"text-align: right;\">\n",
       "      <th></th>\n",
       "      <th>trip</th>\n",
       "      <th>datetime</th>\n",
       "      <th>pressure</th>\n",
       "    </tr>\n",
       "  </thead>\n",
       "  <tbody>\n",
       "    <tr>\n",
       "      <th>0</th>\n",
       "      <td>P1108_4_SV_T1</td>\n",
       "      <td>2008-11-25 13:00:35</td>\n",
       "      <td>-0.35</td>\n",
       "    </tr>\n",
       "    <tr>\n",
       "      <th>1</th>\n",
       "      <td>P1108_4_SV_T1</td>\n",
       "      <td>2008-11-25 13:00:36</td>\n",
       "      <td>-0.38</td>\n",
       "    </tr>\n",
       "    <tr>\n",
       "      <th>2</th>\n",
       "      <td>P1108_4_SV_T1</td>\n",
       "      <td>2008-11-25 13:00:37</td>\n",
       "      <td>-0.35</td>\n",
       "    </tr>\n",
       "    <tr>\n",
       "      <th>3</th>\n",
       "      <td>P1108_4_SV_T1</td>\n",
       "      <td>2008-11-25 13:00:38</td>\n",
       "      <td>-0.29</td>\n",
       "    </tr>\n",
       "    <tr>\n",
       "      <th>4</th>\n",
       "      <td>P1108_4_SV_T1</td>\n",
       "      <td>2008-11-25 13:00:39</td>\n",
       "      <td>-0.29</td>\n",
       "    </tr>\n",
       "    <tr>\n",
       "      <th>...</th>\n",
       "      <td>...</td>\n",
       "      <td>...</td>\n",
       "      <td>...</td>\n",
       "    </tr>\n",
       "    <tr>\n",
       "      <th>1086337</th>\n",
       "      <td>P1113_50_SV_T2</td>\n",
       "      <td>2013-11-25 05:23:26</td>\n",
       "      <td>-0.94</td>\n",
       "    </tr>\n",
       "    <tr>\n",
       "      <th>1086338</th>\n",
       "      <td>P1113_50_SV_T2</td>\n",
       "      <td>2013-11-25 05:23:27</td>\n",
       "      <td>-0.94</td>\n",
       "    </tr>\n",
       "    <tr>\n",
       "      <th>1086339</th>\n",
       "      <td>P1113_50_SV_T2</td>\n",
       "      <td>2013-11-25 05:23:28</td>\n",
       "      <td>-0.94</td>\n",
       "    </tr>\n",
       "    <tr>\n",
       "      <th>1086340</th>\n",
       "      <td>P1113_50_SV_T2</td>\n",
       "      <td>2013-11-25 05:23:29</td>\n",
       "      <td>-0.94</td>\n",
       "    </tr>\n",
       "    <tr>\n",
       "      <th>1086341</th>\n",
       "      <td>P1113_50_SV_T2</td>\n",
       "      <td>2013-11-25 05:23:30</td>\n",
       "      <td>-0.94</td>\n",
       "    </tr>\n",
       "  </tbody>\n",
       "</table>\n",
       "<p>1086342 rows × 3 columns</p>\n",
       "</div>"
      ],
      "text/plain": [
       "                   trip             datetime  pressure\n",
       "0         P1108_4_SV_T1  2008-11-25 13:00:35     -0.35\n",
       "1         P1108_4_SV_T1  2008-11-25 13:00:36     -0.38\n",
       "2         P1108_4_SV_T1  2008-11-25 13:00:37     -0.35\n",
       "3         P1108_4_SV_T1  2008-11-25 13:00:38     -0.29\n",
       "4         P1108_4_SV_T1  2008-11-25 13:00:39     -0.29\n",
       "...                 ...                  ...       ...\n",
       "1086337  P1113_50_SV_T2  2013-11-25 05:23:26     -0.94\n",
       "1086338  P1113_50_SV_T2  2013-11-25 05:23:27     -0.94\n",
       "1086339  P1113_50_SV_T2  2013-11-25 05:23:28     -0.94\n",
       "1086340  P1113_50_SV_T2  2013-11-25 05:23:29     -0.94\n",
       "1086341  P1113_50_SV_T2  2013-11-25 05:23:30     -0.94\n",
       "\n",
       "[1086342 rows x 3 columns]"
      ]
     },
     "execution_count": 9,
     "metadata": {},
     "output_type": "execute_result"
    }
   ],
   "source": [
    "request = \"SELECT \\\n",
    "            trip.id as trip, tdr.datetime, tdr.pressure \\\n",
    "            FROM tdr \\\n",
    "            INNER JOIN trip ON tdr.trip = trip.id \\\n",
    "            INNER JOIN bird ON trip.bird = bird.id \\\n",
    "            WHERE trip.file_gps IS NOT NULL \\\n",
    "            AND trip.file_tdr IS NOT NULL \\\n",
    "            AND (bird.fieldwork = 'P1108' OR bird.fieldwork = 'P1111' \\\n",
    "                OR bird.fieldwork = 'P1112' OR bird.fieldwork = 'P1113') \\\n",
    "            AND bird.species = 'SV'\"\n",
    "\n",
    "# WHERE substr(bird.fieldwork,1,1) = 'P' \n",
    "\n",
    "tdr = pd.read_sql_query(request, conn)\n",
    "tdr"
   ]
  },
  {
   "cell_type": "code",
   "execution_count": 10,
   "metadata": {
    "id": "38TpVcmguxZh"
   },
   "outputs": [],
   "source": [
    "tdr['datetime'] = pd.to_datetime(tdr['datetime'], format='%Y-%m-%d %H:%M:%S')\n",
    "gps['datetime'] = pd.to_datetime(gps['datetime'], format='%Y-%m-%d %H:%M:%S')"
   ]
  },
  {
   "cell_type": "code",
   "execution_count": 11,
   "metadata": {
    "colab": {
     "base_uri": "https://localhost:8080/",
     "height": 424
    },
    "id": "nege47GTuxZl",
    "outputId": "7058a439-0bca-45a4-8e5c-19bdffd4f093"
   },
   "outputs": [
    {
     "data": {
      "text/html": [
       "<div>\n",
       "<style scoped>\n",
       "    .dataframe tbody tr th:only-of-type {\n",
       "        vertical-align: middle;\n",
       "    }\n",
       "\n",
       "    .dataframe tbody tr th {\n",
       "        vertical-align: top;\n",
       "    }\n",
       "\n",
       "    .dataframe thead th {\n",
       "        text-align: right;\n",
       "    }\n",
       "</style>\n",
       "<table border=\"1\" class=\"dataframe\">\n",
       "  <thead>\n",
       "    <tr style=\"text-align: right;\">\n",
       "      <th></th>\n",
       "      <th>trip</th>\n",
       "      <th>datetime</th>\n",
       "      <th>pressure</th>\n",
       "      <th>lon</th>\n",
       "      <th>lat</th>\n",
       "    </tr>\n",
       "  </thead>\n",
       "  <tbody>\n",
       "    <tr>\n",
       "      <th>0</th>\n",
       "      <td>P1108_4_SV_T1</td>\n",
       "      <td>2008-11-25 13:00:35</td>\n",
       "      <td>-0.35</td>\n",
       "      <td>-77.264128</td>\n",
       "      <td>-11.773317</td>\n",
       "    </tr>\n",
       "    <tr>\n",
       "      <th>1</th>\n",
       "      <td>P1108_4_SV_T1</td>\n",
       "      <td>2008-11-25 13:00:36</td>\n",
       "      <td>-0.38</td>\n",
       "      <td>-77.264118</td>\n",
       "      <td>-11.773235</td>\n",
       "    </tr>\n",
       "    <tr>\n",
       "      <th>2</th>\n",
       "      <td>P1108_4_SV_T1</td>\n",
       "      <td>2008-11-25 13:00:37</td>\n",
       "      <td>-0.35</td>\n",
       "      <td>-77.264098</td>\n",
       "      <td>-11.773152</td>\n",
       "    </tr>\n",
       "    <tr>\n",
       "      <th>3</th>\n",
       "      <td>P1108_4_SV_T1</td>\n",
       "      <td>2008-11-25 13:00:38</td>\n",
       "      <td>-0.29</td>\n",
       "      <td>-77.264113</td>\n",
       "      <td>-11.773060</td>\n",
       "    </tr>\n",
       "    <tr>\n",
       "      <th>4</th>\n",
       "      <td>P1108_4_SV_T1</td>\n",
       "      <td>2008-11-25 13:00:39</td>\n",
       "      <td>-0.29</td>\n",
       "      <td>-77.264142</td>\n",
       "      <td>-11.772955</td>\n",
       "    </tr>\n",
       "    <tr>\n",
       "      <th>...</th>\n",
       "      <td>...</td>\n",
       "      <td>...</td>\n",
       "      <td>...</td>\n",
       "      <td>...</td>\n",
       "      <td>...</td>\n",
       "    </tr>\n",
       "    <tr>\n",
       "      <th>1086337</th>\n",
       "      <td>P1113_50_SV_T2</td>\n",
       "      <td>2013-11-25 05:23:26</td>\n",
       "      <td>-0.94</td>\n",
       "      <td>-77.264832</td>\n",
       "      <td>-11.773701</td>\n",
       "    </tr>\n",
       "    <tr>\n",
       "      <th>1086338</th>\n",
       "      <td>P1113_50_SV_T2</td>\n",
       "      <td>2013-11-25 05:23:27</td>\n",
       "      <td>-0.94</td>\n",
       "      <td>-77.264862</td>\n",
       "      <td>-11.773664</td>\n",
       "    </tr>\n",
       "    <tr>\n",
       "      <th>1086339</th>\n",
       "      <td>P1113_50_SV_T2</td>\n",
       "      <td>2013-11-25 05:23:28</td>\n",
       "      <td>-0.94</td>\n",
       "      <td>-77.264900</td>\n",
       "      <td>-11.773705</td>\n",
       "    </tr>\n",
       "    <tr>\n",
       "      <th>1086340</th>\n",
       "      <td>P1113_50_SV_T2</td>\n",
       "      <td>2013-11-25 05:23:29</td>\n",
       "      <td>-0.94</td>\n",
       "      <td>-77.264931</td>\n",
       "      <td>-11.773739</td>\n",
       "    </tr>\n",
       "    <tr>\n",
       "      <th>1086341</th>\n",
       "      <td>P1113_50_SV_T2</td>\n",
       "      <td>2013-11-25 05:23:30</td>\n",
       "      <td>-0.94</td>\n",
       "      <td>-77.264954</td>\n",
       "      <td>-11.773770</td>\n",
       "    </tr>\n",
       "  </tbody>\n",
       "</table>\n",
       "<p>1086342 rows × 5 columns</p>\n",
       "</div>"
      ],
      "text/plain": [
       "                   trip            datetime  pressure        lon        lat\n",
       "0         P1108_4_SV_T1 2008-11-25 13:00:35     -0.35 -77.264128 -11.773317\n",
       "1         P1108_4_SV_T1 2008-11-25 13:00:36     -0.38 -77.264118 -11.773235\n",
       "2         P1108_4_SV_T1 2008-11-25 13:00:37     -0.35 -77.264098 -11.773152\n",
       "3         P1108_4_SV_T1 2008-11-25 13:00:38     -0.29 -77.264113 -11.773060\n",
       "4         P1108_4_SV_T1 2008-11-25 13:00:39     -0.29 -77.264142 -11.772955\n",
       "...                 ...                 ...       ...        ...        ...\n",
       "1086337  P1113_50_SV_T2 2013-11-25 05:23:26     -0.94 -77.264832 -11.773701\n",
       "1086338  P1113_50_SV_T2 2013-11-25 05:23:27     -0.94 -77.264862 -11.773664\n",
       "1086339  P1113_50_SV_T2 2013-11-25 05:23:28     -0.94 -77.264900 -11.773705\n",
       "1086340  P1113_50_SV_T2 2013-11-25 05:23:29     -0.94 -77.264931 -11.773739\n",
       "1086341  P1113_50_SV_T2 2013-11-25 05:23:30     -0.94 -77.264954 -11.773770\n",
       "\n",
       "[1086342 rows x 5 columns]"
      ]
     },
     "execution_count": 11,
     "metadata": {},
     "output_type": "execute_result"
    }
   ],
   "source": [
    "df = pd.merge(tdr, gps, on=['trip', 'datetime'], how='left')\n",
    "df"
   ]
  },
  {
   "cell_type": "code",
   "execution_count": 12,
   "metadata": {
    "id": "xq2CiMWauxZr"
   },
   "outputs": [],
   "source": [
    "# check NaN and fill with interpolations\n",
    "[i for i, x in enumerate(df['lon'].isna()) if x]\n",
    "\n",
    "\n",
    "df['lon'] = df['lon'].interpolate(method='polynomial', order=2)\n",
    "df['lat'] = df['lat'].interpolate(method='polynomial', order=2)"
   ]
  },
  {
   "cell_type": "code",
   "execution_count": 13,
   "metadata": {
    "colab": {
     "base_uri": "https://localhost:8080/",
     "height": 35
    },
    "id": "PmzJfx3wuxZv",
    "outputId": "8eeb1a9b-51e5-46b5-c517-5e120a38764b"
   },
   "outputs": [
    {
     "data": {
      "text/plain": [
       "185"
      ]
     },
     "execution_count": 13,
     "metadata": {},
     "output_type": "execute_result"
    }
   ],
   "source": [
    "len(df.trip.unique())"
   ]
  },
  {
   "cell_type": "code",
   "execution_count": 14,
   "metadata": {
    "id": "fDsW2pmFuxZ0"
   },
   "outputs": [],
   "source": [
    "bad_trip = ['P1111_9_SV_T1', 'P1111_13_SV_T6', 'P1111_41_SV_T2', 'P1111_46_SV_T5', 'P1111_52_SV_T1',\n",
    "            'P1112_4_SV_T2', 'P1112_26_SV_T5', 'P1112_36_SV_T1', 'P1112_36_SV_T2', 'P1113_41_SV_T3',\n",
    "           'P1113_50_SV_T2']\n",
    "\n",
    "no_loop = ['P1112_26_SV_T1', 'P1112_26_SV_T2', 'P1112_26_SV_T3', 'P1112_26_SV_T4']"
   ]
  },
  {
   "cell_type": "code",
   "execution_count": 15,
   "metadata": {
    "id": "v8fUVHEpuxZ5"
   },
   "outputs": [],
   "source": [
    "### remove bad data\n",
    "idx = df.index[[(t in bad_trip or t in no_loop) for t in df.trip]]\n",
    "df = df.drop(idx)"
   ]
  },
  {
   "cell_type": "code",
   "execution_count": 16,
   "metadata": {
    "colab": {
     "base_uri": "https://localhost:8080/",
     "height": 35
    },
    "id": "KvLTDbIJuxZ9",
    "outputId": "d7adc100-0c81-49d2-908c-2d9626fef0c5"
   },
   "outputs": [
    {
     "data": {
      "text/plain": [
       "170"
      ]
     },
     "execution_count": 16,
     "metadata": {},
     "output_type": "execute_result"
    }
   ],
   "source": [
    "len(df.trip.unique())"
   ]
  },
  {
   "cell_type": "markdown",
   "metadata": {
    "id": "-i_V8GgDuxaB"
   },
   "source": [
    "## Area Restricted Search\n",
    "\n",
    "### Example"
   ]
  },
  {
   "cell_type": "code",
   "execution_count": 17,
   "metadata": {
    "colab": {
     "base_uri": "https://localhost:8080/",
     "height": 72
    },
    "id": "U9NtLnlZuxaE",
    "outputId": "10fc9573-90ee-45e1-bc8f-e5eb07879d1e"
   },
   "outputs": [
    {
     "name": "stdout",
     "output_type": "stream",
     "text": [
      "Distance [6626/6627]\n",
      "CPU times: user 13.2 s, sys: 1.19 s, total: 14.3 s\n",
      "Wall time: 12.4 s\n"
     ]
    }
   ],
   "source": [
    "%%time\n",
    "\n",
    "df_trip = df[df.trip == 'P1108_4_SV_T1']\n",
    "\n",
    "t = trip.Trip(df_trip)\n",
    "t.compute_dist_matrix()"
   ]
  },
  {
   "cell_type": "code",
   "execution_count": 19,
   "metadata": {},
   "outputs": [
    {
     "data": {
      "text/plain": [
       "<matplotlib.image.AxesImage at 0x7fbecac97550>"
      ]
     },
     "execution_count": 19,
     "metadata": {},
     "output_type": "execute_result"
    },
    {
     "data": {
      "image/png": "[encoded data removed]",
      "text/plain": [
       "<Figure size 432x288 with 1 Axes>"
      ]
     },
     "metadata": {
      "needs_background": "light"
     },
     "output_type": "display_data"
    }
   ],
   "source": [
    "plt.imshow(t.dist_matrix)"
   ]
  },
  {
   "cell_type": "code",
   "execution_count": 20,
   "metadata": {
    "id": "yvkAV2KQuxaI"
   },
   "outputs": [],
   "source": [
    "radius=250\n",
    "residence = t.residence_time(radius)\n",
    "first_passage = t.first_time_passage(radius)"
   ]
  },
  {
   "cell_type": "code",
   "execution_count": 21,
   "metadata": {
    "colab": {
     "base_uri": "https://localhost:8080/",
     "height": 555
    },
    "id": "4FrYGX7ZuxaL",
    "outputId": "409f71ce-7443-4470-e7ca-41bd10e807cb"
   },
   "outputs": [
    {
     "data": {
      "text/plain": [
       "<matplotlib.collections.PathCollection at 0x7fbeceaba850>"
      ]
     },
     "execution_count": 21,
     "metadata": {},
     "output_type": "execute_result"
    },
    {
     "data": {
      "image/png": "[encoded data removed]",
      "text/plain": [
       "<Figure size 648x648 with 4 Axes>"
      ]
     },
     "metadata": {
      "needs_background": "light"
     },
     "output_type": "display_data"
    }
   ],
   "source": [
    "tt = 125\n",
    "dive_ars = np.array(first_passage)>tt\n",
    "\n",
    "plt.figure(figsize=(9, 9))\n",
    "\n",
    "plt.subplot(2, 2, 1)\n",
    "plt.plot(residence)\n",
    "plt.plot(tt*np.ones(len(residence)), c = 'orange')\n",
    "\n",
    "plt.subplot(2, 2, 2)\n",
    "plt.plot(first_passage)\n",
    "plt.plot(tt*np.ones(len(residence)), c = 'orange')\n",
    "\n",
    "plt.subplot(2, 2, 3)\n",
    "plt.plot(t.df.lon.values, t.df.lat.values)\n",
    "plt.scatter(t.df.lon.values[dive_ars], \\\n",
    "            t.df.lat.values[dive_ars], c = 'orange')\n",
    "\n",
    "plt.subplot(2, 2, 4)\n",
    "plt.plot(t.df.lon.values, t.df.lat.values)\n",
    "plt.scatter(t.df.lon.values[dive_ars], \\\n",
    "            t.df.lat.values[dive_ars], c = 'orange')"
   ]
  },
  {
   "cell_type": "markdown",
   "metadata": {},
   "source": [
    "### Prediction accuracy - Resolution 1s"
   ]
  },
  {
   "cell_type": "code",
   "execution_count": 63,
   "metadata": {
    "id": "35yQDNBRuxaO"
   },
   "outputs": [
    {
     "name": "stdout",
     "output_type": "stream",
     "text": [
      "Overall Score : 0.8877320054323223 \n",
      "True Dive Detection : 0.26666666666666666 \n",
      "Mean Score : 0.5779038112522686 \n",
      "\n"
     ]
    }
   ],
   "source": [
    "# compute prediction\n",
    "threshold = 1\n",
    "t.add_dive(threshold)\n",
    "\n",
    "# overall performance\n",
    "true = np.sum(t.df.dive == dive_ars)/len(t.df)\n",
    "\n",
    "# no dive prediction performance\n",
    "no_dive_prediction = [dive_ars[i] for i in range(len(t.df)) if not t.df.dive[i]]\n",
    "true_no_dive = 1-np.sum(no_dive_prediction)/len(no_dive_prediction)\n",
    "\n",
    "# dive prediction performance\n",
    "dive_prediction = [dive_ars[i] for i in range(len(t.df)) if t.df.dive[i]]\n",
    "true_dive = np.sum(dive_prediction)/len(dive_prediction)\n",
    "\n",
    "\n",
    "print('Overall Score : {} \\nTrue Dive Detection : {} \\nMean Score : {} \\n'.format(true, true_dive, (true_no_dive + true_dive)/2))"
   ]
  },
  {
   "cell_type": "markdown",
   "metadata": {},
   "source": [
    "### Prediction accuracy - Resolution 10s"
   ]
  },
  {
   "cell_type": "code",
   "execution_count": 41,
   "metadata": {},
   "outputs": [],
   "source": [
    "# change resolution\n",
    "real = [np.max(t.df.dive[i:i+11]) for i in range(len(t.df)) if i%10==0]\n",
    "estim = [np.max(1*dive_ars[i:i+11]) for i in range(len(dive_ars)) if i%10==0]"
   ]
  },
  {
   "cell_type": "code",
   "execution_count": 64,
   "metadata": {
    "scrolled": true
   },
   "outputs": [
    {
     "name": "stdout",
     "output_type": "stream",
     "text": [
      "Overall Score : 0.8778280542986425 \n",
      "True Dive Detection : 0.4444444444444444 \n",
      "Mean Score : 0.664118246687054 \n",
      "\n"
     ]
    }
   ],
   "source": [
    "# overall performance\n",
    "true = sum(np.array(real)==np.array(estim))/len(real)\n",
    "\n",
    "# no dive prediction performance\n",
    "no_dive_prediction = [estim[i] for i in range(len(estim)) if not real[i]]\n",
    "true_no_dive = 1-np.sum(no_dive_prediction)/len(no_dive_prediction)\n",
    "\n",
    "# dive prediction performance\n",
    "dive_prediction = [estim[i] for i in range(len(estim)) if real[i]]\n",
    "true_dive = np.sum(dive_prediction)/len(dive_prediction)\n",
    "        \n",
    "score = (true_no_dive + true_dive)/2\n",
    "\n",
    "print('Overall Score : {} \\nTrue Dive Detection : {} \\nMean Score : {} \\n'.format(true, true_dive, (true_no_dive + true_dive)/2))"
   ]
  },
  {
   "cell_type": "markdown",
   "metadata": {},
   "source": [
    "### Prediction accuracy - Resolution 60s"
   ]
  },
  {
   "cell_type": "code",
   "execution_count": 65,
   "metadata": {},
   "outputs": [],
   "source": [
    "# change resolution\n",
    "real = [np.max(t.df.dive[i:i+61]) for i in range(len(t.df)) if i%60==0]\n",
    "estim = [np.max(1*dive_ars[i:i+61]) for i in range(len(dive_ars)) if i%60==0]"
   ]
  },
  {
   "cell_type": "code",
   "execution_count": 66,
   "metadata": {},
   "outputs": [
    {
     "name": "stdout",
     "output_type": "stream",
     "text": [
      "Overall Score : 0.8468468468468469 \n",
      "True Dive Detection : 0.5 \n",
      "Mean Score : 0.6868932038834952 \n",
      "\n"
     ]
    }
   ],
   "source": [
    "# overall performance\n",
    "true = sum(np.array(real)==np.array(estim))/len(real)\n",
    "\n",
    "# no dive prediction performance\n",
    "no_dive_prediction = [estim[i] for i in range(len(estim)) if not real[i]]\n",
    "true_no_dive = 1-np.sum(no_dive_prediction)/len(no_dive_prediction)\n",
    "\n",
    "# dive prediction performance\n",
    "dive_prediction = [estim[i] for i in range(len(estim)) if real[i]]\n",
    "true_dive = np.sum(dive_prediction)/len(dive_prediction)\n",
    "        \n",
    "score = (true_no_dive + true_dive)/2\n",
    "\n",
    "print('Overall Score : {} \\nTrue Dive Detection : {} \\nMean Score : {} \\n'.format(true, true_dive, (true_no_dive + true_dive)/2))"
   ]
  }
 ],
 "metadata": {
  "colab": {
   "include_colab_link": true,
   "name": "Area Restricted Research.ipynb",
   "provenance": []
  },
  "kernelspec": {
   "display_name": "Python 3",
   "language": "python",
   "name": "python3"
  },
  "language_info": {
   "codemirror_mode": {
    "name": "ipython",
    "version": 3
   },
   "file_extension": ".py",
   "mimetype": "text/x-python",
   "name": "python",
   "nbconvert_exporter": "python",
   "pygments_lexer": "ipython3",
   "version": "3.7.4"
  }
 },
 "nbformat": 4,
 "nbformat_minor": 1
}
