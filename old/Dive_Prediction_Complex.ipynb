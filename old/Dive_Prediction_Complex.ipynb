{
  "nbformat": 4,
  "nbformat_minor": 0,
  "metadata": {
    "kernelspec": {
      "display_name": "Python 3",
      "language": "python",
      "name": "python3"
    },
    "language_info": {
      "codemirror_mode": {
        "name": "ipython",
        "version": 3
      },
      "file_extension": ".py",
      "mimetype": "text/x-python",
      "name": "python",
      "nbconvert_exporter": "python",
      "pygments_lexer": "ipython3",
      "version": "3.7.4"
    },
    "colab": {
      "name": "Dive_Prediction_Complex.ipynb",
      "provenance": []
    }
  },
  "cells": [
    {
      "cell_type": "markdown",
      "metadata": {
        "id": "cke-hQwrr4rV"
      },
      "source": [
        "# Predicting Seabird Diving Behaviour with GPS data\n",
        "\n",
        "Supervized Learning with Complex Numbers"
      ]
    },
    {
      "cell_type": "code",
      "metadata": {
        "id": "mSW2B8oassAy",
        "outputId": "3f76ac1b-5e96-4ff3-aa29-075673e02df3",
        "colab": {
          "base_uri": "https://localhost:8080/"
        }
      },
      "source": [
        "# mount google drive\n",
        "from google.colab import drive\n",
        "drive.mount(\"/content/drive/\")"
      ],
      "execution_count": 1,
      "outputs": [
        {
          "output_type": "stream",
          "text": [
            "Mounted at /content/drive/\n"
          ],
          "name": "stdout"
        }
      ]
    },
    {
      "cell_type": "code",
      "metadata": {
        "id": "VOMZc2VVssqb",
        "outputId": "f045a71f-dfd2-4b88-f623-85e8246012f8",
        "colab": {
          "base_uri": "https://localhost:8080/"
        }
      },
      "source": [
        "%cd drive/My\\ Drive/BirdDL"
      ],
      "execution_count": 2,
      "outputs": [
        {
          "output_type": "stream",
          "text": [
            "/content/drive/My Drive/BirdDL\n"
          ],
          "name": "stdout"
        }
      ]
    },
    {
      "cell_type": "code",
      "metadata": {
        "id": "6AilyjNEsst3"
      },
      "source": [
        "import sqlite3\n",
        "import pandas as pd\n",
        "import numpy as np\n",
        "import matplotlib.pyplot as plt\n",
        "import IPython\n",
        "import datetime\n",
        "import random\n",
        "import pickle\n",
        "import trip"
      ],
      "execution_count": 3,
      "outputs": []
    },
    {
      "cell_type": "code",
      "metadata": {
        "id": "KGbNvJPassxp"
      },
      "source": [
        "# connect to database\n",
        "conn = sqlite3.connect('/content/drive/My Drive/data/seabirdbank.db')\n",
        "# conn = sqlite3.connect('/home/amdroy/MEGA/DATA/seabirdbank.db')"
      ],
      "execution_count": 4,
      "outputs": []
    },
    {
      "cell_type": "code",
      "metadata": {
        "id": "tZVZfF9rss02",
        "outputId": "b4501c84-0619-4560-856e-5f487871e009",
        "colab": {
          "base_uri": "https://localhost:8080/",
          "height": 424
        }
      },
      "source": [
        "request = \"SELECT \\\n",
        "            trip.id as trip, gps.datetime, gps.lon, gps.lat\\\n",
        "            FROM gps \\\n",
        "            INNER JOIN trip ON gps.trip = trip.id \\\n",
        "            INNER JOIN bird ON trip.bird = bird.id \\\n",
        "            WHERE trip.file_gps IS NOT NULL \\\n",
        "            AND trip.file_tdr IS NOT NULL \\\n",
        "            AND (bird.fieldwork = 'P1108' OR bird.fieldwork = 'P1111' \\\n",
        "                OR bird.fieldwork = 'P1112' OR bird.fieldwork = 'P1113') \\\n",
        "            AND bird.species = 'SV'\"\n",
        "\n",
        "# substr(bird.fieldwork,1,1) = 'P'\n",
        "\n",
        "gps = pd.read_sql_query(request, conn)\n",
        "\n",
        "# check duplicated datetime in GPS trip\n",
        "idx = gps.index[gps.loc[:, 'trip':'datetime'].duplicated(keep=False)]\n",
        "idx_drop = [idx[i] for i in range(0, len(idx), 2)]\n",
        "gps = gps.drop(idx_drop)\n",
        "\n",
        "\n",
        "request = \"SELECT \\\n",
        "            trip.id as trip, tdr.datetime, tdr.pressure \\\n",
        "            FROM tdr \\\n",
        "            INNER JOIN trip ON tdr.trip = trip.id \\\n",
        "            INNER JOIN bird ON trip.bird = bird.id \\\n",
        "            WHERE trip.file_gps IS NOT NULL \\\n",
        "            AND trip.file_tdr IS NOT NULL \\\n",
        "            AND (bird.fieldwork = 'P1108' OR bird.fieldwork = 'P1111' \\\n",
        "                OR bird.fieldwork = 'P1112' OR bird.fieldwork = 'P1113') \\\n",
        "            AND bird.species = 'SV'\"\n",
        "\n",
        "# WHERE substr(bird.fieldwork,1,1) = 'P' \n",
        "\n",
        "tdr = pd.read_sql_query(request, conn)\n",
        "tdr['datetime'] = pd.to_datetime(tdr['datetime'], format='%Y-%m-%d %H:%M:%S')\n",
        "gps['datetime'] = pd.to_datetime(gps['datetime'], format='%Y-%m-%d %H:%M:%S')\n",
        "\n",
        "df = pd.merge(tdr, gps, on=['trip', 'datetime'], how='left')\n",
        "\n",
        "# check NaN and fill with interpolations\n",
        "[i for i, x in enumerate(df['lon'].isna()) if x]\n",
        "\n",
        "\n",
        "df['lon'] = df['lon'].interpolate(method='polynomial', order=2)\n",
        "df['lat'] = df['lat'].interpolate(method='polynomial', order=2)\n",
        "\n",
        "\n",
        "bad_trip = ['P1111_9_SV_T1', 'P1111_13_SV_T6', 'P1111_41_SV_T2', 'P1111_46_SV_T5', 'P1111_52_SV_T1',\n",
        "            'P1112_4_SV_T2', 'P1112_26_SV_T5', 'P1112_36_SV_T1', 'P1112_36_SV_T2', 'P1113_41_SV_T3',\n",
        "           'P1113_50_SV_T2']\n",
        "\n",
        "no_loop = ['P1112_26_SV_T1', 'P1112_26_SV_T2', 'P1112_26_SV_T3', 'P1112_26_SV_T4']\n",
        "\n",
        "\n",
        "### remove bad data\n",
        "idx = df.index[[(t in bad_trip or t in no_loop) for t in df.trip]]\n",
        "df = df.drop(idx)\n",
        "\n",
        "df"
      ],
      "execution_count": 5,
      "outputs": [
        {
          "output_type": "execute_result",
          "data": {
            "text/html": [
              "<div>\n",
              "<style scoped>\n",
              "    .dataframe tbody tr th:only-of-type {\n",
              "        vertical-align: middle;\n",
              "    }\n",
              "\n",
              "    .dataframe tbody tr th {\n",
              "        vertical-align: top;\n",
              "    }\n",
              "\n",
              "    .dataframe thead th {\n",
              "        text-align: right;\n",
              "    }\n",
              "</style>\n",
              "<table border=\"1\" class=\"dataframe\">\n",
              "  <thead>\n",
              "    <tr style=\"text-align: right;\">\n",
              "      <th></th>\n",
              "      <th>trip</th>\n",
              "      <th>datetime</th>\n",
              "      <th>pressure</th>\n",
              "      <th>lon</th>\n",
              "      <th>lat</th>\n",
              "    </tr>\n",
              "  </thead>\n",
              "  <tbody>\n",
              "    <tr>\n",
              "      <th>0</th>\n",
              "      <td>P1108_4_SV_T1</td>\n",
              "      <td>2008-11-25 13:00:35</td>\n",
              "      <td>-0.35</td>\n",
              "      <td>-77.264128</td>\n",
              "      <td>-11.773317</td>\n",
              "    </tr>\n",
              "    <tr>\n",
              "      <th>1</th>\n",
              "      <td>P1108_4_SV_T1</td>\n",
              "      <td>2008-11-25 13:00:36</td>\n",
              "      <td>-0.38</td>\n",
              "      <td>-77.264118</td>\n",
              "      <td>-11.773235</td>\n",
              "    </tr>\n",
              "    <tr>\n",
              "      <th>2</th>\n",
              "      <td>P1108_4_SV_T1</td>\n",
              "      <td>2008-11-25 13:00:37</td>\n",
              "      <td>-0.35</td>\n",
              "      <td>-77.264098</td>\n",
              "      <td>-11.773152</td>\n",
              "    </tr>\n",
              "    <tr>\n",
              "      <th>3</th>\n",
              "      <td>P1108_4_SV_T1</td>\n",
              "      <td>2008-11-25 13:00:38</td>\n",
              "      <td>-0.29</td>\n",
              "      <td>-77.264113</td>\n",
              "      <td>-11.773060</td>\n",
              "    </tr>\n",
              "    <tr>\n",
              "      <th>4</th>\n",
              "      <td>P1108_4_SV_T1</td>\n",
              "      <td>2008-11-25 13:00:39</td>\n",
              "      <td>-0.29</td>\n",
              "      <td>-77.264142</td>\n",
              "      <td>-11.772955</td>\n",
              "    </tr>\n",
              "    <tr>\n",
              "      <th>...</th>\n",
              "      <td>...</td>\n",
              "      <td>...</td>\n",
              "      <td>...</td>\n",
              "      <td>...</td>\n",
              "      <td>...</td>\n",
              "    </tr>\n",
              "    <tr>\n",
              "      <th>1035988</th>\n",
              "      <td>P1113_50_SV_T1</td>\n",
              "      <td>2013-11-24 13:09:17</td>\n",
              "      <td>-1.01</td>\n",
              "      <td>-77.264229</td>\n",
              "      <td>-11.773601</td>\n",
              "    </tr>\n",
              "    <tr>\n",
              "      <th>1035989</th>\n",
              "      <td>P1113_50_SV_T1</td>\n",
              "      <td>2013-11-24 13:09:18</td>\n",
              "      <td>-1.07</td>\n",
              "      <td>-77.264221</td>\n",
              "      <td>-11.773701</td>\n",
              "    </tr>\n",
              "    <tr>\n",
              "      <th>1035990</th>\n",
              "      <td>P1113_50_SV_T1</td>\n",
              "      <td>2013-11-24 13:09:19</td>\n",
              "      <td>-1.07</td>\n",
              "      <td>-77.264191</td>\n",
              "      <td>-11.773771</td>\n",
              "    </tr>\n",
              "    <tr>\n",
              "      <th>1035991</th>\n",
              "      <td>P1113_50_SV_T1</td>\n",
              "      <td>2013-11-24 13:09:20</td>\n",
              "      <td>-1.01</td>\n",
              "      <td>-77.264168</td>\n",
              "      <td>-11.773826</td>\n",
              "    </tr>\n",
              "    <tr>\n",
              "      <th>1035992</th>\n",
              "      <td>P1113_50_SV_T1</td>\n",
              "      <td>2013-11-24 13:09:21</td>\n",
              "      <td>-1.01</td>\n",
              "      <td>-77.264160</td>\n",
              "      <td>-11.773853</td>\n",
              "    </tr>\n",
              "  </tbody>\n",
              "</table>\n",
              "<p>862921 rows × 5 columns</p>\n",
              "</div>"
            ],
            "text/plain": [
              "                   trip            datetime  pressure        lon        lat\n",
              "0         P1108_4_SV_T1 2008-11-25 13:00:35     -0.35 -77.264128 -11.773317\n",
              "1         P1108_4_SV_T1 2008-11-25 13:00:36     -0.38 -77.264118 -11.773235\n",
              "2         P1108_4_SV_T1 2008-11-25 13:00:37     -0.35 -77.264098 -11.773152\n",
              "3         P1108_4_SV_T1 2008-11-25 13:00:38     -0.29 -77.264113 -11.773060\n",
              "4         P1108_4_SV_T1 2008-11-25 13:00:39     -0.29 -77.264142 -11.772955\n",
              "...                 ...                 ...       ...        ...        ...\n",
              "1035988  P1113_50_SV_T1 2013-11-24 13:09:17     -1.01 -77.264229 -11.773601\n",
              "1035989  P1113_50_SV_T1 2013-11-24 13:09:18     -1.07 -77.264221 -11.773701\n",
              "1035990  P1113_50_SV_T1 2013-11-24 13:09:19     -1.07 -77.264191 -11.773771\n",
              "1035991  P1113_50_SV_T1 2013-11-24 13:09:20     -1.01 -77.264168 -11.773826\n",
              "1035992  P1113_50_SV_T1 2013-11-24 13:09:21     -1.01 -77.264160 -11.773853\n",
              "\n",
              "[862921 rows x 5 columns]"
            ]
          },
          "metadata": {
            "tags": []
          },
          "execution_count": 5
        }
      ]
    },
    {
      "cell_type": "code",
      "metadata": {
        "id": "yS1f9SdIs4yN",
        "outputId": "e1f1bd72-d2e3-4f9d-e6af-40029160ade2",
        "colab": {
          "base_uri": "https://localhost:8080/"
        }
      },
      "source": [
        "%%time\n",
        "trajs = []\n",
        "threshold = 1\n",
        "radius = 500\n",
        "n = 1\n",
        "for k in df.trip.unique():\n",
        "    df_trip = df[df.trip == k]\n",
        "    \n",
        "    t = trip.Trip(df_trip)\n",
        "\n",
        "    # add variables\n",
        "    t.add_dive(threshold)\n",
        "    t.add_step()\n",
        "    t.add_cap()\n",
        "    t.df['speed_lon'] = np.cos(t.df.cap) * t.df.step\n",
        "    t.df['speed_lat'] = np.sin(t.df.cap) * t.df.step\n",
        "\n",
        "    # standardized trajectories\n",
        "    t.standardize(('speed_lon', 'speed_lat'))\n",
        "    t.standardize_minmax(('lon', 'lat'))\n",
        "    \n",
        "    trajs.append(t.df)\n",
        "    \n",
        "    IPython.display.clear_output(wait=True)\n",
        "    print('Trip [{}/{}]'.format(n, len(df.trip.unique())))\n",
        "    n+=1"
      ],
      "execution_count": 152,
      "outputs": [
        {
          "output_type": "stream",
          "text": [
            "Trip [170/170]\n",
            "CPU times: user 20.3 s, sys: 306 ms, total: 20.6 s\n",
            "Wall time: 20.6 s\n"
          ],
          "name": "stdout"
        }
      ]
    },
    {
      "cell_type": "code",
      "metadata": {
        "id": "bZD8O2Ils8Qx"
      },
      "source": [
        "test_trajs_idx = np.random.randint(0, len(df.trip.unique()), 30)\n",
        "\n",
        "test_trajs = [trajs[i] for i in test_trajs_idx]\n",
        "train_trajs = [trajs[i] for i in range(len(df.trip.unique())) if i not in test_trajs_idx]"
      ],
      "execution_count": 153,
      "outputs": []
    },
    {
      "cell_type": "markdown",
      "metadata": {
        "id": "ZK8HIsqjtOO6"
      },
      "source": [
        "## Neural Network"
      ]
    },
    {
      "cell_type": "code",
      "metadata": {
        "id": "tUWcrD-YtKCt"
      },
      "source": [
        "# pytorch materials\n",
        "import torch\n",
        "from torch import nn\n",
        "from torch import optim\n",
        "import torchvision as tv\n",
        "from torchvision.datasets import ImageFolder\n",
        "from torch.utils.data import DataLoader"
      ],
      "execution_count": 154,
      "outputs": []
    },
    {
      "cell_type": "markdown",
      "metadata": {
        "id": "Dw4GXViEtSCv"
      },
      "source": [
        "#### Complex CNN"
      ]
    },
    {
      "cell_type": "code",
      "metadata": {
        "id": "GWcclRgv_Mbz"
      },
      "source": [
        "class Sampler:\n",
        "    def __init__(self, trajs, epoch_input, epoch_output, batch_size, input_var):\n",
        "      # raw trajectories\n",
        "      self.trajs = trajs\n",
        "      self.n = len(trajs)\n",
        "      # sample input specificities\n",
        "      self.epoch_input = epoch_input\n",
        "      self.epoch_output = epoch_output\n",
        "      self.epoch_ratio = round(epoch_input/epoch_output)\n",
        "      self.batch_size = batch_size\n",
        "      self.input_var = input_var\n",
        "\n",
        "\n",
        "    def sample(self):\n",
        "      input_batch = []\n",
        "      output_batch = []\n",
        "      for i in range(self.batch_size):\n",
        "        # look for a long trip\n",
        "        dt = []\n",
        "        while len(dt) < self.epoch_input :\n",
        "            traj_idx = np.random.randint(self.n)\n",
        "            dt = self.trajs[traj_idx]\n",
        "\n",
        "        # select part of this trip\n",
        "        epoch_idx = np.random.randint(2, len(dt)-self.epoch_input )\n",
        "\n",
        "        list_input_trajs = []\n",
        "        for (real, im) in self.input_var:\n",
        "            input_trajs_ = dt.loc[epoch_idx:epoch_idx+self.epoch_input -1, (real, im)]\n",
        "            list_input_trajs.append(np.array(input_trajs_))\n",
        "\n",
        "        input_trajs = np.stack(list_input_trajs)\n",
        "\n",
        "        output_trajs = dt.loc[epoch_idx:epoch_idx+self.epoch_input -1, 'dive']\n",
        "\n",
        "        # change resolution\n",
        "        output = [np.max(output_trajs[i:i+self.epoch_ratio+1]) for i in range(len(output_trajs)) if i%self.epoch_ratio==0]\n",
        "\n",
        "        # add it to batch\n",
        "        input_batch.append(input_trajs)\n",
        "        output_batch.append(np.array(output))\n",
        "\n",
        "      # convert to tensor\n",
        "      input_batch = torch.FloatTensor(input_batch)\n",
        "      output_batch = torch.FloatTensor(output_batch)\n",
        "\n",
        "      return (input_batch.permute(0,3,1,2), output_batch)"
      ],
      "execution_count": 155,
      "outputs": []
    },
    {
      "cell_type": "code",
      "metadata": {
        "id": "BK8F4GI4xkXW",
        "outputId": "52679b13-c61d-409b-ebfe-6bfded4d8b3c",
        "colab": {
          "base_uri": "https://localhost:8080/"
        }
      },
      "source": [
        "# Hyperparameters\n",
        "epoch_input = 600\n",
        "epoch_output = 60\n",
        "batch_size = 4\n",
        "learning_rate = 0.01\n",
        "\n",
        "input_var = [('lon_std_mm', 'lat_std_mm'), ('speed_lon_std', 'speed_lat_std')]\n",
        "\n",
        "train = Sampler(train_trajs, epoch_input, epoch_output, batch_size, input_var)\n",
        "test = Sampler(test_trajs, epoch_input, epoch_output, batch_size, input_var)\n",
        "\n",
        "(x, y) = train.sample()\n",
        "\n",
        "x.size()"
      ],
      "execution_count": 157,
      "outputs": [
        {
          "output_type": "execute_result",
          "data": {
            "text/plain": [
              "torch.Size([4, 2, 2, 600])"
            ]
          },
          "metadata": {
            "tags": []
          },
          "execution_count": 157
        }
      ]
    },
    {
      "cell_type": "code",
      "metadata": {
        "id": "DNuggmCftM4_",
        "outputId": "e41a2e28-1deb-4310-c3d7-9d1ebd2eb078",
        "colab": {
          "base_uri": "https://localhost:8080/",
          "height": 246
        }
      },
      "source": [
        "plt.figure(figsize=(16, 8))\n",
        "\n",
        "for i in range(batch_size):\n",
        "    lon = x.numpy()[i, 0, 0, :]\n",
        "    lat = x.numpy()[i, 1, 0, :]\n",
        "\n",
        "    real = y.numpy()[i,:]\n",
        "    real = [real[i] for i in range(len(real)) for k in range(10) ]\n",
        "\n",
        "    plt.subplot(2, 4, i+1)\n",
        "    plt.plot(lon, lat)\n",
        "    plt.scatter(lon[np.where(real)], lat[np.where(real)], c='orange')"
      ],
      "execution_count": 158,
      "outputs": [
        {
          "output_type": "display_data",
          "data": {
            "image/png": "[encoded data removed]",
            "text/plain": [
              "<Figure size 1152x576 with 4 Axes>"
            ]
          },
          "metadata": {
            "tags": [],
            "needs_background": "light"
          }
        }
      ]
    },
    {
      "cell_type": "code",
      "metadata": {
        "id": "LTxVL4M3r4Bz"
      },
      "source": [
        "### COMPLEX CNN\n",
        "\n",
        "class ComplexConv2d(nn.Module):\n",
        "    def __init__(self, in_channel, out_channel, kernel_size, stride=1, padding=0, dilation=1, groups=1, bias=True):\n",
        "        super(ComplexConv2d,self).__init__()\n",
        "        self.device = torch.device(\"cuda\" if torch.cuda.is_available() else \"cpu\")\n",
        "        self.padding = padding\n",
        "\n",
        "        ## Model components\n",
        "        self.conv_re = nn.Conv2d(in_channel, out_channel, kernel_size, stride=stride, padding=padding, dilation=dilation, groups=groups, bias=bias)\n",
        "        self.conv_im = nn.Conv2d(in_channel, out_channel, kernel_size, stride=stride, padding=padding, dilation=dilation, groups=groups, bias=bias)\n",
        "        \n",
        "    def forward(self, x): # shpae of x : [batch,2,channel,axis1,axis2]\n",
        "        real = self.conv_re(x[:,0]) - self.conv_im(x[:,1])\n",
        "        imaginary = self.conv_re(x[:,1]) + self.conv_im(x[:,0])\n",
        "        output = torch.stack((real,imaginary),dim=1)\n",
        "        return output\n",
        "\n",
        "class ComplexConv1d(nn.Module):\n",
        "    def __init__(self, in_channel, out_channel, kernel_size, stride=1, padding=0, dilation=1, groups=1, bias=True):\n",
        "        super(ComplexConv1d,self).__init__()\n",
        "        self.device = torch.device(\"cuda\" if torch.cuda.is_available() else \"cpu\")\n",
        "        self.padding = padding\n",
        "\n",
        "        ## Model components\n",
        "        self.conv_re = nn.Conv1d(in_channel, out_channel, kernel_size, stride=stride, padding=padding, dilation=dilation, groups=groups, bias=bias)\n",
        "        self.conv_im = nn.Conv1d(in_channel, out_channel, kernel_size, stride=stride, padding=padding, dilation=dilation, groups=groups, bias=bias)\n",
        "        \n",
        "    def forward(self, x): # shpae of x : [batch,2,channel,axis1,axis2]\n",
        "        real = self.conv_re(x[:,0]) - self.conv_im(x[:,1])\n",
        "        imaginary = self.conv_re(x[:,1]) + self.conv_im(x[:,0])\n",
        "        output = torch.stack((real,imaginary),dim=1)\n",
        "        return output"
      ],
      "execution_count": 159,
      "outputs": []
    },
    {
      "cell_type": "code",
      "metadata": {
        "id": "ImAE1lL9nX52"
      },
      "source": [
        "class ConvNet(nn.Module):\n",
        "    def __init__(self):\n",
        "        super(ConvNet, self).__init__()\n",
        "        \n",
        "        self.cnn_input_1 = nn.Sequential(\n",
        "            ComplexConv1d(2, 4, kernel_size = 11, stride = 1, padding = 5, dilation = 1),\n",
        "            nn.ReLU(),\n",
        "            ComplexConv1d(4, 4, kernel_size = 11, stride = 1, padding = 5, dilation = 1),\n",
        "            nn.ReLU()\n",
        "        )\n",
        "\n",
        "        self.pooling_1 = nn.Sequential(\n",
        "            nn.MaxPool2d(kernel_size = (1, 11), stride = (1, 2), padding = (0, 5), dilation =(1, 1))\n",
        "        )\n",
        "\n",
        "        self.cnn_input_2 = nn.Sequential(\n",
        "            ComplexConv1d(4, 8, kernel_size = 11, stride = 1, padding = 5, dilation = 1),\n",
        "            nn.ReLU(),\n",
        "            ComplexConv1d(8, 8, kernel_size = 11, stride = 1, padding = 5, dilation = 1),\n",
        "            nn.ReLU()\n",
        "        )\n",
        "\n",
        "        self.pooling_2 = nn.Sequential(\n",
        "            nn.MaxPool2d(kernel_size = (1, 11), stride = (1, 2), padding = (0, 5), dilation =(1, 1))\n",
        "        )\n",
        "\n",
        "        self.cnn_input_3 = nn.Sequential(\n",
        "            ComplexConv1d(8, 16, kernel_size = 11, stride = 1, padding = 5, dilation = 1),\n",
        "            nn.ReLU(),\n",
        "            ComplexConv1d(16, 16, kernel_size = 11, stride = 1, padding = 5, dilation = 1),\n",
        "            nn.ReLU()\n",
        "        )\n",
        "\n",
        "        self.pooling_3 = nn.Sequential(\n",
        "            nn.MaxPool2d(kernel_size = (1, 11), stride = (1, 2), padding = (0, 5), dilation =(1, 4))\n",
        "        )\n",
        "\n",
        "        self.cnn_4 = nn.Sequential(\n",
        "            ComplexConv1d(16, 8, kernel_size = 11, stride = 1, padding = 5, dilation = 1),\n",
        "            nn.ReLU(),\n",
        "            ComplexConv1d(8, 4, kernel_size = 11, stride = 1, padding = 5, dilation = 1),\n",
        "            nn.ReLU(),\n",
        "            ComplexConv1d(4, 1, kernel_size = 11, stride = 1, padding = 5, dilation = 1),\n",
        "            nn.Sigmoid()\n",
        "        )\n",
        "\n",
        "                \n",
        "    def forward(self, x):\n",
        "        out = self.cnn_input_1(x)\n",
        "        out = self.pooling_1(out)\n",
        "        out = self.cnn_input_2(out)\n",
        "        out = self.pooling_2(out)\n",
        "        out = self.cnn_input_3(out)\n",
        "        out = self.pooling_3(out)\n",
        "        out = self.cnn_4(out)\n",
        "\n",
        "        out = torch.square(out)\n",
        "        out = torch.sum(out, dim = 1)\n",
        "\n",
        "        return out.reshape((batch_size, epoch_output))"
      ],
      "execution_count": 184,
      "outputs": []
    },
    {
      "cell_type": "code",
      "metadata": {
        "id": "6E94YV4Knjhh",
        "outputId": "0dc2d933-64b5-49b7-f2d3-334775b2573b",
        "colab": {
          "base_uri": "https://localhost:8080/"
        }
      },
      "source": [
        "model = ConvNet()\n",
        "out = model(x)\n",
        "out.size()"
      ],
      "execution_count": 185,
      "outputs": [
        {
          "output_type": "execute_result",
          "data": {
            "text/plain": [
              "torch.Size([4, 60])"
            ]
          },
          "metadata": {
            "tags": []
          },
          "execution_count": 185
        }
      ]
    },
    {
      "cell_type": "code",
      "metadata": {
        "id": "7K4paUuyAF49"
      },
      "source": [
        "# Loss and optimizer\n",
        "criterion = nn.BCELoss()\n",
        "optimizer = torch.optim.SGD(model.parameters(), lr=learning_rate)"
      ],
      "execution_count": 186,
      "outputs": []
    },
    {
      "cell_type": "code",
      "metadata": {
        "id": "GexCf7bHAHcs",
        "outputId": "024d60a2-369e-4634-d06f-f6fa697e45a6",
        "colab": {
          "base_uri": "https://localhost:8080/"
        }
      },
      "source": [
        "criterion(out, y)"
      ],
      "execution_count": 187,
      "outputs": [
        {
          "output_type": "execute_result",
          "data": {
            "text/plain": [
              "tensor(0.5587, grad_fn=<BinaryCrossEntropyBackward>)"
            ]
          },
          "metadata": {
            "tags": []
          },
          "execution_count": 187
        }
      ]
    },
    {
      "cell_type": "code",
      "metadata": {
        "id": "zJ96tAXBAPA8"
      },
      "source": [
        "## estimate a relevant nb of total step\n",
        "test_step = 100\n",
        "total_step = 50000"
      ],
      "execution_count": 189,
      "outputs": []
    },
    {
      "cell_type": "code",
      "metadata": {
        "id": "YMBB-I6cAKSv",
        "outputId": "f2f41c87-7748-452c-c4e3-38d825abcf0f",
        "colab": {
          "base_uri": "https://localhost:8080/",
          "height": 1000
        }
      },
      "source": [
        "# Train the model\n",
        "list_score =[]\n",
        "list_loss = []\n",
        "for i in range(total_step):\n",
        "    \n",
        "    # Train the model\n",
        "    model.train()\n",
        "    (x,y) = train.sample() \n",
        "    # x, y = x.to(device), y.to(device)\n",
        "\n",
        "    # Run the forward pass\n",
        "    out = model(x)\n",
        "    loss = criterion(out, y)\n",
        "\n",
        "    # Backprop and perform optimisation\n",
        "    optimizer.zero_grad()\n",
        "    loss.backward()\n",
        "    optimizer.step()\n",
        "    \n",
        "\n",
        "    if (i + 1) % 1000 == 0:  \n",
        "        # Test the model\n",
        "        model.eval()\n",
        "        with torch.no_grad():\n",
        "            real = []\n",
        "            estim = []\n",
        "            for k in range(test_step):\n",
        "                (x,y) = test.sample()\n",
        "                # x, y = x.to(device), y.to(device)\n",
        "                out = model(x)\n",
        "                \n",
        "                # dive prediction\n",
        "                real.append( y.cpu().reshape(batch_size*epoch_output).detach().numpy() )\n",
        "                estim.append( out.cpu().reshape(batch_size*epoch_output).detach().numpy() )\n",
        "\n",
        "            real = np.hstack(real)\n",
        "            estim = np.hstack(estim)\n",
        "\n",
        "            # no dive prediction performance\n",
        "            no_dive_prediction = [estim[i] for i in range(estim.shape[0]) if not real[i]]\n",
        "            true_no_dive = 1-np.sum(no_dive_prediction)/len(no_dive_prediction)\n",
        "\n",
        "            # dive prediction performance\n",
        "            dive_prediction = [estim[i] for i in range(estim.shape[0]) if real[i]]\n",
        "            true_dive = np.sum(dive_prediction)/len(dive_prediction)\n",
        "        \n",
        "            score = (true_no_dive + true_dive)/2\n",
        "\n",
        "            list_loss.append(loss.item())\n",
        "            list_score.append(score)\n",
        "\n",
        "\n",
        "        print('Step [{}/{}], Loss: {:.4f}, Accuracy: {} %'\n",
        "              .format(i + 1, total_step, loss.item(), score*100))"
      ],
      "execution_count": 191,
      "outputs": [
        {
          "output_type": "stream",
          "text": [
            "Step [1000/50000], Loss: 0.2516, Accuracy: 50.45231769998384 %\n",
            "Step [2000/50000], Loss: 0.3195, Accuracy: 51.61751315277727 %\n",
            "Step [3000/50000], Loss: 0.0966, Accuracy: 52.44986207813949 %\n",
            "Step [4000/50000], Loss: 0.1933, Accuracy: 53.31126579144504 %\n",
            "Step [5000/50000], Loss: 0.2402, Accuracy: 52.27932932998305 %\n",
            "Step [6000/50000], Loss: 0.2164, Accuracy: 54.006049300051515 %\n",
            "Step [7000/50000], Loss: 0.2611, Accuracy: 54.05325827258955 %\n",
            "Step [8000/50000], Loss: 0.2118, Accuracy: 53.98511030838639 %\n",
            "Step [9000/50000], Loss: 0.0837, Accuracy: 54.0052204692536 %\n",
            "Step [10000/50000], Loss: 0.1109, Accuracy: 54.19612658150401 %\n",
            "Step [11000/50000], Loss: 0.1327, Accuracy: 54.1396230702339 %\n",
            "Step [12000/50000], Loss: 0.1192, Accuracy: 54.1665077626149 %\n",
            "Step [13000/50000], Loss: 0.2048, Accuracy: 54.40282215550578 %\n",
            "Step [14000/50000], Loss: 0.1563, Accuracy: 54.40167494814572 %\n",
            "Step [15000/50000], Loss: 0.1225, Accuracy: 54.20424200077577 %\n",
            "Step [16000/50000], Loss: 0.0992, Accuracy: 54.94842188639233 %\n",
            "Step [17000/50000], Loss: 0.3084, Accuracy: 55.143685568906484 %\n",
            "Step [18000/50000], Loss: 0.2223, Accuracy: 54.43186144630179 %\n",
            "Step [19000/50000], Loss: 0.2502, Accuracy: 54.48989489004662 %\n",
            "Step [20000/50000], Loss: 0.0278, Accuracy: 55.327421134351816 %\n",
            "Step [21000/50000], Loss: 0.2035, Accuracy: 54.16753066534693 %\n",
            "Step [22000/50000], Loss: 0.0837, Accuracy: 54.47319054774322 %\n",
            "Step [23000/50000], Loss: 0.1133, Accuracy: 54.29991529834527 %\n",
            "Step [24000/50000], Loss: 0.1432, Accuracy: 54.88151483138834 %\n",
            "Step [25000/50000], Loss: 0.2164, Accuracy: 54.68859645923116 %\n",
            "Step [26000/50000], Loss: 0.2325, Accuracy: 54.24886904279131 %\n",
            "Step [27000/50000], Loss: 0.1330, Accuracy: 54.341953495482386 %\n",
            "Step [28000/50000], Loss: 0.2812, Accuracy: 55.64729538368507 %\n",
            "Step [29000/50000], Loss: 0.2891, Accuracy: 53.868962198945766 %\n",
            "Step [30000/50000], Loss: 0.1015, Accuracy: 53.89738695925793 %\n",
            "Step [31000/50000], Loss: 0.2994, Accuracy: 55.24369833496914 %\n",
            "Step [32000/50000], Loss: 0.3432, Accuracy: 54.77913327573718 %\n",
            "Step [33000/50000], Loss: 0.2921, Accuracy: 54.298304968332445 %\n"
          ],
          "name": "stdout"
        },
        {
          "output_type": "error",
          "ename": "KeyboardInterrupt",
          "evalue": "ignored",
          "traceback": [
            "\u001b[0;31m---------------------------------------------------------------------------\u001b[0m",
            "\u001b[0;31mKeyboardInterrupt\u001b[0m                         Traceback (most recent call last)",
            "\u001b[0;32m<ipython-input-191-8fe6a93203fb>\u001b[0m in \u001b[0;36m<module>\u001b[0;34m()\u001b[0m\n\u001b[1;32m     15\u001b[0m     \u001b[0;31m# Backprop and perform optimisation\u001b[0m\u001b[0;34m\u001b[0m\u001b[0;34m\u001b[0m\u001b[0;34m\u001b[0m\u001b[0m\n\u001b[1;32m     16\u001b[0m     \u001b[0moptimizer\u001b[0m\u001b[0;34m.\u001b[0m\u001b[0mzero_grad\u001b[0m\u001b[0;34m(\u001b[0m\u001b[0;34m)\u001b[0m\u001b[0;34m\u001b[0m\u001b[0;34m\u001b[0m\u001b[0m\n\u001b[0;32m---> 17\u001b[0;31m     \u001b[0mloss\u001b[0m\u001b[0;34m.\u001b[0m\u001b[0mbackward\u001b[0m\u001b[0;34m(\u001b[0m\u001b[0;34m)\u001b[0m\u001b[0;34m\u001b[0m\u001b[0;34m\u001b[0m\u001b[0m\n\u001b[0m\u001b[1;32m     18\u001b[0m     \u001b[0moptimizer\u001b[0m\u001b[0;34m.\u001b[0m\u001b[0mstep\u001b[0m\u001b[0;34m(\u001b[0m\u001b[0;34m)\u001b[0m\u001b[0;34m\u001b[0m\u001b[0;34m\u001b[0m\u001b[0m\n\u001b[1;32m     19\u001b[0m \u001b[0;34m\u001b[0m\u001b[0m\n",
            "\u001b[0;32m/usr/local/lib/python3.6/dist-packages/torch/tensor.py\u001b[0m in \u001b[0;36mbackward\u001b[0;34m(self, gradient, retain_graph, create_graph)\u001b[0m\n\u001b[1;32m    183\u001b[0m                 \u001b[0mproducts\u001b[0m\u001b[0;34m.\u001b[0m \u001b[0mDefaults\u001b[0m \u001b[0mto\u001b[0m\u001b[0;31m \u001b[0m\u001b[0;31m`\u001b[0m\u001b[0;31m`\u001b[0m\u001b[0;32mFalse\u001b[0m\u001b[0;31m`\u001b[0m\u001b[0;31m`\u001b[0m\u001b[0;34m.\u001b[0m\u001b[0;34m\u001b[0m\u001b[0;34m\u001b[0m\u001b[0m\n\u001b[1;32m    184\u001b[0m         \"\"\"\n\u001b[0;32m--> 185\u001b[0;31m         \u001b[0mtorch\u001b[0m\u001b[0;34m.\u001b[0m\u001b[0mautograd\u001b[0m\u001b[0;34m.\u001b[0m\u001b[0mbackward\u001b[0m\u001b[0;34m(\u001b[0m\u001b[0mself\u001b[0m\u001b[0;34m,\u001b[0m \u001b[0mgradient\u001b[0m\u001b[0;34m,\u001b[0m \u001b[0mretain_graph\u001b[0m\u001b[0;34m,\u001b[0m \u001b[0mcreate_graph\u001b[0m\u001b[0;34m)\u001b[0m\u001b[0;34m\u001b[0m\u001b[0;34m\u001b[0m\u001b[0m\n\u001b[0m\u001b[1;32m    186\u001b[0m \u001b[0;34m\u001b[0m\u001b[0m\n\u001b[1;32m    187\u001b[0m     \u001b[0;32mdef\u001b[0m \u001b[0mregister_hook\u001b[0m\u001b[0;34m(\u001b[0m\u001b[0mself\u001b[0m\u001b[0;34m,\u001b[0m \u001b[0mhook\u001b[0m\u001b[0;34m)\u001b[0m\u001b[0;34m:\u001b[0m\u001b[0;34m\u001b[0m\u001b[0;34m\u001b[0m\u001b[0m\n",
            "\u001b[0;32m/usr/local/lib/python3.6/dist-packages/torch/autograd/__init__.py\u001b[0m in \u001b[0;36mbackward\u001b[0;34m(tensors, grad_tensors, retain_graph, create_graph, grad_variables)\u001b[0m\n\u001b[1;32m    125\u001b[0m     Variable._execution_engine.run_backward(\n\u001b[1;32m    126\u001b[0m         \u001b[0mtensors\u001b[0m\u001b[0;34m,\u001b[0m \u001b[0mgrad_tensors\u001b[0m\u001b[0;34m,\u001b[0m \u001b[0mretain_graph\u001b[0m\u001b[0;34m,\u001b[0m \u001b[0mcreate_graph\u001b[0m\u001b[0;34m,\u001b[0m\u001b[0;34m\u001b[0m\u001b[0;34m\u001b[0m\u001b[0m\n\u001b[0;32m--> 127\u001b[0;31m         allow_unreachable=True)  # allow_unreachable flag\n\u001b[0m\u001b[1;32m    128\u001b[0m \u001b[0;34m\u001b[0m\u001b[0m\n\u001b[1;32m    129\u001b[0m \u001b[0;34m\u001b[0m\u001b[0m\n",
            "\u001b[0;31mKeyboardInterrupt\u001b[0m: "
          ]
        }
      ]
    },
    {
      "cell_type": "code",
      "metadata": {
        "id": "WChViyAOAXqP"
      },
      "source": [
        ""
      ],
      "execution_count": null,
      "outputs": []
    }
  ]
}