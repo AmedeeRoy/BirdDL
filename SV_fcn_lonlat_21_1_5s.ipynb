{
 "cells": [
  {
   "cell_type": "markdown",
   "metadata": {
    "colab_type": "text",
    "id": "view-in-github"
   },
   "source": [
    "<a href=\"https://colab.research.google.com/github/AmedeeRoy/BirdDL/blob/main/SV_fcn_lonlat_21_1_5s.ipynb\" target=\"_parent\"><img src=\"https://colab.research.google.com/assets/colab-badge.svg\" alt=\"Open In Colab\"/></a>"
   ]
  },
  {
   "cell_type": "markdown",
   "metadata": {
    "id": "wk6zB5N3GZO9"
   },
   "source": [
    "# Dive Prediction - Deep Network\n",
    "\n",
    "*Predicting Seabird Diving Behaviour from GPS data*\n",
    "\n",
    "This notebook trains a neural network to predict seabirds' dives.\n",
    "\n",
    "Networks' characteristics:\n",
    "\n",
    "* *Trajectory window* : 11 x 5s\n",
    "* *Output resolution*: 1 x 55s\n",
    "* *Representation of trajectories* : Time series\n",
    "* *Layers* : convolutions"
   ]
  },
  {
   "cell_type": "markdown",
   "metadata": {
    "id": "kjVXwurrGghM"
   },
   "source": [
    "## connect to drive"
   ]
  },
  {
   "cell_type": "code",
   "execution_count": 1,
   "metadata": {
    "colab": {
     "base_uri": "https://localhost:8080/"
    },
    "id": "cPOjT66sGf3Y",
    "outputId": "c0dbcbe4-a2bb-46b3-a817-5148ab57a81c"
   },
   "outputs": [
    {
     "name": "stdout",
     "output_type": "stream",
     "text": [
      "Mounted at /content/drive/\n"
     ]
    }
   ],
   "source": [
    "# mount google drive\n",
    "from google.colab import drive\n",
    "drive.mount(\"/content/drive/\")"
   ]
  },
  {
   "cell_type": "code",
   "execution_count": 2,
   "metadata": {
    "colab": {
     "base_uri": "https://localhost:8080/"
    },
    "id": "u2R6nZsEGp2v",
    "outputId": "d5f15fe0-7e9d-46ba-d031-8dd304337ea7"
   },
   "outputs": [
    {
     "name": "stdout",
     "output_type": "stream",
     "text": [
      "/content/drive/My Drive\n"
     ]
    }
   ],
   "source": [
    "%cd drive/My\\ Drive/"
   ]
  },
  {
   "cell_type": "markdown",
   "metadata": {
    "id": "Engz1noUG1yL"
   },
   "source": [
    "## load data"
   ]
  },
  {
   "cell_type": "code",
   "execution_count": 1,
   "metadata": {
    "id": "vP2XmHbeGZO-"
   },
   "outputs": [],
   "source": [
    "import pandas as pd\n",
    "import numpy as np\n",
    "import matplotlib.pyplot as plt\n",
    "\n",
    "import torch\n",
    "from torch import nn\n",
    "from torch.utils.data import DataLoader, Dataset\n",
    "from torchvision import transforms\n",
    "\n",
    "from utils.trip import * "
   ]
  },
  {
   "cell_type": "code",
   "execution_count": 2,
   "metadata": {
    "id": "XroT0Q5mGZO_"
   },
   "outputs": [],
   "source": [
    "data_train = pd.read_csv('./data/SV_train.csv')\n",
    "data_validation = pd.read_csv('./data/SV_validation.csv')\n",
    "data_test = pd.read_csv('./data/SV_test.csv')"
   ]
  },
  {
   "cell_type": "markdown",
   "metadata": {
    "id": "2pnURReGyLju"
   },
   "source": [
    "## choose resolution"
   ]
  },
  {
   "cell_type": "code",
   "execution_count": 3,
   "metadata": {
    "colab": {
     "base_uri": "https://localhost:8080/",
     "height": 206
    },
    "id": "91vOylAmyLju",
    "outputId": "025c7ca5-3108-406e-c21f-b6b628014bb8"
   },
   "outputs": [
    {
     "data": {
      "text/html": [
       "<div>\n",
       "<style scoped>\n",
       "    .dataframe tbody tr th:only-of-type {\n",
       "        vertical-align: middle;\n",
       "    }\n",
       "\n",
       "    .dataframe tbody tr th {\n",
       "        vertical-align: top;\n",
       "    }\n",
       "\n",
       "    .dataframe thead th {\n",
       "        text-align: right;\n",
       "    }\n",
       "</style>\n",
       "<table border=\"1\" class=\"dataframe\">\n",
       "  <thead>\n",
       "    <tr style=\"text-align: right;\">\n",
       "      <th></th>\n",
       "      <th>trip</th>\n",
       "      <th>datetime</th>\n",
       "      <th>lon</th>\n",
       "      <th>lat</th>\n",
       "      <th>gaps</th>\n",
       "      <th>dive</th>\n",
       "      <th>step_speed</th>\n",
       "      <th>step_direction</th>\n",
       "      <th>lon_std</th>\n",
       "      <th>lat_std</th>\n",
       "      <th>step_speed_std</th>\n",
       "      <th>step_direction_cos</th>\n",
       "      <th>step_direction_sin</th>\n",
       "    </tr>\n",
       "  </thead>\n",
       "  <tbody>\n",
       "    <tr>\n",
       "      <th>2</th>\n",
       "      <td>P1108_46_SV_T4</td>\n",
       "      <td>2008-12-06 16:06:25</td>\n",
       "      <td>-77.265897</td>\n",
       "      <td>-11.774297</td>\n",
       "      <td>0.0</td>\n",
       "      <td>0</td>\n",
       "      <td>15.301035</td>\n",
       "      <td>26.025648</td>\n",
       "      <td>2.309584</td>\n",
       "      <td>0.788287</td>\n",
       "      <td>0.826924</td>\n",
       "      <td>0.898598</td>\n",
       "      <td>0.438773</td>\n",
       "    </tr>\n",
       "    <tr>\n",
       "      <th>3</th>\n",
       "      <td>P1108_46_SV_T4</td>\n",
       "      <td>2008-12-06 16:06:30</td>\n",
       "      <td>-77.266435</td>\n",
       "      <td>-11.774462</td>\n",
       "      <td>0.0</td>\n",
       "      <td>0</td>\n",
       "      <td>12.287117</td>\n",
       "      <td>-18.228550</td>\n",
       "      <td>2.293957</td>\n",
       "      <td>0.776022</td>\n",
       "      <td>0.663327</td>\n",
       "      <td>0.949816</td>\n",
       "      <td>-0.312808</td>\n",
       "    </tr>\n",
       "    <tr>\n",
       "      <th>4</th>\n",
       "      <td>P1108_46_SV_T4</td>\n",
       "      <td>2008-12-06 16:06:35</td>\n",
       "      <td>-77.266843</td>\n",
       "      <td>-11.774868</td>\n",
       "      <td>0.0</td>\n",
       "      <td>0</td>\n",
       "      <td>12.679214</td>\n",
       "      <td>-28.073536</td>\n",
       "      <td>2.282105</td>\n",
       "      <td>0.745841</td>\n",
       "      <td>0.684610</td>\n",
       "      <td>0.882344</td>\n",
       "      <td>-0.470604</td>\n",
       "    </tr>\n",
       "    <tr>\n",
       "      <th>5</th>\n",
       "      <td>P1108_46_SV_T4</td>\n",
       "      <td>2008-12-06 16:06:40</td>\n",
       "      <td>-77.267200</td>\n",
       "      <td>-11.775312</td>\n",
       "      <td>0.0</td>\n",
       "      <td>0</td>\n",
       "      <td>12.579325</td>\n",
       "      <td>-6.324066</td>\n",
       "      <td>2.271735</td>\n",
       "      <td>0.712835</td>\n",
       "      <td>0.679188</td>\n",
       "      <td>0.993915</td>\n",
       "      <td>-0.110152</td>\n",
       "    </tr>\n",
       "    <tr>\n",
       "      <th>6</th>\n",
       "      <td>P1108_46_SV_T4</td>\n",
       "      <td>2008-12-06 16:06:45</td>\n",
       "      <td>-77.267390</td>\n",
       "      <td>-11.775845</td>\n",
       "      <td>0.0</td>\n",
       "      <td>0</td>\n",
       "      <td>12.567659</td>\n",
       "      <td>-18.969971</td>\n",
       "      <td>2.266216</td>\n",
       "      <td>0.673214</td>\n",
       "      <td>0.678555</td>\n",
       "      <td>0.945689</td>\n",
       "      <td>-0.325073</td>\n",
       "    </tr>\n",
       "  </tbody>\n",
       "</table>\n",
       "</div>"
      ],
      "text/plain": [
       "             trip             datetime        lon        lat  gaps  dive  \\\n",
       "2  P1108_46_SV_T4  2008-12-06 16:06:25 -77.265897 -11.774297   0.0     0   \n",
       "3  P1108_46_SV_T4  2008-12-06 16:06:30 -77.266435 -11.774462   0.0     0   \n",
       "4  P1108_46_SV_T4  2008-12-06 16:06:35 -77.266843 -11.774868   0.0     0   \n",
       "5  P1108_46_SV_T4  2008-12-06 16:06:40 -77.267200 -11.775312   0.0     0   \n",
       "6  P1108_46_SV_T4  2008-12-06 16:06:45 -77.267390 -11.775845   0.0     0   \n",
       "\n",
       "   step_speed  step_direction   lon_std   lat_std  step_speed_std  \\\n",
       "2   15.301035       26.025648  2.309584  0.788287        0.826924   \n",
       "3   12.287117      -18.228550  2.293957  0.776022        0.663327   \n",
       "4   12.679214      -28.073536  2.282105  0.745841        0.684610   \n",
       "5   12.579325       -6.324066  2.271735  0.712835        0.679188   \n",
       "6   12.567659      -18.969971  2.266216  0.673214        0.678555   \n",
       "\n",
       "   step_direction_cos  step_direction_sin  \n",
       "2            0.898598            0.438773  \n",
       "3            0.949816           -0.312808  \n",
       "4            0.882344           -0.470604  \n",
       "5            0.993915           -0.110152  \n",
       "6            0.945689           -0.325073  "
      ]
     },
     "execution_count": 3,
     "metadata": {},
     "output_type": "execute_result"
    }
   ],
   "source": [
    "resolution = 5\n",
    "\n",
    "data_train_new = change_resolution(data_train, resolution)\n",
    "data_validation_new = change_resolution(data_validation, resolution)\n",
    "data_test_new = change_resolution(data_test, resolution)\n",
    "\n",
    "data_train_new = standardize_data(data_train_new)\n",
    "data_validation_new = standardize_data(data_validation_new)\n",
    "data_test_new = standardize_data(data_test_new)\n",
    "\n",
    "data_train_new.head()"
   ]
  },
  {
   "cell_type": "markdown",
   "metadata": {
    "id": "ywF0A-1tGZO_"
   },
   "source": [
    "## choose window"
   ]
  },
  {
   "cell_type": "code",
   "execution_count": 4,
   "metadata": {
    "id": "rg_mIte9GZO_"
   },
   "outputs": [],
   "source": [
    "# Hyperparameters\n",
    "window = 21\n",
    "variable = ('lon_std', 'lat_std')\n",
    "\n",
    "train_set = TrajDataSet(data_train_new, window, variable)"
   ]
  },
  {
   "cell_type": "code",
   "execution_count": 5,
   "metadata": {
    "colab": {
     "base_uri": "https://localhost:8080/",
     "height": 565
    },
    "id": "G26yrGdUGZO_",
    "outputId": "78e924cd-169b-4774-89b6-d21e63919fa3",
    "scrolled": true
   },
   "outputs": [
    {
     "data": {
      "image/png": "[encoded data removed]",
      "text/plain": [
       "<Figure size 1152x720 with 8 Axes>"
      ]
     },
     "metadata": {
      "needs_background": "light"
     },
     "output_type": "display_data"
    }
   ],
   "source": [
    "plt.figure(figsize=(16, 10))\n",
    "idx = np.random.randint(0, len(train_set), 4)\n",
    "c = Center()\n",
    "k = -1\n",
    "for i in idx:\n",
    "    k += 1\n",
    "    traj, matrix_dist, dive = c(train_set[i])\n",
    "\n",
    "    plt.subplot(2,4, k+1)\n",
    "    plt.imshow(matrix_dist)\n",
    "\n",
    "    plt.subplot(2,4, k+5)\n",
    "    plt.plot(traj[0,:], traj[1,:])\n",
    "    i = int(window/2)\n",
    "    if np.array(dive) == 1 :\n",
    "        plt.scatter(traj[0,i], traj[1,i], c= 'orange')\n",
    "    else:\n",
    "      plt.scatter(traj[0,i], traj[1,i])"
   ]
  },
  {
   "cell_type": "code",
   "execution_count": 6,
   "metadata": {},
   "outputs": [
    {
     "data": {
      "text/plain": [
       "72638"
      ]
     },
     "execution_count": 6,
     "metadata": {},
     "output_type": "execute_result"
    }
   ],
   "source": [
    "len(train_set)"
   ]
  },
  {
   "cell_type": "markdown",
   "metadata": {
    "id": "sJkiaEE2GZPA"
   },
   "source": [
    "# Neural Network"
   ]
  },
  {
   "cell_type": "code",
   "execution_count": 8,
   "metadata": {
    "id": "VBznxgYEGZPA"
   },
   "outputs": [],
   "source": [
    "# hyperparameters\n",
    "batch_size = 512\n",
    "\n",
    "## reduce size dataset\n",
    "train_set = TrajDataSet(data_train_new, window, variable, transform = transforms.Compose([Center(), ToTensor()]))\n",
    "validation_set = TrajDataSet(data_validation_new, window, variable, transform = transforms.Compose([Center(), ToTensor()]))\n",
    "\n",
    "train_loader = DataLoader(train_set, batch_size=batch_size, num_workers = 0, shuffle = True, drop_last=True)\n",
    "validation_loader = DataLoader(validation_set, batch_size=batch_size, num_workers = 0, shuffle = True, drop_last=True)"
   ]
  },
  {
   "cell_type": "code",
   "execution_count": 9,
   "metadata": {
    "id": "lhxDPuhUGZPB"
   },
   "outputs": [],
   "source": [
    "class FCNet(nn.Module):\n",
    "\n",
    "    def __init__(self):\n",
    "        super(FCNet, self).__init__()\n",
    "\n",
    "        self.cnn = nn.Sequential(\n",
    "            nn.Linear(2*21,100),\n",
    "            nn.ReLU(),\n",
    "            nn.Linear(100,500),\n",
    "            nn.ReLU(),\n",
    "            nn.Linear(500,500),\n",
    "            nn.ReLU(),\n",
    "            nn.Linear(500,500),\n",
    "            nn.ReLU(),\n",
    "            nn.Linear(500,1)\n",
    "        )\n",
    "\n",
    "    def forward(self, x):\n",
    "        out = x.reshape((x.size()[0], 1, 2*21))\n",
    "        out = self.cnn(out)\n",
    "        return out\n",
    "\n",
    "def get_score(out, y):\n",
    "    out, y = out.cpu(), y.cpu()\n",
    "    out = 1*(out>0)\n",
    "    true_positive = np.mean(out[y == True].numpy()) \n",
    "    true_negative = 1-np.mean(out[y == False].numpy())\n",
    "    \n",
    "    return (round(true_positive*100) , round(true_negative*100))"
   ]
  },
  {
   "cell_type": "code",
   "execution_count": 10,
   "metadata": {
    "colab": {
     "base_uri": "https://localhost:8080/"
    },
    "id": "lRi-Oun6GZPB",
    "outputId": "c734ff35-0c97-4439-aadd-464a825f6743"
   },
   "outputs": [
    {
     "data": {
      "text/plain": [
       "(0.0, 100.0)"
      ]
     },
     "execution_count": 10,
     "metadata": {
      "tags": []
     },
     "output_type": "execute_result"
    }
   ],
   "source": [
    "# get sample\n",
    "x, y, z = next(iter(train_loader)) \n",
    "weight = torch.FloatTensor([30])\n",
    "\n",
    "# Forward model\n",
    "model = FCNet()\n",
    "\n",
    "out = model(x)\n",
    "\n",
    "# Loss and score\n",
    "learning_rate = 0.01\n",
    "optimizer = torch.optim.Adam(model.parameters(), lr=learning_rate)\n",
    "criterion = nn.BCEWithLogitsLoss(pos_weight = weight)\n",
    "criterion(out, z)\n",
    "get_score(out, z)"
   ]
  },
  {
   "cell_type": "code",
   "execution_count": 11,
   "metadata": {
    "colab": {
     "base_uri": "https://localhost:8080/"
    },
    "id": "MrpxukCA-dg0",
    "outputId": "4c46e78d-ebe1-4f81-bfc2-d6c3a87c5e89"
   },
   "outputs": [
    {
     "data": {
      "text/plain": [
       "tensor(56.8889)"
      ]
     },
     "execution_count": 11,
     "metadata": {
      "tags": []
     },
     "output_type": "execute_result"
    }
   ],
   "source": [
    "## get Loss weight\n",
    "torch.sum(z==z)/torch.sum(z)"
   ]
  },
  {
   "cell_type": "markdown",
   "metadata": {
    "id": "hKIwYrQcGZPB"
   },
   "source": [
    "## Training"
   ]
  },
  {
   "cell_type": "code",
   "execution_count": 12,
   "metadata": {
    "id": "WsK522IKGZPB"
   },
   "outputs": [],
   "source": [
    "# switch to GPU\n",
    "model = FCNet()\n",
    "device = torch.device('cuda' if torch.cuda.is_available() else 'cpu')\n",
    "model = model.to(device)\n",
    "weight = weight.to(device)\n",
    "criterion = nn.BCEWithLogitsLoss(pos_weight = weight)"
   ]
  },
  {
   "cell_type": "code",
   "execution_count": 13,
   "metadata": {
    "colab": {
     "base_uri": "https://localhost:8080/"
    },
    "id": "0QzQPetaGZPB",
    "outputId": "469f8357-0d2e-4e4b-edf9-569ab99017ab",
    "scrolled": true
   },
   "outputs": [
    {
     "name": "stdout",
     "output_type": "stream",
     "text": [
      "Epoch [1/5] -------------------------------------------------------------------------------------\n",
      "Train Loss: 1.06, Train True Positive : 56.48 %, Train True Negative : 71.44 %\n",
      "Validation Loss: 1.14, Validation True Positive : 46.45 %, Validation True Negative : 71.39 %\n",
      "Epoch [2/5] -------------------------------------------------------------------------------------\n",
      "Train Loss: 1.05, Train True Positive : 61.91 %, Train True Negative : 67.44 %\n",
      "Validation Loss: 1.12, Validation True Positive : 48.82 %, Validation True Negative : 68.79 %\n",
      "Epoch [3/5] -------------------------------------------------------------------------------------\n",
      "Train Loss: 1.05, Train True Positive : 63.24 %, Train True Negative : 66.79 %\n",
      "Validation Loss: 1.12, Validation True Positive : 50.47 %, Validation True Negative : 68.26 %\n"
     ]
    }
   ],
   "source": [
    "# Train the model\n",
    "nb_epoch = 5\n",
    "\n",
    "epoch_loss_train = []\n",
    "epoch_loss_validation = []\n",
    "step_loss_train = []\n",
    "step_loss_validation = []\n",
    "i = 0\n",
    "\n",
    "for epoch in range(nb_epoch):\n",
    "    learning_rate /= 10\n",
    "    optimizer = torch.optim.Adam(model.parameters(), lr=learning_rate)\n",
    "   \n",
    "    for batch, (x, y, z) in enumerate(train_loader):\n",
    "        i+=1\n",
    "        model.train()\n",
    "        # send to GPU\n",
    "        x, y, z = x.to(device), y.to(device), z.to(device)\n",
    "\n",
    "        # Run the forward pass\n",
    "        out = model(x)\n",
    "        loss = criterion(out, z)\n",
    "        \n",
    "        # Backprop and perform optimisation\n",
    "        optimizer.zero_grad()\n",
    "        loss.backward()\n",
    "        optimizer.step()\n",
    "\n",
    "        if i%16 == 0:\n",
    "            model.eval()\n",
    "            with torch.no_grad():      \n",
    "                j = 0\n",
    "                # evaluation\n",
    "                list_loss_train = []\n",
    "                list_score_train = []\n",
    "                for batch, (x, y, z) in enumerate(train_loader):\n",
    "                    j+= 1\n",
    "                    # send to GPU\n",
    "                    x, y, z = x.to(device), y.to(device), z.to(device)\n",
    "                    # Run the forward pass\n",
    "                    out =  model(x)\n",
    "                    loss = criterion(out, z)\n",
    "                    list_loss_train.append(loss.item())\n",
    "\n",
    "                train_loss = np.mean(list_loss_train)\n",
    "\n",
    "                k = 0\n",
    "                # validation\n",
    "                list_loss_validation = []\n",
    "                list_score_validation = []\n",
    "                for batch, (x, y, z) in enumerate(validation_loader):\n",
    "                    k+= 1\n",
    "                    # send to GPU\n",
    "                    x, y, z = x.to(device), y.to(device), z.to(device)\n",
    "                    # Run the forward pass\n",
    "                    out =  model(x)\n",
    "                    loss = criterion(out, z)\n",
    "                    score = get_score(out,z)\n",
    "                    list_loss_validation.append(loss.item())\n",
    "\n",
    "                validation_loss = np.mean(list_loss_validation)\n",
    "\n",
    "                step_loss_train.append(train_loss)\n",
    "                step_loss_validation.append(validation_loss)\n",
    "\n",
    "    ### Evaluation + Validation every epoch\n",
    "    model.eval()\n",
    "    with torch.no_grad():      \n",
    "        j = 0\n",
    "        # evaluation\n",
    "        list_loss_train = []\n",
    "        list_score_train = []\n",
    "        for batch, (x, y, z) in enumerate(train_loader):\n",
    "            j+= 1\n",
    "            # send to GPU\n",
    "            x, y, z = x.to(device), y.to(device), z.to(device)\n",
    "\n",
    "            # Run the forward pass\n",
    "            out =  model(x)\n",
    "            loss = criterion(out, z)\n",
    "            score = get_score(out,z)\n",
    "            list_loss_train.append(loss.item())\n",
    "            list_score_train.append(score)\n",
    "        \n",
    "        train_loss = np.mean(list_loss_train)\n",
    "        train_trueP = np.mean([tp for (tp, tn) in list_score_train])\n",
    "        train_trueN = np.mean([tn for (tp, tn) in list_score_train])\n",
    "            \n",
    "        k = 0\n",
    "        # validation\n",
    "        list_loss_validation = []\n",
    "        list_score_validation = []\n",
    "        for batch, (x, y, z) in enumerate(validation_loader):\n",
    "            k+= 1\n",
    "            # send to GPU\n",
    "            x, y, z = x.to(device), y.to(device), z.to(device)\n",
    "\n",
    "            # Run the forward pass\n",
    "            out =  model(x)\n",
    "            loss = criterion(out, z)\n",
    "            score = get_score(out,z)\n",
    "            list_loss_validation.append(loss.item())\n",
    "            list_score_validation.append(score)\n",
    "\n",
    "        validation_loss = np.mean(list_loss_validation)\n",
    "        validation_trueP = np.mean([tp for (tp, tn) in list_score_validation])\n",
    "        validation_trueN = np.mean([tn for (tp, tn) in list_score_validation])\n",
    "\n",
    "    print('Epoch [{}/{}] -------------------------------------------------------------------------------------'\n",
    "          .format(epoch+1, nb_epoch))\n",
    "    print('Train Loss: {}, Train True Positive : {} %, Train True Negative : {} %'\n",
    "            .format(round(train_loss, 2), round(train_trueP, 2), round(train_trueN, 2)))\n",
    "    print('Validation Loss: {}, Validation True Positive : {} %, Validation True Negative : {} %'\n",
    "            .format(round(validation_loss, 2), round(validation_trueP, 2), round(validation_trueN, 2)))\n",
    "    \n",
    "\n",
    "    epoch_loss_train.append(train_loss)\n",
    "    epoch_loss_validation.append(validation_loss)\n",
    "    #### STOP WHEN VALIDATION DECREASE\n",
    "    if epoch>1:\n",
    "      if epoch_loss_validation[-2] < epoch_loss_validation[-1]:\n",
    "        break"
   ]
  },
  {
   "cell_type": "code",
   "execution_count": 20,
   "metadata": {
    "colab": {
     "base_uri": "https://localhost:8080/",
     "height": 299
    },
    "id": "0o4XT8wLNB0W",
    "outputId": "5e7288a3-a4d0-4a96-e785-f6a3eb362040"
   },
   "outputs": [
    {
     "data": {
      "text/plain": [
       "<matplotlib.legend.Legend at 0x7fd054855048>"
      ]
     },
     "execution_count": 20,
     "metadata": {
      "tags": []
     },
     "output_type": "execute_result"
    },
    {
     "data": {
      "image/png": "[encoded data removed]",
      "text/plain": [
       "<Figure size 432x288 with 1 Axes>"
      ]
     },
     "metadata": {
      "needs_background": "light",
      "tags": []
     },
     "output_type": "display_data"
    }
   ],
   "source": [
    "plt.title('Loss vs time')\n",
    "plt.plot(step_loss_train, label = 'train')\n",
    "plt.plot(step_loss_validation, label = 'validation')\n",
    "plt.legend()"
   ]
  },
  {
   "cell_type": "markdown",
   "metadata": {
    "id": "yeruQM_iGZPB"
   },
   "source": [
    "## Testing"
   ]
  },
  {
   "cell_type": "code",
   "execution_count": 21,
   "metadata": {
    "colab": {
     "base_uri": "https://localhost:8080/"
    },
    "id": "zUGwcHNTGZPB",
    "outputId": "fed63e8a-8bdb-499e-adc2-5e81488f9d10",
    "scrolled": true
   },
   "outputs": [
    {
     "name": "stdout",
     "output_type": "stream",
     "text": [
      "P1108_6_SV_T2\n",
      "P1111_41_SV_T3\n",
      "P1111_41_SV_T6\n",
      "P1112_10_SV_T2\n",
      "P1112_18_SV_T1\n",
      "P1112_20_SV_T4\n",
      "P1112_27_SV_T3\n",
      "P1112_29_SV_T1\n",
      "P1112_31_SV_T3\n",
      "P1113_14_SV_T1\n",
      "P1113_19_SV_T2\n",
      "P1113_33_SV_T1\n",
      "P1113_41_SV_T2\n"
     ]
    }
   ],
   "source": [
    "dive_estim = []\n",
    "\n",
    "for i in data_test_new.trip.unique():\n",
    "    # create dataset for a trajectory\n",
    "    t = data_test_new[data_test_new.trip == i].copy()    \n",
    "    test_set = TrajDataSet(t, window, variable, transform = transforms.Compose([Center(), ToTensor()]))\n",
    "\n",
    "    model.eval()\n",
    "    estim = [0 for i in range(10)]\n",
    "    k = 0\n",
    "    with torch.no_grad():\n",
    "        for (x, y, z) in test_set:\n",
    "            # send to GPU\n",
    "            x, y = x.to(device), y.to(device)\n",
    "\n",
    "            # Run the forward pass\n",
    "            out = model(x)\n",
    "            \n",
    "            estim.append(out.cpu().squeeze().numpy())\n",
    "\n",
    "    estim = estim + [0 for i in range(10)]\n",
    "    dive_estim.append(estim)\n",
    "\n",
    "\n",
    "\n",
    "    print(i)\n",
    "\n",
    "data_test_new['prediction'] = 1/(1+np.exp(-np.hstack(dive_estim)))"
   ]
  },
  {
   "cell_type": "code",
   "execution_count": 22,
   "metadata": {
    "colab": {
     "base_uri": "https://localhost:8080/",
     "height": 338
    },
    "id": "EeXfQHLQGZPC",
    "outputId": "972bba0e-3a86-44d0-99d0-a5fce11c2c90"
   },
   "outputs": [
    {
     "data": {
      "text/plain": [
       "<matplotlib.collections.PathCollection at 0x7fd0018a1390>"
      ]
     },
     "execution_count": 22,
     "metadata": {
      "tags": []
     },
     "output_type": "execute_result"
    },
    {
     "data": {
      "image/png": "[encoded data removed]",
      "text/plain": [
       "<Figure size 864x360 with 2 Axes>"
      ]
     },
     "metadata": {
      "needs_background": "light",
      "tags": []
     },
     "output_type": "display_data"
    }
   ],
   "source": [
    "t = data_test_new[data_test_new.trip == 'P1108_6_SV_T2'].copy() \n",
    "\n",
    "plt.figure(figsize= (12, 5))\n",
    "plt.subplot(1, 2, 1)\n",
    "plt.plot(np.array(t.lon), np.array(t.lat))\n",
    "plt.scatter(t.lon[t.dive == 1], t.lat[t.dive == 1], c = 'orange')\n",
    "\n",
    "plt.subplot(1, 2, 2)\n",
    "plt.plot(np.array(t.lon), np.array(t.lat))\n",
    "plt.scatter(t.lon[t.prediction > 0.5], t.lat[t.prediction > 0.5], c = 'red')"
   ]
  },
  {
   "cell_type": "markdown",
   "metadata": {
    "id": "tP2kP_UzGZPC"
   },
   "source": [
    "# ROC curve\n",
    "\n",
    "Change the decision threshold"
   ]
  },
  {
   "cell_type": "code",
   "execution_count": 23,
   "metadata": {
    "colab": {
     "base_uri": "https://localhost:8080/",
     "height": 297
    },
    "id": "QGtA82JiGZPC",
    "outputId": "204270f3-579b-47da-aef8-5fafd7f2ccad"
   },
   "outputs": [
    {
     "data": {
      "text/plain": [
       "[<matplotlib.lines.Line2D at 0x7fd00186b5f8>]"
      ]
     },
     "execution_count": 23,
     "metadata": {
      "tags": []
     },
     "output_type": "execute_result"
    },
    {
     "data": {
      "image/png": "[encoded data removed]",
      "text/plain": [
       "<Figure size 432x288 with 1 Axes>"
      ]
     },
     "metadata": {
      "needs_background": "light",
      "tags": []
     },
     "output_type": "display_data"
    }
   ],
   "source": [
    "fig, ax = plt.subplots()\n",
    "ax.set_aspect('equal')\n",
    "ax.set_xlabel('False Positive Rate')\n",
    "ax.set_ylabel('True Positive Rate')\n",
    "\n",
    "# globally\n",
    "TP = []\n",
    "FP = []\n",
    "\n",
    "for tt in np.arange(0,1,0.001):\n",
    "    all_estim = 1* (data_test_new.prediction > tt)\n",
    "    true_positive = np.mean(all_estim[data_test_new.dive == 1])\n",
    "    true_negative = 1-np.mean(all_estim[data_test_new.dive == 0])\n",
    "    TP.append(true_positive)\n",
    "    FP.append(1-true_negative)\n",
    "\n",
    "plt.plot(np.array(FP), np.array(TP))"
   ]
  },
  {
   "cell_type": "markdown",
   "metadata": {
    "id": "Vlr-DB-LD4t1"
   },
   "source": [
    "# Export Probabilities"
   ]
  },
  {
   "cell_type": "code",
   "execution_count": 24,
   "metadata": {
    "id": "hero3SJRSEve"
   },
   "outputs": [],
   "source": [
    "data_test_new.to_csv('SV_fcn_lonlat_21_1_5s.csv', index = False)"
   ]
  },
  {
   "cell_type": "code",
   "execution_count": 25,
   "metadata": {
    "id": "t-VxwxtC1Zml"
   },
   "outputs": [],
   "source": [
    "loss = {'step_loss_train':  step_loss_train,\n",
    "        'step_loss_validation': step_loss_validation\n",
    "        }\n",
    "\n",
    "df = pd.DataFrame (loss, columns = ['step_loss_train','step_loss_validation'])\n",
    "df.to_csv('SV_fcn_lonlat_21_1_5s_LOSS.csv', index = False)"
   ]
  },
  {
   "cell_type": "code",
   "execution_count": null,
   "metadata": {
    "id": "0IcffL7v4zJ2"
   },
   "outputs": [],
   "source": []
  }
 ],
 "metadata": {
  "colab": {
   "collapsed_sections": [],
   "include_colab_link": true,
   "name": "SV_fcn_lonlat_11_1_5s.ipynb",
   "provenance": []
  },
  "kernelspec": {
   "display_name": "Python 3",
   "language": "python",
   "name": "python3"
  },
  "language_info": {
   "codemirror_mode": {
    "name": "ipython",
    "version": 3
   },
   "file_extension": ".py",
   "mimetype": "text/x-python",
   "name": "python",
   "nbconvert_exporter": "python",
   "pygments_lexer": "ipython3",
   "version": "3.7.4"
  }
 },
 "nbformat": 4,
 "nbformat_minor": 1
}
